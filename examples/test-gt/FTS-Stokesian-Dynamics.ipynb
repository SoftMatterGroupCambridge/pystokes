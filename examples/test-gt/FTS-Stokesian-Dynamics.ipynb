{
 "cells": [
  {
   "cell_type": "code",
   "execution_count": 1,
   "id": "faa77af8-a1f5-4481-a080-c522d811110c",
   "metadata": {},
   "outputs": [],
   "source": [
    "%matplotlib inline\n",
    "import pystokes, autograd.numpy as np, matplotlib.pyplot as plt\n",
    "from autograd import grad"
   ]
  },
  {
   "cell_type": "code",
   "execution_count": 2,
   "id": "e6b14320-bdae-4767-aa93-8e045ab06de0",
   "metadata": {},
   "outputs": [],
   "source": [
    "# particle radius, self-propulsion speed, number and fluid viscosity\n",
    "b, Np, eta = 1.0, 2, 0.1\n",
    "PI = 3.14159265359"
   ]
  },
  {
   "cell_type": "code",
   "execution_count": 3,
   "id": "36110d0d-fdd0-4a24-9d36-1ecf60f89bf8",
   "metadata": {},
   "outputs": [],
   "source": [
    "## matrix elements for i=j\n",
    "G01s = 1./(6*PI*eta*b)\n",
    "G02a = 1./(4*PI*eta*b)\n",
    "G02s = 3./(20*PI*eta*b)"
   ]
  },
  {
   "cell_type": "code",
   "execution_count": 4,
   "id": "006c1ecc-d4fe-4a79-b0fc-a96404645481",
   "metadata": {},
   "outputs": [],
   "source": [
    "## basics for i!=j, hard-coded version is faster (see below)\n",
    "\n",
    "def G(xij,yij,zij, alpha,beta): #G_alpha beta\n",
    "    rij = np.array([xij,yij,zij])\n",
    "    r = np.linalg.norm(rij)\n",
    "    return ((np.identity(3)/r + np.outer(rij,rij)/r**3)/(8*eta*PI))[alpha,beta]\n",
    "\n",
    "def delG(xij,yij,zij, alpha,beta,gamma): #G_alpha beta, gamma = nabla_gamma G_alpha beta\n",
    "    rij = np.array([xij,yij,zij])\n",
    "    r = np.linalg.norm(rij)\n",
    "    t1 = -np.einsum('ij,k',np.identity(3),rij)/r**3\n",
    "    t2 = (np.einsum('ik,j',np.identity(3),rij) \n",
    "           + np.einsum('jk,i',np.identity(3),rij))/r**3\n",
    "    t3 = -3*np.einsum('i,j,k',rij,rij,rij)/r**5\n",
    "    return ((t1 + t2 + t3)/(8*eta*PI))[alpha,beta,gamma]\n",
    "\n",
    "def lapG(xij,yij,zij, alpha,beta): # nabla^2 G_alpha beta\n",
    "    rij = np.array([xij,yij,zij])\n",
    "    r = np.linalg.norm(rij)\n",
    "    return ((np.identity(3)/r**3 - 3*np.outer(rij,rij)/r**5)/(4*eta*PI))[alpha,\n",
    "                                                                       beta]"
   ]
  },
  {
   "cell_type": "code",
   "execution_count": 5,
   "id": "7eb746a7-2c63-4bcc-b04d-aa6349addbaa",
   "metadata": {},
   "outputs": [],
   "source": [
    "epsilon = lambda i,j,k:(i-j)*(j-k)*(k-i)/2."
   ]
  },
  {
   "cell_type": "code",
   "execution_count": 6,
   "id": "43fe9c6b-54c8-4600-8735-2c882f3a0d5d",
   "metadata": {},
   "outputs": [],
   "source": [
    "def delGauto(xij,yij,zij, alpha,beta,gamma):\n",
    "    return grad(G,gamma)(xij,yij,zij, alpha,beta)"
   ]
  },
  {
   "cell_type": "code",
   "execution_count": 9,
   "id": "be582624-bd56-44ee-bd54-e8791ab458ca",
   "metadata": {},
   "outputs": [
    {
     "name": "stdout",
     "output_type": "stream",
     "text": [
      "CPU times: user 253 µs, sys: 0 ns, total: 253 µs\n",
      "Wall time: 248 µs\n"
     ]
    },
    {
     "data": {
      "text/plain": [
       "0.026422836354853946"
      ]
     },
     "execution_count": 9,
     "metadata": {},
     "output_type": "execute_result"
    }
   ],
   "source": [
    "%%time\n",
    "delG(0.,1.,3., 1,2,1) ##hard-coded"
   ]
  },
  {
   "cell_type": "code",
   "execution_count": 10,
   "id": "f39dbd84-feae-4e75-85e2-60149452ba85",
   "metadata": {},
   "outputs": [
    {
     "name": "stdout",
     "output_type": "stream",
     "text": [
      "CPU times: user 33.4 ms, sys: 0 ns, total: 33.4 ms\n",
      "Wall time: 32.7 ms\n"
     ]
    },
    {
     "data": {
      "text/plain": [
       "0.02642283635485395"
      ]
     },
     "execution_count": 10,
     "metadata": {},
     "output_type": "execute_result"
    }
   ],
   "source": [
    "%%time\n",
    "delGauto(0.,1.,3., 1,2,1) ##autograd"
   ]
  },
  {
   "cell_type": "markdown",
   "id": "17af4663-7587-4e8e-8b41-7671e0ef6cbe",
   "metadata": {},
   "source": [
    "--> use hard-coded version whenever possible"
   ]
  },
  {
   "cell_type": "code",
   "execution_count": 11,
   "id": "02e8b9ae-ccf8-4f91-88a0-38184e1f9a84",
   "metadata": {},
   "outputs": [],
   "source": [
    "## RBM matrix elements: G^LL for i!=j\n",
    "\n",
    "def G1s1s(xij,yij,zij, alpha,beta):\n",
    "    return (G(xij,yij,zij, alpha,beta)\n",
    "            +b**2/3.*lapG(xij,yij,zij, alpha,beta))\n",
    "\n",
    "def G1s2a(xij,yij,zij, alpha,beta):\n",
    "    g1s2a=0.\n",
    "    for nu in range(3):\n",
    "        for eta in range(3):\n",
    "            g1s2a += epsilon(beta,nu,eta)*delG(xij,yij,zij,alpha,eta,nu)\n",
    "    return -0.5*b*g1s2a\n",
    "\n",
    "def G2a1s(xij,yij,zij, alpha,beta):\n",
    "    g2a1s=0\n",
    "    for nu in range(3):\n",
    "        for eta in range(3):\n",
    "            g2a1s += epsilon(alpha,nu,eta)*delG(xij,yij,zij,eta,beta,nu)\n",
    "    return 0.5*g2a1s\n",
    "\n",
    "def G2a2a(xij,yij,zij, alpha,beta):\n",
    "    g2a2a=0\n",
    "    for mu in range(3):\n",
    "        for kappa in range(3):\n",
    "            g2a2a += epsilon(alpha,mu,kappa)*delG1s2a(xij,yij,zij, kappa,beta,mu)\n",
    "    return -0.25*b*g2a2a\n",
    "\n",
    "## auxiliary functions \n",
    "def delG1s2a(xij,yij,zij, kappa,beta,mu):\n",
    "        return grad(G1s2a, mu)(xij,yij,zij, kappa,beta)"
   ]
  },
  {
   "cell_type": "code",
   "execution_count": 12,
   "id": "ffffc5bf-a2a6-4ac9-b669-e02818044834",
   "metadata": {},
   "outputs": [],
   "source": [
    "## G^LH and G^HL matrix elements for i!=j\n",
    "\n",
    "def G1s2s(xij,yij,zij, alpha,kappa1,beta):\n",
    "    g1s2s = 0\n",
    "    g1s2s += (delG(xij,yij,zij, alpha,beta,kappa1)\n",
    "              + delG(xij,yij,zij, alpha,kappa1,beta))\n",
    "    g1s2s += 4*b*b/15.*(dellapG(xij,yij,zij, alpha,beta,kappa1) \n",
    "                        + dellapG(xij,yij,zij, alpha,kappa1,beta))\n",
    "    return -0.5*b*g1s2s\n",
    "              \n",
    "def G2a2s(xij,yij,zij, alpha,kappa1,beta):\n",
    "    g2a2s=0\n",
    "    for nu in range(3):\n",
    "        for eta in range(3):\n",
    "            g2a2s += epsilon(alpha,nu,eta)*(deldelG(xij,yij,zij, eta,beta,kappa1,nu)\n",
    "                                            + deldelG(xij,yij,zij, eta,kappa1,beta,nu))\n",
    "    return -0.25*b*g2a2s\n",
    "\n",
    "def G2s1s(xij,yij,zij, alpha,gamma1,beta):\n",
    "    g2s1s = 0\n",
    "    g2s1s += (delG(xij,yij,zij, alpha,beta,gamma1)\n",
    "              + delG(xij,yij,zij, gamma1,beta,alpha))\n",
    "    g2s1s += 4*b*b/15.*(dellapG(xij,yij,zij, alpha,beta,gamma1) \n",
    "                        + dellapG(xij,yij,zij, gamma1,beta,alpha))\n",
    "    return 0.5*b*g2s1s\n",
    "\n",
    "def G2s2a(xij,yij,zij, alpha,gamma1,mu):\n",
    "    g2s2a=0\n",
    "    for kappa1 in range(3):\n",
    "        for beta in range(3):\n",
    "            g2s2a += epsilon(beta,kappa1,mu)*(deldelG(xij,yij,zij, gamma1,beta,alpha,kappa1)\n",
    "                                            + deldelG(xij,yij,zij, alpha,beta,gamma1,kappa1))\n",
    "    return 0.25*b*b*g2s2a\n",
    "\n",
    "## G^HH matrix element for i!=j\n",
    "\n",
    "def G2s2s(xij,yij,zij, alpha,gamma1,kappa1,beta):\n",
    "    g2s2s = (deldelG(xij,yij,zij, alpha,beta,gamma1,kappa1) \n",
    "              + deldelG(xij,yij,zij, gamma1,beta,alpha,kappa1))\n",
    "    g2s2s += (deldelG(xij,yij,zij, alpha,kappa1,gamma1,beta) \n",
    "              + deldelG(xij,yij,zij, gamma1,kappa1,alpha,beta))\n",
    "    g2s2s += b*b/5.*(deldellapG(xij,yij,zij, alpha,beta,gamma1,kappa1)\n",
    "                     + deldellapG(xij,yij,zij, gamma1,beta,alpha,kappa1))\n",
    "    g2s2s += b*b/5.*(deldellapG(xij,yij,zij, alpha,kappa1,gamma1,beta)\n",
    "                     + deldellapG(xij,yij,zij, gamma1,kappa1,alpha,beta))\n",
    "    return -0.25*b*b*g2s2s\n",
    "              \n",
    "## auxiliary functions    \n",
    "def dellapG(xij,yij,zij, alpha,beta,kappa1):\n",
    "    return grad(lapG, kappa1)(xij,yij,zij, alpha,beta)\n",
    "\n",
    "def deldelG(xij,yij,zij, eta,beta,kappa1,nu):\n",
    "    return grad(delG, nu)(xij,yij,zij, eta,beta,kappa1)\n",
    "\n",
    "def deldellapG(xij,yij,zij, alpha,beta,gamma1,kappa1):\n",
    "    return grad(dellapG, kappa1)(xij,yij,zij, alpha,beta,gamma1)"
   ]
  },
  {
   "cell_type": "code",
   "execution_count": 13,
   "id": "8b9aea42-af5b-400b-96ac-b364e777c633",
   "metadata": {},
   "outputs": [],
   "source": [
    "## uniaxial parametrisation\n",
    "def Y2(ex,ey,ez, alpha,beta):\n",
    "    e = np.array([ex,ey,ez])\n",
    "    return (3*np.outer(e,e) - np.identity(3))[alpha,beta]"
   ]
  },
  {
   "cell_type": "code",
   "execution_count": 14,
   "id": "db4233b9-3a0a-465a-9e49-32696684ac5c",
   "metadata": {},
   "outputs": [],
   "source": [
    "## fill tensors for tensorsolve from indices above\n",
    "## RBM\n",
    "def tensorG1s1s(xij,yij,zij):\n",
    "    g=np.zeros([3,3])\n",
    "    for alpha in range(3):\n",
    "        for beta in range(3):\n",
    "            g[alpha,beta]=G1s1s(xij,yij,zij, alpha,beta)\n",
    "    return g\n",
    "\n",
    "def tensorG1s2a(xij,yij,zij):\n",
    "    g=np.zeros([3,3])\n",
    "    for alpha in range(3):\n",
    "        for beta in range(3):\n",
    "            g[alpha,beta]=G1s2a(xij,yij,zij, alpha,beta)\n",
    "    return g\n",
    "\n",
    "def tensorG2a1s(xij,yij,zij):\n",
    "    g=np.zeros([3,3])\n",
    "    for alpha in range(3):\n",
    "        for beta in range(3):\n",
    "            g[alpha,beta]=G2a1s(xij,yij,zij, alpha,beta)\n",
    "    return g\n",
    "\n",
    "def tensorG2a2a(xij,yij,zij):\n",
    "    g=np.zeros([3,3])\n",
    "    for alpha in range(3):\n",
    "        for beta in range(3):\n",
    "            g[alpha,beta]=G2a2a(xij,yij,zij, alpha,beta)\n",
    "    return g\n",
    "\n",
    "\n",
    "## higher order\n",
    "def tensorG1s2s(xij,yij,zij):\n",
    "    g=np.zeros([3,3,3])\n",
    "    for alpha in range(3):\n",
    "        for beta in range(3):\n",
    "            for gamma in range(3):\n",
    "                g[alpha,beta,gamma]=G1s2s(xij,yij,zij, alpha,beta,gamma)\n",
    "    return g\n",
    "\n",
    "def tensorG2a2s(xij,yij,zij):\n",
    "    g=np.zeros([3,3,3])\n",
    "    for alpha in range(3):\n",
    "        for beta in range(3):\n",
    "            for gamma in range(3):\n",
    "                g[alpha,beta,gamma]=G2a2s(xij,yij,zij, alpha,beta,gamma)\n",
    "    return g\n",
    "\n",
    "def tensorG2s1s(xij,yij,zij):\n",
    "    g=np.zeros([3,3,3])\n",
    "    for alpha in range(3):\n",
    "        for beta in range(3):\n",
    "            for gamma in range(3):\n",
    "                g[alpha,beta,gamma]=G2s1s(xij,yij,zij, alpha,beta,gamma)\n",
    "    return g\n",
    "\n",
    "def tensorG2s2a(xij,yij,zij):\n",
    "    g=np.zeros([3,3,3])\n",
    "    for alpha in range(3):\n",
    "        for beta in range(3):\n",
    "            for gamma in range(3):\n",
    "                g[alpha,beta,gamma]=G2s2a(xij,yij,zij, alpha,beta,gamma)\n",
    "    return g\n",
    "\n",
    "def tensorG2s2s(xij,yij,zij):\n",
    "    g=np.zeros([3,3,3,3])\n",
    "    for alpha in range(3):\n",
    "        for beta in range(3):\n",
    "            for gamma in range(3):\n",
    "                for delta in range(3):\n",
    "                    g[alpha,beta,gamma,delta]=G2s2s(xij,yij,zij, alpha,beta,gamma,delta)\n",
    "    return g\n",
    "\n",
    "\n",
    "##auxiliary tensors for uniaxial parametrisation\n",
    "def tensorY2(ex,ey,ez):\n",
    "    e = np.array([ex,ey,ez])\n",
    "    return (3*np.outer(e,e) - np.identity(3))\n",
    "\n",
    "def tensorG2s2sY2(xij,yij,zij,ex,ey,ez): ##LHS in lin system\n",
    "    return np.einsum('ijkl,kl',tensorG2s2s(xij,yij,zij),tensorY2(ex,ey,ez))\n",
    "\n",
    "def tensorG1s2sY2(xij,yij,zij,ex,ey,ez): \n",
    "    return np.einsum('ikl,kl',tensorG1s2s(xij,yij,zij),tensorY2(ex,ey,ez))\n",
    "\n",
    "def tensorG2a2sY2(xij,yij,zij,ex,ey,ez): \n",
    "    return np.einsum('ikl,kl',tensorG2a2s(xij,yij,zij),tensorY2(ex,ey,ez))"
   ]
  },
  {
   "cell_type": "code",
   "execution_count": 15,
   "id": "b983dc2d-259c-41f6-9ce2-cb420c042ec4",
   "metadata": {},
   "outputs": [],
   "source": [
    "def directSolve(v, o, r, F, T):\n",
    "    for i in range(Np):\n",
    "        v_ = np.zeros([3])\n",
    "        o_ = np.zeros([3])\n",
    "        for j in range(Np):\n",
    "            xij = r[i]    - r[j]\n",
    "            yij = r[i+Np]  - r[j+Np]\n",
    "            zij = r[i+2*Np]  - r[j+2*Np]\n",
    "            if i!=j:\n",
    "                force  = np.array([F[j],F[j+Np], F[j+2*Np]])\n",
    "                torque = np.array([T[j],T[j+Np], T[j+2*Np]])\n",
    "                                \n",
    "                lhs = tensorG2s2s(xij,yij,zij)\n",
    "                lhs_mat = np.reshape(lhs, (9,9))\n",
    "                lhs_mat_inv = np.linalg.pinv(lhs_mat)\n",
    "                lhs_inv = np.reshape(lhs_mat_inv, (3,3,3,3))\n",
    "                rhs = (np.dot(tensorG2s1s(xij,yij,zij), force) \n",
    "                       + 1./b * np.dot(tensorG2s2a(xij,yij,zij), torque))\n",
    "                F2s = np.einsum('ijkl, kl', lhs_inv, rhs)\n",
    "                \n",
    "                v_ += (np.dot(tensorG1s1s(xij,yij,zij), force)\n",
    "                      + 1./b * np.dot(tensorG1s2a(xij,yij,zij), torque)\n",
    "                      - np.einsum('ijk,jk',tensorG1s2s(xij,yij,zij),F2s))\n",
    "                \n",
    "                o_ += 0.5/b*(np.dot(tensorG2a1s(xij,yij,zij), force)\n",
    "                             + 1./b * np.dot(tensorG2a2a(xij,yij,zij), torque)\n",
    "                             - np.einsum('ijk,jk',tensorG2a2s(xij,yij,zij),F2s))\n",
    "                       \n",
    "            else:\n",
    "                force  = np.array([F[j],F[j+Np], F[j+2*Np]])\n",
    "                torque = np.array([T[j],T[j+Np], T[j+2*Np]])\n",
    "                \n",
    "                v_ += G01s*force\n",
    "                o_ += 1./b * G02a*torque\n",
    "                \n",
    "        v[i]      += v_[0]\n",
    "        v[i+Np]   += v_[1]\n",
    "        v[i+2*Np] += v_[2]\n",
    "        \n",
    "        o[i]      += o_[0]\n",
    "        o[i+Np]   += o_[1]\n",
    "        o[i+2*Np] += o_[2]\n",
    "    return"
   ]
  },
  {
   "cell_type": "code",
   "execution_count": 16,
   "id": "4a94d815-77d2-43d6-8bce-623cb65f4edd",
   "metadata": {},
   "outputs": [
    {
     "name": "stdout",
     "output_type": "stream",
     "text": [
      "finish\n",
      "CPU times: user 39 s, sys: 33.9 ms, total: 39 s\n",
      "Wall time: 39 s\n"
     ]
    }
   ],
   "source": [
    "%%time\n",
    "## Two spheres falling next to each other\n",
    "\n",
    "#initial position\n",
    "r = np.array([0.,2.3, 0.,0., 99.,100.])\n",
    "\n",
    "#gravity in neg z direction\n",
    "F = np.array([0.,0., 0.,0., -1.,-1.])\n",
    "T = np.zeros(3*Np)\n",
    "\n",
    "# integration parameters\n",
    "Nt=10; r1=np.zeros([3,Nt]); r2=np.zeros([3,Nt])\n",
    "r1[:,0] = r[::Np]; r2[:,0] = r[Np-1::Np]\n",
    "dt=3.;\n",
    "v = np.zeros(3*Np);\n",
    "o = np.zeros(3*Np)\n",
    "theta1=np.zeros([3,Nt]); theta2=np.zeros([3,Nt])\n",
    "\n",
    "for i in range(Nt-1):\n",
    "    directSolve(v, o, r, F, T)\n",
    "    \n",
    "    r1[:,i+1] = r1[:,i] + dt*v[::Np]\n",
    "    r2[:,i+1] = r2[:,i] + dt*v[Np-1::Np]\n",
    "    \n",
    "    theta1[:,i+1] = theta1[:,i] + dt*o[::Np]\n",
    "    theta2[:,i+1] = theta2[:,i] + dt*o[Np-1::Np]\n",
    "    \n",
    "    # reset variables for next time step\n",
    "    r[::Np] = r1[:,i+1]\n",
    "    r[Np-1::Np] = r2[:,i+1]\n",
    "    v = v*0\n",
    "    o = o*0\n",
    "\n",
    "print('finish')"
   ]
  },
  {
   "cell_type": "code",
   "execution_count": 17,
   "id": "752ce169-8ba2-4640-8f6a-b6f691b55036",
   "metadata": {},
   "outputs": [
    {
     "data": {
      "text/plain": [
       "[<matplotlib.lines.Line2D at 0x7f9e02c8e6b0>,\n",
       " <matplotlib.lines.Line2D at 0x7f9e02c8ea40>]"
      ]
     },
     "execution_count": 17,
     "metadata": {},
     "output_type": "execute_result"
    },
    {
     "data": {
      "image/png": "[encoded data removed]",
      "text/plain": [
       "<Figure size 432x288 with 1 Axes>"
      ]
     },
     "metadata": {
      "needs_background": "light"
     },
     "output_type": "display_data"
    }
   ],
   "source": [
    "times = np.arange(0,Nt)\n",
    "plt.plot(times, r1[0,:], times, r2[0,:])"
   ]
  },
  {
   "cell_type": "code",
   "execution_count": 18,
   "id": "a1308277-3458-456d-a57d-0beeab380494",
   "metadata": {},
   "outputs": [
    {
     "data": {
      "text/plain": [
       "[<matplotlib.lines.Line2D at 0x7f9e02b07ca0>,\n",
       " <matplotlib.lines.Line2D at 0x7f9e02b05ba0>]"
      ]
     },
     "execution_count": 18,
     "metadata": {},
     "output_type": "execute_result"
    },
    {
     "data": {
      "image/png": "[encoded data removed]",
      "text/plain": [
       "<Figure size 432x288 with 1 Axes>"
      ]
     },
     "metadata": {
      "needs_background": "light"
     },
     "output_type": "display_data"
    }
   ],
   "source": [
    "plt.plot(times, r1[2,:], times, r2[2,:])"
   ]
  },
  {
   "cell_type": "code",
   "execution_count": 19,
   "id": "d3e5dfac-f734-49ae-8e5c-8e30d810d8e0",
   "metadata": {},
   "outputs": [
    {
     "data": {
      "text/plain": [
       "[<matplotlib.lines.Line2D at 0x7f9dfaad7790>,\n",
       " <matplotlib.lines.Line2D at 0x7f9dfaad77f0>]"
      ]
     },
     "execution_count": 19,
     "metadata": {},
     "output_type": "execute_result"
    },
    {
     "data": {
      "image/png": "[encoded data removed]",
      "text/plain": [
       "<Figure size 432x288 with 1 Axes>"
      ]
     },
     "metadata": {
      "needs_background": "light"
     },
     "output_type": "display_data"
    }
   ],
   "source": [
    "plt.plot(times, theta1[1,:], times, theta2[1,:])"
   ]
  },
  {
   "cell_type": "code",
   "execution_count": null,
   "id": "45f8431d-b652-41a8-8234-16a555f3e458",
   "metadata": {},
   "outputs": [],
   "source": []
  },
  {
   "cell_type": "code",
   "execution_count": 24,
   "id": "a1a630a5-92ae-482d-a382-9007d1fb7e4b",
   "metadata": {},
   "outputs": [],
   "source": [
    "Np=3"
   ]
  },
  {
   "cell_type": "code",
   "execution_count": 25,
   "id": "3012c489-b99b-407d-886d-d600693f3763",
   "metadata": {},
   "outputs": [
    {
     "name": "stdout",
     "output_type": "stream",
     "text": [
      "finish\n",
      "CPU times: user 24min 21s, sys: 824 ms, total: 24min 22s\n",
      "Wall time: 24min 22s\n"
     ]
    }
   ],
   "source": [
    "%%time\n",
    "## Three spheres falling - are two fast ones catching up third one? \n",
    "\n",
    "#initial position\n",
    "r = np.array([0.,2.3,1.15,  0.,0.,2.3,  100.,100.,90.])\n",
    "\n",
    "#gravity in neg z direction\n",
    "F = np.array([0.,0.,0.,  0.,0.,0.,  -1.,-1.,-1.])\n",
    "T = np.zeros(3*Np)\n",
    "\n",
    "# integration parameters\n",
    "Nt=100; r1=np.zeros([3,Nt]); r2=np.zeros([3,Nt]); r3=np.zeros([3,Nt]) \n",
    "r1[:,0] = r[::Np]; r2[:,0] = r[1::Np]; r3[:,0] = r[2::Np] \n",
    "dt=3.;\n",
    "v = np.zeros(3*Np);\n",
    "o = np.zeros(3*Np)\n",
    "theta1=np.zeros([3,Nt]); theta2=np.zeros([3,Nt]); theta3=np.zeros([3,Nt])\n",
    "\n",
    "for i in range(Nt-1):\n",
    "    directSolve(v, o, r, F, T)\n",
    "    \n",
    "    r1[:,i+1] = r1[:,i] + dt*v[::Np]\n",
    "    r2[:,i+1] = r2[:,i] + dt*v[1::Np]\n",
    "    r3[:,i+1] = r3[:,i] + dt*v[2::Np]\n",
    "    \n",
    "    theta1[:,i+1] = theta1[:,i] + dt*o[::Np]\n",
    "    theta2[:,i+1] = theta2[:,i] + dt*o[1::Np]\n",
    "    theta3[:,i+1] = theta3[:,i] + dt*o[2::Np]\n",
    "    \n",
    "    # reset variables for next time step\n",
    "    r[::Np] = r1[:,i+1]\n",
    "    r[1::Np] = r2[:,i+1]\n",
    "    r[2::Np] = r3[:,i+1]\n",
    "    v = v*0\n",
    "    o = o*0\n",
    "\n",
    "print('finish')"
   ]
  },
  {
   "cell_type": "code",
   "execution_count": 26,
   "id": "5c000c0b-202b-4dcf-a91a-1ebd0e5a22a3",
   "metadata": {},
   "outputs": [
    {
     "ename": "ValueError",
     "evalue": "x and y must have same first dimension, but have shapes (10,) and (100,)",
     "output_type": "error",
     "traceback": [
      "\u001b[0;31m---------------------------------------------------------------------------\u001b[0m",
      "\u001b[0;31mValueError\u001b[0m                                Traceback (most recent call last)",
      "Input \u001b[0;32mIn [26]\u001b[0m, in \u001b[0;36m<module>\u001b[0;34m\u001b[0m\n\u001b[0;32m----> 1\u001b[0m \u001b[43mplt\u001b[49m\u001b[38;5;241;43m.\u001b[39;49m\u001b[43mplot\u001b[49m\u001b[43m(\u001b[49m\u001b[43mtimes\u001b[49m\u001b[43m,\u001b[49m\u001b[43m \u001b[49m\u001b[43mr1\u001b[49m\u001b[43m[\u001b[49m\u001b[38;5;241;43m2\u001b[39;49m\u001b[43m,\u001b[49m\u001b[43m:\u001b[49m\u001b[43m]\u001b[49m\u001b[43m,\u001b[49m\u001b[43m \u001b[49m\u001b[43mtimes\u001b[49m\u001b[43m,\u001b[49m\u001b[43m \u001b[49m\u001b[43mr2\u001b[49m\u001b[43m[\u001b[49m\u001b[38;5;241;43m2\u001b[39;49m\u001b[43m,\u001b[49m\u001b[43m:\u001b[49m\u001b[43m]\u001b[49m\u001b[43m,\u001b[49m\u001b[43m \u001b[49m\u001b[43mtimes\u001b[49m\u001b[43m,\u001b[49m\u001b[43m \u001b[49m\u001b[43mr3\u001b[49m\u001b[43m[\u001b[49m\u001b[38;5;241;43m2\u001b[39;49m\u001b[43m,\u001b[49m\u001b[43m:\u001b[49m\u001b[43m]\u001b[49m\u001b[43m)\u001b[49m\n",
      "File \u001b[0;32m/store/SOFT/gt369/Software/anaconda3/envs/pystokes/lib/python3.10/site-packages/matplotlib/pyplot.py:2757\u001b[0m, in \u001b[0;36mplot\u001b[0;34m(scalex, scaley, data, *args, **kwargs)\u001b[0m\n\u001b[1;32m   2755\u001b[0m \u001b[38;5;129m@_copy_docstring_and_deprecators\u001b[39m(Axes\u001b[38;5;241m.\u001b[39mplot)\n\u001b[1;32m   2756\u001b[0m \u001b[38;5;28;01mdef\u001b[39;00m \u001b[38;5;21mplot\u001b[39m(\u001b[38;5;241m*\u001b[39margs, scalex\u001b[38;5;241m=\u001b[39m\u001b[38;5;28;01mTrue\u001b[39;00m, scaley\u001b[38;5;241m=\u001b[39m\u001b[38;5;28;01mTrue\u001b[39;00m, data\u001b[38;5;241m=\u001b[39m\u001b[38;5;28;01mNone\u001b[39;00m, \u001b[38;5;241m*\u001b[39m\u001b[38;5;241m*\u001b[39mkwargs):\n\u001b[0;32m-> 2757\u001b[0m     \u001b[38;5;28;01mreturn\u001b[39;00m \u001b[43mgca\u001b[49m\u001b[43m(\u001b[49m\u001b[43m)\u001b[49m\u001b[38;5;241;43m.\u001b[39;49m\u001b[43mplot\u001b[49m\u001b[43m(\u001b[49m\n\u001b[1;32m   2758\u001b[0m \u001b[43m        \u001b[49m\u001b[38;5;241;43m*\u001b[39;49m\u001b[43margs\u001b[49m\u001b[43m,\u001b[49m\u001b[43m \u001b[49m\u001b[43mscalex\u001b[49m\u001b[38;5;241;43m=\u001b[39;49m\u001b[43mscalex\u001b[49m\u001b[43m,\u001b[49m\u001b[43m \u001b[49m\u001b[43mscaley\u001b[49m\u001b[38;5;241;43m=\u001b[39;49m\u001b[43mscaley\u001b[49m\u001b[43m,\u001b[49m\n\u001b[1;32m   2759\u001b[0m \u001b[43m        \u001b[49m\u001b[38;5;241;43m*\u001b[39;49m\u001b[38;5;241;43m*\u001b[39;49m\u001b[43m(\u001b[49m\u001b[43m{\u001b[49m\u001b[38;5;124;43m\"\u001b[39;49m\u001b[38;5;124;43mdata\u001b[39;49m\u001b[38;5;124;43m\"\u001b[39;49m\u001b[43m:\u001b[49m\u001b[43m \u001b[49m\u001b[43mdata\u001b[49m\u001b[43m}\u001b[49m\u001b[43m \u001b[49m\u001b[38;5;28;43;01mif\u001b[39;49;00m\u001b[43m \u001b[49m\u001b[43mdata\u001b[49m\u001b[43m \u001b[49m\u001b[38;5;129;43;01mis\u001b[39;49;00m\u001b[43m \u001b[49m\u001b[38;5;129;43;01mnot\u001b[39;49;00m\u001b[43m \u001b[49m\u001b[38;5;28;43;01mNone\u001b[39;49;00m\u001b[43m \u001b[49m\u001b[38;5;28;43;01melse\u001b[39;49;00m\u001b[43m \u001b[49m\u001b[43m{\u001b[49m\u001b[43m}\u001b[49m\u001b[43m)\u001b[49m\u001b[43m,\u001b[49m\u001b[43m \u001b[49m\u001b[38;5;241;43m*\u001b[39;49m\u001b[38;5;241;43m*\u001b[39;49m\u001b[43mkwargs\u001b[49m\u001b[43m)\u001b[49m\n",
      "File \u001b[0;32m/store/SOFT/gt369/Software/anaconda3/envs/pystokes/lib/python3.10/site-packages/matplotlib/axes/_axes.py:1632\u001b[0m, in \u001b[0;36mAxes.plot\u001b[0;34m(self, scalex, scaley, data, *args, **kwargs)\u001b[0m\n\u001b[1;32m   1390\u001b[0m \u001b[38;5;124;03m\"\"\"\u001b[39;00m\n\u001b[1;32m   1391\u001b[0m \u001b[38;5;124;03mPlot y versus x as lines and/or markers.\u001b[39;00m\n\u001b[1;32m   1392\u001b[0m \n\u001b[0;32m   (...)\u001b[0m\n\u001b[1;32m   1629\u001b[0m \u001b[38;5;124;03m(``'green'``) or hex strings (``'#008000'``).\u001b[39;00m\n\u001b[1;32m   1630\u001b[0m \u001b[38;5;124;03m\"\"\"\u001b[39;00m\n\u001b[1;32m   1631\u001b[0m kwargs \u001b[38;5;241m=\u001b[39m cbook\u001b[38;5;241m.\u001b[39mnormalize_kwargs(kwargs, mlines\u001b[38;5;241m.\u001b[39mLine2D)\n\u001b[0;32m-> 1632\u001b[0m lines \u001b[38;5;241m=\u001b[39m [\u001b[38;5;241m*\u001b[39m\u001b[38;5;28mself\u001b[39m\u001b[38;5;241m.\u001b[39m_get_lines(\u001b[38;5;241m*\u001b[39margs, data\u001b[38;5;241m=\u001b[39mdata, \u001b[38;5;241m*\u001b[39m\u001b[38;5;241m*\u001b[39mkwargs)]\n\u001b[1;32m   1633\u001b[0m \u001b[38;5;28;01mfor\u001b[39;00m line \u001b[38;5;129;01min\u001b[39;00m lines:\n\u001b[1;32m   1634\u001b[0m     \u001b[38;5;28mself\u001b[39m\u001b[38;5;241m.\u001b[39madd_line(line)\n",
      "File \u001b[0;32m/store/SOFT/gt369/Software/anaconda3/envs/pystokes/lib/python3.10/site-packages/matplotlib/axes/_base.py:312\u001b[0m, in \u001b[0;36m_process_plot_var_args.__call__\u001b[0;34m(self, data, *args, **kwargs)\u001b[0m\n\u001b[1;32m    310\u001b[0m     this \u001b[38;5;241m+\u001b[39m\u001b[38;5;241m=\u001b[39m args[\u001b[38;5;241m0\u001b[39m],\n\u001b[1;32m    311\u001b[0m     args \u001b[38;5;241m=\u001b[39m args[\u001b[38;5;241m1\u001b[39m:]\n\u001b[0;32m--> 312\u001b[0m \u001b[38;5;28;01myield from\u001b[39;00m \u001b[38;5;28;43mself\u001b[39;49m\u001b[38;5;241;43m.\u001b[39;49m\u001b[43m_plot_args\u001b[49m\u001b[43m(\u001b[49m\u001b[43mthis\u001b[49m\u001b[43m,\u001b[49m\u001b[43m \u001b[49m\u001b[43mkwargs\u001b[49m\u001b[43m)\u001b[49m\n",
      "File \u001b[0;32m/store/SOFT/gt369/Software/anaconda3/envs/pystokes/lib/python3.10/site-packages/matplotlib/axes/_base.py:498\u001b[0m, in \u001b[0;36m_process_plot_var_args._plot_args\u001b[0;34m(self, tup, kwargs, return_kwargs)\u001b[0m\n\u001b[1;32m    495\u001b[0m     \u001b[38;5;28mself\u001b[39m\u001b[38;5;241m.\u001b[39maxes\u001b[38;5;241m.\u001b[39myaxis\u001b[38;5;241m.\u001b[39mupdate_units(y)\n\u001b[1;32m    497\u001b[0m \u001b[38;5;28;01mif\u001b[39;00m x\u001b[38;5;241m.\u001b[39mshape[\u001b[38;5;241m0\u001b[39m] \u001b[38;5;241m!=\u001b[39m y\u001b[38;5;241m.\u001b[39mshape[\u001b[38;5;241m0\u001b[39m]:\n\u001b[0;32m--> 498\u001b[0m     \u001b[38;5;28;01mraise\u001b[39;00m \u001b[38;5;167;01mValueError\u001b[39;00m(\u001b[38;5;124mf\u001b[39m\u001b[38;5;124m\"\u001b[39m\u001b[38;5;124mx and y must have same first dimension, but \u001b[39m\u001b[38;5;124m\"\u001b[39m\n\u001b[1;32m    499\u001b[0m                      \u001b[38;5;124mf\u001b[39m\u001b[38;5;124m\"\u001b[39m\u001b[38;5;124mhave shapes \u001b[39m\u001b[38;5;132;01m{\u001b[39;00mx\u001b[38;5;241m.\u001b[39mshape\u001b[38;5;132;01m}\u001b[39;00m\u001b[38;5;124m and \u001b[39m\u001b[38;5;132;01m{\u001b[39;00my\u001b[38;5;241m.\u001b[39mshape\u001b[38;5;132;01m}\u001b[39;00m\u001b[38;5;124m\"\u001b[39m)\n\u001b[1;32m    500\u001b[0m \u001b[38;5;28;01mif\u001b[39;00m x\u001b[38;5;241m.\u001b[39mndim \u001b[38;5;241m>\u001b[39m \u001b[38;5;241m2\u001b[39m \u001b[38;5;129;01mor\u001b[39;00m y\u001b[38;5;241m.\u001b[39mndim \u001b[38;5;241m>\u001b[39m \u001b[38;5;241m2\u001b[39m:\n\u001b[1;32m    501\u001b[0m     \u001b[38;5;28;01mraise\u001b[39;00m \u001b[38;5;167;01mValueError\u001b[39;00m(\u001b[38;5;124mf\u001b[39m\u001b[38;5;124m\"\u001b[39m\u001b[38;5;124mx and y can be no greater than 2D, but have \u001b[39m\u001b[38;5;124m\"\u001b[39m\n\u001b[1;32m    502\u001b[0m                      \u001b[38;5;124mf\u001b[39m\u001b[38;5;124m\"\u001b[39m\u001b[38;5;124mshapes \u001b[39m\u001b[38;5;132;01m{\u001b[39;00mx\u001b[38;5;241m.\u001b[39mshape\u001b[38;5;132;01m}\u001b[39;00m\u001b[38;5;124m and \u001b[39m\u001b[38;5;132;01m{\u001b[39;00my\u001b[38;5;241m.\u001b[39mshape\u001b[38;5;132;01m}\u001b[39;00m\u001b[38;5;124m\"\u001b[39m)\n",
      "\u001b[0;31mValueError\u001b[0m: x and y must have same first dimension, but have shapes (10,) and (100,)"
     ]
    },
    {
     "data": {
      "image/png": "[encoded data removed]",
      "text/plain": [
       "<Figure size 432x288 with 1 Axes>"
      ]
     },
     "metadata": {
      "needs_background": "light"
     },
     "output_type": "display_data"
    }
   ],
   "source": [
    "plt.plot(times, r1[2,:], times, r2[2,:], times, r3[2,:])"
   ]
  },
  {
   "cell_type": "code",
   "execution_count": null,
   "id": "340e5252-c1c9-4da4-8e89-0e3148196470",
   "metadata": {},
   "outputs": [],
   "source": []
  },
  {
   "cell_type": "code",
   "execution_count": null,
   "id": "c175cc31-c586-456a-90e8-dd51019b893f",
   "metadata": {},
   "outputs": [],
   "source": []
  },
  {
   "cell_type": "code",
   "execution_count": null,
   "id": "c8617e56-8152-4c7b-9a3e-24d11655a230",
   "metadata": {},
   "outputs": [],
   "source": []
  },
  {
   "cell_type": "code",
   "execution_count": null,
   "id": "af811c6c-f049-41f9-97f6-54ae9e03ccfe",
   "metadata": {},
   "outputs": [],
   "source": []
  },
  {
   "cell_type": "code",
   "execution_count": null,
   "id": "0d3d05b1-c675-4573-aeb3-cb76121f02ef",
   "metadata": {},
   "outputs": [],
   "source": []
  },
  {
   "cell_type": "code",
   "execution_count": null,
   "id": "aeaef529-323e-4ae3-9b91-0a1eefe213e7",
   "metadata": {},
   "outputs": [],
   "source": [
    "## test tensorsolve and pseudo_inverse"
   ]
  },
  {
   "cell_type": "code",
   "execution_count": 41,
   "id": "f4a64cbf-5353-46b1-92f6-cc86e9957026",
   "metadata": {},
   "outputs": [],
   "source": [
    "xij = -3.; yij = 0.; zij = 0.\n",
    "torque = np.array([0.,0.,0.])\n",
    "force = np.array([0., 0., -10.])\n",
    "\n",
    "lhs = tensorG2s2s(xij,yij,zij)\n",
    "rhs = (np.dot(tensorG2s1s(xij,yij,zij), force) \n",
    "            + 1./b * np.dot(tensorG2s2a(xij,yij,zij), torque))\n"
   ]
  },
  {
   "cell_type": "code",
   "execution_count": 48,
   "id": "fcad670e-3e01-4103-98ec-7c4b84c86e62",
   "metadata": {},
   "outputs": [
    {
     "data": {
      "text/plain": [
       "(3, 3)"
      ]
     },
     "execution_count": 48,
     "metadata": {},
     "output_type": "execute_result"
    }
   ],
   "source": [
    "ex, ey, ez = np.array([0., 0., 1.])\n",
    "matrix = tensorG2s2sY2(xij,yij,zij, ex, ey, ez)\n",
    "matrix.shape"
   ]
  },
  {
   "cell_type": "code",
   "execution_count": 66,
   "id": "1f231ce8-e77d-4b03-8325-b7871647262f",
   "metadata": {},
   "outputs": [],
   "source": [
    "matrix = np.reshape(lhs, (9,9))\n",
    "matrix_inv = np.linalg.pinv(matrix)\n",
    "lhs_inv = np.reshape(matrix_inv, (3,3,3,3))"
   ]
  },
  {
   "cell_type": "code",
   "execution_count": 68,
   "id": "d7dea2b4-b238-4222-84fe-8d431704eb82",
   "metadata": {},
   "outputs": [],
   "source": [
    "Delta = np.einsum('ijkl,klmn', lhs_inv, lhs)"
   ]
  },
  {
   "cell_type": "code",
   "execution_count": 74,
   "id": "15975f89-fc59-40c2-ae0e-6e958044cd75",
   "metadata": {},
   "outputs": [],
   "source": [
    "tensorDelta = (0.5*(np.einsum('mg,nd',np.identity(3),np.identity(3))\n",
    "                    + np.einsum('md,ng',np.identity(3),np.identity(3)))\n",
    "               -1./3.*np.einsum('mn,gd',np.identity(3),np.identity(3)))\n",
    "    "
   ]
  },
  {
   "cell_type": "code",
   "execution_count": 79,
   "id": "2f84823a-3724-4ec3-a755-0a2b6d45c46d",
   "metadata": {},
   "outputs": [
    {
     "data": {
      "text/plain": [
       "True"
      ]
     },
     "execution_count": 79,
     "metadata": {},
     "output_type": "execute_result"
    }
   ],
   "source": [
    "np.allclose(tensorDelta,Delta)"
   ]
  },
  {
   "cell_type": "code",
   "execution_count": 81,
   "id": "61f573e5-ce7c-487c-bfaa-b272a60b5951",
   "metadata": {},
   "outputs": [],
   "source": [
    "F2s = np.einsum('ijkl, kl', lhs_inv, rhs)"
   ]
  },
  {
   "cell_type": "code",
   "execution_count": 87,
   "id": "090b741b-257b-433f-926b-9968cc388b5a",
   "metadata": {},
   "outputs": [
    {
     "data": {
      "text/plain": [
       "array([[ 0.        ,  0.        , -2.75862069],\n",
       "       [ 0.        ,  0.        ,  0.        ],\n",
       "       [-2.75862069,  0.        ,  0.        ]])"
      ]
     },
     "execution_count": 87,
     "metadata": {},
     "output_type": "execute_result"
    }
   ],
   "source": [
    "F2s"
   ]
  }
 ],
 "metadata": {
  "kernelspec": {
   "display_name": "Python 3 (ipykernel)",
   "language": "python",
   "name": "python3"
  },
  "language_info": {
   "codemirror_mode": {
    "name": "ipython",
    "version": 3
   },
   "file_extension": ".py",
   "mimetype": "text/x-python",
   "name": "python",
   "nbconvert_exporter": "python",
   "pygments_lexer": "ipython3",
   "version": "3.10.2"
  }
 },
 "nbformat": 4,
 "nbformat_minor": 5
}
