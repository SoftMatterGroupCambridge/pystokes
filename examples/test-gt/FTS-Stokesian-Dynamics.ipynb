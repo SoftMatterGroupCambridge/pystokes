{
 "cells": [
  {
   "cell_type": "code",
   "execution_count": 5,
   "id": "faa77af8-a1f5-4481-a080-c522d811110c",
   "metadata": {},
   "outputs": [],
   "source": [
    "%matplotlib inline\n",
    "import pystokes, autograd.numpy as np, matplotlib.pyplot as plt\n",
    "from autograd import grad, elementwise_grad as egrad"
   ]
  },
  {
   "cell_type": "code",
   "execution_count": 82,
   "id": "e6b14320-bdae-4767-aa93-8e045ab06de0",
   "metadata": {},
   "outputs": [],
   "source": [
    "# particle radius, self-propulsion speed, number and fluid viscosity\n",
    "b, Np, eta = 1.0, 2, 0.1\n",
    "PI = 3.14159265359\n",
    "\n",
    "rij = np.array([0,1.,0])"
   ]
  },
  {
   "cell_type": "code",
   "execution_count": 65,
   "id": "36110d0d-fdd0-4a24-9d36-1ecf60f89bf8",
   "metadata": {},
   "outputs": [],
   "source": [
    "## matrix elements for i=j\n",
    "G01s = 1./(6*PI*eta*b)\n",
    "G02a = 1./(4*PI*eta*b)\n",
    "G02s = 3./(20*PI*eta*b)"
   ]
  },
  {
   "cell_type": "code",
   "execution_count": 66,
   "id": "006c1ecc-d4fe-4a79-b0fc-a96404645481",
   "metadata": {},
   "outputs": [],
   "source": [
    "## basics for i!=j, hard-coded version is faster (see below)\n",
    "\n",
    "def G(xij,yij,zij, alpha,beta): #G_alpha beta\n",
    "    rij = np.array([xij,yij,zij])\n",
    "    r = np.linalg.norm(rij)\n",
    "    return ((np.identity(3)/r + np.outer(rij,rij)/r**3)/(8*eta*PI))[alpha,beta]\n",
    "\n",
    "def delG(xij,yij,zij, alpha,beta,gamma): #G_alpha beta, gamma = nabla_gamma G_alpha beta\n",
    "    rij = np.array([xij,yij,zij])\n",
    "    r = np.linalg.norm(rij)\n",
    "    t1 = -np.einsum('ij,k',np.identity(3),rij)/r**3\n",
    "    t2 = (np.einsum('ik,j',np.identity(3),rij) \n",
    "           + np.einsum('jk,i',np.identity(3),rij))/r**3\n",
    "    t3 = -3*np.einsum('i,j,k',rij,rij,rij)/r**5\n",
    "    return ((t1 + t2 + t3)/(8*eta*PI))[alpha,beta,gamma]\n",
    "\n",
    "def lapG(xij,yij,zij, alpha,beta): # nabla^2 G_alpha beta\n",
    "    rij = np.array([xij,yij,zij])\n",
    "    r = np.linalg.norm(rij)\n",
    "    return ((np.identity(3)/r**3 - 3*np.outer(rij,rij)/r**5)/(4*eta*PI))[alpha,\n",
    "                                                                       beta]"
   ]
  },
  {
   "cell_type": "code",
   "execution_count": 67,
   "id": "7eb746a7-2c63-4bcc-b04d-aa6349addbaa",
   "metadata": {},
   "outputs": [],
   "source": [
    "epsilon = lambda i,j,k:(i-j)*(j-k)*(k-i)/2."
   ]
  },
  {
   "cell_type": "code",
   "execution_count": 68,
   "id": "43fe9c6b-54c8-4600-8735-2c882f3a0d5d",
   "metadata": {},
   "outputs": [],
   "source": [
    "def delGauto(xij,yij,zij, alpha,beta,gamma):\n",
    "    return grad(G,gamma)(xij,yij,zij, alpha,beta)"
   ]
  },
  {
   "cell_type": "code",
   "execution_count": 69,
   "id": "be582624-bd56-44ee-bd54-e8791ab458ca",
   "metadata": {},
   "outputs": [
    {
     "name": "stdout",
     "output_type": "stream",
     "text": [
      "CPU times: user 671 µs, sys: 0 ns, total: 671 µs\n",
      "Wall time: 616 µs\n"
     ]
    },
    {
     "data": {
      "text/plain": [
       "0.026422836354853946"
      ]
     },
     "execution_count": 69,
     "metadata": {},
     "output_type": "execute_result"
    }
   ],
   "source": [
    "%%time\n",
    "delG(0.,1.,3., 1,2,1) ##hard-coded"
   ]
  },
  {
   "cell_type": "code",
   "execution_count": 70,
   "id": "f39dbd84-feae-4e75-85e2-60149452ba85",
   "metadata": {},
   "outputs": [
    {
     "name": "stdout",
     "output_type": "stream",
     "text": [
      "CPU times: user 1.53 ms, sys: 376 µs, total: 1.91 ms\n",
      "Wall time: 1.7 ms\n"
     ]
    },
    {
     "data": {
      "text/plain": [
       "0.02642283635485395"
      ]
     },
     "execution_count": 70,
     "metadata": {},
     "output_type": "execute_result"
    }
   ],
   "source": [
    "%%time\n",
    "delGauto(0.,1.,3., 1,2,1) ##autograd"
   ]
  },
  {
   "cell_type": "markdown",
   "id": "17af4663-7587-4e8e-8b41-7671e0ef6cbe",
   "metadata": {},
   "source": [
    "--> use hard-coded version whenever possible"
   ]
  },
  {
   "cell_type": "code",
   "execution_count": 72,
   "id": "02e8b9ae-ccf8-4f91-88a0-38184e1f9a84",
   "metadata": {},
   "outputs": [],
   "source": [
    "## RBM matrix elements: G^LL for i!=j\n",
    "\n",
    "def G1s1s(xij,yij,zij, alpha,beta):\n",
    "    return (G(xij,yij,zij, alpha,beta)\n",
    "            +b**2/3.*lapG(xij,yij,zij, alpha,beta))\n",
    "\n",
    "def G1s2a(xij,yij,zij, alpha,beta):\n",
    "    g1s2a=0.\n",
    "    for nu in range(3):\n",
    "        for eta in range(3):\n",
    "            g1s2a += epsilon(beta,nu,eta)*delG(xij,yij,zij,alpha,eta,nu)\n",
    "    return -0.5*b*g1s2a\n",
    "\n",
    "def G2a1s(xij,yij,zij, alpha,beta):\n",
    "    g2a1s=0\n",
    "    for nu in range(3):\n",
    "        for eta in range(3):\n",
    "            g2a1s += epsilon(alpha,nu,eta)*delG(xij,yij,zij,eta,beta,nu)\n",
    "    return 0.5*g2a1s\n",
    "\n",
    "def G2a2a(xij,yij,zij, alpha,beta):\n",
    "    g2a2a=0\n",
    "    for mu in range(3):\n",
    "        for kappa in range(3):\n",
    "            g2a2a += epsilon(alpha,mu,kappa)*delG1s2a(xij,yij,zij, kappa,beta,mu)\n",
    "    return -0.25*b*g2a2a\n",
    "\n",
    "## auxiliary functions \n",
    "def delG1s2a(xij,yij,zij, kappa,beta,mu):\n",
    "        return grad(G1s2a, mu)(xij,yij,zij, kappa,beta)"
   ]
  },
  {
   "cell_type": "code",
   "execution_count": 74,
   "id": "ffffc5bf-a2a6-4ac9-b669-e02818044834",
   "metadata": {},
   "outputs": [],
   "source": [
    "## G^LH and G^HL matrix elements for i!=j\n",
    "\n",
    "def G1s2s(xij,yij,zij, alpha,kappa1,beta):\n",
    "    g1s2s = 0\n",
    "    g1s2s += (delG(xij,yij,zij, alpha,beta,kappa1)\n",
    "              + delG(xij,yij,zij, alpha,kappa1,beta))\n",
    "    g1s2s += 4*b*b/15.*(dellapG(xij,yij,zij, alpha,beta,kappa1) \n",
    "                        + dellapG(xij,yij,zij, alpha,kappa1,beta))\n",
    "    return -0.5*b*g1s2s\n",
    "              \n",
    "def G2a2s(xij,yij,zij, alpha,kappa1,beta):\n",
    "    g2a2s=0\n",
    "    for nu in range(3):\n",
    "        for eta in range(3):\n",
    "            g2a2s += epsilon(alpha,nu,eta)*(deldelG(xij,yij,zij, eta,beta,kappa1,nu)\n",
    "                                            + deldelG(xij,yij,zij, eta,kappa1,beta,nu))\n",
    "    return -0.25*b*g2a2s\n",
    "\n",
    "def G2s1s(xij,yij,zij, alpha,gamma1,beta):\n",
    "    g2s1s = 0\n",
    "    g2s1s += (delG(xij,yij,zij, alpha,beta,gamma1)\n",
    "              + delG(xij,yij,zij, gamma1,beta,alpha))\n",
    "    g2s1s += 4*b*b/15.*(dellapG(xij,yij,zij, alpha,beta,gamma1) \n",
    "                        + dellapG(xij,yij,zij, gamma1,beta,alpha))\n",
    "    return 0.5*b*g2s1s\n",
    "\n",
    "def G2s2a(xij,yij,zij, alpha,gamma1,mu):\n",
    "    g2s2a=0\n",
    "    for kappa1 in range(3):\n",
    "        for beta in range(3):\n",
    "            g2s2a += epsilon(beta,kappa1,mu)*(deldelG(xij,yij,zij, gamma1,beta,alpha,kappa1)\n",
    "                                            + deldelG(xij,yij,zij, alpha,beta,gamma1,kappa1))\n",
    "    return 0.25*b*b*g2s2a\n",
    "\n",
    "## G^HH matrix element for i!=j\n",
    "\n",
    "def G2s2s(xij,yij,zij, alpha,gamma1,kappa1,beta):\n",
    "    g2s2s = (deldelG(xij,yij,zij, alpha,beta,gamma1,kappa1) \n",
    "              + deldelG(xij,yij,zij, gamma1,beta,alpha,kappa1))\n",
    "    g2s2s += (deldelG(xij,yij,zij, alpha,kappa1,gamma1,beta) \n",
    "              + deldelG(xij,yij,zij, gamma1,kappa1,alpha,beta))\n",
    "    g2s2s += b*b/5.*(deldellapG(xij,yij,zij, alpha,beta,gamma1,kappa1)\n",
    "                     + deldellapG(xij,yij,zij, gamma1,beta,alpha,kappa1))\n",
    "    g2s2s += b*b/5.*(deldellapG(xij,yij,zij, alpha,kappa1,gamma1,beta)\n",
    "                     + deldellapG(xij,yij,zij, gamma1,kappa1,alpha,beta))\n",
    "    return -0.25*b*b*g2s2s\n",
    "              \n",
    "## auxiliary functions    \n",
    "def dellapG(xij,yij,zij, alpha,beta,kappa1):\n",
    "    return grad(lapG, kappa1)(xij,yij,zij, alpha,beta)\n",
    "\n",
    "def deldelG(xij,yij,zij, eta,beta,kappa1,nu):\n",
    "    return grad(delG, nu)(xij,yij,zij, eta,beta,kappa1)\n",
    "\n",
    "def deldellapG(xij,yij,zij, alpha,beta,gamma1,kappa1):\n",
    "    return grad(dellapG, kappa1)(xij,yij,zij, alpha,beta,gamma1)"
   ]
  },
  {
   "cell_type": "code",
   "execution_count": 83,
   "id": "8b9aea42-af5b-400b-96ac-b364e777c633",
   "metadata": {},
   "outputs": [],
   "source": [
    "## uniaxial parametrisation\n",
    "def Y2(ex,ey,ez, alpha,beta):\n",
    "    e = np.array([ex,ey,ez])\n",
    "    return (3*np.outer(e,e) - np.identity(3))[alpha,beta]"
   ]
  },
  {
   "cell_type": "code",
   "execution_count": 109,
   "id": "db4233b9-3a0a-465a-9e49-32696684ac5c",
   "metadata": {},
   "outputs": [],
   "source": [
    "## fill tensors for tensorsolve from indices above\n",
    "## RBM\n",
    "def tensorG1s1s(xij,yij,zij):\n",
    "    g=np.zeros([3,3])\n",
    "    for alpha in range(3):\n",
    "        for beta in range(3):\n",
    "            g[alpha,beta]=G1s1s(xij,yij,zij, alpha,beta)\n",
    "    return g\n",
    "\n",
    "def tensorG1s2a(xij,yij,zij):\n",
    "    g=np.zeros([3,3])\n",
    "    for alpha in range(3):\n",
    "        for beta in range(3):\n",
    "            g[alpha,beta]=G1s2a(xij,yij,zij, alpha,beta)\n",
    "    return g\n",
    "\n",
    "def tensorG2a1s(xij,yij,zij):\n",
    "    g=np.zeros([3,3])\n",
    "    for alpha in range(3):\n",
    "        for beta in range(3):\n",
    "            g[alpha,beta]=G2a1s(xij,yij,zij, alpha,beta)\n",
    "    return g\n",
    "\n",
    "def tensorG2a2a(xij,yij,zij):\n",
    "    g=np.zeros([3,3])\n",
    "    for alpha in range(3):\n",
    "        for beta in range(3):\n",
    "            g[alpha,beta]=G2a2a(xij,yij,zij, alpha,beta)\n",
    "    return g\n",
    "\n",
    "\n",
    "## higher order\n",
    "def tensorG1s2s(xij,yij,zij):\n",
    "    g=np.zeros([3,3,3])\n",
    "    for alpha in range(3):\n",
    "        for beta in range(3):\n",
    "            for gamma in range(3):\n",
    "                g[alpha,beta,gamma]=G1s2s(xij,yij,zij, alpha,beta,gamma)\n",
    "    return g\n",
    "\n",
    "def tensorG2a2s(xij,yij,zij):\n",
    "    g=np.zeros([3,3,3])\n",
    "    for alpha in range(3):\n",
    "        for beta in range(3):\n",
    "            for gamma in range(3):\n",
    "                g[alpha,beta,gamma]=G2a2s(xij,yij,zij, alpha,beta,gamma)\n",
    "    return g\n",
    "\n",
    "def tensorG2s1s(xij,yij,zij):\n",
    "    g=np.zeros([3,3,3])\n",
    "    for alpha in range(3):\n",
    "        for beta in range(3):\n",
    "            for gamma in range(3):\n",
    "                g[alpha,beta,gamma]=G2s1s(xij,yij,zij, alpha,beta,gamma)\n",
    "    return g\n",
    "\n",
    "def tensorG2s2a(xij,yij,zij):\n",
    "    g=np.zeros([3,3,3])\n",
    "    for alpha in range(3):\n",
    "        for beta in range(3):\n",
    "            for gamma in range(3):\n",
    "                g[alpha,beta,gamma]=G2s2a(xij,yij,zij, alpha,beta,gamma)\n",
    "    return g\n",
    "\n",
    "def tensorG2s2s(xij,yij,zij):\n",
    "    g=np.zeros([3,3,3,3])\n",
    "    for alpha in range(3):\n",
    "        for beta in range(3):\n",
    "            for gamma in range(3):\n",
    "                for delta in range(3):\n",
    "                    g[alpha,beta,gamma,delta]=G2s2s(xij,yij,zij, alpha,beta,gamma,delta)\n",
    "    return g\n",
    "\n",
    "\n",
    "##auxiliary tensors for uniaxial parametrisation\n",
    "def tensorY2(ex,ey,ez):\n",
    "    e = np.array([ex,ey,ez])\n",
    "    return (3*np.outer(e,e) - np.identity(3))\n",
    "\n",
    "def tensorG2s2sY2(xij,yij,zij,ex,ey,ez): ##LHS in lin system\n",
    "    return np.einsum('ijkl,kl',tensorG2s2s(xij,yij,zij),tensorY2(ex,ey,ez))\n",
    "\n",
    "def tensorG1s2sY2(xij,yij,zij,ex,ey,ez): \n",
    "    return np.einsum('ikl,kl',tensorG1s2s(xij,yij,zij),tensorY2(ex,ey,ez))\n",
    "\n",
    "def tensorG2a2sY2(xij,yij,zij,ex,ey,ez): \n",
    "    return np.einsum('ikl,kl',tensorG2a2s(xij,yij,zij),tensorY2(ex,ey,ez))\n",
    "\n"
   ]
  },
  {
   "cell_type": "code",
   "execution_count": 110,
   "id": "a0870bed-9bd2-4c8b-b033-1acc9201ee89",
   "metadata": {},
   "outputs": [
    {
     "data": {
      "text/plain": [
       "(3, 3)"
      ]
     },
     "execution_count": 110,
     "metadata": {},
     "output_type": "execute_result"
    }
   ],
   "source": [
    "tensorG2s2sY2(0.,0.,2., 0.,0.,1.).shape"
   ]
  },
  {
   "cell_type": "code",
   "execution_count": 111,
   "id": "b983dc2d-259c-41f6-9ce2-cb420c042ec4",
   "metadata": {},
   "outputs": [],
   "source": [
    "def vDirectSolve(v, r, F, T, e):\n",
    "    for i in range(Np):\n",
    "        v_ = np.zeros([3])\n",
    "        for j in range(Np):\n",
    "            xij = r[i]    - r[j]\n",
    "            yij = r[i+Np]  - r[j+Np]\n",
    "            zij = r[i+2*Np]  - r[j+2*Np]\n",
    "            if i!=j:\n",
    "                force  = np.array([F[j],F[j+Np], F[j+2*Np]])\n",
    "                torque = np.array([T[j],T[j+Np], T[j+2*Np]])\n",
    "                ex, ey, ez = e[j], e[j+Np], e[j+2*Np]\n",
    "                \n",
    "                lhs = tensorG2s2sY2(xij,yij,zij, ex,ey,ez)\n",
    "                rhs = (np.dot(tensorG2s1s(xij,yij,zij), force) \n",
    "                       + 1./b * np.dot(tensorG2s2a(xij,yij,zij), torque))\n",
    "                F02s = np.linalg.tensorsolve(lhs, rhs)\n",
    "                \n",
    "                v_ += (np.dot(tensorG1s1s(xij,yij,zij), force)\n",
    "                      + 1./b * np.dot(tensorG1s2a(xij,yij,zij), torque)\n",
    "                      - tensorG1s2sY2(xij,yij,zij, ex,ey,ez)*F02s)\n",
    "            else:\n",
    "                force  = np.array([F[j],F[j+Np], F[j+2*Np]])\n",
    "                v_ += G01s*force\n",
    "        v[i]      += v_[0]\n",
    "        v[i+Np]   += v_[1]\n",
    "        v[i+2*Np] += v_[2]\n",
    "        \n",
    "## write oDirectSolve and take into account that orientation e changes!\n",
    "## Can we even give orientation? Because F2s is to be determined first...\n",
    "## Might have to solve for F2s, and not for F02s\n",
    "                \n",
    "                "
   ]
  },
  {
   "cell_type": "code",
   "execution_count": 104,
   "id": "3f188f1c-023f-47c8-add5-714b2a33a4b6",
   "metadata": {},
   "outputs": [
    {
     "data": {
      "text/plain": [
       "(3, 3)"
      ]
     },
     "execution_count": 104,
     "metadata": {},
     "output_type": "execute_result"
    }
   ],
   "source": [
    "np.dot(np.zeros([3,3,3]),np.zeros([3])).shape"
   ]
  },
  {
   "cell_type": "code",
   "execution_count": 106,
   "id": "f9d50fa9-2c1a-4759-83e1-ab8cd8daa169",
   "metadata": {},
   "outputs": [],
   "source": [
    "ex, ey, ez = np.array([3,2,1])"
   ]
  },
  {
   "cell_type": "code",
   "execution_count": 107,
   "id": "ba9512c1-1999-4ecb-a17e-c3053a4b4450",
   "metadata": {},
   "outputs": [
    {
     "data": {
      "text/plain": [
       "(3, 2, 1)"
      ]
     },
     "execution_count": 107,
     "metadata": {},
     "output_type": "execute_result"
    }
   ],
   "source": [
    "ex, ey, ez"
   ]
  },
  {
   "cell_type": "code",
   "execution_count": null,
   "id": "4a94d815-77d2-43d6-8bce-623cb65f4edd",
   "metadata": {},
   "outputs": [],
   "source": []
  }
 ],
 "metadata": {
  "kernelspec": {
   "display_name": "Python 3 (ipykernel)",
   "language": "python",
   "name": "python3"
  },
  "language_info": {
   "codemirror_mode": {
    "name": "ipython",
    "version": 3
   },
   "file_extension": ".py",
   "mimetype": "text/x-python",
   "name": "python",
   "nbconvert_exporter": "python",
   "pygments_lexer": "ipython3",
   "version": "3.10.2"
  }
 },
 "nbformat": 4,
 "nbformat_minor": 5
}
