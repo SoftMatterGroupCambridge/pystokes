{
 "cells": [
  {
   "cell_type": "markdown",
   "id": "6c9260c4-9451-4d1a-8c8f-97a7d738dad2",
   "metadata": {},
   "source": [
    "In this notebook we compare the translational mobility coefficients for a pair of passive spheres for \n",
    "\n",
    " - PyStokes\n",
    " - linear solver: FTS Stokesian dynamics (F2s only)\n",
    " - linear solver: including all long-ranged traction modes\n",
    " \n",
    " to the exact solution given by **Goldmann, Cox and Brenner (1966)** using bipolar coordinates finding exact numerical values for the terminal speed of two spheres sedimenting, later re-used by **Batchelor (1971)**, and also **Ladd (1988)**. \n",
    " \n",
    " Can further compare with results obtained using BEM by **Tran-Cong and Phan-Thien**. To be done..."
   ]
  },
  {
   "cell_type": "code",
   "execution_count": 1,
   "id": "795c9edc-c34d-49b7-bcf8-c32f67b387f1",
   "metadata": {},
   "outputs": [],
   "source": [
    "%matplotlib inline\n",
    "import numpy as np, matplotlib.pyplot as plt\n",
    "\n",
    "import pystokes\n",
    "from linearSolveFTS import linearSolve_direct as linearSolveFTS\n",
    "from linearSolve import linearSolve_direct as linearSolve\n",
    "\n",
    "import simTools"
   ]
  },
  {
   "cell_type": "code",
   "execution_count": 2,
   "id": "2989a38f-2058-4f3c-a1fd-095df91f878a",
   "metadata": {},
   "outputs": [],
   "source": [
    "PI = 3.14159265359\n",
    "\n",
    "# particle radius, self-propulsion speed, number and fluid viscosity\n",
    "b, Np, eta = 1.0, 2, 0.1\n",
    "\n",
    "## passive particle\n",
    "D0  = 0.      \n",
    "S0  = 0.\n",
    "\n",
    "## normalising factor: one-particle mobility\n",
    "mu0 = 1./(6*PI*eta*b)"
   ]
  },
  {
   "cell_type": "markdown",
   "id": "b675a924-aab3-49e4-80f6-5128fa7eec75",
   "metadata": {},
   "source": [
    "The results are compared at the nine fixed ratios $r/b$, where $r$ is the centre-to-centre distance: $2.0,\\, 2.0049,\\, 2.0907,\\, 2.2553,\\, 2.6749,\\, 3.0862,\\, 4.0,\\, 6.0,\\, 8.0$"
   ]
  },
  {
   "cell_type": "code",
   "execution_count": 3,
   "id": "dfccfd2e-88d9-4735-a48f-6a14e25c2430",
   "metadata": {},
   "outputs": [],
   "source": [
    "rb = np.array([2.0, 2.0049, 2.0907, 2.2553, 2.6749, 3.0862, 4.0, 6.0, 8.0])"
   ]
  },
  {
   "cell_type": "markdown",
   "id": "20676856-e0e0-49da-ab32-96811c86497f",
   "metadata": {},
   "source": [
    "___________\n",
    "\n",
    "### Exact results (normalised by $\\mu_0$)"
   ]
  },
  {
   "cell_type": "code",
   "execution_count": 4,
   "id": "9e0243c8-2e31-4c79-b014-a920529e015d",
   "metadata": {},
   "outputs": [],
   "source": [
    "muPara = np.array([1.5500, 1.5494, 1.5376, 1.5160, 1.4662, 1.4236, 1.3472, 1.2427, 1.1847]) #force parallel to line of centers\n",
    "muPerp = np.array([1.3799, 1.4027, 1.3933, 1.3648, 1.3029, 1.2586, 1.1950, 1.1273, 1.0947]) #force perpendicular to line of centers"
   ]
  },
  {
   "cell_type": "markdown",
   "id": "8ebf1af4-b805-4b43-b1b0-59abb771ac1f",
   "metadata": {},
   "source": [
    "____________\n",
    "\n",
    "### PyStokes"
   ]
  },
  {
   "cell_type": "code",
   "execution_count": 5,
   "id": "878777f5-7256-4a19-b935-b76653a8ce01",
   "metadata": {},
   "outputs": [],
   "source": [
    "pstk = pystokes.unbounded.Rbm(b, Np, eta)\n",
    "## define distances that iterate through rb/2 and forces parallel and perpendicular to these distances \n",
    "\n",
    "pstk_muPara = np.zeros(rb.shape[0])\n",
    "pstk_muPerp = np.zeros(rb.shape[0])\n",
    "\n",
    "\n",
    "r, F, T, v, o = np.zeros(3*Np), np.zeros(3*Np), np.zeros(3*Np), np.zeros(3*Np), np.zeros(3*Np)\n",
    "\n",
    "## parallel\n",
    "k=0\n",
    "for rb_ in rb:\n",
    "    #separation in x-direction\n",
    "    r[0] = -rb_/2.\n",
    "    r[1] =  rb_/2.\n",
    "    for i in range(Np):\n",
    "        #force parallel to separation - along x axis\n",
    "        F[i]      = 1.0\n",
    "        F[i+Np]   = 0.0 \n",
    "        F[i+2*Np] = 0.0\n",
    "        \n",
    "        v[i]      = 0.0\n",
    "        v[i+Np]   = 0.0\n",
    "        v[i+2*Np] = 0.0\n",
    "        \n",
    "        o[i]      = 0.0\n",
    "        o[i+Np]   = 0.0\n",
    "        o[i+2*Np] = 0.0\n",
    "    \n",
    "    pstk.mobilityTT(v,r,F)\n",
    "    pstk.mobilityTR(v,r,T)\n",
    "    pstk.mobilityRT(o,r,F)\n",
    "    pstk.mobilityRR(o,r,T)\n",
    "        \n",
    "    pstk_muPara[k] = v[0]/mu0 ## force is unity, so raw mobility is just velocity. Normalised by one-particle mobility\n",
    "    k += 1\n",
    "    \n",
    "## perpendicular\n",
    "k=0\n",
    "for rb_ in rb:\n",
    "    #separation in x-direction\n",
    "    r[0] = -rb_/2.\n",
    "    r[1] =  rb_/2.\n",
    "    for i in range(Np):\n",
    "        #force perpendicular to separation - along z axis\n",
    "        F[i]      = 0.0\n",
    "        F[i+Np]   = 0.0 \n",
    "        F[i+2*Np] = 1.0\n",
    "        \n",
    "        v[i]      = 0.0\n",
    "        v[i+Np]   = 0.0\n",
    "        v[i+2*Np] = 0.0\n",
    "        \n",
    "        o[i]      = 0.0\n",
    "        o[i+Np]   = 0.0\n",
    "        o[i+2*Np] = 0.0\n",
    "        \n",
    "    pstk.mobilityTT(v,r,F)\n",
    "    pstk.mobilityTR(v,r,T)\n",
    "    pstk.mobilityRT(o,r,F)\n",
    "    pstk.mobilityRR(o,r,T)\n",
    "        \n",
    "    pstk_muPerp[k] = v[4]/mu0 ## force is unity, so raw mobility is just velocity. Normalised by one-particle mobility\n",
    "    k += 1"
   ]
  },
  {
   "cell_type": "code",
   "execution_count": 6,
   "id": "d67d9e9d-591a-400f-9d24-115ee37a865e",
   "metadata": {},
   "outputs": [
    {
     "data": {
      "text/plain": [
       "array([1.0483871 , 1.04820011, 1.04580903, 1.04084827, 1.02886353,\n",
       "       1.01996004, 1.00903726, 1.00214885, 1.00071484])"
      ]
     },
     "execution_count": 6,
     "metadata": {},
     "output_type": "execute_result"
    }
   ],
   "source": [
    "pstk_muPara/muPara"
   ]
  },
  {
   "cell_type": "code",
   "execution_count": 7,
   "id": "9eea16c2-fbb8-4dd5-8d32-e59e7a81776e",
   "metadata": {},
   "outputs": [
    {
     "data": {
      "text/plain": [
       "array([1.04174216, 1.02383002, 1.01445853, 1.00830671, 1.0027698 ,\n",
       "       1.00113384, 1.00026151, 1.00001314, 1.00002426])"
      ]
     },
     "execution_count": 7,
     "metadata": {},
     "output_type": "execute_result"
    }
   ],
   "source": [
    "pstk_muPerp/muPerp"
   ]
  },
  {
   "cell_type": "markdown",
   "id": "2c414c6b-a94e-4a03-a504-e63af763c850",
   "metadata": {},
   "source": [
    "___________\n",
    "\n",
    "### FTS linear solver"
   ]
  },
  {
   "cell_type": "code",
   "execution_count": 8,
   "id": "df5f602a-dbaf-492f-b339-54bf717c1b25",
   "metadata": {},
   "outputs": [],
   "source": [
    "lsFTS = linearSolveFTS(b, Np, eta)\n",
    "## define distances that iterate through rb/2 and forces parallel and perpendicular to these distances \n",
    "\n",
    "lsFTS_muPara = np.zeros(rb.shape[0])\n",
    "lsFTS_muPerp = np.zeros(rb.shape[0])\n",
    "\n",
    "\n",
    "r, F, T, v, o = np.zeros(3*Np), np.zeros(3*Np), np.zeros(3*Np), np.zeros(3*Np), np.zeros(3*Np)\n",
    "\n",
    "S = np.zeros(5*Np)\n",
    "\n",
    "## parallel\n",
    "k=0\n",
    "for rb_ in rb:\n",
    "    #separation in x-direction\n",
    "    r[0] = -rb_/2.\n",
    "    r[1] =  rb_/2.\n",
    "    for i in range(Np):\n",
    "        #force parallel to separation - along x axis\n",
    "        F[i]      = 1.0\n",
    "        F[i+Np]   = 0.0 \n",
    "        F[i+2*Np] = 0.0\n",
    "        \n",
    "        v[i]      = 0.0\n",
    "        v[i+Np]   = 0.0\n",
    "        v[i+2*Np] = 0.0\n",
    "        \n",
    "        o[i]      = 0.0\n",
    "        o[i+Np]   = 0.0\n",
    "        o[i+2*Np] = 0.0\n",
    "    \n",
    "    lsFTS.RBM(v, o, r, F, T, S)\n",
    "        \n",
    "    lsFTS_muPara[k] = v[0]/mu0 ## force is unity, so raw mobility is just velocity. Normalised by one-particle mobility\n",
    "    k += 1\n",
    "    \n",
    "## perpendicular\n",
    "k=0\n",
    "for rb_ in rb:\n",
    "    #separation in x-direction\n",
    "    r[0] = -rb_/2.\n",
    "    r[1] =  rb_/2.\n",
    "    for i in range(Np):\n",
    "        #force perpendicular to separation - along z axis\n",
    "        F[i]      = 0.0\n",
    "        F[i+Np]   = 0.0 \n",
    "        F[i+2*Np] = 1.0\n",
    "        \n",
    "        v[i]      = 0.0\n",
    "        v[i+Np]   = 0.0\n",
    "        v[i+2*Np] = 0.0\n",
    "        \n",
    "        o[i]      = 0.0\n",
    "        o[i+Np]   = 0.0\n",
    "        o[i+2*Np] = 0.0\n",
    "        \n",
    "    lsFTS.RBM(v, o, r, F, T, S)\n",
    "        \n",
    "    lsFTS_muPerp[k] = v[4]/mu0 ## force is unity, so raw mobility is just velocity. Normalised by one-particle mobility\n",
    "    k += 1"
   ]
  },
  {
   "cell_type": "code",
   "execution_count": 9,
   "id": "decd0493-a957-457b-9d5a-90b98d3e55c1",
   "metadata": {},
   "outputs": [
    {
     "data": {
      "text/plain": [
       "array([1.01064516, 1.01056976, 1.0101971 , 1.00934785, 1.00691264,\n",
       "       1.00480553, 1.00208139, 1.00040843, 1.0001074 ])"
      ]
     },
     "execution_count": 9,
     "metadata": {},
     "output_type": "execute_result"
    }
   ],
   "source": [
    "lsFTS_muPara/muPara"
   ]
  },
  {
   "cell_type": "code",
   "execution_count": 10,
   "id": "df16b3b6-ecb9-4ecc-b8d1-cdc44e7320d1",
   "metadata": {},
   "outputs": [
    {
     "data": {
      "text/plain": [
       "array([1.03706673, 1.019318  , 1.01119299, 1.00648142, 1.00228371,\n",
       "       1.00097488, 1.00024075, 1.00001229, 1.00002418])"
      ]
     },
     "execution_count": 10,
     "metadata": {},
     "output_type": "execute_result"
    }
   ],
   "source": [
    "lsFTS_muPerp/muPerp"
   ]
  },
  {
   "cell_type": "markdown",
   "id": "c0e59f02-ebf4-4835-bd12-cec716e4de03",
   "metadata": {
    "tags": []
   },
   "source": [
    "______________\n",
    "\n",
    "## full linear solver"
   ]
  },
  {
   "cell_type": "code",
   "execution_count": 11,
   "id": "fb3f473d-d504-4b78-80c1-4e133e2a766a",
   "metadata": {},
   "outputs": [],
   "source": [
    "ls = linearSolve(b, Np, eta)\n",
    "## define distances that iterate through rb/2 and forces parallel and perpendicular to these distances \n",
    "\n",
    "ls_muPara = np.zeros(rb.shape[0])\n",
    "ls_muPerp = np.zeros(rb.shape[0])\n",
    "\n",
    "\n",
    "r, F, T, v, o = np.zeros(3*Np), np.zeros(3*Np), np.zeros(3*Np), np.zeros(3*Np), np.zeros(3*Np)\n",
    "\n",
    "S = np.zeros(5*Np)\n",
    "D = np.zeros(3*Np)\n",
    "\n",
    "## parallel\n",
    "k=0\n",
    "for rb_ in rb:\n",
    "    #separation in x-direction\n",
    "    r[0] = -rb_/2.\n",
    "    r[1] =  rb_/2.\n",
    "    for i in range(Np):\n",
    "        #force parallel to separation - along x axis\n",
    "        F[i]      = 1.0\n",
    "        F[i+Np]   = 0.0 \n",
    "        F[i+2*Np] = 0.0\n",
    "        \n",
    "        v[i]      = 0.0\n",
    "        v[i+Np]   = 0.0\n",
    "        v[i+2*Np] = 0.0\n",
    "        \n",
    "        o[i]      = 0.0\n",
    "        o[i+Np]   = 0.0\n",
    "        o[i+2*Np] = 0.0\n",
    "    \n",
    "    ls.RBM(v, o, r, F, T, S, D)\n",
    "        \n",
    "    ls_muPara[k] = v[0]/mu0 ## force is unity, so raw mobility is just velocity. Normalised by one-particle mobility\n",
    "    k += 1\n",
    "    \n",
    "## perpendicular\n",
    "k=0\n",
    "for rb_ in rb:\n",
    "    #separation in x-direction\n",
    "    r[0] = -rb_/2.\n",
    "    r[1] =  rb_/2.\n",
    "    for i in range(Np):\n",
    "        #force perpendicular to separation - along z axis\n",
    "        F[i]      = 0.0\n",
    "        F[i+Np]   = 0.0 \n",
    "        F[i+2*Np] = 1.0\n",
    "        \n",
    "        v[i]      = 0.0\n",
    "        v[i+Np]   = 0.0\n",
    "        v[i+2*Np] = 0.0\n",
    "        \n",
    "        o[i]      = 0.0\n",
    "        o[i+Np]   = 0.0\n",
    "        o[i+2*Np] = 0.0\n",
    "        \n",
    "    ls.RBM(v, o, r, F, T, S, D)\n",
    "        \n",
    "    ls_muPerp[k] = v[4]/mu0 ## force is unity, so raw mobility is just velocity. Normalised by one-particle mobility\n",
    "    k += 1"
   ]
  },
  {
   "cell_type": "code",
   "execution_count": 12,
   "id": "ae617865-4d6e-4ca9-bd3b-7e250b623fed",
   "metadata": {},
   "outputs": [
    {
     "data": {
      "text/plain": [
       "array([1.00815716, 1.00808349, 1.00775877, 1.00708938, 1.00532532,\n",
       "       1.00379596, 1.00173563, 1.00036365, 1.00009822])"
      ]
     },
     "execution_count": 12,
     "metadata": {},
     "output_type": "execute_result"
    }
   ],
   "source": [
    "ls_muPara/muPara"
   ]
  },
  {
   "cell_type": "code",
   "execution_count": 13,
   "id": "11bf3f73-1175-406c-974f-c5ee8ebb6305",
   "metadata": {},
   "outputs": [
    {
     "data": {
      "text/plain": [
       "array([1.03269812, 1.01508292, 1.00787517, 1.00432306, 1.00144892,\n",
       "       1.00059606, 1.00015153, 1.00000347, 1.00002252])"
      ]
     },
     "execution_count": 13,
     "metadata": {},
     "output_type": "execute_result"
    }
   ],
   "source": [
    "ls_muPerp/muPerp"
   ]
  },
  {
   "cell_type": "markdown",
   "id": "1f9aa137-b36f-48e7-b1ca-a218ee7382aa",
   "metadata": {
    "tags": []
   },
   "source": [
    "________________\n",
    "\n",
    "## Plotting"
   ]
  },
  {
   "cell_type": "code",
   "execution_count": 14,
   "id": "69143632-944d-4542-b4dc-62376af32451",
   "metadata": {},
   "outputs": [
    {
     "data": {
      "image/png": "[encoded data removed]",
      "text/plain": [
       "<Figure size 432x288 with 1 Axes>"
      ]
     },
     "metadata": {
      "needs_background": "light"
     },
     "output_type": "display_data"
    }
   ],
   "source": [
    "plt.plot(rb, pstk_muPara/muPara, label='pystokes', marker='o', linestyle=\"None\")\n",
    "plt.plot(rb, lsFTS_muPara/muPara, label='FTS', marker='^', linestyle=\"None\")\n",
    "plt.plot(rb, ls_muPara/muPara, label='full', marker='x', linestyle=\"None\")\n",
    "plt.axhline(y=1., color='grey', linestyle='--', linewidth=1)\n",
    "plt.xlabel('$r/b$')\n",
    "plt.ylabel('$\\mu_\\parallel/\\mu_\\parallel(exact)$')\n",
    "plt.legend()\n",
    "plt.show()"
   ]
  },
  {
   "cell_type": "code",
   "execution_count": 15,
   "id": "94fcdc8c-5960-4da4-a2c2-5e98ce650cab",
   "metadata": {},
   "outputs": [
    {
     "data": {
      "image/png": "[encoded data removed]",
      "text/plain": [
       "<Figure size 432x288 with 1 Axes>"
      ]
     },
     "metadata": {
      "needs_background": "light"
     },
     "output_type": "display_data"
    }
   ],
   "source": [
    "plt.plot(rb, pstk_muPerp/muPerp, label='pystokes', marker='o', linestyle=\"None\")\n",
    "plt.plot(rb, lsFTS_muPerp/muPerp, label='FTS', marker='^', linestyle=\"None\")\n",
    "plt.plot(rb, ls_muPerp/muPerp, label='full', marker='x', linestyle=\"None\")\n",
    "plt.axhline(y=1., color='grey', linestyle='--', linewidth=1)\n",
    "plt.xlabel('$r/b$')\n",
    "plt.ylabel('$\\mu_\\perp/\\mu_\\perp(exact)$')\n",
    "plt.legend()\n",
    "plt.show()"
   ]
  },
  {
   "cell_type": "code",
   "execution_count": null,
   "id": "bad04e9c-90f2-42fa-896f-3bd63b0b06a3",
   "metadata": {},
   "outputs": [],
   "source": []
  },
  {
   "cell_type": "code",
   "execution_count": null,
   "id": "3006976e-d3cf-42f2-bded-4cd20908e87b",
   "metadata": {},
   "outputs": [],
   "source": []
  },
  {
   "cell_type": "code",
   "execution_count": null,
   "id": "8409e786-972c-4cbe-8ac7-397892808b89",
   "metadata": {},
   "outputs": [],
   "source": []
  },
  {
   "cell_type": "code",
   "execution_count": null,
   "id": "fb231387-5f5d-4f66-91b7-77d86e7ce2e4",
   "metadata": {},
   "outputs": [],
   "source": []
  },
  {
   "cell_type": "code",
   "execution_count": null,
   "id": "7ab2b176-4d33-48cd-a8e3-7e7194e4b1cb",
   "metadata": {},
   "outputs": [],
   "source": []
  },
  {
   "cell_type": "code",
   "execution_count": null,
   "id": "11df9e1a-e0b7-4e17-a481-47f70cbcb7c6",
   "metadata": {},
   "outputs": [],
   "source": []
  },
  {
   "cell_type": "code",
   "execution_count": null,
   "id": "74742ad8-e2cc-4cfe-9548-89c1089a1289",
   "metadata": {},
   "outputs": [],
   "source": []
  },
  {
   "cell_type": "code",
   "execution_count": null,
   "id": "95aa80fa-b296-4d14-bdd8-e8c9e43453f9",
   "metadata": {},
   "outputs": [],
   "source": []
  },
  {
   "cell_type": "code",
   "execution_count": null,
   "id": "c783daf7-05e9-43ec-9c6e-14f9dc858640",
   "metadata": {},
   "outputs": [],
   "source": []
  },
  {
   "cell_type": "code",
   "execution_count": null,
   "id": "ba0e56e1-a010-433c-b9d1-658be20fba93",
   "metadata": {},
   "outputs": [],
   "source": []
  },
  {
   "cell_type": "code",
   "execution_count": null,
   "id": "9aa5bbd0-c9e9-4766-8804-4ab28b6e5545",
   "metadata": {},
   "outputs": [],
   "source": []
  },
  {
   "cell_type": "code",
   "execution_count": null,
   "id": "867997b1-34eb-4264-a0d5-38d07913a271",
   "metadata": {},
   "outputs": [],
   "source": []
  }
 ],
 "metadata": {
  "kernelspec": {
   "display_name": "Python 3 (ipykernel)",
   "language": "python",
   "name": "python3"
  },
  "language_info": {
   "codemirror_mode": {
    "name": "ipython",
    "version": 3
   },
   "file_extension": ".py",
   "mimetype": "text/x-python",
   "name": "python",
   "nbconvert_exporter": "python",
   "pygments_lexer": "ipython3",
   "version": "3.10.2"
  }
 },
 "nbformat": 4,
 "nbformat_minor": 5
}
