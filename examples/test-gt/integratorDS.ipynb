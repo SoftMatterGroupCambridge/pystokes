{
 "cells": [
  {
   "cell_type": "code",
   "execution_count": 1,
   "id": "0300b1d3-7805-45c3-9aa5-78b6f4625e7c",
   "metadata": {},
   "outputs": [],
   "source": [
    "%matplotlib inline\n",
    "from directSolve import DS\n",
    "import numpy as np, matplotlib.pyplot as plt\n",
    "import pystokes\n",
    "import matelms as me"
   ]
  },
  {
   "cell_type": "code",
   "execution_count": 2,
   "id": "5fc990e1-8ab8-4fd0-8f7a-f40548b3623f",
   "metadata": {},
   "outputs": [],
   "source": [
    "def rotation(vector,alpha, beta, gamma):\n",
    "    rotmat = np.array([[np.cos(beta)*np.cos(gamma), np.sin(alpha)*np.sin(beta)*np.cos(gamma) \n",
    "                        - np.cos(alpha)*np.sin(gamma), np.cos(alpha)*np.sin(beta)*np.cos(gamma)\n",
    "                        + np.sin(alpha)*np.sin(gamma)],\n",
    "                       [np.cos(beta)*np.sin(gamma),\n",
    "                        np.sin(alpha)*np.sin(beta)*np.sin(gamma) + np.cos(alpha)*np.cos(gamma),\n",
    "                        np.cos(alpha)*np.sin(beta)*np.sin(gamma) - np.sin(alpha)*np.cos(gamma)],\n",
    "                       [-np.sin(beta),\n",
    "                        np.sin(alpha)*np.cos(beta),\n",
    "                        np.cos(alpha)*np.cos(beta)]])\n",
    "    return np.dot(rotmat, vector)"
   ]
  },
  {
   "cell_type": "markdown",
   "id": "7a0544f0-190a-4031-add0-9c656549d821",
   "metadata": {},
   "source": [
    "___________________\n",
    "\n",
    "Try different simulator in case it's actually the ODE solver that goes wrong:"
   ]
  },
  {
   "cell_type": "code",
   "execution_count": 3,
   "id": "a41a0962-29cd-4012-9f72-f4cca4b32fc9",
   "metadata": {},
   "outputs": [],
   "source": [
    "# particle radius, self-propulsion speed, number and fluid viscosity\n",
    "b, Np, eta = 1.0, 2, 0.1\n",
    "\n",
    "## squirmer\n",
    "S0, D0  = -0.1, 0.0      # beta = 1 (positive beta is a puller (negative V2s))"
   ]
  },
  {
   "cell_type": "code",
   "execution_count": 4,
   "id": "82f55d4d-4b4e-4a44-9306-1f47710c4e93",
   "metadata": {},
   "outputs": [],
   "source": [
    "## initialise \n",
    "#initial position\n",
    "r = np.array([-1.5,1.5, 0,0 , 0., 0.])\n",
    "\n",
    "#initial angle\n",
    "th = np.zeros(3*Np)\n",
    "\n",
    "#initial orientation: 50 deg towards each other\n",
    "p0_  = np.array([0., 1., 0.])\n",
    "p01_ = rotation(p0_, 0., 0., -25*2*np.pi/360)\n",
    "p02_ = rotation(p0_, 0., 0., 25*2*np.pi/360)\n",
    "p0   = np.zeros(3*Np)\n",
    "p0[::Np]  = p01_\n",
    "p0[1::Np] = p02_\n",
    "\n",
    "# initial slip modes\n",
    "S = np.zeros(5*Np)\n",
    "D = np.zeros(3*Np)\n",
    "for i in range(Np):\n",
    "    ## S in order: xx, xy, xz, yy, yz\n",
    "    S[i]       = S0*(3*p0[i]*p0[i] -1)\n",
    "    S[i + Np]  = S0*(3*p0[i]*p0[i+Np])\n",
    "    S[i + 2*Np]= S0*(3*p0[i]*p0[i+2*Np])\n",
    "    S[i + 3*Np]= S0*(3*p0[i+Np]*p0[i+Np]-1)\n",
    "    S[i + 4*Np]= S0*(3*p0[i+Np]*p0[i+2*Np])\n",
    "    \n",
    "    D[i]       = D0*p0[i]\n",
    "    D[i+Np]    = D0*p0[i+Np]\n",
    "    D[i+2*Np]  = D0*p0[i+2*Np]"
   ]
  },
  {
   "cell_type": "code",
   "execution_count": 5,
   "id": "c584c98b-48e9-491f-b9f8-a6a83d1090b3",
   "metadata": {},
   "outputs": [],
   "source": [
    "def rhs(rth):\n",
    "    \"\"\"\n",
    "    Function that gives rhs for equations dr/dt=v and d theta/dt=o\n",
    "    \"\"\"\n",
    "    \n",
    "    #position and angle theta (relative to initial angle)\n",
    "    r = rth[0:3*Np]; th = rth[3*Np:6*Np]\n",
    "    \n",
    "    #placeholder for current rotation\n",
    "    p = np.zeros(3*Np)\n",
    "    \n",
    "    \n",
    "    #compute current orientation via initial orientation p0 and current angle th\n",
    "    for i in range(Np):\n",
    "        p[i], p[i+Np], p[i+2*Np] = rotation(np.array([p0[i],p0[i+Np],p0[i+2*Np]]), th[i], th[i+Np], th[i+2*Np])\n",
    "                                            \n",
    "        S[i]       = S0*(3*p[i]*p[i] -1)\n",
    "        S[i + Np]  = S0*(3*p[i]*p[i+Np])\n",
    "        S[i + 2*Np]= S0*(3*p[i]*p[i+2*Np])\n",
    "        S[i + 3*Np]= S0*(3*p[i+Np]*p[i+Np]-1)\n",
    "        S[i + 4*Np]= S0*(3*p[i+Np]*p[i+2*Np])\n",
    "    \n",
    "        D[i]       = D0*p[i]\n",
    "        D[i+Np]    = D0*p[i+Np]\n",
    "        D[i+2*Np]  = D0*p[i+2*Np]\n",
    "\n",
    "    #no inertia, set velocities and angular velocities to zero\n",
    "    #forces and torques could be set non-zero\n",
    "    F, T, v, o = np.zeros(3*Np), np.zeros(3*Np), np.zeros(3*Np), np.zeros(3*Np)\n",
    "    \n",
    "    #update repulsive force at position r\n",
    "    forces.lennardJones(F, r, lje=1., ljr=2.1)\n",
    "    \n",
    "    #update velocity and angular velocity at r, acted on by F and T, and with slip modes S an D\n",
    "    ds.directSolve(v, o, r, F, T, S, D)\n",
    "    \n",
    "    #return velocity and angular velocity as right-hand side\n",
    "    return np.concatenate( (v,o) )"
   ]
  },
  {
   "cell_type": "code",
   "execution_count": 6,
   "id": "eebf595d-12d3-40fe-a097-f5b10ecf2b0e",
   "metadata": {},
   "outputs": [],
   "source": [
    "def simulate(rth0, Tf, Npts, rhs, integrator='solve_ivp', Ti=0, maxNumSteps=100000, **kwargs):\n",
    "    \n",
    "    def dxdtEval(rth,t):\n",
    "        return rhs(rth)\n",
    "    \n",
    "    if integrator=='BDF': ## weird handling for this method\n",
    "        from scipy.integrate import BDF\n",
    "        X = BDF(lambda t, xt: dxdtEval(xt,t), Ti, rth0, Tf)\n",
    "        \n",
    "    if integrator=='odeint':\n",
    "        from scipy.integrate import odeint\n",
    "        time_points=np.linspace(Ti, Tf, Npts+1);\n",
    "        X = odeint(dxdtEval, rth0, time_points, mxstep=maxNumSteps, **kwargs)\n",
    "        \n",
    "    if integrator=='solve_ivp':\n",
    "        from scipy.integrate import solve_ivp\n",
    "        time_points=np.linspace(Ti, Tf, Npts+1)                                                          \n",
    "        X = solve_ivp(lambda t, xt: dxdtEval(xt,t), [0,Tf], rth0, \n",
    "                         t_eval=None, **kwargs)\n",
    "        \n",
    "    return X"
   ]
  },
  {
   "cell_type": "code",
   "execution_count": 7,
   "id": "be3aab8e-03ac-4212-b305-b70e1cf32c78",
   "metadata": {},
   "outputs": [],
   "source": [
    "#initiallize system and forces\n",
    "ds = DS(b, Np, eta)\n",
    "forces  = pystokes.forceFields.Forces(particles=Np)\n",
    "\n",
    "#simulate the resulting system\n",
    "\n",
    "rth0 = np.concatenate((r,th))\n",
    "Tf = 100.\n",
    "Npts = 100\n",
    "\n",
    "X = simulate(rth0, Tf, Npts, rhs, integrator='solve_ivp', Ti=0, maxNumSteps=1000, method='Radau')"
   ]
  },
  {
   "cell_type": "code",
   "execution_count": 8,
   "id": "3f4a16d0-7f00-4ed1-89d0-d11fa9eeeb8c",
   "metadata": {},
   "outputs": [
    {
     "data": {
      "text/plain": [
       "'Required step size is less than spacing between numbers.'"
      ]
     },
     "execution_count": 8,
     "metadata": {},
     "output_type": "execute_result"
    }
   ],
   "source": [
    "X.message"
   ]
  },
  {
   "cell_type": "code",
   "execution_count": 9,
   "id": "02660c86-401c-4ddc-8eaa-6c6e787d371c",
   "metadata": {},
   "outputs": [],
   "source": [
    "pos = X.y.T[:,0:3*Np]\n",
    "times = X.t"
   ]
  },
  {
   "cell_type": "code",
   "execution_count": 10,
   "id": "213135c4-e079-4971-8969-232ddd1f860d",
   "metadata": {},
   "outputs": [],
   "source": [
    "pos1 = pos[:,::Np]\n",
    "pos2 = pos[:,1::Np]"
   ]
  },
  {
   "cell_type": "code",
   "execution_count": 11,
   "id": "b3a7c135-9d96-49c5-9f01-0c80bc432299",
   "metadata": {},
   "outputs": [
    {
     "data": {
      "text/plain": [
       "[<matplotlib.lines.Line2D at 0x7f75f0d516f0>,\n",
       " <matplotlib.lines.Line2D at 0x7f75f0d51690>]"
      ]
     },
     "execution_count": 11,
     "metadata": {},
     "output_type": "execute_result"
    },
    {
     "data": {
      "image/png": "[encoded data removed]",
      "text/plain": [
       "<Figure size 432x288 with 1 Axes>"
      ]
     },
     "metadata": {
      "needs_background": "light"
     },
     "output_type": "display_data"
    }
   ],
   "source": [
    "##x-y plot like in Ishikawa\n",
    "plt.plot(pos1[:,0], pos1[:,1], pos2[:,0], pos2[:,1])"
   ]
  },
  {
   "cell_type": "code",
   "execution_count": 12,
   "id": "5f535366-d6e1-4dda-b603-8d3ed16923b1",
   "metadata": {},
   "outputs": [
    {
     "data": {
      "text/plain": [
       "array([0.        , 0.0176359 , 0.19399487, 0.41050529, 0.4646329 ,\n",
       "       0.4916967 , 0.49466427, 0.49763183, 0.49889018, 0.49999478,\n",
       "       0.50012138, 0.5001372 , 0.5001423 , 0.5001474 , 0.50014804,\n",
       "       0.50014812, 0.50014816, 0.50014816, 0.50014817, 0.50014817,\n",
       "       0.50014817, 0.50014817, 0.50014817, 0.50014817, 0.50014817,\n",
       "       0.50014817, 0.50014817, 0.50014817, 0.50014817, 0.50014817,\n",
       "       0.50014817, 0.50014817])"
      ]
     },
     "execution_count": 12,
     "metadata": {},
     "output_type": "execute_result"
    }
   ],
   "source": [
    "times"
   ]
  },
  {
   "cell_type": "code",
   "execution_count": 13,
   "id": "feb4b11d-5f8b-4f7f-9892-51985eb66dcd",
   "metadata": {},
   "outputs": [
    {
     "data": {
      "text/plain": [
       "2.4697628001619343"
      ]
     },
     "execution_count": 13,
     "metadata": {},
     "output_type": "execute_result"
    }
   ],
   "source": [
    "np.amin(np.abs(pos1[:,0]-pos2[:,0]))"
   ]
  },
  {
   "cell_type": "markdown",
   "id": "113b55f4-3534-460a-9c76-8c92cc01ca86",
   "metadata": {},
   "source": [
    " \n",
    "Comments:\n",
    "\n",
    "    -result has nothing to do with force - actually is the same without LJ potential\n",
    "    -step size becomes too small - either a stiff problem or solution wrong\n",
    "    -Try with different parameters:\n",
    "        *(3t) only, and straight upwards polarisation: seems to work, they repell eachother\n",
    "        *add (2s) with straight upwards polarisation: \n",
    "                - when S is negative, it does not work at all\n",
    "                - when S is positive, it does work and they swim apart (stronger repulsion than (3t) alone even when S is 1e2 times smaller than D). When they are of the same order, we get: takes forever.\n",
    "                - only S: positive, they separate. negative, they attracht each other --> seems to do something funny long before they overlap.\n",
    "                --> Check what happens to matrix elements etc when xij smaller than 2"
   ]
  },
  {
   "cell_type": "code",
   "execution_count": 106,
   "id": "3ae743d3-524a-4cbe-abba-616d742c362c",
   "metadata": {},
   "outputs": [],
   "source": [
    "minIndex = np.where((pos1[:,0]- pos2[:,0])==np.amax(pos1[:,0]- pos2[:,0]))\n",
    "#minIndex[0][0] -= 28\n",
    "xjk,yjk,zjk = (pos1[minIndex,:]-pos2[minIndex,:])[0][0]"
   ]
  },
  {
   "cell_type": "code",
   "execution_count": 107,
   "id": "36ad700c-9a72-4f8c-b352-aa187c58a17d",
   "metadata": {},
   "outputs": [
    {
     "data": {
      "text/plain": [
       "(-2.4697628001619343, -2.9558647196559207e-13, 1.2156554337117817e-12)"
      ]
     },
     "execution_count": 107,
     "metadata": {},
     "output_type": "execute_result"
    }
   ],
   "source": [
    "xjk,yjk,zjk"
   ]
  },
  {
   "cell_type": "code",
   "execution_count": 108,
   "id": "0b22bf84-2b28-4bda-9169-8345a5200475",
   "metadata": {},
   "outputs": [],
   "source": [
    "theta = X.y.T[:,3*Np:6*Np]\n",
    "\n",
    "##angles at minimum distance above\n",
    "theta = theta[minIndex,:][0][0]"
   ]
  },
  {
   "cell_type": "code",
   "execution_count": 109,
   "id": "7d151ae8-94e5-457b-ac30-17da48e7a1ce",
   "metadata": {},
   "outputs": [],
   "source": [
    "k=0\n",
    "\n",
    "F, T, = np.zeros(3*Np), np.zeros(3*Np)\n",
    "pol = np.zeros(3*Np)\n",
    "\n",
    "for i in range(Np): #rotated relative from initial polarisation (defined as theta=0)\n",
    "        pol[i], pol[i+Np], pol[i+2*Np] = rotation(np.array([p0[i],p0[i+Np],p0[i+2*Np]]), theta[i], theta[i+Np], theta[i+2*Np])\n",
    "                                            \n",
    "        S[i]       = S0*(3*pol[i]*pol[i] -1)\n",
    "        S[i + Np]  = S0*(3*pol[i]*pol[i+Np])\n",
    "        S[i + 2*Np]= S0*(3*pol[i]*pol[i+2*Np])\n",
    "        S[i + 3*Np]= S0*(3*pol[i+Np]*pol[i+Np]-1)\n",
    "        S[i + 4*Np]= S0*(3*pol[i+Np]*pol[i+2*Np])\n",
    "    \n",
    "        D[i]       = D0*pol[i]\n",
    "        D[i+Np]    = D0*pol[i+Np]\n",
    "        D[i+2*Np]  = D0*pol[i+2*Np]\n",
    "\n",
    "\n",
    "rhs = np.zeros(22)\n",
    "FH = np.zeros(22)\n",
    "\n",
    "force_k  = np.array([F[k],F[k+Np], F[k+2*Np]])\n",
    "torque_k = np.array([T[k],T[k+Np], T[k+2*Np]])\n",
    "S_k = np.array([S[k],S[k+Np],S[k+2*Np],S[k+3*Np],S[k+4*Np]])\n",
    "D_k = np.array([D[k],D[k+Np],D[k+2*Np]])\n",
    "VH_k = np.concatenate([S_k,D_k,np.zeros(14)])\n",
    "\n",
    "rhs += (np.dot(me.GH1s(xjk,yjk,zjk, b,eta), force_k) \n",
    "                                   + 1./b * np.dot(me.GH2a(xjk,yjk,zjk, b,eta), torque_k)\n",
    "                                   - np.dot(me.halfMinusKHH(xjk,yjk,zjk, b,eta), VH_k))\n",
    "\n",
    "#F2s = -ds.g2s*S_k\n",
    "#F3t = -ds.g3t*D_k\n",
    "#FH += np.concatenate([F2s,F3t,np.zeros(14)])"
   ]
  },
  {
   "cell_type": "code",
   "execution_count": 110,
   "id": "a7096a16-4a56-4e82-bb23-8733f98bbd68",
   "metadata": {},
   "outputs": [
    {
     "data": {
      "text/plain": [
       "array([4.08934712e-01, 9.12563642e-01, 1.79005120e-12])"
      ]
     },
     "execution_count": 110,
     "metadata": {},
     "output_type": "execute_result"
    }
   ],
   "source": [
    "##current orientation of particle 1\n",
    "pol[::Np]"
   ]
  },
  {
   "cell_type": "code",
   "execution_count": 111,
   "id": "78fd115b-94cf-4541-8fcc-eb8303afdac2",
   "metadata": {},
   "outputs": [
    {
     "data": {
      "text/plain": [
       "array([-6.46477319e+08,  2.13136543e+00,  4.53683481e+02, -1.29295464e+09,\n",
       "        4.37732718e-01, -1.48542301e+08, -3.42428220e+01,  1.98009688e+04,\n",
       "       -6.38861012e-02, -4.58940391e+03,  1.97388951e+00, -1.27772204e-01,\n",
       "       -3.77407619e+08, -5.50157388e+07,  3.47663025e+01, -8.43065013e+02,\n",
       "       -4.58527905e+08,  2.73219911e-01,  3.48496428e+08,  3.47661576e+01,\n",
       "        9.96924306e+03,  3.47662542e+01])"
      ]
     },
     "execution_count": 111,
     "metadata": {},
     "output_type": "execute_result"
    }
   ],
   "source": [
    "lhs_inv = np.linalg.pinv(me.GHH(xjk,yjk,zjk, b,eta))\n",
    "FH += np.dot(lhs_inv, rhs)\n",
    "FH"
   ]
  },
  {
   "cell_type": "code",
   "execution_count": 112,
   "id": "17a8d5a6-3e90-4805-9d68-a0a67e329e69",
   "metadata": {},
   "outputs": [
    {
     "data": {
      "text/plain": [
       "array([ 8.86038409e+06, -3.30429585e-02, -1.89330792e+01])"
      ]
     },
     "execution_count": 112,
     "metadata": {},
     "output_type": "execute_result"
    }
   ],
   "source": [
    "-np.dot(me.G1sH(xjk,yjk,zjk, b,eta), FH)"
   ]
  },
  {
   "cell_type": "code",
   "execution_count": 113,
   "id": "73a0c680-bcd5-4ea4-9aa7-0f255ea7f19d",
   "metadata": {},
   "outputs": [
    {
     "data": {
      "text/plain": [
       "array([-2.22914470e-04,  6.01793384e-03,  9.27733977e-15])"
      ]
     },
     "execution_count": 113,
     "metadata": {},
     "output_type": "execute_result"
    }
   ],
   "source": [
    "np.dot(me.K1sH(xjk,yjk,zjk, b,eta),VH_k)"
   ]
  },
  {
   "cell_type": "markdown",
   "id": "358c535f-b52b-4979-b59a-ee742d96de2f",
   "metadata": {},
   "source": [
    "G1sH x FH gives huge values of velocity and angular velocity for both modes on \n",
    "What happens for one mode only?\n",
    "(3t) minimum distance gives very normal values\n",
    "(2s) negative: huge values \n",
    "(2s) positive: huge values"
   ]
  },
  {
   "cell_type": "code",
   "execution_count": 114,
   "id": "bf1927c5-b0de-4b93-9430-cff9060bb5ff",
   "metadata": {},
   "outputs": [
    {
     "data": {
      "text/plain": [
       "array([0., 0., 0.])"
      ]
     },
     "execution_count": 114,
     "metadata": {},
     "output_type": "execute_result"
    }
   ],
   "source": [
    "ds.G01s*force_k + 0.2*D_k"
   ]
  },
  {
   "cell_type": "code",
   "execution_count": 115,
   "id": "bb914593-e922-43ae-9739-0a4fb9d49bb7",
   "metadata": {},
   "outputs": [
    {
     "data": {
      "text/plain": [
       "array([-3.16126162e-02,  5.42104408e-02,  1.12376603e-13,  7.76120281e-02,\n",
       "        2.43526716e-13,  0.00000000e+00,  0.00000000e+00,  0.00000000e+00,\n",
       "        0.00000000e+00,  0.00000000e+00,  0.00000000e+00,  0.00000000e+00,\n",
       "        0.00000000e+00,  0.00000000e+00,  0.00000000e+00,  0.00000000e+00,\n",
       "        0.00000000e+00,  0.00000000e+00,  0.00000000e+00,  0.00000000e+00,\n",
       "        0.00000000e+00,  0.00000000e+00])"
      ]
     },
     "execution_count": 115,
     "metadata": {},
     "output_type": "execute_result"
    }
   ],
   "source": [
    "rhs"
   ]
  },
  {
   "cell_type": "markdown",
   "id": "31d82aef-7705-4361-bfec-d815fbc30986",
   "metadata": {},
   "source": [
    "As soon as (2s) is on and negative, G1sH x FH is huge. FH itself is huge. rhs is small, but lhs_inv is huge. \n",
    "\n",
    "Have to re-formulate problem, make G^HH invertible. \n",
    "\n",
    "1/2 - K^HH is probably not quite right, and G^HH invert. re-do solving for F^H"
   ]
  },
  {
   "cell_type": "code",
   "execution_count": 116,
   "id": "ba0c1984-b6d0-4d4b-b6b6-ab003d56262a",
   "metadata": {},
   "outputs": [
    {
     "data": {
      "text/plain": [
       "array([-3.16126162e-02,  5.42104408e-02,  1.12376603e-13,  7.76120281e-02,\n",
       "        2.43526716e-13, -0.00000000e+00, -0.00000000e+00, -0.00000000e+00,\n",
       "       -0.00000000e+00, -0.00000000e+00, -0.00000000e+00, -0.00000000e+00,\n",
       "       -0.00000000e+00, -0.00000000e+00, -0.00000000e+00, -0.00000000e+00,\n",
       "       -0.00000000e+00, -0.00000000e+00, -0.00000000e+00, -0.00000000e+00,\n",
       "       -0.00000000e+00, -0.00000000e+00])"
      ]
     },
     "execution_count": 116,
     "metadata": {},
     "output_type": "execute_result"
    }
   ],
   "source": [
    "- np.dot(me.halfMinusKHH(xjk,yjk,zjk, b,eta), VH_k)"
   ]
  },
  {
   "cell_type": "code",
   "execution_count": 117,
   "id": "e6894f42-cc57-4f8b-b61f-c0207674a849",
   "metadata": {},
   "outputs": [
    {
     "data": {
      "text/plain": [
       "array([-6.69675597e-03, -1.76640172e-03,  2.57449188e-15,  2.69616787e-03,\n",
       "       -1.50363071e-15,  0.00000000e+00,  0.00000000e+00,  0.00000000e+00,\n",
       "        0.00000000e+00,  0.00000000e+00,  0.00000000e+00,  0.00000000e+00,\n",
       "        0.00000000e+00,  0.00000000e+00,  0.00000000e+00,  0.00000000e+00,\n",
       "        0.00000000e+00,  0.00000000e+00,  0.00000000e+00,  0.00000000e+00,\n",
       "        0.00000000e+00,  0.00000000e+00])"
      ]
     },
     "execution_count": 117,
     "metadata": {},
     "output_type": "execute_result"
    }
   ],
   "source": [
    "np.dot(me.KHH(xjk,yjk,zjk, b,eta), VH_k)"
   ]
  },
  {
   "cell_type": "code",
   "execution_count": 118,
   "id": "764dbd5f-0191-410c-83ba-4b5ae5708d06",
   "metadata": {},
   "outputs": [
    {
     "data": {
      "text/plain": [
       "array([-6.46477319e+08,  2.13136543e+00,  4.53683481e+02, -1.29295464e+09,\n",
       "        4.37732718e-01, -1.48542301e+08, -3.42428220e+01,  1.98009688e+04,\n",
       "       -6.38861012e-02, -4.58940391e+03,  1.97388951e+00, -1.27772204e-01,\n",
       "       -3.77407619e+08, -5.50157388e+07,  3.47663025e+01, -8.43065013e+02,\n",
       "       -4.58527905e+08,  2.73219911e-01,  3.48496428e+08,  3.47661576e+01,\n",
       "        9.96924306e+03,  3.47662542e+01])"
      ]
     },
     "execution_count": 118,
     "metadata": {},
     "output_type": "execute_result"
    }
   ],
   "source": [
    "np.dot(lhs_inv, - np.dot(me.halfMinusKHH(xjk,yjk,zjk, b,eta), VH_k))"
   ]
  },
  {
   "cell_type": "code",
   "execution_count": 119,
   "id": "9f0bbd48-a589-45ac-a36f-517fc6fffa78",
   "metadata": {},
   "outputs": [
    {
     "data": {
      "text/plain": [
       "array([ 6.82200703e+06, -6.94453357e-02, -4.78753355e+00,  1.36440139e+07,\n",
       "       -4.62922184e-03,  1.56750527e+06,  2.92886965e-01, -2.08951409e+02,\n",
       "        6.75624467e-04,  4.84300754e+01, -6.43165295e-02,  1.35124895e-03,\n",
       "        3.98262601e+06,  5.80558265e+05, -3.92231155e-01,  8.89651531e+00,\n",
       "        4.83865474e+06, -2.88942436e-03, -3.67753821e+06, -3.92229626e-01,\n",
       "       -1.05201286e+02, -3.92230645e-01])"
      ]
     },
     "execution_count": 119,
     "metadata": {},
     "output_type": "execute_result"
    }
   ],
   "source": [
    "np.dot(lhs_inv,np.dot(me.KHH(xjk,yjk,zjk, b,eta), VH_k))"
   ]
  },
  {
   "cell_type": "code",
   "execution_count": 120,
   "id": "8a3abd75-f987-43a4-bea8-68877fcb8b76",
   "metadata": {},
   "outputs": [
    {
     "data": {
      "text/plain": [
       "array([-9.34999465e+04,  1.07670029e-03,  1.99792929e-01])"
      ]
     },
     "execution_count": 120,
     "metadata": {},
     "output_type": "execute_result"
    }
   ],
   "source": [
    "-np.dot(me.G1sH(xjk,yjk,zjk, b,eta),np.dot(lhs_inv,np.dot(me.KHH(xjk,yjk,zjk, b,eta), VH_k)))"
   ]
  },
  {
   "cell_type": "code",
   "execution_count": 122,
   "id": "ab03bdb2-eec4-4d6e-be8a-f737fef706b2",
   "metadata": {},
   "outputs": [],
   "source": [
    "def hatGHH(xij,yij,zij, b,eta):\n",
    "    return np.block([[me.G2s2s(xij,yij,zij, b,eta), me.G2s3a(xij,yij,zij, b,eta), me.G2s3s(xij,yij,zij, b,eta)],\n",
    "                     [me.G3a2s(xij,yij,zij, b,eta), me.G3a3a(xij,yij,zij, b,eta), me.G3a3s(xij,yij,zij, b,eta)],\n",
    "                     [me.G3s2s(xij,yij,zij, b,eta), me.G3s3a(xij,yij,zij, b,eta), me.G3s3s(xij,yij,zij, b,eta)]])"
   ]
  },
  {
   "cell_type": "code",
   "execution_count": 134,
   "id": "3335fef7-1f02-4707-9c0e-807358256337",
   "metadata": {},
   "outputs": [
    {
     "data": {
      "text/plain": [
       "False"
      ]
     },
     "execution_count": 134,
     "metadata": {},
     "output_type": "execute_result"
    }
   ],
   "source": [
    "np.allclose(np.dot(np.linalg.inv(hatGHH(-xjk,-yjk,-zjk, b,eta)),hatGHH(xjk,yjk,zjk, b,eta)), np.identity(19))"
   ]
  },
  {
   "cell_type": "code",
   "execution_count": 136,
   "id": "8b83a682-9512-4973-b44a-d6c387c24a9f",
   "metadata": {},
   "outputs": [
    {
     "data": {
      "text/plain": [
       "array([[ 9.99999909e-01, -7.90556105e-21,  4.34560130e-20,\n",
       "         1.28900922e-08, -5.92003393e-27, -9.74116820e-27,\n",
       "         5.61894148e-20, -4.03545354e-20, -7.46522689e-27,\n",
       "         7.41569957e-09,  2.75059406e-07,  9.19057119e-20,\n",
       "        -1.38286596e-19, -4.08018549e-08,  5.18663786e-27,\n",
       "        -1.12334868e-07, -1.85370563e-20,  2.75771805e-20,\n",
       "        -1.93840892e-20],\n",
       "       [ 2.69690455e-20,  1.00000000e+00, -1.32746199e-32,\n",
       "        -5.87964771e-22,  4.55868109e-21, -2.86564874e-21,\n",
       "        -5.93610734e-32, -1.37504732e-15,  3.83674772e-20,\n",
       "        -5.41410424e-21, -6.26492707e-20,  6.81731238e-16,\n",
       "        -7.20869325e-32,  5.35187453e-21,  1.27754501e-20,\n",
       "         2.76648545e-20,  3.50362429e-17,  8.91254436e-33,\n",
       "         3.85056899e-17],\n",
       "       [ 8.13402139e-20,  2.06856125e-32,  1.00000000e+00,\n",
       "        -4.38989124e-20,  4.38624827e-21,  2.24514341e-21,\n",
       "         3.98855199e-16,  4.06147770e-32,  4.53349420e-21,\n",
       "        -4.09199744e-20, -3.49267445e-19, -1.05412613e-31,\n",
       "        -1.84485061e-16,  7.59725235e-20, -4.91927030e-22,\n",
       "         1.14051701e-19,  3.93369420e-32,  1.09336165e-17,\n",
       "         1.69961546e-32],\n",
       "       [-3.75046347e-08,  7.55479337e-22,  8.25150043e-20,\n",
       "         1.00000003e+00, -1.53321443e-26, -4.01720705e-26,\n",
       "         1.94406527e-19, -4.28211276e-20, -3.69052317e-26,\n",
       "        -2.98703142e-08,  3.38911168e-07,  8.95521040e-20,\n",
       "         1.35148384e-19, -2.24158394e-08,  1.54533671e-26,\n",
       "        -1.06710769e-07, -2.77920422e-20,  4.59833498e-20,\n",
       "        -3.28742399e-20],\n",
       "       [-1.21923882e-25,  5.28330713e-20,  7.07171092e-21,\n",
       "         4.97355674e-26,  9.99999995e-01,  1.06613068e-08,\n",
       "         5.49098067e-20, -1.64023613e-20, -3.18753075e-08,\n",
       "         2.20391842e-26,  2.61909078e-25, -7.43884025e-20,\n",
       "        -2.37450163e-20, -1.02964715e-25, -1.80687830e-08,\n",
       "        -8.26389536e-26,  1.23825801e-22,  4.72021302e-21,\n",
       "         6.90008938e-21],\n",
       "       [ 1.77944924e-26,  1.67499890e-21, -1.71820477e-21,\n",
       "        -7.25877298e-27, -2.12752409e-09,  1.00000000e+00,\n",
       "        -9.87750376e-21, -1.65679085e-20, -1.33876576e-08,\n",
       "        -3.21657494e-27, -3.82250800e-26, -2.13913393e-21,\n",
       "        -4.98230797e-21,  1.50274627e-26,  1.80039865e-09,\n",
       "         1.20609959e-26,  2.25088233e-21,  2.76691023e-21,\n",
       "         1.82736586e-21],\n",
       "       [-1.19432293e-20, -1.01155505e-32, -4.22613366e-17,\n",
       "         8.96721354e-21,  3.25959364e-22,  1.66260196e-21,\n",
       "         1.00000000e+00, -3.02566445e-32,  4.61000970e-21,\n",
       "         3.70924582e-20,  1.03799417e-19,  5.86451462e-32,\n",
       "        -8.36906089e-17, -3.17425219e-20, -1.09839179e-22,\n",
       "        -2.34879927e-20, -3.85227294e-32, -1.87210977e-17,\n",
       "        -1.02115592e-32],\n",
       "       [ 1.37584455e-20, -2.08594195e-16, -8.89671388e-33,\n",
       "        -2.16863591e-21,  2.54335194e-21,  4.53408815e-21,\n",
       "         5.65033595e-33,  1.00000000e+00,  1.29266489e-20,\n",
       "        -8.36575411e-21, -3.27064562e-20,  2.50366920e-16,\n",
       "         3.40874334e-32,  7.73916027e-21, -1.32201710e-21,\n",
       "         1.23465087e-20, -4.58197043e-16, -8.14132661e-33,\n",
       "        -1.25130136e-16],\n",
       "       [ 3.55889724e-26, -1.02025294e-20, -4.82777639e-23,\n",
       "        -1.45175445e-26, -4.25504818e-09,  4.42344817e-09,\n",
       "        -2.03607536e-20, -2.38332477e-20,  9.99999973e-01,\n",
       "        -6.43314539e-27, -7.64500722e-26,  5.27242368e-23,\n",
       "        -5.25941375e-21,  3.00549163e-26,  3.60079729e-09,\n",
       "         2.41219550e-26,  5.09282400e-21,  4.72384873e-21,\n",
       "        -8.45970316e-21],\n",
       "       [-2.75898308e-08, -1.34289316e-20,  1.23878017e-20,\n",
       "         1.15877662e-08, -6.61235287e-28, -9.31542740e-27,\n",
       "         2.47077300e-20, -3.43745115e-20,  1.99747661e-26,\n",
       "         1.00000002e+00,  1.28748685e-07,  8.29668284e-20,\n",
       "        -6.71840166e-20, -3.58492887e-08,  8.99709473e-27,\n",
       "        -5.26156188e-08, -3.45877146e-20,  1.65056229e-20,\n",
       "        -1.66941436e-20],\n",
       "       [-2.05699892e-08, -7.09875733e-21,  9.57610705e-21,\n",
       "         1.07092512e-08, -1.87244055e-27, -2.13354249e-27,\n",
       "         6.29176209e-21, -1.78583380e-20,  5.98272766e-27,\n",
       "         2.63732375e-09,  1.00000007e+00,  3.79900769e-20,\n",
       "        -1.25634553e-20, -1.33000343e-08,  5.29461772e-27,\n",
       "        -2.17472048e-08, -1.81852147e-20,  8.08147060e-21,\n",
       "        -7.12084687e-21],\n",
       "       [ 2.16218498e-22,  1.06384135e-16, -3.01100484e-33,\n",
       "         5.54363315e-22, -7.61348151e-21,  1.04306024e-20,\n",
       "         3.55353392e-32, -1.26444474e-15, -3.66021478e-20,\n",
       "        -1.93762497e-21, -2.07562007e-20,  1.00000000e+00,\n",
       "         1.94559473e-32,  2.41624940e-21, -1.05614674e-20,\n",
       "         6.99575306e-21, -1.01718792e-15, -6.29612508e-33,\n",
       "        -2.40031805e-16],\n",
       "       [ 7.75022895e-21, -1.70134620e-33, -6.10562757e-18,\n",
       "        -4.90450969e-21, -3.39928343e-22, -6.28595388e-22,\n",
       "         2.68458141e-16, -4.25521020e-33,  8.92520253e-22,\n",
       "        -4.03513321e-20, -3.59076420e-20, -3.00491159e-32,\n",
       "         1.00000000e+00, -5.99475054e-20,  5.89017936e-21,\n",
       "         1.45411016e-20, -1.22953174e-33, -6.72793385e-17,\n",
       "         3.39270013e-33],\n",
       "       [-2.79413140e-08, -2.37578615e-21,  2.32734657e-20,\n",
       "         1.92392699e-08, -6.77097278e-27, -1.72514341e-26,\n",
       "        -2.17288116e-20, -3.52392112e-20, -7.73912268e-27,\n",
       "         2.85676595e-09,  1.21053953e-07,  6.59326268e-20,\n",
       "        -2.51443947e-20,  9.99999996e-01,  1.11187624e-26,\n",
       "        -4.02803011e-08, -2.14553304e-20,  1.05100507e-20,\n",
       "        -9.80862739e-21],\n",
       "       [-7.61013432e-26,  3.48009193e-21,  4.05114072e-21,\n",
       "         3.10434956e-26,  1.32337360e-08,  7.65903348e-09,\n",
       "         3.08085348e-20,  2.95322920e-20, -6.91194912e-09,\n",
       "         1.37561900e-26,  1.63476137e-25, -3.88484256e-20,\n",
       "        -3.34711023e-21, -6.42675756e-26,  9.99999982e-01,\n",
       "        -5.15809054e-26, -3.10518606e-21, -4.62590569e-21,\n",
       "         3.67107752e-21],\n",
       "       [-1.30864705e-09,  2.68103463e-22,  2.65204913e-21,\n",
       "         2.77427153e-09,  2.82600402e-27,  7.21887494e-27,\n",
       "        -1.92556316e-20,  3.16248412e-21,  8.99305348e-27,\n",
       "        -6.73547670e-10, -5.39778077e-09, -2.06587117e-21,\n",
       "        -1.25430520e-21, -1.69045858e-09, -9.44697580e-28,\n",
       "         1.00000002e+00,  1.93125537e-21, -1.17397610e-21,\n",
       "         3.43068599e-22],\n",
       "       [ 3.00517029e-21,  1.32863013e-16, -2.72082139e-33,\n",
       "         6.54189255e-22, -8.34373737e-21,  1.12768159e-20,\n",
       "         3.65077987e-33, -1.97293595e-15, -3.38112871e-20,\n",
       "        -3.01603082e-21,  7.60310845e-21,  8.97264494e-16,\n",
       "         1.02509906e-32,  1.99317593e-21,  2.84691418e-21,\n",
       "        -3.00275327e-21,  1.00000000e+00, -8.27913344e-34,\n",
       "        -3.33913603e-16],\n",
       "       [ 3.58749698e-20,  7.96610051e-33, -5.27164490e-17,\n",
       "        -1.52405623e-21,  1.90877212e-22, -7.30752837e-22,\n",
       "        -6.97923113e-16,  1.07715943e-32,  3.79133401e-21,\n",
       "        -8.78087948e-21, -1.39234795e-19, -9.11358273e-33,\n",
       "         2.38099802e-15,  1.58080994e-20, -1.56782148e-21,\n",
       "         5.27143872e-20,  3.34354579e-33,  1.00000000e+00,\n",
       "         5.75095822e-33],\n",
       "       [ 1.69406589e-21,  0.00000000e+00, -1.23259516e-32,\n",
       "        -8.47032947e-22, -8.77706464e-21,  2.81834975e-21,\n",
       "         1.23259516e-32,  0.00000000e+00, -5.42101086e-20,\n",
       "        -1.05879118e-22, -6.77626358e-21,  0.00000000e+00,\n",
       "         2.46519033e-32,  0.00000000e+00,  2.71050543e-20,\n",
       "         0.00000000e+00, -3.40649737e-16, -6.81923482e-33,\n",
       "         1.00000000e+00]])"
      ]
     },
     "execution_count": 136,
     "metadata": {},
     "output_type": "execute_result"
    }
   ],
   "source": [
    "np.dot(np.linalg.inv(hatGHH(xjk,yjk,zjk, b,eta)),hatGHH(xjk,yjk,zjk, b,eta))"
   ]
  },
  {
   "cell_type": "code",
   "execution_count": null,
   "id": "81789c5e-0a7a-4ee6-9e4f-4106f1601e97",
   "metadata": {},
   "outputs": [],
   "source": []
  },
  {
   "cell_type": "code",
   "execution_count": null,
   "id": "d20c202f-f131-45d9-8ee1-ea706f689c43",
   "metadata": {},
   "outputs": [],
   "source": []
  },
  {
   "cell_type": "code",
   "execution_count": null,
   "id": "d73c4ac6-193b-4f74-95ef-63d485fa6aa6",
   "metadata": {},
   "outputs": [],
   "source": []
  },
  {
   "cell_type": "code",
   "execution_count": null,
   "id": "d94c1072-24ea-48fe-99f3-05756e86d1ba",
   "metadata": {},
   "outputs": [],
   "source": []
  },
  {
   "cell_type": "code",
   "execution_count": null,
   "id": "60951949-0224-4b85-b2c9-58667af54899",
   "metadata": {},
   "outputs": [],
   "source": []
  },
  {
   "cell_type": "markdown",
   "id": "e2d41f1b-9a63-4290-86fd-28610bbb725d",
   "metadata": {},
   "source": [
    "___________________\n",
    "Below: used BDF directly (werid handling), works with (3t) mode only, but fails with (2s) mode"
   ]
  },
  {
   "cell_type": "code",
   "execution_count": 7,
   "id": "29a9d992-020c-422a-a431-31dc245cc1f8",
   "metadata": {},
   "outputs": [],
   "source": [
    "#initiallize system and forces\n",
    "ds = DS(b, Np, eta)\n",
    "forces  = pystokes.forceFields.Forces(particles=Np)\n",
    "\n",
    "#simulate the resulting system\n",
    "\n",
    "rth0 = np.concatenate((r,th))\n",
    "Tf = 100.\n",
    "Npts = 100\n",
    "\n",
    "X = simulate(rth0, Tf, Npts, rhs, 'BDF')"
   ]
  },
  {
   "cell_type": "code",
   "execution_count": 8,
   "id": "dbccebd8-290f-4edc-8d6e-701c6aeac225",
   "metadata": {},
   "outputs": [],
   "source": [
    "sol = np.empty(0)\n",
    "i=0\n",
    "while X.status=='running':\n",
    "    X.step()\n",
    "    sol = np.append(sol, X.y)\n",
    "    i += 1"
   ]
  },
  {
   "cell_type": "code",
   "execution_count": 9,
   "id": "5db5cf88-7348-4a18-b261-a58d4f7bf0cf",
   "metadata": {},
   "outputs": [
    {
     "data": {
      "text/plain": [
       "45"
      ]
     },
     "execution_count": 9,
     "metadata": {},
     "output_type": "execute_result"
    }
   ],
   "source": [
    "## number of steps taken\n",
    "i"
   ]
  },
  {
   "cell_type": "code",
   "execution_count": 10,
   "id": "14fee4a1-5d19-4c2d-b5e0-efd12b70e6ee",
   "metadata": {},
   "outputs": [],
   "source": [
    "positions = np.zeros(int(sol.shape[0]/2))\n",
    "angles = np.zeros(int(sol.shape[0]/2))\n",
    "\n",
    "for k in range(i):\n",
    "    positions[3*k*Np:3*(k+1)*Np] = sol[6*k*Np:(6*k+3)*Np]\n",
    "    angles[3*k*Np:3*(k+1)*Np]    = sol[(6*k+3)*Np:6*(k+1)*Np]"
   ]
  },
  {
   "cell_type": "code",
   "execution_count": 11,
   "id": "e394eeee-e5b4-49c8-886c-c97895f3da2a",
   "metadata": {},
   "outputs": [],
   "source": [
    "positions1 = positions[::Np]\n",
    "positions2 = positions[1::Np]"
   ]
  },
  {
   "cell_type": "code",
   "execution_count": 12,
   "id": "79b48069-4ae5-47a2-9ec2-c0dd6f7f769a",
   "metadata": {},
   "outputs": [
    {
     "data": {
      "text/plain": [
       "[<matplotlib.lines.Line2D at 0x7fa4f6d1e680>,\n",
       " <matplotlib.lines.Line2D at 0x7fa4f6d1e7d0>]"
      ]
     },
     "execution_count": 12,
     "metadata": {},
     "output_type": "execute_result"
    },
    {
     "data": {
      "image/png": "[encoded data removed]",
      "text/plain": [
       "<Figure size 432x288 with 1 Axes>"
      ]
     },
     "metadata": {
      "needs_background": "light"
     },
     "output_type": "display_data"
    }
   ],
   "source": [
    "## x-y plot\n",
    "plt.plot(positions1[::3],positions1[1::3],positions2[::3],positions2[1::3])"
   ]
  },
  {
   "cell_type": "code",
   "execution_count": 13,
   "id": "bd0aaefd-3552-4079-a66a-f26178a524ae",
   "metadata": {},
   "outputs": [
    {
     "data": {
      "text/plain": [
       "1.9477701010126112"
      ]
     },
     "execution_count": 13,
     "metadata": {},
     "output_type": "execute_result"
    }
   ],
   "source": [
    "np.amin(np.abs(positions1[::3]-positions2[::3]))"
   ]
  },
  {
   "cell_type": "code",
   "execution_count": null,
   "id": "659aba1a-8a8f-4175-9cda-4d838a6f1f04",
   "metadata": {},
   "outputs": [],
   "source": []
  },
  {
   "cell_type": "code",
   "execution_count": null,
   "id": "23eb010f-7434-4da9-83e7-809af19d122d",
   "metadata": {},
   "outputs": [],
   "source": []
  },
  {
   "cell_type": "code",
   "execution_count": null,
   "id": "f0dc4efc-90ce-4414-aff9-aa23bc98601c",
   "metadata": {},
   "outputs": [],
   "source": []
  },
  {
   "cell_type": "code",
   "execution_count": null,
   "id": "3676db98-9397-4ce3-84d4-486876116ca4",
   "metadata": {},
   "outputs": [],
   "source": []
  }
 ],
 "metadata": {
  "kernelspec": {
   "display_name": "Python 3 (ipykernel)",
   "language": "python",
   "name": "python3"
  },
  "language_info": {
   "codemirror_mode": {
    "name": "ipython",
    "version": 3
   },
   "file_extension": ".py",
   "mimetype": "text/x-python",
   "name": "python",
   "nbconvert_exporter": "python",
   "pygments_lexer": "ipython3",
   "version": "3.10.2"
  }
 },
 "nbformat": 4,
 "nbformat_minor": 5
}
