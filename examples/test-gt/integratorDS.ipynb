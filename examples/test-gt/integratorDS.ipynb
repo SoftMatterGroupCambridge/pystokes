{
 "cells": [
  {
   "cell_type": "code",
   "execution_count": 1,
   "id": "0300b1d3-7805-45c3-9aa5-78b6f4625e7c",
   "metadata": {},
   "outputs": [],
   "source": [
    "%matplotlib inline\n",
    "from directSolve import DS\n",
    "import numpy as np, matplotlib.pyplot as plt\n",
    "import pystokes\n",
    "import matelms as me"
   ]
  },
  {
   "cell_type": "code",
   "execution_count": 2,
   "id": "5fc990e1-8ab8-4fd0-8f7a-f40548b3623f",
   "metadata": {},
   "outputs": [],
   "source": [
    "def rotation(vector,alpha, beta, gamma):\n",
    "    rotmat = np.array([[np.cos(beta)*np.cos(gamma), np.sin(alpha)*np.sin(beta)*np.cos(gamma) \n",
    "                        - np.cos(alpha)*np.sin(gamma), np.cos(alpha)*np.sin(beta)*np.cos(gamma)\n",
    "                        + np.sin(alpha)*np.sin(gamma)],\n",
    "                       [np.cos(beta)*np.sin(gamma),\n",
    "                        np.sin(alpha)*np.sin(beta)*np.sin(gamma) + np.cos(alpha)*np.cos(gamma),\n",
    "                        np.cos(alpha)*np.sin(beta)*np.sin(gamma) - np.sin(alpha)*np.cos(gamma)],\n",
    "                       [-np.sin(beta),\n",
    "                        np.sin(alpha)*np.cos(beta),\n",
    "                        np.cos(alpha)*np.cos(beta)]])\n",
    "    return np.dot(rotmat, vector)"
   ]
  },
  {
   "cell_type": "markdown",
   "id": "7a0544f0-190a-4031-add0-9c656549d821",
   "metadata": {},
   "source": [
    "___________________\n",
    "\n",
    "Try different simulator in case it's actually the ODE solver that goes wrong:"
   ]
  },
  {
   "cell_type": "code",
   "execution_count": 3,
   "id": "a41a0962-29cd-4012-9f72-f4cca4b32fc9",
   "metadata": {},
   "outputs": [],
   "source": [
    "# particle radius, self-propulsion speed, number and fluid viscosity\n",
    "b, Np, eta = 1.0, 2, 0.1\n",
    "\n",
    "## squirmer\n",
    "D0  = 1.      \n",
    "S0  = -3/50*D0# beta = 1 (positive beta is a puller (negative V2s))"
   ]
  },
  {
   "cell_type": "code",
   "execution_count": 4,
   "id": "82f55d4d-4b4e-4a44-9306-1f47710c4e93",
   "metadata": {},
   "outputs": [],
   "source": [
    "## initialise \n",
    "#initial position\n",
    "r = np.array([-1.5,1.5, -0.,0. , 0., 0.])\n",
    "\n",
    "#initial angle\n",
    "th = np.zeros(3*Np)\n",
    "\n",
    "#initial orientation: 50 deg towards each other\n",
    "p0_  = np.array([0., 1., 0.])\n",
    "p01_ = rotation(p0_, 0., 0., -25*2*np.pi/360)\n",
    "p02_ = rotation(p0_, 0., 0., 25*2*np.pi/360)\n",
    "p0   = np.zeros(3*Np)\n",
    "p0[::Np]  = p01_\n",
    "p0[1::Np] = p02_\n",
    "\n",
    "#p0=np.array([1., -1., 0.,0., 0.,0.])\n",
    "\n",
    "# initial slip modes\n",
    "S = np.zeros(5*Np)\n",
    "D = np.zeros(3*Np)\n",
    "for i in range(Np):\n",
    "    ## S in order: xx, xy, xz, yy, yz\n",
    "    S[i]       = S0*(3*p0[i]*p0[i] -1)\n",
    "    S[i + Np]  = S0*(3*p0[i]*p0[i+Np])\n",
    "    S[i + 2*Np]= S0*(3*p0[i]*p0[i+2*Np])\n",
    "    S[i + 3*Np]= S0*(3*p0[i+Np]*p0[i+Np]-1)\n",
    "    S[i + 4*Np]= S0*(3*p0[i+Np]*p0[i+2*Np])\n",
    "    \n",
    "    D[i]       = D0*p0[i]\n",
    "    D[i+Np]    = D0*p0[i+Np]\n",
    "    D[i+2*Np]  = D0*p0[i+2*Np]"
   ]
  },
  {
   "cell_type": "code",
   "execution_count": 29,
   "id": "c584c98b-48e9-491f-b9f8-a6a83d1090b3",
   "metadata": {},
   "outputs": [],
   "source": [
    "def rhs(rth):\n",
    "    \"\"\"\n",
    "    Function that gives rhs for equations dr/dt=v and d theta/dt=o\n",
    "    \"\"\"\n",
    "    \n",
    "    #position and angle theta (relative to initial angle)\n",
    "    r = rth[0:3*Np]; th = rth[3*Np:6*Np]\n",
    "    \n",
    "    #placeholder for current rotation\n",
    "    p = np.zeros(3*Np)\n",
    "    \n",
    "    \n",
    "    #compute current orientation via initial orientation p0 and current angle th\n",
    "    for i in range(Np):\n",
    "        p[i], p[i+Np], p[i+2*Np] = rotation(np.array([p0[i],p0[i+Np],p0[i+2*Np]]), th[i], th[i+Np], th[i+2*Np])\n",
    "                                            \n",
    "        S[i]       = S0*(3*p[i]*p[i] -1)\n",
    "        S[i + Np]  = S0*(3*p[i]*p[i+Np])\n",
    "        S[i + 2*Np]= S0*(3*p[i]*p[i+2*Np])\n",
    "        S[i + 3*Np]= S0*(3*p[i+Np]*p[i+Np]-1)\n",
    "        S[i + 4*Np]= S0*(3*p[i+Np]*p[i+2*Np])\n",
    "    \n",
    "        D[i]       = D0*p[i]\n",
    "        D[i+Np]    = D0*p[i+Np]\n",
    "        D[i+2*Np]  = D0*p[i+2*Np]\n",
    "\n",
    "    #no inertia, set velocities and angular velocities to zero\n",
    "    #forces and torques could be set non-zero\n",
    "    F, T, v, o = np.zeros(3*Np), np.zeros(3*Np), np.zeros(3*Np), np.zeros(3*Np)\n",
    "    \n",
    "    #update repulsive force at position r\n",
    "    forces.lennardJones(F, r, lje=1.8, ljr=2.1)\n",
    "    \n",
    "    #update velocity and angular velocity at r, acted on by F and T, and with slip modes S an D\n",
    "    ds.directSolve_new(v, o, r, F, T, S, D, rcond=1e-2)\n",
    "    \n",
    "    #return velocity and angular velocity as right-hand side\n",
    "    return np.concatenate( (v,o) )"
   ]
  },
  {
   "cell_type": "code",
   "execution_count": 30,
   "id": "eebf595d-12d3-40fe-a097-f5b10ecf2b0e",
   "metadata": {},
   "outputs": [],
   "source": [
    "def simulate(rth0, Tf, Npts, rhs, integrator='solve_ivp', Ti=0, maxNumSteps=100000, **kwargs):\n",
    "    \n",
    "    def dxdtEval(rth,t):\n",
    "        return rhs(rth)\n",
    "    \n",
    "    if integrator=='BDF': ## weird handling for this method\n",
    "        from scipy.integrate import BDF\n",
    "        X = BDF(lambda t, xt: dxdtEval(xt,t), Ti, rth0, Tf)\n",
    "        \n",
    "    if integrator=='odeint':\n",
    "        from scipy.integrate import odeint\n",
    "        time_points=np.linspace(Ti, Tf, Npts+1);\n",
    "        X = odeint(dxdtEval, rth0, time_points, mxstep=maxNumSteps, **kwargs)\n",
    "        \n",
    "    if integrator=='solve_ivp':\n",
    "        from scipy.integrate import solve_ivp\n",
    "        time_points=np.linspace(Ti, Tf, Npts+1)                                                          \n",
    "        X = solve_ivp(lambda t, xt: dxdtEval(xt,t), [0,Tf], rth0, \n",
    "                         t_eval=None, **kwargs)\n",
    "        \n",
    "    return X"
   ]
  },
  {
   "cell_type": "code",
   "execution_count": 31,
   "id": "be3aab8e-03ac-4212-b305-b70e1cf32c78",
   "metadata": {},
   "outputs": [
    {
     "data": {
      "text/plain": [
       "'The solver successfully reached the end of the integration interval.'"
      ]
     },
     "execution_count": 31,
     "metadata": {},
     "output_type": "execute_result"
    }
   ],
   "source": [
    "#initiallize system and forces\n",
    "ds = DS(b, Np, eta)\n",
    "forces  = pystokes.forceFields.Forces(particles=Np)\n",
    "\n",
    "#simulate the resulting system\n",
    "\n",
    "rth0 = np.concatenate((r,th))\n",
    "Tf = 20.\n",
    "Npts = 100\n",
    "\n",
    "X = simulate(rth0, Tf, Npts, rhs, integrator='solve_ivp', Ti=0, maxNumSteps=1000., \n",
    "             method='Radau')\n",
    "X.message"
   ]
  },
  {
   "cell_type": "code",
   "execution_count": 32,
   "id": "02660c86-401c-4ddc-8eaa-6c6e787d371c",
   "metadata": {},
   "outputs": [],
   "source": [
    "pos = X.y.T[:,0:3*Np]\n",
    "times = X.t"
   ]
  },
  {
   "cell_type": "code",
   "execution_count": 33,
   "id": "213135c4-e079-4971-8969-232ddd1f860d",
   "metadata": {},
   "outputs": [],
   "source": [
    "pos1 = pos[:,::Np]\n",
    "pos2 = pos[:,1::Np]"
   ]
  },
  {
   "cell_type": "code",
   "execution_count": 34,
   "id": "b3a7c135-9d96-49c5-9f01-0c80bc432299",
   "metadata": {},
   "outputs": [
    {
     "data": {
      "text/plain": [
       "[<matplotlib.lines.Line2D at 0x114fc7fa0>,\n",
       " <matplotlib.lines.Line2D at 0x114ff4040>]"
      ]
     },
     "execution_count": 34,
     "metadata": {},
     "output_type": "execute_result"
    },
    {
     "data": {
      "image/png": "[encoded data removed]",
      "text/plain": [
       "<Figure size 432x288 with 1 Axes>"
      ]
     },
     "metadata": {
      "needs_background": "light"
     },
     "output_type": "display_data"
    }
   ],
   "source": [
    "##x-y plot like in Ishikawa\n",
    "plt.plot(pos1[:,0], pos1[:,1], pos2[:,0], pos2[:,1])"
   ]
  },
  {
   "cell_type": "code",
   "execution_count": 35,
   "id": "5f535366-d6e1-4dda-b603-8d3ed16923b1",
   "metadata": {},
   "outputs": [],
   "source": [
    "#times"
   ]
  },
  {
   "cell_type": "code",
   "execution_count": 36,
   "id": "feb4b11d-5f8b-4f7f-9892-51985eb66dcd",
   "metadata": {},
   "outputs": [
    {
     "data": {
      "text/plain": [
       "2.0002519298319372"
      ]
     },
     "execution_count": 36,
     "metadata": {},
     "output_type": "execute_result"
    }
   ],
   "source": [
    "np.amin(np.abs(pos1[:,0]-pos2[:,0]))"
   ]
  },
  {
   "cell_type": "code",
   "execution_count": 176,
   "id": "3cfac2f4-3bfb-480b-9e53-153fbf9d459e",
   "metadata": {},
   "outputs": [],
   "source": [
    "## spheres do not seem to rotate much. "
   ]
  },
  {
   "cell_type": "markdown",
   "id": "113b55f4-3534-460a-9c76-8c92cc01ca86",
   "metadata": {},
   "source": [
    " \n",
    "Comments:\n",
    "\n",
    "    -result has nothing to do with force - actually is the same without LJ potential\n",
    "    -step size becomes too small - either a stiff problem or solution wrong\n",
    "    -Try with different parameters:\n",
    "        *(3t) only, and straight upwards polarisation: seems to work, they repell eachother\n",
    "        *add (2s) with straight upwards polarisation: \n",
    "                - when S is negative, it does not work at all\n",
    "                - when S is positive, it does work and they swim apart (stronger repulsion than (3t) alone even when S is 1e2 times smaller than D). When they are of the same order, we get: takes forever.\n",
    "                - only S: positive, they separate. negative, they attracht each other --> seems to do something funny long before they overlap.\n",
    "                --> Check what happens to matrix elements etc when xij smaller than 2"
   ]
  },
  {
   "cell_type": "code",
   "execution_count": 43,
   "id": "3ae743d3-524a-4cbe-abba-616d742c362c",
   "metadata": {},
   "outputs": [],
   "source": [
    "minIndex = np.where((pos1[:,0]- pos2[:,0])==np.amax(pos1[:,0]- pos2[:,0]))\n",
    "#minIndex[0][0] -= 28\n",
    "xik,yik,zik = (pos1[minIndex,:]-pos2[minIndex,:])[0][0]"
   ]
  },
  {
   "cell_type": "code",
   "execution_count": 44,
   "id": "cee44c04-6cd2-4eb1-aab4-88a857851b99",
   "metadata": {},
   "outputs": [
    {
     "data": {
      "text/plain": [
       "(array([13]),)"
      ]
     },
     "execution_count": 44,
     "metadata": {},
     "output_type": "execute_result"
    }
   ],
   "source": [
    "minIndex"
   ]
  },
  {
   "cell_type": "code",
   "execution_count": 49,
   "id": "36ad700c-9a72-4f8c-b352-aa187c58a17d",
   "metadata": {},
   "outputs": [
    {
     "data": {
      "text/plain": [
       "(-2.073964345238892, -1.4663068537146273e-09, -1.151228212162695e-09)"
      ]
     },
     "execution_count": 49,
     "metadata": {},
     "output_type": "execute_result"
    }
   ],
   "source": [
    "xik,yik,zik"
   ]
  },
  {
   "cell_type": "code",
   "execution_count": 50,
   "id": "d4f7977f-6d6c-4fea-ad4f-a978134e0963",
   "metadata": {},
   "outputs": [
    {
     "data": {
      "text/plain": [
       "-9121.678707283601"
      ]
     },
     "execution_count": 50,
     "metadata": {},
     "output_type": "execute_result"
    }
   ],
   "source": [
    "np.trace(np.linalg.inv(me.hatGHH(xik,yik,zik, b,eta)))"
   ]
  },
  {
   "cell_type": "code",
   "execution_count": 51,
   "id": "e36a4add-5d0b-484c-8db6-64b3c9281ae2",
   "metadata": {},
   "outputs": [],
   "source": [
    "bla = np.arange(-2.5,6.5,0.01)\n",
    "invGHH = np.zeros(bla.shape[0])\n",
    "j=0\n",
    "for i in bla:\n",
    "    invGHH[j]=np.amax(np.linalg.pinv(me.GHH(xik+i,yik,zik, b,eta),rcond=1e-2))\n",
    "    j+=1"
   ]
  },
  {
   "cell_type": "code",
   "execution_count": 52,
   "id": "74be87f8-25b2-4e6b-8f73-cac120115ab6",
   "metadata": {},
   "outputs": [
    {
     "data": {
      "text/plain": [
       "Text(0, 0.5, 'max invGHH')"
      ]
     },
     "execution_count": 52,
     "metadata": {},
     "output_type": "execute_result"
    },
    {
     "data": {
      "image/png": "[encoded data removed]",
      "text/plain": [
       "<Figure size 432x288 with 1 Axes>"
      ]
     },
     "metadata": {
      "needs_background": "light"
     },
     "output_type": "display_data"
    }
   ],
   "source": [
    "plt.semilogy(xik+bla, invGHH)\n",
    "plt.xlabel('xij')\n",
    "plt.ylabel('max invGHH')"
   ]
  },
  {
   "cell_type": "code",
   "execution_count": null,
   "id": "a76b49aa-657e-4d3e-a25c-c0974902d04a",
   "metadata": {},
   "outputs": [],
   "source": [
    "## higher cutoff for small singular values rcond helps, but GHH^-1\n",
    "## still explodes for xij > 4"
   ]
  },
  {
   "cell_type": "code",
   "execution_count": 184,
   "id": "c52a0baf-4279-4e4e-83f0-70e38efd7dad",
   "metadata": {},
   "outputs": [],
   "source": [
    "u, s, vh = np.linalg.svd(me.GHH(xik-0.3,yik,zik, b,eta))"
   ]
  },
  {
   "cell_type": "code",
   "execution_count": 185,
   "id": "5caf8c00-fb9c-43b6-8cb3-54e83a47d0fe",
   "metadata": {},
   "outputs": [
    {
     "data": {
      "text/plain": [
       "array([1.99537074e-01, 1.03973362e-01, 1.01524081e-01, 8.62736876e-02,\n",
       "       6.27515892e-02, 5.80416262e-02, 5.73287114e-02, 4.16211854e-02,\n",
       "       2.92540495e-02, 2.90206291e-02, 2.08233428e-02, 1.62479811e-02,\n",
       "       1.56074223e-02, 3.66703982e-03, 2.95739932e-03, 1.48645471e-03,\n",
       "       1.33267233e-03, 6.22303842e-04, 6.18829535e-04, 7.64952254e-18,\n",
       "       1.86967481e-18, 1.60317472e-18])"
      ]
     },
     "execution_count": 185,
     "metadata": {},
     "output_type": "execute_result"
    }
   ],
   "source": [
    "s"
   ]
  },
  {
   "cell_type": "code",
   "execution_count": 171,
   "id": "37c1b75f-b39a-47e1-b595-68a73e513708",
   "metadata": {},
   "outputs": [
    {
     "data": {
      "text/plain": [
       "-2.469489564985475"
      ]
     },
     "execution_count": 171,
     "metadata": {},
     "output_type": "execute_result"
    }
   ],
   "source": [
    "xik"
   ]
  },
  {
   "cell_type": "code",
   "execution_count": null,
   "id": "906c49b1-5578-4e61-9d9a-f5ce151fa77e",
   "metadata": {},
   "outputs": [],
   "source": [
    "## clearly invGHH has some singular points - see others"
   ]
  },
  {
   "cell_type": "code",
   "execution_count": 109,
   "id": "9811b091-f031-4915-a3ad-95257ccf53a8",
   "metadata": {},
   "outputs": [],
   "source": [
    "bla = np.arange(-2.5,10.,0.001)\n",
    "G   = np.zeros(bla.shape[0])\n",
    "j=0\n",
    "for i in bla:\n",
    "    G[j]=np.amax(me.GHH(xik+i,yik,zik, b,eta))\n",
    "    j+=1"
   ]
  },
  {
   "cell_type": "code",
   "execution_count": 110,
   "id": "6198a333-4a60-427a-af52-3553b5f2add3",
   "metadata": {},
   "outputs": [
    {
     "data": {
      "text/plain": [
       "Text(0, 0.5, 'max GHH')"
      ]
     },
     "execution_count": 110,
     "metadata": {},
     "output_type": "execute_result"
    },
    {
     "data": {
      "image/png": "[encoded data removed]",
      "text/plain": [
       "<Figure size 432x288 with 1 Axes>"
      ]
     },
     "metadata": {
      "needs_background": "light"
     },
     "output_type": "display_data"
    }
   ],
   "source": [
    "plt.semilogy(xik+bla, G)\n",
    "plt.xlabel('xij')\n",
    "plt.ylabel('max GHH')"
   ]
  },
  {
   "cell_type": "markdown",
   "id": "f3d739fb-600e-4c0e-8da5-d9c121594760",
   "metadata": {},
   "source": [
    "### How does FH behave for the new solver?"
   ]
  },
  {
   "cell_type": "code",
   "execution_count": 53,
   "id": "0c8e561e-bb6c-48ab-b4ea-03af2089fb33",
   "metadata": {},
   "outputs": [
    {
     "data": {
      "text/plain": [
       "(-2.073964345238892, -1.4663068537146273e-09, -1.151228212162695e-09)"
      ]
     },
     "execution_count": 53,
     "metadata": {},
     "output_type": "execute_result"
    }
   ],
   "source": [
    "minIndex = np.where((pos1[:,0]- pos2[:,0])==np.amax(pos1[:,0]- pos2[:,0]))\n",
    "#minIndex[0][0] -= 28\n",
    "xik,yik,zik = (pos1[minIndex,:]-pos2[minIndex,:])[0][0]\n",
    "xik,yik,zik"
   ]
  },
  {
   "cell_type": "code",
   "execution_count": 54,
   "id": "be516cc5-e7db-489b-8b7b-712bc0cfd376",
   "metadata": {},
   "outputs": [],
   "source": [
    "theta = X.y.T[:,3*Np:6*Np]\n",
    "\n",
    "##angles at minimum distance above\n",
    "theta = theta[minIndex,:][0][0]"
   ]
  },
  {
   "cell_type": "code",
   "execution_count": 57,
   "id": "d9b70ab8-4254-4951-b67c-f220c79985fb",
   "metadata": {},
   "outputs": [],
   "source": [
    "F, T = np.zeros(3*Np), np.zeros(3*Np)\n",
    "pol = np.zeros(3*Np)\n",
    "\n",
    "v_ = np.zeros([3])\n",
    "o_ = np.zeros([3])\n",
    "\n",
    "for i in range(Np): #rotated relative from initial polarisation (defined as theta=0)\n",
    "        pol[i], pol[i+Np], pol[i+2*Np] = rotation(np.array([p0[i],p0[i+Np],p0[i+2*Np]]), theta[i], theta[i+Np], theta[i+2*Np])\n",
    "                                            \n",
    "        S[i]       = S0*(3*pol[i]*pol[i] -1)\n",
    "        S[i + Np]  = S0*(3*pol[i]*pol[i+Np])\n",
    "        S[i + 2*Np]= S0*(3*pol[i]*pol[i+2*Np])\n",
    "        S[i + 3*Np]= S0*(3*pol[i+Np]*pol[i+Np]-1)\n",
    "        S[i + 4*Np]= S0*(3*pol[i+Np]*pol[i+2*Np])\n",
    "    \n",
    "        D[i]       = D0*pol[i]\n",
    "        D[i+Np]    = D0*pol[i+Np]\n",
    "        D[i+2*Np]  = D0*pol[i+2*Np]\n",
    "        \n",
    "i=0\n",
    "j=1\n",
    "        \n",
    "k=j ## sum over all other particles apart from i\n",
    "hatFH_j = np.zeros(19)\n",
    "rhs = np.zeros(19)\n",
    "\n",
    "force_k  = np.array([F[k],F[k+Np], F[k+2*Np]])\n",
    "torque_k = np.array([T[k],T[k+Np], T[k+2*Np]])\n",
    "S_k = np.array([S[k],S[k+Np],S[k+2*Np],S[k+3*Np],S[k+4*Np]])\n",
    "D_k = np.array([D[k],D[k+Np],D[k+2*Np]])\n",
    "VH_k = np.concatenate([S_k,D_k, np.zeros(14)])\n",
    "                            \n",
    "hatVH_k = np.concatenate([S_k,np.zeros(14)])\n",
    "                            \n",
    "rhs += (np.dot(me.hatGH1s(xik,yik,zik, b,eta), force_k)\n",
    "         + 1./b * np.dot(me.hatGH2a(xik,yik,zik, b,eta), torque_k)\n",
    "         + np.dot(me.hatKHH(xik,yik,zik, b,eta),hatVH_k)\n",
    "         + ds.g3t * np.dot(me.hatGH3t(xik,yik,zik, b,eta), D_k))\n",
    "\n",
    "k=i ## when k=i\n",
    "S_i = np.array([S[i],S[i+Np],S[i+2*Np],S[i+3*Np],S[i+4*Np]])\n",
    "hatVH_i = np.concatenate([ds.halfMinusKoHH * S_i, np.zeros(14)])\n",
    "                            \n",
    "rhs += - hatVH_i\n",
    "\n",
    "k=j ## in sum over j\n",
    "#lhs = me.hatGHH(xik,yik,zik, b,eta)\n",
    "#hatFH_j = np.linalg.solve(lhs, rhs)\n",
    "lhs_inv = np.linalg.pinv(me.hatGHH(xik,yik,zik, b,eta), rcond=1e-2)\n",
    "hatFH_j = np.dot(lhs_inv, rhs)\n",
    "\n",
    "F3t_j = -ds.g3t*D_k\n",
    "FH_j = np.concatenate([hatFH_j[0:5], F3t_j, hatFH_j[5:]])\n",
    "                    \n",
    "v_ += (np.dot(me.G1s1s(xik,yik,zik, b,eta), force_k)\n",
    "       + 1./b * np.dot(me.G1s2a(xik,yik,zik, b,eta), torque_k)\n",
    "       - np.dot(me.G1sH(xik,yik,zik, b,eta), FH_j)\n",
    "        + np.dot(me.K1sH(xik,yik,zik, b,eta), VH_k))\n",
    "                    \n",
    "o_ += 0.5/b*(np.dot(me.G2a1s(xik,yik,zik, b,eta), force_k)\n",
    "      + 1./b * np.dot(me.G2a2a(xik,yik,zik, b,eta), torque_k)\n",
    "      - np.dot(me.G2aH(xik,yik,zik, b,eta), FH_j)\n",
    "      + np.dot(me.K2aH(xik,yik,zik, b,eta), VH_k))\n"
   ]
  },
  {
   "cell_type": "code",
   "execution_count": 59,
   "id": "96b4cb61-71f7-45ab-b02f-a1d560a00b44",
   "metadata": {},
   "outputs": [
    {
     "data": {
      "text/plain": [
       "array([3.41923074e-01, 9.39727945e-01, 2.54735939e-10])"
      ]
     },
     "execution_count": 59,
     "metadata": {},
     "output_type": "execute_result"
    }
   ],
   "source": [
    "pol[::Np]"
   ]
  },
  {
   "cell_type": "code",
   "execution_count": 86,
   "id": "ce363655-4273-493b-bdf8-070c185cfa3b",
   "metadata": {},
   "outputs": [
    {
     "data": {
      "text/plain": [
       "array([ 1.70724286e-02, -1.28206571e-03, -2.33053855e-12])"
      ]
     },
     "execution_count": 86,
     "metadata": {},
     "output_type": "execute_result"
    }
   ],
   "source": [
    "v_"
   ]
  },
  {
   "cell_type": "code",
   "execution_count": 87,
   "id": "ad5c0a25-fe35-489e-914f-928bc0cec26b",
   "metadata": {},
   "outputs": [
    {
     "data": {
      "text/plain": [
       "0.4000505775193173"
      ]
     },
     "execution_count": 87,
     "metadata": {},
     "output_type": "execute_result"
    }
   ],
   "source": [
    "np.sum(hatFH_j)"
   ]
  },
  {
   "cell_type": "code",
   "execution_count": 90,
   "id": "c35da0d4-0a45-4563-ac6b-e1f8c6e0d6e1",
   "metadata": {},
   "outputs": [],
   "source": [
    "bla = np.arange(-2.5,9.6,0.1)\n",
    "FHsum = np.zeros(bla.shape[0])\n",
    "hatFH_j = np.zeros(19)\n",
    "rhs = np.zeros(19)\n",
    "m=0\n",
    "for n in bla:\n",
    "    rhs += (np.dot(me.hatGH1s(xik+n,yik,zik, b,eta), force_k)\n",
    "         + 1./b * np.dot(me.hatGH2a(xik+n,yik,zik, b,eta), torque_k)\n",
    "         + np.dot(me.hatKHH(xik+n,yik,zik, b,eta),hatVH_k)\n",
    "         + ds.g3t * np.dot(me.hatGH3t(xik+n,yik,zik, b,eta), D_k))\n",
    "\n",
    "    k=i ## when k=i\n",
    "    S_i = np.array([S[i],S[i+Np],S[i+2*Np],S[i+3*Np],S[i+4*Np]])\n",
    "    hatVH_i = np.concatenate([ds.halfMinusKoHH * S_i, np.zeros(14)])\n",
    "                            \n",
    "    rhs += - hatVH_i\n",
    "\n",
    "    k=j ## in sum over j\n",
    "    lhs_inv = np.linalg.pinv(me.hatGHH(xik,yik,zik, b,eta), rcond=1e-2)\n",
    "    hatFH_j = np.dot(lhs_inv, rhs)\n",
    "    F3t_j = -ds.g3t*D_k\n",
    "    FH_j = np.concatenate([hatFH_j[0:5], F3t_j, hatFH_j[5:]])\n",
    "    \n",
    "    FHsum[m]=np.sum(np.dot(me.G1sH(xik,yik,zik, b,eta), FH_j))\n",
    "    m+=1"
   ]
  },
  {
   "cell_type": "code",
   "execution_count": 92,
   "id": "94f1d6e1-cfeb-40ed-972f-c41dfb943c4a",
   "metadata": {},
   "outputs": [
    {
     "data": {
      "text/plain": [
       "Text(0, 0.5, 'sumFH')"
      ]
     },
     "execution_count": 92,
     "metadata": {},
     "output_type": "execute_result"
    },
    {
     "data": {
      "image/png": "[encoded data removed]",
      "text/plain": [
       "<Figure size 432x288 with 1 Axes>"
      ]
     },
     "metadata": {
      "needs_background": "light"
     },
     "output_type": "display_data"
    }
   ],
   "source": [
    "plt.semilogy(xik+bla, FHsum)\n",
    "plt.xlabel('xik')\n",
    "plt.ylabel('sumFH')"
   ]
  },
  {
   "cell_type": "code",
   "execution_count": 81,
   "id": "fd794b45-4e35-44bb-8cd4-19ec7d26d553",
   "metadata": {},
   "outputs": [],
   "source": [
    "bla  = np.arange(-2.5,5.,0.001)\n",
    "cond = np.zeros(bla.shape[0])\n",
    "j=0\n",
    "for i in bla:\n",
    "    cond[j]=np.linalg.cond(me.GHH(xik+i,yik,zik, b,eta))\n",
    "    j+=1"
   ]
  },
  {
   "cell_type": "code",
   "execution_count": 104,
   "id": "e675a77e-3297-4dc7-a013-a6d17766d682",
   "metadata": {},
   "outputs": [
    {
     "data": {
      "text/plain": [
       "Text(0, 0.5, 'cond GHH')"
      ]
     },
     "execution_count": 104,
     "metadata": {},
     "output_type": "execute_result"
    },
    {
     "data": {
      "image/png": "[encoded data removed]",
      "text/plain": [
       "<Figure size 432x288 with 1 Axes>"
      ]
     },
     "metadata": {
      "needs_background": "light"
     },
     "output_type": "display_data"
    }
   ],
   "source": [
    "plt.semilogy(xik+bla, cond)\n",
    "plt.xlabel('xij')\n",
    "plt.ylabel('cond GHH')"
   ]
  },
  {
   "cell_type": "code",
   "execution_count": 141,
   "id": "055483c9-41e0-4f68-aa8c-7fab7e1a4f7b",
   "metadata": {},
   "outputs": [],
   "source": [
    "invGHH = np.linalg.pinv(me.hatGHH(xik,yik,zik, b,eta),rcond=1e-5)"
   ]
  },
  {
   "cell_type": "code",
   "execution_count": 142,
   "id": "3e9957d9-a85a-4787-9b7b-5ffce755b0a0",
   "metadata": {},
   "outputs": [
    {
     "data": {
      "text/plain": [
       "360.6135718545148"
      ]
     },
     "execution_count": 142,
     "metadata": {},
     "output_type": "execute_result"
    }
   ],
   "source": [
    "np.amax(invGHH)"
   ]
  },
  {
   "cell_type": "code",
   "execution_count": 143,
   "id": "09375a3f-cc74-472e-890d-1944b14ea501",
   "metadata": {},
   "outputs": [
    {
     "data": {
      "text/plain": [
       "(19, 19)"
      ]
     },
     "execution_count": 143,
     "metadata": {},
     "output_type": "execute_result"
    }
   ],
   "source": [
    "invGHH.shape"
   ]
  },
  {
   "cell_type": "code",
   "execution_count": null,
   "id": "2d3c9ba4-f24a-4a8c-ba49-2c8a4b8f72b9",
   "metadata": {},
   "outputs": [],
   "source": []
  },
  {
   "cell_type": "code",
   "execution_count": null,
   "id": "4184a76d-c07f-4a6d-acc2-00b92f55c225",
   "metadata": {},
   "outputs": [],
   "source": []
  },
  {
   "cell_type": "code",
   "execution_count": null,
   "id": "5ded2856-510b-4ddb-91fb-08c204a57ac8",
   "metadata": {},
   "outputs": [],
   "source": []
  },
  {
   "cell_type": "code",
   "execution_count": null,
   "id": "00382d0e-bef4-49a2-84e2-ab623b49688c",
   "metadata": {},
   "outputs": [],
   "source": []
  },
  {
   "cell_type": "code",
   "execution_count": null,
   "id": "5432ea16-2e61-4460-a4ad-b057b1ccdb4c",
   "metadata": {},
   "outputs": [],
   "source": []
  },
  {
   "cell_type": "code",
   "execution_count": null,
   "id": "7fe00aa7-5725-4454-984a-a0c28be55eab",
   "metadata": {},
   "outputs": [],
   "source": []
  },
  {
   "cell_type": "code",
   "execution_count": null,
   "id": "46702327-b6f5-4366-81e1-9e68f9cdd86a",
   "metadata": {},
   "outputs": [],
   "source": []
  },
  {
   "cell_type": "code",
   "execution_count": null,
   "id": "59e0ca22-12e8-4ab5-b967-6f93377f7d29",
   "metadata": {},
   "outputs": [],
   "source": []
  },
  {
   "cell_type": "markdown",
   "id": "e41059fd-20b3-44d5-b9ae-f1dc765ebe51",
   "metadata": {},
   "source": [
    "### How does FH behave for the old solver?"
   ]
  },
  {
   "cell_type": "code",
   "execution_count": 16,
   "id": "0b22bf84-2b28-4bda-9169-8345a5200475",
   "metadata": {},
   "outputs": [],
   "source": [
    "theta = X.y.T[:,3*Np:6*Np]\n",
    "\n",
    "##angles at minimum distance above\n",
    "theta = theta[minIndex,:][0][0]"
   ]
  },
  {
   "cell_type": "code",
   "execution_count": 17,
   "id": "7d151ae8-94e5-457b-ac30-17da48e7a1ce",
   "metadata": {},
   "outputs": [],
   "source": [
    "k=0\n",
    "\n",
    "F, T = np.zeros(3*Np), np.zeros(3*Np)\n",
    "pol = np.zeros(3*Np)\n",
    "\n",
    "for i in range(Np): #rotated relative from initial polarisation (defined as theta=0)\n",
    "        pol[i], pol[i+Np], pol[i+2*Np] = rotation(np.array([p0[i],p0[i+Np],p0[i+2*Np]]), theta[i], theta[i+Np], theta[i+2*Np])\n",
    "                                            \n",
    "        S[i]       = S0*(3*pol[i]*pol[i] -1)\n",
    "        S[i + Np]  = S0*(3*pol[i]*pol[i+Np])\n",
    "        S[i + 2*Np]= S0*(3*pol[i]*pol[i+2*Np])\n",
    "        S[i + 3*Np]= S0*(3*pol[i+Np]*pol[i+Np]-1)\n",
    "        S[i + 4*Np]= S0*(3*pol[i+Np]*pol[i+2*Np])\n",
    "    \n",
    "        D[i]       = D0*pol[i]\n",
    "        D[i+Np]    = D0*pol[i+Np]\n",
    "        D[i+2*Np]  = D0*pol[i+2*Np]\n",
    "\n",
    "\n",
    "rhs = np.zeros(22)\n",
    "FH = np.zeros(22)\n",
    "\n",
    "force_k  = np.array([F[k],F[k+Np], F[k+2*Np]])\n",
    "torque_k = np.array([T[k],T[k+Np], T[k+2*Np]])\n",
    "S_k = np.array([S[k],S[k+Np],S[k+2*Np],S[k+3*Np],S[k+4*Np]])\n",
    "D_k = np.array([D[k],D[k+Np],D[k+2*Np]])\n",
    "VH_k = np.concatenate([S_k,D_k,np.zeros(14)])\n",
    "\n",
    "rhs += (np.dot(me.GH1s(xjk,yjk,zjk, b,eta), force_k) \n",
    "                                   + 1./b * np.dot(me.GH2a(xjk,yjk,zjk, b,eta), torque_k)\n",
    "                                   - np.dot(me.halfMinusKHH(xjk,yjk,zjk, b,eta), VH_k))\n",
    "\n",
    "#F2s = -ds.g2s*S_k\n",
    "#F3t = -ds.g3t*D_k\n",
    "#FH += np.concatenate([F2s,F3t,np.zeros(14)])"
   ]
  },
  {
   "cell_type": "code",
   "execution_count": 18,
   "id": "a7096a16-4a56-4e82-bb23-8733f98bbd68",
   "metadata": {},
   "outputs": [
    {
     "data": {
      "text/plain": [
       "array([4.08934712e-01, 9.12563642e-01, 2.19215165e-13])"
      ]
     },
     "execution_count": 18,
     "metadata": {},
     "output_type": "execute_result"
    }
   ],
   "source": [
    "##current orientation of particle 1\n",
    "pol[::Np]"
   ]
  },
  {
   "cell_type": "code",
   "execution_count": 19,
   "id": "78fd115b-94cf-4541-8fcc-eb8303afdac2",
   "metadata": {},
   "outputs": [
    {
     "data": {
      "text/plain": [
       "array([-5.90396519e+08,  2.13119104e+00, -2.84515348e+01, -1.18079304e+09,\n",
       "        3.22502918e+00, -1.35656731e+08, -1.10555534e+01, -1.24176502e+03,\n",
       "       -4.70685724e-01,  2.87812235e+02,  1.97383857e+00, -9.41371449e-01,\n",
       "       -3.44668155e+08, -5.02430197e+07,  1.38976773e+01,  5.28705915e+01,\n",
       "       -4.18751197e+08,  2.01296855e+00,  3.18265158e+08,  1.38976958e+01,\n",
       "       -6.25194509e+02,  1.38976835e+01])"
      ]
     },
     "execution_count": 19,
     "metadata": {},
     "output_type": "execute_result"
    }
   ],
   "source": [
    "lhs_inv = np.linalg.pinv(me.GHH(xjk,yjk,zjk, b,eta))\n",
    "FH += np.dot(lhs_inv, rhs)\n",
    "FH"
   ]
  },
  {
   "cell_type": "code",
   "execution_count": 20,
   "id": "17a8d5a6-3e90-4805-9d68-a0a67e329e69",
   "metadata": {},
   "outputs": [
    {
     "data": {
      "text/plain": [
       "array([ 8.09176095e+06, -3.30441522e-02,  1.18733741e+00])"
      ]
     },
     "execution_count": 20,
     "metadata": {},
     "output_type": "execute_result"
    }
   ],
   "source": [
    "-np.dot(me.G1sH(xjk,yjk,zjk, b,eta), FH)"
   ]
  },
  {
   "cell_type": "code",
   "execution_count": 21,
   "id": "73a0c680-bcd5-4ea4-9aa7-0f255ea7f19d",
   "metadata": {},
   "outputs": [
    {
     "data": {
      "text/plain": [
       "array([-2.22914479e-04,  6.01793384e-03,  1.54956887e-15])"
      ]
     },
     "execution_count": 21,
     "metadata": {},
     "output_type": "execute_result"
    }
   ],
   "source": [
    "np.dot(me.K1sH(xjk,yjk,zjk, b,eta),VH_k)"
   ]
  },
  {
   "cell_type": "markdown",
   "id": "358c535f-b52b-4979-b59a-ee742d96de2f",
   "metadata": {},
   "source": [
    "G1sH x FH gives huge values of velocity and angular velocity for both modes on \n",
    "What happens for one mode only?\n",
    "(3t) minimum distance gives very normal values\n",
    "(2s) negative: huge values \n",
    "(2s) positive: huge values"
   ]
  },
  {
   "cell_type": "code",
   "execution_count": 22,
   "id": "bf1927c5-b0de-4b93-9430-cff9060bb5ff",
   "metadata": {},
   "outputs": [
    {
     "data": {
      "text/plain": [
       "array([0., 0., 0.])"
      ]
     },
     "execution_count": 22,
     "metadata": {},
     "output_type": "execute_result"
    }
   ],
   "source": [
    "ds.G01s*force_k + 0.2*D_k"
   ]
  },
  {
   "cell_type": "code",
   "execution_count": 23,
   "id": "bb914593-e922-43ae-9739-0a4fb9d49bb7",
   "metadata": {},
   "outputs": [
    {
     "data": {
      "text/plain": [
       "array([-3.16126162e-02,  5.42104408e-02,  1.27739747e-14,  7.76120281e-02,\n",
       "        2.97200339e-14,  0.00000000e+00,  0.00000000e+00,  0.00000000e+00,\n",
       "        0.00000000e+00,  0.00000000e+00,  0.00000000e+00,  0.00000000e+00,\n",
       "        0.00000000e+00,  0.00000000e+00,  0.00000000e+00,  0.00000000e+00,\n",
       "        0.00000000e+00,  0.00000000e+00,  0.00000000e+00,  0.00000000e+00,\n",
       "        0.00000000e+00,  0.00000000e+00])"
      ]
     },
     "execution_count": 23,
     "metadata": {},
     "output_type": "execute_result"
    }
   ],
   "source": [
    "rhs"
   ]
  },
  {
   "cell_type": "markdown",
   "id": "31d82aef-7705-4361-bfec-d815fbc30986",
   "metadata": {},
   "source": [
    "As soon as (2s) is on and negative, G1sH x FH is huge. FH itself is huge. rhs is small, but lhs_inv is huge. \n",
    "\n",
    "Have to re-formulate problem, make G^HH invertible. \n",
    "\n",
    "1/2 - K^HH is probably not quite right, and G^HH invert. re-do solving for F^H"
   ]
  },
  {
   "cell_type": "code",
   "execution_count": 24,
   "id": "ba0c1984-b6d0-4d4b-b6b6-ab003d56262a",
   "metadata": {},
   "outputs": [
    {
     "data": {
      "text/plain": [
       "array([-3.16126162e-02,  5.42104408e-02,  1.27739747e-14,  7.76120281e-02,\n",
       "        2.97200339e-14, -0.00000000e+00, -0.00000000e+00, -0.00000000e+00,\n",
       "       -0.00000000e+00, -0.00000000e+00, -0.00000000e+00, -0.00000000e+00,\n",
       "       -0.00000000e+00, -0.00000000e+00, -0.00000000e+00, -0.00000000e+00,\n",
       "       -0.00000000e+00, -0.00000000e+00, -0.00000000e+00, -0.00000000e+00,\n",
       "       -0.00000000e+00, -0.00000000e+00])"
      ]
     },
     "execution_count": 24,
     "metadata": {},
     "output_type": "execute_result"
    }
   ],
   "source": [
    "- np.dot(me.halfMinusKHH(xjk,yjk,zjk, b,eta), VH_k)"
   ]
  },
  {
   "cell_type": "code",
   "execution_count": 25,
   "id": "e6894f42-cc57-4f8b-b61f-c0207674a849",
   "metadata": {},
   "outputs": [
    {
     "data": {
      "text/plain": [
       "array([-6.69675597e-03, -1.76640172e-03, -6.72728914e-16,  2.69616787e-03,\n",
       "       -2.87134588e-16,  0.00000000e+00,  0.00000000e+00,  0.00000000e+00,\n",
       "        0.00000000e+00,  0.00000000e+00,  0.00000000e+00,  0.00000000e+00,\n",
       "        0.00000000e+00,  0.00000000e+00,  0.00000000e+00,  0.00000000e+00,\n",
       "        0.00000000e+00,  0.00000000e+00,  0.00000000e+00,  0.00000000e+00,\n",
       "        0.00000000e+00,  0.00000000e+00])"
      ]
     },
     "execution_count": 25,
     "metadata": {},
     "output_type": "execute_result"
    }
   ],
   "source": [
    "np.dot(me.KHH(xjk,yjk,zjk, b,eta), VH_k)"
   ]
  },
  {
   "cell_type": "code",
   "execution_count": 26,
   "id": "764dbd5f-0191-410c-83ba-4b5ae5708d06",
   "metadata": {},
   "outputs": [
    {
     "data": {
      "text/plain": [
       "array([-5.90396519e+08,  2.13119104e+00, -2.84515348e+01, -1.18079304e+09,\n",
       "        3.22502918e+00, -1.35656731e+08, -1.10555534e+01, -1.24176502e+03,\n",
       "       -4.70685724e-01,  2.87812235e+02,  1.97383857e+00, -9.41371449e-01,\n",
       "       -3.44668155e+08, -5.02430197e+07,  1.38976773e+01,  5.28705915e+01,\n",
       "       -4.18751197e+08,  2.01296855e+00,  3.18265158e+08,  1.38976958e+01,\n",
       "       -6.25194509e+02,  1.38976835e+01])"
      ]
     },
     "execution_count": 26,
     "metadata": {},
     "output_type": "execute_result"
    }
   ],
   "source": [
    "np.dot(lhs_inv, - np.dot(me.halfMinusKHH(xjk,yjk,zjk, b,eta), VH_k))"
   ]
  },
  {
   "cell_type": "code",
   "execution_count": 27,
   "id": "9f0bbd48-a589-45ac-a36f-517fc6fffa78",
   "metadata": {},
   "outputs": [
    {
     "data": {
      "text/plain": [
       "array([ 6.23020960e+06, -6.94434954e-02,  3.00237242e-01,  1.24604190e+07,\n",
       "       -3.40333723e-02,  1.43152919e+06,  4.82013395e-02,  1.31038310e+01,\n",
       "        4.96709382e-03, -3.03716310e+00, -6.43159919e-02,  9.93418763e-03,\n",
       "        3.63714003e+06,  5.30193740e+05, -1.72013211e-01, -5.57921416e-01,\n",
       "        4.41890763e+06, -2.12426320e-02, -3.35852015e+06, -1.72013406e-01,\n",
       "        6.59741826e+00, -1.72013276e-01])"
      ]
     },
     "execution_count": 27,
     "metadata": {},
     "output_type": "execute_result"
    }
   ],
   "source": [
    "np.dot(lhs_inv,np.dot(me.KHH(xjk,yjk,zjk, b,eta), VH_k))"
   ]
  },
  {
   "cell_type": "code",
   "execution_count": 120,
   "id": "8a3abd75-f987-43a4-bea8-68877fcb8b76",
   "metadata": {},
   "outputs": [
    {
     "data": {
      "text/plain": [
       "array([-9.34999465e+04,  1.07670029e-03,  1.99792929e-01])"
      ]
     },
     "execution_count": 120,
     "metadata": {},
     "output_type": "execute_result"
    }
   ],
   "source": [
    "-np.dot(me.G1sH(xjk,yjk,zjk, b,eta),np.dot(lhs_inv,np.dot(me.KHH(xjk,yjk,zjk, b,eta), VH_k)))"
   ]
  },
  {
   "cell_type": "code",
   "execution_count": 122,
   "id": "ab03bdb2-eec4-4d6e-be8a-f737fef706b2",
   "metadata": {},
   "outputs": [],
   "source": [
    "def hatGHH(xij,yij,zij, b,eta):\n",
    "    return np.block([[me.G2s2s(xij,yij,zij, b,eta), me.G2s3a(xij,yij,zij, b,eta), me.G2s3s(xij,yij,zij, b,eta)],\n",
    "                     [me.G3a2s(xij,yij,zij, b,eta), me.G3a3a(xij,yij,zij, b,eta), me.G3a3s(xij,yij,zij, b,eta)],\n",
    "                     [me.G3s2s(xij,yij,zij, b,eta), me.G3s3a(xij,yij,zij, b,eta), me.G3s3s(xij,yij,zij, b,eta)]])"
   ]
  },
  {
   "cell_type": "code",
   "execution_count": 134,
   "id": "3335fef7-1f02-4707-9c0e-807358256337",
   "metadata": {},
   "outputs": [
    {
     "data": {
      "text/plain": [
       "False"
      ]
     },
     "execution_count": 134,
     "metadata": {},
     "output_type": "execute_result"
    }
   ],
   "source": [
    "np.allclose(np.dot(np.linalg.inv(hatGHH(-xjk,-yjk,-zjk, b,eta)),hatGHH(xjk,yjk,zjk, b,eta)), np.identity(19))"
   ]
  },
  {
   "cell_type": "code",
   "execution_count": null,
   "id": "8b83a682-9512-4973-b44a-d6c387c24a9f",
   "metadata": {},
   "outputs": [],
   "source": []
  },
  {
   "cell_type": "code",
   "execution_count": null,
   "id": "81789c5e-0a7a-4ee6-9e4f-4106f1601e97",
   "metadata": {},
   "outputs": [],
   "source": []
  },
  {
   "cell_type": "code",
   "execution_count": null,
   "id": "d20c202f-f131-45d9-8ee1-ea706f689c43",
   "metadata": {},
   "outputs": [],
   "source": []
  },
  {
   "cell_type": "code",
   "execution_count": null,
   "id": "d73c4ac6-193b-4f74-95ef-63d485fa6aa6",
   "metadata": {},
   "outputs": [],
   "source": []
  },
  {
   "cell_type": "code",
   "execution_count": null,
   "id": "d94c1072-24ea-48fe-99f3-05756e86d1ba",
   "metadata": {},
   "outputs": [],
   "source": []
  },
  {
   "cell_type": "code",
   "execution_count": null,
   "id": "60951949-0224-4b85-b2c9-58667af54899",
   "metadata": {},
   "outputs": [],
   "source": []
  },
  {
   "cell_type": "markdown",
   "id": "e2d41f1b-9a63-4290-86fd-28610bbb725d",
   "metadata": {},
   "source": [
    "___________________\n",
    "Below: used BDF directly (werid handling), works with (3t) mode only, but fails with (2s) mode"
   ]
  },
  {
   "cell_type": "code",
   "execution_count": 7,
   "id": "29a9d992-020c-422a-a431-31dc245cc1f8",
   "metadata": {},
   "outputs": [],
   "source": [
    "#initiallize system and forces\n",
    "ds = DS(b, Np, eta)\n",
    "forces  = pystokes.forceFields.Forces(particles=Np)\n",
    "\n",
    "#simulate the resulting system\n",
    "\n",
    "rth0 = np.concatenate((r,th))\n",
    "Tf = 100.\n",
    "Npts = 100\n",
    "\n",
    "X = simulate(rth0, Tf, Npts, rhs, 'BDF')"
   ]
  },
  {
   "cell_type": "code",
   "execution_count": 8,
   "id": "dbccebd8-290f-4edc-8d6e-701c6aeac225",
   "metadata": {},
   "outputs": [],
   "source": [
    "sol = np.empty(0)\n",
    "i=0\n",
    "while X.status=='running':\n",
    "    X.step()\n",
    "    sol = np.append(sol, X.y)\n",
    "    i += 1"
   ]
  },
  {
   "cell_type": "code",
   "execution_count": 9,
   "id": "5db5cf88-7348-4a18-b261-a58d4f7bf0cf",
   "metadata": {},
   "outputs": [
    {
     "data": {
      "text/plain": [
       "45"
      ]
     },
     "execution_count": 9,
     "metadata": {},
     "output_type": "execute_result"
    }
   ],
   "source": [
    "## number of steps taken\n",
    "i"
   ]
  },
  {
   "cell_type": "code",
   "execution_count": 10,
   "id": "14fee4a1-5d19-4c2d-b5e0-efd12b70e6ee",
   "metadata": {},
   "outputs": [],
   "source": [
    "positions = np.zeros(int(sol.shape[0]/2))\n",
    "angles = np.zeros(int(sol.shape[0]/2))\n",
    "\n",
    "for k in range(i):\n",
    "    positions[3*k*Np:3*(k+1)*Np] = sol[6*k*Np:(6*k+3)*Np]\n",
    "    angles[3*k*Np:3*(k+1)*Np]    = sol[(6*k+3)*Np:6*(k+1)*Np]"
   ]
  },
  {
   "cell_type": "code",
   "execution_count": 11,
   "id": "e394eeee-e5b4-49c8-886c-c97895f3da2a",
   "metadata": {},
   "outputs": [],
   "source": [
    "positions1 = positions[::Np]\n",
    "positions2 = positions[1::Np]"
   ]
  },
  {
   "cell_type": "code",
   "execution_count": 12,
   "id": "79b48069-4ae5-47a2-9ec2-c0dd6f7f769a",
   "metadata": {},
   "outputs": [
    {
     "data": {
      "text/plain": [
       "[<matplotlib.lines.Line2D at 0x7fa4f6d1e680>,\n",
       " <matplotlib.lines.Line2D at 0x7fa4f6d1e7d0>]"
      ]
     },
     "execution_count": 12,
     "metadata": {},
     "output_type": "execute_result"
    },
    {
     "data": {
      "image/png": "[encoded data removed]",
      "text/plain": [
       "<Figure size 432x288 with 1 Axes>"
      ]
     },
     "metadata": {
      "needs_background": "light"
     },
     "output_type": "display_data"
    }
   ],
   "source": [
    "## x-y plot\n",
    "plt.plot(positions1[::3],positions1[1::3],positions2[::3],positions2[1::3])"
   ]
  },
  {
   "cell_type": "code",
   "execution_count": 13,
   "id": "bd0aaefd-3552-4079-a66a-f26178a524ae",
   "metadata": {},
   "outputs": [
    {
     "data": {
      "text/plain": [
       "1.9477701010126112"
      ]
     },
     "execution_count": 13,
     "metadata": {},
     "output_type": "execute_result"
    }
   ],
   "source": [
    "np.amin(np.abs(positions1[::3]-positions2[::3]))"
   ]
  },
  {
   "cell_type": "code",
   "execution_count": null,
   "id": "659aba1a-8a8f-4175-9cda-4d838a6f1f04",
   "metadata": {},
   "outputs": [],
   "source": []
  },
  {
   "cell_type": "code",
   "execution_count": null,
   "id": "23eb010f-7434-4da9-83e7-809af19d122d",
   "metadata": {},
   "outputs": [],
   "source": []
  },
  {
   "cell_type": "code",
   "execution_count": null,
   "id": "f0dc4efc-90ce-4414-aff9-aa23bc98601c",
   "metadata": {},
   "outputs": [],
   "source": []
  },
  {
   "cell_type": "code",
   "execution_count": null,
   "id": "3676db98-9397-4ce3-84d4-486876116ca4",
   "metadata": {},
   "outputs": [],
   "source": []
  }
 ],
 "metadata": {
  "kernelspec": {
   "display_name": "Python 3 (ipykernel)",
   "language": "python",
   "name": "python3"
  },
  "language_info": {
   "codemirror_mode": {
    "name": "ipython",
    "version": 3
   },
   "file_extension": ".py",
   "mimetype": "text/x-python",
   "name": "python",
   "nbconvert_exporter": "python",
   "pygments_lexer": "ipython3",
   "version": "3.10.2"
  }
 },
 "nbformat": 4,
 "nbformat_minor": 5
}
