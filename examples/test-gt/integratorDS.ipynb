{
 "cells": [
  {
   "cell_type": "code",
   "execution_count": 1,
   "id": "0300b1d3-7805-45c3-9aa5-78b6f4625e7c",
   "metadata": {},
   "outputs": [],
   "source": [
    "%matplotlib inline\n",
    "from directSolve import DS\n",
    "import numpy as np, matplotlib.pyplot as plt\n",
    "import pystokes\n",
    "import matelms as me"
   ]
  },
  {
   "cell_type": "code",
   "execution_count": 2,
   "id": "5fc990e1-8ab8-4fd0-8f7a-f40548b3623f",
   "metadata": {},
   "outputs": [],
   "source": [
    "def rotation(vector,alpha, beta, gamma):\n",
    "    rotmat = np.array([[np.cos(beta)*np.cos(gamma), np.sin(alpha)*np.sin(beta)*np.cos(gamma) \n",
    "                        - np.cos(alpha)*np.sin(gamma), np.cos(alpha)*np.sin(beta)*np.cos(gamma)\n",
    "                        + np.sin(alpha)*np.sin(gamma)],\n",
    "                       [np.cos(beta)*np.sin(gamma),\n",
    "                        np.sin(alpha)*np.sin(beta)*np.sin(gamma) + np.cos(alpha)*np.cos(gamma),\n",
    "                        np.cos(alpha)*np.sin(beta)*np.sin(gamma) - np.sin(alpha)*np.cos(gamma)],\n",
    "                       [-np.sin(beta),\n",
    "                        np.sin(alpha)*np.cos(beta),\n",
    "                        np.cos(alpha)*np.cos(beta)]])\n",
    "    return np.dot(rotmat, vector)"
   ]
  },
  {
   "cell_type": "markdown",
   "id": "7a0544f0-190a-4031-add0-9c656549d821",
   "metadata": {},
   "source": [
    "___________________\n",
    "\n",
    "Try different simulator in case it's actually the ODE solver that goes wrong:"
   ]
  },
  {
   "cell_type": "code",
   "execution_count": 3,
   "id": "a41a0962-29cd-4012-9f72-f4cca4b32fc9",
   "metadata": {},
   "outputs": [],
   "source": [
    "# particle radius, self-propulsion speed, number and fluid viscosity\n",
    "b, Np, eta = 1.0, 2, 0.1\n",
    "ds = DS(b, Np, eta)\n",
    "\n",
    "## squirmer\n",
    "S0, D0  = -3/50*2.0, 2.0      # beta = 1 (positive beta is a puller (negative V2s))"
   ]
  },
  {
   "cell_type": "code",
   "execution_count": 5,
   "id": "82f55d4d-4b4e-4a44-9306-1f47710c4e93",
   "metadata": {},
   "outputs": [],
   "source": [
    "## initialise \n",
    "#initial position\n",
    "r = np.array([-1.5,1.5, 0,0 , 0., 0.])\n",
    "\n",
    "#initial orientation: 50 deg towards each other\n",
    "p0=np.array([0., 1., 0.])\n",
    "p01 = rotation(p0, 0., 0., -25*2*np.pi/360)\n",
    "p02 = rotation(p0, 0., 0., 25*2*np.pi/360)\n",
    "p = np.zeros(3*Np)\n",
    "p[::Np]  = p01\n",
    "p[1::Np] = p02\n",
    "\n",
    "# initial slip modes\n",
    "S = np.zeros(5*Np)\n",
    "D = np.zeros(3*Np)\n",
    "for i in range(Np):\n",
    "    ## S in order: xx, xy, xz, yy, yz\n",
    "    S[i]       = S0*(3*p[i]*p[i] -1)\n",
    "    S[i + Np]  = S0*(3*p[i]*p[i+Np])\n",
    "    S[i + 2*Np]= S0*(3*p[i]*p[i+2*Np])\n",
    "    S[i + 3*Np]= S0*(3*p[i+Np]*p[i+Np]-1)\n",
    "    S[i + 4*Np]= S0*(3*p[i+Np]*p[i+2*Np])\n",
    "    \n",
    "    D[i]       = D0*p[i]\n",
    "    D[i+Np]    = D0*p[i+Np]\n",
    "    D[i+2*Np]  = D0*p[i+2*Np]"
   ]
  },
  {
   "cell_type": "code",
   "execution_count": null,
   "id": "c584c98b-48e9-491f-b9f8-a6a83d1090b3",
   "metadata": {},
   "outputs": [],
   "source": [
    "def rhs(rp):\n",
    "    r = rp[0:3*Np]; p = rp[3*Np:6*Np]\n",
    "    \n",
    "    F, v, o = np.zeros(3*Np), np.zeros(3*Np), np.zeros(3*Np)"
   ]
  },
  {
   "cell_type": "code",
   "execution_count": null,
   "id": "eebf595d-12d3-40fe-a097-f5b10ecf2b0e",
   "metadata": {},
   "outputs": [],
   "source": []
  },
  {
   "cell_type": "code",
   "execution_count": null,
   "id": "f8f214df-cc2d-454c-a260-95d856d9dc9a",
   "metadata": {},
   "outputs": [],
   "source": []
  },
  {
   "cell_type": "code",
   "execution_count": null,
   "id": "b51101b7-2f01-4ee8-8f64-e6edddb22b83",
   "metadata": {},
   "outputs": [],
   "source": []
  },
  {
   "cell_type": "code",
   "execution_count": null,
   "id": "29a9d992-020c-422a-a431-31dc245cc1f8",
   "metadata": {},
   "outputs": [],
   "source": []
  },
  {
   "cell_type": "code",
   "execution_count": null,
   "id": "14fee4a1-5d19-4c2d-b5e0-efd12b70e6ee",
   "metadata": {},
   "outputs": [],
   "source": []
  }
 ],
 "metadata": {
  "kernelspec": {
   "display_name": "Python 3 (ipykernel)",
   "language": "python",
   "name": "python3"
  },
  "language_info": {
   "codemirror_mode": {
    "name": "ipython",
    "version": 3
   },
   "file_extension": ".py",
   "mimetype": "text/x-python",
   "name": "python",
   "nbconvert_exporter": "python",
   "pygments_lexer": "ipython3",
   "version": "3.10.2"
  }
 },
 "nbformat": 4,
 "nbformat_minor": 5
}
