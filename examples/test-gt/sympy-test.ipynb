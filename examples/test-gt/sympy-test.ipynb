{
 "cells": [
  {
   "cell_type": "markdown",
   "id": "c16ea30e-9c78-4868-b46b-68dd41717f61",
   "metadata": {},
   "source": [
    "In this notebook we want to test automatising the computation of matrix elements as functions of position, and F^H (so to be able to use Krylov iterative solvers), permanent storage in an according file containing all symbolic results (this will only be generated once per Green's function), and the subsequent usage of this file by the linear solver."
   ]
  },
  {
   "cell_type": "markdown",
   "id": "0d62fddc-e45d-45dd-9bd9-c6614c17cb94",
   "metadata": {},
   "source": [
    "On the note of a general Green's function, have to write the matrix elements more general. In previous computation I have used a lot of the symmetries of the free space Green's function."
   ]
  },
  {
   "cell_type": "code",
   "execution_count": null,
   "id": "13b35da8-4fb0-4aee-a372-505d50a6560c",
   "metadata": {},
   "outputs": [],
   "source": []
  },
  {
   "cell_type": "code",
   "execution_count": null,
   "id": "293398f7-56fc-4a74-9a55-c54b58f3a943",
   "metadata": {},
   "outputs": [],
   "source": []
  },
  {
   "cell_type": "code",
   "execution_count": null,
   "id": "7def9ad5-741d-410d-bf31-46fd03a34162",
   "metadata": {},
   "outputs": [],
   "source": []
  },
  {
   "cell_type": "code",
   "execution_count": null,
   "id": "d9a62596-ebc7-489b-bf1c-5916c51e0bfc",
   "metadata": {},
   "outputs": [],
   "source": []
  },
  {
   "cell_type": "code",
   "execution_count": null,
   "id": "63274513-69ed-4485-bc97-017ece9d7651",
   "metadata": {},
   "outputs": [],
   "source": []
  },
  {
   "cell_type": "code",
   "execution_count": null,
   "id": "e017a68a-029b-4fb2-8465-34d4eb87e2d0",
   "metadata": {},
   "outputs": [],
   "source": []
  }
 ],
 "metadata": {
  "kernelspec": {
   "display_name": "Python 3 (ipykernel)",
   "language": "python",
   "name": "python3"
  },
  "language_info": {
   "codemirror_mode": {
    "name": "ipython",
    "version": 3
   },
   "file_extension": ".py",
   "mimetype": "text/x-python",
   "name": "python",
   "nbconvert_exporter": "python",
   "pygments_lexer": "ipython3",
   "version": "3.10.2"
  }
 },
 "nbformat": 4,
 "nbformat_minor": 5
}
