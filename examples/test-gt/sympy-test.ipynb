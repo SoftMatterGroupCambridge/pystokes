{
 "cells": [
  {
   "cell_type": "markdown",
   "id": "c16ea30e-9c78-4868-b46b-68dd41717f61",
   "metadata": {},
   "source": [
    "In this notebook we want to test automatising the computation of matrix elements as functions of position, and F^H (so to be able to use Krylov iterative solvers), permanent storage in an according file containing all symbolic results (this will only be generated once per Green's function), and the subsequent usage of this file by the linear solver."
   ]
  },
  {
   "cell_type": "markdown",
   "id": "0d62fddc-e45d-45dd-9bd9-c6614c17cb94",
   "metadata": {},
   "source": [
    "On the note of a general Green's function, have to write the matrix elements more general. In previous computation I have used a lot of the symmetries of the free space Green's function."
   ]
  },
  {
   "cell_type": "code",
   "execution_count": 1,
   "id": "13b35da8-4fb0-4aee-a372-505d50a6560c",
   "metadata": {},
   "outputs": [],
   "source": [
    "from sympy import *\n",
    "import numpy as np"
   ]
  },
  {
   "cell_type": "code",
   "execution_count": 2,
   "id": "293398f7-56fc-4a74-9a55-c54b58f3a943",
   "metadata": {},
   "outputs": [],
   "source": [
    "xij, yij, zij, b, eta = symbols(\"xij yij zij b eta\", real=True) #probably need FH and VH symbols too\n",
    "\n",
    "# indices for summation:\n",
    "## Caution, cannot use lambda, instead use Lambda\n",
    "## do not use eta as index, it's the viscosity\n",
    "alpha, beta, gamma, gamma1, gamma2, gamma3, gamma4, kappa, kappa1, kappa2, mu, nu, nu1, nu2, Lambda, eta2, zeta, sigma = symbols(\n",
    "    'alpha, beta, gamma, gamma1, gamma2, gamma3, gamma4, kappa, kappa1, kappa2, mu, nu, nu1, nu2, Lambda, eta2, zeta, sigma', integer=True)\n",
    "\n",
    "\n",
    "## for FH and VH checkout the 'Indexed' package to define them as FH[1], FH[2] etc.\n",
    "\n",
    "rij = Array([xij, yij, zij])\n",
    "\n",
    "def norm(rij):\n",
    "    return sqrt(summation(rij[alpha]**2,(alpha,0,2)))\n",
    "\n",
    "KroneckerDelta = eye(3)\n",
    "\n",
    "def Laplacian(G, rij):\n",
    "    return diff(G, rij[0], rij[0]) + diff(G, rij[1], rij[1]) + diff(G, rij[2], rij[2])\n",
    "\n",
    "def eps(alpha, beta, gamma):\n",
    "    return LeviCivita(alpha,beta,gamma)"
   ]
  },
  {
   "cell_type": "code",
   "execution_count": 3,
   "id": "5082c724-84c2-495c-96e6-f4233e7e7646",
   "metadata": {},
   "outputs": [],
   "source": [
    "def Curl(G, alpha, beta): ## the function to take the curl of and the two remaining indices \n",
    "    result=0\n",
    "    for i in range(3):\n",
    "        for j in range(3):\n",
    "            result += eps(alpha,i,j)*diff(G(rij,j,beta),rij[i]) ## G is symmetric in its indices\n",
    "    return result\n",
    "\n",
    "def CurlCurl(G, alpha, beta): ## the function to take the curl of and the two remaining indices \n",
    "    result=0\n",
    "    for i in range(3):\n",
    "        for j in range(3):\n",
    "            for k in range(3):\n",
    "                for l in range(3):\n",
    "                    result += eps(alpha,i,j)*eps(beta,k,l)*diff(G(rij,j,l), rij[i], rij[k])\n",
    "    return result"
   ]
  },
  {
   "cell_type": "code",
   "execution_count": 4,
   "id": "d9a62596-ebc7-489b-bf1c-5916c51e0bfc",
   "metadata": {},
   "outputs": [],
   "source": [
    "def G(rij, alpha, beta):\n",
    "    return 1/(8*pi*eta)*(KroneckerDelta[alpha,beta]/norm(rij) + rij[alpha]*rij[beta]/norm(rij)**3)\n",
    "\n",
    "def delG(rij, alpha, beta, gamma):\n",
    "    return 1/(8*pi*eta)*((-KroneckerDelta[alpha,beta]*rij[gamma] + KroneckerDelta[alpha,gamma]*rij[beta] + KroneckerDelta[beta,gamma]*rij[alpha])/norm(rij)**3\n",
    "                         - 3*rij[alpha]*rij[beta]*rij[gamma]/norm(rij)**5)\n",
    "\n",
    "def lapG(rij, alpha, beta):\n",
    "    return 1/(4*pi*eta)*(KroneckerDelta[alpha,beta]/norm(rij)**3 - 3*rij[alpha]*rij[beta]/norm(rij)**5)"
   ]
  },
  {
   "cell_type": "code",
   "execution_count": 5,
   "id": "8848f9e9-b450-4ff4-a58f-75363a81a3bd",
   "metadata": {},
   "outputs": [],
   "source": [
    "##auxiliary functions\n",
    "def dellapG(rij, alpha, beta, kappa1):\n",
    "    return diff(lapG(rij, alpha, beta), rij[kappa1])\n",
    "\n",
    "def deldelG(rij, zeta, beta, kappa1, nu):\n",
    "    return diff(delG_symb(rij, zeta, beta, kappa1), rij[nu])\n",
    "\n",
    "def deldellapG(rij, alpha, beta, gamma1, kappa1):\n",
    "    return diff(dellapG(rij,alpha,beta, gamma1), rij(kappa1))\n",
    "\n",
    "def deldeldelG(rij, alpha, beta, gamma1, gamma2, gamma3):\n",
    "    return diff(deldelG(rij, alpha, beta, gamma1, gamma2), rij(gamma3))\n",
    "\n",
    "def deldeldeldelG(rij, alpha, beta, gamma1, gamma2, gamma3, gamma4):\n",
    "    return diff(deldeldelG(rij, alpha, beta, gamma1, gamma2, gamma3), rij(gamma4))"
   ]
  },
  {
   "cell_type": "code",
   "execution_count": 6,
   "id": "bedb00d0-9bdb-455f-b225-43375ba16680",
   "metadata": {},
   "outputs": [],
   "source": [
    "# GLL\n",
    "def G1s1s(rij, alpha, beta):\n",
    "    return G(rij, alpha, beta) + b**2/3*lapG(rij, alpha, beta)\n",
    "\n",
    "def G1s2a(rij, alpha, beta):\n",
    "    return -0.5*b*Curl(G, beta, alpha)\n",
    "#summation(summation(eps(beta, nu, zeta)*delG(rij, alpha, zeta, nu), (nu,0,2)), (zeta,0,2))\n",
    "\n",
    "def G2a1s(rij, alpha, beta):\n",
    "    return b*Curl(G,alpha,beta)\n",
    "#summation(summation(eps(alpha,nu,zeta)*delG(rij,zeta,beta,nu), (nu,0,2)), (zeta,0,2))\n",
    "\n",
    "def G2a2a(rij, alpha, beta):\n",
    "    return -0.5*b*b*CurlCurl(G,alpha,beta)\n",
    "#summation(summation(summation(summation(eps(alpha,mu,kappa)*eps(beta,nu,zeta)*deldelG(rij,kappa,zeta,nu,mu),(mu,0,2)), (kappa,0,2)), (nu,0,2)), (zeta,0,2))"
   ]
  },
  {
   "cell_type": "code",
   "execution_count": 7,
   "id": "79df433f-2f3a-480f-9ccb-3fb175d27e65",
   "metadata": {},
   "outputs": [
    {
     "data": {
      "text/latex": [
       "$\\displaystyle \\frac{b^{2} \\cdot \\left(0.25 xij^{2} - 0.125 yij^{2} - 0.125 zij^{2}\\right)}{\\pi \\eta \\left(xij^{2} + yij^{2} + zij^{2}\\right)^{\\frac{5}{2}}}$"
      ],
      "text/plain": [
       "b**2*(0.25*xij**2 - 0.125*yij**2 - 0.125*zij**2)/(pi*eta*(xij**2 + yij**2 + zij**2)**(5/2))"
      ]
     },
     "execution_count": 7,
     "metadata": {},
     "output_type": "execute_result"
    }
   ],
   "source": [
    "## GL2s and G2sL\n",
    "def G1s2s(rij, alpha, kappa1, beta):\n",
    "    return -0.5*b*((delG(rij, alpha, beta, kappa1) + delG(rij, alpha, kappa1, beta)) + 4*b**2/15*(dellapG(rij, alpha, beta, kappa1) + dellapG(rij, alpha, kappa1, beta)))\n",
    "\n",
    "def G2a2s(rij, alpha, kappa1, beta):\n",
    "    return -0.5*b*b*(diff(Curl(G, alpha, beta),rij[kappa1]) + diff(Curl(G, alpha, kappa1),rij[beta]))\n",
    "#summation(summation(eps(alpha,nu,zeta)*(deldelG(rij, zeta, beta, kappa1, nu) + deldelG(rij, zeta, kappa1, beta, nu)), (nu,0,2)), (zeta,0,2))\n",
    "\n",
    "def G2s1s(rij, alpha, gamma1, beta):\n",
    "    return 0.5*b*((delG(rij, alpha, beta, gamma1) + delG(rij, gamma1, beta, alpha)) + 4*b**2/15*(dellapG(rij,alpha,beta,gamma1) + dellapG(rij, gamma1, beta, alpha)))\n",
    "\n",
    "def G2s2a(rij, alpha, gamma1, mu):\n",
    "    return -0.25*b*b*(diff(Curl(G,mu,gamma1), rij[alpha]) + diff(Curl(G,mu,alpha), rij[gamma1])) #sign change from -> eps(mu, kappa1, beta)\n",
    "#summation(summation(eps(beta, kappa1, mu)*(deldelG(rij, gamma1, beta, alpha, kappa1) + deldelG(rij, alpha, beta, gamma1, kappa1)), (kappa1, 0, 2)), (beta,0,2))\n",
    "\n",
    "\n",
    "## G2s2s\n",
    "def G2s2s(rij, alpha, gamma1, kappa1, beta):\n",
    "    return -0.25*b*b*((deldelG(rij, alpha, beta, gamma1, kappa1) + deldelG(rij, gamma1, beta, alpha, kappa1)) + \n",
    "                      (deldelG(rij,alpha,kappa1, gamma1, beta) + deldelG(rij, gamma1, kappa1, alpha, beta)) +\n",
    "                      b**2/5*(deldellapG(rij,alpha,beta,gamma1,kappa1) + deldellapG(rij,gamma1,beta,alpha,kappa1)) + \n",
    "                      b**2/5*(deldellapG(rij, alpha, kappa1, gamma1, beta) + deldellapG(rij,gamma1,kappa1,alpha,beta)))\n",
    "\n",
    "\n",
    "## higher matrix elements\n",
    "def G1s3t(rij, alpha, beta):\n",
    "    return -1/5*b**2*lapG(rij,alpha,beta)\n",
    "\n",
    "\n",
    "# symmetry for matrix elements of form l sigma, 3s\n",
    "def g13sSym(rij,alpha,kappa2,kappa1,beta):\n",
    "    return 1/3*(deldelG(rij,alpha,beta,kappa1,kappa2) + deldelG(rij,alpha,kappa2,kappa1,beta) + deldelG(rij,alpha,kappa1,beta,kappa2)) - 1/15*(\n",
    "        KroneckerDelta[kappa1,kappa2]*lapG(rij,alpha,beta) + KroneckerDelta[kappa1,beta]*lapG(rij,alpha,kappa2) + KroneckerDelta[beta,kappa2]*lapG(rij,alpha,kappa1))\n",
    "\n",
    "def G1s3s(rij,alpha,kappa2, kappa1, beta):\n",
    "    return b**2*(g13sSym(rij,alpha,kappa2,kappa1,beta) + 5*b**2/21*Laplacian(g13sSym(rij,alpha,kappa2,kappa1,beta),rij))\n",
    "\n",
    "\n",
    "# symmetry of matrix elements of form 3s, l sigma\n",
    "def g3s1Sym(rij,alpha,gamma1,gamma2,beta):\n",
    "    return 1/3*(deldelG(rij,alpha,beta,gamma1,gamma2) + deldelG(rij,gamma1,beta,gamma2,alpha) + deldelG(rij,gamma2,beta,alpha,gamma1)) - 1/15*(\n",
    "        KroneckerDelta[gamma1, gamma2]*lapG(rij,alpha,beta) + KroneckerDelta[gamma2,alpha]*lapG(rij,gamma1,beta) + KroneckerDelta[alpha,gamma1]*lapG(rij,gamma2,beta))\n",
    "\n",
    "def G3s1s(rij,alpha,gamma1,gamma2,beta):\n",
    "    return b**2*(g3s1Sym(rij,alpha,gamma1,gamma2,beta) + 5*b**2/21*Laplacian(g3s1Sym(rij,alpha,gamma1,gamma2,beta),rij))\n",
    "\n",
    "def G3a1s(rij,Lambda, kappa2, beta):\n",
    "    return 0.5*b**2*(diff(Curl(G, Lambda, beta), rij[kappa2]) + diff(Curl(G,kappa2,beta), rij[Lambda]))\n",
    "#summation(summation(eps(Lambda, gamma1, alpha)*deldelG(rij,alpha,beta,gamma1,kappa2) +\n",
    "#                    eps(kappa2, gamma1, alpha)*deldelG(rij,alpha,beta,gamma1,Lambda), (gamma1,0,2)), (alpha,0,2))\n",
    "\n",
    "def G1s3a(rij, alpha, nu2, sigma):\n",
    "    return 2/3*b**2*(diff(Curl(G,sigma, alpha),rij[nu2]) - 1/3*summation(eps(sigma,nu2,beta)*lapG(rij,alpha,beta), (beta,0,2))) # sign change due to --> eps(sigma,nu1,beta)\n",
    "#summation(summation(eps(beta,nu1,sigma)*(deldelG(rij,alpha,beta,nu1,nu2) - 1/3*KroneckerDelta[nu1,nu2]*lapG(rij, alpha,beta)), (beta,0,2)), (nu1,0,2))\n",
    "\n",
    "def G3s2a(rij, alpha,gamma1,gamma2,mu):\n",
    "    return 0.5*b**3*summation(summation(eps(beta,kappa1,mu)))## diff and then sum over it will not work need function that can be summed over with epsilon etc like curl\n",
    "#0.5*b^3*Sum[Sum[eps[beta, kappa1, mu]*D[g3s1Sym[rij, alpha, gamma1, gamma2, beta], rij[kappa1]], {kappa1, 3}], {beta, 3}]"
   ]
  },
  {
   "cell_type": "code",
   "execution_count": 8,
   "id": "d0794462-c8e4-4423-a018-46c466f4b919",
   "metadata": {},
   "outputs": [
    {
     "data": {
      "text/plain": [
       "0.039788735772973836"
      ]
     },
     "execution_count": 8,
     "metadata": {},
     "output_type": "execute_result"
    }
   ],
   "source": [
    "1/(8*np.pi)"
   ]
  },
  {
   "cell_type": "code",
   "execution_count": null,
   "id": "72ea5930-71bc-4be1-8fc5-cb88e35336d0",
   "metadata": {},
   "outputs": [],
   "source": []
  },
  {
   "cell_type": "code",
   "execution_count": 11,
   "id": "99dcc0c0-cf11-4d9c-912a-81aed1c1f483",
   "metadata": {},
   "outputs": [
    {
     "data": {
      "text/latex": [
       "$\\displaystyle \\frac{- 2 xij^{2} + yij^{2} + zij^{2}}{4 \\pi \\eta \\left(xij^{2} + yij^{2} + zij^{2}\\right)^{\\frac{5}{2}}}$"
      ],
      "text/plain": [
       "(-2*xij**2 + yij**2 + zij**2)/(4*pi*eta*(xij**2 + yij**2 + zij**2)**(5/2))"
      ]
     },
     "execution_count": 11,
     "metadata": {},
     "output_type": "execute_result"
    }
   ],
   "source": [
    "simplify(lapG(rij,0,0))"
   ]
  },
  {
   "cell_type": "code",
   "execution_count": 12,
   "id": "99c1a64a-1d15-450d-afcd-a72c99a5fcad",
   "metadata": {},
   "outputs": [
    {
     "data": {
      "text/latex": [
       "$\\displaystyle \\frac{- 2 xij^{2} + yij^{2} + zij^{2}}{4 \\pi \\eta \\sqrt{xij^{2} + yij^{2} + zij^{2}} \\left(xij^{4} + 2 xij^{2} yij^{2} + 2 xij^{2} zij^{2} + yij^{4} + 2 yij^{2} zij^{2} + zij^{4}\\right)}$"
      ],
      "text/plain": [
       "(-2*xij**2 + yij**2 + zij**2)/(4*pi*eta*sqrt(xij**2 + yij**2 + zij**2)*(xij**4 + 2*xij**2*yij**2 + 2*xij**2*zij**2 + yij**4 + 2*yij**2*zij**2 + zij**4))"
      ]
     },
     "execution_count": 12,
     "metadata": {},
     "output_type": "execute_result"
    }
   ],
   "source": [
    "simplify(Laplacian(G(rij,0,0), rij))##same, just in different form"
   ]
  },
  {
   "cell_type": "code",
   "execution_count": 13,
   "id": "701405c5-95ed-4a23-984b-72a1672dec9d",
   "metadata": {},
   "outputs": [],
   "source": [
    "##The only problematic summations are the ones over differentials, which only happens in the curl, ie (la) modes"
   ]
  },
  {
   "cell_type": "code",
   "execution_count": 24,
   "id": "f69b58ab-9cd8-4a33-98be-a7f1024334f5",
   "metadata": {},
   "outputs": [],
   "source": []
  },
  {
   "cell_type": "code",
   "execution_count": 12,
   "id": "5f4e057b-92f8-47ea-87ee-1e0749c851b9",
   "metadata": {},
   "outputs": [
    {
     "data": {
      "text/latex": [
       "$\\displaystyle \\frac{zij}{4 \\pi \\eta \\left(xij^{2} + yij^{2} + zij^{2}\\right)^{\\frac{3}{2}}}$"
      ],
      "text/plain": [
       "zij/(4*pi*eta*(xij**2 + yij**2 + zij**2)**(3/2))"
      ]
     },
     "execution_count": 12,
     "metadata": {},
     "output_type": "execute_result"
    }
   ],
   "source": [
    "simplify(Curl(G, 0, 1)) ## seems to work, compared with Mathematica code "
   ]
  },
  {
   "cell_type": "code",
   "execution_count": null,
   "id": "0c7a6144-c65b-444a-b17f-d445d74079a8",
   "metadata": {},
   "outputs": [],
   "source": []
  },
  {
   "cell_type": "code",
   "execution_count": null,
   "id": "80957cb3-7b04-40a0-8734-beaf81f16a36",
   "metadata": {},
   "outputs": [],
   "source": []
  },
  {
   "cell_type": "code",
   "execution_count": null,
   "id": "a663c54d-9d88-4a3c-afae-c0f3d0e745d5",
   "metadata": {},
   "outputs": [],
   "source": []
  },
  {
   "cell_type": "code",
   "execution_count": null,
   "id": "95ff04dc-5977-4fff-b696-44d929e672be",
   "metadata": {},
   "outputs": [],
   "source": []
  },
  {
   "cell_type": "code",
   "execution_count": null,
   "id": "68c03623-a1ad-479b-a07d-b366504a9b7c",
   "metadata": {},
   "outputs": [],
   "source": []
  },
  {
   "cell_type": "code",
   "execution_count": null,
   "id": "869c7557-e883-42e3-8b20-863312d7755b",
   "metadata": {},
   "outputs": [],
   "source": []
  },
  {
   "cell_type": "code",
   "execution_count": null,
   "id": "577484cd-e3cd-4420-b19c-064c9aa6b743",
   "metadata": {},
   "outputs": [],
   "source": []
  },
  {
   "cell_type": "code",
   "execution_count": null,
   "id": "e2d52da1-7c70-4e5f-b734-376c313cd9ae",
   "metadata": {},
   "outputs": [],
   "source": []
  },
  {
   "cell_type": "code",
   "execution_count": null,
   "id": "fe3e3784-7501-4534-9a9b-5817f3975827",
   "metadata": {},
   "outputs": [],
   "source": []
  },
  {
   "cell_type": "code",
   "execution_count": null,
   "id": "74cc197a-4349-4c92-b027-3bab8c3fc1df",
   "metadata": {},
   "outputs": [],
   "source": []
  },
  {
   "cell_type": "code",
   "execution_count": null,
   "id": "acb0477d-c5ac-4bdf-af78-74200abc2c54",
   "metadata": {},
   "outputs": [],
   "source": []
  },
  {
   "cell_type": "code",
   "execution_count": 41,
   "id": "5f72d42e-d71c-4c5c-8e20-db163f31ecae",
   "metadata": {},
   "outputs": [],
   "source": [
    "## try to assemble one of the matrices"
   ]
  },
  {
   "cell_type": "code",
   "execution_count": 60,
   "id": "a950578e-e68f-47a1-9438-216ef41bcca5",
   "metadata": {},
   "outputs": [],
   "source": [
    "matG1s1s = Matrix.zeros(3,3)\n",
    "for i in range(3):\n",
    "    for j in range(3):\n",
    "        matG1s1s[i,j] = simplify(G1s1s(rij, i, j))"
   ]
  },
  {
   "cell_type": "code",
   "execution_count": 61,
   "id": "b40374c7-1e49-4ec0-a03b-d06ddb369865",
   "metadata": {},
   "outputs": [
    {
     "data": {
      "text/latex": [
       "$\\displaystyle \\left[\\begin{matrix}\\frac{- 2 b^{2} \\cdot \\left(2 xij^{2} - yij^{2} - zij^{2}\\right) + 3 \\left(xij^{2} + yij^{2} + zij^{2}\\right) \\left(2 xij^{2} + yij^{2} + zij^{2}\\right)}{24 \\pi \\eta \\left(xij^{2} + yij^{2} + zij^{2}\\right)^{\\frac{5}{2}}} & \\frac{xij yij \\left(- 2 b^{2} + xij^{2} + yij^{2} + zij^{2}\\right)}{8 \\pi \\eta \\left(xij^{2} + yij^{2} + zij^{2}\\right)^{\\frac{5}{2}}} & \\frac{xij zij \\left(- 2 b^{2} + xij^{2} + yij^{2} + zij^{2}\\right)}{8 \\pi \\eta \\left(xij^{2} + yij^{2} + zij^{2}\\right)^{\\frac{5}{2}}}\\\\\\frac{xij yij \\left(- 2 b^{2} + xij^{2} + yij^{2} + zij^{2}\\right)}{8 \\pi \\eta \\left(xij^{2} + yij^{2} + zij^{2}\\right)^{\\frac{5}{2}}} & \\frac{- 2 b^{2} \\left(- xij^{2} + 2 yij^{2} - zij^{2}\\right) + 3 \\left(xij^{2} + yij^{2} + zij^{2}\\right) \\left(xij^{2} + 2 yij^{2} + zij^{2}\\right)}{24 \\pi \\eta \\left(xij^{2} + yij^{2} + zij^{2}\\right)^{\\frac{5}{2}}} & \\frac{yij zij \\left(- 2 b^{2} + xij^{2} + yij^{2} + zij^{2}\\right)}{8 \\pi \\eta \\left(xij^{2} + yij^{2} + zij^{2}\\right)^{\\frac{5}{2}}}\\\\\\frac{xij zij \\left(- 2 b^{2} + xij^{2} + yij^{2} + zij^{2}\\right)}{8 \\pi \\eta \\left(xij^{2} + yij^{2} + zij^{2}\\right)^{\\frac{5}{2}}} & \\frac{yij zij \\left(- 2 b^{2} + xij^{2} + yij^{2} + zij^{2}\\right)}{8 \\pi \\eta \\left(xij^{2} + yij^{2} + zij^{2}\\right)^{\\frac{5}{2}}} & \\frac{- 2 b^{2} \\left(- xij^{2} - yij^{2} + 2 zij^{2}\\right) + 3 \\left(xij^{2} + yij^{2} + zij^{2}\\right) \\left(xij^{2} + yij^{2} + 2 zij^{2}\\right)}{24 \\pi \\eta \\left(xij^{2} + yij^{2} + zij^{2}\\right)^{\\frac{5}{2}}}\\end{matrix}\\right]$"
      ],
      "text/plain": [
       "Matrix([\n",
       "[(-2*b**2*(2*xij**2 - yij**2 - zij**2) + 3*(xij**2 + yij**2 + zij**2)*(2*xij**2 + yij**2 + zij**2))/(24*pi*eta*(xij**2 + yij**2 + zij**2)**(5/2)),                                                         xij*yij*(-2*b**2 + xij**2 + yij**2 + zij**2)/(8*pi*eta*(xij**2 + yij**2 + zij**2)**(5/2)),                                                         xij*zij*(-2*b**2 + xij**2 + yij**2 + zij**2)/(8*pi*eta*(xij**2 + yij**2 + zij**2)**(5/2))],\n",
       "[                                                       xij*yij*(-2*b**2 + xij**2 + yij**2 + zij**2)/(8*pi*eta*(xij**2 + yij**2 + zij**2)**(5/2)), (-2*b**2*(-xij**2 + 2*yij**2 - zij**2) + 3*(xij**2 + yij**2 + zij**2)*(xij**2 + 2*yij**2 + zij**2))/(24*pi*eta*(xij**2 + yij**2 + zij**2)**(5/2)),                                                         yij*zij*(-2*b**2 + xij**2 + yij**2 + zij**2)/(8*pi*eta*(xij**2 + yij**2 + zij**2)**(5/2))],\n",
       "[                                                       xij*zij*(-2*b**2 + xij**2 + yij**2 + zij**2)/(8*pi*eta*(xij**2 + yij**2 + zij**2)**(5/2)),                                                         yij*zij*(-2*b**2 + xij**2 + yij**2 + zij**2)/(8*pi*eta*(xij**2 + yij**2 + zij**2)**(5/2)), (-2*b**2*(-xij**2 - yij**2 + 2*zij**2) + 3*(xij**2 + yij**2 + zij**2)*(xij**2 + yij**2 + 2*zij**2))/(24*pi*eta*(xij**2 + yij**2 + zij**2)**(5/2))]])"
      ]
     },
     "execution_count": 61,
     "metadata": {},
     "output_type": "execute_result"
    }
   ],
   "source": [
    "matG1s1s ##works and as far as I can see, matches the Mathematica result"
   ]
  },
  {
   "cell_type": "code",
   "execution_count": null,
   "id": "66196eed-12dc-4e8a-b24b-2351723df165",
   "metadata": {},
   "outputs": [],
   "source": [
    "## when printing to python code, might have to be careful with greek characters that sympy is printing so nicely"
   ]
  }
 ],
 "metadata": {
  "kernelspec": {
   "display_name": "Python 3 (ipykernel)",
   "language": "python",
   "name": "python3"
  },
  "language_info": {
   "codemirror_mode": {
    "name": "ipython",
    "version": 3
   },
   "file_extension": ".py",
   "mimetype": "text/x-python",
   "name": "python",
   "nbconvert_exporter": "python",
   "pygments_lexer": "ipython3",
   "version": "3.10.2"
  }
 },
 "nbformat": 4,
 "nbformat_minor": 5
}
