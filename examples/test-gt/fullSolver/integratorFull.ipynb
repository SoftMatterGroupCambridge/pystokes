{
 "cells": [
  {
   "cell_type": "code",
   "execution_count": 1,
   "id": "5ea0c3ca-ea9b-48e6-b764-e9c35a71f626",
   "metadata": {},
   "outputs": [],
   "source": [
    "%matplotlib inline\n",
    "from solveFull import linearSolve_krylov as linearSolve\n",
    "import numpy as np, matplotlib.pyplot as plt\n",
    "import pystokes"
   ]
  },
  {
   "cell_type": "code",
   "execution_count": 2,
   "id": "ecbf7872-d544-4d59-b3fe-cd1ab4237802",
   "metadata": {},
   "outputs": [],
   "source": [
    "def rotation(vector,alpha, beta, gamma):\n",
    "    rotmat = np.array([[np.cos(beta)*np.cos(gamma), np.sin(alpha)*np.sin(beta)*np.cos(gamma) \n",
    "                        - np.cos(alpha)*np.sin(gamma), np.cos(alpha)*np.sin(beta)*np.cos(gamma)\n",
    "                        + np.sin(alpha)*np.sin(gamma)],\n",
    "                       [np.cos(beta)*np.sin(gamma),\n",
    "                        np.sin(alpha)*np.sin(beta)*np.sin(gamma) + np.cos(alpha)*np.cos(gamma),\n",
    "                        np.cos(alpha)*np.sin(beta)*np.sin(gamma) - np.sin(alpha)*np.cos(gamma)],\n",
    "                       [-np.sin(beta),\n",
    "                        np.sin(alpha)*np.cos(beta),\n",
    "                        np.cos(alpha)*np.cos(beta)]])\n",
    "    return np.dot(rotmat, vector)"
   ]
  },
  {
   "cell_type": "code",
   "execution_count": 3,
   "id": "1b6243c6-c5e2-4038-adeb-ece207c276e8",
   "metadata": {},
   "outputs": [],
   "source": [
    "# particle radius, self-propulsion speed, number and fluid viscosity\n",
    "b, Np, eta = 1.0, 2, 0.1\n",
    "\n",
    "## squirmer\n",
    "D0  = 1.0      \n",
    "S0  = 3/50*D0    # beta = 1 (positive beta is a puller (negative V2s)) - not sure which sign!"
   ]
  },
  {
   "cell_type": "code",
   "execution_count": 4,
   "id": "36559b20-ed76-4701-a56f-16d30a3ee2dd",
   "metadata": {},
   "outputs": [],
   "source": [
    "## initialise \n",
    "#initial position\n",
    "r = np.array([-1.5,1.5, 0.,0. , 0., 0.])\n",
    "\n",
    "#initial orientation\n",
    "p = np.array([0., 0., 0.,0., 1.,1.])\n",
    "\n",
    "##rotate particles 50deg towards each other\n",
    "p[::Np] = rotation(p[::Np], 0., 25*2*np.pi/360, 0.)\n",
    "p[1::Np] = rotation(p[1::Np], 0., -25*2*np.pi/360, 0.)\n",
    "\n",
    "\n",
    "# initial slip modes\n",
    "S = np.zeros(9*Np)\n",
    "D = np.zeros(3*Np)\n",
    "for i in range(Np):\n",
    "    ## S in order: xx, xy, xz, yx, yy, yz, zx, zy, zz\n",
    "    S[i]       = S0*(3*p[i]*p[i] -1.)\n",
    "    S[i + Np]  = S0*(3*p[i]*p[i+Np])\n",
    "    S[i + 2*Np]= S0*(3*p[i]*p[i+2*Np])\n",
    "    S[i + 3*Np]= S0*(3*p[i+Np]*p[i])\n",
    "    S[i + 4*Np]= S0*(3*p[i+Np]*p[i+Np]-1.)\n",
    "    S[i + 5*Np]= S0*(3*p[i+Np]*p[i+2*Np]) \n",
    "    S[i + 6*Np]= S0*(3*p[i+2*Np]*p[i+Np])\n",
    "    S[i + 7*Np]= S0*(3*p[i+2*Np]*p[i+Np])\n",
    "    S[i + 8*Np]= S0*(3*p[i+2*Np]*p[i+2*Np] - 1.)\n",
    "    \n",
    "    D[i]       = D0*p[i]\n",
    "    D[i+Np]    = D0*p[i+Np]\n",
    "    D[i+2*Np]  = D0*p[i+2*Np]"
   ]
  },
  {
   "cell_type": "code",
   "execution_count": 5,
   "id": "a743ca23-ca83-41f2-b9d7-fd206cc1deeb",
   "metadata": {},
   "outputs": [],
   "source": [
    "def rhs(rp): ##change this to give polarisation directly\n",
    "    \"\"\"\n",
    "    Function that gives rhs for equations dr/dt=v and dp/dt= o x p\n",
    "    \"\"\"\n",
    "    \n",
    "    #position and angle theta (relative to initial angle)\n",
    "    r = rp[0:3*Np]; p = rp[3*Np:6*Np]\n",
    "    \n",
    "    ## make sure orientations remain unit length\n",
    "    norm_p1 = np.dot(p[::Np],p[::Np])\n",
    "    norm_p2 = np.dot(p[1::Np],p[1::Np])\n",
    "    \n",
    "    p[::Np] = p[::Np]/np.sqrt(norm_p1)\n",
    "    p[1::Np] = p[1::Np]/np.sqrt(norm_p2)\n",
    "    \n",
    "    \n",
    "    F, T, v, o = np.zeros(3*Np), np.zeros(3*Np), np.zeros(3*Np), np.zeros(3*Np)\n",
    "    \n",
    "    for i in range(Np):          \n",
    "        F[i]      = 0.0\n",
    "        F[i+Np]   = 0.0 \n",
    "        F[i+2*Np] = 0.0 \n",
    "        \n",
    "        T[i]      = 0.0\n",
    "        T[i+Np]   = 0.0\n",
    "        T[i+2*Np] = 0.0\n",
    "        \n",
    "        v[i]      = 0.0\n",
    "        v[i+Np]   = 0.0\n",
    "        v[i+2*Np] = 0.0\n",
    "        \n",
    "        o[i]      = 0.0\n",
    "        o[i+Np]   = 0.0\n",
    "        o[i+2*Np] = 0.0\n",
    "        \n",
    "        \n",
    "        S[i]       = S0*(3*p[i]*p[i] -1.)\n",
    "        S[i + Np]  = S0*(3*p[i]*p[i+Np])\n",
    "        S[i + 2*Np]= S0*(3*p[i]*p[i+2*Np])\n",
    "        S[i + 3*Np]= S0*(3*p[i+Np]*p[i])\n",
    "        S[i + 4*Np]= S0*(3*p[i+Np]*p[i+Np]-1.)\n",
    "        S[i + 5*Np]= S0*(3*p[i+Np]*p[i+2*Np]) \n",
    "        S[i + 6*Np]= S0*(3*p[i+2*Np]*p[i+Np])\n",
    "        S[i + 7*Np]= S0*(3*p[i+2*Np]*p[i+Np])\n",
    "        S[i + 8*Np]= S0*(3*p[i+2*Np]*p[i+2*Np] - 1.)\n",
    "        \n",
    "        D[i]       = D0*p[i]\n",
    "        D[i+Np]    = D0*p[i+Np]\n",
    "        D[i+2*Np]  = D0*p[i+2*Np]\n",
    "\n",
    "    \n",
    "    #update repulsive force at position r\n",
    "    forces.lennardJones(F, r, lje=5.0, ljr=2.1*b)\n",
    "    \n",
    "    #update velocity and angular velocity at r, acted on by F and T, and with slip modes S an D\n",
    "    ls.RBM(v, o, r, F, T, S, D)\n",
    "    \n",
    "    dpdt = np.zeros(3*Np)\n",
    "    \n",
    "    for i in range(Np):\n",
    "        dpdt[i]      = o[i+Np]*p[i+2*Np] - o[i+2*Np]*p[i+Np]    \n",
    "        dpdt[i+Np]   = o[i+2*Np]*p[i   ] - o[i     ]*p[i+2*Np]  \n",
    "        dpdt[i+2*Np] = o[i     ]*p[i+Np] - o[i+Np  ]*p[i]\n",
    "        \n",
    "\n",
    "    \n",
    "    #return velocity and angular velocity cross orientation as right-hand side\n",
    "    return np.concatenate( (v,dpdt) )"
   ]
  },
  {
   "cell_type": "code",
   "execution_count": 6,
   "id": "7b7c0a9b-b5c9-462c-a19e-5fe8f9789fcc",
   "metadata": {},
   "outputs": [],
   "source": [
    "def simulate(rth0, Tf, Npts, rhs, integrator='solve_ivp', Ti=0, maxNumSteps=100000, **kwargs):\n",
    "    \n",
    "    def dxdtEval(rth,t):\n",
    "        return rhs(rth)\n",
    "    \n",
    "    if integrator=='BDF': ## weird handling for this method\n",
    "        from scipy.integrate import BDF\n",
    "        X = BDF(lambda t, xt: dxdtEval(xt,t), Ti, rth0, Tf)\n",
    "        \n",
    "    if integrator=='odeint':\n",
    "        from scipy.integrate import odeint\n",
    "        time_points=np.linspace(Ti, Tf, Npts+1);\n",
    "        X = odeint(dxdtEval, rth0, time_points, mxstep=maxNumSteps, **kwargs)\n",
    "        \n",
    "    if integrator=='solve_ivp':\n",
    "        from scipy.integrate import solve_ivp\n",
    "        time_points=np.linspace(Ti, Tf, Npts+1)                                                          \n",
    "        X = solve_ivp(lambda t, xt: dxdtEval(xt,t), [0,Tf], rth0, \n",
    "                         t_eval=None, **kwargs)\n",
    "        \n",
    "    return X"
   ]
  },
  {
   "cell_type": "code",
   "execution_count": 7,
   "id": "a1bbce4f-bfde-411e-a40b-d3f37138cd60",
   "metadata": {},
   "outputs": [
    {
     "name": "stdout",
     "output_type": "stream",
     "text": [
      "CPU times: user 4min 27s, sys: 212 ms, total: 4min 27s\n",
      "Wall time: 4min 7s\n"
     ]
    },
    {
     "data": {
      "text/plain": [
       "'The solver successfully reached the end of the integration interval.'"
      ]
     },
     "execution_count": 7,
     "metadata": {},
     "output_type": "execute_result"
    }
   ],
   "source": [
    "%%time\n",
    "#initiallize system and forces\n",
    "ls = linearSolve(b, Np, eta)\n",
    "forces  = pystokes.forceFields.Forces(particles=Np)\n",
    "\n",
    "#simulate the resulting system\n",
    "rp0 = np.concatenate((r,p))\n",
    "Tf = 500.\n",
    "Npts = 10\n",
    "\n",
    "X = simulate(rp0, Tf, Npts, rhs, integrator='solve_ivp', Ti=0, maxNumSteps=1000,\n",
    "             method='BDF')\n",
    "X.message"
   ]
  },
  {
   "cell_type": "code",
   "execution_count": 8,
   "id": "be84f876-653b-427c-9095-8062b2a013f2",
   "metadata": {},
   "outputs": [],
   "source": [
    "pos = X.y.T[:,0:3*Np]\n",
    "times = X.t"
   ]
  },
  {
   "cell_type": "code",
   "execution_count": 9,
   "id": "3f196502-7628-4689-8f38-15ee285f72d7",
   "metadata": {},
   "outputs": [],
   "source": [
    "pos1 = pos[:,::Np]\n",
    "pos2 = pos[:,1::Np]"
   ]
  },
  {
   "cell_type": "code",
   "execution_count": 25,
   "id": "314d603e-9a44-420a-9f74-c339302a69a7",
   "metadata": {},
   "outputs": [],
   "source": [
    "plt.rcParams.update({'font.size': 17})"
   ]
  },
  {
   "cell_type": "code",
   "execution_count": 27,
   "id": "7eebe082-f07d-4ef9-9d6b-0094dad3e589",
   "metadata": {},
   "outputs": [
    {
     "data": {
      "image/png": "[encoded data removed]",
      "text/plain": [
       "<Figure size 576x792 with 1 Axes>"
      ]
     },
     "metadata": {
      "needs_background": "light"
     },
     "output_type": "display_data"
    }
   ],
   "source": [
    "##x-y plot like in Ishikawa\n",
    "plt.figure(figsize=(8,11))\n",
    "plt.plot(pos1[:,0], pos1[:,2], label='particle 1', lw=2)\n",
    "plt.plot(pos2[:,0], pos2[:,2], label='particle 2', lw=2)\n",
    "plt.xlabel('x')\n",
    "plt.ylabel('z')\n",
    "plt.ylim(0,30)\n",
    "plt.xlim(-10,10)\n",
    "plt.legend()\n",
    "plt.show()"
   ]
  },
  {
   "cell_type": "code",
   "execution_count": 11,
   "id": "d0da3f56-2e2e-4140-a959-d390b0a3ce55",
   "metadata": {},
   "outputs": [
    {
     "data": {
      "text/plain": [
       "(2.0427881653971873, 22.45795736644454)"
      ]
     },
     "execution_count": 11,
     "metadata": {},
     "output_type": "execute_result"
    }
   ],
   "source": [
    "## minimum distance between the two particles\n",
    "rmin = np.amin(np.sqrt((pos1[:,0]-pos2[:,0])**2 + (pos1[:,1]-pos2[:,1])**2 + (pos1[:,2]-pos2[:,2])**2))\n",
    "rmax = np.amax(np.sqrt((pos1[:,0]-pos2[:,0])**2 + (pos1[:,1]-pos2[:,1])**2 + (pos1[:,2]-pos2[:,2])**2))\n",
    "rmin, rmax"
   ]
  },
  {
   "cell_type": "code",
   "execution_count": 12,
   "id": "3424d28f-af29-4553-8180-d495ddec9255",
   "metadata": {},
   "outputs": [
    {
     "data": {
      "text/plain": [
       "(array([17]),)"
      ]
     },
     "execution_count": 12,
     "metadata": {},
     "output_type": "execute_result"
    }
   ],
   "source": [
    "minIndex = np.where(np.sqrt((pos1[:,0]-pos2[:,0])**2 + (pos1[:,1]-pos2[:,1])**2 + (pos1[:,2]-pos2[:,2])**2)==rmin)\n",
    "#minIndex[0][0] -= 18\n",
    "xik,yik,zik = (pos1[minIndex,:]-pos2[minIndex,:])[0][0]\n",
    "minIndex"
   ]
  },
  {
   "cell_type": "code",
   "execution_count": 13,
   "id": "81b91fef-0a57-43ce-ad74-186aba28c1f9",
   "metadata": {},
   "outputs": [
    {
     "data": {
      "text/plain": [
       "(-2.0427881653971873, 0.0, -1.9984014443252818e-15)"
      ]
     },
     "execution_count": 13,
     "metadata": {},
     "output_type": "execute_result"
    }
   ],
   "source": [
    "xik,yik,zik ##they go out of plane? not anymore! "
   ]
  },
  {
   "cell_type": "code",
   "execution_count": 14,
   "id": "5afba71a-eda5-4b41-b75e-b161e413f366",
   "metadata": {},
   "outputs": [],
   "source": [
    "##why does Krylov solver go so wrong? seems to introduce numerical error. \n",
    "\n",
    "## Try symmetry factor corrected matrix elements with a direct solver? "
   ]
  },
  {
   "cell_type": "code",
   "execution_count": 15,
   "id": "894bb98c-f67f-4b0c-abff-6a3c8f40c962",
   "metadata": {},
   "outputs": [
    {
     "name": "stdout",
     "output_type": "stream",
     "text": [
      "[ 0.00000000e+00  0.00000000e+00  0.00000000e+00  0.00000000e+00\n",
      "  0.00000000e+00  0.00000000e+00  0.00000000e+00  0.00000000e+00\n",
      "  0.00000000e+00  0.00000000e+00  0.00000000e+00  0.00000000e+00\n",
      "  0.00000000e+00  0.00000000e+00  0.00000000e+00  2.22044605e-16\n",
      "  4.44089210e-16  1.33226763e-15  1.77635684e-15  2.73114864e-14\n",
      "  5.48450174e-14  3.59712260e-14  1.49880108e-13  3.89022148e-13\n",
      " -2.05169215e-13  4.10782519e-14  1.62758695e-12  4.60920191e-12\n",
      "  9.12003806e-12  2.65427680e-11  4.95796737e-11  7.86481991e-11\n",
      "  1.10829790e-10  2.01961337e-10  3.60982799e-10  5.64601699e-10\n",
      "  8.20175039e-10  1.03164988e-09  1.20247123e-09  1.34599309e-09\n",
      "  1.63989489e-09  1.88782323e-09  2.10886464e-09  2.44081999e-09\n",
      "  2.80028534e-09  3.21089111e-09  3.66907216e-09  4.40534187e-09\n",
      "  5.06901987e-09  5.64015146e-09  6.55628618e-09  7.26501348e-09]\n"
     ]
    }
   ],
   "source": [
    "print(pos1[:,0] + pos2[:,0])"
   ]
  },
  {
   "cell_type": "code",
   "execution_count": 16,
   "id": "506c0c13-64f3-4534-a48f-2c1a5e48d785",
   "metadata": {},
   "outputs": [],
   "source": [
    "orientations = X.y.T[:,3*Np:6*Np]\n",
    "or1 = orientations[:,::Np]\n",
    "or2 = orientations[:,1::Np]"
   ]
  },
  {
   "cell_type": "code",
   "execution_count": 17,
   "id": "be8a3111-ec95-499c-a536-8ce4aff37aa8",
   "metadata": {},
   "outputs": [
    {
     "data": {
      "text/plain": [
       "array([ 0.00000000e+00,  0.00000000e+00,  0.00000000e+00,  0.00000000e+00,\n",
       "        0.00000000e+00,  0.00000000e+00,  0.00000000e+00,  0.00000000e+00,\n",
       "        0.00000000e+00,  0.00000000e+00,  0.00000000e+00,  0.00000000e+00,\n",
       "       -1.11022302e-16,  1.66533454e-16,  5.55111512e-17,  2.77555756e-16,\n",
       "       -8.86513085e-14, -5.45119505e-14, -2.28705943e-14,  1.03306252e-13,\n",
       "        9.47020240e-14, -1.78745907e-14,  1.44800838e-13,  1.88571381e-13,\n",
       "       -1.22624133e-13,  6.75924594e-13,  2.30826296e-12,  4.49635815e-12,\n",
       "        7.02654601e-12,  1.37815731e-11,  1.95641003e-11,  2.35472475e-11,\n",
       "        2.38708775e-11,  5.08457720e-11,  9.80984738e-11,  1.49064205e-10,\n",
       "        1.75719911e-10,  1.62426156e-10,  1.35506384e-10,  1.13999254e-10,\n",
       "        8.97641961e-11,  7.89850685e-11,  7.17910731e-11,  7.30385474e-11,\n",
       "        8.26485547e-11,  9.40454381e-11,  1.02097414e-10,  9.60897195e-11,\n",
       "        8.18056872e-11,  6.90771468e-11,  5.44935624e-11,  5.36815731e-11])"
      ]
     },
     "execution_count": 17,
     "metadata": {},
     "output_type": "execute_result"
    }
   ],
   "source": [
    "or1[:,0] + or2[:,0]"
   ]
  },
  {
   "cell_type": "code",
   "execution_count": 18,
   "id": "bde5b510-6880-4384-90c6-cb245d563dc5",
   "metadata": {},
   "outputs": [
    {
     "data": {
      "text/plain": [
       "array([ 0.00000000e+00,  0.00000000e+00,  0.00000000e+00,  0.00000000e+00,\n",
       "        0.00000000e+00,  0.00000000e+00,  0.00000000e+00,  0.00000000e+00,\n",
       "        0.00000000e+00,  0.00000000e+00,  0.00000000e+00,  0.00000000e+00,\n",
       "       -2.22044605e-16, -1.11022302e-16,  1.11022302e-16, -2.22044605e-16,\n",
       "       -2.39697151e-13, -1.60427227e-13, -8.26005930e-14,  2.59126054e-13,\n",
       "        2.02393657e-13, -2.19491092e-13,  2.32369679e-13,  1.50990331e-13,\n",
       "       -2.03170814e-12, -1.00630615e-12, -4.67736960e-13,  1.28563826e-13,\n",
       "        5.67768055e-13,  4.42146320e-12,  1.43696166e-12,  3.94750899e-12,\n",
       "        4.01711997e-12,  8.94784247e-12,  1.75525150e-11,  2.60863553e-11,\n",
       "        2.79679613e-11,  2.43580711e-11,  1.97003525e-11,  1.64402936e-11,\n",
       "        1.26793021e-11,  1.07486242e-11,  9.54247792e-12,  9.69468950e-12,\n",
       "        1.07590603e-11,  1.20951027e-11,  1.30219169e-11,  1.20177202e-11,\n",
       "        1.03638209e-11,  8.71991368e-12,  6.81188439e-12,  6.69864164e-12])"
      ]
     },
     "execution_count": 18,
     "metadata": {},
     "output_type": "execute_result"
    }
   ],
   "source": [
    "or1[:,2] - or2[:,2]"
   ]
  },
  {
   "cell_type": "code",
   "execution_count": 19,
   "id": "4c0633dc-2f73-4bd1-a1be-c391ed7758e1",
   "metadata": {},
   "outputs": [
    {
     "data": {
      "text/plain": [
       "134"
      ]
     },
     "execution_count": 19,
     "metadata": {},
     "output_type": "execute_result"
    }
   ],
   "source": [
    "X.nfev"
   ]
  },
  {
   "cell_type": "code",
   "execution_count": null,
   "id": "0f8d3b21-8e16-4254-ad26-e456179a62d5",
   "metadata": {},
   "outputs": [],
   "source": []
  },
  {
   "cell_type": "code",
   "execution_count": null,
   "id": "b8be07c3-5db5-46b4-9720-ba8894f5e737",
   "metadata": {},
   "outputs": [],
   "source": []
  },
  {
   "cell_type": "code",
   "execution_count": null,
   "id": "b5a13da8-ee8e-4f12-9fa6-4641ddd114e2",
   "metadata": {},
   "outputs": [],
   "source": []
  },
  {
   "cell_type": "code",
   "execution_count": null,
   "id": "d652f40c-e9e1-4770-863f-f70cad2aff59",
   "metadata": {},
   "outputs": [],
   "source": []
  },
  {
   "cell_type": "code",
   "execution_count": null,
   "id": "ba123cf1-5b05-47fb-885a-29a48929fd93",
   "metadata": {},
   "outputs": [],
   "source": []
  },
  {
   "cell_type": "code",
   "execution_count": null,
   "id": "9c63b6ed-782a-4155-bb4a-f0ccea3b95b3",
   "metadata": {},
   "outputs": [],
   "source": []
  },
  {
   "cell_type": "code",
   "execution_count": null,
   "id": "cd89c61a-06cd-4520-be31-ee51aecf6464",
   "metadata": {},
   "outputs": [],
   "source": []
  },
  {
   "cell_type": "code",
   "execution_count": null,
   "id": "538228e5-e27d-4bb4-93b1-25bb90d6218f",
   "metadata": {},
   "outputs": [],
   "source": []
  },
  {
   "cell_type": "code",
   "execution_count": null,
   "id": "bafaf4b2-48c8-407c-b6b3-c0802bb4f91a",
   "metadata": {},
   "outputs": [],
   "source": []
  },
  {
   "cell_type": "code",
   "execution_count": null,
   "id": "2d77237c-d036-4dd8-96dd-448bbe667acf",
   "metadata": {},
   "outputs": [],
   "source": []
  },
  {
   "cell_type": "code",
   "execution_count": null,
   "id": "88441b37-eb6d-4a5f-bac7-b386f877ed4b",
   "metadata": {},
   "outputs": [],
   "source": []
  },
  {
   "cell_type": "code",
   "execution_count": null,
   "id": "e6451819-2d2f-499c-8cf2-97f0897e720f",
   "metadata": {},
   "outputs": [],
   "source": []
  },
  {
   "cell_type": "code",
   "execution_count": null,
   "id": "2971f058-3c89-4e2c-80bd-771bd464a733",
   "metadata": {},
   "outputs": [],
   "source": []
  },
  {
   "cell_type": "code",
   "execution_count": null,
   "id": "df13a871-0aa2-49a3-a875-5f3ede6ce6d6",
   "metadata": {},
   "outputs": [],
   "source": []
  },
  {
   "cell_type": "code",
   "execution_count": null,
   "id": "4901c57b-44b3-487d-bbe6-f08e2e4bf70b",
   "metadata": {},
   "outputs": [],
   "source": []
  },
  {
   "cell_type": "code",
   "execution_count": null,
   "id": "adbff81e-3350-4dda-8831-d58865dec48a",
   "metadata": {},
   "outputs": [],
   "source": []
  },
  {
   "cell_type": "code",
   "execution_count": null,
   "id": "de28faa6-e65b-4d4b-9d23-08a8fd34b57d",
   "metadata": {},
   "outputs": [],
   "source": []
  }
 ],
 "metadata": {
  "kernelspec": {
   "display_name": "Python 3 (ipykernel)",
   "language": "python",
   "name": "python3"
  },
  "language_info": {
   "codemirror_mode": {
    "name": "ipython",
    "version": 3
   },
   "file_extension": ".py",
   "mimetype": "text/x-python",
   "name": "python",
   "nbconvert_exporter": "python",
   "pygments_lexer": "ipython3",
   "version": "3.10.2"
  }
 },
 "nbformat": 4,
 "nbformat_minor": 5
}
