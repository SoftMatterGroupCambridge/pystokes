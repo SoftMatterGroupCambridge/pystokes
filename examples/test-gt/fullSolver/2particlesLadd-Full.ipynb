{
 "cells": [
  {
   "cell_type": "markdown",
   "id": "6c9260c4-9451-4d1a-8c8f-97a7d738dad2",
   "metadata": {},
   "source": [
    "In this notebook we compare the translational mobility coefficients for a pair of passive spheres for \n",
    "\n",
    " - Superposition/Pystokes\n",
    " - 2s (2s - similar to FTS Stokesian dynamics, but without adhoc lubrication effects)\n",
    " - 2s, 3t (3t)\n",
    " - 2s, 3t, 3a (3a)\n",
    " - 2s, 3t, 3a, 3s (long-ranged)\n",
    " \n",
    " to the exact solution given by **Goldman, Cox and Brenner (1966)** using bipolar coordinates finding exact numerical values for the terminal speed of two spheres sedimenting, later re-used by **Batchelor (1971)**, and also **Ladd (1988)**. \n",
    " \n",
    " We also compare $\\mu^{RT}$ to the exact solution obtained by Goldman, Cox and Brenner. "
   ]
  },
  {
   "cell_type": "code",
   "execution_count": 1,
   "id": "795c9edc-c34d-49b7-bcf8-c32f67b387f1",
   "metadata": {},
   "outputs": [],
   "source": [
    "%matplotlib inline\n",
    "import numpy as np, matplotlib.pyplot as plt\n",
    "\n",
    "import pystokes\n",
    "from solveFull import linearSolve_krylov as Full"
   ]
  },
  {
   "cell_type": "code",
   "execution_count": 2,
   "id": "2989a38f-2058-4f3c-a1fd-095df91f878a",
   "metadata": {},
   "outputs": [],
   "source": [
    "PI = 3.14159265359\n",
    "\n",
    "# particle radius, self-propulsion speed, number and fluid viscosity\n",
    "b, Np, eta = 1.0, 2, 0.1\n",
    "\n",
    "## passive particle\n",
    "D0  = 0.      \n",
    "S0  = 0.\n",
    "\n",
    "## normalising factor: one-particle mobility\n",
    "mu0 = 1./(6*PI*eta*b)"
   ]
  },
  {
   "cell_type": "markdown",
   "id": "b675a924-aab3-49e4-80f6-5128fa7eec75",
   "metadata": {},
   "source": [
    "The results are compared at the nine fixed ratios $r/b$, where $r$ is the centre-to-centre distance: $2.0,\\, 2.0049,\\, 2.0907,\\, 2.2553,\\, 2.6749,\\, 3.0862,\\, 4.0,\\, 6.0,\\, 8.0$"
   ]
  },
  {
   "cell_type": "code",
   "execution_count": 3,
   "id": "dfccfd2e-88d9-4735-a48f-6a14e25c2430",
   "metadata": {},
   "outputs": [],
   "source": [
    "rb = np.array([2.0, 2.0049, 2.0907, 2.2553, 2.6749, 3.0862, 4.0, 6.0, 8.0])"
   ]
  },
  {
   "cell_type": "markdown",
   "id": "20676856-e0e0-49da-ab32-96811c86497f",
   "metadata": {},
   "source": [
    "___________\n",
    "\n",
    "### Exact results (normalised by $\\mu_0$)"
   ]
  },
  {
   "cell_type": "code",
   "execution_count": 4,
   "id": "9e0243c8-2e31-4c79-b014-a920529e015d",
   "metadata": {},
   "outputs": [],
   "source": [
    "muPara = np.array([1.5500, 1.5494, 1.5376, 1.5160, 1.4662, 1.4236, 1.3472, 1.2427, 1.1847]) #force parallel to line of centers\n",
    "muPerp = np.array([1.3799, 1.4027, 1.3933, 1.3648, 1.3029, 1.2586, 1.1950, 1.1273, 1.0947]) #force perpendicular to line of centers"
   ]
  },
  {
   "cell_type": "code",
   "execution_count": null,
   "id": "f965cf94-ec10-466b-8e1f-002399771092",
   "metadata": {},
   "outputs": [],
   "source": []
  },
  {
   "cell_type": "code",
   "execution_count": 5,
   "id": "6453ad67-5c89-427c-866b-b0d87155607d",
   "metadata": {},
   "outputs": [
    {
     "data": {
      "text/plain": [
       "array([2.    , 2.0049, 2.01  , 2.0906, 2.2552, 2.6748, 3.0862])"
      ]
     },
     "execution_count": 5,
     "metadata": {},
     "output_type": "execute_result"
    }
   ],
   "source": [
    "2*np.array([1, 1.00245, 1.005, 1.0453, 1.1276, 1.3374, 1.5431]) ##use all but the third one"
   ]
  },
  {
   "cell_type": "code",
   "execution_count": 6,
   "id": "14ff0e01-d35b-4c46-ae37-9aea2f8c1dd9",
   "metadata": {},
   "outputs": [],
   "source": [
    "##from Goldman, Cox and Brenner Table 6 and 7. corresponding to the distances rb = 2*h/b\n",
    "Fstar = np.array([0.72469, 0.71292, 0.71771, 0.73271, 0.76751, 0.79454, 0.83680, 0.88709, 0.91348])\n",
    "Ostar = np.array([0, 7.7176e-2, 9.8065e-2, 9.6285e-2, 7.7524e-2, 6.1575e-2, 3.9075e-2, 1.8473e-2, 1.0703e-2])\n",
    "\n",
    "##muRT/mu0\n",
    "muRT = Ostar/(b*Fstar)\n",
    "\n",
    "## muTT/m0 = 1/Fstar is the same as the above muPerp - check"
   ]
  },
  {
   "cell_type": "markdown",
   "id": "8ebf1af4-b805-4b43-b1b0-59abb771ac1f",
   "metadata": {},
   "source": [
    "____________\n",
    "\n",
    "### PyStokes"
   ]
  },
  {
   "cell_type": "code",
   "execution_count": 7,
   "id": "878777f5-7256-4a19-b935-b76653a8ce01",
   "metadata": {},
   "outputs": [],
   "source": [
    "pstk = pystokes.unbounded.Rbm(b, Np, eta)\n",
    "## define distances that iterate through rb/2 and forces parallel and perpendicular to these distances \n",
    "\n",
    "pstk_muPara = np.zeros(rb.shape[0])\n",
    "pstk_muPerp = np.zeros(rb.shape[0])\n",
    "pstk_muRT   = np.zeros(rb.shape[0])\n",
    "\n",
    "\n",
    "r, F, T, v, o = np.zeros(3*Np), np.zeros(3*Np), np.zeros(3*Np), np.zeros(3*Np), np.zeros(3*Np)\n",
    "\n",
    "## parallel\n",
    "k=0\n",
    "for rb_ in rb:\n",
    "    #separation in x-direction\n",
    "    r[0] = -rb_/2.\n",
    "    r[1] =  rb_/2.\n",
    "    for i in range(Np):\n",
    "        #force parallel to separation - along x axis\n",
    "        F[i]      = 1.0\n",
    "        F[i+Np]   = 0.0 \n",
    "        F[i+2*Np] = 0.0\n",
    "        \n",
    "        v[i]      = 0.0\n",
    "        v[i+Np]   = 0.0\n",
    "        v[i+2*Np] = 0.0\n",
    "        \n",
    "        o[i]      = 0.0\n",
    "        o[i+Np]   = 0.0\n",
    "        o[i+2*Np] = 0.0\n",
    "    \n",
    "    pstk.mobilityTT(v,r,F)\n",
    "    pstk.mobilityTR(v,r,T)\n",
    "    pstk.mobilityRT(o,r,F)\n",
    "    pstk.mobilityRR(o,r,T)\n",
    "        \n",
    "    pstk_muPara[k] = v[0]/mu0 ## force is unity, so raw mobility is just velocity. Normalised by one-particle mobility\n",
    "    k += 1\n",
    "    \n",
    "## perpendicular\n",
    "k=0\n",
    "for rb_ in rb:\n",
    "    #separation in x-direction\n",
    "    r[0] = -rb_/2.\n",
    "    r[1] =  rb_/2.\n",
    "    for i in range(Np):\n",
    "        #force perpendicular to separation - along z axis\n",
    "        F[i]      = 0.0\n",
    "        F[i+Np]   = 0.0 \n",
    "        F[i+2*Np] = 1.0\n",
    "        \n",
    "        v[i]      = 0.0\n",
    "        v[i+Np]   = 0.0\n",
    "        v[i+2*Np] = 0.0\n",
    "        \n",
    "        o[i]      = 0.0\n",
    "        o[i+Np]   = 0.0\n",
    "        o[i+2*Np] = 0.0\n",
    "        \n",
    "    pstk.mobilityTT(v,r,F)\n",
    "    pstk.mobilityTR(v,r,T)\n",
    "    pstk.mobilityRT(o,r,F)\n",
    "    pstk.mobilityRR(o,r,T)\n",
    "        \n",
    "    pstk_muPerp[k] = v[4]/mu0 ## force is unity, so raw mobility is just velocity. Normalised by one-particle mobility\n",
    "    pstk_muRT[k] = abs(o[2])/mu0\n",
    "    k += 1"
   ]
  },
  {
   "cell_type": "code",
   "execution_count": 8,
   "id": "d67d9e9d-591a-400f-9d24-115ee37a865e",
   "metadata": {},
   "outputs": [
    {
     "data": {
      "text/plain": [
       "array([1.0483871 , 1.04820011, 1.04580903, 1.04084827, 1.02886353,\n",
       "       1.01996004, 1.00903726, 1.00214885, 1.00071484])"
      ]
     },
     "execution_count": 8,
     "metadata": {},
     "output_type": "execute_result"
    }
   ],
   "source": [
    "pstk_muPara/muPara"
   ]
  },
  {
   "cell_type": "code",
   "execution_count": 9,
   "id": "9eea16c2-fbb8-4dd5-8d32-e59e7a81776e",
   "metadata": {},
   "outputs": [
    {
     "data": {
      "text/plain": [
       "array([1.04174216, 1.02383002, 1.01445853, 1.00830671, 1.0027698 ,\n",
       "       1.00113384, 1.00026151, 1.00001314, 1.00002426])"
      ]
     },
     "execution_count": 9,
     "metadata": {},
     "output_type": "execute_result"
    }
   ],
   "source": [
    "pstk_muPerp/muPerp"
   ]
  },
  {
   "cell_type": "code",
   "execution_count": 10,
   "id": "e7da821f-a823-43f2-88b4-117bcc2e621f",
   "metadata": {},
   "outputs": [
    {
     "data": {
      "text/plain": [
       "array([1.72359158, 1.25577777, 1.12208591, 1.03775308, 1.01607198,\n",
       "       1.00383877, 1.00043532, 1.00017226])"
      ]
     },
     "execution_count": 10,
     "metadata": {},
     "output_type": "execute_result"
    }
   ],
   "source": [
    "pstk_muRT[1:]/muRT[1:] ##first entry of muRT is zero, particles don't rotate when touching (really??)"
   ]
  },
  {
   "cell_type": "markdown",
   "id": "a69b48dd-6510-444f-840f-9ea24f5db0e7",
   "metadata": {},
   "source": [
    "______________\n",
    "\n",
    "## Full solver (2s, 3t, 3a, 3s)"
   ]
  },
  {
   "cell_type": "code",
   "execution_count": 11,
   "id": "86a8d132-194e-448d-8e00-40a2a93b7cde",
   "metadata": {},
   "outputs": [],
   "source": [
    "full = Full(b, Np, eta)\n",
    "## define distances that iterate through rb/2 and forces parallel and perpendicular to these distances \n",
    "\n",
    "full_muPara = np.zeros(rb.shape[0])\n",
    "full_muPerp = np.zeros(rb.shape[0])\n",
    "full_muRT   = np.zeros(rb.shape[0])\n",
    "\n",
    "\n",
    "r, F, T, v, o = np.zeros(3*Np), np.zeros(3*Np), np.zeros(3*Np), np.zeros(3*Np), np.zeros(3*Np)\n",
    "\n",
    "S = np.zeros(9*Np)\n",
    "D = np.zeros(3*Np)\n",
    "\n",
    "## parallel\n",
    "k=0\n",
    "for rb_ in rb:\n",
    "    #separation in x-direction\n",
    "    r[0] = -rb_/2.\n",
    "    r[1] =  rb_/2.\n",
    "    for i in range(Np):\n",
    "        #force parallel to separation - along x axis\n",
    "        F[i]      = 1.0\n",
    "        F[i+Np]   = 0.0 \n",
    "        F[i+2*Np] = 0.0\n",
    "        \n",
    "        v[i]      = 0.0\n",
    "        v[i+Np]   = 0.0\n",
    "        v[i+2*Np] = 0.0\n",
    "        \n",
    "        o[i]      = 0.0\n",
    "        o[i+Np]   = 0.0\n",
    "        o[i+2*Np] = 0.0\n",
    "    \n",
    "    full.RBM(v, o, r, F, T, S, D)\n",
    "        \n",
    "    full_muPara[k] = v[0]/mu0 ## force is unity, so raw mobility is just velocity. Normalised by one-particle mobility\n",
    "    k += 1\n",
    "    \n",
    "## perpendicular\n",
    "k=0\n",
    "for rb_ in rb:\n",
    "    #separation in x-direction\n",
    "    r[0] = -rb_/2.\n",
    "    r[1] =  rb_/2.\n",
    "    for i in range(Np):\n",
    "        #force perpendicular to separation - along z axis\n",
    "        F[i]      = 0.0\n",
    "        F[i+Np]   = 0.0 \n",
    "        F[i+2*Np] = 1.0\n",
    "        \n",
    "        v[i]      = 0.0\n",
    "        v[i+Np]   = 0.0\n",
    "        v[i+2*Np] = 0.0\n",
    "        \n",
    "        o[i]      = 0.0\n",
    "        o[i+Np]   = 0.0\n",
    "        o[i+2*Np] = 0.0\n",
    "        \n",
    "    full.RBM(v, o, r, F, T, S, D)\n",
    "        \n",
    "    full_muPerp[k] = v[4]/mu0 ## force is unity, so raw mobility is just velocity. Normalised by one-particle mobility\n",
    "    full_muRT[k] = abs(o[2])/mu0\n",
    "    k += 1"
   ]
  },
  {
   "cell_type": "code",
   "execution_count": 12,
   "id": "0d25f152-db6d-4784-868a-f088c2394d92",
   "metadata": {},
   "outputs": [
    {
     "data": {
      "text/plain": [
       "array([1.00064647, 1.00059064, 1.00057118, 1.00051222, 1.00039239,\n",
       "       1.00027199, 1.00011381, 0.99997923, 0.99996878])"
      ]
     },
     "execution_count": 12,
     "metadata": {},
     "output_type": "execute_result"
    }
   ],
   "source": [
    "full_muPara/muPara"
   ]
  },
  {
   "cell_type": "code",
   "execution_count": 13,
   "id": "315ba398-bb47-49ec-88ae-e5a544645a97",
   "metadata": {},
   "outputs": [
    {
     "data": {
      "text/plain": [
       "array([1.02490188, 1.00754149, 1.0022084 , 1.00093632, 1.00034076,\n",
       "       1.00013691, 1.00005197, 0.99999399, 1.00002075])"
      ]
     },
     "execution_count": 13,
     "metadata": {},
     "output_type": "execute_result"
    }
   ],
   "source": [
    "full_muPerp/muPerp"
   ]
  },
  {
   "cell_type": "code",
   "execution_count": 14,
   "id": "fb2a8548-b449-4774-a6f9-239185912011",
   "metadata": {},
   "outputs": [
    {
     "data": {
      "text/plain": [
       "array([1.39900385, 1.06670176, 1.01162427, 0.99950707, 0.99944754,\n",
       "       0.99989249, 0.99997251, 1.0000671 ])"
      ]
     },
     "execution_count": 14,
     "metadata": {},
     "output_type": "execute_result"
    }
   ],
   "source": [
    "full_muRT[1:]/muRT[1:]"
   ]
  },
  {
   "cell_type": "markdown",
   "id": "1f9aa137-b36f-48e7-b1ca-a218ee7382aa",
   "metadata": {
    "tags": []
   },
   "source": [
    "________________\n",
    "\n",
    "## Plotting"
   ]
  },
  {
   "cell_type": "code",
   "execution_count": 34,
   "id": "abd5fa1b-c70a-4750-8900-8e95e27def64",
   "metadata": {},
   "outputs": [],
   "source": [
    "plt.rcParams.update({'font.size': 15})"
   ]
  },
  {
   "cell_type": "code",
   "execution_count": 36,
   "id": "b2b35432-6216-413d-a1e8-b32d7060fb7a",
   "metadata": {},
   "outputs": [
    {
     "data": {
      "image/png": "[encoded data removed]",
      "text/plain": [
       "<Figure size 576x360 with 1 Axes>"
      ]
     },
     "metadata": {
      "needs_background": "light"
     },
     "output_type": "display_data"
    }
   ],
   "source": [
    "plt.figure(figsize=(8,5))\n",
    "plt.plot(rb, pstk_muPara/muPara, label='pystokes', marker='o', linestyle=\"None\")\n",
    "# plt.plot(rb, sp_muPara/muPara, label='superposition', marker='^', linestyle=\"None\")\n",
    "# plt.plot(rb, _2s_muPara/muPara, label='2s', marker='s', linestyle=\"None\")\n",
    "# plt.plot(rb, _3t_muPara/muPara, label='3t', marker='d', linestyle=\"None\")\n",
    "# plt.plot(rb, _3a_muPara/muPara, label='3a', marker='+', linestyle=\"None\")\n",
    "plt.plot(rb, full_muPara/muPara, label='long-ranged', marker='*', linestyle=\"None\")\n",
    "plt.axhline(y=1., color='grey', linestyle='--', linewidth=1, label='exact')\n",
    "plt.xlabel('$r/b$')\n",
    "plt.ylabel('$\\mu_\\parallel/\\mu_\\parallel(exact)$')\n",
    "plt.legend()\n",
    "plt.show()"
   ]
  },
  {
   "cell_type": "code",
   "execution_count": 37,
   "id": "552999b3-28f8-4977-87a6-ef168a82e149",
   "metadata": {},
   "outputs": [
    {
     "data": {
      "image/png": "[encoded data removed]",
      "text/plain": [
       "<Figure size 576x360 with 1 Axes>"
      ]
     },
     "metadata": {
      "needs_background": "light"
     },
     "output_type": "display_data"
    }
   ],
   "source": [
    "plt.figure(figsize=(8,5))\n",
    "plt.plot(rb, pstk_muPerp/muPerp, label='pystokes', marker='o', linestyle=\"None\")\n",
    "# plt.plot(rb, sp_muPerp/muPerp, label='superposition', marker='^', linestyle=\"None\")\n",
    "# plt.plot(rb, _2s_muPerp/muPerp, label='2s', marker='s', linestyle=\"None\")\n",
    "# plt.plot(rb, _3t_muPerp/muPerp, label='3t', marker='d', linestyle=\"None\")\n",
    "#plt.plot(rb, _3a_muPerp/muPerp, label='3a', marker='+', linestyle=\"None\")\n",
    "plt.plot(rb, full_muPerp/muPerp, label='long-ranged', marker='*', linestyle=\"None\")\n",
    "plt.axhline(y=1., color='grey', linestyle='--', linewidth=1, label='exact')\n",
    "plt.xlabel('$r/b$')\n",
    "plt.ylabel('$\\mu_\\perp/\\mu_\\perp(exact)$')\n",
    "plt.legend()\n",
    "plt.show()"
   ]
  },
  {
   "cell_type": "code",
   "execution_count": 38,
   "id": "fa1ee620-090e-401a-b2a4-defed7c358ff",
   "metadata": {},
   "outputs": [
    {
     "data": {
      "image/png": "[encoded data removed]",
      "text/plain": [
       "<Figure size 576x360 with 1 Axes>"
      ]
     },
     "metadata": {
      "needs_background": "light"
     },
     "output_type": "display_data"
    }
   ],
   "source": [
    "plt.figure(figsize=(8,5))\n",
    "plt.plot(rb[1:], pstk_muRT[1:]/muRT[1:], label='pystokes', marker='o', linestyle=\"None\")\n",
    "# plt.plot(rb, sp_muPerp/muPerp, label='superposition', marker='^', linestyle=\"None\")\n",
    "# plt.plot(rb, _2s_muPerp/muPerp, label='2s', marker='s', linestyle=\"None\")\n",
    "# plt.plot(rb, _3t_muPerp/muPerp, label='3t', marker='d', linestyle=\"None\")\n",
    "#plt.plot(rb, _3a_muPerp/muPerp, label='3a', marker='+', linestyle=\"None\")\n",
    "plt.plot(rb[1:], full_muRT[1:]/muRT[1:], label='long-ranged', marker='*', linestyle=\"None\")\n",
    "plt.axhline(y=1., color='grey', linestyle='--', linewidth=1, label='exact')\n",
    "plt.xlabel('$r/b$')\n",
    "plt.ylabel('$\\mu^{RT}/\\mu^{RT}(exact)$')\n",
    "plt.legend()\n",
    "plt.show()"
   ]
  },
  {
   "cell_type": "code",
   "execution_count": null,
   "id": "8d5d3aba-9989-4459-84aa-3131cb9350ec",
   "metadata": {},
   "outputs": [],
   "source": [
    "## both pystokes and full solve fail to stop the particles at touch"
   ]
  },
  {
   "cell_type": "code",
   "execution_count": null,
   "id": "9bc39fdd-49ce-4d8f-9748-8d9657b2f634",
   "metadata": {},
   "outputs": [],
   "source": []
  },
  {
   "cell_type": "code",
   "execution_count": null,
   "id": "8ccbf62b-ed99-4cbd-a237-b05d427697b5",
   "metadata": {},
   "outputs": [],
   "source": []
  },
  {
   "cell_type": "code",
   "execution_count": null,
   "id": "bbf793db-44f9-4c9c-9dd3-de618bd02ea3",
   "metadata": {},
   "outputs": [],
   "source": []
  },
  {
   "cell_type": "code",
   "execution_count": null,
   "id": "5f15c8fe-f6af-49d6-b7cf-c74b24aabd51",
   "metadata": {},
   "outputs": [],
   "source": []
  },
  {
   "cell_type": "code",
   "execution_count": null,
   "id": "bebf2824-b45c-40e6-bd3d-4795389dcf8b",
   "metadata": {},
   "outputs": [],
   "source": []
  },
  {
   "cell_type": "code",
   "execution_count": null,
   "id": "fb231387-5f5d-4f66-91b7-77d86e7ce2e4",
   "metadata": {},
   "outputs": [],
   "source": []
  },
  {
   "cell_type": "code",
   "execution_count": null,
   "id": "7ab2b176-4d33-48cd-a8e3-7e7194e4b1cb",
   "metadata": {},
   "outputs": [],
   "source": []
  },
  {
   "cell_type": "code",
   "execution_count": null,
   "id": "11df9e1a-e0b7-4e17-a481-47f70cbcb7c6",
   "metadata": {},
   "outputs": [],
   "source": []
  },
  {
   "cell_type": "code",
   "execution_count": null,
   "id": "74742ad8-e2cc-4cfe-9548-89c1089a1289",
   "metadata": {},
   "outputs": [],
   "source": []
  },
  {
   "cell_type": "code",
   "execution_count": null,
   "id": "95aa80fa-b296-4d14-bdd8-e8c9e43453f9",
   "metadata": {},
   "outputs": [],
   "source": []
  },
  {
   "cell_type": "code",
   "execution_count": null,
   "id": "c783daf7-05e9-43ec-9c6e-14f9dc858640",
   "metadata": {},
   "outputs": [],
   "source": []
  },
  {
   "cell_type": "code",
   "execution_count": null,
   "id": "ba0e56e1-a010-433c-b9d1-658be20fba93",
   "metadata": {},
   "outputs": [],
   "source": []
  },
  {
   "cell_type": "code",
   "execution_count": null,
   "id": "9aa5bbd0-c9e9-4766-8804-4ab28b6e5545",
   "metadata": {},
   "outputs": [],
   "source": []
  },
  {
   "cell_type": "code",
   "execution_count": null,
   "id": "867997b1-34eb-4264-a0d5-38d07913a271",
   "metadata": {},
   "outputs": [],
   "source": []
  }
 ],
 "metadata": {
  "kernelspec": {
   "display_name": "Python 3 (ipykernel)",
   "language": "python",
   "name": "python3"
  },
  "language_info": {
   "codemirror_mode": {
    "name": "ipython",
    "version": 3
   },
   "file_extension": ".py",
   "mimetype": "text/x-python",
   "name": "python",
   "nbconvert_exporter": "python",
   "pygments_lexer": "ipython3",
   "version": "3.10.2"
  }
 },
 "nbformat": 4,
 "nbformat_minor": 5
}
