{
 "cells": [
  {
   "cell_type": "markdown",
   "id": "2c3d3f0a-c5be-49f9-8200-0cd4ae284b2d",
   "metadata": {},
   "source": [
    "## Interface \n",
    "\n",
    "In this notebook we automatise the computation of matrix elements for later use by a Krylov iterative solver. We save all symbolic results in a file containing reusable functions:\n",
    "\n",
    "    interfaceME.py\n",
    "    \n",
    "This file only has to be generated once (per Green's function. "
   ]
  },
  {
   "cell_type": "code",
   "execution_count": 1,
   "id": "48d67931-7906-452c-909d-3386c2d1f4f9",
   "metadata": {},
   "outputs": [],
   "source": [
    "from sympy import *\n",
    "import numpy as np\n",
    "import re"
   ]
  },
  {
   "cell_type": "markdown",
   "id": "acc34af1-7320-4ff7-9cb7-e0719ef69d8a",
   "metadata": {},
   "source": [
    "### Definitions and auxiliary functions"
   ]
  },
  {
   "cell_type": "code",
   "execution_count": 2,
   "id": "ef89ab3a-46fb-459c-9226-b833f44f386c",
   "metadata": {},
   "outputs": [],
   "source": [
    "x1, y1, z1, x2, y2, z2 = symbols(\"x1, y1, z1, x2, y2, z2\", real=True)\n",
    "xij, yij, zij, dzij, zi = symbols(\"xij, yij, zij, dzij, zi\", real=True)\n",
    "\n",
    "b, h, eta = symbols(\"b, h, eta\", real=True, positive=True)\n",
    "theta = symbols(\"theta\", real=True) ##eventually rename theta->psi\n",
    "\n",
    "\n",
    "mu, nu1, nu2, gamma2, sigma, eta1, eta2, beta, alpha, tau, gamma1, kappa1, kappa2, gamma = symbols(\n",
    "    \"mu, nu1, nu2, gamma2, sigma, eta1, eta2, beta, alpha, tau, gamma1, kappa1, kappa2, gamma\", integer=True)\n",
    "\n",
    "R1 = Array([x1,y1,z1]) #why not use matrix here?\n",
    "R2 = Array([x2,y2,z2])\n",
    "\n",
    "KroneckerDelta = eye(3)\n",
    "\n",
    "M  = Array([[1,0,0],[0,1,0],[0,0,-1]]) #diag(1,1,-1)\n",
    "\n",
    "Mf = Array([[(1-theta)/(1+theta),0,0], [0, (1-theta)/(1+theta),0], [0,0,-1]])\n",
    "#diag( (1-theta)/(1+theta), (1-theta)/(1+theta), -1) \n",
    "\n",
    "R2M = tensorcontraction(tensorproduct(M,R2), (1,2))\n",
    "\n",
    "rM = R1 - R2M\n",
    "\n",
    "def norm(r):\n",
    "    result=0\n",
    "    for i in range(3):\n",
    "        result += r[i]**2\n",
    "    return sqrt(result)#sqrt(summation(r[alpha]**2,(alpha,0,2)))\n",
    "\n",
    "def eps(alpha, beta, gamma):\n",
    "    return LeviCivita(alpha,beta,gamma)"
   ]
  },
  {
   "cell_type": "code",
   "execution_count": 3,
   "id": "fb1eb69b-7657-4691-8b35-dfc801aa9ffb",
   "metadata": {},
   "outputs": [],
   "source": [
    "def Laplacian(G, r):\n",
    "    return diff(G, r[0], r[0]) + diff(G, r[1], r[1]) + diff(G, r[2], r[2])\n",
    "\n",
    "\n",
    "## for some reason I cannot sum over 'symbols' here whenever rM is a Matrix, not an Array. Who knows why, but this seems to work. \n",
    "\n",
    "def Curl(mu, beta): ##Curl is always with respect to R1\n",
    "    result=0\n",
    "    for i in range(3):\n",
    "        for j in range(3):\n",
    "            result += eps(mu,i,j)*diff(G(j,beta),R1[i]) ## Need dependence of G on rM and R2? \n",
    "    return result\n",
    "\n",
    "def tilde_Curl(alpha, sigma): ##tilde_Curl is always with respect to R2\n",
    "    result=0\n",
    "    for i in range(3):\n",
    "        for j in range(3):\n",
    "            result += eps(sigma,i,j)*diff(G(alpha, j),R2[i])\n",
    "    return result\n",
    "\n",
    "def CurlCurl(mu, sigma):\n",
    "    result=0\n",
    "    for i in range(3):\n",
    "        for j in range(3):\n",
    "            for k in range(3):\n",
    "                for l in range(3):\n",
    "                    result += eps(mu, i, j)*eps(sigma, k, l)*diff(G(j, l), R1[i], R2[k])\n",
    "    return result"
   ]
  },
  {
   "cell_type": "code",
   "execution_count": 4,
   "id": "2375970a-5208-4f43-afdf-8f674215c589",
   "metadata": {},
   "outputs": [],
   "source": [
    "def Fl(G, l):\n",
    "    return G + b**2/(4*l+6)*Laplacian(G, R1)\n",
    "\n",
    "def tilde_Fl(G,l):\n",
    "    return G + b**2/(4*l+6)*Laplacian(G, R2)\n",
    "\n",
    "def FlFl(G, l, lprime):\n",
    "    return G + b**2/(4*l+6)*Laplacian(G, R1) + b**2/(4*lprime+6)*Laplacian(G, R2) + b**4/((4*l+6)*(4*lprime+6))*Laplacian(Laplacian(G, R1), R2)"
   ]
  },
  {
   "cell_type": "code",
   "execution_count": 5,
   "id": "c163d4f2-df43-4a39-84c6-b0e48dca7949",
   "metadata": {},
   "outputs": [],
   "source": [
    "## Green's function\n",
    "##first G* part, which is the same for ii and ij, later G0 part for ii\n",
    "\n",
    "def GO(r, alpha, beta):\n",
    "    return 1/(8*pi*eta)*(KroneckerDelta[alpha,beta]/norm(r) + r[alpha]*r[beta]/norm(r)**3) ##can reuse for particle-particle interactions\n",
    "\n",
    "## only for Gstar, particle - image interactions\n",
    "def Stokeslet(alpha, beta):\n",
    "    result = 0\n",
    "    for i in range(3):\n",
    "        result += Mf[beta, i]*GO(rM, alpha, i)\n",
    "    return result\n",
    "\n",
    "def Dipole(alpha, beta):\n",
    "    result = 0\n",
    "    for i in range(3):\n",
    "        result += -2*R2[2]*theta/(1+theta)*diff(GO(rM, alpha, 2) * M[beta, i], R1[i])\n",
    "    return result\n",
    "\n",
    "def Quadrupole(alpha, beta):\n",
    "    result = 0\n",
    "    for i in range(3):\n",
    "        result += R2[2]**2*theta/(1+theta)*Laplacian(GO(rM, alpha, i) * M[beta, i], R1)\n",
    "    return result\n",
    "\n",
    "def G(alpha, beta): #introduce flag to switch between G0 and Gstar, for whichever we have to compute the matrix elements, also include flag for wall, since theta=infty is hard to handle\n",
    "    return Stokeslet(alpha, beta) + Dipole(alpha, beta) + Quadrupole(alpha, beta)"
   ]
  },
  {
   "cell_type": "code",
   "execution_count": 6,
   "id": "bad1fc8a-52d9-4c68-87a8-b7f7bbf98245",
   "metadata": {},
   "outputs": [],
   "source": [
    "## is there not a smarter way to do this? No dependence on rM and R2.. in python want xij, yij etc not x1- x2\n",
    "## Need: self-interaction and ineraction with image. Interaction with other particle and with its image\n",
    "## constant, R1=R2 (also constant), rij, and also rij. How to compute all of them with same code? \n",
    "\n",
    "## keep dependence on rM and R2: \n",
    "        ## for self-interaction choose rM = 0, 0, 2h and R2= 0,0,h\n",
    "        ## for interaction choose: x1-x2=xij with particle, z1+z2 = ?\n",
    "\n",
    "## keep dependence for now, might give greater flexibility later - no, delete to make shorter and write extra functions for particle-particle interactions\n",
    "#for interactions, replace rM by xij, yij, dz = z1 + z2 or so, but there is also zij for particle-particle interactions, need another Greens function GO(rij, alpha, beta)\n",
    "\n",
    "## could use flag in G, whether to return Go or Gstar"
   ]
  },
  {
   "cell_type": "code",
   "execution_count": 7,
   "id": "9c7eb485-f4ba-424e-ac78-b3212ba43f37",
   "metadata": {},
   "outputs": [],
   "source": [
    "def G1s1s(alpha, beta):\n",
    "    return FlFl( G(alpha, beta), 0, 0)\n",
    "\n",
    "def G2a1s(mu, beta):\n",
    "    return b*tilde_Fl(Curl(mu, beta), 0)\n",
    "\n",
    "def G1s2a(alpha,sigma):\n",
    "    return 0.5*b*Fl(tilde_Curl(alpha, sigma), 0)\n",
    "\n",
    "def G2a2a(mu, sigma):\n",
    "    return 0.5*b**2*CurlCurl(mu, sigma)\n",
    "\n",
    "def G1s2s(alpha, sigma, eta1):\n",
    "    return 0.5*b*FlFl((diff(G(alpha,sigma), R2[eta1]) + diff(G(alpha, eta1), R2[sigma])), 0, 1)\n",
    "\n",
    "def G2a2s(mu, sigma, eta1):\n",
    "    return 0.5*b**2*tilde_Fl( (diff(Curl(mu,sigma), R2[eta1]) + diff(Curl(mu, eta1), R2[sigma])), 1)\n",
    "\n",
    "def G2s1s(mu, nu1, beta):\n",
    "    return 0.5*b*FlFl( diff( G(mu, beta), R1[nu1]) + diff( G(nu1, beta), R1[mu]), 1,0)\n",
    "\n",
    "def G2s2a(mu, nu1, sigma):\n",
    "    return 0.25*b**2*Fl( (diff(tilde_Curl(mu,sigma), R1[nu1]) + diff(tilde_Curl(nu1, sigma), R1[mu])), 1)\n",
    "\n",
    "def G2s2s(mu, nu1, sigma, eta1):\n",
    "    return 0.25*b**2*FlFl( diff( G(mu,sigma), R1[nu1], R2[eta1]) + diff( G(nu1,sigma), R1[mu], R2[eta1])\n",
    "                          +  diff( G(mu,eta1), R1[nu1], R2[sigma]) + diff( G(nu1,eta1), R1[mu], R2[sigma]), 1,1)\n",
    "\n",
    "def G2s3t(mu, nu1, eta2):\n",
    "    return -0.1*b**3*Fl( Laplacian( diff( G(mu, eta2), R1[nu1]) + diff( G(nu1, eta2), R1[mu]), R2), 1)\n",
    "\n",
    "def G2s3a(mu, nu1, sigma, eta2):\n",
    "    return 1/3*b**3*Fl( diff( diff( tilde_Curl(mu, sigma), R2[eta2]) - 1/3*summation( eps(sigma, eta2, beta)*Laplacian( G(mu, beta), R2), (beta,0,2)), R1[nu1]) \n",
    "                       + diff( diff( tilde_Curl(nu1, sigma), R2[eta2]) - 1/3*summation( eps(sigma, eta2, beta)*Laplacian( G(nu1, beta), R2), (beta,0,2)), R1[mu]), 1)\n",
    "\n",
    "def G3a2s(mu, nu2, sigma, nu1):\n",
    "    return 0.25*b**3*tilde_Fl( diff( diff( Curl(tau, beta), R2[kappa1]) + diff( Curl(tau, kappa1), R2[beta]), R1[gamma2])\n",
    "                              + diff( diff( Curl(gamma2, beta), R2[kappa1]) + diff( Curl(gamma2, kappa1), R2[beta]), R1[tau]), 1)\n",
    "\n",
    "def G3a3a(mu, nu2, sigma, eta2):\n",
    "    return 1/3*b**4*( diff( diff( CurlCurl(mu, sigma), R2[eta2]) - 1/3*summation( eps(sigma, eta2, beta)*Laplacian( Curl(mu, beta), R2), (beta,0,2)), R1[nu2]) \n",
    "                       + diff( diff( CurlCurl(nu2, sigma), R2[eta2]) - 1/3*summation( eps(sigma, eta2, beta)*Laplacian( Curl(nu2, beta), R2), (beta,0,2)), R1[mu]) )\n",
    "\n",
    "def G1s3t(alpha, eta2):\n",
    "    return -0.2*b**2*Fl( Laplacian( G(alpha, eta2), R2), 0)\n",
    "\n",
    "def G1s3a(alpha, sigma, eta2):\n",
    "    return 2/3*b**2*Fl( diff( tilde_Curl(alpha, sigma), R2[eta2]) - 1/3*summation(eps(sigma, eta2, beta)*Laplacian( G(alpha,beta), R2), (beta,0,2)), 0)\n",
    "\n",
    "def G2a3a(mu, sigma, eta2):\n",
    "    return 2/3*b**3*( diff( CurlCurl(mu, sigma), R2[eta2]) - 1/3*summation(eps(sigma, eta2, beta)*Laplacian( Curl(mu,beta), R2), (beta,0,2)) )\n",
    "\n",
    "def G3a1s(mu, nu2, beta):\n",
    "    return 0.5*b**2*tilde_Fl( diff( Curl(mu,beta), R1[nu2]) + diff( Curl(nu2,beta), R1[mu]), 0)\n",
    "\n",
    "def G3a2a(mu, nu2, sigma):\n",
    "    return 0.25*b**3*( diff( CurlCurl(mu,sigma), R1[nu2]) + diff( CurlCurl(nu2,sigma), R1[mu]) )\n",
    "\n",
    "\n",
    "def g13sSym(alpha, sigma, eta1, eta2):\n",
    "    return 1/3*( diff( G(alpha, sigma), R2[eta1], R2[eta2]) + diff( G(alpha, eta1), R2[eta2], R2[sigma]) + diff( G(alpha, eta2), R2[sigma], R2[eta1]) ) -  1/15*(\n",
    "        KroneckerDelta[sigma, eta1]*Laplacian( G(alpha, eta2), R2) + KroneckerDelta[eta1, eta2]*Laplacian( G(alpha, sigma), R2)\n",
    "        +KroneckerDelta[eta2, sigma]*Laplacian( G(alpha, eta1), R2) )\n",
    "\n",
    "def G1s3s(alpha, sigma, eta1, eta2):\n",
    "    return b**2*FlFl( g13sSym(alpha, sigma, eta1, eta2), 0, 2)\n",
    "\n",
    "def G2a3s(mu, sigma, eta1, eta2):\n",
    "    return b**3*tilde_Fl( 1/3*( diff( Curl(mu, sigma), R2[eta1], R2[eta2]) + diff( Curl(mu, eta1), R2[eta2], R2[sigma]) + diff( Curl(mu, eta2), R2[sigma], R2[eta1]) ) -  1/15*(\n",
    "        KroneckerDelta[sigma, eta1]*Laplacian( Curl(mu, eta2), R2) + KroneckerDelta[eta1, eta2]*Laplacian( Curl(mu, sigma), R2)\n",
    "        +KroneckerDelta[eta2, sigma]*Laplacian( Curl(mu, eta1), R2) ), 2)\n",
    "\n",
    "\n",
    "def g3s1Sym(alpha, gamma1, gamma2, beta): ##screwed up alpha --> mu etc indexing, so caution with 3s modes below! \n",
    "    return 1/3*( diff( G(alpha, beta), R1[gamma1], R1[gamma2]) + diff( G(gamma1, beta), R1[gamma2], R1[alpha]) + diff( G(gamma2, beta), R1[alpha], R1[gamma1]) ) -  1/15*(\n",
    "        KroneckerDelta[alpha, gamma1]*Laplacian( G(gamma2, beta), R1) + KroneckerDelta[gamma1, gamma2]*Laplacian( G(alpha, beta), R1)\n",
    "        +KroneckerDelta[gamma2, alpha]*Laplacian( G(gamma1, beta), R1) )\n",
    "\n",
    "def G3s1s(mu, nu1, nu2, beta):\n",
    "    return b**2*FlFl( g3s1Sym(mu, nu1, nu2, beta), 2,0)\n",
    "\n",
    "def G3s2a(alpha, gamma1, gamma2, sigma):\n",
    "    return 0.5*b**3*Fl( 1/3*( diff( tilde_Curl(alpha, sigma), R1[gamma1], R1[gamma2]) + diff( tilde_Curl(gamma1, sigma), R1[gamma2], R1[alpha]) \n",
    "                             + diff( tilde_Curl(gamma2, sigma), R1[alpha], R1[gamma1]) ) -  1/15*(\n",
    "        KroneckerDelta[alpha, gamma1]*Laplacian( tilde_Curl(gamma2, sigma), R1) + KroneckerDelta[gamma1, gamma2]*Laplacian( tilde_Curl(alpha, sigma), R1)\n",
    "        +KroneckerDelta[gamma2, alpha]*Laplacian( tilde_Curl(gamma1, sigma), R1) ), 2)\n",
    "\n",
    "def g2s1Sym(mu, nu1, sigma):\n",
    "    return 0.5*(diff( G(mu, sigma), R1[nu1]) + diff( G(nu1, sigma), R1[mu]))\n",
    "\n",
    "def G2s3s(mu, nu1, sigma, eta1, eta2):\n",
    "    return b**3*FlFl( 1/3*( diff( g2s1Sym(mu, nu1, sigma), R2[eta1], R2[eta2]) + diff( g2s1Sym(mu, nu1, eta1), R2[eta2], R2[sigma]) \n",
    "                           + diff( g2s1Sym(mu, nu1, eta2), R2[sigma], R2[eta1]) ) -  1/15*(\n",
    "        KroneckerDelta[sigma, eta1]*Laplacian( g2s1Sym(mu, nu1, eta2), R2) + KroneckerDelta[eta1, eta2]*Laplacian( g2s1Sym(mu, nu1, sigma), R2)\n",
    "        +KroneckerDelta[eta2, sigma]*Laplacian( g2s1Sym(mu, nu1, eta1), R2) ), 1,2)\n",
    "\n",
    "def g3a1sSym(mu, nu2, sigma):\n",
    "    return 0.5*( diff( Curl(mu,sigma), R1[nu2]) + diff( Curl(nu2,sigma), R1[mu]) )\n",
    "\n",
    "def G3a3s(mu, nu2, sigma, eta1, eta2):\n",
    "    return b**4*tilde_Fl( 1/3*( diff( g3a1Sym(mu, nu2, sigma), R2[eta1], R2[eta2]) + diff( g3a1Sym(mu, nu2, eta1), R2[eta2], R2[sigma]) \n",
    "                           + diff( g3a1Sym(mu, nu2, eta2), R2[sigma], R2[eta1]) ) -  1/15*(\n",
    "        KroneckerDelta[sigma, eta1]*Laplacian( g3a1Sym(mu, nu2, eta2), R2) + KroneckerDelta[eta1, eta2]*Laplacian( g3a1Sym(mu, nu2, sigma), R2)\n",
    "        +KroneckerDelta[eta2, sigma]*Laplacian( g3a1Sym(mu, nu2, eta1), R2) ), 2)\n",
    "\n",
    "\n",
    "def g12sSym(alpha, sigma, eta1):\n",
    "    return 0.5*( diff(G(alpha,sigma), R2[eta1]) + diff(G(alpha, eta1), R2[sigma]) )\n",
    "\n",
    "def G3s2s(alpha, gamma1, gamma2, sigma, eta1):\n",
    "    return b**3*FlFl( 1/3*( diff( g12sSym(alpha, sigma, eta1), R1[gamma1], R1[gamma2]) + diff( g12sSym(gamma1, sigma, eta1), R1[gamma2], R1[alpha]) \n",
    "                           + diff( g12sSym(gamma2, sigma, eta1), R1[alpha], R1[gamma1]) ) -  1/15*(\n",
    "        KroneckerDelta[alpha, gamma1]*Laplacian( g12sSym(gamma2, sigma, eta1), R1) + KroneckerDelta[gamma1, gamma2]*Laplacian( g12sSym(alpha, sigma, eta1), R1)\n",
    "        +KroneckerDelta[gamma2, alpha]*Laplacian( g12sSym(gamma1, sigma, eta1), R1) ), 2,1)\n",
    "\n",
    "\n",
    "def g13aSym( alpha, sigma, eta2): \n",
    "    return diff( tilde_Curl(alpha, sigma), R2[eta2]) - 1/3*summation(eps(sigma, eta2, beta)*Laplacian( G(alpha,beta), R2), (beta,0,2))\n",
    "\n",
    "def G3s3a(alpha, gamma1, gamma2, sigma, eta2):\n",
    "    return 2/3*b**4*Fl( 1/3*( diff( g13aSym(alpha, sigma, eta2), R1[gamma1], R1[gamma2]) + diff( g13aSym(gamma1, sigma, eta2), R1[gamma2], R1[alpha]) \n",
    "                           + diff( g13aSym(gamma2, sigma, eta2), R1[alpha], R1[gamma1]) ) -  1/15*(\n",
    "        KroneckerDelta[alpha, gamma1]*Laplacian( g13aSym(gamma2, sigma, eta2), R1) + KroneckerDelta[gamma1, gamma2]*Laplacian( g13aSym(alpha, sigma, eta2), R1)\n",
    "        +KroneckerDelta[gamma2, alpha]*Laplacian( g13aSym(gamma1, sigma, eta2), R1) ), 2)\n",
    "\n",
    "def g13tSym(alpha, eta2):\n",
    "    return Laplacian( G(alpha, eta2), R2)\n",
    "\n",
    "def G3s3t(alpha, gamma1, gamma2, eta2):\n",
    "    return -0.2*b**4*Fl( 1/3*( diff( g13tSym(alpha, eta2), R1[gamma1], R1[gamma2]) + diff( g13tSym(gamma1, eta2), R1[gamma2], R1[alpha]) \n",
    "                              + diff( g13tSym(gamma2, eta2), R1[alpha], R1[gamma1]) ) -  1/15*(\n",
    "        KroneckerDelta[alpha, gamma1]*Laplacian( g13tSym(gamma2, eta2), R1) + KroneckerDelta[gamma1, gamma2]*Laplacian( g13tSym(alpha, eta2), R1)\n",
    "        +KroneckerDelta[gamma2, alpha]*Laplacian( g13tSym(gamma1, eta2), R1) ), 2)\n",
    "\n",
    "def G3s3s(alpha, gamma1, gamma2, sigma, eta1, eta2):\n",
    "    return b**4*FlFl( 1/3*( diff( g13sSym(alpha, sigma, eta1, eta2), R1[gamma1], R1[gamma2]) \n",
    "                           + diff( g13sSym(gamma1, sigma, eta1, eta2), R1[gamma2], R1[alpha]) \n",
    "                           + diff( g13sSym(gamma2, sigma, eta1, eta2), R1[alpha], R1[gamma1]) ) -  1/15*(\n",
    "        KroneckerDelta[alpha, gamma1]*Laplacian( g13sSym(gamma2, sigma, eta1, eta2), R1) \n",
    "        + KroneckerDelta[gamma1, gamma2]*Laplacian( g13sSym(alpha, sigma, eta1, eta2), R1)\n",
    "        +KroneckerDelta[gamma2, alpha]*Laplacian( g13sSym(gamma1, sigma, eta1, eta2), R1) ), 2,2)\n",
    "\n",
    "def G2a3t(mu, eta2):\n",
    "    return -0.2*b**3*Laplacian( Curl(mu, eta2), R2)\n",
    "\n",
    "def G3a3t(mu, nu2, eta2):\n",
    "    return -0.2*b**4*Laplacian( g3a1sSym(mu, nu2, eta2), R2)\n",
    "\n",
    "\n",
    "def k12sSym(alpha, sigma, eta1):\n",
    "    return 0.5*( diff( G(alpha, eta1), R2[sigma]) + diff( G(alpha, sigma), R2[eta1]) )\n",
    "\n",
    "def K1s2s(alpha, sigma, eta1):\n",
    "    return 8*pi*eta*b**2/3*FlFl( k12sSym(alpha, sigma, eta1), 0,1)\n",
    "\n",
    "def K1s3t(alpha, eta2):\n",
    "    return -6*pi*eta*b**3/25*Fl( Laplacian( G(alpha, eta2), R2), 0)\n",
    "\n",
    "def K2a2s(mu, sigma, eta1):\n",
    "    return 4*pi*eta*b**3/3*tilde_Fl( diff( Curl(mu, eta1), R2[sigma]) + diff( Curl(mu, sigma), R2[eta1]), 1)\n",
    "\n",
    "\n",
    "def k2s1Sym(mu, nu1, sigma):\n",
    "    return 0.5*( diff( G(mu, sigma), R1[nu1]) + diff( G(nu1, sigma), R1[mu]))\n",
    "\n",
    "def K2s2s(mu, nu1, sigma, eta1):\n",
    "    return 4*pi*eta*b**3/3*FlFl( diff( k2s1Sym(mu, nu1, eta1), R2[sigma]) + diff( k2s1Sym(mu, nu1, sigma), R2[eta1]), 1,1)\n",
    "\n",
    "def K2s3t(mu, nu1, eta2):\n",
    "    return -6*pi*eta*b**4/25*Fl( 0.5*( diff( Laplacian(G(mu, eta2), R2), R1[nu1]) + diff( Laplacian(G(nu1, eta2), R2), R1[mu])), 1)\n",
    "\n",
    "def K3a2s(mu, nu2, sigma, eta1):\n",
    "    return 2*pi*eta*b**4/3*tilde_Fl( diff( diff( Curl(mu, eta1), R2[sigma]) + diff( Curl(mu, sigma), R2[eta1]), R1[nu2])\n",
    "                                    + diff( diff( Curl(nu2, eta1), R2[sigma]) + diff( Curl(nu2, sigma), R2[eta1]), R1[mu]), 1)\n",
    "\n",
    "def K3s2s(alpha, gamma1, gamma2, sigma, eta1): ## is this correct?\n",
    "    return 8*pi*eta*b**4/3*FlFl( 1/3*( diff( k12sSym(alpha, sigma, eta1), R1[gamma1], R1[gamma2]) + diff( k12sSym(gamma1, sigma, eta1), R1[gamma2], R1[alpha]) \n",
    "                           + diff( k12sSym(gamma2, sigma, eta1), R1[alpha], R1[gamma1]) ) -  1/15*(\n",
    "        KroneckerDelta[alpha, gamma1]*Laplacian( k12sSym(gamma2, sigma, eta1), R1) + KroneckerDelta[gamma1, gamma2]*Laplacian( k12sSym(alpha, sigma, eta1), R1)\n",
    "        +KroneckerDelta[gamma2, alpha]*Laplacian( k12sSym(gamma1, sigma, eta1), R1) ), 2,1) \n",
    "\n",
    "def K3s3t(alpha, gamma1, gamma2, eta2): ##up to factor same as G3s3t\n",
    "    return -6*pi*eta*b**5/25*Fl( 1/3*( diff( g13tSym(alpha, eta2), R1[gamma1], R1[gamma2]) + diff( g13tSym(gamma1, eta2), R1[gamma2], R1[alpha]) \n",
    "                              + diff( g13tSym(gamma2, eta2), R1[alpha], R1[gamma1]) ) -  1/15*(\n",
    "        KroneckerDelta[alpha, gamma1]*Laplacian( g13tSym(gamma2, eta2), R1) + KroneckerDelta[gamma1, gamma2]*Laplacian( g13tSym(alpha, eta2), R1)\n",
    "        +KroneckerDelta[gamma2, alpha]*Laplacian( g13tSym(gamma1, eta2), R1) ), 2)\n",
    "\n",
    "def K2a3t(mu, eta2):\n",
    "    return -6*pi*eta*b**4/25* Laplacian( Curl(mu, eta2), R2)\n",
    "\n",
    "def K3a3t(mu, nu2, eta2):\n",
    "    return -6*pi*eta*b**5/25*Laplacian( g3a1sSym(mu, nu2, eta2), R2)"
   ]
  },
  {
   "cell_type": "code",
   "execution_count": 8,
   "id": "b79483ed-5dfa-4de9-8999-5356439bb1b5",
   "metadata": {},
   "outputs": [],
   "source": [
    "## Really slow, can return to use 'summation' now that rM is an Array? Would that be quicker? instead of silly for loop\n",
    "## Nope, for loop is at least as fast "
   ]
  },
  {
   "cell_type": "code",
   "execution_count": 9,
   "id": "5d3859bd-611b-4d76-8a11-3778039c48fb",
   "metadata": {},
   "outputs": [],
   "source": [
    "## Need Curl argument G? Def need it in Laplacian and Fl, so it is flexible. But Curl never taken of different function. Curl always only taken of G directly. "
   ]
  },
  {
   "cell_type": "code",
   "execution_count": 10,
   "id": "4abc9c3e-8407-4286-a436-74d1d8ed985d",
   "metadata": {},
   "outputs": [],
   "source": [
    "## K^(l sigma, l sigma) is same as G with different pre factors, so use this symmetry"
   ]
  },
  {
   "cell_type": "code",
   "execution_count": 16,
   "id": "665bdd4d-bb81-4446-aa59-610b3fe2f902",
   "metadata": {},
   "outputs": [],
   "source": [
    "## try to parallelise G1s1s matrix computation - possible over many computers from notebook? \n",
    "## then try to implement FTS Stokesian dynamics first to test code? "
   ]
  },
  {
   "cell_type": "markdown",
   "id": "0972504c-5c07-4b37-8a65-037fd758800d",
   "metadata": {},
   "source": [
    "### Matrix assembly"
   ]
  },
  {
   "cell_type": "code",
   "execution_count": 17,
   "id": "18ae9bae-42ea-4eb3-b551-7d6011ea8ecd",
   "metadata": {},
   "outputs": [
    {
     "name": "stdout",
     "output_type": "stream",
     "text": [
      "CPU times: user 2min 13s, sys: 7.96 ms, total: 2min 13s\n",
      "Wall time: 2min 13s\n"
     ]
    }
   ],
   "source": [
    "%%time\n",
    "matG1s1s = Matrix.zeros(3,3)\n",
    "for i in range(3):\n",
    "    for j in range(3):\n",
    "        matG1s1s[i,j] = G1s1s(i, j) ##do not simplify, costs lots of time"
   ]
  },
  {
   "cell_type": "code",
   "execution_count": null,
   "id": "6d46526c-ff61-4fb0-aa93-c682a723763b",
   "metadata": {},
   "outputs": [],
   "source": []
  },
  {
   "cell_type": "code",
   "execution_count": null,
   "id": "b75c8dfa-d854-4031-8a80-e2c7dadcc412",
   "metadata": {},
   "outputs": [],
   "source": []
  },
  {
   "cell_type": "code",
   "execution_count": null,
   "id": "28d919c9-5fb9-479d-b3fd-e261f6c0f4fb",
   "metadata": {},
   "outputs": [],
   "source": []
  },
  {
   "cell_type": "code",
   "execution_count": null,
   "id": "ffd6f256-a642-4ff7-b563-a2e31a324ff7",
   "metadata": {},
   "outputs": [],
   "source": []
  },
  {
   "cell_type": "code",
   "execution_count": null,
   "id": "f2fc7d94-e1c5-4acd-9e8f-8e15e486c9a6",
   "metadata": {},
   "outputs": [],
   "source": []
  },
  {
   "cell_type": "code",
   "execution_count": null,
   "id": "75799bb0-2cb2-4513-9817-2017a524b34b",
   "metadata": {},
   "outputs": [],
   "source": []
  },
  {
   "cell_type": "code",
   "execution_count": null,
   "id": "d80f4d85-9c67-4da4-b62f-1ca3bed1a120",
   "metadata": {},
   "outputs": [],
   "source": []
  },
  {
   "cell_type": "code",
   "execution_count": null,
   "id": "5bdd1452-4a6f-401a-94ac-1fba002e83d0",
   "metadata": {},
   "outputs": [],
   "source": []
  },
  {
   "cell_type": "code",
   "execution_count": null,
   "id": "fbd63c81-5448-4171-adf2-1d500222095c",
   "metadata": {},
   "outputs": [],
   "source": []
  },
  {
   "cell_type": "code",
   "execution_count": null,
   "id": "93c719c6-4734-4d37-b9d4-9c77c4b50fca",
   "metadata": {},
   "outputs": [],
   "source": []
  },
  {
   "cell_type": "code",
   "execution_count": null,
   "id": "c6a927dc-e6da-48f8-b6da-5cfccc5188f4",
   "metadata": {},
   "outputs": [],
   "source": []
  },
  {
   "cell_type": "code",
   "execution_count": null,
   "id": "2b3ada31-5f54-4042-a88d-6cb2b6915e6b",
   "metadata": {},
   "outputs": [],
   "source": []
  },
  {
   "cell_type": "code",
   "execution_count": null,
   "id": "428437b1-7f6b-4e11-8fb2-f4c87afb5164",
   "metadata": {},
   "outputs": [],
   "source": []
  },
  {
   "cell_type": "code",
   "execution_count": null,
   "id": "b86e141e-cdb0-4b26-8f35-81ee4a8aefeb",
   "metadata": {},
   "outputs": [],
   "source": []
  },
  {
   "cell_type": "code",
   "execution_count": null,
   "id": "4a7e0a9d-a89d-493f-a375-8d6e5bd39328",
   "metadata": {},
   "outputs": [],
   "source": []
  },
  {
   "cell_type": "code",
   "execution_count": null,
   "id": "3081e74d-124f-456e-ad79-a891a62a2f2c",
   "metadata": {},
   "outputs": [],
   "source": []
  },
  {
   "cell_type": "code",
   "execution_count": null,
   "id": "6fa4c40f-0116-4640-86ed-32ba1f3ae594",
   "metadata": {},
   "outputs": [],
   "source": []
  },
  {
   "cell_type": "code",
   "execution_count": null,
   "id": "c6b88917-fe85-4bf1-b9c9-e79c870be94f",
   "metadata": {},
   "outputs": [],
   "source": [
    "## for larger matrices, this might a) need parallel computing and b) dump memory once done. \n",
    "## Check whether this is actually working and just taking long or whether it runs into some random problem.\n",
    "## G3s3s: after ~1h it was computing the fourth term in FlFl propto LaplacianLaplacian, so might take up to 2h per evaluation, was at 3% Memory usage \n",
    "## G2s2s: 4 min for 1 element"
   ]
  },
  {
   "cell_type": "code",
   "execution_count": 14,
   "id": "a35d6fac-e2da-4436-8c35-cbc8653a7afd",
   "metadata": {},
   "outputs": [
    {
     "name": "stdout",
     "output_type": "stream",
     "text": [
      "CPU times: user 4min 11s, sys: 51.8 ms, total: 4min 11s\n",
      "Wall time: 4min 11s\n"
     ]
    }
   ],
   "source": [
    "%%time\n",
    "bla = G2s2s(0,0, 0,0)"
   ]
  },
  {
   "cell_type": "code",
   "execution_count": 15,
   "id": "812e09b6-dd65-4e47-8d67-de4e2818cc51",
   "metadata": {},
   "outputs": [
    {
     "data": {
      "text/latex": [
       "$\\displaystyle \\frac{b^{2} \\left(- 0.02109375 b^{4} \\theta + b^{2} h^{2} \\cdot \\left(0.05625 \\theta + 0.0140625\\right) - h^{4} \\cdot \\left(0.0546875 \\theta + 0.015625\\right)\\right)}{\\pi \\eta h^{7} \\left(\\theta + 1\\right)}$"
      ],
      "text/plain": [
       "b**2*(-0.02109375*b**4*theta + b**2*h**2*(0.05625*theta + 0.0140625) - h**4*(0.0546875*theta + 0.015625))/(pi*eta*h**7*(theta + 1))"
      ]
     },
     "execution_count": 15,
     "metadata": {},
     "output_type": "execute_result"
    }
   ],
   "source": [
    "simplify(bla.subs({x1:0, y1:0, z1:h, x2:0, y2:0, z2:h }))"
   ]
  },
  {
   "cell_type": "code",
   "execution_count": 13,
   "id": "cff08ac9-8d39-452e-bb9d-1b476b77026d",
   "metadata": {},
   "outputs": [
    {
     "data": {
      "text/latex": [
       "$\\displaystyle \\frac{b \\left(- 4 b^{2} dzij^{3} \\theta - 4 b^{2} dzij \\theta xij^{2} + 16 b^{2} dzij \\theta yij^{2} - 2 dzij^{5} \\theta + 2 dzij^{5} + 10 dzij^{4} \\theta z_{2} - 4 dzij^{3} \\theta xij^{2} + 3 dzij^{3} \\theta y_{1} yij - 3 dzij^{3} \\theta y_{2} yij - 4 dzij^{3} \\theta yij^{2} - 6 dzij^{3} \\theta z_{1} z_{2} - 12 dzij^{3} \\theta z_{2}^{2} + 4 dzij^{3} xij^{2} - 3 dzij^{3} y_{1} yij + 3 dzij^{3} y_{2} yij + 4 dzij^{3} yij^{2} + 14 dzij^{2} \\theta xij^{2} z_{2} - 30 dzij^{2} \\theta y_{1}^{2} z_{2} + 60 dzij^{2} \\theta y_{1} y_{2} z_{2} - 12 dzij^{2} \\theta y_{1} yij z_{2} - 30 dzij^{2} \\theta y_{2}^{2} z_{2} + 12 dzij^{2} \\theta y_{2} yij z_{2} - 3 dzij^{2} \\theta yij^{2} z_{1} + 11 dzij^{2} \\theta yij^{2} z_{2} + 6 dzij^{2} \\theta z_{1} z_{2}^{2} + 6 dzij^{2} \\theta z_{2}^{3} + 3 dzij^{2} yij^{2} z_{1} + 3 dzij^{2} yij^{2} z_{2} - 2 dzij \\theta xij^{4} + 3 dzij \\theta xij^{2} y_{1} yij - 3 dzij \\theta xij^{2} y_{2} yij - 4 dzij \\theta xij^{2} yij^{2} - 6 dzij \\theta xij^{2} z_{1} z_{2} - 12 dzij \\theta xij^{2} z_{2}^{2} + 3 dzij \\theta y_{1} yij^{3} + 30 dzij \\theta y_{1} yij z_{1} z_{2} + 60 dzij \\theta y_{1} yij z_{2}^{2} - 3 dzij \\theta y_{2} yij^{3} - 30 dzij \\theta y_{2} yij z_{1} z_{2} - 60 dzij \\theta y_{2} yij z_{2}^{2} - 2 dzij \\theta yij^{4} - 6 dzij \\theta yij^{2} z_{1} z_{2} - 12 dzij \\theta yij^{2} z_{2}^{2} + 2 dzij xij^{4} - 3 dzij xij^{2} y_{1} yij + 3 dzij xij^{2} y_{2} yij + 4 dzij xij^{2} yij^{2} - 3 dzij y_{1} yij^{3} + 3 dzij y_{2} yij^{3} + 2 dzij yij^{4} + 4 \\theta xij^{4} z_{2} - 12 \\theta xij^{2} y_{1} yij z_{2} + 12 \\theta xij^{2} y_{2} yij z_{2} - 3 \\theta xij^{2} yij^{2} z_{1} + 5 \\theta xij^{2} yij^{2} z_{2} + 6 \\theta xij^{2} z_{1} z_{2}^{2} + 6 \\theta xij^{2} z_{2}^{3} - 12 \\theta y_{1} yij^{3} z_{2} + 12 \\theta y_{2} yij^{3} z_{2} - 3 \\theta yij^{4} z_{1} + \\theta yij^{4} z_{2} - 24 \\theta yij^{2} z_{1} z_{2}^{2} - 24 \\theta yij^{2} z_{2}^{3} + 3 xij^{2} yij^{2} z_{1} + 3 xij^{2} yij^{2} z_{2} + 3 yij^{4} z_{1} + 3 yij^{4} z_{2}\\right)}{8 \\pi \\eta \\sqrt{dzij^{2} + xij^{2} + yij^{2}} \\left(dzij^{6} \\theta + dzij^{6} + 3 dzij^{4} \\theta xij^{2} + 3 dzij^{4} \\theta yij^{2} + 3 dzij^{4} xij^{2} + 3 dzij^{4} yij^{2} + 3 dzij^{2} \\theta xij^{4} + 6 dzij^{2} \\theta xij^{2} yij^{2} + 3 dzij^{2} \\theta yij^{4} + 3 dzij^{2} xij^{4} + 6 dzij^{2} xij^{2} yij^{2} + 3 dzij^{2} yij^{4} + \\theta xij^{6} + 3 \\theta xij^{4} yij^{2} + 3 \\theta xij^{2} yij^{4} + \\theta yij^{6} + xij^{6} + 3 xij^{4} yij^{2} + 3 xij^{2} yij^{4} + yij^{6}\\right)}$"
      ],
      "text/plain": [
       "b*(-4*b**2*dzij**3*theta - 4*b**2*dzij*theta*xij**2 + 16*b**2*dzij*theta*yij**2 - 2*dzij**5*theta + 2*dzij**5 + 10*dzij**4*theta*z2 - 4*dzij**3*theta*xij**2 + 3*dzij**3*theta*y1*yij - 3*dzij**3*theta*y2*yij - 4*dzij**3*theta*yij**2 - 6*dzij**3*theta*z1*z2 - 12*dzij**3*theta*z2**2 + 4*dzij**3*xij**2 - 3*dzij**3*y1*yij + 3*dzij**3*y2*yij + 4*dzij**3*yij**2 + 14*dzij**2*theta*xij**2*z2 - 30*dzij**2*theta*y1**2*z2 + 60*dzij**2*theta*y1*y2*z2 - 12*dzij**2*theta*y1*yij*z2 - 30*dzij**2*theta*y2**2*z2 + 12*dzij**2*theta*y2*yij*z2 - 3*dzij**2*theta*yij**2*z1 + 11*dzij**2*theta*yij**2*z2 + 6*dzij**2*theta*z1*z2**2 + 6*dzij**2*theta*z2**3 + 3*dzij**2*yij**2*z1 + 3*dzij**2*yij**2*z2 - 2*dzij*theta*xij**4 + 3*dzij*theta*xij**2*y1*yij - 3*dzij*theta*xij**2*y2*yij - 4*dzij*theta*xij**2*yij**2 - 6*dzij*theta*xij**2*z1*z2 - 12*dzij*theta*xij**2*z2**2 + 3*dzij*theta*y1*yij**3 + 30*dzij*theta*y1*yij*z1*z2 + 60*dzij*theta*y1*yij*z2**2 - 3*dzij*theta*y2*yij**3 - 30*dzij*theta*y2*yij*z1*z2 - 60*dzij*theta*y2*yij*z2**2 - 2*dzij*theta*yij**4 - 6*dzij*theta*yij**2*z1*z2 - 12*dzij*theta*yij**2*z2**2 + 2*dzij*xij**4 - 3*dzij*xij**2*y1*yij + 3*dzij*xij**2*y2*yij + 4*dzij*xij**2*yij**2 - 3*dzij*y1*yij**3 + 3*dzij*y2*yij**3 + 2*dzij*yij**4 + 4*theta*xij**4*z2 - 12*theta*xij**2*y1*yij*z2 + 12*theta*xij**2*y2*yij*z2 - 3*theta*xij**2*yij**2*z1 + 5*theta*xij**2*yij**2*z2 + 6*theta*xij**2*z1*z2**2 + 6*theta*xij**2*z2**3 - 12*theta*y1*yij**3*z2 + 12*theta*y2*yij**3*z2 - 3*theta*yij**4*z1 + theta*yij**4*z2 - 24*theta*yij**2*z1*z2**2 - 24*theta*yij**2*z2**3 + 3*xij**2*yij**2*z1 + 3*xij**2*yij**2*z2 + 3*yij**4*z1 + 3*yij**4*z2)/(8*pi*eta*sqrt(dzij**2 + xij**2 + yij**2)*(dzij**6*theta + dzij**6 + 3*dzij**4*theta*xij**2 + 3*dzij**4*theta*yij**2 + 3*dzij**4*xij**2 + 3*dzij**4*yij**2 + 3*dzij**2*theta*xij**4 + 6*dzij**2*theta*xij**2*yij**2 + 3*dzij**2*theta*yij**4 + 3*dzij**2*xij**4 + 6*dzij**2*xij**2*yij**2 + 3*dzij**2*yij**4 + theta*xij**6 + 3*theta*xij**4*yij**2 + 3*theta*xij**2*yij**4 + theta*yij**6 + xij**6 + 3*xij**4*yij**2 + 3*xij**2*yij**4 + yij**6))"
      ]
     },
     "execution_count": 13,
     "metadata": {},
     "output_type": "execute_result"
    }
   ],
   "source": [
    "simplify(bla.subs({x1-x2:xij, y1-y2:yij, z1+z2:dzij})) ##replacing composite variables does not work well"
   ]
  },
  {
   "cell_type": "code",
   "execution_count": null,
   "id": "f41951c0-79cf-43e3-8778-d9b463e3bed8",
   "metadata": {},
   "outputs": [],
   "source": []
  }
 ],
 "metadata": {
  "kernelspec": {
   "display_name": "Python 3 (ipykernel)",
   "language": "python",
   "name": "python3"
  },
  "language_info": {
   "codemirror_mode": {
    "name": "ipython",
    "version": 3
   },
   "file_extension": ".py",
   "mimetype": "text/x-python",
   "name": "python",
   "nbconvert_exporter": "python",
   "pygments_lexer": "ipython3",
   "version": "3.10.2"
  }
 },
 "nbformat": 4,
 "nbformat_minor": 5
}
