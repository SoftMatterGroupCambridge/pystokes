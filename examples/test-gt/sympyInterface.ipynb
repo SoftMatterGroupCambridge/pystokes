{
 "cells": [
  {
   "cell_type": "markdown",
   "id": "2c3d3f0a-c5be-49f9-8200-0cd4ae284b2d",
   "metadata": {},
   "source": [
    "## Interface \n",
    "\n",
    "In this notebook we automatise the computation of matrix elements for later use by a Krylov iterative solver. We save all symbolic results in a file containing reusable functions:\n",
    "\n",
    "    interfaceME.py\n",
    "    \n",
    "This file only has to be generated once (per Green's function. "
   ]
  },
  {
   "cell_type": "code",
   "execution_count": 1,
   "id": "48d67931-7906-452c-909d-3386c2d1f4f9",
   "metadata": {},
   "outputs": [],
   "source": [
    "from sympy import *\n",
    "import numpy as np\n",
    "import re"
   ]
  },
  {
   "cell_type": "markdown",
   "id": "acc34af1-7320-4ff7-9cb7-e0719ef69d8a",
   "metadata": {},
   "source": [
    "### Definitions and auxiliary functions"
   ]
  },
  {
   "cell_type": "code",
   "execution_count": 2,
   "id": "ef89ab3a-46fb-459c-9226-b833f44f386c",
   "metadata": {},
   "outputs": [],
   "source": [
    "x1, y1, z1, x2, y2, z2 = symbols(\"x1, y1, z1, x2, y2, z2\", real=True)\n",
    "b, h, eta = symbols(\"b, h, eta\", real=True, positive=True)\n",
    "theta = symbols(\"theta\", real=True) ##eventually rename theta->psi\n",
    "\n",
    "\n",
    "mu, nu1, nu2, gamma2, sigma, eta1, eta2, beta, alpha, tau, gamma1, kappa1, kappa2, gamma = symbols(\n",
    "    \"mu, nu1, nu2, gamma2, sigma, eta1, eta2, beta, alpha, tau, gamma1, kappa1, kappa2, gamma\", integer=True)\n",
    "\n",
    "R1 = Array([x1,y1,z1]) #why not use matrix here?\n",
    "R2 = Array([x2,y2,z2])\n",
    "\n",
    "KroneckerDelta = eye(3)\n",
    "\n",
    "M  = Array([[1,0,0],[0,1,0],[0,0,-1]]) #diag(1,1,-1)\n",
    "\n",
    "Mf = Array([[(1-theta)/(1+theta),0,0], [0, (1-theta)/(1+theta),0], [0,0,-1]])\n",
    "#diag( (1-theta)/(1+theta), (1-theta)/(1+theta), -1) \n",
    "\n",
    "R2M = tensorcontraction(tensorproduct(M,R2), (1,2))\n",
    "\n",
    "rM = R1 - R2M\n",
    "\n",
    "def norm(r):\n",
    "    result=0\n",
    "    for i in range(3):\n",
    "        result += r[i]**2\n",
    "    return sqrt(result)#sqrt(summation(r[alpha]**2,(alpha,0,2)))\n",
    "\n",
    "def eps(alpha, beta, gamma):\n",
    "    return LeviCivita(alpha,beta,gamma)"
   ]
  },
  {
   "cell_type": "code",
   "execution_count": 3,
   "id": "fb1eb69b-7657-4691-8b35-dfc801aa9ffb",
   "metadata": {},
   "outputs": [],
   "source": [
    "def Laplacian(G, r):\n",
    "    return diff(G, r[0], r[0]) + diff(G, r[1], r[1]) + diff(G, r[2], r[2])\n",
    "\n",
    "\n",
    "## for some reason I cannot sum over 'symbols' here whenever rM is a Matrix, not an Array. Who knows why, but this seems to work. \n",
    "\n",
    "def Curl(mu, beta): ##Curl is always with respect to R1\n",
    "    result=0\n",
    "    for i in range(3):\n",
    "        for j in range(3):\n",
    "            result += eps(mu,i,j)*diff(G(j,beta),R1[i]) ## Need dependence of G on rM and R2? \n",
    "    return result\n",
    "\n",
    "def tilde_Curl(alpha, sigma): ##tilde_Curl is always with respect to R2\n",
    "    result=0\n",
    "    for i in range(3):\n",
    "        for j in range(3):\n",
    "            result += eps(sigma,i,j)*diff(G(alpha, j),R2[i])\n",
    "    return result\n",
    "\n",
    "def CurlCurl(mu, sigma):\n",
    "    result=0\n",
    "    for i in range(3):\n",
    "        for j in range(3):\n",
    "            for k in range(3):\n",
    "                for l in range(3):\n",
    "                    result += eps(mu, i, j)*eps(sigma, k, l)*diff(G(j, l), R1[i], R2[k])\n",
    "    return result"
   ]
  },
  {
   "cell_type": "code",
   "execution_count": 4,
   "id": "2375970a-5208-4f43-afdf-8f674215c589",
   "metadata": {},
   "outputs": [],
   "source": [
    "def Fl(G, l):\n",
    "    return G + b**2/(4*l+6)*Laplacian(G, R1)\n",
    "\n",
    "def tilde_Fl(G,l):\n",
    "    return G + b**2/(4*l+6)*Laplacian(G, R2)\n",
    "\n",
    "def FlFl(G, l, lprime):\n",
    "    return G + b**2/(4*l+6)*Laplacian(G, R1) + b**2/(4*lprime+6)*Laplacian(G, R2) + b**4/((4*l+6)*(4*lprime+6))*Laplacian(Laplacian(G, R1), R2)"
   ]
  },
  {
   "cell_type": "code",
   "execution_count": 5,
   "id": "c163d4f2-df43-4a39-84c6-b0e48dca7949",
   "metadata": {},
   "outputs": [],
   "source": [
    "## Green's function\n",
    "##first G* part, which is the same for ii and ij, later G0 part for ii\n",
    "\n",
    "def GO(r, alpha, beta):\n",
    "    return 1/(8*pi*eta)*(KroneckerDelta[alpha,beta]/norm(r) + r[alpha]*r[beta]/norm(r)**3) ##can reuse for particle-particle interactions\n",
    "\n",
    "## only for Gstar, particle - image interactions\n",
    "def Stokeslet(alpha, beta):\n",
    "    result = 0\n",
    "    for i in range(3):\n",
    "        result += Mf[beta, i]*GO(rM, alpha, i)\n",
    "    return result\n",
    "\n",
    "def Dipole(alpha, beta):\n",
    "    result = 0\n",
    "    for i in range(3):\n",
    "        result += -2*R2[2]*theta/(1+theta)*diff(GO(rM, alpha, 2) * M[beta, i], R1[i])\n",
    "    return result\n",
    "\n",
    "def Quadrupole(alpha, beta):\n",
    "    result = 0\n",
    "    for i in range(3):\n",
    "        result += R2[2]**2*theta/(1+theta)*Laplacian(GO(rM, alpha, i) * M[beta, i], R1)\n",
    "    return result\n",
    "\n",
    "def G(alpha, beta): #introduce flag to switch between G0 and Gstar, for whichever we have to compute the matrix elements\n",
    "    return Stokeslet(alpha, beta) + Dipole(alpha, beta) + Quadrupole(alpha, beta)"
   ]
  },
  {
   "cell_type": "code",
   "execution_count": 6,
   "id": "bad1fc8a-52d9-4c68-87a8-b7f7bbf98245",
   "metadata": {},
   "outputs": [],
   "source": [
    "## is there not a smarter way to do this? No dependence on rM and R2.. in python want xij, yij etc not x1- x2\n",
    "## Need: self-interaction and ineraction with image. Interaction with other particle and with its image\n",
    "## constant, R1=R2 (also constant), rij, and also rij. How to compute all of them with same code? \n",
    "\n",
    "## keep dependence on rM and R2: \n",
    "        ## for self-interaction choose rM = 0, 0, 2h and R2= 0,0,h\n",
    "        ## for interaction choose: x1-x2=xij with particle, z1+z2 = ?\n",
    "\n",
    "## keep dependence for now, might give greater flexibility later - no, delete to make shorter and write extra functions for particle-particle interactions\n",
    "#for interactions, replace rM by xij, yij, dz = z1 + z2 or so, but there is also zij for particle-particle interactions, need another Greens function GO(rij, alpha, beta)\n",
    "\n",
    "## could use flag in G, whether to return Go or Gstar"
   ]
  },
  {
   "cell_type": "code",
   "execution_count": 14,
   "id": "9c7eb485-f4ba-424e-ac78-b3212ba43f37",
   "metadata": {},
   "outputs": [],
   "source": [
    "def G1s1s(alpha, beta):\n",
    "    return FlFl( G(alpha, beta), 0, 0)\n",
    "\n",
    "def G2a1s(mu, beta):\n",
    "    return b*tilde_Fl(Curl(mu, beta), 0)\n",
    "\n",
    "def G1s2a(alpha,sigma):\n",
    "    return 0.5*b*Fl(tilde_Curl(alpha, sigma), 0)\n",
    "\n",
    "def G2a2a(mu, sigma):\n",
    "    return 0.5*b**2*CurlCurl(mu, sigma)\n",
    "\n",
    "def G1s2s(alpha, sigma, eta1):\n",
    "    return 0.5*b*FlFl((diff(G(alpha,sigma), R2[eta1]) + diff(G(alpha, eta1), R2[sigma])), 0, 1)\n",
    "\n",
    "def G2a2s(mu, sigma, eta1):\n",
    "    return 0.5*b**2*tilde_Fl( (diff(Curl(mu,sigma), R2[eta1]) + diff(Curl(mu, eta1), R2[sigma])), 1)\n",
    "\n",
    "def G2s1s(mu, nu1, beta):\n",
    "    return 0.5*b*FlFl( diff( G(mu, beta), R1[nu1]) + diff( G(nu1, beta), R1[mu]), 1,0)\n",
    "\n",
    "def G2s2a(mu, nu1, sigma):\n",
    "    return 0.25*b**2*Fl( (diff(tildeCurl(mu,sigma), R1[nu1]) + diff(tildeCurl(nu1, sigma), R1[mu])), 1)\n",
    "\n",
    "def G2s2s(mu, nu1, sigma, eta1):\n",
    "    return 0.25*b**2*FlFl( diff( G(mu,sigma), R1[nu1], R2[eta1]) + diff( G(nu1,sigma), R1[mu], R2[eta1])\n",
    "                          +  diff( G(mu,eta1), R1[nu1], R2[sigma]) + diff( G(nu1,eta1), R1[mu], R2[sigma]), 1,1)\n",
    "\n",
    "def G2s3t(mu, nu1, eta2):\n",
    "    return -0.1*b**3*Fl( Laplacian( diff( G(mu, eta2), R1[nu1]) + diff( G(nu1, eta2), R1[mu]), R2), 1)\n",
    "\n",
    "def G2s3a(mu, nu1, sigma, eta2):\n",
    "    return 1/3*b**3*Fl( diff( diff( tildeCurl(mu, sigma), R2[eta2]) - 1/3*summation( eps(sigma, eta2, beta)*Laplacian( G(mu, beta), R2), (beta,0,2)), R1[nu1]) \n",
    "                       + diff( diff( tildeCurl(nu1, sigma), R2[eta2]) - 1/3*summation( eps(sigma, eta2, beta)*Laplacian( G(nu1, beta), R2), (beta,0,2)), R1[mu]), 1)\n",
    "\n",
    "def G3a2s(mu, nu2, sigma, nu1):\n",
    "    return 0.25*b**3*tilde_Fl( diff( diff( Curl(tau, beta), R2[kappa1]) + diff( Curl(tau, kappa1), R2[beta]), R1[gamma2])\n",
    "                              + diff( diff( Curl(gamma2, beta), R2[kappa1]) + diff( Curl(gamma2, kappa1), R2[beta]), R1[tau]), 1)\n",
    "\n",
    "def G3a3a(mu, nu2, sigma, eta2):\n",
    "    return 1/3*b**4*( diff( diff( CurlCurl(mu, sigma), R2[eta2]) - 1/3*summation( eps(sigma, eta2, beta)*Laplacian( Curl(mu, beta), R2), (beta,0,2)), R1[nu2]) \n",
    "                       + diff( diff( CurlCurl(nu2, sigma), R2[eta2]) - 1/3*summation( eps(sigma, eta2, beta)*Laplacian( Curl(nu2, beta), R2), (beta,0,2)), R1[mu]) )\n",
    "\n",
    "def G1s3t(alpha, eta2):\n",
    "    return -0.2*b**2*Fl( Laplacian( G(alpha, eta2), R2), 0)\n",
    "\n",
    "def G1s3a(alpha, sigma, eta2):\n",
    "    return 2/3*b**2*Fl( diff( tildeCurl(alpha, sigma), R2[eta2]) - 1/3*summation(eps(sigma, eta2, beta)*Laplacian( G(alpha,beta), R2), (beta,0,2)), 0)\n",
    "\n",
    "def G2a3a(mu, sigma, eta2):\n",
    "    return 2/3*b**3*( diff( CurlCurl(mu, sigma), R2[eta2]) - 1/3*summation(eps(sigma, eta2, beta)*Laplacian( Curl(mu,beta), R2), (beta,0,2)) )\n",
    "\n",
    "def G3a1s(mu, nu2, beta):\n",
    "    return 0.5*b**2*tilde_Fl( diff( Curl(mu,beta), R1[nu2]) + diff( Curl(nu2,beta), R1[mu]), 0)\n",
    "\n"
   ]
  },
  {
   "cell_type": "code",
   "execution_count": 8,
   "id": "b79483ed-5dfa-4de9-8999-5356439bb1b5",
   "metadata": {},
   "outputs": [],
   "source": [
    "## Really slow, can return to use 'summation' now that rM is an Array? Would that be quicker? instead of silly for loop\n",
    "## Nope, for loop is at least as fast "
   ]
  },
  {
   "cell_type": "code",
   "execution_count": 9,
   "id": "5d3859bd-611b-4d76-8a11-3778039c48fb",
   "metadata": {},
   "outputs": [],
   "source": [
    "## Need Curl argument G? Def need it in Laplacian and Fl, so it is flexible. But Curl never taken of different function. Curl always only taken of G directly. "
   ]
  },
  {
   "cell_type": "code",
   "execution_count": null,
   "id": "4abc9c3e-8407-4286-a436-74d1d8ed985d",
   "metadata": {},
   "outputs": [],
   "source": []
  },
  {
   "cell_type": "code",
   "execution_count": null,
   "id": "665bdd4d-bb81-4446-aa59-610b3fe2f902",
   "metadata": {},
   "outputs": [],
   "source": []
  },
  {
   "cell_type": "code",
   "execution_count": null,
   "id": "1ea1e5aa-e038-49ce-adc7-6d92409ab20d",
   "metadata": {},
   "outputs": [],
   "source": []
  },
  {
   "cell_type": "code",
   "execution_count": null,
   "id": "c6a927dc-e6da-48f8-b6da-5cfccc5188f4",
   "metadata": {},
   "outputs": [],
   "source": []
  },
  {
   "cell_type": "code",
   "execution_count": null,
   "id": "2b3ada31-5f54-4042-a88d-6cb2b6915e6b",
   "metadata": {},
   "outputs": [],
   "source": []
  },
  {
   "cell_type": "code",
   "execution_count": null,
   "id": "428437b1-7f6b-4e11-8fb2-f4c87afb5164",
   "metadata": {},
   "outputs": [],
   "source": []
  },
  {
   "cell_type": "code",
   "execution_count": null,
   "id": "b86e141e-cdb0-4b26-8f35-81ee4a8aefeb",
   "metadata": {},
   "outputs": [],
   "source": []
  },
  {
   "cell_type": "code",
   "execution_count": null,
   "id": "4a7e0a9d-a89d-493f-a375-8d6e5bd39328",
   "metadata": {},
   "outputs": [],
   "source": []
  },
  {
   "cell_type": "code",
   "execution_count": null,
   "id": "3081e74d-124f-456e-ad79-a891a62a2f2c",
   "metadata": {},
   "outputs": [],
   "source": []
  },
  {
   "cell_type": "code",
   "execution_count": null,
   "id": "6fa4c40f-0116-4640-86ed-32ba1f3ae594",
   "metadata": {},
   "outputs": [],
   "source": []
  },
  {
   "cell_type": "code",
   "execution_count": null,
   "id": "c6b88917-fe85-4bf1-b9c9-e79c870be94f",
   "metadata": {},
   "outputs": [],
   "source": []
  },
  {
   "cell_type": "code",
   "execution_count": 10,
   "id": "a35d6fac-e2da-4436-8c35-cbc8653a7afd",
   "metadata": {},
   "outputs": [
    {
     "name": "stdout",
     "output_type": "stream",
     "text": [
      "CPU times: user 25.6 s, sys: 58.4 ms, total: 25.7 s\n",
      "Wall time: 25.7 s\n"
     ]
    }
   ],
   "source": [
    "%%time\n",
    "bla = G2a2s(0, 1, 2)"
   ]
  },
  {
   "cell_type": "code",
   "execution_count": 11,
   "id": "812e09b6-dd65-4e47-8d67-de4e2818cc51",
   "metadata": {},
   "outputs": [
    {
     "data": {
      "text/latex": [
       "$\\displaystyle \\frac{b^{2} \\cdot \\left(0.0375 b^{2} \\theta - 0.046875 h^{2} \\left(\\theta + 1\\right)\\right)}{\\pi \\eta h^{5} \\left(\\theta + 1\\right)}$"
      ],
      "text/plain": [
       "b**2*(0.0375*b**2*theta - 0.046875*h**2*(theta + 1))/(pi*eta*h**5*(theta + 1))"
      ]
     },
     "execution_count": 11,
     "metadata": {},
     "output_type": "execute_result"
    }
   ],
   "source": [
    "simplify(bla.subs({x1:0, y1:0, z1:h, x2:0, y2:0, z2:h}))"
   ]
  },
  {
   "cell_type": "code",
   "execution_count": null,
   "id": "cff08ac9-8d39-452e-bb9d-1b476b77026d",
   "metadata": {},
   "outputs": [],
   "source": []
  },
  {
   "cell_type": "code",
   "execution_count": null,
   "id": "f41951c0-79cf-43e3-8778-d9b463e3bed8",
   "metadata": {},
   "outputs": [],
   "source": []
  }
 ],
 "metadata": {
  "kernelspec": {
   "display_name": "Python 3 (ipykernel)",
   "language": "python",
   "name": "python3"
  },
  "language_info": {
   "codemirror_mode": {
    "name": "ipython",
    "version": 3
   },
   "file_extension": ".py",
   "mimetype": "text/x-python",
   "name": "python",
   "nbconvert_exporter": "python",
   "pygments_lexer": "ipython3",
   "version": "3.10.2"
  }
 },
 "nbformat": 4,
 "nbformat_minor": 5
}
