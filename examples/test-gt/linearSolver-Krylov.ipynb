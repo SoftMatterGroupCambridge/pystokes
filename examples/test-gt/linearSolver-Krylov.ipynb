{
 "cells": [
  {
   "cell_type": "code",
   "execution_count": 1,
   "id": "35eacf6b-e8dc-4808-b86a-bbb9b38656ed",
   "metadata": {},
   "outputs": [],
   "source": [
    "import numpy as np, matplotlib.pyplot as plt\n",
    "import matelms as me\n",
    "import test\n",
    "from scipy.sparse.linalg import gmres, bicgstab, LinearOperator"
   ]
  },
  {
   "cell_type": "code",
   "execution_count": 2,
   "id": "3f0b38bd-1211-495a-a233-ac47fa722b58",
   "metadata": {},
   "outputs": [],
   "source": [
    "PI = 3.14159265359\n",
    "b, eta = 1.0, 0.1\n",
    "xij,yij,zij = np.array([-2.0040735703833774, 0., 0.])"
   ]
  },
  {
   "cell_type": "code",
   "execution_count": 3,
   "id": "2abdf8d3-af14-43af-ae4d-cf2ec5380ae2",
   "metadata": {},
   "outputs": [],
   "source": [
    "##diagonal matrix elements\n",
    "g2s = np.full(5, 3./(20*PI*eta*b))\n",
    "g3t = np.full(3, 1./(2*PI*eta*b))\n",
    "g3a = np.full(5, 3./(2*PI*eta*b))\n",
    "g3s = np.full(7, 6./(7*PI*eta*b))\n",
    "\n",
    "GoHH = np.diag(np.block([g2s,g3t,g3a,g3s]))\n",
    "\n",
    "##construct two-body GHH, dimension 40x40\n",
    "def GHH(xij,yij,zij):\n",
    "    return np.block([[GoHH, me.GHH(xij,yij,zij, b,eta)],\n",
    "                    [me.GHH(-xij,-yij,-zij, b,eta), GoHH]])"
   ]
  },
  {
   "cell_type": "code",
   "execution_count": 4,
   "id": "a3b33276-bb0a-4490-97e8-a549f0ab20f2",
   "metadata": {},
   "outputs": [],
   "source": [
    "def GHHFH(FH):\n",
    "    return np.concatenate([(test.GoHHFH(b,eta, FH[:20]) + test.GHHFH(xij,yij,zij, b,eta, FH[20:]))\n",
    "                     ,(test.GHHFH(-xij,-yij,-zij, b,eta, FH[:20])+ test.GoHHFH(b,eta, FH[20:]))])"
   ]
  },
  {
   "cell_type": "code",
   "execution_count": 5,
   "id": "a507279f-0f64-4966-afde-0c8660f8c349",
   "metadata": {},
   "outputs": [
    {
     "data": {
      "text/plain": [
       "(40,)"
      ]
     },
     "execution_count": 5,
     "metadata": {},
     "output_type": "execute_result"
    }
   ],
   "source": [
    "np.dot(GHH(xij,yij,zij),np.ones(40)).shape"
   ]
  },
  {
   "cell_type": "code",
   "execution_count": 6,
   "id": "33696352-9ce4-4d05-b093-87b5c41d6360",
   "metadata": {},
   "outputs": [],
   "source": [
    "rhs = np.dot(GHH(xij,yij,zij),np.ones(40)) \n",
    "Ax = LinearOperator((40,40),matvec=GHHFH) ##Ax as linear operator"
   ]
  },
  {
   "cell_type": "code",
   "execution_count": 14,
   "id": "b5a8d2aa-a1cf-4dc5-bbb9-fbb9236ead97",
   "metadata": {},
   "outputs": [
    {
     "name": "stdout",
     "output_type": "stream",
     "text": [
      "CPU times: user 156 ms, sys: 459 µs, total: 157 ms\n",
      "Wall time: 156 ms\n"
     ]
    }
   ],
   "source": [
    "%%time\n",
    "soln, exitCode = bicgstab(Ax, rhs)"
   ]
  },
  {
   "cell_type": "code",
   "execution_count": 15,
   "id": "c6f88ac8-8b97-4427-b556-55b0edd9ed6e",
   "metadata": {},
   "outputs": [
    {
     "data": {
      "text/plain": [
       "array([0.99998562, 1.00001659, 1.00003523, 1.00003394, 0.99997253,\n",
       "       0.99999996, 0.99999996, 0.99999996, 1.00000049, 0.99999915,\n",
       "       1.00000036, 0.9999992 , 0.99999917, 0.99998961, 0.99999984,\n",
       "       0.99998617, 1.00000915, 1.00000274, 1.0000041 , 1.00000631,\n",
       "       0.99985374, 1.00000476, 0.99998171, 1.00007541, 0.99997895,\n",
       "       0.99999996, 0.99999996, 0.99999996, 0.99999959, 0.99999977,\n",
       "       0.9999996 , 1.00000055, 1.00000099, 0.99999537, 1.00000002,\n",
       "       0.99998628, 1.00000666, 1.0000026 , 1.00000396, 1.00000628])"
      ]
     },
     "execution_count": 15,
     "metadata": {},
     "output_type": "execute_result"
    }
   ],
   "source": [
    "soln"
   ]
  },
  {
   "cell_type": "code",
   "execution_count": 16,
   "id": "7ecde398-abc4-4f52-a608-9f4f0cabc117",
   "metadata": {},
   "outputs": [],
   "source": [
    "x0 = rhs/np.concatenate([test.GoHHFH(b,eta, np.ones(20)), test.GoHHFH(b,eta, np.ones(20))])"
   ]
  },
  {
   "cell_type": "code",
   "execution_count": 17,
   "id": "d79b5ae5-4e5b-4190-80bf-33e971f7be82",
   "metadata": {},
   "outputs": [
    {
     "name": "stdout",
     "output_type": "stream",
     "text": [
      "CPU times: user 160 ms, sys: 679 µs, total: 160 ms\n",
      "Wall time: 159 ms\n"
     ]
    }
   ],
   "source": [
    "%%time\n",
    "soln, exitCode = bicgstab(Ax, rhs, x0)"
   ]
  },
  {
   "cell_type": "code",
   "execution_count": 18,
   "id": "021538f3-f483-4d8d-8344-f9e71162879e",
   "metadata": {},
   "outputs": [
    {
     "data": {
      "text/plain": [
       "array([0.99979525, 0.9999863 , 1.00002752, 1.00010169, 0.99998629,\n",
       "       1.        , 1.        , 1.        , 1.00001524, 1.00000151,\n",
       "       0.99999935, 0.99999169, 0.99999841, 0.99998701, 0.99999993,\n",
       "       1.0000007 , 1.00000652, 1.00000001, 1.00000005, 0.99999982,\n",
       "       0.99977894, 1.00000648, 0.99996525, 1.00007708, 1.00000686,\n",
       "       1.        , 1.        , 1.        , 0.9999863 , 1.00000038,\n",
       "       1.0000005 , 1.00000798, 1.00000177, 1.00001256, 0.99999981,\n",
       "       1.00000062, 0.9999941 , 0.9999995 , 1.00000014, 0.99999984])"
      ]
     },
     "execution_count": 18,
     "metadata": {},
     "output_type": "execute_result"
    }
   ],
   "source": [
    "soln"
   ]
  },
  {
   "cell_type": "code",
   "execution_count": 19,
   "id": "95be4122-e067-40ae-be7f-51e7b20fd4dc",
   "metadata": {},
   "outputs": [],
   "source": [
    "##maybe x0 helps for many particles and time steps"
   ]
  },
  {
   "cell_type": "code",
   "execution_count": null,
   "id": "1c79f1a6-4274-4811-b5b6-57a2580487d6",
   "metadata": {},
   "outputs": [],
   "source": []
  },
  {
   "cell_type": "code",
   "execution_count": 26,
   "id": "73372973-e4c3-4226-b35a-f347962572ea",
   "metadata": {},
   "outputs": [
    {
     "data": {
      "text/plain": [
       "True"
      ]
     },
     "execution_count": 26,
     "metadata": {},
     "output_type": "execute_result"
    }
   ],
   "source": [
    "np.allclose(test.GHHFH(xij,yij,zij, b,eta, 1/23*np.ones(20)), np.dot(me.GHH(xij,yij,zij, b,eta), 1/23*np.ones(20)))"
   ]
  },
  {
   "cell_type": "code",
   "execution_count": 27,
   "id": "22504744-ec48-4877-a777-db7434c91332",
   "metadata": {},
   "outputs": [
    {
     "data": {
      "text/plain": [
       "True"
      ]
     },
     "execution_count": 27,
     "metadata": {},
     "output_type": "execute_result"
    }
   ],
   "source": [
    "np.allclose(test.KHHVH(xij,yij,zij, b,eta, 1/23*np.ones(20)), np.dot(me.KHH(xij,yij,zij, b,eta), 1/23*np.ones(20)))"
   ]
  },
  {
   "cell_type": "code",
   "execution_count": 24,
   "id": "034d6e13-e97b-482f-b75c-d34029fbdcde",
   "metadata": {},
   "outputs": [
    {
     "data": {
      "text/plain": [
       "array([-0.01101468,  0.00146694,  0.00146694,  0.01788082,  0.01237348,\n",
       "        0.        ,  0.        ,  0.        ,  0.        ,  0.12398677,\n",
       "       -0.12398677, -0.06199339,  0.06199339,  0.00160316,  0.00413752,\n",
       "        0.00413752,  0.00499465,  0.00579623, -0.00310314, -0.00103438])"
      ]
     },
     "execution_count": 24,
     "metadata": {},
     "output_type": "execute_result"
    }
   ],
   "source": [
    "test.KHHVH(xij,yij,zij, b,eta, np.ones(20))"
   ]
  },
  {
   "cell_type": "code",
   "execution_count": 25,
   "id": "f608aed3-2447-4cf2-bcd3-80fd9090c6b0",
   "metadata": {},
   "outputs": [],
   "source": [
    "##Check whether all of them match with previous results!"
   ]
  },
  {
   "cell_type": "code",
   "execution_count": null,
   "id": "bbe0b7dd-4c9e-4d7d-ad11-259c84a5a898",
   "metadata": {},
   "outputs": [],
   "source": []
  }
 ],
 "metadata": {
  "kernelspec": {
   "display_name": "Python 3 (ipykernel)",
   "language": "python",
   "name": "python3"
  },
  "language_info": {
   "codemirror_mode": {
    "name": "ipython",
    "version": 3
   },
   "file_extension": ".py",
   "mimetype": "text/x-python",
   "name": "python",
   "nbconvert_exporter": "python",
   "pygments_lexer": "ipython3",
   "version": "3.10.2"
  }
 },
 "nbformat": 4,
 "nbformat_minor": 5
}
