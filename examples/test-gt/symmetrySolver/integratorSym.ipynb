{
 "cells": [
  {
   "cell_type": "code",
   "execution_count": 1,
   "id": "5ea0c3ca-ea9b-48e6-b764-e9c35a71f626",
   "metadata": {},
   "outputs": [],
   "source": [
    "%matplotlib inline\n",
    "from solveSym import linearSolve_krylov as linearSolve\n",
    "import numpy as np, matplotlib.pyplot as plt\n",
    "import pystokes"
   ]
  },
  {
   "cell_type": "code",
   "execution_count": 2,
   "id": "ecbf7872-d544-4d59-b3fe-cd1ab4237802",
   "metadata": {},
   "outputs": [],
   "source": [
    "def rotation(vector,alpha, beta, gamma):\n",
    "    rotmat = np.array([[np.cos(beta)*np.cos(gamma), np.sin(alpha)*np.sin(beta)*np.cos(gamma) \n",
    "                        - np.cos(alpha)*np.sin(gamma), np.cos(alpha)*np.sin(beta)*np.cos(gamma)\n",
    "                        + np.sin(alpha)*np.sin(gamma)],\n",
    "                       [np.cos(beta)*np.sin(gamma),\n",
    "                        np.sin(alpha)*np.sin(beta)*np.sin(gamma) + np.cos(alpha)*np.cos(gamma),\n",
    "                        np.cos(alpha)*np.sin(beta)*np.sin(gamma) - np.sin(alpha)*np.cos(gamma)],\n",
    "                       [-np.sin(beta),\n",
    "                        np.sin(alpha)*np.cos(beta),\n",
    "                        np.cos(alpha)*np.cos(beta)]])\n",
    "    return np.dot(rotmat, vector)"
   ]
  },
  {
   "cell_type": "code",
   "execution_count": 3,
   "id": "1b6243c6-c5e2-4038-adeb-ece207c276e8",
   "metadata": {},
   "outputs": [],
   "source": [
    "# particle radius, self-propulsion speed, number and fluid viscosity\n",
    "b, Np, eta = 1.0, 2, 0.1\n",
    "\n",
    "## squirmer\n",
    "D0  = 1.0      \n",
    "S0  = 3/50*D0    # beta = 1 (positive beta is a puller (negative V2s)) - not sure which sign!"
   ]
  },
  {
   "cell_type": "code",
   "execution_count": 4,
   "id": "36559b20-ed76-4701-a56f-16d30a3ee2dd",
   "metadata": {},
   "outputs": [],
   "source": [
    "## initialise \n",
    "#initial position\n",
    "r = np.array([-1.5,1.5, 0.,0. , 0., 0.])\n",
    "\n",
    "#initial orientation\n",
    "p = np.array([0., 0., 0.,0., 1.,1.])\n",
    "\n",
    "##rotate particles 50deg towards each other\n",
    "p[::Np] = rotation(p[::Np], 0., 25*2*np.pi/360, 0.)\n",
    "p[1::Np] = rotation(p[1::Np], 0., -25*2*np.pi/360, 0.)\n",
    "\n",
    "\n",
    "# initial slip modes\n",
    "S = np.zeros(5*Np)\n",
    "D = np.zeros(3*Np)\n",
    "for i in range(Np):\n",
    "    ## S in order: xx, xy, xz, yx, yy, yz, zx, zy, zz\n",
    "    S[i]       = S0*(3*p[i]*p[i] -1.)\n",
    "    S[i + Np]  = S0*(3*p[i]*p[i+Np])\n",
    "    S[i + 2*Np]= S0*(3*p[i]*p[i+2*Np])\n",
    "    S[i + 3*Np]= S0*(3*p[i+Np]*p[i+Np] - 1.)\n",
    "    S[i + 4*Np]= S0*(3*p[i+Np]*p[i+2*Np])\n",
    "    \n",
    "    D[i]       = D0*p[i]\n",
    "    D[i+Np]    = D0*p[i+Np]\n",
    "    D[i+2*Np]  = D0*p[i+2*Np]"
   ]
  },
  {
   "cell_type": "code",
   "execution_count": 26,
   "id": "a743ca23-ca83-41f2-b9d7-fd206cc1deeb",
   "metadata": {},
   "outputs": [],
   "source": [
    "def rhs(rp): ##change this to give polarisation directly\n",
    "    \"\"\"\n",
    "    Function that gives rhs for equations dr/dt=v and dp/dt= o x p\n",
    "    \"\"\"\n",
    "    \n",
    "    #position and angle theta (relative to initial angle)\n",
    "    r = rp[0:3*Np]; p = rp[3*Np:6*Np]\n",
    "    \n",
    "    ## make sure orientations remain unit length\n",
    "    norm_p1 = np.dot(p[::Np],p[::Np])\n",
    "    norm_p2 = np.dot(p[1::Np],p[1::Np])\n",
    "    \n",
    "    p[::Np] = p[::Np]/np.sqrt(norm_p1)\n",
    "    p[1::Np] = p[1::Np]/np.sqrt(norm_p2)\n",
    "    \n",
    "    \n",
    "    F, T, v, o = np.zeros(3*Np), np.zeros(3*Np), np.zeros(3*Np), np.zeros(3*Np)\n",
    "    \n",
    "    for i in range(Np):          \n",
    "        F[i]      = 0.0\n",
    "        F[i+Np]   = 0.0 \n",
    "        F[i+2*Np] = 0.0 \n",
    "        \n",
    "        T[i]      = 0.0\n",
    "        T[i+Np]   = 0.0\n",
    "        T[i+2*Np] = 0.0\n",
    "        \n",
    "        v[i]      = 0.0\n",
    "        v[i+Np]   = 0.0\n",
    "        v[i+2*Np] = 0.0\n",
    "        \n",
    "        o[i]      = 0.0\n",
    "        o[i+Np]   = 0.0\n",
    "        o[i+2*Np] = 0.0\n",
    "        \n",
    "        \n",
    "        S[i]       = S0*(3*p[i]*p[i] -1.)\n",
    "        S[i + Np]  = S0*(3*p[i]*p[i+Np])\n",
    "        S[i + 2*Np]= S0*(3*p[i]*p[i+2*Np])\n",
    "        S[i + 3*Np]= S0*(3*p[i+Np]*p[i+Np] - 1.)\n",
    "        S[i + 4*Np]= S0*(3*p[i+Np]*p[i+2*Np])\n",
    "        \n",
    "        D[i]       = D0*p[i]\n",
    "        D[i+Np]    = D0*p[i+Np]\n",
    "        D[i+2*Np]  = D0*p[i+2*Np]\n",
    "\n",
    "    \n",
    "    #update repulsive force at position r\n",
    "    forces.lennardJones(F, r, lje=5.0, ljr=2.1*b)\n",
    "    \n",
    "    #update velocity and angular velocity at r, acted on by F and T, and with slip modes S an D\n",
    "    ls.RBM(v, o, r, F, T, S, D)\n",
    "    \n",
    "    dpdt = np.zeros(3*Np)\n",
    "    \n",
    "    for i in range(Np):\n",
    "        dpdt[i]      = o[i+Np]*p[i+2*Np] - o[i+2*Np]*p[i+Np]    \n",
    "        dpdt[i+Np]   = o[i+2*Np]*p[i   ] - o[i     ]*p[i+2*Np]  \n",
    "        dpdt[i+2*Np] = o[i     ]*p[i+Np] - o[i+Np  ]*p[i]\n",
    "        \n",
    "\n",
    "    \n",
    "    #return velocity and angular velocity cross orientation as right-hand side\n",
    "    return np.concatenate( (v,dpdt) )"
   ]
  },
  {
   "cell_type": "code",
   "execution_count": 27,
   "id": "7b7c0a9b-b5c9-462c-a19e-5fe8f9789fcc",
   "metadata": {},
   "outputs": [],
   "source": [
    "def simulate(rth0, Tf, Npts, rhs, integrator='solve_ivp', Ti=0, maxNumSteps=100000, **kwargs):\n",
    "    \n",
    "    def dxdtEval(rth,t):\n",
    "        return rhs(rth)\n",
    "    \n",
    "    if integrator=='BDF': ## weird handling for this method\n",
    "        from scipy.integrate import BDF\n",
    "        X = BDF(lambda t, xt: dxdtEval(xt,t), Ti, rth0, Tf)\n",
    "        \n",
    "    if integrator=='odeint':\n",
    "        from scipy.integrate import odeint\n",
    "        time_points=np.linspace(Ti, Tf, Npts+1);\n",
    "        X = odeint(dxdtEval, rth0, time_points, mxstep=maxNumSteps, **kwargs)\n",
    "        \n",
    "    if integrator=='solve_ivp':\n",
    "        from scipy.integrate import solve_ivp\n",
    "        time_points=np.linspace(Ti, Tf, Npts+1)                                                          \n",
    "        X = solve_ivp(lambda t, xt: dxdtEval(xt,t), [0,Tf], rth0, \n",
    "                         t_eval=None, **kwargs)\n",
    "        \n",
    "    return X"
   ]
  },
  {
   "cell_type": "code",
   "execution_count": 28,
   "id": "63e63763-d5b5-4084-b4f7-d8874e18bce9",
   "metadata": {},
   "outputs": [],
   "source": [
    "# F, T, v, o = np.zeros(3*Np), np.zeros(3*Np), np.zeros(3*Np), np.zeros(3*Np)\n",
    "\n",
    "# ls = linearSolve(b, Np, eta)\n",
    "# ls.RBM(v, o, r, F, T, S, D) "
   ]
  },
  {
   "cell_type": "code",
   "execution_count": 29,
   "id": "a1bbce4f-bfde-411e-a40b-d3f37138cd60",
   "metadata": {},
   "outputs": [
    {
     "name": "stdout",
     "output_type": "stream",
     "text": [
      "CPU times: user 1min 20s, sys: 22.6 ms, total: 1min 20s\n",
      "Wall time: 29.7 s\n"
     ]
    },
    {
     "data": {
      "text/plain": [
       "'The solver successfully reached the end of the integration interval.'"
      ]
     },
     "execution_count": 29,
     "metadata": {},
     "output_type": "execute_result"
    }
   ],
   "source": [
    "%%time\n",
    "#initiallize system and forces\n",
    "ls = linearSolve(b, Np, eta)\n",
    "forces  = pystokes.forceFields.Forces(particles=Np)\n",
    "\n",
    "#simulate the resulting system\n",
    "rp0 = np.concatenate((r,p))\n",
    "Tf = 300.\n",
    "Npts = 10\n",
    "\n",
    "X = simulate(rp0, Tf, Npts, rhs, integrator='solve_ivp', Ti=0, maxNumSteps=1000,\n",
    "             method='BDF')\n",
    "X.message"
   ]
  },
  {
   "cell_type": "code",
   "execution_count": 30,
   "id": "be84f876-653b-427c-9095-8062b2a013f2",
   "metadata": {},
   "outputs": [],
   "source": [
    "pos = X.y.T[:,0:3*Np]\n",
    "times = X.t"
   ]
  },
  {
   "cell_type": "code",
   "execution_count": 31,
   "id": "3f196502-7628-4689-8f38-15ee285f72d7",
   "metadata": {},
   "outputs": [],
   "source": [
    "pos1 = pos[:,::Np]\n",
    "pos2 = pos[:,1::Np]"
   ]
  },
  {
   "cell_type": "code",
   "execution_count": 32,
   "id": "314d603e-9a44-420a-9f74-c339302a69a7",
   "metadata": {},
   "outputs": [],
   "source": [
    "plt.rcParams.update({'font.size': 17})"
   ]
  },
  {
   "cell_type": "code",
   "execution_count": 46,
   "id": "7eebe082-f07d-4ef9-9d6b-0094dad3e589",
   "metadata": {},
   "outputs": [
    {
     "data": {
      "image/png": "[encoded data removed]",
      "text/plain": [
       "<Figure size 576x792 with 1 Axes>"
      ]
     },
     "metadata": {
      "needs_background": "light"
     },
     "output_type": "display_data"
    }
   ],
   "source": [
    "##x-y plot like in Ishikawa\n",
    "plt.figure(figsize=(8,11))\n",
    "plt.plot(pos1[:,0], pos1[:,2], label='particle 1', lw=2)\n",
    "plt.plot(pos2[:,0], pos2[:,2], label='particle 2', lw=2)\n",
    "plt.xlabel('x')\n",
    "plt.ylabel('z')\n",
    "plt.ylim(0,30)\n",
    "plt.xlim(-10,10)\n",
    "plt.legend()\n",
    "plt.show()"
   ]
  },
  {
   "cell_type": "code",
   "execution_count": 34,
   "id": "d0da3f56-2e2e-4140-a959-d390b0a3ce55",
   "metadata": {},
   "outputs": [
    {
     "data": {
      "text/plain": [
       "(2.036943378212293, 3.0)"
      ]
     },
     "execution_count": 34,
     "metadata": {},
     "output_type": "execute_result"
    }
   ],
   "source": [
    "## minimum distance between the two particles\n",
    "rmin = np.amin(np.sqrt((pos1[:,0]-pos2[:,0])**2 + (pos1[:,1]-pos2[:,1])**2 + (pos1[:,2]-pos2[:,2])**2))\n",
    "rmax = np.amax(np.sqrt((pos1[:,0]-pos2[:,0])**2 + (pos1[:,1]-pos2[:,1])**2 + (pos1[:,2]-pos2[:,2])**2))\n",
    "rmin, rmax"
   ]
  },
  {
   "cell_type": "code",
   "execution_count": 35,
   "id": "3424d28f-af29-4553-8180-d495ddec9255",
   "metadata": {},
   "outputs": [
    {
     "data": {
      "text/plain": [
       "(array([17]),)"
      ]
     },
     "execution_count": 35,
     "metadata": {},
     "output_type": "execute_result"
    }
   ],
   "source": [
    "minIndex = np.where(np.sqrt((pos1[:,0]-pos2[:,0])**2 + (pos1[:,1]-pos2[:,1])**2 + (pos1[:,2]-pos2[:,2])**2)==rmin)\n",
    "#minIndex[0][0] -= 18\n",
    "xik,yik,zik = (pos1[minIndex,:]-pos2[minIndex,:])[0][0]\n",
    "minIndex"
   ]
  },
  {
   "cell_type": "code",
   "execution_count": 36,
   "id": "81b91fef-0a57-43ce-ad74-186aba28c1f9",
   "metadata": {},
   "outputs": [
    {
     "data": {
      "text/plain": [
       "(-2.036943378212293, 0.0, 4.063132053033769e-10)"
      ]
     },
     "execution_count": 36,
     "metadata": {},
     "output_type": "execute_result"
    }
   ],
   "source": [
    "xik,yik,zik ##they go out of plane? not anymore! "
   ]
  },
  {
   "cell_type": "code",
   "execution_count": 37,
   "id": "5afba71a-eda5-4b41-b75e-b161e413f366",
   "metadata": {},
   "outputs": [],
   "source": [
    "##why does Krylov solver go so wrong? seems to introduce numerical error. \n",
    "\n",
    "## Try symmetry factor corrected matrix elements with a direct solver? "
   ]
  },
  {
   "cell_type": "code",
   "execution_count": 38,
   "id": "894bb98c-f67f-4b0c-abff-6a3c8f40c962",
   "metadata": {},
   "outputs": [
    {
     "name": "stdout",
     "output_type": "stream",
     "text": [
      "[ 0.00000000e+00  0.00000000e+00  0.00000000e+00  0.00000000e+00\n",
      "  0.00000000e+00  2.22044605e-16  2.22044605e-16  1.55431223e-15\n",
      "  1.28785871e-14  3.57491814e-14  1.01949560e-11  5.29591926e-11\n",
      "  2.44300136e-11 -4.26381153e-11 -1.31544331e-10 -2.27121433e-10\n",
      " -4.03098888e-10 -5.81726223e-10 -7.64137420e-10 -1.14775034e-09\n",
      " -1.55463975e-09 -3.14738702e-09 -5.16036969e-09 -7.70971020e-09\n",
      " -1.10672944e-08 -1.31404485e-08 -1.54770685e-08 -1.81208066e-08\n",
      " -2.11350284e-08 -2.81277712e-08 -3.68690358e-08 -4.76301374e-08\n",
      " -6.07296575e-08 -1.03847756e-07 -1.68439115e-07 -2.61901799e-07\n",
      " -3.93506266e-07 -5.75001872e-07 -9.04071060e-07 -1.38057481e-06\n",
      " -2.06318793e-06 -3.03258018e-06 -5.73050042e-06 -1.05600578e-05\n",
      " -1.91141152e-05 -3.41717121e-05  3.45386056e-04 -4.49234164e-03\n",
      " -4.90207017e-03]\n"
     ]
    }
   ],
   "source": [
    "print(pos1[:,0] + pos2[:,0])"
   ]
  },
  {
   "cell_type": "code",
   "execution_count": 39,
   "id": "506c0c13-64f3-4534-a48f-2c1a5e48d785",
   "metadata": {},
   "outputs": [],
   "source": [
    "orientations = X.y.T[:,3*Np:6*Np]\n",
    "or1 = orientations[:,::Np]\n",
    "or2 = orientations[:,1::Np]"
   ]
  },
  {
   "cell_type": "code",
   "execution_count": 40,
   "id": "be8a3111-ec95-499c-a536-8ce4aff37aa8",
   "metadata": {},
   "outputs": [
    {
     "data": {
      "text/plain": [
       "array([ 0.00000000e+00,  0.00000000e+00,  0.00000000e+00,  5.55111512e-17,\n",
       "       -1.11022302e-16,  3.33066907e-15,  3.83026943e-15,  7.35522754e-14,\n",
       "        2.72282197e-13,  3.19966276e-13, -8.01292366e-12, -6.40214992e-10,\n",
       "       -1.48083934e-09, -1.52106111e-09, -1.52488699e-09, -1.53210761e-09,\n",
       "       -1.55904739e-09, -1.59492292e-09, -1.63516600e-09, -1.72695647e-09,\n",
       "       -1.83258089e-09, -2.30752173e-09, -2.99841214e-09, -3.94019053e-09,\n",
       "       -5.21954008e-09, -6.01101996e-09, -6.90076430e-09, -7.89453964e-09,\n",
       "       -9.00043604e-09, -1.14806369e-08, -1.44435097e-08, -1.79317658e-08,\n",
       "       -2.19936273e-08, -3.43967236e-08, -5.13145705e-08, -7.38885984e-08,\n",
       "       -1.03583963e-07, -1.42307498e-07, -2.08916603e-07, -3.01021573e-07,\n",
       "       -4.28914345e-07, -6.07125352e-07, -1.09408606e-06, -1.95093093e-06,\n",
       "       -3.44785846e-06, -6.05963755e-06,  5.88769248e-05, -7.55382852e-04,\n",
       "       -8.23821748e-04])"
      ]
     },
     "execution_count": 40,
     "metadata": {},
     "output_type": "execute_result"
    }
   ],
   "source": [
    "or1[:,0] + or2[:,0]"
   ]
  },
  {
   "cell_type": "code",
   "execution_count": 41,
   "id": "bde5b510-6880-4384-90c6-cb245d563dc5",
   "metadata": {},
   "outputs": [
    {
     "data": {
      "text/plain": [
       "array([ 0.00000000e+00,  0.00000000e+00,  0.00000000e+00,  1.11022302e-16,\n",
       "       -1.11022302e-16,  7.21644966e-15,  8.32667268e-15,  1.69420034e-13,\n",
       "        6.76347867e-13,  9.48574552e-13,  1.98162042e-10,  2.30924846e-09,\n",
       "        5.56130142e-10,  5.60326896e-10,  5.49906676e-10,  5.40334555e-10,\n",
       "        5.26730548e-10,  5.15682164e-10,  5.05631759e-10,  4.88548868e-10,\n",
       "        4.72817119e-10,  4.20886215e-10,  3.61494945e-10,  2.77539436e-10,\n",
       "        1.43059120e-10,  5.37934142e-11, -5.41101608e-11, -1.81543891e-10,\n",
       "       -3.30000915e-10, -6.82289225e-10, -1.12822485e-09, -1.67611636e-09,\n",
       "       -2.33383779e-09, -4.40640457e-09, -7.29084859e-09, -1.11617395e-08,\n",
       "       -1.62328734e-08, -2.27893566e-08, -3.41166397e-08, -4.97994713e-08,\n",
       "       -6.98188881e-08, -9.87375492e-08, -1.81487063e-07, -3.23976485e-07,\n",
       "       -5.72836192e-07, -1.00685108e-06,  9.79743987e-06, -1.25530243e-04,\n",
       "       -1.36869383e-04])"
      ]
     },
     "execution_count": 41,
     "metadata": {},
     "output_type": "execute_result"
    }
   ],
   "source": [
    "or1[:,2] - or2[:,2]"
   ]
  },
  {
   "cell_type": "code",
   "execution_count": 42,
   "id": "4c0633dc-2f73-4bd1-a1be-c391ed7758e1",
   "metadata": {},
   "outputs": [
    {
     "data": {
      "text/plain": [
       "128"
      ]
     },
     "execution_count": 42,
     "metadata": {},
     "output_type": "execute_result"
    }
   ],
   "source": [
    "X.nfev"
   ]
  },
  {
   "cell_type": "code",
   "execution_count": 43,
   "id": "0f8d3b21-8e16-4254-ad26-e456179a62d5",
   "metadata": {},
   "outputs": [
    {
     "data": {
      "text/plain": [
       "array([ 0.42261826,  0.42261578,  0.4226133 ,  0.42258845,  0.42256359,\n",
       "        0.42231342,  0.42206144,  0.41943691,  0.41660752,  0.41354986,\n",
       "        0.39233337,  0.35746687,  0.3517791 ,  0.34567933,  0.33924153,\n",
       "        0.33258804,  0.32013823,  0.30770941,  0.29545957,  0.27214172,\n",
       "        0.24974843,  0.1796761 ,  0.11998924,  0.07009445,  0.02758574,\n",
       "        0.00894695, -0.0078507 , -0.022994  , -0.03664111, -0.0593289 ,\n",
       "       -0.07787589, -0.09306356, -0.10552029, -0.12715401, -0.14078028,\n",
       "       -0.14929946, -0.15459889, -0.15794206, -0.1604791 , -0.16194636,\n",
       "       -0.16279913, -0.16328529, -0.16364869, -0.16378194, -0.16385261,\n",
       "       -0.16389013, -0.16388708, -0.16427198, -0.16430494])"
      ]
     },
     "execution_count": 43,
     "metadata": {},
     "output_type": "execute_result"
    }
   ],
   "source": [
    "or1[:,0]"
   ]
  },
  {
   "cell_type": "code",
   "execution_count": 44,
   "id": "b5a13da8-ee8e-4f12-9fa6-4641ddd114e2",
   "metadata": {},
   "outputs": [
    {
     "data": {
      "text/plain": [
       "array([0.00000000e+00, 6.64566011e-05, 1.32913282e-04, 7.97487083e-04,\n",
       "       1.46206885e-03, 8.10859170e-03, 1.47559235e-02, 8.12759138e-02,\n",
       "       1.47886713e-01, 2.14597851e-01, 5.67687295e-01, 9.26777490e-01,\n",
       "       9.72252880e-01, 1.01791208e+00, 1.06374478e+00, 1.10972121e+00,\n",
       "       1.19514198e+00, 1.28083871e+00, 1.36675420e+00, 1.53809623e+00,\n",
       "       1.70999049e+00, 2.29873217e+00, 2.88915012e+00, 3.47916137e+00,\n",
       "       4.08894158e+00, 4.40087888e+00, 4.71211345e+00, 5.02263377e+00,\n",
       "       5.33244181e+00, 5.93030722e+00, 6.52579100e+00, 7.11915427e+00,\n",
       "       7.71067210e+00, 9.12200349e+00, 1.05270707e+01, 1.19280561e+01,\n",
       "       1.33264161e+01, 1.47230970e+01, 1.65039979e+01, 1.82839138e+01,\n",
       "       2.00632598e+01, 2.18422928e+01, 2.48865291e+01, 2.79305689e+01,\n",
       "       3.09745508e+01, 3.40184999e+01, 4.47175475e+01, 5.54164428e+01,\n",
       "       5.59360645e+01])"
      ]
     },
     "execution_count": 44,
     "metadata": {},
     "output_type": "execute_result"
    }
   ],
   "source": [
    "pos1[:,2]"
   ]
  },
  {
   "cell_type": "code",
   "execution_count": null,
   "id": "d652f40c-e9e1-4770-863f-f70cad2aff59",
   "metadata": {},
   "outputs": [],
   "source": []
  },
  {
   "cell_type": "code",
   "execution_count": null,
   "id": "ba123cf1-5b05-47fb-885a-29a48929fd93",
   "metadata": {},
   "outputs": [],
   "source": []
  },
  {
   "cell_type": "code",
   "execution_count": null,
   "id": "9c63b6ed-782a-4155-bb4a-f0ccea3b95b3",
   "metadata": {},
   "outputs": [],
   "source": []
  },
  {
   "cell_type": "code",
   "execution_count": null,
   "id": "cd89c61a-06cd-4520-be31-ee51aecf6464",
   "metadata": {},
   "outputs": [],
   "source": []
  },
  {
   "cell_type": "code",
   "execution_count": null,
   "id": "538228e5-e27d-4bb4-93b1-25bb90d6218f",
   "metadata": {},
   "outputs": [],
   "source": []
  },
  {
   "cell_type": "code",
   "execution_count": null,
   "id": "bafaf4b2-48c8-407c-b6b3-c0802bb4f91a",
   "metadata": {},
   "outputs": [],
   "source": []
  },
  {
   "cell_type": "code",
   "execution_count": null,
   "id": "2d77237c-d036-4dd8-96dd-448bbe667acf",
   "metadata": {},
   "outputs": [],
   "source": []
  },
  {
   "cell_type": "code",
   "execution_count": null,
   "id": "88441b37-eb6d-4a5f-bac7-b386f877ed4b",
   "metadata": {},
   "outputs": [],
   "source": []
  },
  {
   "cell_type": "code",
   "execution_count": null,
   "id": "e6451819-2d2f-499c-8cf2-97f0897e720f",
   "metadata": {},
   "outputs": [],
   "source": []
  },
  {
   "cell_type": "code",
   "execution_count": null,
   "id": "2971f058-3c89-4e2c-80bd-771bd464a733",
   "metadata": {},
   "outputs": [],
   "source": []
  },
  {
   "cell_type": "code",
   "execution_count": null,
   "id": "df13a871-0aa2-49a3-a875-5f3ede6ce6d6",
   "metadata": {},
   "outputs": [],
   "source": []
  },
  {
   "cell_type": "code",
   "execution_count": null,
   "id": "4901c57b-44b3-487d-bbe6-f08e2e4bf70b",
   "metadata": {},
   "outputs": [],
   "source": []
  },
  {
   "cell_type": "code",
   "execution_count": null,
   "id": "adbff81e-3350-4dda-8831-d58865dec48a",
   "metadata": {},
   "outputs": [],
   "source": []
  },
  {
   "cell_type": "code",
   "execution_count": null,
   "id": "de28faa6-e65b-4d4b-9d23-08a8fd34b57d",
   "metadata": {},
   "outputs": [],
   "source": []
  }
 ],
 "metadata": {
  "kernelspec": {
   "display_name": "Python 3 (ipykernel)",
   "language": "python",
   "name": "python3"
  },
  "language_info": {
   "codemirror_mode": {
    "name": "ipython",
    "version": 3
   },
   "file_extension": ".py",
   "mimetype": "text/x-python",
   "name": "python",
   "nbconvert_exporter": "python",
   "pygments_lexer": "ipython3",
   "version": "3.10.2"
  }
 },
 "nbformat": 4,
 "nbformat_minor": 5
}
