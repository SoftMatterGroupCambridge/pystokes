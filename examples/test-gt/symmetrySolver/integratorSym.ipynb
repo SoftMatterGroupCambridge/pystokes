{
 "cells": [
  {
   "cell_type": "code",
   "execution_count": 1,
   "id": "5ea0c3ca-ea9b-48e6-b764-e9c35a71f626",
   "metadata": {},
   "outputs": [],
   "source": [
    "%matplotlib inline\n",
    "from solveSym import linearSolve_krylov as linearSolve\n",
    "import numpy as np, matplotlib.pyplot as plt\n",
    "import pystokes"
   ]
  },
  {
   "cell_type": "code",
   "execution_count": 2,
   "id": "ecbf7872-d544-4d59-b3fe-cd1ab4237802",
   "metadata": {},
   "outputs": [],
   "source": [
    "def rotation(vector,alpha, beta, gamma):\n",
    "    rotmat = np.array([[np.cos(beta)*np.cos(gamma), np.sin(alpha)*np.sin(beta)*np.cos(gamma) \n",
    "                        - np.cos(alpha)*np.sin(gamma), np.cos(alpha)*np.sin(beta)*np.cos(gamma)\n",
    "                        + np.sin(alpha)*np.sin(gamma)],\n",
    "                       [np.cos(beta)*np.sin(gamma),\n",
    "                        np.sin(alpha)*np.sin(beta)*np.sin(gamma) + np.cos(alpha)*np.cos(gamma),\n",
    "                        np.cos(alpha)*np.sin(beta)*np.sin(gamma) - np.sin(alpha)*np.cos(gamma)],\n",
    "                       [-np.sin(beta),\n",
    "                        np.sin(alpha)*np.cos(beta),\n",
    "                        np.cos(alpha)*np.cos(beta)]])\n",
    "    return np.dot(rotmat, vector)"
   ]
  },
  {
   "cell_type": "code",
   "execution_count": 3,
   "id": "1b6243c6-c5e2-4038-adeb-ece207c276e8",
   "metadata": {},
   "outputs": [],
   "source": [
    "# particle radius, self-propulsion speed, number and fluid viscosity\n",
    "b, Np, eta = 1.0, 2, 0.1\n",
    "\n",
    "## squirmer\n",
    "D0  = 1.0      \n",
    "S0  = 3/50*D0    # beta = 1 (positive beta is a puller (negative V2s)) - not sure which sign!"
   ]
  },
  {
   "cell_type": "code",
   "execution_count": 4,
   "id": "36559b20-ed76-4701-a56f-16d30a3ee2dd",
   "metadata": {},
   "outputs": [],
   "source": [
    "## initialise \n",
    "#initial position\n",
    "r = np.array([-1.5,1.5, 0.,0. , 0., 0.])\n",
    "\n",
    "#initial orientation\n",
    "p = np.array([0., 0., 0.,0., 1.,1.])\n",
    "\n",
    "##rotate particles 50deg towards each other\n",
    "p[::Np] = rotation(p[::Np], 0., 25*2*np.pi/360, 0.)\n",
    "p[1::Np] = rotation(p[1::Np], 0., -25*2*np.pi/360, 0.)\n",
    "\n",
    "\n",
    "# initial slip modes\n",
    "S = np.zeros(5*Np)\n",
    "D = np.zeros(3*Np)\n",
    "for i in range(Np):\n",
    "    ## S in order: xx, xy, xz, yx, yy, yz, zx, zy, zz\n",
    "    S[i]       = S0*(3*p[i]*p[i] -1.)\n",
    "    S[i + Np]  = S0*(3*p[i]*p[i+Np])\n",
    "    S[i + 2*Np]= S0*(3*p[i]*p[i+2*Np])\n",
    "    S[i + 3*Np]= S0*(3*p[i+Np]*p[i+Np] - 1.)\n",
    "    S[i + 4*Np]= S0*(3*p[i+Np]*p[i+2*Np])\n",
    "    \n",
    "    D[i]       = D0*p[i]\n",
    "    D[i+Np]    = D0*p[i+Np]\n",
    "    D[i+2*Np]  = D0*p[i+2*Np]"
   ]
  },
  {
   "cell_type": "code",
   "execution_count": 5,
   "id": "a743ca23-ca83-41f2-b9d7-fd206cc1deeb",
   "metadata": {},
   "outputs": [],
   "source": [
    "def rhs(rp): ##change this to give polarisation directly\n",
    "    \"\"\"\n",
    "    Function that gives rhs for equations dr/dt=v and dp/dt= o x p\n",
    "    \"\"\"\n",
    "    \n",
    "    #position and angle theta (relative to initial angle)\n",
    "    r = rp[0:3*Np]; p = rp[3*Np:6*Np]\n",
    "    \n",
    "    ## make sure orientations remain unit length\n",
    "    norm_p1 = np.dot(p[::Np],p[::Np])\n",
    "    norm_p2 = np.dot(p[1::Np],p[1::Np])\n",
    "    \n",
    "    p[::Np] = p[::Np]/np.sqrt(norm_p1)\n",
    "    p[1::Np] = p[1::Np]/np.sqrt(norm_p2)\n",
    "    \n",
    "    \n",
    "    F, T, v, o = np.zeros(3*Np), np.zeros(3*Np), np.zeros(3*Np), np.zeros(3*Np)\n",
    "    \n",
    "    for i in range(Np):          \n",
    "        F[i]      = 0.0\n",
    "        F[i+Np]   = 0.0 \n",
    "        F[i+2*Np] = 0.0 \n",
    "        \n",
    "        T[i]      = 0.0\n",
    "        T[i+Np]   = 0.0\n",
    "        T[i+2*Np] = 0.0\n",
    "        \n",
    "        v[i]      = 0.0\n",
    "        v[i+Np]   = 0.0\n",
    "        v[i+2*Np] = 0.0\n",
    "        \n",
    "        o[i]      = 0.0\n",
    "        o[i+Np]   = 0.0\n",
    "        o[i+2*Np] = 0.0\n",
    "        \n",
    "        \n",
    "        S[i]       = S0*(3*p[i]*p[i] -1.)\n",
    "        S[i + Np]  = S0*(3*p[i]*p[i+Np])\n",
    "        S[i + 2*Np]= S0*(3*p[i]*p[i+2*Np])\n",
    "        S[i + 3*Np]= S0*(3*p[i+Np]*p[i+Np] - 1.)\n",
    "        S[i + 4*Np]= S0*(3*p[i+Np]*p[i+2*Np])\n",
    "        \n",
    "        D[i]       = D0*p[i]\n",
    "        D[i+Np]    = D0*p[i+Np]\n",
    "        D[i+2*Np]  = D0*p[i+2*Np]\n",
    "\n",
    "    \n",
    "    #update repulsive force at position r\n",
    "    forces.lennardJones(F, r, lje=5.0, ljr=2.1*b)\n",
    "    \n",
    "    #update velocity and angular velocity at r, acted on by F and T, and with slip modes S an D\n",
    "    ls.RBM(v, o, r, F, T, S, D)\n",
    "    \n",
    "    dpdt = np.zeros(3*Np)\n",
    "    \n",
    "    for i in range(Np):\n",
    "        dpdt[i]      = o[i+Np]*p[i+2*Np] - o[i+2*Np]*p[i+Np]    \n",
    "        dpdt[i+Np]   = o[i+2*Np]*p[i   ] - o[i     ]*p[i+2*Np]  \n",
    "        dpdt[i+2*Np] = o[i     ]*p[i+Np] - o[i+Np  ]*p[i]\n",
    "        \n",
    "\n",
    "    \n",
    "    #return velocity and angular velocity cross orientation as right-hand side\n",
    "    return np.concatenate( (v,dpdt) )"
   ]
  },
  {
   "cell_type": "code",
   "execution_count": 6,
   "id": "7b7c0a9b-b5c9-462c-a19e-5fe8f9789fcc",
   "metadata": {},
   "outputs": [],
   "source": [
    "def simulate(rth0, Tf, Npts, rhs, integrator='solve_ivp', Ti=0, maxNumSteps=100000, **kwargs):\n",
    "    \n",
    "    def dxdtEval(rth,t):\n",
    "        return rhs(rth)\n",
    "    \n",
    "    if integrator=='BDF': ## weird handling for this method\n",
    "        from scipy.integrate import BDF\n",
    "        X = BDF(lambda t, xt: dxdtEval(xt,t), Ti, rth0, Tf)\n",
    "        \n",
    "    if integrator=='odeint':\n",
    "        from scipy.integrate import odeint\n",
    "        time_points=np.linspace(Ti, Tf, Npts+1);\n",
    "        X = odeint(dxdtEval, rth0, time_points, mxstep=maxNumSteps, **kwargs)\n",
    "        \n",
    "    if integrator=='solve_ivp':\n",
    "        from scipy.integrate import solve_ivp\n",
    "        time_points=np.linspace(Ti, Tf, Npts+1)                                                          \n",
    "        X = solve_ivp(lambda t, xt: dxdtEval(xt,t), [0,Tf], rth0, \n",
    "                         t_eval=None, **kwargs)\n",
    "        \n",
    "    return X"
   ]
  },
  {
   "cell_type": "code",
   "execution_count": 7,
   "id": "a1bbce4f-bfde-411e-a40b-d3f37138cd60",
   "metadata": {},
   "outputs": [
    {
     "name": "stdout",
     "output_type": "stream",
     "text": [
      "CPU times: user 1min 7s, sys: 105 ms, total: 1min 7s\n",
      "Wall time: 45.3 s\n"
     ]
    },
    {
     "data": {
      "text/plain": [
       "'The solver successfully reached the end of the integration interval.'"
      ]
     },
     "execution_count": 7,
     "metadata": {},
     "output_type": "execute_result"
    }
   ],
   "source": [
    "%%time\n",
    "#initiallize system and forces\n",
    "ls = linearSolve(b, Np, eta)\n",
    "forces  = pystokes.forceFields.Forces(particles=Np)\n",
    "\n",
    "#simulate the resulting system\n",
    "rp0 = np.concatenate((r,p))\n",
    "Tf = 500.\n",
    "Npts = 10\n",
    "\n",
    "X = simulate(rp0, Tf, Npts, rhs, integrator='solve_ivp', Ti=0, maxNumSteps=1000,\n",
    "             method='BDF')\n",
    "X.message"
   ]
  },
  {
   "cell_type": "code",
   "execution_count": 8,
   "id": "be84f876-653b-427c-9095-8062b2a013f2",
   "metadata": {},
   "outputs": [],
   "source": [
    "pos = X.y.T[:,0:3*Np]\n",
    "times = X.t"
   ]
  },
  {
   "cell_type": "code",
   "execution_count": 9,
   "id": "3f196502-7628-4689-8f38-15ee285f72d7",
   "metadata": {},
   "outputs": [],
   "source": [
    "pos1 = pos[:,::Np]\n",
    "pos2 = pos[:,1::Np]"
   ]
  },
  {
   "cell_type": "code",
   "execution_count": 10,
   "id": "314d603e-9a44-420a-9f74-c339302a69a7",
   "metadata": {},
   "outputs": [],
   "source": [
    "plt.rcParams.update({'font.size': 17})"
   ]
  },
  {
   "cell_type": "code",
   "execution_count": 11,
   "id": "7eebe082-f07d-4ef9-9d6b-0094dad3e589",
   "metadata": {},
   "outputs": [
    {
     "data": {
      "image/png": "[encoded data removed]",
      "text/plain": [
       "<Figure size 576x792 with 1 Axes>"
      ]
     },
     "metadata": {
      "needs_background": "light"
     },
     "output_type": "display_data"
    }
   ],
   "source": [
    "##x-y plot like in Ishikawa\n",
    "plt.figure(figsize=(8,11))\n",
    "plt.plot(pos1[:,0], pos1[:,2], label='particle 1', lw=2)\n",
    "plt.plot(pos2[:,0], pos2[:,2], label='particle 2', lw=2)\n",
    "plt.xlabel('x')\n",
    "plt.ylabel('z')\n",
    "plt.ylim(0,30)\n",
    "plt.xlim(-10,10)\n",
    "plt.legend()\n",
    "plt.show()"
   ]
  },
  {
   "cell_type": "code",
   "execution_count": 12,
   "id": "d0da3f56-2e2e-4140-a959-d390b0a3ce55",
   "metadata": {},
   "outputs": [
    {
     "data": {
      "text/plain": [
       "(2.0501026091577073, 20.018785864714502)"
      ]
     },
     "execution_count": 12,
     "metadata": {},
     "output_type": "execute_result"
    }
   ],
   "source": [
    "## minimum distance between the two particles\n",
    "rmin = np.amin(np.sqrt((pos1[:,0]-pos2[:,0])**2 + (pos1[:,1]-pos2[:,1])**2 + (pos1[:,2]-pos2[:,2])**2))\n",
    "rmax = np.amax(np.sqrt((pos1[:,0]-pos2[:,0])**2 + (pos1[:,1]-pos2[:,1])**2 + (pos1[:,2]-pos2[:,2])**2))\n",
    "rmin, rmax"
   ]
  },
  {
   "cell_type": "code",
   "execution_count": 13,
   "id": "3424d28f-af29-4553-8180-d495ddec9255",
   "metadata": {},
   "outputs": [
    {
     "data": {
      "text/plain": [
       "(array([17]),)"
      ]
     },
     "execution_count": 13,
     "metadata": {},
     "output_type": "execute_result"
    }
   ],
   "source": [
    "minIndex = np.where(np.sqrt((pos1[:,0]-pos2[:,0])**2 + (pos1[:,1]-pos2[:,1])**2 + (pos1[:,2]-pos2[:,2])**2)==rmin)\n",
    "#minIndex[0][0] -= 18\n",
    "xik,yik,zik = (pos1[minIndex,:]-pos2[minIndex,:])[0][0]\n",
    "minIndex"
   ]
  },
  {
   "cell_type": "code",
   "execution_count": 14,
   "id": "81b91fef-0a57-43ce-ad74-186aba28c1f9",
   "metadata": {},
   "outputs": [
    {
     "data": {
      "text/plain": [
       "(-2.0501026091577073, 2.49525622396766e-10, 1.8649415345350917e-10)"
      ]
     },
     "execution_count": 14,
     "metadata": {},
     "output_type": "execute_result"
    }
   ],
   "source": [
    "xik,yik,zik ##they go out of plane? not anymore! "
   ]
  },
  {
   "cell_type": "code",
   "execution_count": 15,
   "id": "5afba71a-eda5-4b41-b75e-b161e413f366",
   "metadata": {},
   "outputs": [],
   "source": [
    "##why does Krylov solver go so wrong? seems to introduce numerical error. \n",
    "\n",
    "## Try symmetry factor corrected matrix elements with a direct solver? "
   ]
  },
  {
   "cell_type": "code",
   "execution_count": 16,
   "id": "894bb98c-f67f-4b0c-abff-6a3c8f40c962",
   "metadata": {},
   "outputs": [
    {
     "name": "stdout",
     "output_type": "stream",
     "text": [
      "[ 0.00000000e+00  0.00000000e+00  0.00000000e+00  0.00000000e+00\n",
      "  0.00000000e+00  0.00000000e+00  0.00000000e+00  0.00000000e+00\n",
      "  0.00000000e+00  8.88178420e-16  1.04360964e-14  1.73194792e-14\n",
      " -1.14797061e-13 -1.32560629e-11 -2.50492960e-11 -3.06408232e-11\n",
      " -6.07307538e-10 -9.02720787e-10 -1.00415631e-09 -4.15648826e-09\n",
      " -6.27697383e-09 -1.15270424e-08 -1.55223081e-08 -1.93901508e-08\n",
      " -4.12203509e-08 -5.04330246e-08 -4.47452559e-08 -4.03208367e-08\n",
      " -4.20967510e-08 -5.88291338e-08 -8.97131178e-08 -1.43403244e-07\n",
      " -2.20120167e-07 -2.78909586e-07 -4.21803372e-07 -9.12648267e-07\n",
      " -1.38605091e-06 -1.51472159e-06 -1.44834050e-06 -1.35064759e-06\n",
      " -1.20403903e-06 -1.07938640e-06 -9.63112173e-07 -7.24564399e-07\n",
      " -4.75588313e-07 -2.18158803e-07  4.01985791e-08  3.96565250e-07\n",
      "  7.53005282e-07  1.11059482e-06  1.81617011e-06  2.52175601e-06\n",
      "  3.22332433e-06  3.92227969e-06  4.18364457e-06]\n"
     ]
    }
   ],
   "source": [
    "print(pos1[:,0] + pos2[:,0])"
   ]
  },
  {
   "cell_type": "code",
   "execution_count": 17,
   "id": "506c0c13-64f3-4534-a48f-2c1a5e48d785",
   "metadata": {},
   "outputs": [],
   "source": [
    "orientations = X.y.T[:,3*Np:6*Np]\n",
    "or1 = orientations[:,::Np]\n",
    "or2 = orientations[:,1::Np]"
   ]
  },
  {
   "cell_type": "code",
   "execution_count": 18,
   "id": "be8a3111-ec95-499c-a536-8ce4aff37aa8",
   "metadata": {},
   "outputs": [
    {
     "data": {
      "text/plain": [
       "array([ 0.00000000e+00,  0.00000000e+00,  0.00000000e+00,  0.00000000e+00,\n",
       "        0.00000000e+00,  0.00000000e+00,  0.00000000e+00,  0.00000000e+00,\n",
       "        1.11022302e-16,  1.49880108e-15,  1.01030295e-14,  1.75415238e-14,\n",
       "        8.66695604e-13,  1.03916875e-13, -6.83508805e-13, -2.73758793e-12,\n",
       "       -2.41962006e-11, -3.57598950e-11, -3.95586341e-11, -2.22425744e-10,\n",
       "       -4.58621641e-10, -1.09746137e-09, -1.20876584e-09, -1.05387585e-09,\n",
       "       -1.50542148e-09, -3.73534192e-09, -6.25514441e-09, -8.37941595e-09,\n",
       "       -1.04826204e-08, -1.75423650e-08, -2.80451770e-08, -3.66685699e-08,\n",
       "       -4.13058319e-08, -4.09171395e-08, -3.25539425e-08,  7.52013229e-09,\n",
       "        4.95145225e-08,  6.56904015e-08,  6.64604563e-08,  6.42370811e-08,\n",
       "        6.30895567e-08,  6.31688982e-08,  6.37090121e-08,  6.52397255e-08,\n",
       "        6.60537159e-08,  6.62890779e-08,  6.64135869e-08,  6.66810170e-08,\n",
       "        6.69510283e-08,  6.71719295e-08,  6.71909243e-08,  6.68907997e-08,\n",
       "        6.66519992e-08,  6.65945116e-08,  6.66063892e-08])"
      ]
     },
     "execution_count": 18,
     "metadata": {},
     "output_type": "execute_result"
    }
   ],
   "source": [
    "or1[:,0] + or2[:,0]"
   ]
  },
  {
   "cell_type": "code",
   "execution_count": 19,
   "id": "bde5b510-6880-4384-90c6-cb245d563dc5",
   "metadata": {},
   "outputs": [
    {
     "data": {
      "text/plain": [
       "array([ 0.00000000e+00,  0.00000000e+00,  0.00000000e+00,  0.00000000e+00,\n",
       "        0.00000000e+00,  0.00000000e+00,  0.00000000e+00,  1.11022302e-16,\n",
       "        2.22044605e-16,  3.33066907e-16, -7.77156117e-15, -8.32667268e-15,\n",
       "       -5.67990099e-13, -2.26807462e-12,  3.51163543e-13,  1.04261044e-12,\n",
       "        9.16788867e-12,  1.11847198e-11,  1.40175649e-11,  2.67235234e-10,\n",
       "        3.83898469e-10, -7.48257900e-10, -1.04510400e-09, -1.81329074e-09,\n",
       "        2.68039402e-09,  2.04196926e-09,  1.56922997e-09, -2.07981632e-10,\n",
       "        1.31813116e-10, -1.22808763e-09, -2.81669121e-09, -4.81350870e-09,\n",
       "       -5.69941705e-09, -5.63145153e-09, -4.49560611e-09,  8.54880722e-10,\n",
       "        6.54088805e-09,  8.50702520e-09,  8.42559611e-09,  7.97653987e-09,\n",
       "        7.57602003e-09,  7.35517869e-09,  7.24661209e-09,  7.18676496e-09,\n",
       "        7.12401216e-09,  7.02980263e-09,  6.95518454e-09,  6.90314583e-09,\n",
       "        6.87719137e-09,  6.86235890e-09,  6.83602086e-09,  6.76823231e-09,\n",
       "        6.70375266e-09,  6.68124622e-09,  6.68738886e-09])"
      ]
     },
     "execution_count": 19,
     "metadata": {},
     "output_type": "execute_result"
    }
   ],
   "source": [
    "or1[:,2] - or2[:,2]"
   ]
  },
  {
   "cell_type": "code",
   "execution_count": 20,
   "id": "4c0633dc-2f73-4bd1-a1be-c391ed7758e1",
   "metadata": {},
   "outputs": [
    {
     "data": {
      "text/plain": [
       "143"
      ]
     },
     "execution_count": 20,
     "metadata": {},
     "output_type": "execute_result"
    }
   ],
   "source": [
    "X.nfev"
   ]
  },
  {
   "cell_type": "code",
   "execution_count": null,
   "id": "0f8d3b21-8e16-4254-ad26-e456179a62d5",
   "metadata": {},
   "outputs": [],
   "source": []
  },
  {
   "cell_type": "code",
   "execution_count": null,
   "id": "b8be07c3-5db5-46b4-9720-ba8894f5e737",
   "metadata": {},
   "outputs": [],
   "source": []
  },
  {
   "cell_type": "code",
   "execution_count": null,
   "id": "b5a13da8-ee8e-4f12-9fa6-4641ddd114e2",
   "metadata": {},
   "outputs": [],
   "source": []
  },
  {
   "cell_type": "code",
   "execution_count": null,
   "id": "d652f40c-e9e1-4770-863f-f70cad2aff59",
   "metadata": {},
   "outputs": [],
   "source": []
  },
  {
   "cell_type": "code",
   "execution_count": null,
   "id": "ba123cf1-5b05-47fb-885a-29a48929fd93",
   "metadata": {},
   "outputs": [],
   "source": []
  },
  {
   "cell_type": "code",
   "execution_count": null,
   "id": "9c63b6ed-782a-4155-bb4a-f0ccea3b95b3",
   "metadata": {},
   "outputs": [],
   "source": []
  },
  {
   "cell_type": "code",
   "execution_count": null,
   "id": "cd89c61a-06cd-4520-be31-ee51aecf6464",
   "metadata": {},
   "outputs": [],
   "source": []
  },
  {
   "cell_type": "code",
   "execution_count": null,
   "id": "538228e5-e27d-4bb4-93b1-25bb90d6218f",
   "metadata": {},
   "outputs": [],
   "source": []
  },
  {
   "cell_type": "code",
   "execution_count": null,
   "id": "bafaf4b2-48c8-407c-b6b3-c0802bb4f91a",
   "metadata": {},
   "outputs": [],
   "source": []
  },
  {
   "cell_type": "code",
   "execution_count": null,
   "id": "2d77237c-d036-4dd8-96dd-448bbe667acf",
   "metadata": {},
   "outputs": [],
   "source": []
  },
  {
   "cell_type": "code",
   "execution_count": null,
   "id": "88441b37-eb6d-4a5f-bac7-b386f877ed4b",
   "metadata": {},
   "outputs": [],
   "source": []
  },
  {
   "cell_type": "code",
   "execution_count": null,
   "id": "e6451819-2d2f-499c-8cf2-97f0897e720f",
   "metadata": {},
   "outputs": [],
   "source": []
  },
  {
   "cell_type": "code",
   "execution_count": null,
   "id": "2971f058-3c89-4e2c-80bd-771bd464a733",
   "metadata": {},
   "outputs": [],
   "source": []
  },
  {
   "cell_type": "code",
   "execution_count": null,
   "id": "df13a871-0aa2-49a3-a875-5f3ede6ce6d6",
   "metadata": {},
   "outputs": [],
   "source": []
  },
  {
   "cell_type": "code",
   "execution_count": null,
   "id": "4901c57b-44b3-487d-bbe6-f08e2e4bf70b",
   "metadata": {},
   "outputs": [],
   "source": []
  },
  {
   "cell_type": "code",
   "execution_count": null,
   "id": "adbff81e-3350-4dda-8831-d58865dec48a",
   "metadata": {},
   "outputs": [],
   "source": []
  },
  {
   "cell_type": "code",
   "execution_count": null,
   "id": "de28faa6-e65b-4d4b-9d23-08a8fd34b57d",
   "metadata": {},
   "outputs": [],
   "source": []
  }
 ],
 "metadata": {
  "kernelspec": {
   "display_name": "Python 3 (ipykernel)",
   "language": "python",
   "name": "python3"
  },
  "language_info": {
   "codemirror_mode": {
    "name": "ipython",
    "version": 3
   },
   "file_extension": ".py",
   "mimetype": "text/x-python",
   "name": "python",
   "nbconvert_exporter": "python",
   "pygments_lexer": "ipython3",
   "version": "3.10.2"
  }
 },
 "nbformat": 4,
 "nbformat_minor": 5
}
