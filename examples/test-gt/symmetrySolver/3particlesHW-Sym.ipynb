{
 "cells": [
  {
   "cell_type": "markdown",
   "id": "1d604b47-21fb-4a94-89f7-f7bf408c0a42",
   "metadata": {},
   "source": [
    "In this notebook we compare the muTT and muRT for three spheres sedimenting in a triangle, perpendicular to the plane of the triangle\n",
    "\n",
    "    - Superposition/Pystokes\n",
    "    - 2s (2s - similar to FTS Stokesian dynamics, but without adhoc lubrication effects)\n",
    "    - 2s, 3t (3t)\n",
    "    - 2s, 3t, 3a (3a)\n",
    "    - 2s, 3t, 3a, 3s (long-ranged)\n",
    "\n",
    "Comparison to **Helen J Wilson (2013)** of three (freely rotating) spheres in a triangle, method based on Lamb's solution and method of reflections (MR) - convergence, so in principle exact. Good benchmark"
   ]
  },
  {
   "cell_type": "code",
   "execution_count": 1,
   "id": "124825a9-00f7-4014-9383-6a49788e521d",
   "metadata": {},
   "outputs": [],
   "source": [
    "%matplotlib inline\n",
    "import numpy as np, matplotlib.pyplot as plt\n",
    "\n",
    "import pystokes\n",
    "from solveSym import linearSolve_krylov as Full"
   ]
  },
  {
   "cell_type": "code",
   "execution_count": 2,
   "id": "7d9a91c4-163f-4cc5-b2a5-10654e96586f",
   "metadata": {},
   "outputs": [],
   "source": [
    "PI = 3.14159265359\n",
    "\n",
    "# particle radius, self-propulsion speed, number and fluid viscosity\n",
    "b, Np, eta = 1.0, 3, 0.1\n",
    "\n",
    "## passive particle\n",
    "D0  = 0.      \n",
    "S0  = 0.\n",
    "\n",
    "## normalising factor: one-particle mobility\n",
    "mu0 = 1./(6*PI*eta*b)"
   ]
  },
  {
   "cell_type": "code",
   "execution_count": 3,
   "id": "970f9095-e7da-406b-b597-e2063b31c28f",
   "metadata": {},
   "outputs": [],
   "source": [
    "rHW = np.array([2.01, 2.05, 2.10, 2.15, 2.20, 2.25, 2.30, 2.40, 2.50, 2.60, 2.70, 2.80, 2.90, 3.00])\n",
    "\n",
    "muTT_HW = np.array([1.79223228, 1.79070892, 1.77826951, 1.76311004, 1.74703222, 1.73072508, 1.71452988, 1.68314045, 1.65356957, 1.62599574, 1.60039150,\n",
    "                    1.57664602, 1.55461831, 1.53416156])\n",
    "muRT_HW = np.array([0.159607490, 0.195478184, 0.209731929, 0.214756269, 0.215412007, 0.213577673, 0.210224103, 0.201041187, 0.190411103, 0.179481457, 0.168801210,\n",
    "                    0.158630515, 0.149081378, 0.140187608])"
   ]
  },
  {
   "cell_type": "code",
   "execution_count": 4,
   "id": "c673c0d2-a914-424b-89a8-2947cfaa633e",
   "metadata": {},
   "outputs": [],
   "source": [
    "## Force = 6*pi*eta*b in HW"
   ]
  },
  {
   "cell_type": "markdown",
   "id": "8d1d80f7-833c-4c8c-93bb-1c2356c6610f",
   "metadata": {
    "tags": []
   },
   "source": [
    "### Pystokes"
   ]
  },
  {
   "cell_type": "code",
   "execution_count": 5,
   "id": "c1da6baa-840e-4bc2-95ea-f385cf6edd6a",
   "metadata": {},
   "outputs": [],
   "source": [
    "pstk = pystokes.unbounded.Rbm(b, Np, eta)\n",
    "\n",
    "muTT_pstk = np.zeros(rHW.shape[0])\n",
    "muRT_pstk = np.zeros(rHW.shape[0])\n",
    "\n",
    "r, F, T, v, o = np.zeros(3*Np), np.zeros(3*Np), np.zeros(3*Np), np.zeros(3*Np), np.zeros(3*Np)\n",
    " \n",
    "## perpendicular\n",
    "k=0\n",
    "for rHW_ in rHW:\n",
    "    # triangle\n",
    "    # x components\n",
    "    r[0] = -rHW_/2.\n",
    "    r[1] =  rHW_/2.\n",
    "    r[2] =  0.\n",
    "    \n",
    "    # z components\n",
    "    r[0+2*Np] =  np.sqrt(3)*rHW_/6.\n",
    "    r[1+2*Np] =  np.sqrt(3)*rHW_/6.\n",
    "    r[2+2*Np] = -np.sqrt(3)*rHW_/3.\n",
    "    \n",
    "    for i in range(Np):\n",
    "        #force perpendicular to triangle - along y axis\n",
    "        F[i]      = 0.0\n",
    "        F[i+Np]   = 1.0 \n",
    "        F[i+2*Np] = 0.0\n",
    "        \n",
    "        v[i]      = 0.0\n",
    "        v[i+Np]   = 0.0\n",
    "        v[i+2*Np] = 0.0\n",
    "        \n",
    "        o[i]      = 0.0\n",
    "        o[i+Np]   = 0.0\n",
    "        o[i+2*Np] = 0.0\n",
    "        \n",
    "    pstk.mobilityTT(v,r,F)\n",
    "    pstk.mobilityTR(v,r,T)\n",
    "    pstk.mobilityRT(o,r,F)\n",
    "    pstk.mobilityRR(o,r,T)\n",
    "        \n",
    "    muTT_pstk[k] = v[0+Np]/mu0 ## force is unity, so raw mobility is just velocity. Normalised by one-particle mobility, v[Np=3] is vy of particle one\n",
    "    muRT_pstk[k] = np.abs(o[2]/mu0) ## due to symmetry, use angular velocity of particle 3, which is purely in x direction\n",
    "    k += 1"
   ]
  },
  {
   "cell_type": "code",
   "execution_count": 6,
   "id": "b817cc88-2f54-45ae-87c7-b96f78e6b8ef",
   "metadata": {},
   "outputs": [
    {
     "data": {
      "text/plain": [
       "array([1.0430636 , 1.03187192, 1.02474085, 1.0199559 , 1.01642804,\n",
       "       1.0137128 , 1.01156793, 1.00843513, 1.00630783, 1.00481127,\n",
       "       1.00372991, 1.00293167, 1.00233187, 1.0018743 ])"
      ]
     },
     "execution_count": 6,
     "metadata": {},
     "output_type": "execute_result"
    }
   ],
   "source": [
    "muTT_pstk/muTT_HW"
   ]
  },
  {
   "cell_type": "code",
   "execution_count": 7,
   "id": "42d69d19-f142-493e-8528-45c30ee9eaaf",
   "metadata": {},
   "outputs": [
    {
     "data": {
      "text/plain": [
       "array([2.01454284, 1.58130583, 1.40449032, 1.30857651, 1.24596724,\n",
       "       1.201437  , 1.16810992, 1.12179724, 1.09156501, 1.07066994,\n",
       "       1.05564722, 1.04452561, 1.03610196, 1.0296029 ])"
      ]
     },
     "execution_count": 7,
     "metadata": {},
     "output_type": "execute_result"
    }
   ],
   "source": [
    "muRT_pstk/muRT_HW"
   ]
  },
  {
   "cell_type": "markdown",
   "id": "50b0d299-bab8-4d1d-9fe5-7b80e540bc29",
   "metadata": {},
   "source": [
    "______________\n",
    "\n",
    "## Full solver (2s, 3t, 3a, 3s)"
   ]
  },
  {
   "cell_type": "code",
   "execution_count": 8,
   "id": "e31047b4-2379-4f37-aeb3-988d2449ae65",
   "metadata": {},
   "outputs": [
    {
     "name": "stdout",
     "output_type": "stream",
     "text": [
      "[ 0.          0.26208325  0.          0.         -0.14979919  0.\n",
      "  0.          0.          0.02451516  0.          0.01415447  0.01234995\n",
      "  0.          0.          0.02679353  0.          0.         -0.04311711\n",
      " -0.04286328  0.          0.         -0.26208325  0.          0.\n",
      " -0.14979919  0.          0.          0.         -0.02451516  0.\n",
      "  0.01415447 -0.01234995  0.          0.          0.02679353  0.\n",
      "  0.          0.04311711 -0.04286328  0.          0.          0.\n",
      "  0.          0.          0.30375981  0.          0.          0.\n",
      "  0.          0.         -0.02852737  0.          0.          0.\n",
      " -0.05148563  0.          0.          0.         -0.0826825   0.        ]\n",
      "[ 0.          0.24527513  0.          0.         -0.14014763  0.\n",
      "  0.          0.          0.02537128  0.          0.01464788  0.01276613\n",
      "  0.          0.          0.02428565  0.          0.         -0.03897513\n",
      " -0.03797072  0.          0.         -0.24527513  0.          0.\n",
      " -0.14014763  0.          0.          0.         -0.02537128  0.\n",
      "  0.01464788 -0.01276613  0.          0.          0.02428565  0.\n",
      "  0.          0.03897513 -0.03797072  0.          0.          0.\n",
      "  0.          0.          0.28427163  0.          0.          0.\n",
      "  0.          0.         -0.02948312  0.          0.          0.\n",
      " -0.04658531  0.          0.          0.         -0.07403074  0.        ]\n",
      "[ 0.          0.22518419  0.          0.         -0.12863008  0.\n",
      "  0.          0.          0.02606217  0.          0.01504618  0.01309829\n",
      "  0.          0.          0.02117041  0.          0.         -0.03385254\n",
      " -0.0323518   0.          0.         -0.22518419  0.          0.\n",
      " -0.12863008  0.          0.          0.         -0.02606217  0.\n",
      "  0.01504618 -0.01309829  0.          0.          0.02117041  0.\n",
      "  0.          0.03385254 -0.0323518   0.          0.          0.\n",
      "  0.          0.          0.2609692   0.          0.          0.\n",
      "  0.          0.         -0.03024531  0.          0.          0.\n",
      " -0.0405205   0.          0.          0.         -0.06375588  0.        ]\n",
      "[ 0.          0.20634004  0.          0.         -0.11784918  0.\n",
      "  0.          0.          0.02637824  0.          0.01522939  0.01324472\n",
      "  0.          0.          0.01820458  0.          0.         -0.02899928\n",
      " -0.02732509  0.          0.         -0.20634004  0.          0.\n",
      " -0.11784918  0.          0.          0.         -0.02637824  0.\n",
      "  0.01522939 -0.01324472  0.          0.          0.01820458  0.\n",
      "  0.          0.02899928 -0.02732509  0.          0.          0.\n",
      "  0.          0.          0.23912154  0.          0.          0.\n",
      "  0.          0.         -0.03058193  0.          0.          0.\n",
      " -0.03477145  0.          0.          0.         -0.05431355  0.        ]\n",
      "[ 0.          0.18888058  0.          0.         -0.10787274  0.\n",
      "  0.          0.          0.026381    0.          0.01523178  0.01323628\n",
      "  0.          0.          0.01547145  0.          0.         -0.0245407\n",
      " -0.02289097  0.          0.         -0.18888058  0.          0.\n",
      " -0.10787274  0.          0.          0.         -0.026381    0.\n",
      "  0.01523178 -0.01323628  0.          0.          0.01547145  0.\n",
      "  0.          0.0245407  -0.02289097  0.          0.          0.\n",
      "  0.          0.          0.21888184  0.          0.          0.\n",
      "  0.          0.         -0.03056171  0.          0.          0.\n",
      " -0.02948424  0.          0.          0.         -0.04581467  0.        ]\n",
      "[ 0.          0.1728475   0.          0.         -0.09871851  0.\n",
      "  0.          0.          0.02613144  0.          0.01508831  0.01310319\n",
      "  0.          0.          0.01300786  0.          0.         -0.02053467\n",
      " -0.01902013  0.          0.         -0.1728475   0.          0.\n",
      " -0.09871851  0.          0.          0.         -0.02613144  0.\n",
      "  0.01508831 -0.01310319  0.          0.          0.01300786  0.\n",
      "  0.          0.02053467 -0.01902013  0.          0.          0.\n",
      "  0.          0.          0.2002925   0.          0.          0.\n",
      "  0.          0.         -0.03025451  0.          0.          0.\n",
      " -0.02472684  0.          0.          0.         -0.03828434  0.        ]\n",
      "[ 0.          0.15821236  0.          0.         -0.09037155  0.\n",
      "  0.          0.          0.02568603  0.          0.0148318   0.0128736\n",
      "  0.          0.          0.01082216  0.          0.         -0.0169896\n",
      " -0.01566784  0.          0.         -0.15821236  0.          0.\n",
      " -0.09037155  0.          0.          0.         -0.02568603  0.\n",
      "  0.0148318  -0.0128736   0.          0.          0.01082216  0.\n",
      "  0.          0.0169896  -0.01566784  0.          0.          0.\n",
      "  0.          0.          0.18332895  0.          0.          0.\n",
      "  0.          0.         -0.02972497  0.          0.          0.\n",
      " -0.02051376  0.          0.          0.         -0.03168843  0.        ]\n",
      "[ 0.          0.13285701  0.          0.         -0.07591957  0.\n",
      "  0.          0.          0.02439709  0.          0.01408824  0.01221884\n",
      "  0.          0.          0.00724035  0.          0.         -0.01119822\n",
      " -0.01030513  0.          0.         -0.13285701  0.          0.\n",
      " -0.07591957  0.          0.          0.         -0.02439709  0.\n",
      "  0.01408824 -0.01221884  0.          0.          0.00724035  0.\n",
      "  0.          0.01119822 -0.01030513  0.          0.          0.\n",
      "  0.          0.          0.15393802  0.          0.          0.\n",
      "  0.          0.         -0.02821436  0.          0.          0.\n",
      " -0.01362129  0.          0.          0.         -0.02101325  0.        ]\n",
      "[ 0.          0.11207838  0.          0.         -0.06408549  0.\n",
      "  0.          0.          0.02281455  0.          0.0131747   0.01142072\n",
      "  0.          0.          0.00456524  0.          0.         -0.00688693\n",
      " -0.00638412  0.          0.         -0.11207838  0.          0.\n",
      " -0.06408549  0.          0.          0.         -0.02281455  0.\n",
      "  0.0131747  -0.01142072  0.          0.          0.00456524  0.\n",
      "  0.          0.00688693 -0.00638412  0.          0.          0.\n",
      "  0.          0.          0.12985486  0.          0.          0.\n",
      "  0.          0.         -0.02637255  0.          0.          0.\n",
      " -0.00848292  0.          0.          0.         -0.01312534  0.        ]\n",
      "[ 0.          0.09508163  0.          0.         -0.05439718  0.\n",
      "  0.          0.          0.02113074  0.          0.01220218  0.01057434\n",
      "  0.          0.          0.00260219  0.          0.         -0.00373235\n",
      " -0.00354105  0.          0.         -0.09508163  0.          0.\n",
      " -0.05439718  0.          0.          0.         -0.02113074  0.\n",
      "  0.01220218 -0.01057434  0.          0.          0.00260219  0.\n",
      "  0.          0.00373235 -0.00354105  0.          0.          0.\n",
      "  0.          0.          0.11014869  0.          0.          0.\n",
      "  0.          0.         -0.02441877  0.          0.          0.\n",
      " -0.00471614  0.          0.          0.         -0.00737003  0.        ]\n",
      "[ 0.          0.08113847  0.          0.         -0.04644996  0.\n",
      "  0.          0.          0.01945947  0.          0.01123688  0.00973576\n",
      "  0.          0.          0.00117706  0.          0.         -0.0014493\n",
      " -0.00149252  0.          0.         -0.08113847  0.          0.\n",
      " -0.04644996  0.          0.          0.         -0.01945947  0.\n",
      "  0.01123688 -0.00973576  0.          0.          0.00117706  0.\n",
      "  0.          0.0014493  -0.00149252  0.          0.          0.\n",
      "  0.          0.          0.09398446  0.          0.          0.\n",
      "  0.          0.         -0.02248274  0.          0.          0.\n",
      " -0.00198556  0.          0.          0.         -0.00320673  0.        ]\n",
      "[ 0.00000000e+00  6.96479973e-02  0.00000000e+00  0.00000000e+00\n",
      " -3.98968664e-02  0.00000000e+00  0.00000000e+00  0.00000000e+00\n",
      "  1.78635364e-02  0.00000000e+00  1.03150011e-02  8.93584724e-03\n",
      "  0.00000000e+00  0.00000000e+00  1.51661030e-04  0.00000000e+00\n",
      "  0.00000000e+00  1.87866304e-04 -2.52189671e-05  0.00000000e+00\n",
      "  0.00000000e+00 -6.96479973e-02  0.00000000e+00  0.00000000e+00\n",
      " -3.98968664e-02  0.00000000e+00  0.00000000e+00  0.00000000e+00\n",
      " -1.78635364e-02  0.00000000e+00  1.03150011e-02 -8.93584724e-03\n",
      "  0.00000000e+00  0.00000000e+00  1.51661030e-04  0.00000000e+00\n",
      "  0.00000000e+00 -1.87866304e-04 -2.52189671e-05  0.00000000e+00\n",
      "  0.00000000e+00  0.00000000e+00  0.00000000e+00  0.00000000e+00\n",
      "  8.06636277e-02  0.00000000e+00  0.00000000e+00  0.00000000e+00\n",
      "  0.00000000e+00  0.00000000e+00 -2.06358382e-02  0.00000000e+00\n",
      "  0.00000000e+00  0.00000000e+00 -2.34151434e-05  0.00000000e+00\n",
      "  0.00000000e+00  0.00000000e+00 -2.16822705e-04  0.00000000e+00]\n",
      "[ 0.          0.06012496  0.          0.         -0.0344626   0.\n",
      "  0.          0.          0.01637398  0.          0.00945469  0.00818977\n",
      "  0.          0.         -0.00057934  0.          0.          0.00134941\n",
      "  0.00101742  0.          0.         -0.06012496  0.          0.\n",
      " -0.0344626   0.          0.          0.         -0.01637398  0.\n",
      "  0.00945469 -0.00818977  0.          0.         -0.00057934  0.\n",
      "  0.         -0.00134941  0.00101742  0.          0.          0.\n",
      "  0.          0.          0.06962406  0.          0.          0.\n",
      "  0.          0.         -0.01891308  0.          0.          0.\n",
      "  0.0013721   0.          0.          0.          0.00191127  0.        ]\n",
      "[ 0.          0.05218436  0.          0.         -0.02992798  0.\n",
      "  0.          0.          0.01500298  0.          0.00866288  0.00750341\n",
      "  0.          0.         -0.00109399  0.          0.          0.00216216\n",
      "  0.00174942  0.          0.         -0.05218436  0.          0.\n",
      " -0.02992798  0.          0.          0.         -0.01500298  0.\n",
      "  0.00866288 -0.00750341  0.          0.         -0.00109399  0.\n",
      "  0.         -0.00216216  0.00174942  0.          0.          0.\n",
      "  0.          0.          0.06041967  0.          0.          0.\n",
      "  0.          0.         -0.01732813  0.          0.          0.\n",
      "  0.00235183  0.          0.          0.          0.00340773  0.        ]\n"
     ]
    }
   ],
   "source": [
    "full = Full(b, Np, eta)\n",
    "## define distances that iterate through rb/2 and forces parallel and perpendicular to these distances \n",
    "\n",
    "muTT_full = np.zeros(rHW.shape[0])\n",
    "muRT_full = np.zeros(rHW.shape[0])\n",
    "\n",
    "r, F, T, v, o = np.zeros(3*Np), np.zeros(3*Np), np.zeros(3*Np), np.zeros(3*Np), np.zeros(3*Np)\n",
    "\n",
    "S = np.zeros(9*Np)\n",
    "D = np.zeros(3*Np)\n",
    "\n",
    "## perpendicular\n",
    "k=0\n",
    "for rHW_ in rHW:\n",
    "    # triangle\n",
    "    # x components\n",
    "    r[0] = -rHW_/2.\n",
    "    r[1] =  rHW_/2.\n",
    "    r[2] =  0.\n",
    "    \n",
    "    # z components\n",
    "    r[0+2*Np] =  np.sqrt(3)*rHW_/6.\n",
    "    r[1+2*Np] =  np.sqrt(3)*rHW_/6.\n",
    "    r[2+2*Np] = -np.sqrt(3)*rHW_/3.\n",
    "    \n",
    "    for i in range(Np):\n",
    "        #force perpendicular to separation - along z axis\n",
    "        F[i]      = 0.0\n",
    "        F[i+Np]   = 1.0 \n",
    "        F[i+2*Np] = 0.0\n",
    "        \n",
    "        v[i]      = 0.0\n",
    "        v[i+Np]   = 0.0\n",
    "        v[i+2*Np] = 0.0\n",
    "        \n",
    "        o[i]      = 0.0\n",
    "        o[i+Np]   = 0.0\n",
    "        o[i+2*Np] = 0.0\n",
    "        \n",
    "    full.RBM(v, o, r, F, T, S, D)\n",
    "        \n",
    "    muTT_full[k] = v[0+Np]/mu0 ## force is unity, so raw mobility is just velocity. Normalised by one-particle mobility, v[Np=3] is vy of particle one\n",
    "    muRT_full[k] = np.abs(o[2]/mu0) ## due to symmetry, use angular velocity of particle 3, which is purely in x direction\n",
    "    k += 1"
   ]
  },
  {
   "cell_type": "code",
   "execution_count": 10,
   "id": "8efd10e2-2984-435d-bed6-8d6c07e44c7d",
   "metadata": {},
   "outputs": [
    {
     "data": {
      "text/plain": [
       "array([1.01502981, 1.00765926, 1.00444315, 1.00287804, 1.00200862,\n",
       "       1.00149231, 1.00116995, 1.00081393, 1.00062919, 1.00051264,\n",
       "       1.00042762, 1.00036022, 1.00030465, 1.00025812])"
      ]
     },
     "execution_count": 10,
     "metadata": {},
     "output_type": "execute_result"
    }
   ],
   "source": [
    "muTT_full/muTT_HW"
   ]
  },
  {
   "cell_type": "code",
   "execution_count": 11,
   "id": "ddf989ff-8dc4-44ac-94a0-23550880a52b",
   "metadata": {},
   "outputs": [
    {
     "data": {
      "text/plain": [
       "array([1.47315194, 1.19448204, 1.09985971, 1.05736625, 1.03440452,\n",
       "       1.020962  , 1.01274347, 1.0043085 , 1.00086   , 0.9994766 ,\n",
       "       0.99898165, 0.99887321, 0.99892642, 0.99904004])"
      ]
     },
     "execution_count": 11,
     "metadata": {},
     "output_type": "execute_result"
    }
   ],
   "source": [
    "muRT_full/muRT_HW"
   ]
  },
  {
   "cell_type": "markdown",
   "id": "6af11f1a-ee95-45bd-9383-16241e3141f9",
   "metadata": {},
   "source": [
    "________\n",
    "\n",
    "### Plotting versus Helen Wilson"
   ]
  },
  {
   "cell_type": "code",
   "execution_count": 12,
   "id": "6b3b512c-905c-4677-8b58-e8307bae7d52",
   "metadata": {},
   "outputs": [],
   "source": [
    "plt.rcParams.update({'font.size': 17})"
   ]
  },
  {
   "cell_type": "code",
   "execution_count": 13,
   "id": "f398d14c-e803-4467-be86-406996b332f0",
   "metadata": {},
   "outputs": [
    {
     "data": {
      "image/png": "[encoded data removed]",
      "text/plain": [
       "<Figure size 576x360 with 1 Axes>"
      ]
     },
     "metadata": {
      "needs_background": "light"
     },
     "output_type": "display_data"
    }
   ],
   "source": [
    "plt.figure(figsize=(8,5))\n",
    "plt.plot(rHW, muTT_pstk/muTT_HW, label='pystokes', marker='o', linestyle=\"None\")\n",
    "plt.plot(rHW, muTT_full/muTT_HW, label='long-ranged', marker='*', linestyle=\"None\")\n",
    "plt.axhline(y=1., color='grey', linestyle='--', linewidth=1, label='exact')\n",
    "plt.xlabel('$r/b$')\n",
    "plt.ylabel('$\\mu^{TT}/\\mu^{TT}(exact)$')\n",
    "plt.legend()\n",
    "plt.show()"
   ]
  },
  {
   "cell_type": "code",
   "execution_count": 14,
   "id": "929c35e5-d439-453e-8e9c-862e01b37544",
   "metadata": {},
   "outputs": [
    {
     "data": {
      "image/png": "[encoded data removed]",
      "text/plain": [
       "<Figure size 576x360 with 1 Axes>"
      ]
     },
     "metadata": {
      "needs_background": "light"
     },
     "output_type": "display_data"
    }
   ],
   "source": [
    "plt.figure(figsize=(8,5))\n",
    "plt.plot(rHW, muRT_pstk/muRT_HW, label='pystokes', marker='o', linestyle=\"None\")\n",
    "plt.plot(rHW, muRT_full/muRT_HW, label='long-ranged', marker='*', linestyle=\"None\")\n",
    "plt.axhline(y=1., color='grey', linestyle='--', linewidth=1, label='exact')\n",
    "plt.xlabel('$r/b$')\n",
    "plt.ylabel('$\\mu^{RT}/\\mu^{RT}(exact)$')\n",
    "plt.legend()\n",
    "plt.show()"
   ]
  },
  {
   "cell_type": "code",
   "execution_count": null,
   "id": "ed414dd7-9d24-4ca7-a164-91ecf06027b3",
   "metadata": {},
   "outputs": [],
   "source": []
  },
  {
   "cell_type": "code",
   "execution_count": null,
   "id": "19d67cf4-38f8-411a-b322-ec1b9e5a53c5",
   "metadata": {},
   "outputs": [],
   "source": []
  },
  {
   "cell_type": "code",
   "execution_count": null,
   "id": "7e323bc4-b5ac-4946-bf88-ba10f741a169",
   "metadata": {},
   "outputs": [],
   "source": []
  },
  {
   "cell_type": "code",
   "execution_count": null,
   "id": "c2b2e074-579a-4946-be4b-fbda9c411b42",
   "metadata": {},
   "outputs": [],
   "source": []
  },
  {
   "cell_type": "code",
   "execution_count": null,
   "id": "2e6d91fc-9be0-4644-b199-de6f7f856019",
   "metadata": {},
   "outputs": [],
   "source": []
  },
  {
   "cell_type": "code",
   "execution_count": null,
   "id": "e01943c5-76f9-4e20-a9c6-2a755a39fe9c",
   "metadata": {},
   "outputs": [],
   "source": []
  },
  {
   "cell_type": "code",
   "execution_count": null,
   "id": "3d6a4e47-ae4d-43a8-8ee4-b89264a1fe97",
   "metadata": {},
   "outputs": [],
   "source": []
  },
  {
   "cell_type": "code",
   "execution_count": null,
   "id": "ef82b0fe-a629-4e2f-9562-79931033af78",
   "metadata": {},
   "outputs": [],
   "source": []
  },
  {
   "cell_type": "code",
   "execution_count": null,
   "id": "7225694a-4f89-4c3c-9d09-f35e24240869",
   "metadata": {},
   "outputs": [],
   "source": []
  },
  {
   "cell_type": "code",
   "execution_count": null,
   "id": "9f466bc1-aede-402b-bab7-80294fc6c24e",
   "metadata": {},
   "outputs": [],
   "source": []
  },
  {
   "cell_type": "code",
   "execution_count": null,
   "id": "a5ea4299-0aff-4015-b774-185a2ff5bc4a",
   "metadata": {},
   "outputs": [],
   "source": []
  },
  {
   "cell_type": "code",
   "execution_count": null,
   "id": "8d9069a0-b249-4c34-a8ea-519ccd6d369f",
   "metadata": {},
   "outputs": [],
   "source": []
  },
  {
   "cell_type": "code",
   "execution_count": null,
   "id": "72929726-4a53-43be-8934-56a2bc083923",
   "metadata": {},
   "outputs": [],
   "source": []
  },
  {
   "cell_type": "code",
   "execution_count": null,
   "id": "e2ecaf3a-9c0c-4474-a28f-32d31deec75c",
   "metadata": {},
   "outputs": [],
   "source": []
  },
  {
   "cell_type": "code",
   "execution_count": null,
   "id": "a342d5d1-81cb-4da6-b923-9839b3950c6d",
   "metadata": {},
   "outputs": [],
   "source": []
  },
  {
   "cell_type": "code",
   "execution_count": null,
   "id": "fa876e72-d633-408b-b79b-5069a33e77c5",
   "metadata": {},
   "outputs": [],
   "source": []
  },
  {
   "cell_type": "code",
   "execution_count": null,
   "id": "d157767e-3ae2-427e-93ad-ac56204eb22a",
   "metadata": {},
   "outputs": [],
   "source": []
  }
 ],
 "metadata": {
  "kernelspec": {
   "display_name": "Python 3 (ipykernel)",
   "language": "python",
   "name": "python3"
  },
  "language_info": {
   "codemirror_mode": {
    "name": "ipython",
    "version": 3
   },
   "file_extension": ".py",
   "mimetype": "text/x-python",
   "name": "python",
   "nbconvert_exporter": "python",
   "pygments_lexer": "ipython3",
   "version": "3.10.2"
  }
 },
 "nbformat": 4,
 "nbformat_minor": 5
}
