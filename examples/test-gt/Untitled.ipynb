{
 "cells": [
  {
   "cell_type": "code",
   "execution_count": 1,
   "id": "110237db-c5f5-452d-8d37-e343a3d1db01",
   "metadata": {},
   "outputs": [],
   "source": [
    "import numpy as np"
   ]
  },
  {
   "cell_type": "code",
   "execution_count": 4,
   "id": "f55f317b-a137-453b-90f3-581dcd56affa",
   "metadata": {},
   "outputs": [
    {
     "data": {
      "text/plain": [
       "array([[0.1, 0. , 0. , 0. , 0. , 0. , 0. , 0. ],\n",
       "       [0. , 0.1, 0. , 0. , 0. , 0. , 0. , 0. ],\n",
       "       [0. , 0. , 0.2, 0. , 0. , 0. , 0. , 0. ],\n",
       "       [0. , 0. , 0. , 0.3, 0. , 0. , 0. , 0. ],\n",
       "       [0. , 0. , 0. , 0. , 0.3, 0. , 0. , 0. ],\n",
       "       [0. , 0. , 0. , 0. , 0. , 0.4, 0. , 0. ],\n",
       "       [0. , 0. , 0. , 0. , 0. , 0. , 0.4, 0. ],\n",
       "       [0. , 0. , 0. , 0. , 0. , 0. , 0. , 0.4]])"
      ]
     },
     "execution_count": 4,
     "metadata": {},
     "output_type": "execute_result"
    }
   ],
   "source": [
    "np.diag(np.block([np.full(2, 0.1), np.full(1, 0.2), np.full(2, 0.3), np.full(3, 0.4)]))"
   ]
  },
  {
   "cell_type": "code",
   "execution_count": 15,
   "id": "3fc0a615-2e7f-46c9-8caa-ba22e45c35d1",
   "metadata": {},
   "outputs": [
    {
     "data": {
      "text/plain": [
       "[array([0.1, 0.1]), array([0.2]), array([0.3, 0.3]), array([0.4, 0.4, 0.4])]"
      ]
     },
     "execution_count": 15,
     "metadata": {},
     "output_type": "execute_result"
    }
   ],
   "source": [
    "([np.full(2, 0.1), np.full(1, 0.2), np.full(2, 0.3), np.full(3, 0.4)])"
   ]
  },
  {
   "cell_type": "code",
   "execution_count": 19,
   "id": "8f75aa44-2921-455b-a056-037b0bc26297",
   "metadata": {},
   "outputs": [
    {
     "data": {
      "text/plain": [
       "array([2, 1, 2, 1])"
      ]
     },
     "execution_count": 19,
     "metadata": {},
     "output_type": "execute_result"
    }
   ],
   "source": [
    "np.tile(np.array([2,1]),2)"
   ]
  },
  {
   "cell_type": "code",
   "execution_count": 21,
   "id": "919d4931-e7e0-421c-b0db-a7070a526c8e",
   "metadata": {},
   "outputs": [
    {
     "data": {
      "text/plain": [
       "array([0.1, 0.1, 0.2, 0.3, 0.3, 0.4, 0.4, 0.4])"
      ]
     },
     "execution_count": 21,
     "metadata": {},
     "output_type": "execute_result"
    }
   ],
   "source": [
    "np.concatenate([np.full(2, 0.1), np.full(1, 0.2), np.full(2, 0.3), np.full(3, 0.4)])"
   ]
  },
  {
   "cell_type": "code",
   "execution_count": 24,
   "id": "e77cd6ad-3442-4502-9b54-1b1ce686d800",
   "metadata": {},
   "outputs": [
    {
     "data": {
      "text/plain": [
       "array([1, 2, 2])"
      ]
     },
     "execution_count": 24,
     "metadata": {},
     "output_type": "execute_result"
    }
   ],
   "source": [
    "a[:] = (1,2,2)\n",
    "a"
   ]
  },
  {
   "cell_type": "code",
   "execution_count": null,
   "id": "1e69ccd1-f36e-4f68-970e-5e88600de1fa",
   "metadata": {},
   "outputs": [],
   "source": []
  }
 ],
 "metadata": {
  "kernelspec": {
   "display_name": "Python 3 (ipykernel)",
   "language": "python",
   "name": "python3"
  },
  "language_info": {
   "codemirror_mode": {
    "name": "ipython",
    "version": 3
   },
   "file_extension": ".py",
   "mimetype": "text/x-python",
   "name": "python",
   "nbconvert_exporter": "python",
   "pygments_lexer": "ipython3",
   "version": "3.10.2"
  }
 },
 "nbformat": 4,
 "nbformat_minor": 5
}
