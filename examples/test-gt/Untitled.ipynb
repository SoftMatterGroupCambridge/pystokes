{
 "cells": [
  {
   "cell_type": "code",
   "execution_count": null,
   "id": "9fb8976b-8b58-4d6d-bfd7-ec6cb893cef3",
   "metadata": {},
   "outputs": [],
   "source": [
    "## 3s template\n",
    "## Number of x,y and z: 18x, 6y and 3z. Want to stop if as quick as possible --> check x, then y, then z\n",
    "m,n,l = 1,1,2\n",
    "\n",
    "if check_duplicates([m,n,l]) and not all_equal([m,n,l]): ## two indices are equal\n",
    "    print('x')\n",
    "elif not check_duplicates([m,n,l]): ## all indices different\n",
    "    print('y')\n",
    "else:                           ## diagonal, all indices equal\n",
    "    print('z') "
   ]
  },
  {
   "cell_type": "code",
   "execution_count": null,
   "id": "900b9267-851f-4031-b042-cf8f20381175",
   "metadata": {},
   "outputs": [],
   "source": [
    "## 2s template (same for 3a)\n",
    "## Number of a and b: 6a and 3b\n",
    "i,j = 0,1\n",
    "\n",
    "if not all_equal([i,j]): ## off-diagonal terms\n",
    "    print('a')\n",
    "else:                    ## diagonal terms\n",
    "    print('b')\n"
   ]
  }
 ],
 "metadata": {
  "kernelspec": {
   "display_name": "Python 3 (ipykernel)",
   "language": "python",
   "name": "python3"
  },
  "language_info": {
   "codemirror_mode": {
    "name": "ipython",
    "version": 3
   },
   "file_extension": ".py",
   "mimetype": "text/x-python",
   "name": "python",
   "nbconvert_exporter": "python",
   "pygments_lexer": "ipython3",
   "version": "3.10.2"
  }
 },
 "nbformat": 4,
 "nbformat_minor": 5
}
