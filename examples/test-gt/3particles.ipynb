{
 "cells": [
  {
   "cell_type": "markdown",
   "id": "1d604b47-21fb-4a94-89f7-f7bf408c0a42",
   "metadata": {},
   "source": [
    "In this notebook we compare the translational mobility coefficients for three spheres, sedimenting parallel or perpendicular to their line of centers. We compare\n",
    "\n",
    " - PyStokes (superposition approximation)\n",
    " - FTS Stokesian dynamics\n",
    " - linear solver: including all long-ranged traction modes\n",
    " \n",
    "Exact solution?\n",
    "\n",
    "One time-step is enough, so no simulation needed. We compare the mobilities, using the linear solver as a base line. Expect Pystokes to do worse than for 2 particles, given it uses the superposition approximation."
   ]
  },
  {
   "cell_type": "code",
   "execution_count": 1,
   "id": "124825a9-00f7-4014-9383-6a49788e521d",
   "metadata": {},
   "outputs": [],
   "source": [
    "%matplotlib inline\n",
    "import numpy as np, matplotlib.pyplot as plt\n",
    "\n",
    "import pystokes\n",
    "from linearSolveFTS import linearSolve_direct as FTS\n",
    "from linearSolve import linearSolve_direct as linearSolve"
   ]
  },
  {
   "cell_type": "code",
   "execution_count": 2,
   "id": "7d9a91c4-163f-4cc5-b2a5-10654e96586f",
   "metadata": {},
   "outputs": [],
   "source": [
    "PI = 3.14159265359\n",
    "\n",
    "# particle radius, self-propulsion speed, number and fluid viscosity\n",
    "b, Np, eta = 1.0, 3, 0.1\n",
    "\n",
    "## passive particle\n",
    "D0  = 0.      \n",
    "S0  = 0.\n",
    "\n",
    "## normalising factor: one-particle mobility\n",
    "mu0 = 1./(6*PI*eta*b)"
   ]
  },
  {
   "cell_type": "markdown",
   "id": "97c16bda-35cc-4d24-913f-df8307e8007c",
   "metadata": {},
   "source": [
    "The results are compared at the nine fixed ratios $r/b$, where $r$ is the centre-to-centre distance: $2.0,\\, 2.0049,\\, 2.0907,\\, 2.2553,\\, 2.6749,\\, 3.0862,\\, 4.0,\\, 6.0,\\, 8.0$"
   ]
  },
  {
   "cell_type": "code",
   "execution_count": 3,
   "id": "def683cc-194c-41a6-be41-de5f8dfe4a2e",
   "metadata": {},
   "outputs": [],
   "source": [
    "rb = np.array([2.0, 2.0049, 2.0907, 2.2553, 2.6749, 3.0862, 4.0, 6.0, 8.0])"
   ]
  },
  {
   "cell_type": "markdown",
   "id": "f3125979-cc25-46a6-a629-187f7c1a472e",
   "metadata": {},
   "source": [
    "## 1) Particles in line on x-axis"
   ]
  },
  {
   "cell_type": "markdown",
   "id": "b84e92dc-1316-4333-8aeb-fa99a57b7311",
   "metadata": {},
   "source": [
    "### Pystokes"
   ]
  },
  {
   "cell_type": "code",
   "execution_count": 4,
   "id": "d2896607-f236-4026-be23-2ba16403cab7",
   "metadata": {},
   "outputs": [
    {
     "name": "stdout",
     "output_type": "stream",
     "text": [
      "[1.05274363 1.19366207 1.05274363 0.         0.         0.\n",
      " 0.         0.         0.        ]\n",
      "[1.05183063 1.19268726 1.05183063 0.         0.         0.\n",
      " 0.         0.         0.        ]\n",
      "[1.03614595 1.17566267 1.03614595 0.         0.         0.\n",
      " 0.         0.         0.        ]\n",
      "[1.00775807 1.14371498 1.00775807 0.         0.         0.\n",
      " 0.         0.         0.        ]\n",
      "[0.94557819 1.07007264 0.94557819 0.         0.         0.\n",
      " 0.         0.         0.        ]\n",
      "[0.89698664 1.01011941 0.89698664 0.         0.         0.\n",
      " 0.         0.         0.        ]\n",
      "[0.81960651 0.91182519 0.81960651 0.         0.         0.\n",
      " 0.         0.         0.        ]\n",
      "[0.72669705 0.79086253 0.72669705 0.         0.         0.\n",
      " 0.         0.         0.        ]\n",
      "[0.67855855 0.72738783 0.67855855 0.         0.         0.\n",
      " 0.         0.         0.        ]\n",
      "\n",
      "\n",
      "\n",
      "\n",
      "[0.         0.         0.         0.         0.         0.\n",
      " 0.86623394 0.99471839 0.86623394]\n",
      "[0.         0.         0.         0.         0.         0.\n",
      " 0.86523177 0.99326092 0.86523177]\n",
      "[0.         0.         0.         0.         0.         0.\n",
      " 0.8486407  0.96919532 0.8486407 ]\n",
      "[0.         0.         0.         0.         0.         0.\n",
      " 0.82116543 0.92961023 0.82116543]\n",
      "[0.         0.         0.         0.         0.         0.\n",
      " 0.76923111 0.85573239 0.76923111]\n",
      "[0.         0.         0.         0.         0.         0.\n",
      " 0.73405545 0.80641374 0.73405545]\n",
      "[0.         0.         0.         0.         0.         0.\n",
      " 0.68438698 0.73774948 0.68438698]\n",
      "[0.         0.         0.         0.         0.         0.\n",
      " 0.63136987 0.66560169 0.63136987]\n",
      "[0.         0.         0.         0.         0.         0.\n",
      " 0.6057032  0.63102448 0.6057032 ]\n"
     ]
    }
   ],
   "source": [
    "pstk = pystokes.unbounded.Rbm(b, Np, eta)\n",
    "## define distances that iterate through rb and forces parallel and perpendicular to these distances \n",
    "\n",
    "line_pstk_muPara = np.zeros(rb.shape[0])\n",
    "line_pstk_muPerp = np.zeros(rb.shape[0])\n",
    "\n",
    "\n",
    "r, F, T, v, o = np.zeros(3*Np), np.zeros(3*Np), np.zeros(3*Np), np.zeros(3*Np), np.zeros(3*Np)\n",
    "\n",
    "## parallel\n",
    "k=0\n",
    "for rb_ in rb:\n",
    "    #separation in x-direction\n",
    "    r[0] = -rb_\n",
    "    r[1] =  0.\n",
    "    r[2] =  rb_\n",
    "    for i in range(Np):\n",
    "        #force parallel to separation - along x axis\n",
    "        F[i]      = 1.0\n",
    "        F[i+Np]   = 0.0 \n",
    "        F[i+2*Np] = 0.0\n",
    "        \n",
    "        v[i]      = 0.0\n",
    "        v[i+Np]   = 0.0\n",
    "        v[i+2*Np] = 0.0\n",
    "        \n",
    "        o[i]      = 0.0\n",
    "        o[i+Np]   = 0.0\n",
    "        o[i+2*Np] = 0.0\n",
    "    \n",
    "    pstk.mobilityTT(v,r,F)\n",
    "    pstk.mobilityTR(v,r,T)\n",
    "    pstk.mobilityRT(o,r,F)\n",
    "    pstk.mobilityRR(o,r,T)\n",
    "        \n",
    "    line_pstk_muPara[k] = v[0]/mu0 ## force is unity, so raw mobility is just velocity. Normalised by one-particle mobility, v[0] is vx of particle 1\n",
    "    print(v)\n",
    "    k += 1\n",
    "    \n",
    "print(\"\\n\\n\\n\")\n",
    "## perpendicular\n",
    "k=0\n",
    "for rb_ in rb:\n",
    "    #separation in x-direction\n",
    "    r[0] = -rb_\n",
    "    r[1] =  0.\n",
    "    r[2] =  rb_\n",
    "    for i in range(Np):\n",
    "        #force perpendicular to separation - along z axis\n",
    "        F[i]      = 0.0\n",
    "        F[i+Np]   = 0.0 \n",
    "        F[i+2*Np] = 1.0\n",
    "        \n",
    "        v[i]      = 0.0\n",
    "        v[i+Np]   = 0.0\n",
    "        v[i+2*Np] = 0.0\n",
    "        \n",
    "        o[i]      = 0.0\n",
    "        o[i+Np]   = 0.0\n",
    "        o[i+2*Np] = 0.0\n",
    "        \n",
    "    pstk.mobilityTT(v,r,F)\n",
    "    pstk.mobilityTR(v,r,T)\n",
    "    pstk.mobilityRT(o,r,F)\n",
    "    pstk.mobilityRR(o,r,T)\n",
    "        \n",
    "    line_pstk_muPerp[k] = v[0+2*Np]/mu0 ## force is unity, so raw mobility is just velocity. Normalised by one-particle mobility, v[2*Np=6] is vz of particle one\n",
    "    print(v)\n",
    "    k += 1"
   ]
  },
  {
   "cell_type": "markdown",
   "id": "0cba24ba-57d0-4e13-84fc-5cc7935130c9",
   "metadata": {},
   "source": [
    "velocities of the three particles are not the same, so it is ambiguous which mobility to compute. This configuration is not fully symmetric. Instead, use three particles in a triangle, with a force perpendicular to the plane spanned by the centers of the particles."
   ]
  },
  {
   "cell_type": "code",
   "execution_count": 5,
   "id": "05b92fac-6df7-4521-8d9a-24e101645827",
   "metadata": {},
   "outputs": [
    {
     "data": {
      "text/plain": [
       "array([1.984375  , 1.98265404, 1.9530891 , 1.89957922, 1.7823729 ,\n",
       "       1.69077998, 1.54492187, 1.36979167, 1.27905273])"
      ]
     },
     "execution_count": 5,
     "metadata": {},
     "output_type": "execute_result"
    }
   ],
   "source": [
    "line_pstk_muPara"
   ]
  },
  {
   "cell_type": "code",
   "execution_count": 6,
   "id": "1a28319e-d782-4276-bfdd-3c19d7d30313",
   "metadata": {},
   "outputs": [
    {
     "data": {
      "text/plain": [
       "array([1.6328125 , 1.63092347, 1.59965002, 1.54786037, 1.44996649,\n",
       "       1.38366192, 1.29003906, 1.19010417, 1.14172363])"
      ]
     },
     "execution_count": 6,
     "metadata": {},
     "output_type": "execute_result"
    }
   ],
   "source": [
    "line_pstk_muPerp"
   ]
  },
  {
   "cell_type": "markdown",
   "id": "ac94a60c-682a-4c91-9c61-680da804acc4",
   "metadata": {},
   "source": [
    "___________\n",
    "\n",
    "### FTS Stokesian dynamics"
   ]
  },
  {
   "cell_type": "code",
   "execution_count": 7,
   "id": "c85b7de3-a9bc-408d-b78e-f58ea6a0dd06",
   "metadata": {},
   "outputs": [],
   "source": [
    "lsFTS = FTS(b, Np, eta) \n",
    "\n",
    "line_FTS_muPara = np.zeros(rb.shape[0])\n",
    "line_FTS_muPerp = np.zeros(rb.shape[0])\n",
    "\n",
    "\n",
    "r, F, T, v, o = np.zeros(3*Np), np.zeros(3*Np), np.zeros(3*Np), np.zeros(3*Np), np.zeros(3*Np)\n",
    "\n",
    "S = np.zeros(5*Np)\n",
    "\n",
    "## parallel\n",
    "k=0\n",
    "for rb_ in rb:\n",
    "    #separation in x-direction\n",
    "    r[0] = -rb_\n",
    "    r[1] =  0.\n",
    "    r[2] =  rb_\n",
    "    for i in range(Np):\n",
    "        #force parallel to separation - along x axis\n",
    "        F[i]      = 1.0\n",
    "        F[i+Np]   = 0.0 \n",
    "        F[i+2*Np] = 0.0\n",
    "        \n",
    "        v[i]      = 0.0\n",
    "        v[i+Np]   = 0.0\n",
    "        v[i+2*Np] = 0.0\n",
    "        \n",
    "        o[i]      = 0.0\n",
    "        o[i+Np]   = 0.0\n",
    "        o[i+2*Np] = 0.0\n",
    "    \n",
    "    lsFTS.RBM(v, o, r, F, T, S)\n",
    "        \n",
    "    line_FTS_muPara[k] = v[0]/mu0 ## force is unity, so raw mobility is just velocity. Normalised by one-particle mobility\n",
    "    k += 1\n",
    "    \n",
    "## perpendicular\n",
    "k=0\n",
    "for rb_ in rb:\n",
    "    #separation in x-direction\n",
    "    r[0] = -rb_\n",
    "    r[1] =  0.\n",
    "    r[2] =  rb_\n",
    "    for i in range(Np):\n",
    "        #force perpendicular to separation - along z axis\n",
    "        F[i]      = 0.0\n",
    "        F[i+Np]   = 0.0 \n",
    "        F[i+2*Np] = 1.0\n",
    "        \n",
    "        v[i]      = 0.0\n",
    "        v[i+Np]   = 0.0\n",
    "        v[i+2*Np] = 0.0\n",
    "        \n",
    "        o[i]      = 0.0\n",
    "        o[i+Np]   = 0.0\n",
    "        o[i+2*Np] = 0.0\n",
    "        \n",
    "    lsFTS.RBM(v, o, r, F, T, S)\n",
    "        \n",
    "    line_FTS_muPerp[k] = v[0+2*Np]/mu0 ## force is unity, so raw mobility is just velocity. Normalised by one-particle mobility\n",
    "    k += 1"
   ]
  },
  {
   "cell_type": "code",
   "execution_count": 8,
   "id": "f73e6e98-8008-4b9e-b932-93fb727a089b",
   "metadata": {},
   "outputs": [
    {
     "data": {
      "text/plain": [
       "array([1.95001484, 1.94851299, 1.92259593, 1.87507835, 1.76814124,\n",
       "       1.68208402, 1.54154512, 1.36907636, 1.27882107])"
      ]
     },
     "execution_count": 8,
     "metadata": {},
     "output_type": "execute_result"
    }
   ],
   "source": [
    "line_FTS_muPara"
   ]
  },
  {
   "cell_type": "code",
   "execution_count": 9,
   "id": "da391504-b590-4ebd-b482-c04b764f9f48",
   "metadata": {},
   "outputs": [
    {
     "data": {
      "text/plain": [
       "array([1.63239087, 1.63051005, 1.59935483, 1.54769979, 1.44992565,\n",
       "       1.38364894, 1.29003744, 1.1901041 , 1.14172363])"
      ]
     },
     "execution_count": 9,
     "metadata": {},
     "output_type": "execute_result"
    }
   ],
   "source": [
    "line_FTS_muPerp"
   ]
  },
  {
   "cell_type": "markdown",
   "id": "0d23184e-4039-4146-a7a9-19070bf1cd0b",
   "metadata": {},
   "source": [
    "______________\n",
    "\n",
    "## Linear solver"
   ]
  },
  {
   "cell_type": "code",
   "execution_count": 10,
   "id": "7e246358-0999-46c8-b4ed-fbcb4be47fe8",
   "metadata": {},
   "outputs": [],
   "source": [
    "ls = linearSolve(b, Np, eta)\n",
    "## define distances that iterate through rb/2 and forces parallel and perpendicular to these distances \n",
    "\n",
    "line_ls_muPara = np.zeros(rb.shape[0])\n",
    "line_ls_muPerp = np.zeros(rb.shape[0])\n",
    "\n",
    "\n",
    "r, F, T, v, o = np.zeros(3*Np), np.zeros(3*Np), np.zeros(3*Np), np.zeros(3*Np), np.zeros(3*Np)\n",
    "\n",
    "S = np.zeros(5*Np)\n",
    "D = np.zeros(3*Np)\n",
    "\n",
    "## parallel\n",
    "k=0\n",
    "for rb_ in rb:\n",
    "    #separation in x-direction\n",
    "    r[0] = -rb_\n",
    "    r[1] =  0.\n",
    "    r[2] =  rb_\n",
    "    for i in range(Np):\n",
    "        #force parallel to separation - along x axis\n",
    "        F[i]      = 1.0\n",
    "        F[i+Np]   = 0.0 \n",
    "        F[i+2*Np] = 0.0\n",
    "        \n",
    "        v[i]      = 0.0\n",
    "        v[i+Np]   = 0.0\n",
    "        v[i+2*Np] = 0.0\n",
    "        \n",
    "        o[i]      = 0.0\n",
    "        o[i+Np]   = 0.0\n",
    "        o[i+2*Np] = 0.0\n",
    "    \n",
    "    ls.RBM(v, o, r, F, T, S, D)\n",
    "        \n",
    "    line_ls_muPara[k] = v[0]/mu0 ## force is unity, so raw mobility is just velocity. Normalised by one-particle mobility\n",
    "    k += 1\n",
    "    \n",
    "## perpendicular\n",
    "k=0\n",
    "for rb_ in rb:\n",
    "    #separation in x-direction\n",
    "    r[0] = -rb_\n",
    "    r[1] =  0.\n",
    "    r[2] =  rb_\n",
    "    for i in range(Np):\n",
    "        #force perpendicular to separation - along z axis\n",
    "        F[i]      = 0.0\n",
    "        F[i+Np]   = 0.0 \n",
    "        F[i+2*Np] = 1.0\n",
    "        \n",
    "        v[i]      = 0.0\n",
    "        v[i+Np]   = 0.0\n",
    "        v[i+2*Np] = 0.0\n",
    "        \n",
    "        o[i]      = 0.0\n",
    "        o[i+Np]   = 0.0\n",
    "        o[i+2*Np] = 0.0\n",
    "        \n",
    "    ls.RBM(v, o, r, F, T, S, D)\n",
    "        \n",
    "    line_ls_muPerp[k] = v[0+2*Np]/mu0 ## force is unity, so raw mobility is just velocity. Normalised by one-particle mobility\n",
    "    k += 1"
   ]
  },
  {
   "cell_type": "code",
   "execution_count": 11,
   "id": "283f1080-502d-4f88-b529-755deea49810",
   "metadata": {},
   "outputs": [
    {
     "data": {
      "text/plain": [
       "array([1.9412018 , 1.93971966, 1.91413851, 1.86733569, 1.76277563,\n",
       "       1.67877859, 1.5404988 , 1.36895499, 1.27879759])"
      ]
     },
     "execution_count": 11,
     "metadata": {},
     "output_type": "execute_result"
    }
   ],
   "source": [
    "line_ls_muPara"
   ]
  },
  {
   "cell_type": "code",
   "execution_count": 12,
   "id": "1d1c98d1-d046-4c83-838e-4866ad03ecaf",
   "metadata": {},
   "outputs": [
    {
     "data": {
      "text/plain": [
       "array([1.61905484, 1.61737158, 1.58917077, 1.54124264, 1.44756066,\n",
       "       1.38261746, 1.28980804, 1.19008277, 1.14171974])"
      ]
     },
     "execution_count": 12,
     "metadata": {},
     "output_type": "execute_result"
    }
   ],
   "source": [
    "line_ls_muPerp"
   ]
  },
  {
   "cell_type": "markdown",
   "id": "7b4101de-e8f8-4b46-9832-bbe2035809ba",
   "metadata": {},
   "source": [
    "___________\n",
    "\n",
    "## 2) Particles in triangle with base on x-axis\n",
    "\n",
    "Only truly symmetric configuration of three particles."
   ]
  },
  {
   "cell_type": "markdown",
   "id": "7d53908f-6f5b-40c0-8d70-dac6b7bc3222",
   "metadata": {
    "tags": []
   },
   "source": [
    "### Pystokes"
   ]
  },
  {
   "cell_type": "code",
   "execution_count": 13,
   "id": "583df2e7-4aa9-4002-a5c9-490870a974a7",
   "metadata": {},
   "outputs": [],
   "source": [
    "pstk = pystokes.unbounded.Rbm(b, Np, eta)\n",
    "\n",
    "triangle_pstk_muPerp = np.zeros(rb.shape[0])\n",
    "\n",
    "r, F, T, v, o = np.zeros(3*Np), np.zeros(3*Np), np.zeros(3*Np), np.zeros(3*Np), np.zeros(3*Np)\n",
    " \n",
    "## perpendicular\n",
    "k=0\n",
    "for rb_ in rb:\n",
    "    # triangle\n",
    "    # x components\n",
    "    r[0] = -rb_/2.\n",
    "    r[1] =  rb_/2.\n",
    "    r[2] =  0.\n",
    "    \n",
    "    # z components\n",
    "    r[0+2*Np] =  np.sqrt(3)*rb_/6.\n",
    "    r[1+2*Np] =  np.sqrt(3)*rb_/6.\n",
    "    r[2+2*Np] = -np.sqrt(3)*rb_/3.\n",
    "    \n",
    "    for i in range(Np):\n",
    "        #force perpendicular to triangle - along y axis\n",
    "        F[i]      = 0.0\n",
    "        F[i+Np]   = 1.0 \n",
    "        F[i+2*Np] = 0.0\n",
    "        \n",
    "        v[i]      = 0.0\n",
    "        v[i+Np]   = 0.0\n",
    "        v[i+2*Np] = 0.0\n",
    "        \n",
    "        o[i]      = 0.0\n",
    "        o[i+Np]   = 0.0\n",
    "        o[i+2*Np] = 0.0\n",
    "        \n",
    "    pstk.mobilityTT(v,r,F)\n",
    "    pstk.mobilityTR(v,r,T)\n",
    "    pstk.mobilityRT(o,r,F)\n",
    "    pstk.mobilityRR(o,r,T)\n",
    "        \n",
    "    triangle_pstk_muPerp[k] = v[0+Np]/mu0 ## force is unity, so raw mobility is just velocity. Normalised by one-particle mobility, v[Np=3] is vy of particle one\n",
    "    k += 1"
   ]
  },
  {
   "cell_type": "code",
   "execution_count": 14,
   "id": "f1c1a2b6-5227-4af9-a627-ef0f9ff75eca",
   "metadata": {},
   "outputs": [
    {
     "data": {
      "text/plain": [
       "array([1.875     , 1.87225272, 1.82689014, 1.752274  , 1.61301755,\n",
       "       1.5200541 , 1.390625  , 1.25462963, 1.18945312])"
      ]
     },
     "execution_count": 14,
     "metadata": {},
     "output_type": "execute_result"
    }
   ],
   "source": [
    "triangle_pstk_muPerp"
   ]
  },
  {
   "cell_type": "markdown",
   "id": "9c2e56eb-09ca-445b-a68c-f532da9fc98a",
   "metadata": {},
   "source": [
    "___________\n",
    "\n",
    "### FTS Stokesian dynamics"
   ]
  },
  {
   "cell_type": "code",
   "execution_count": 15,
   "id": "11799992-5844-4628-9d7e-c85a21da95b4",
   "metadata": {},
   "outputs": [],
   "source": [
    "lsFTS = FTS(b, Np, eta) \n",
    "\n",
    "triangle_FTS_muPerp = np.zeros(rb.shape[0])\n",
    "\n",
    "r, F, T, v, o = np.zeros(3*Np), np.zeros(3*Np), np.zeros(3*Np), np.zeros(3*Np), np.zeros(3*Np)\n",
    "\n",
    "S = np.zeros(5*Np)\n",
    "\n",
    "## perpendicular\n",
    "k=0\n",
    "for rb_ in rb:\n",
    "    # triangle\n",
    "    # x components\n",
    "    r[0] = -rb_/2.\n",
    "    r[1] =  rb_/2.\n",
    "    r[2] =  0.\n",
    "    \n",
    "    # z components\n",
    "    r[0+2*Np] =  np.sqrt(3)*rb_/6.\n",
    "    r[1+2*Np] =  np.sqrt(3)*rb_/6.\n",
    "    r[2+2*Np] = -np.sqrt(3)*rb_/3.\n",
    "    \n",
    "    for i in range(Np):\n",
    "        #force perpendicular to separation - along z axis\n",
    "        F[i]      = 0.0\n",
    "        F[i+Np]   = 1.0 \n",
    "        F[i+2*Np] = 0.0\n",
    "        \n",
    "        v[i]      = 0.0\n",
    "        v[i+Np]   = 0.0\n",
    "        v[i+2*Np] = 0.0\n",
    "        \n",
    "        o[i]      = 0.0\n",
    "        o[i+Np]   = 0.0\n",
    "        o[i+2*Np] = 0.0\n",
    "        \n",
    "    lsFTS.RBM(v, o, r, F, T, S)\n",
    "        \n",
    "    triangle_FTS_muPerp[k] = v[0+Np]/mu0 ## force is unity, so raw mobility is just velocity. Normalised by one-particle mobility\n",
    "    k += 1"
   ]
  },
  {
   "cell_type": "code",
   "execution_count": 16,
   "id": "f8ab4e7a-dc85-4774-9452-3ee7a6fc502c",
   "metadata": {},
   "outputs": [
    {
     "data": {
      "text/plain": [
       "array([1.85564516, 1.85325827, 1.81315774, 1.74470879, 1.61108875,\n",
       "       1.51944619, 1.39055004, 1.25462675, 1.18945284])"
      ]
     },
     "execution_count": 16,
     "metadata": {},
     "output_type": "execute_result"
    }
   ],
   "source": [
    "triangle_FTS_muPerp"
   ]
  },
  {
   "cell_type": "markdown",
   "id": "3b14d49c-e3b4-422b-818b-e0eb36444e9c",
   "metadata": {},
   "source": [
    "______________\n",
    "\n",
    "## Linear solver"
   ]
  },
  {
   "cell_type": "code",
   "execution_count": 17,
   "id": "57f395cc-e682-405e-8a3c-a4dbff3d678f",
   "metadata": {},
   "outputs": [
    {
     "name": "stdout",
     "output_type": "stream",
     "text": [
      "[0.         0.         0.         0.98121747 0.98121747 0.98090887\n",
      " 0.         0.         0.        ]\n",
      "[0.         0.         0.         0.98001087 0.98001087 0.97970482\n",
      " 0.         0.         0.        ]\n",
      "[0.         0.         0.         0.95959841 0.95959841 0.95933401\n",
      " 0.         0.         0.        ]\n",
      "[0.         0.         0.         0.92425841 0.92425841 0.92406289\n",
      " 0.         0.         0.        ]\n",
      "[0.         0.         0.         0.85424482 0.85424482 0.8541622\n",
      " 0.         0.         0.        ]\n",
      "[0.         0.         0.         0.80587713 0.80587713 0.80584148\n",
      " 0.         0.         0.        ]\n",
      "[0.         0.         0.         0.73765549 0.73765549 0.73764848\n",
      " 0.         0.         0.        ]\n",
      "[0.         0.         0.         0.66559445 0.66559445 0.66559392\n",
      " 0.         0.         0.        ]\n",
      "[0.         0.         0.         0.63102324 0.63102324 0.63102315\n",
      " 0.         0.         0.        ]\n"
     ]
    }
   ],
   "source": [
    "ls = linearSolve(b, Np, eta)\n",
    "## define distances that iterate through rb/2 and forces parallel and perpendicular to these distances \n",
    "\n",
    "triangle_ls_muPerp = np.zeros(rb.shape[0])\n",
    "\n",
    "r, F, T, v, o = np.zeros(3*Np), np.zeros(3*Np), np.zeros(3*Np), np.zeros(3*Np), np.zeros(3*Np)\n",
    "\n",
    "S = np.zeros(5*Np)\n",
    "D = np.zeros(3*Np)\n",
    "\n",
    "## perpendicular\n",
    "k=0\n",
    "for rb_ in rb:\n",
    "    # triangle\n",
    "    # x components\n",
    "    r[0] = -rb_/2.\n",
    "    r[1] =  rb_/2.\n",
    "    r[2] =  0.\n",
    "    \n",
    "    # z components\n",
    "    r[0+2*Np] =  np.sqrt(3)*rb_/6.\n",
    "    r[1+2*Np] =  np.sqrt(3)*rb_/6.\n",
    "    r[2+2*Np] = -np.sqrt(3)*rb_/3.\n",
    "    \n",
    "    for i in range(Np):\n",
    "        #force perpendicular to separation - along z axis\n",
    "        F[i]      = 0.0\n",
    "        F[i+Np]   = 1.0 \n",
    "        F[i+2*Np] = 0.0\n",
    "        \n",
    "        v[i]      = 0.0\n",
    "        v[i+Np]   = 0.0\n",
    "        v[i+2*Np] = 0.0\n",
    "        \n",
    "        o[i]      = 0.0\n",
    "        o[i+Np]   = 0.0\n",
    "        o[i+2*Np] = 0.0\n",
    "        \n",
    "    ls.RBM(v, o, r, F, T, S, D)\n",
    "        \n",
    "    triangle_ls_muPerp[k] = v[0+Np]/mu0 ## force is unity, so raw mobility is just velocity. Normalised by one-particle mobility\n",
    "    print(v)\n",
    "    k += 1"
   ]
  },
  {
   "cell_type": "markdown",
   "id": "1f09c626-955b-4b0f-970a-0baee608a40b",
   "metadata": {},
   "source": [
    "There is a numerical error introduced by the square roots in the distances leading to a differing velocity for the third particle! This becomes more prominent the closer the spheres are, since $\\Delta r/r$ increases, where $\\Delta r$ is the constant numerical error."
   ]
  },
  {
   "cell_type": "code",
   "execution_count": 18,
   "id": "4321e424-e211-4dd2-9277-0ae15f36ab13",
   "metadata": {},
   "outputs": [
    {
     "data": {
      "text/plain": [
       "8.881784197001252e-16"
      ]
     },
     "execution_count": 18,
     "metadata": {},
     "output_type": "execute_result"
    }
   ],
   "source": [
    "## changes in the distances between particles 1 and 2 and between 1 and 3\n",
    "np.linalg.norm(r[::Np]-r[1::Np]) - np.linalg.norm(r[::Np]-r[2::Np])"
   ]
  },
  {
   "cell_type": "code",
   "execution_count": 19,
   "id": "eddd4c0d-598f-4652-aaf9-e611e7cf70f4",
   "metadata": {},
   "outputs": [
    {
     "data": {
      "text/plain": [
       "array([1.84955135, 1.84727696, 1.80880038, 1.74218607, 1.61021355,\n",
       "       1.51904261, 1.39044784, 1.25461598, 1.18945079])"
      ]
     },
     "execution_count": 19,
     "metadata": {},
     "output_type": "execute_result"
    }
   ],
   "source": [
    "triangle_ls_muPerp"
   ]
  },
  {
   "cell_type": "code",
   "execution_count": 20,
   "id": "d33b29a5-6fe3-4ba8-9a29-7ff6734ba616",
   "metadata": {},
   "outputs": [
    {
     "data": {
      "text/plain": [
       "array([2.    , 2.0049, 2.0907, 2.2553, 2.6749, 3.0862, 4.    , 6.    ,\n",
       "       8.    ])"
      ]
     },
     "execution_count": 20,
     "metadata": {},
     "output_type": "execute_result"
    }
   ],
   "source": [
    "rb"
   ]
  },
  {
   "cell_type": "markdown",
   "id": "d25fd0d7-6d00-48c6-8e4f-b3881b4031d3",
   "metadata": {},
   "source": [
    "________________\n",
    "\n",
    "## Plotting"
   ]
  },
  {
   "cell_type": "code",
   "execution_count": 21,
   "id": "f68598c9-2a06-40fa-b0bd-f84c63a2ae43",
   "metadata": {},
   "outputs": [
    {
     "data": {
      "image/png": "[encoded data removed]",
      "text/plain": [
       "<Figure size 432x288 with 1 Axes>"
      ]
     },
     "metadata": {
      "needs_background": "light"
     },
     "output_type": "display_data"
    }
   ],
   "source": [
    "plt.plot(rb, triangle_pstk_muPerp/triangle_ls_muPerp, label='pystokes', marker='o', linestyle=\"None\")\n",
    "plt.plot(rb, triangle_FTS_muPerp/triangle_ls_muPerp, label='FTS', marker='^', linestyle=\"None\")\n",
    "#plt.plot(rb, triangle_ls_muPerp, label='full', marker='x', linestyle=\"None\")\n",
    "plt.axhline(y=1., color='grey', linestyle='--', linewidth=1)\n",
    "plt.xlabel('$r/b$')\n",
    "plt.ylabel('$\\mu_\\perp/\\mu_\\perp(long-ranged)$')\n",
    "plt.legend()\n",
    "plt.show()"
   ]
  },
  {
   "cell_type": "markdown",
   "id": "2a8b3e0d-26fa-41de-8dc7-778f9b45504e",
   "metadata": {},
   "source": [
    "Could include Ladd's results for 3 particles in a line, he compares 3-body contributions and 2-body superposition contribution. Probably less interesting than previous exact results for 2 spheres. \n",
    "\n",
    "_________\n",
    "\n",
    "### Other solutions\n",
    "\n",
    "**Helen J Wilson (2013)** (drag & mobility), **Tran-Cong and Phan-Thien (1989)** (drag, Fig 10, rotating & non-rotating), **Kim (1987)** (drag, no rotation), **Lasso and Weidemann (1986)** (experimental, non-rotating)\n",
    "\n",
    "Comparison to **Helen J Wilson (2013)** of three (freely rotating) spheres in a triangle, method based on Lamb's solution and method of reflections (MR) - convergence, so in principle exact. Good benchmark"
   ]
  },
  {
   "cell_type": "code",
   "execution_count": 22,
   "id": "5a1da2bc-7c54-4128-8a5f-e2e346ddbeff",
   "metadata": {},
   "outputs": [],
   "source": [
    "## rHW = separation for Helen Wilson, muTT_HW and muRT_HW vs muTT_ls and muRT_ls (linear solver). No need to explicitly mention 'Perp', since this is the only relevant config"
   ]
  },
  {
   "cell_type": "code",
   "execution_count": 23,
   "id": "d86f8355-952a-481a-90b3-ef6c3ccaab3d",
   "metadata": {},
   "outputs": [],
   "source": [
    "rHW = np.array([2.01, 2.05, 2.10, 2.15, 2.20, 2.25, 2.30, 2.40, 2.50, 2.60, 2.70, 2.80, 2.90, 3.00])\n",
    "\n",
    "muTT_HW = np.array([1.79223228, 1.79070892, 1.77826951, 1.76311004, 1.74703222, 1.73072508, 1.71452988, 1.68314045, 1.65356957, 1.62599574, 1.60039150,\n",
    "                    1.57664602, 1.55461831, 1.53416156])\n",
    "muRT_HW = np.array([0.159607490, 0.195478184, 0.209731929, 0.214756269, 0.215412007, 0.213577673, 0.210224103, 0.201041187, 0.190411103, 0.179481457, 0.168801210,\n",
    "                    0.158630515, 0.149081378, 0.140187608])"
   ]
  },
  {
   "cell_type": "code",
   "execution_count": 24,
   "id": "d3fb9c19-b333-4101-be9f-1c9d7e013b58",
   "metadata": {},
   "outputs": [],
   "source": [
    "## Force = 6*pi*eta*b in HW"
   ]
  },
  {
   "cell_type": "markdown",
   "id": "1b1576e0-1b9e-4795-808b-0cb2430b97e5",
   "metadata": {
    "tags": []
   },
   "source": [
    "### Pystokes"
   ]
  },
  {
   "cell_type": "code",
   "execution_count": 25,
   "id": "fc3b7c34-7cc1-4ab2-b717-da9153df2988",
   "metadata": {},
   "outputs": [],
   "source": [
    "pstk = pystokes.unbounded.Rbm(b, Np, eta)\n",
    "\n",
    "muTT_pstk = np.zeros(rHW.shape[0])\n",
    "muRT_pstk = np.zeros(rHW.shape[0])\n",
    "\n",
    "r, F, T, v, o = np.zeros(3*Np), np.zeros(3*Np), np.zeros(3*Np), np.zeros(3*Np), np.zeros(3*Np)\n",
    " \n",
    "## perpendicular\n",
    "k=0\n",
    "for rHW_ in rHW:\n",
    "    # triangle\n",
    "    # x components\n",
    "    r[0] = -rHW_/2.\n",
    "    r[1] =  rHW_/2.\n",
    "    r[2] =  0.\n",
    "    \n",
    "    # z components\n",
    "    r[0+2*Np] =  np.sqrt(3)*rHW_/6.\n",
    "    r[1+2*Np] =  np.sqrt(3)*rHW_/6.\n",
    "    r[2+2*Np] = -np.sqrt(3)*rHW_/3.\n",
    "    \n",
    "    for i in range(Np):\n",
    "        #force perpendicular to triangle - along y axis\n",
    "        F[i]      = 0.0\n",
    "        F[i+Np]   = 1.0 \n",
    "        F[i+2*Np] = 0.0\n",
    "        \n",
    "        v[i]      = 0.0\n",
    "        v[i+Np]   = 0.0\n",
    "        v[i+2*Np] = 0.0\n",
    "        \n",
    "        o[i]      = 0.0\n",
    "        o[i+Np]   = 0.0\n",
    "        o[i+2*Np] = 0.0\n",
    "        \n",
    "    pstk.mobilityTT(v,r,F)\n",
    "    pstk.mobilityTR(v,r,T)\n",
    "    pstk.mobilityRT(o,r,F)\n",
    "    pstk.mobilityRR(o,r,T)\n",
    "        \n",
    "    muTT_pstk[k] = v[0+Np]/mu0 ## force is unity, so raw mobility is just velocity. Normalised by one-particle mobility, v[Np=3] is vy of particle one\n",
    "    muRT_pstk[k] = np.abs(o[2]/mu0) ## due to symmetry, use angular velocity of particle 3, which is purely in x direction\n",
    "    k += 1"
   ]
  },
  {
   "cell_type": "code",
   "execution_count": 26,
   "id": "24337ec3-7e15-47d5-987c-82112fe72d17",
   "metadata": {},
   "outputs": [
    {
     "data": {
      "text/plain": [
       "array([1.86941225, 1.84778224, 1.82226541, 1.79829449, 1.77573253,\n",
       "       1.75445816, 1.73436344, 1.69733796, 1.664     , 1.63381884,\n",
       "       1.60636082, 1.58126822, 1.55824347, 1.53703704])"
      ]
     },
     "execution_count": 26,
     "metadata": {},
     "output_type": "execute_result"
    }
   ],
   "source": [
    "muTT_pstk"
   ]
  },
  {
   "cell_type": "code",
   "execution_count": 27,
   "id": "1d4207a1-9b60-45de-ab5c-074571dab431",
   "metadata": {},
   "outputs": [
    {
     "data": {
      "text/plain": [
       "array([0.32153613, 0.30911079, 0.29456646, 0.28102501, 0.2683963 ,\n",
       "       0.25660012, 0.24556486, 0.22552745, 0.2078461 , 0.1921654 ,\n",
       "       0.17819453, 0.16569364, 0.15446351, 0.14433757])"
      ]
     },
     "execution_count": 27,
     "metadata": {},
     "output_type": "execute_result"
    }
   ],
   "source": [
    "muRT_pstk"
   ]
  },
  {
   "cell_type": "markdown",
   "id": "b1f9b2ea-0350-4372-870c-e2d42419f58e",
   "metadata": {},
   "source": [
    "___________\n",
    "\n",
    "### FTS Stokesian dynamics"
   ]
  },
  {
   "cell_type": "code",
   "execution_count": 28,
   "id": "943ecce7-4348-4f60-aa83-918ef0e2181e",
   "metadata": {},
   "outputs": [],
   "source": [
    "lsFTS = FTS(b, Np, eta) \n",
    "\n",
    "muTT_FTS = np.zeros(rHW.shape[0])\n",
    "muRT_FTS = np.zeros(rHW.shape[0])\n",
    "\n",
    "r, F, T, v, o = np.zeros(3*Np), np.zeros(3*Np), np.zeros(3*Np), np.zeros(3*Np), np.zeros(3*Np)\n",
    "\n",
    "S = np.zeros(5*Np)\n",
    "\n",
    "## perpendicular\n",
    "k=0\n",
    "for rHW_ in rHW:\n",
    "    # triangle\n",
    "    # x components\n",
    "    r[0] = -rHW_/2.\n",
    "    r[1] =  rHW_/2.\n",
    "    r[2] =  0.\n",
    "    \n",
    "    # z components\n",
    "    r[0+2*Np] =  np.sqrt(3)*rHW_/6.\n",
    "    r[1+2*Np] =  np.sqrt(3)*rHW_/6.\n",
    "    r[2+2*Np] = -np.sqrt(3)*rHW_/3.\n",
    "    \n",
    "    for i in range(Np):\n",
    "        #force perpendicular to separation - along z axis\n",
    "        F[i]      = 0.0\n",
    "        F[i+Np]   = 1.0 \n",
    "        F[i+2*Np] = 0.0\n",
    "        \n",
    "        v[i]      = 0.0\n",
    "        v[i+Np]   = 0.0\n",
    "        v[i+2*Np] = 0.0\n",
    "        \n",
    "        o[i]      = 0.0\n",
    "        o[i+Np]   = 0.0\n",
    "        o[i+2*Np] = 0.0\n",
    "        \n",
    "    lsFTS.RBM(v, o, r, F, T, S)\n",
    "        \n",
    "    muTT_FTS[k] = v[0+Np]/mu0 ## force is unity, so raw mobility is just velocity. Normalised by one-particle mobility, v[Np=3] is vy of particle one\n",
    "    muRT_FTS[k] = np.abs(o[2]/mu0) ## due to symmetry, use angular velocity of particle 3, which is purely in x direction\n",
    "    k += 1"
   ]
  },
  {
   "cell_type": "code",
   "execution_count": 29,
   "id": "92e9f39b-fe0d-4b4d-98d7-dff7248e0bae",
   "metadata": {},
   "outputs": [
    {
     "data": {
      "text/plain": [
       "array([1.85078521, 1.83178357, 1.80900018, 1.78726082, 1.76652549,\n",
       "       1.74675051, 1.7278902 , 1.69272838, 1.66067667, 1.63139428,\n",
       "       1.60457191, 1.57993415, 1.55723853, 1.53627281])"
      ]
     },
     "execution_count": 29,
     "metadata": {},
     "output_type": "execute_result"
    }
   ],
   "source": [
    "muTT_FTS"
   ]
  },
  {
   "cell_type": "code",
   "execution_count": 30,
   "id": "5d9717d5-9a33-4df4-a699-c2b959028ca8",
   "metadata": {},
   "outputs": [
    {
     "data": {
      "text/plain": [
       "array([0.29113834, 0.28248273, 0.27194941, 0.26176483, 0.25195089,\n",
       "       0.24252   , 0.23347694, 0.21654542, 0.20110058, 0.1870473 ,\n",
       "       0.174273  , 0.16266087, 0.15209737, 0.14247615])"
      ]
     },
     "execution_count": 30,
     "metadata": {},
     "output_type": "execute_result"
    }
   ],
   "source": [
    "muRT_FTS"
   ]
  },
  {
   "cell_type": "markdown",
   "id": "8460639d-a0db-49d3-99f4-44cb11535a09",
   "metadata": {},
   "source": [
    "______________\n",
    "\n",
    "## Linear solver"
   ]
  },
  {
   "cell_type": "code",
   "execution_count": 31,
   "id": "2e38eaf4-c43e-4840-804e-d538671044f3",
   "metadata": {},
   "outputs": [],
   "source": [
    "ls = linearSolve(b, Np, eta)\n",
    "## define distances that iterate through rb/2 and forces parallel and perpendicular to these distances \n",
    "\n",
    "muTT_ls = np.zeros(rHW.shape[0])\n",
    "muRT_ls = np.zeros(rHW.shape[0])\n",
    "\n",
    "r, F, T, v, o = np.zeros(3*Np), np.zeros(3*Np), np.zeros(3*Np), np.zeros(3*Np), np.zeros(3*Np)\n",
    "\n",
    "S = np.zeros(5*Np)\n",
    "D = np.zeros(3*Np)\n",
    "\n",
    "## perpendicular\n",
    "k=0\n",
    "for rHW_ in rHW:\n",
    "    # triangle\n",
    "    # x components\n",
    "    r[0] = -rHW_/2.\n",
    "    r[1] =  rHW_/2.\n",
    "    r[2] =  0.\n",
    "    \n",
    "    # z components\n",
    "    r[0+2*Np] =  np.sqrt(3)*rHW_/6.\n",
    "    r[1+2*Np] =  np.sqrt(3)*rHW_/6.\n",
    "    r[2+2*Np] = -np.sqrt(3)*rHW_/3.\n",
    "    \n",
    "    for i in range(Np):\n",
    "        #force perpendicular to separation - along z axis\n",
    "        F[i]      = 0.0\n",
    "        F[i+Np]   = 1.0 \n",
    "        F[i+2*Np] = 0.0\n",
    "        \n",
    "        v[i]      = 0.0\n",
    "        v[i+Np]   = 0.0\n",
    "        v[i+2*Np] = 0.0\n",
    "        \n",
    "        o[i]      = 0.0\n",
    "        o[i+Np]   = 0.0\n",
    "        o[i+2*Np] = 0.0\n",
    "        \n",
    "    ls.RBM(v, o, r, F, T, S, D)\n",
    "        \n",
    "    muTT_ls[k] = v[0+Np]/mu0 ## force is unity, so raw mobility is just velocity. Normalised by one-particle mobility, v[Np=3] is vy of particle one\n",
    "    muRT_ls[k] = np.abs(o[2]/mu0) ## due to symmetry, use angular velocity of particle 3, which is purely in x direction\n",
    "    k += 1"
   ]
  },
  {
   "cell_type": "code",
   "execution_count": 32,
   "id": "c2dc54c2-3554-441d-806e-9c9c76715907",
   "metadata": {},
   "outputs": [
    {
     "data": {
      "text/plain": [
       "array([1.84491847, 1.82673183, 1.80478478, 1.78371715, 1.76352306,\n",
       "       1.74418641, 1.72568338, 1.69105776, 1.6593792 , 1.63036507,\n",
       "       1.60374142, 1.5792548 , 1.55667667, 1.53580394])"
      ]
     },
     "execution_count": 32,
     "metadata": {},
     "output_type": "execute_result"
    }
   ],
   "source": [
    "muTT_ls"
   ]
  },
  {
   "cell_type": "code",
   "execution_count": 33,
   "id": "241898aa-2d3a-44da-a3bc-13fa9adf69af",
   "metadata": {},
   "outputs": [
    {
     "data": {
      "text/plain": [
       "array([0.2823506 , 0.27504935, 0.26592539, 0.25688362, 0.24799307,\n",
       "       0.23930679, 0.23086377, 0.21480615, 0.19993189, 0.1862541 ,\n",
       "       0.17372929, 0.16228465, 0.15183474, 0.14229134])"
      ]
     },
     "execution_count": 33,
     "metadata": {},
     "output_type": "execute_result"
    }
   ],
   "source": [
    "muRT_ls"
   ]
  },
  {
   "cell_type": "markdown",
   "id": "330ff951-612b-48cd-9608-86024cc508d0",
   "metadata": {},
   "source": [
    "________\n",
    "\n",
    "### Plotting versus Helen Wilson"
   ]
  },
  {
   "cell_type": "code",
   "execution_count": 34,
   "id": "1e40d9c9-de70-4c80-a27d-8d48941389b9",
   "metadata": {},
   "outputs": [
    {
     "data": {
      "image/png": "[encoded data removed]",
      "text/plain": [
       "<Figure size 432x288 with 1 Axes>"
      ]
     },
     "metadata": {
      "needs_background": "light"
     },
     "output_type": "display_data"
    }
   ],
   "source": [
    "plt.plot(rHW, muTT_pstk/muTT_HW, label='pystokes', marker='o', linestyle=\"None\")\n",
    "plt.plot(rHW, muTT_FTS/muTT_HW, label='FTS', marker='^', linestyle=\"None\")\n",
    "plt.plot(rHW, muTT_ls/muTT_HW, label='long-ranged', marker='x', linestyle=\"None\")\n",
    "plt.axhline(y=1., color='grey', linestyle='--', linewidth=1)\n",
    "plt.xlabel('$r/b$')\n",
    "plt.ylabel('$\\mu^{TT}/\\mu^{TT}(HW)$')\n",
    "plt.legend()\n",
    "plt.show()"
   ]
  },
  {
   "cell_type": "code",
   "execution_count": 35,
   "id": "a8495a87-aac1-4d0c-a7bb-3841becc3dba",
   "metadata": {},
   "outputs": [
    {
     "data": {
      "image/png": "[encoded data removed]",
      "text/plain": [
       "<Figure size 432x288 with 1 Axes>"
      ]
     },
     "metadata": {
      "needs_background": "light"
     },
     "output_type": "display_data"
    }
   ],
   "source": [
    "plt.plot(rHW, muRT_pstk/muRT_HW, label='pystokes', marker='o', linestyle=\"None\")\n",
    "plt.plot(rHW, muRT_FTS/muRT_HW, label='FTS', marker='^', linestyle=\"None\")\n",
    "plt.plot(rHW, muRT_ls/muRT_HW, label='long-ranged', marker='x', linestyle=\"None\")\n",
    "plt.axhline(y=1., color='grey', linestyle='--', linewidth=1)\n",
    "plt.xlabel('$r/b$')\n",
    "plt.ylabel('$\\mu^{RT}/\\mu^{RT}(HW)$')\n",
    "plt.legend()\n",
    "plt.show()"
   ]
  },
  {
   "cell_type": "code",
   "execution_count": 36,
   "id": "aa649aab-bbec-4c7f-ae1e-18f33a632f66",
   "metadata": {},
   "outputs": [
    {
     "data": {
      "text/plain": [
       "[<matplotlib.lines.Line2D at 0x7f705282e620>]"
      ]
     },
     "execution_count": 36,
     "metadata": {},
     "output_type": "execute_result"
    },
    {
     "data": {
      "image/png": "[encoded data removed]",
      "text/plain": [
       "<Figure size 432x288 with 1 Axes>"
      ]
     },
     "metadata": {
      "needs_background": "light"
     },
     "output_type": "display_data"
    }
   ],
   "source": [
    "plt.plot(rHW, muRT_ls, label='long-ranged', marker='x', linestyle=\"None\")\n",
    "plt.plot(rHW, muRT_HW, label='HW', marker='x', linestyle=\"None\")"
   ]
  },
  {
   "cell_type": "markdown",
   "id": "d0f70631-2f76-4e01-8970-5062f1d5cd38",
   "metadata": {},
   "source": [
    "That's a terrible result! Why, physically, does mu_RT grow and then fall again for increasing radius? Probably because the three particles have to stop rotating when actually touching (no-slip boundary condition), and in order for the mobilityRT to be continous around touching, it has to decrease. \n",
    "\n",
    "Result might be so bad, because 3-body interactions are $\\sim 1/r^4$, so would have to include higher order traction moments. Good to find limitations of our theory\n",
    "\n",
    "-----------\n",
    "\n",
    "Roughly compare with drag result by **Tran-Cong and Phan-Thien (1989)**, Fig 10, for freely rotating spheres and assume $\\gamma^{TT} \\approx 1/\\mu^{TT}$"
   ]
  },
  {
   "cell_type": "code",
   "execution_count": 37,
   "id": "72d7df51-0802-4a90-ae85-2eff86cf3503",
   "metadata": {},
   "outputs": [
    {
     "data": {
      "image/png": "[encoded data removed]",
      "text/plain": [
       "<Figure size 432x288 with 1 Axes>"
      ]
     },
     "metadata": {
      "needs_background": "light"
     },
     "output_type": "display_data"
    }
   ],
   "source": [
    "plt.plot(rHW, 1/muTT_HW, label='HW', marker='o', linestyle=\"None\")\n",
    "plt.plot(rHW, 1/muTT_ls, label='long-ranged', marker='x', linestyle=\"None\")\n",
    "plt.xlabel('$r/b$')\n",
    "plt.ylabel('$\\gamma^{TT}$')\n",
    "plt.legend()\n",
    "plt.show()"
   ]
  },
  {
   "cell_type": "markdown",
   "id": "758439d4-30b2-44d6-aec7-400f4acf8589",
   "metadata": {},
   "source": [
    "Visually, HW matches form of curve found in the paper much better. Should we include lubrication forces after all? Need resistance formulation, for which an exact two-body lubrication formula is known? "
   ]
  },
  {
   "cell_type": "markdown",
   "id": "46499eb6-8b3c-4222-831b-705b59437db2",
   "metadata": {},
   "source": [
    "In three-body problems it is likely that order 4 moments play a significant role (from method of reflections). Ratio of 1/r^4 to 1/r^3 is simply 1/r, so 1/r^4 becomes larger than 1/r^3 at r=1. Which distance is important here, centre to centre (mathematically) or surface to surface (physically)?\n",
    "\n",
    "I think it is actually centre to centre, so any relevant (physical) r>=2, so that the particles do not overlap. The significance of moments will be different for the translational and the rotational mobilities. "
   ]
  },
  {
   "cell_type": "code",
   "execution_count": null,
   "id": "e2ecaf3a-9c0c-4474-a28f-32d31deec75c",
   "metadata": {},
   "outputs": [],
   "source": []
  },
  {
   "cell_type": "code",
   "execution_count": null,
   "id": "a342d5d1-81cb-4da6-b923-9839b3950c6d",
   "metadata": {},
   "outputs": [],
   "source": []
  },
  {
   "cell_type": "code",
   "execution_count": null,
   "id": "fa876e72-d633-408b-b79b-5069a33e77c5",
   "metadata": {},
   "outputs": [],
   "source": []
  },
  {
   "cell_type": "code",
   "execution_count": null,
   "id": "d157767e-3ae2-427e-93ad-ac56204eb22a",
   "metadata": {},
   "outputs": [],
   "source": []
  }
 ],
 "metadata": {
  "kernelspec": {
   "display_name": "Python 3 (ipykernel)",
   "language": "python",
   "name": "python3"
  },
  "language_info": {
   "codemirror_mode": {
    "name": "ipython",
    "version": 3
   },
   "file_extension": ".py",
   "mimetype": "text/x-python",
   "name": "python",
   "nbconvert_exporter": "python",
   "pygments_lexer": "ipython3",
   "version": "3.10.2"
  }
 },
 "nbformat": 4,
 "nbformat_minor": 5
}
