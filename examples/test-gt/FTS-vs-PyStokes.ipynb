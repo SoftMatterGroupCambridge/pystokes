{
 "cells": [
  {
   "cell_type": "markdown",
   "id": "27367d3d-6824-4904-9406-3804cbc33d97",
   "metadata": {},
   "source": [
    "In this notebook we compare the three methods\n",
    "\n",
    "    *FTS Stokesian dynamics via a direct solver\n",
    "    *PyStokes: superposition approximation\n",
    "    *1st order Jacobi iteration\n",
    "    \n",
    "for two spheres falling in a direction perpendicular to their line of centres due to gravity. We shall look at velocity and rotation angle. Both are assumed to be zero at the start of the fall. \n",
    "\n",
    "We can also check whether we can achieve the FTS result by obtaining its F2s and using it as V2s in PyStokes. piT2s in PyStokes is K1s2s, whereas F2s enters FTS via being contracted with G1s2s -- later..."
   ]
  },
  {
   "cell_type": "code",
   "execution_count": 1,
   "id": "b32ec4e2-e13d-4c4d-9bd8-70a454d9f90f",
   "metadata": {},
   "outputs": [],
   "source": [
    "from ftssd import FTS\n",
    "import autograd.numpy as np, matplotlib.pyplot as plt"
   ]
  },
  {
   "cell_type": "markdown",
   "id": "37471493-b138-4cfa-8f02-088bdde89db6",
   "metadata": {},
   "source": [
    "FTS Stokesian dynamics"
   ]
  },
  {
   "cell_type": "code",
   "execution_count": 2,
   "id": "1ca01e7e-4a86-4ea2-a449-69a31628fdca",
   "metadata": {},
   "outputs": [],
   "source": [
    "# particle radius, self-propulsion speed, number and fluid viscosity\n",
    "b, Np, eta = 1.0, 2, 0.1\n",
    "fts = FTS(b, Np, eta)"
   ]
  },
  {
   "cell_type": "code",
   "execution_count": 3,
   "id": "8f528370-a9c0-4dcc-804a-c7376c772853",
   "metadata": {},
   "outputs": [
    {
     "name": "stdout",
     "output_type": "stream",
     "text": [
      "finish\n",
      "CPU times: user 10.6 s, sys: 25.3 ms, total: 10.6 s\n",
      "Wall time: 10.6 s\n"
     ]
    }
   ],
   "source": [
    "%%time\n",
    "## Two spheres falling next to each other: FTS\n",
    "\n",
    "#initial position\n",
    "r = np.array([0.,2.3, 0.,0., 100.,100.])\n",
    "\n",
    "#gravity in neg z direction\n",
    "F = np.array([0.,0., 0.,0., -1.,-1.])\n",
    "T = np.zeros(3*Np)\n",
    "\n",
    "# integration parameters\n",
    "Nt=2; r1=np.zeros([3,Nt]); r2=np.zeros([3,Nt])\n",
    "r1[:,0] = r[::Np]; r2[:,0] = r[1::Np]\n",
    "dt=3.;\n",
    "v = np.zeros(3*Np);\n",
    "o = np.zeros(3*Np)\n",
    "theta1=np.zeros([3,Nt]); theta2=np.zeros([3,Nt])\n",
    "v1 = np.zeros([3,Nt-1]); v2 = np.zeros([3,Nt-1])\n",
    "o1 = np.zeros([3,Nt-1]); o2 = np.zeros([3,Nt-1])\n",
    "\n",
    "for i in range(Nt-1):\n",
    "    fts.directSolve(v, o, r, F, T)\n",
    "    \n",
    "    r1[:,i+1] = r1[:,i] + dt*v[::Np]\n",
    "    r2[:,i+1] = r2[:,i] + dt*v[1::Np]\n",
    "    \n",
    "    theta1[:,i+1] = theta1[:,i] + dt*o[::Np]\n",
    "    theta2[:,i+1] = theta2[:,i] + dt*o[1::Np]\n",
    "    \n",
    "    #get velocity (constant for this case)\n",
    "    v1[:,i] = v[::Np]\n",
    "    v2[:,i] = v[1::Np]\n",
    "    \n",
    "    #get angular velocity (constant for this case)\n",
    "    o1[:,i] = o[::Np]\n",
    "    o2[:,i] = o[1::Np]\n",
    "    \n",
    "    # reset variables for next time step\n",
    "    r[::Np] = r1[:,i+1]\n",
    "    r[1::Np] = r2[:,i+1]\n",
    "    v = v*0\n",
    "    o = o*0\n",
    "\n",
    "print('finish')"
   ]
  },
  {
   "cell_type": "code",
   "execution_count": 4,
   "id": "72930db7-1137-41d0-973d-a9b94b95c264",
   "metadata": {},
   "outputs": [
    {
     "data": {
      "text/plain": [
       "(array([ 0.       ,  0.       , -0.7520166]),\n",
       " array([0.        , 0.06639793, 0.        ]))"
      ]
     },
     "execution_count": 4,
     "metadata": {},
     "output_type": "execute_result"
    }
   ],
   "source": [
    "v1[:,0], o1[:,0]"
   ]
  },
  {
   "cell_type": "markdown",
   "id": "73a81db5-f216-4c7d-a597-cde3fcab708f",
   "metadata": {},
   "source": [
    "--------------------------------\n",
    "\n",
    "PyStokes (superposition approximation)"
   ]
  },
  {
   "cell_type": "code",
   "execution_count": 5,
   "id": "cdb8a99e-80a9-4376-9815-7f9ecac9ef5f",
   "metadata": {},
   "outputs": [],
   "source": [
    "import pystokes"
   ]
  },
  {
   "cell_type": "code",
   "execution_count": 6,
   "id": "58c261b7-275f-4057-9b1e-5745b2105637",
   "metadata": {},
   "outputs": [],
   "source": [
    "pstk = pystokes.unbounded.Rbm(b, Np, eta)"
   ]
  },
  {
   "cell_type": "code",
   "execution_count": 7,
   "id": "1a8e449b-c5c6-44e8-9529-9d451802d376",
   "metadata": {},
   "outputs": [
    {
     "name": "stdout",
     "output_type": "stream",
     "text": [
      "finish\n",
      "CPU times: user 1.22 s, sys: 187 µs, total: 1.22 s\n",
      "Wall time: 238 ms\n"
     ]
    }
   ],
   "source": [
    "%%time\n",
    "## Two spheres falling next to each other: pystokes\n",
    "\n",
    "#initial position\n",
    "r = np.array([0.,2.3, 0.,0., 100.,100.])\n",
    "\n",
    "#gravity in neg z direction\n",
    "F = np.array([0.,0., 0.,0., -1.,-1.])\n",
    "T = np.zeros(3*Np)\n",
    "\n",
    "# integration parameters\n",
    "Nt=2; r1=np.zeros([3,Nt]); r2=np.zeros([3,Nt])\n",
    "r1[:,0] = r[::Np]; r2[:,0] = r[1::Np]\n",
    "dt=3.;\n",
    "v = np.zeros(3*Np);\n",
    "o = np.zeros(3*Np)\n",
    "theta1=np.zeros([3,Nt]); theta2=np.zeros([3,Nt])\n",
    "v1_pstk = np.zeros([3,Nt-1]); v2_pstk = np.zeros([3,Nt-1])\n",
    "o1_pstk = np.zeros([3,Nt-1]); o2_pstk = np.zeros([3,Nt-1])\n",
    "\n",
    "for i in range(Nt-1):\n",
    "    pstk.mobilityTT(v, r, F)\n",
    "    pstk.mobilityTR(v, r, T)\n",
    "    pstk.mobilityRT(o, r, F)\n",
    "    pstk.mobilityRR(o, r, T)\n",
    "    \n",
    "    r1[:,i+1] = r1[:,i] + dt*v[::Np]\n",
    "    r2[:,i+1] = r2[:,i] + dt*v[1::Np]\n",
    "    \n",
    "    theta1[:,i+1] = theta1[:,i] + dt*o[::Np]\n",
    "    theta2[:,i+1] = theta2[:,i] + dt*o[1::Np]\n",
    "    \n",
    "    #get velocity (constant for this case)\n",
    "    v1_pstk[:,i] = v[::Np]\n",
    "    v2_pstk[:,i] = v[1::Np]\n",
    "    \n",
    "    #get angular velocity (constant for this case)\n",
    "    o1_pstk[:,i] = o[::Np]\n",
    "    o2_pstk[:,i] = o[1::Np]\n",
    "    \n",
    "    # reset variables for next time step\n",
    "    r[::Np] = r1[:,i+1]\n",
    "    r[1::Np] = r2[:,i+1]\n",
    "    v = v*0\n",
    "    o = o*0\n",
    "\n",
    "print('finish')"
   ]
  },
  {
   "cell_type": "code",
   "execution_count": 8,
   "id": "8224ef4b-0836-4ab8-a395-ed273ca2f615",
   "metadata": {},
   "outputs": [
    {
     "data": {
      "text/plain": [
       "(array([ 0.        ,  0.        , -0.72531243]),\n",
       " array([0.      , 0.075215, 0.      ]))"
      ]
     },
     "execution_count": 8,
     "metadata": {},
     "output_type": "execute_result"
    }
   ],
   "source": [
    "v1_pstk[:,0], o1_pstk[:,0]"
   ]
  },
  {
   "cell_type": "markdown",
   "id": "ea93f83c-7297-4446-9491-157f2f958b68",
   "metadata": {},
   "source": [
    "-----------------------------\n",
    "\n",
    "In free space, for two bodies, the first order in the Jacobi iteration is the same as the zeroth order (=superposition approximation), so there will be no correction. Does that seem right?\n",
    "\n",
    "Corrections appear at three bodies or when there are boundaries.\n",
    "\n",
    "---------------------------------\n"
   ]
  },
  {
   "cell_type": "markdown",
   "id": "a3fb7dbf-2e2c-4d2f-b395-6cb66d3211a7",
   "metadata": {},
   "source": [
    "Compute the contribution we get from G1s2s F2s, and then see what we can do with that"
   ]
  },
  {
   "cell_type": "code",
   "execution_count": 9,
   "id": "1f4514cf-d384-4dc4-bd5d-ae0acab938e9",
   "metadata": {},
   "outputs": [],
   "source": [
    "r = np.array([0.,2.3, 0.,0., 100.,100.])\n",
    "\n",
    "#gravity in neg z direction\n",
    "F = np.array([0.,0., 0.,0., -1.,-1.])\n",
    "T = np.zeros(3*Np)\n",
    "\n",
    "i=0; j=1\n",
    "\n",
    "xij = r[i]    - r[j]\n",
    "yij = r[i+Np]  - r[j+Np]\n",
    "zij = r[i+2*Np]  - r[j+2*Np]\n",
    "\n",
    "force  = np.array([F[j],F[j+Np], F[j+2*Np]])\n",
    "torque = np.array([T[j],T[j+Np], T[j+2*Np]])\n",
    "\n",
    "lhs = fts.tensorG2s2s(xij,yij,zij)\n",
    "lhs_mat = np.reshape(lhs, (9,9))\n",
    "lhs_mat_inv = np.linalg.pinv(lhs_mat)\n",
    "lhs_inv = np.reshape(lhs_mat_inv, (3,3,3,3))\n",
    "rhs = (np.dot(fts.tensorG2s1s(xij,yij,zij), force) \n",
    "                + 1./b * np.dot(fts.tensorG2s2a(xij,yij,zij), torque))\n",
    "F2s = np.einsum('ijkl, kl', lhs_inv, rhs)\n"
   ]
  },
  {
   "cell_type": "code",
   "execution_count": 11,
   "id": "c742b46e-f681-434c-aa46-30a12548e60a",
   "metadata": {},
   "outputs": [
    {
     "data": {
      "text/plain": [
       "array([[ 0.00000000e+00,  0.00000000e+00, -5.86921850e-01],\n",
       "       [ 0.00000000e+00,  0.00000000e+00,  1.23259516e-32],\n",
       "       [-5.86921850e-01,  1.23259516e-32,  0.00000000e+00]])"
      ]
     },
     "execution_count": 11,
     "metadata": {},
     "output_type": "execute_result"
    }
   ],
   "source": [
    "F2s"
   ]
  },
  {
   "cell_type": "markdown",
   "id": "1c2d8c7a-771d-459a-b448-e646488d8441",
   "metadata": {},
   "source": [
    "See whether if we add this to v and o from pystokes with G1s2s and G2a2s it becomes the same. "
   ]
  },
  {
   "cell_type": "code",
   "execution_count": 12,
   "id": "0f2f0184-4c39-4905-811b-94fe2e0dfb1e",
   "metadata": {},
   "outputs": [],
   "source": [
    "v_ = - np.einsum('ijk,jk',fts.tensorG1s2s(xij,yij,zij),F2s)"
   ]
  },
  {
   "cell_type": "code",
   "execution_count": 13,
   "id": "a4823e4f-1567-40cb-b055-e7796987d33e",
   "metadata": {},
   "outputs": [
    {
     "data": {
      "text/plain": [
       "array([-0.        , -0.        , -0.02670417])"
      ]
     },
     "execution_count": 13,
     "metadata": {},
     "output_type": "execute_result"
    }
   ],
   "source": [
    "v_"
   ]
  },
  {
   "cell_type": "code",
   "execution_count": 15,
   "id": "fc5d66f5-bb9b-40ba-bfa3-5b642ac49b44",
   "metadata": {},
   "outputs": [
    {
     "data": {
      "text/plain": [
       "array([[ 0.        ],\n",
       "       [ 0.        ],\n",
       "       [-0.02670417]])"
      ]
     },
     "execution_count": 15,
     "metadata": {},
     "output_type": "execute_result"
    }
   ],
   "source": [
    "v1 - v1_pstk"
   ]
  },
  {
   "cell_type": "markdown",
   "id": "1c8f3781-5540-410f-9e53-5e150211e0b7",
   "metadata": {},
   "source": [
    "Indeed, the difference between the velocities of FTS and PyStokes is equal to G1s2s * F2s.\n",
    "\n",
    "________________________________\n",
    "\n",
    "\n",
    "Now compare the angular velocity, or alternatively the angle = time * angular velocity"
   ]
  },
  {
   "cell_type": "code",
   "execution_count": 16,
   "id": "3e8c344c-0225-4e1e-830b-3925d6d288e0",
   "metadata": {},
   "outputs": [
    {
     "data": {
      "text/plain": [
       "array([-0.        ,  0.02879043, -0.        ])"
      ]
     },
     "execution_count": 16,
     "metadata": {},
     "output_type": "execute_result"
    }
   ],
   "source": [
    "o_ = -0.5/b * np.einsum('ijk,jk',fts.tensorG2a2s(xij,yij,zij),F2s)\n",
    "o_"
   ]
  },
  {
   "cell_type": "code",
   "execution_count": 19,
   "id": "167d0e3f-3b70-470e-a9c3-f4a5eeae0757",
   "metadata": {},
   "outputs": [
    {
     "data": {
      "text/plain": [
       "array([[ 0.        ],\n",
       "       [-0.00881707],\n",
       "       [ 0.        ]])"
      ]
     },
     "execution_count": 19,
     "metadata": {},
     "output_type": "execute_result"
    }
   ],
   "source": [
    "o1 - o1_pstk"
   ]
  },
  {
   "cell_type": "markdown",
   "id": "5cbe940e-f77e-49a1-8b88-742a211fb6fe",
   "metadata": {},
   "source": [
    "The difference between FTS and PyStokes angular velocities is NOT equal to the term G2a2s * F2s appearing in the equation for the angular velocity. \n",
    "\n",
    "Check pystokes code"
   ]
  },
  {
   "cell_type": "code",
   "execution_count": 28,
   "id": "031eeb26-15fa-4b62-962a-c76fab6bf8c3",
   "metadata": {},
   "outputs": [
    {
     "data": {
      "text/plain": [
       "array([0., 0., 0., 0., 0., 0.])"
      ]
     },
     "execution_count": 28,
     "metadata": {},
     "output_type": "execute_result"
    }
   ],
   "source": [
    "o = np.zeros(3*Np)\n",
    "pstk.mobilityRR(o, r, T)\n",
    "o"
   ]
  },
  {
   "cell_type": "code",
   "execution_count": 34,
   "id": "03080bc1-bfa9-429b-aef6-f2d81a2367b1",
   "metadata": {},
   "outputs": [
    {
     "data": {
      "text/plain": [
       "array([0.        , 0.06639793, 0.        ])"
      ]
     },
     "execution_count": 34,
     "metadata": {},
     "output_type": "execute_result"
    }
   ],
   "source": [
    "o = np.zeros(3*Np)\n",
    "\n",
    "i=0; j=1\n",
    "\n",
    "xij = r[i]    - r[j]\n",
    "yij = r[i+Np]  - r[j+Np]\n",
    "zij = r[i+2*Np]  - r[j+2*Np]\n",
    "\n",
    "torque = np.array([T[j],T[j+Np], T[j+2*Np]])\n",
    "\n",
    "o_ += 0.5/(b*b)* np.dot(fts.tensorG2a2a(xij,yij,zij), torque)\n",
    "o_\n"
   ]
  },
  {
   "cell_type": "code",
   "execution_count": 31,
   "id": "c0221606-f9bd-4fe6-8697-2b7e785910ab",
   "metadata": {},
   "outputs": [
    {
     "data": {
      "text/plain": [
       "array([ 0.      ,  0.      ,  0.075215, -0.075215,  0.      ,  0.      ])"
      ]
     },
     "execution_count": 31,
     "metadata": {},
     "output_type": "execute_result"
    }
   ],
   "source": [
    "o = np.zeros(3*Np)\n",
    "pstk.mobilityRT(o, r, F)\n",
    "o"
   ]
  },
  {
   "cell_type": "code",
   "execution_count": 35,
   "id": "43374028-8162-4b2d-9865-0cad6d1310c4",
   "metadata": {},
   "outputs": [
    {
     "data": {
      "text/plain": [
       "array([0.        , 0.10400543, 0.        ])"
      ]
     },
     "execution_count": 35,
     "metadata": {},
     "output_type": "execute_result"
    }
   ],
   "source": [
    "o = np.zeros(3*Np)\n",
    "\n",
    "i=0; j=1\n",
    "\n",
    "xij = r[i]    - r[j]\n",
    "yij = r[i+Np]  - r[j+Np]\n",
    "zij = r[i+2*Np]  - r[j+2*Np]\n",
    "\n",
    "force = np.array([F[j],F[j+Np], F[j+2*Np]])\n",
    "\n",
    "o_ += 0.5/b* np.dot(fts.tensorG2a1s(xij,yij,zij), force)\n",
    "o_"
   ]
  },
  {
   "cell_type": "code",
   "execution_count": null,
   "id": "5b454c3c-4cb6-4387-a247-8eabf3b6ce14",
   "metadata": {},
   "outputs": [],
   "source": []
  }
 ],
 "metadata": {
  "kernelspec": {
   "display_name": "Python 3 (ipykernel)",
   "language": "python",
   "name": "python3"
  },
  "language_info": {
   "codemirror_mode": {
    "name": "ipython",
    "version": 3
   },
   "file_extension": ".py",
   "mimetype": "text/x-python",
   "name": "python",
   "nbconvert_exporter": "python",
   "pygments_lexer": "ipython3",
   "version": "3.10.2"
  }
 },
 "nbformat": 4,
 "nbformat_minor": 5
}
