{
 "cells": [
  {
   "cell_type": "markdown",
   "id": "84e68a7e-7a92-4944-8fe8-b4ae34674ec9",
   "metadata": {},
   "source": [
    "## Mobility of a sedimenting lattice as a function of volume fraction"
   ]
  },
  {
   "cell_type": "code",
   "execution_count": 1,
   "id": "820221fe-ad2c-4b9e-abfe-8c4d0207e862",
   "metadata": {},
   "outputs": [],
   "source": [
    "import matplotlib.pyplot as plt \n",
    "import numpy as np\n",
    "import solvePeriodic\n",
    "import directSolvePeriodic\n",
    "import Fourierperiodic_1_4 as me\n",
    "from math import *\n",
    "PI = 3.14159265359"
   ]
  },
  {
   "cell_type": "code",
   "execution_count": 2,
   "id": "f63f3819-363f-444e-a929-ce715a6b1da3",
   "metadata": {},
   "outputs": [],
   "source": [
    "#Parameters\n",
    "Np=1\n",
    "b, eta, dim = 1.0, 1.0/100, 3\n",
    "ta =(4*np.pi/3)**(1.0/3) \n",
    "L = ta/np.asarray([0.1, 0.3, 0.4, 0.5, 0.6, 0.7, 0.7663094323935531, 0.8059966052641452])\n",
    "\n",
    "# Memory allocation\n",
    "v = np.zeros(dim*Np)      \n",
    "o = np.zeros(dim*Np)  \n",
    "r = np.zeros(dim*Np)        \n",
    "F = np.zeros(dim*Np)\n",
    "T = np.zeros(dim*Np)  \n",
    "vv  = np.zeros(np.size(L))\n",
    "phi = np.zeros(np.size(L) )\n",
    "\n",
    "S = np.zeros(Np*5)\n",
    "D = np.zeros(Np*3)\n",
    "\n",
    "mu=1.0/(6*np.pi*eta*b)"
   ]
  },
  {
   "cell_type": "code",
   "execution_count": 3,
   "id": "70d22ba4-d779-444f-b5a1-7a54e0aed5d9",
   "metadata": {},
   "outputs": [],
   "source": [
    "#(0.5236*3/(4*np.pi*b**3))**(1/3)*ta ##reverse engineer above numbers in L= ta/array()"
   ]
  },
  {
   "cell_type": "code",
   "execution_count": 4,
   "id": "e310ebd3-5e9d-4acc-ac9d-1c1b7ed76637",
   "metadata": {},
   "outputs": [
    {
     "data": {
      "text/plain": [
       "array([16.11991954,  5.37330651,  4.02997989,  3.22398391,  2.68665326,\n",
       "        2.30284565,  2.10357838,  1.99999844])"
      ]
     },
     "execution_count": 4,
     "metadata": {},
     "output_type": "execute_result"
    }
   ],
   "source": [
    "L"
   ]
  },
  {
   "cell_type": "code",
   "execution_count": 5,
   "id": "448bcbdb-93da-4310-b932-1185babb8430",
   "metadata": {},
   "outputs": [],
   "source": [
    "# phi = (4*np.pi*b**3)/(3*L**3)\n",
    "# phi"
   ]
  },
  {
   "cell_type": "code",
   "execution_count": 6,
   "id": "3064c641-9eb9-46c1-99dc-f868d0669121",
   "metadata": {},
   "outputs": [
    {
     "data": {
      "image/png": "[encoded data removed]",
      "text/plain": [
       "<Figure size 432x288 with 1 Axes>"
      ]
     },
     "metadata": {
      "needs_background": "light"
     },
     "output_type": "display_data"
    }
   ],
   "source": [
    "# Deafult value of xi = sqrt(pi)/L\n",
    "b=1.\n",
    "\n",
    "L=np.linspace(1.7,2.4)\n",
    "\n",
    "vv  = np.zeros(np.size(L))\n",
    "phi = np.zeros(np.size(L) )\n",
    "\n",
    "S = np.zeros(Np*5)\n",
    "D = np.zeros(Np*3)\n",
    "\n",
    "phi = (4*np.pi*b**3)/(3*L**3)\n",
    "\n",
    "\n",
    "for i in range(np.size(L)):\n",
    "    v = v*0\n",
    "    F = F*0\n",
    "\n",
    "    r[0], r[1], r[2] = 0.0, 0.0, 0.0\n",
    "\n",
    "    F[2] = -1  ## gravity                           \n",
    "    \n",
    "    Rbm = solvePeriodic.Rbm(b, eta, L[i], xi=sqrt(pi)/L[i])   \n",
    "    Rbm.krylovSolve(v, o, F, T, S, D)\n",
    "    #print(v)\n",
    "    \n",
    "    mu00 = mu*F[2]\n",
    "    vv[i] = v[2]/mu00   \n",
    "    \n",
    "\n",
    "#exR = [.825, .498, .356, .233, .134, .065, 0.036, 0.024]\n",
    "plt.title('Fourier space with M2(r=0)')\n",
    "#plt.plot(phi, exR, 'd', color=\"#348ABD\", label='Zick and Homsy')\n",
    "plt.plot(L, vv, 'o', color=\"#A60628\", label='Simulation')\n",
    "\n",
    "plt.xlabel(r'L', fontsize=20); plt.ylabel(r'$\\mu/\\mu_0$', fontsize=20)\n",
    "#plt.legend(loc='upper right', shadow=True)\n",
    "plt.show()\n",
    "\n",
    "# print ('volume fraction   simulation\\t Zick & Homsy (1982)')\n",
    "# for i in range(np.size(L)):\n",
    "#     print ('%1.3f\\t\\t  %1.3f\\t\\t %1.3f\\t'%(phi[i], vv[i], exR[i] ))"
   ]
  },
  {
   "cell_type": "code",
   "execution_count": null,
   "id": "3f66d0e2-210c-448d-b987-c0a92606cd42",
   "metadata": {},
   "outputs": [],
   "source": []
  },
  {
   "cell_type": "code",
   "execution_count": 7,
   "id": "abe816eb-df8d-4dcd-a5bf-e2f150896bda",
   "metadata": {},
   "outputs": [],
   "source": [
    "## weird step change - is this due to Krylov solver? Try direct solver\n",
    "\n",
    "## decreasing xi renders contribution from Fourier space smaller \n",
    "## a good match for large volume fraction can be achieved by roughly xi = 0.81*sqrt(pi)/L[i]\n",
    "## so Fourier space is doing something funny for large volume fractions! Why? \n",
    "\n",
    "## Checked G1s1s vs pystokes (superposition approximation) and it matches exactly - assume GR and GF are both correct\n",
    "\n",
    "\n",
    "\n",
    "## tried a few rogue values in L=ta/array() and there is clearly something going on around L=2.25 that's weird\n",
    "## Either it is the Krylov solver, or could the symmetries do something weird? \n",
    "\n",
    "## can test GHH"
   ]
  },
  {
   "cell_type": "code",
   "execution_count": 8,
   "id": "4ebbb4c6-176f-4b75-86dd-88a3243d3165",
   "metadata": {},
   "outputs": [],
   "source": [
    "import numpy as np\n",
    "from scipy.sparse.linalg import bicgstab, LinearOperator"
   ]
  },
  {
   "cell_type": "code",
   "execution_count": 9,
   "id": "2dce9720-a444-4b55-8d95-901c6fcf577f",
   "metadata": {},
   "outputs": [],
   "source": [
    "L = np.linspace(2.3, 2.6)"
   ]
  },
  {
   "cell_type": "code",
   "execution_count": 55,
   "id": "59c5e583-b3f0-4b7e-9db5-25c7fa77aefa",
   "metadata": {},
   "outputs": [],
   "source": [
    "dimH = 20\n",
    "xi=sqrt(pi)/L\n",
    "FH = np.zeros(dimH*len(L))\n",
    "normFH = np.zeros(len(L))\n",
    "\n",
    "for i in range(len(L)):\n",
    "    def GHHFH(FH):\n",
    "            GHHFH = np.zeros(dimH)\n",
    "            me.GHHFH(GHHFH, L[i],xi[i], b,eta, FH)\n",
    "            me.GoHHFH(GHHFH, b,eta, FH)\n",
    "            return GHHFH\n",
    "        \n",
    "    #print(GHHFH(np.ones(dimH)))\n",
    "\n",
    "    rhs = GHHFH(np.ones(dimH))\n",
    "        \n",
    "    GHHFH = LinearOperator((dimH, dimH), matvec = GHHFH)\n",
    "            \n",
    "    FH[i*dimH:(i+1)*dimH], exitCode = bicgstab(GHHFH, rhs, tol=1e-5)\n",
    "    normFH[i] = np.linalg.norm(FH[i*dimH:(i+1)*dimH])"
   ]
  },
  {
   "cell_type": "code",
   "execution_count": 56,
   "id": "57c9c30b-ebc4-4098-bfab-2405bc4ccc03",
   "metadata": {},
   "outputs": [
    {
     "data": {
      "text/plain": [
       "array([4.47215694, 4.47210597, 4.47215029, 4.47217871, 4.47213272,\n",
       "       4.47218631, 4.47218022, 4.47212001, 4.47213197, 4.47225566,\n",
       "       4.47208837, 4.47202329, 4.47215052, 4.4721349 , 4.47213497,\n",
       "       4.47210418, 4.47214238, 4.47214076, 4.47212547, 4.47212907,\n",
       "       4.47213803, 4.47218409, 4.47219193, 4.47214907, 4.47217605,\n",
       "       4.47215066, 4.47201437, 4.47246176, 4.47199074, 4.47208585,\n",
       "       4.47246613, 4.47286986, 4.47196795, 4.47216936, 4.47251252,\n",
       "       4.47192271, 4.47187716, 4.47107987, 4.47238   , 4.46939248,\n",
       "       4.47517336, 4.47786476, 4.48499921, 4.47123065, 4.47155596,\n",
       "       4.47350191, 4.47267633, 4.46677201, 4.47215718, 4.47280311])"
      ]
     },
     "execution_count": 56,
     "metadata": {},
     "output_type": "execute_result"
    }
   ],
   "source": [
    "normFH"
   ]
  },
  {
   "cell_type": "code",
   "execution_count": 57,
   "id": "e8c0a98f-ec72-4558-aecf-5a7aee520aa8",
   "metadata": {},
   "outputs": [
    {
     "data": {
      "text/plain": [
       "array([4.47213595, 4.47213595, 4.47213595, 4.47213595, 4.47213595,\n",
       "       4.47213595, 4.47213595, 4.47213595, 4.47213595, 4.47213595,\n",
       "       4.47213595, 4.47213595, 4.47213595, 4.47213595, 4.47213595,\n",
       "       4.47213595, 4.47213595, 4.47213595, 4.47213595, 4.47213595,\n",
       "       4.47213595, 4.47213595, 4.47213595, 4.47213595, 4.47213595,\n",
       "       4.47213595, 4.47213595, 4.47213595, 4.47213595, 4.47213595,\n",
       "       4.47213595, 4.47213595, 4.47213595, 4.47213595, 4.47213595,\n",
       "       4.47213595, 4.47213595, 4.47213595, 4.47213595, 4.47213595,\n",
       "       4.47213595, 4.47213595, 4.47213595, 4.47213595, 4.47213595,\n",
       "       4.47213595, 4.47213595, 4.47213595, 4.47213595, 4.47213595])"
      ]
     },
     "execution_count": 57,
     "metadata": {},
     "output_type": "execute_result"
    }
   ],
   "source": [
    "exact_soln = np.full(len(L), np.linalg.norm(np.ones(dimH)))\n",
    "exact_soln"
   ]
  },
  {
   "cell_type": "code",
   "execution_count": 58,
   "id": "f857a637-b320-40ec-bf7c-ec570fe91bc0",
   "metadata": {},
   "outputs": [
    {
     "data": {
      "image/png": "[encoded data removed]",
      "text/plain": [
       "<Figure size 432x288 with 1 Axes>"
      ]
     },
     "metadata": {
      "needs_background": "light"
     },
     "output_type": "display_data"
    }
   ],
   "source": [
    "plt.plot(L, normFH, label='bicstab')\n",
    "plt.plot(L, exact_soln, label='exact solution') \n",
    "plt.xlabel('L')\n",
    "plt.ylabel('norm solution')\n",
    "plt.ylim([4,5])\n",
    "plt.legend()\n",
    "plt.show()"
   ]
  },
  {
   "cell_type": "code",
   "execution_count": 59,
   "id": "08ca2d2a-96d3-471d-95c4-4c59e8b41aa8",
   "metadata": {},
   "outputs": [
    {
     "data": {
      "text/plain": [
       "array([2.3       , 2.30612245, 2.3122449 , 2.31836735, 2.3244898 ,\n",
       "       2.33061224, 2.33673469, 2.34285714, 2.34897959, 2.35510204,\n",
       "       2.36122449, 2.36734694, 2.37346939, 2.37959184, 2.38571429,\n",
       "       2.39183673, 2.39795918, 2.40408163, 2.41020408, 2.41632653,\n",
       "       2.42244898, 2.42857143, 2.43469388, 2.44081633, 2.44693878,\n",
       "       2.45306122, 2.45918367, 2.46530612, 2.47142857, 2.47755102,\n",
       "       2.48367347, 2.48979592, 2.49591837, 2.50204082, 2.50816327,\n",
       "       2.51428571, 2.52040816, 2.52653061, 2.53265306, 2.53877551,\n",
       "       2.54489796, 2.55102041, 2.55714286, 2.56326531, 2.56938776,\n",
       "       2.5755102 , 2.58163265, 2.5877551 , 2.59387755, 2.6       ])"
      ]
     },
     "execution_count": 59,
     "metadata": {},
     "output_type": "execute_result"
    }
   ],
   "source": [
    "L"
   ]
  },
  {
   "cell_type": "code",
   "execution_count": 60,
   "id": "6c0a6cc4-1792-4c7b-8a22-e53a1f59985c",
   "metadata": {},
   "outputs": [
    {
     "data": {
      "text/plain": [
       "array([0.77063211, 0.76858618, 0.76655109, 0.76452675, 0.76251307,\n",
       "       0.76050997, 0.75851737, 0.75653518, 0.75456332, 0.75260172,\n",
       "       0.75065029, 0.74870895, 0.74677763, 0.74485625, 0.74294473,\n",
       "       0.74104299, 0.73915097, 0.73726858, 0.73539576, 0.73353242,\n",
       "       0.73167851, 0.72983394, 0.72799865, 0.72617256, 0.72435562,\n",
       "       0.72254774, 0.72074887, 0.71895893, 0.71717786, 0.71540559,\n",
       "       0.71364206, 0.7118872 , 0.71014095, 0.70840325, 0.70667403,\n",
       "       0.70495324, 0.7032408 , 0.70153666, 0.69984076, 0.69815304,\n",
       "       0.69647345, 0.69480191, 0.69313838, 0.69148279, 0.6898351 ,\n",
       "       0.68819524, 0.68656315, 0.68493879, 0.6833221 , 0.68171302])"
      ]
     },
     "execution_count": 60,
     "metadata": {},
     "output_type": "execute_result"
    }
   ],
   "source": [
    "xi"
   ]
  },
  {
   "cell_type": "markdown",
   "id": "8f936fb8-960e-4b90-886f-7e0e40e9656a",
   "metadata": {},
   "source": [
    "Krylov on GHH seems to work fine? What happens around L=2.25?"
   ]
  },
  {
   "cell_type": "code",
   "execution_count": 61,
   "id": "c40ab6b5-f7d7-490e-b916-9794c1a7005a",
   "metadata": {},
   "outputs": [
    {
     "data": {
      "text/plain": [
       "array([1.5 , 1.6 , 1.7 , 1.8 , 1.9 , 2.1 , 2.15, 2.2 , 2.25, 2.3 , 2.4 ,\n",
       "       2.6 , 2.8 , 3.  , 4.  , 5.  , 6.  ])"
      ]
     },
     "execution_count": 61,
     "metadata": {},
     "output_type": "execute_result"
    }
   ],
   "source": [
    "L  = np.array([1.5,1.6, 1.7, 1.8,1.9, 2.1, 2.15, 2.2, 2.25, 2.3, 2.4, 2.6,2.8, 3., 4., 5., 6. ])\n",
    "xi = sqrt(pi)/L\n",
    "\n",
    "phi = (4*np.pi*b**3)/(3*L**3)\n",
    "L"
   ]
  },
  {
   "cell_type": "code",
   "execution_count": 62,
   "id": "23dd7bd8-3d0e-418e-a211-f06641a4fa76",
   "metadata": {},
   "outputs": [
    {
     "data": {
      "image/png": "[encoded data removed]",
      "text/plain": [
       "<Figure size 432x288 with 1 Axes>"
      ]
     },
     "metadata": {
      "needs_background": "light"
     },
     "output_type": "display_data"
    }
   ],
   "source": [
    "normGHHFH = np.zeros(len(L))\n",
    "for i in range(len(L)):\n",
    "    GHHFH = np.zeros(dimH)\n",
    "    me.GHHFH(GHHFH, L[i],xi[i], b,eta, np.ones(dimH))\n",
    "    #print(np.linalg.norm(GHHFH))\n",
    "    normGHHFH[i] = np.sum(GHHFH)\n",
    "plt.plot(L, normGHHFH)\n",
    "plt.show()"
   ]
  },
  {
   "cell_type": "code",
   "execution_count": 63,
   "id": "65128b21-c0b4-4012-81b3-1bfc20816099",
   "metadata": {},
   "outputs": [
    {
     "data": {
      "image/png": "[encoded data removed]",
      "text/plain": [
       "<Figure size 432x288 with 1 Axes>"
      ]
     },
     "metadata": {
      "needs_background": "light"
     },
     "output_type": "display_data"
    }
   ],
   "source": [
    "normGH1sF = np.zeros(len(L))\n",
    "for i in range(len(L)):\n",
    "    GH1sF = np.zeros(dimH)\n",
    "    me.GH1sF(GH1sF, L[i],xi[i], b,eta, np.array([0,0,-1]))\n",
    "    # print(np.linalg.norm(GH1sF))\n",
    "    normGH1sF[i] = np.sum(GH1sF)\n",
    "plt.plot(L, normGH1sF) ## weird behaviour with increasing distance\n",
    "plt.show()"
   ]
  },
  {
   "cell_type": "code",
   "execution_count": 64,
   "id": "1830b02d-d049-43f7-b7f3-7f2f439f47ab",
   "metadata": {},
   "outputs": [
    {
     "data": {
      "image/png": "[encoded data removed]",
      "text/plain": [
       "<Figure size 432x288 with 1 Axes>"
      ]
     },
     "metadata": {
      "needs_background": "light"
     },
     "output_type": "display_data"
    }
   ],
   "source": [
    "normG1s1sF = np.zeros(len(L))\n",
    "for i in range(len(L)):\n",
    "    G1s1sF = np.zeros(3)\n",
    "    me.G1s1sF(G1s1sF, L[i],xi[i], b,eta, np.array([0,0,-1]))\n",
    "    #print(np.linalg.norm(G1s1sF))\n",
    "    normG1s1sF[i] = np.sum(G1s1sF)\n",
    "plt.plot(L, normG1s1sF)\n",
    "plt.show()"
   ]
  },
  {
   "cell_type": "code",
   "execution_count": 65,
   "id": "7562b9d8-627f-495a-bb1c-490ff852465b",
   "metadata": {},
   "outputs": [
    {
     "data": {
      "image/png": "[encoded data removed]",
      "text/plain": [
       "<Figure size 432x288 with 1 Axes>"
      ]
     },
     "metadata": {
      "needs_background": "light"
     },
     "output_type": "display_data"
    }
   ],
   "source": [
    "normG1sHFH = np.zeros(len(L))\n",
    "for i in range(len(L)):\n",
    "    G1sHFH = np.zeros(3)\n",
    "    me.G1sHFH(G1sHFH, L[i],xi[i], b,eta, np.ones(dimH))\n",
    "    #print(np.linalg.norm(G1sHFH))\n",
    "    normG1sHFH[i] = np.sum(G1sHFH)\n",
    "plt.plot(L, normG1sHFH)\n",
    "plt.show()"
   ]
  },
  {
   "cell_type": "code",
   "execution_count": 66,
   "id": "c3e5fd5c-32f9-44f7-8946-9c74a2aac4d4",
   "metadata": {},
   "outputs": [],
   "source": [
    "##2 things: a) G1s1sF has a weird kink at L=5, and b)  GH1sF does something weird around 2.25-2.5, it gets stronger with distance"
   ]
  },
  {
   "cell_type": "code",
   "execution_count": 67,
   "id": "4c7ee01b-27b9-4359-a476-832da4ac1b6e",
   "metadata": {},
   "outputs": [
    {
     "data": {
      "image/png": "[encoded data removed]",
      "text/plain": [
       "<Figure size 432x288 with 1 Axes>"
      ]
     },
     "metadata": {
      "needs_background": "light"
     },
     "output_type": "display_data"
    }
   ],
   "source": [
    "interval = np.linspace(1.8, 3.7)\n",
    "normGH1sF = np.zeros(len(interval))\n",
    "i=0\n",
    "for l in interval:\n",
    "    xii = sqrt(pi)/l\n",
    "    GH1sF = np.zeros(dimH)\n",
    "    me.GH1sF(GH1sF, l,xii, b,eta, np.array([0,0,-1]))\n",
    "    #print(np.linalg.norm(GH1sF[13:]))\n",
    "    normGH1sF[i] = np.sum(GH1sF[19])\n",
    "    i+=1\n",
    "plt.plot(interval, normGH1sF) ## weird behaviour with increasing distance\n",
    "plt.show()"
   ]
  },
  {
   "cell_type": "code",
   "execution_count": 68,
   "id": "feb14fa4-ad13-4cb4-9fd7-9d50d12cfc2e",
   "metadata": {},
   "outputs": [
    {
     "data": {
      "text/plain": [
       "array([1.8       , 1.83877551, 1.87755102, 1.91632653, 1.95510204,\n",
       "       1.99387755, 2.03265306, 2.07142857, 2.11020408, 2.14897959,\n",
       "       2.1877551 , 2.22653061, 2.26530612, 2.30408163, 2.34285714,\n",
       "       2.38163265, 2.42040816, 2.45918367, 2.49795918, 2.53673469,\n",
       "       2.5755102 , 2.61428571, 2.65306122, 2.69183673, 2.73061224,\n",
       "       2.76938776, 2.80816327, 2.84693878, 2.88571429, 2.9244898 ,\n",
       "       2.96326531, 3.00204082, 3.04081633, 3.07959184, 3.11836735,\n",
       "       3.15714286, 3.19591837, 3.23469388, 3.27346939, 3.3122449 ,\n",
       "       3.35102041, 3.38979592, 3.42857143, 3.46734694, 3.50612245,\n",
       "       3.54489796, 3.58367347, 3.62244898, 3.66122449, 3.7       ])"
      ]
     },
     "execution_count": 68,
     "metadata": {},
     "output_type": "execute_result"
    }
   ],
   "source": [
    "interval"
   ]
  },
  {
   "cell_type": "code",
   "execution_count": 69,
   "id": "ff130dca-df4d-46f7-89ea-1cf66819b692",
   "metadata": {},
   "outputs": [
    {
     "data": {
      "text/plain": [
       "array([3.7])"
      ]
     },
     "execution_count": 69,
     "metadata": {},
     "output_type": "execute_result"
    }
   ],
   "source": [
    "interval[np.where(normGH1sF == np.amax(normGH1sF))]"
   ]
  },
  {
   "cell_type": "code",
   "execution_count": 31,
   "id": "2b4b3c49-143b-428d-aa82-360fb8d05713",
   "metadata": {},
   "outputs": [],
   "source": [
    "##something is going on with G3s1sF - there seems to be a minimum wrt the boxsize - check this element"
   ]
  },
  {
   "cell_type": "code",
   "execution_count": null,
   "id": "54b4ffca-b438-4389-9ffa-a7c86d0a0ec7",
   "metadata": {},
   "outputs": [],
   "source": []
  },
  {
   "cell_type": "code",
   "execution_count": null,
   "id": "a9dc87a2-0275-4f70-999f-6804d72283fd",
   "metadata": {},
   "outputs": [],
   "source": []
  },
  {
   "cell_type": "code",
   "execution_count": null,
   "id": "c77594b9-40f8-42d2-9bc4-8cbe6dbe085b",
   "metadata": {},
   "outputs": [],
   "source": []
  }
 ],
 "metadata": {
  "kernelspec": {
   "display_name": "Python 3 (ipykernel)",
   "language": "python",
   "name": "python3"
  },
  "language_info": {
   "codemirror_mode": {
    "name": "ipython",
    "version": 3
   },
   "file_extension": ".py",
   "mimetype": "text/x-python",
   "name": "python",
   "nbconvert_exporter": "python",
   "pygments_lexer": "ipython3",
   "version": "3.10.2"
  }
 },
 "nbformat": 4,
 "nbformat_minor": 5
}
