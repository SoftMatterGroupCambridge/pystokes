{
 "cells": [
  {
   "cell_type": "markdown",
   "id": "84e68a7e-7a92-4944-8fe8-b4ae34674ec9",
   "metadata": {},
   "source": [
    "## Mobility of a sedimenting lattice as a function of volume fraction"
   ]
  },
  {
   "cell_type": "code",
   "execution_count": 1,
   "id": "820221fe-ad2c-4b9e-abfe-8c4d0207e862",
   "metadata": {},
   "outputs": [],
   "source": [
    "import matplotlib.pyplot as plt \n",
    "import numpy as np\n",
    "import solvePeriodic\n",
    "import periodic_1_4 as me\n",
    "from math import *\n",
    "PI = 3.14159265359"
   ]
  },
  {
   "cell_type": "code",
   "execution_count": 2,
   "id": "f63f3819-363f-444e-a929-ce715a6b1da3",
   "metadata": {},
   "outputs": [],
   "source": [
    "#Parameters\n",
    "Np=1\n",
    "b, eta, dim = 1.0, 1.0/6, 3\n",
    "ta =(4*np.pi/3)**(1.0/3) \n",
    "L = ta/np.asarray([0.1, 0.3, 0.4, 0.5, 0.6, 0.7])\n",
    "\n",
    "# Memory allocation\n",
    "v = np.zeros(dim*Np)      \n",
    "o = np.zeros(dim*Np)  \n",
    "r = np.zeros(dim*Np)        \n",
    "F = np.zeros(dim*Np)\n",
    "T = np.zeros(dim*Np)  \n",
    "vv  = np.zeros(np.size(L))\n",
    "phi = np.zeros(np.size(L) )\n",
    "\n",
    "S = np.zeros(Np*5)\n",
    "D = np.zeros(Np*3)\n",
    "\n",
    "mu=1.0/(6*np.pi*eta*b)"
   ]
  },
  {
   "cell_type": "code",
   "execution_count": 3,
   "id": "5006223d-9803-44e4-8ea8-fe3f219a25e5",
   "metadata": {},
   "outputs": [],
   "source": [
    "dimH=20\n",
    "dim2s=5\n",
    "VH = np.zeros(dimH)\n",
    "\n",
    "KHHVH = np.zeros([dimH])\n",
    "GH1sF = np.zeros([dimH])\n",
    "GH2aT = np.zeros([dimH])\n",
    "\n",
    "F[0] = 0.0\n",
    "F[1] = 0.0 \n",
    "F[2] = -1  ## gravity \n",
    "\n",
    "VH[0:dim2s]  = S\n",
    "VH[dim2s:dim2s+3]  = D"
   ]
  },
  {
   "cell_type": "code",
   "execution_count": 4,
   "id": "3064c641-9eb9-46c1-99dc-f868d0669121",
   "metadata": {},
   "outputs": [
    {
     "name": "stdout",
     "output_type": "stream",
     "text": [
      "\n",
      "v after G1s1sF:  [-5.93051636e-12 -5.93051636e-12 -8.52548180e-02]\n",
      "v after G1sHFH:  [-5.88747742e-12 -5.88747742e-12 -8.52533999e-02]\n",
      "\n",
      "v after G1s1sF:  [ 8.07738035e-11  8.07738035e-11 -1.29708762e-01]\n",
      "v after G1sHFH:  [ 5.10117215e-11  5.10117215e-11 -1.29472407e-01]\n",
      "\n",
      "v after G1s1sF:  [ 2.22691316e-10  2.22691316e-10 -2.58800432e-02]\n",
      "v after G1sHFH:  [ 9.36692323e-11  9.36692323e-11 -2.58713808e-02]\n",
      "\n",
      "v after G1s1sF:  [4.63174181e-10 4.63174181e-10 2.04004368e-01]\n",
      "v after G1sHFH:  [1.82300036e-09 1.82300036e-09 2.10234852e-01]\n",
      "\n",
      "v after G1s1sF:  [8.26863737e-10 8.26863737e-10 5.91458393e-01]\n",
      "v after G1sHFH:  [1.54025616e-07 1.54025616e-07 1.39906875e+00]\n",
      "\n",
      "v after G1s1sF:  [1.33840132e-09 1.33840132e-09 1.16799595e+00]\n",
      "v after G1sHFH:  [-3.64900481e-08 -3.64900481e-08  9.47258653e-01]\n"
     ]
    },
    {
     "data": {
      "image/png": "[encoded data removed]",
      "text/plain": [
       "<Figure size 432x288 with 1 Axes>"
      ]
     },
     "metadata": {
      "needs_background": "light"
     },
     "output_type": "display_data"
    },
    {
     "name": "stdout",
     "output_type": "stream",
     "text": [
      "volume fraction   simulation\t Zick & Homsy (1982)\n",
      "0.001\t\t  1.906\t\t 0.825\t\n",
      "0.027\t\t  1.560\t\t 0.498\t\n",
      "0.064\t\t  1.232\t\t 0.356\t\n",
      "0.125\t\t  0.728\t\t 0.233\t\n",
      "0.216\t\t  -2.469\t\t 0.134\t\n",
      "0.343\t\t  -0.151\t\t 0.065\t\n"
     ]
    }
   ],
   "source": [
    "# Deafult value of xi = sqrt(pi)/L\n",
    "\n",
    "S = np.zeros(Np*5)\n",
    "D = np.zeros(Np*3)\n",
    "\n",
    "\n",
    "for i in range(np.size(L)):\n",
    "    v = v*0\n",
    "    F = F*0\n",
    "\n",
    "    r[0], r[1], r[2] = 0.0, 0.0, 0.0\n",
    "\n",
    "    F[0] = 0.0\n",
    "    F[1] = 0.0 \n",
    "    F[2] = -1  ## gravity                           \n",
    "    \n",
    "    Rbm = solvePeriodic.Rbm(b, eta, L[i])   \n",
    "    Rbm.krylovSolve(v, o, F, T, S, D)\n",
    "    #print(v)\n",
    "    \n",
    "    phi[i] = (4*np.pi*b**3)/(3*L[i]**3)\n",
    "    mu00 = mu*F[2]\n",
    "    vv[i] = v[2]/mu00   \n",
    "    \n",
    "\n",
    "exR = [.825, .498, .356, .233, .134, .065]\n",
    "plt.plot(phi, exR, 'd', color=\"#348ABD\", label='Zick and Homsy')\n",
    "plt.plot(phi, vv, 'o', color=\"#A60628\", label='Simulation')\n",
    "\n",
    "plt.xlabel(r'$\\phi$', fontsize=20); plt.ylabel(r'$\\mu/\\mu_0$', fontsize=20)\n",
    "plt.legend(loc='upper right', shadow=True); plt.show()\n",
    "\n",
    "print ('volume fraction   simulation\\t Zick & Homsy (1982)')\n",
    "for i in range(np.size(L)):\n",
    "    print ('%1.3f\\t\\t  %1.3f\\t\\t %1.3f\\t'%(phi[i], vv[i], exR[i] ))"
   ]
  },
  {
   "cell_type": "code",
   "execution_count": 5,
   "id": "abe816eb-df8d-4dcd-a5bf-e2f150896bda",
   "metadata": {},
   "outputs": [
    {
     "data": {
      "text/plain": [
       "array([ 2.04988009,  2.61677955,  3.75070025,  6.79676497, 15.55713193,\n",
       "       43.63284026])"
      ]
     },
     "execution_count": 5,
     "metadata": {},
     "output_type": "execute_result"
    }
   ],
   "source": [
    "vv/exR"
   ]
  },
  {
   "cell_type": "code",
   "execution_count": null,
   "id": "0a7d315f-f1eb-4403-b46d-a549b29a3876",
   "metadata": {},
   "outputs": [],
   "source": [
    "## why are there x and y velocities? FH creates equal x and y component for some reason. Symmetries not right? \n",
    "## If we implement the full system, have to try and get 2s & 3s modes via multiplication with Delta2 and Delta3, respectively. "
   ]
  },
  {
   "cell_type": "markdown",
   "id": "2c5cf840-9127-4a3a-a801-31c6165d343f",
   "metadata": {},
   "source": [
    "Only GR (real space Green's function) gives the following contributions to v from G1s1sF and (G1s1sF+)G1sHFH\n",
    "\n",
    "\n",
    "v after G1s1sF:  [-3.10196860e-05 -3.10196860e-05 -1.69673964e-02]\n",
    "v after G1sHFH:  [-4.01551994e-05 -4.01551994e-05 -1.69854506e-02]\n",
    "\n",
    "v after G1s1sF:  [-0.00015682 -0.00015682 -0.04692267]\n",
    "v after G1sHFH:  [-0.00056894 -0.00056894 -0.04767872]\n",
    "\n",
    "v after G1s1sF:  [-0.00028348 -0.00028348 -0.0579208 ]\n",
    "v after G1sHFH:  [-0.00089228 -0.00089228 -0.05859782]\n",
    "\n",
    "v after G1s1sF:  [-0.0004739  -0.0004739  -0.06493941]\n",
    "v after G1sHFH:  [-0.00072445 -0.00072445 -0.06197421]\n",
    "\n",
    "v after G1s1sF:  [-0.00074401 -0.00074401 -0.06698362]\n",
    "v after G1sHFH:  [-0.00135483 -0.00135483 -0.05026668]\n",
    "\n",
    "v after G1s1sF:  [-0.00110977 -0.00110977 -0.06305857]\n",
    "v after G1sHFH:  [-0.00807955 -0.00807955 -0.00369452]\n"
   ]
  },
  {
   "cell_type": "markdown",
   "id": "7eed0234-3447-4977-bbb5-587d98013d38",
   "metadata": {},
   "source": [
    "Only GF (Fourier space Green's function) gives the following contributions to v from G1s1sF and (G1s1sF+)G1sHFH\n",
    "         \n",
    "\n",
    "v after G1s1sF:  [-5.93051636e-12 -5.93051636e-12 -8.52548180e-02]\n",
    "v after G1sHFH:  [-5.88747742e-12 -5.88747742e-12 -8.52533999e-02]\n",
    "\n",
    "v after G1s1sF:  [ 8.07738035e-11  8.07738035e-11 -1.29708762e-01]\n",
    "v after G1sHFH:  [ 5.10117215e-11  5.10117215e-11 -1.29472407e-01]\n",
    "\n",
    "v after G1s1sF:  [ 2.22691316e-10  2.22691316e-10 -2.58800432e-02]\n",
    "v after G1sHFH:  [ 9.36692323e-11  9.36692323e-11 -2.58713808e-02]\n",
    "\n",
    "v after G1s1sF:  [4.63174181e-10 4.63174181e-10 2.04004368e-01]\n",
    "v after G1sHFH:  [1.82300036e-09 1.82300036e-09 2.10234852e-01]\n",
    "\n",
    "v after G1s1sF:  [8.26863737e-10 8.26863737e-10 5.91458393e-01]\n",
    "v after G1sHFH:  [1.54025616e-07 1.54025616e-07 1.39906875e+00]\n",
    "\n",
    "v after G1s1sF:  [1.33840132e-09 1.33840132e-09 1.16799595e+00]\n",
    "v after G1sHFH:  [-3.64900481e-08 -3.64900481e-08  9.47258653e-01]\n"
   ]
  },
  {
   "cell_type": "markdown",
   "id": "567d5f67-8766-4015-a829-7edf37020a7b",
   "metadata": {},
   "source": [
    "Real space Green's function gives quite large errors, even for G1s1sF -- anything dodgy in the computation? \n",
    "\n",
    "Wait, rij = L, so we can only replace sqrt(xij^2 + yij^2 + zij^2) = L, and not xij=L, yij=L, zij=L <-- how to compute Matrix elements and retrospectively substitute for xij,yij,zij??\n",
    "\n",
    "\n",
    "Definte real space Green's function as M1 only, and then compute all the matrix elements and sum them from xij = -L to xij=L etc... "
   ]
  },
  {
   "cell_type": "code",
   "execution_count": null,
   "id": "5225ea59-d7a6-4e39-bbc2-6a6667d29b28",
   "metadata": {},
   "outputs": [],
   "source": []
  }
 ],
 "metadata": {
  "kernelspec": {
   "display_name": "Python 3 (ipykernel)",
   "language": "python",
   "name": "python3"
  },
  "language_info": {
   "codemirror_mode": {
    "name": "ipython",
    "version": 3
   },
   "file_extension": ".py",
   "mimetype": "text/x-python",
   "name": "python",
   "nbconvert_exporter": "python",
   "pygments_lexer": "ipython3",
   "version": "3.10.2"
  }
 },
 "nbformat": 4,
 "nbformat_minor": 5
}
