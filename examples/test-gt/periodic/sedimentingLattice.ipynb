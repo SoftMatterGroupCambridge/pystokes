{
 "cells": [
  {
   "cell_type": "markdown",
   "id": "84e68a7e-7a92-4944-8fe8-b4ae34674ec9",
   "metadata": {},
   "source": [
    "## Mobility of a sedimenting lattice as a function of volume fraction"
   ]
  },
  {
   "cell_type": "code",
   "execution_count": 1,
   "id": "820221fe-ad2c-4b9e-abfe-8c4d0207e862",
   "metadata": {},
   "outputs": [],
   "source": [
    "import matplotlib.pyplot as plt \n",
    "import numpy as np\n",
    "import solvePeriodic\n",
    "import periodic_1_4 as me\n",
    "from math import *\n",
    "PI = 3.14159265359"
   ]
  },
  {
   "cell_type": "code",
   "execution_count": 2,
   "id": "f63f3819-363f-444e-a929-ce715a6b1da3",
   "metadata": {},
   "outputs": [],
   "source": [
    "#Parameters\n",
    "Np=1\n",
    "b, eta, dim = 1.0, 1.0/6, 3\n",
    "ta =(4*np.pi/3)**(1.0/3) \n",
    "L = ta/np.asarray([0.1, 0.3, 0.4, 0.5, 0.6, 0.7])\n",
    "\n",
    "# Memory allocation\n",
    "v = np.zeros(dim*Np)      \n",
    "o = np.zeros(dim*Np)  \n",
    "r = np.zeros(dim*Np)        \n",
    "F = np.zeros(dim*Np)\n",
    "T = np.zeros(dim*Np)  \n",
    "vv  = np.zeros(np.size(L))\n",
    "phi = np.zeros(np.size(L) )\n",
    "\n",
    "S = np.zeros(Np*5)\n",
    "D = np.zeros(Np*3)\n",
    "\n",
    "mu=1.0/(6*np.pi*eta*b)"
   ]
  },
  {
   "cell_type": "code",
   "execution_count": 3,
   "id": "5006223d-9803-44e4-8ea8-fe3f219a25e5",
   "metadata": {},
   "outputs": [],
   "source": [
    "dimH=20\n",
    "dim2s=5\n",
    "VH = np.zeros(dimH)\n",
    "\n",
    "KHHVH = np.zeros([dimH])\n",
    "GH1sF = np.zeros([dimH])\n",
    "GH2aT = np.zeros([dimH])\n",
    "\n",
    "F[0] = 0.0\n",
    "F[1] = 0.0 \n",
    "F[2] = -1  ## gravity \n",
    "\n",
    "VH[0:dim2s]  = S\n",
    "VH[dim2s:dim2s+3]  = D"
   ]
  },
  {
   "cell_type": "code",
   "execution_count": 4,
   "id": "3064c641-9eb9-46c1-99dc-f868d0669121",
   "metadata": {},
   "outputs": [
    {
     "name": "stdout",
     "output_type": "stream",
     "text": [
      "1668.8309618299247\n",
      "61.00188388878509\n",
      "25.449207285128864\n",
      "12.847448377006545\n",
      "7.309789432944879\n",
      "4.513171974650895\n"
     ]
    },
    {
     "data": {
      "image/png": "[encoded data removed]",
      "text/plain": [
       "<Figure size 432x288 with 1 Axes>"
      ]
     },
     "metadata": {
      "needs_background": "light"
     },
     "output_type": "display_data"
    },
    {
     "name": "stdout",
     "output_type": "stream",
     "text": [
      "volume fraction   simulation\t Zick & Homsy (1982)\n",
      "0.001\t\t  5297.577\t\t 0.825\t\n",
      "0.027\t\t  298.074\t\t 0.498\t\n",
      "0.064\t\t  53.458\t\t 0.356\t\n",
      "0.125\t\t  -57.069\t\t 0.233\t\n",
      "0.216\t\t  72.778\t\t 0.134\t\n",
      "0.343\t\t  127.186\t\t 0.065\t\n"
     ]
    }
   ],
   "source": [
    "# Deafult value of xi = sqrt (pi/L)\n",
    "\n",
    "S = np.zeros(Np*5)\n",
    "D = np.zeros(Np*3)\n",
    "\n",
    "\n",
    "for i in range(np.size(L)):\n",
    "    v = v*0\n",
    "    F = F*0\n",
    "\n",
    "    r[0], r[1], r[2] = 0.0, 0.0, 0.0\n",
    "\n",
    "    F[0] = 0.0\n",
    "    F[1] = 0.0 \n",
    "    F[2] = -1  ## gravity                           \n",
    "    \n",
    "    Rbm = solvePeriodic.Rbm(b, Np, eta, L[i])   \n",
    "    Rbm.krylovSolve(v, o, F, T, S, D)                 \n",
    "    \n",
    "    phi[i] = (4*np.pi*b**3)/(3*L[i]**3)\n",
    "    mu00 = mu*F[2]\n",
    "    vv[i] = v[2]/mu00   \n",
    "    \n",
    "\n",
    "exR = [.825, .498, .356, .233, .134, .065]\n",
    "plt.plot(phi, exR, 'd', color=\"#348ABD\", label='Zick and Homsy')\n",
    "plt.plot(phi, vv, 'o', color=\"#A60628\", label='Simulation')\n",
    "\n",
    "plt.xlabel(r'$\\phi$', fontsize=20); plt.ylabel(r'$\\mu/\\mu_0$', fontsize=20)\n",
    "plt.legend(loc='upper right', shadow=True); plt.show()\n",
    "\n",
    "print ('volume fraction   simulation\\t Zick & Homsy (1982)')\n",
    "for i in range(np.size(L)):\n",
    "    print ('%1.3f\\t\\t  %1.3f\\t\\t %1.3f\\t'%(phi[i], vv[i], exR[i] ))"
   ]
  },
  {
   "cell_type": "code",
   "execution_count": 5,
   "id": "abe816eb-df8d-4dcd-a5bf-e2f150896bda",
   "metadata": {},
   "outputs": [
    {
     "data": {
      "text/plain": [
       "array([ 4.59469988e+01, -4.59470004e+01,  3.71268497e-05])"
      ]
     },
     "execution_count": 5,
     "metadata": {},
     "output_type": "execute_result"
    }
   ],
   "source": [
    "o"
   ]
  },
  {
   "cell_type": "code",
   "execution_count": 6,
   "id": "49f3da80-f503-4cdf-b8d7-f12dd53134f7",
   "metadata": {},
   "outputs": [
    {
     "data": {
      "text/plain": [
       "array([  7.29551981,   7.29551981, -40.48457844])"
      ]
     },
     "execution_count": 6,
     "metadata": {},
     "output_type": "execute_result"
    }
   ],
   "source": [
    "v"
   ]
  },
  {
   "cell_type": "code",
   "execution_count": null,
   "id": "f3d2f891-7c13-4e27-8b93-f275647b8a68",
   "metadata": {},
   "outputs": [],
   "source": []
  },
  {
   "cell_type": "code",
   "execution_count": null,
   "id": "ccd61e43-ffca-425c-9ad6-5145d55d137a",
   "metadata": {},
   "outputs": [],
   "source": []
  },
  {
   "cell_type": "code",
   "execution_count": null,
   "id": "9e98ebf6-c0b8-42c6-945f-c2a73639d855",
   "metadata": {},
   "outputs": [],
   "source": []
  },
  {
   "cell_type": "code",
   "execution_count": null,
   "id": "0427261c-ca2a-4513-96d0-57dd467b5f93",
   "metadata": {},
   "outputs": [],
   "source": []
  }
 ],
 "metadata": {
  "kernelspec": {
   "display_name": "Python 3 (ipykernel)",
   "language": "python",
   "name": "python3"
  },
  "language_info": {
   "codemirror_mode": {
    "name": "ipython",
    "version": 3
   },
   "file_extension": ".py",
   "mimetype": "text/x-python",
   "name": "python",
   "nbconvert_exporter": "python",
   "pygments_lexer": "ipython3",
   "version": "3.10.2"
  }
 },
 "nbformat": 4,
 "nbformat_minor": 5
}
