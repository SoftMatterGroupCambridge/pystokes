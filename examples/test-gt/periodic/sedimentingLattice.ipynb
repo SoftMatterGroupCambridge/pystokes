{
 "cells": [
  {
   "cell_type": "markdown",
   "id": "84e68a7e-7a92-4944-8fe8-b4ae34674ec9",
   "metadata": {},
   "source": [
    "## Mobility of a sedimenting lattice as a function of volume fraction"
   ]
  },
  {
   "cell_type": "code",
   "execution_count": 1,
   "id": "820221fe-ad2c-4b9e-abfe-8c4d0207e862",
   "metadata": {},
   "outputs": [],
   "source": [
    "import matplotlib.pyplot as plt \n",
    "import numpy as np\n",
    "import solvePeriodic\n",
    "import periodic_1_4 as me\n",
    "from math import *\n",
    "PI = 3.14159265359"
   ]
  },
  {
   "cell_type": "code",
   "execution_count": 2,
   "id": "f63f3819-363f-444e-a929-ce715a6b1da3",
   "metadata": {},
   "outputs": [],
   "source": [
    "#Parameters\n",
    "Np=1\n",
    "b, eta, dim = 1.0, 1.0/6, 3\n",
    "ta =(4*np.pi/3)**(1.0/3) \n",
    "L = ta/np.asarray([0.1, 0.3, 0.4, 0.5, 0.6, 0.7])\n",
    "\n",
    "# Memory allocation\n",
    "v = np.zeros(dim*Np)      \n",
    "o = np.zeros(dim*Np)  \n",
    "r = np.zeros(dim*Np)        \n",
    "F = np.zeros(dim*Np)\n",
    "T = np.zeros(dim*Np)  \n",
    "vv  = np.zeros(np.size(L))\n",
    "phi = np.zeros(np.size(L) )\n",
    "\n",
    "S = np.zeros(Np*5)\n",
    "D = np.zeros(Np*3)\n",
    "\n",
    "mu=1.0/(6*np.pi*eta*b)"
   ]
  },
  {
   "cell_type": "code",
   "execution_count": 3,
   "id": "3064c641-9eb9-46c1-99dc-f868d0669121",
   "metadata": {},
   "outputs": [
    {
     "name": "stdout",
     "output_type": "stream",
     "text": [
      "[ 5.92745841e-12  5.92745841e-12 -2.62583739e-01]\n",
      "[-9.19091718e-11 -9.19091718e-11 -1.58530770e-01]\n",
      "[-3.14977546e-10 -3.14977546e-10 -1.13495259e-01]\n",
      "[-9.03871102e-10 -9.03871102e-10 -7.53083674e-02]\n",
      "[-2.45013381e-09 -2.45013381e-09 -4.59194035e-02]\n",
      "[-1.33959760e-08 -1.33959760e-08 -1.96841161e-02]\n"
     ]
    },
    {
     "data": {
      "image/png": "[encoded data removed]",
      "text/plain": [
       "<Figure size 432x288 with 1 Axes>"
      ]
     },
     "metadata": {
      "needs_background": "light"
     },
     "output_type": "display_data"
    },
    {
     "name": "stdout",
     "output_type": "stream",
     "text": [
      "volume fraction   simulation\t Zick & Homsy (1982)\n",
      "0.001\t\t  0.825\t\t 0.825\t\n",
      "0.027\t\t  0.498\t\t 0.498\t\n",
      "0.064\t\t  0.357\t\t 0.356\t\n",
      "0.125\t\t  0.237\t\t 0.233\t\n",
      "0.216\t\t  0.144\t\t 0.134\t\n",
      "0.343\t\t  0.062\t\t 0.065\t\n"
     ]
    }
   ],
   "source": [
    "# Deafult value of xi = sqrt(pi)/L\n",
    "\n",
    "S = np.zeros(Np*5)\n",
    "D = np.zeros(Np*3)\n",
    "\n",
    "\n",
    "for i in range(np.size(L)):\n",
    "    v = v*0\n",
    "    F = F*0\n",
    "\n",
    "    r[0], r[1], r[2] = 0.0, 0.0, 0.0\n",
    "\n",
    "    F[2] = -1  ## gravity                           \n",
    "    \n",
    "    Rbm = solvePeriodic.Rbm(b, eta, L[i])#, xi=0.88*sqrt(pi)/L[i])   \n",
    "    Rbm.krylovSolve(v, o, F, T, S, D)\n",
    "    print(v)\n",
    "    \n",
    "    phi[i] = (4*np.pi*b**3)/(3*L[i]**3)\n",
    "    mu00 = mu*F[2]\n",
    "    vv[i] = v[2]/mu00   \n",
    "    \n",
    "\n",
    "exR = [.825, .498, .356, .233, .134, .065]\n",
    "plt.plot(phi, exR, 'd', color=\"#348ABD\", label='Zick and Homsy')\n",
    "plt.plot(phi, vv, 'o', color=\"#A60628\", label='Simulation')\n",
    "\n",
    "plt.xlabel(r'$\\phi$', fontsize=20); plt.ylabel(r'$\\mu/\\mu_0$', fontsize=20)\n",
    "plt.legend(loc='upper right', shadow=True); plt.show()\n",
    "\n",
    "print ('volume fraction   simulation\\t Zick & Homsy (1982)')\n",
    "for i in range(np.size(L)):\n",
    "    print ('%1.3f\\t\\t  %1.3f\\t\\t %1.3f\\t'%(phi[i], vv[i], exR[i] ))"
   ]
  },
  {
   "cell_type": "code",
   "execution_count": 4,
   "id": "abe816eb-df8d-4dcd-a5bf-e2f150896bda",
   "metadata": {},
   "outputs": [
    {
     "data": {
      "text/plain": [
       "array([ 0.93540322,  0.71709872,  0.53879522,  0.29398805, -0.01733163,\n",
       "       -0.15624334])"
      ]
     },
     "execution_count": 4,
     "metadata": {},
     "output_type": "execute_result"
    }
   ],
   "source": [
    "vv/exR"
   ]
  },
  {
   "cell_type": "code",
   "execution_count": 5,
   "id": "800fa687-e8b9-4e1e-a6c7-20a0c586e63b",
   "metadata": {},
   "outputs": [
    {
     "data": {
      "text/plain": [
       "2.088487583762545e-45"
      ]
     },
     "execution_count": 5,
     "metadata": {},
     "output_type": "execute_result"
    }
   ],
   "source": [
    "erfc(10)"
   ]
  },
  {
   "cell_type": "code",
   "execution_count": null,
   "id": "4c3ceeae-083b-462c-958c-a8dc8d6a36ce",
   "metadata": {},
   "outputs": [],
   "source": []
  },
  {
   "cell_type": "code",
   "execution_count": 5,
   "id": "0a7d315f-f1eb-4403-b46d-a549b29a3876",
   "metadata": {},
   "outputs": [],
   "source": [
    "## why are there x and y velocities? FH creates equal x and y component for some reason. Symmetries not right? \n",
    "## If we implement the full system, have to try and get 2s & 3s modes via multiplication with Delta2 and Delta3, respectively. "
   ]
  },
  {
   "cell_type": "markdown",
   "id": "4ba13ceb-4551-465d-87d4-90c4abf23546",
   "metadata": {},
   "source": [
    "G1s1s only (superposition approximation) compared to pystokes: GR only - do not quite match!\n",
    "\n",
    "velocity G1s1s sympy:\n",
    "\n",
    "[ 0.          0.         -0.22003413]\n",
    "[ 0.          0.         -0.09600102]\n",
    "[ 0.          0.         -0.10650287]\n",
    "[ 0.          0.         -0.18952312]\n",
    "[ 0.          0.         -0.36319139]\n",
    "[ 0.          0.         -0.64563726]\n",
    "\n",
    "velocity pystokes:\n",
    "\n",
    "[ 0.          0.         -0.21995675]\n",
    "[ 0.          0.         -0.09391184]\n",
    "[ 0.          0.         -0.10155074]\n",
    "[ 0.          0.         -0.17985099]\n",
    "[ 0.          0.         -0.34647795]\n",
    "[ 0.          0.         -0.61909694]"
   ]
  },
  {
   "cell_type": "markdown",
   "id": "2c5cf840-9127-4a3a-a801-31c6165d343f",
   "metadata": {},
   "source": [
    "G1s1s only (superposition approximation) compared to pystokes: GF only - match exactly\n",
    "\n",
    "velocity G1s1s sympy\n",
    "\n",
    "[ 5.93051636e-12  5.93051636e-12 -2.45642178e-01]\n",
    "[-8.07738035e-11 -8.07738035e-11 -1.13673287e-01]\n",
    "[-2.22691316e-10 -2.22691316e-10 -6.10553690e-02]\n",
    "[-4.63174181e-10 -4.63174181e-10 -2.18039777e-02]\n",
    "[-8.26863737e-10 -8.26863737e-10  7.39254901e-04]\n",
    "[-1.33840132e-09 -1.33840132e-09  3.23269708e-03]\n",
    "\n",
    "velocity pystokes:\n",
    "\n",
    "[ 5.93051637e-12  5.93051636e-12 -2.45642178e-01]\n",
    "[-8.07738035e-11 -8.07738035e-11 -1.13673287e-01]\n",
    "[-2.22691316e-10 -2.22691316e-10 -6.10553690e-02]\n",
    "[-4.63174181e-10 -4.63174181e-10 -2.18039777e-02]\n",
    "[-8.26863738e-10 -8.26863737e-10  7.39254901e-04]\n",
    "[-1.33840132e-09 -1.33840132e-09  3.23269708e-03]"
   ]
  },
  {
   "cell_type": "markdown",
   "id": "7eed0234-3447-4977-bbb5-587d98013d38",
   "metadata": {
    "tags": []
   },
   "source": []
  },
  {
   "cell_type": "markdown",
   "id": "567d5f67-8766-4015-a829-7edf37020a7b",
   "metadata": {},
   "source": [
    "Real space Green's function gives quite large errors, even for G1s1sF -- anything dodgy in the computation? \n",
    "\n",
    "Had lattice positions -L,-L,-L and L,L,L excluded -- does including them give better results? Not much better\n",
    "\n",
    "Why does G = GF + GR give disproportionally bad results? Is computation of K = factor * G correct, or are we only using one of GF or GR? \n",
    "\n",
    "Try with G1s1s alone, should be superposition approximation...\n",
    "\n",
    "________________\n",
    "\n",
    "Superposition approx (pystokes) vs G1s1s:\n",
    "\n",
    "GF alone matches exactly (had a sign error before)\n",
    "\n",
    "GR does not quite match: What is causing this? Do I have to go to full matrices? Should not have an effect on G1s1s (= 3x3 matrix)\n",
    "\n",
    "Is double-layer computed from sum GF+GR or just from GR? \n",
    "\n",
    "\n",
    "Why is GR + GF not simply sum of velocities of GR and GF alone? "
   ]
  },
  {
   "cell_type": "code",
   "execution_count": null,
   "id": "59c5e583-b3f0-4b7e-9db5-25c7fa77aefa",
   "metadata": {},
   "outputs": [],
   "source": []
  }
 ],
 "metadata": {
  "kernelspec": {
   "display_name": "Python 3 (ipykernel)",
   "language": "python",
   "name": "python3"
  },
  "language_info": {
   "codemirror_mode": {
    "name": "ipython",
    "version": 3
   },
   "file_extension": ".py",
   "mimetype": "text/x-python",
   "name": "python",
   "nbconvert_exporter": "python",
   "pygments_lexer": "ipython3",
   "version": "3.10.2"
  }
 },
 "nbformat": 4,
 "nbformat_minor": 5
}
