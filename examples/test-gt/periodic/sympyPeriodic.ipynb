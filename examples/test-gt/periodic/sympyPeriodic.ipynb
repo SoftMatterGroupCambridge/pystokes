{
 "cells": [
  {
   "cell_type": "markdown",
   "id": "38ffaaed-48a1-42fd-b0b3-e57bc76eb1c0",
   "metadata": {},
   "source": [
    "## Periodic boundary conditions\n",
    "\n",
    "Periodic Green's function for simulation of infinite lattice. Use of symmetry factors for speed-up. Use a different file for each number of periodic boxes and Fourier modes used, in the format of \n",
    "\n",
    "    periodic_Nb_Nm.py"
   ]
  },
  {
   "cell_type": "code",
   "execution_count": 1,
   "id": "2b791888-84ea-4320-a54e-eb8c5df506c4",
   "metadata": {},
   "outputs": [],
   "source": [
    "from symengine import *\n",
    "import sympy\n",
    "import numpy as np\n",
    "import re\n",
    "from joblib import Parallel, delayed"
   ]
  },
  {
   "cell_type": "markdown",
   "id": "eda95cc5-65ea-48f4-af0d-f1892e224e9f",
   "metadata": {},
   "source": [
    "Number of periodic boxes and Fourier modes"
   ]
  },
  {
   "cell_type": "code",
   "execution_count": 2,
   "id": "e1e80cdb-6e09-4819-b9eb-0836b8f37a99",
   "metadata": {},
   "outputs": [],
   "source": [
    "Nb = 2\n",
    "Nm = 4\n",
    "\n",
    "Nbb = 2*Nb +1\n",
    "N1 = int(-(Nm/2)+1)\n",
    "N2 = int((Nm/2)+1)"
   ]
  },
  {
   "cell_type": "markdown",
   "id": "2a0c507e-bb45-4160-b4df-01486ae3ec53",
   "metadata": {},
   "source": [
    "### Definitions and auxiliary functions"
   ]
  },
  {
   "cell_type": "code",
   "execution_count": 3,
   "id": "fa2a7578-2340-45cd-b646-bf46065f8921",
   "metadata": {},
   "outputs": [],
   "source": [
    "xij, yij, zij = symbols(\"xij, yij, zij\", real=True) \n",
    "b, eta = symbols(\"b, eta\", real=True, positive=True)\n",
    "\n",
    "# indices for summation:\n",
    "## Caution, cannot use lambda, instead use Lambda\n",
    "## do not use eta as index, it's the viscosity\n",
    "alpha, beta, gamma, gamma1, gamma2, gamma3, gamma4, kappa, kappa1, kappa2, mu, nu, nu1, nu2, Lambda, eta2, zeta, sigma = symbols(\n",
    "    'alpha, beta, gamma, gamma1, gamma2, gamma3, gamma4, kappa, kappa1, kappa2, mu, nu, nu1, nu2, Lambda, eta2, zeta, sigma', integer=True)\n",
    "\n",
    "#new symbols for periodic calculation: boxSize, xi (convergence parameter)\n",
    "L, xi = symbols(\"L, xi\", real=True, positive=True)\n",
    "kx, ky, kz = symbols(\"kx, ky, kz\", real=True) \n",
    "\n",
    "rij = Matrix([xij, yij, zij])\n",
    "\n",
    "k0 = 2*pi/L\n",
    "\n",
    "def norm(r):\n",
    "    result=0\n",
    "    for i in range(3):\n",
    "        result += r[i]**2\n",
    "    return sqrt(result)\n",
    "\n",
    "KroneckerDelta = eye(3)\n",
    "\n",
    "def eps(alpha, beta, gamma):\n",
    "    return LeviCivita(alpha,beta,gamma)"
   ]
  },
  {
   "cell_type": "markdown",
   "id": "d5094fc1-9180-4ab6-820b-d0187477a16d",
   "metadata": {},
   "source": [
    "### Green's function"
   ]
  },
  {
   "cell_type": "code",
   "execution_count": 4,
   "id": "3d5d5b42-8ab2-4cc9-8729-ae3a6fc792f9",
   "metadata": {},
   "outputs": [],
   "source": [
    "##pass xi*norm(r) and norm(k) for A, B and C\n",
    "\n",
    "def A(x): ##are these correct? Don't match Pozrikidis\n",
    "    return erfc(x) + 2/sqrt(pi)*(2*x**3 - 3*x)*exp(-x**2)\n",
    "\n",
    "def B(x):\n",
    "    return erfc(x) + 2/sqrt(pi)*(x - 2*x**3)*exp(-x**2)\n",
    "\n",
    "def C(k):\n",
    "    return (1 + 1/4*k**2/xi**2 + 1/8*k**4/xi**4)*exp(-1/4*k**4/xi**4)\n",
    "\n",
    "def M1(xij, yij, zij, alpha,beta): ##factors of 8*pi?\n",
    "    rij = Matrix([xij, yij, zij])\n",
    "    return A(xi*norm(rij))*KroneckerDelta[alpha,beta]/norm(rij) + B(xi*norm(rij))*rij[alpha]*rij[beta]/norm(rij)**3\n",
    "\n",
    "def M2(xij, yij, zij, kx, ky, kz, alpha,beta): ## k*rij is dot product\n",
    "    rij = Matrix([xij, yij, zij])\n",
    "    k = Matrix([kx, ky, kz]) \n",
    "    kDOTrij = xij*kx + yij*ky + zij*kz\n",
    "    return 1/(eta)*C(norm(k))*(KroneckerDelta[alpha,beta]/norm(k)**2 + k[alpha]*k[beta]/norm(k)**4)*cos(kDOTrij) ##take the real part (?) follow Pozrikidis (3.14)\n",
    "                                                                                                                ## just use cos instead of exp(I*kDOTrij)\n",
    "\n",
    "##define function for periodic Green's function, evaluate it once and save it as another function, as to not have to evaluate it every time \n",
    "def GreenReal(alpha, beta): ##eventually evaluate xij=L\n",
    "    green = 0\n",
    "\n",
    "    for ii in range(Nbb):\n",
    "        dx = (ii - Nb)*xij\n",
    "        for jj in range(Nbb):\n",
    "            dy = (jj - Nb)*yij\n",
    "            for kk in range(Nbb):\n",
    "                dz = (kk - Nb)*zij\n",
    "                \n",
    "                if ii==jj==kk: ##self-interaction added later by hand\n",
    "                    pass\n",
    "                else:\n",
    "                    green += M1(dx, dy, dz, alpha, beta)\n",
    "                    \n",
    "    return green\n",
    "\n",
    "\n",
    "def GreenFourier(alpha,beta): ##eventually evaluate xij=0 and take real part\n",
    "    green = 0 \n",
    "    \n",
    "    for ii in range(N1, N2): \n",
    "        kx = k0*ii\n",
    "        for jj in range(N1,N2):\n",
    "            ky = k0*jj\n",
    "            for kk in range(N1, N2):\n",
    "                kz = k0*kk\n",
    "                if kx != 0 or ky != 0 or kz != 0:\n",
    "                    green += M2(xij, yij, zij, kx, ky, kz, alpha, beta)\n",
    "\n",
    "    return green"
   ]
  },
  {
   "cell_type": "code",
   "execution_count": 5,
   "id": "6b46e52e-40d6-4737-979d-01f0256ab363",
   "metadata": {},
   "outputs": [
    {
     "data": {
      "text/latex": [
       "$\\displaystyle \\frac{8 L^{2} \\xi^{3} e^{- 3 L^{2} \\xi^{2}}}{\\sqrt{\\pi}} + \\frac{32 L^{2} \\xi^{3} e^{- 12 L^{2} \\xi^{2}}}{\\sqrt{\\pi}} - \\frac{4 \\xi e^{- 3 L^{2} \\xi^{2}}}{3 \\sqrt{\\pi}} - \\frac{4 \\xi e^{- 12 L^{2} \\xi^{2}}}{3 \\sqrt{\\pi}} - \\frac{2 \\sqrt{3} \\left(L^{2}\\right)^{\\frac{3}{2}} \\operatorname{erfc}{\\left(\\sqrt{3} \\xi \\sqrt{L^{2}} \\right)}}{9 L^{4}} - \\frac{\\sqrt{3} \\left(L^{2}\\right)^{\\frac{3}{2}} \\operatorname{erfc}{\\left(2 \\sqrt{3} \\xi \\sqrt{L^{2}} \\right)}}{9 L^{4}}$"
      ],
      "text/plain": [
       "8*L**2*xi**3*exp(-3*L**2*xi**2)/sqrt(pi) + 32*L**2*xi**3*exp(-12*L**2*xi**2)/sqrt(pi) - 4*xi*exp(-3*L**2*xi**2)/(3*sqrt(pi)) - 4*xi*exp(-12*L**2*xi**2)/(3*sqrt(pi)) - 2*sqrt(3)*(L**2)**(3/2)*erfc(sqrt(3)*xi*sqrt(L**2))/(9*L**4) - sqrt(3)*(L**2)**(3/2)*erfc(2*sqrt(3)*xi*sqrt(L**2))/(9*L**4)"
      ]
     },
     "execution_count": 5,
     "metadata": {},
     "output_type": "execute_result"
    }
   ],
   "source": [
    "sympy.simplify(GreenReal(0,1).subs({xij:L, yij:L, zij:L}))"
   ]
  },
  {
   "cell_type": "code",
   "execution_count": 6,
   "id": "7099d0ff-a57b-4652-bb90-9a322e02b73f",
   "metadata": {},
   "outputs": [
    {
     "data": {
      "text/latex": [
       "$\\displaystyle \\frac{\\left(\\left(36 L^{4} \\xi^{4} + 432.0 \\pi^{2} L^{2} \\xi^{2} + 10368.0 \\pi^{4}\\right) e^{\\frac{580.0 \\pi^{4}}{L^{4} \\xi^{4}}} + \\left(81 L^{4} \\xi^{4} + 648.0 \\pi^{2} L^{2} \\xi^{2} + 10368.0 \\pi^{4}\\right) e^{\\frac{900.0 \\pi^{4}}{L^{4} \\xi^{4}}} + \\left(128 L^{4} \\xi^{4} + 1152.0 \\pi^{2} L^{2} \\xi^{2} + 20736.0 \\pi^{4}\\right) e^{\\frac{832.0 \\pi^{4}}{L^{4} \\xi^{4}}}\\right) e^{- \\frac{1156.0 \\pi^{4}}{L^{4} \\xi^{4}}}}{5184 \\pi^{2} L^{2} \\eta \\xi^{4}}$"
      ],
      "text/plain": [
       "((36*L**4*xi**4 + 432.0*pi**2*L**2*xi**2 + 10368.0*pi**4)*exp(580.0*pi**4/(L**4*xi**4)) + (81*L**4*xi**4 + 648.0*pi**2*L**2*xi**2 + 10368.0*pi**4)*exp(900.0*pi**4/(L**4*xi**4)) + (128*L**4*xi**4 + 1152.0*pi**2*L**2*xi**2 + 20736.0*pi**4)*exp(832.0*pi**4/(L**4*xi**4)))*exp(-1156.0*pi**4/(L**4*xi**4))/(5184*pi**2*L**2*eta*xi**4)"
      ]
     },
     "execution_count": 6,
     "metadata": {},
     "output_type": "execute_result"
    }
   ],
   "source": [
    "sympy.simplify(GreenFourier(0,1).subs({xij:0, yij:0, zij:0}))\n"
   ]
  },
  {
   "cell_type": "code",
   "execution_count": 7,
   "id": "452982e2-1819-4bf8-a20b-4bfc38576dda",
   "metadata": {},
   "outputs": [],
   "source": [
    "## First compute Green's functions and save in matrix & then in function, to not have to compute it every time (we fix the number of modes)\n",
    "## then change below matrix elements computations to include an argument G, meaning which Green's function is used\n",
    "##compute all matrix elements for both and then simply sum them GP = sum M1 + 1/V sum M2 - simplify too slow"
   ]
  },
  {
   "cell_type": "code",
   "execution_count": 8,
   "id": "01d53ad5-f443-490a-926e-7b1cb860c7bb",
   "metadata": {},
   "outputs": [
    {
     "data": {
      "text/plain": [
       "[0, 0, 0]\n",
       "[0, 0, 0]\n",
       "[0, 0, 0]"
      ]
     },
     "execution_count": 8,
     "metadata": {},
     "output_type": "execute_result"
    }
   ],
   "source": [
    "zeros(3,3)"
   ]
  },
  {
   "cell_type": "code",
   "execution_count": 9,
   "id": "1c6c4bad-964d-4de3-b62f-bece1a1ecfe2",
   "metadata": {},
   "outputs": [],
   "source": [
    "matGR = zeros(3,3)\n",
    "for i in range(3):\n",
    "    for j in range(3):\n",
    "        matGR[i,j] = GreenReal(i,j)\n",
    "        \n",
    "matGF = zeros(3,3)\n",
    "for i in range(3):\n",
    "    for j in range(3):\n",
    "        matGF[i,j] = GreenFourier(i,j)\n",
    "        \n",
    "def GR(alpha, beta):\n",
    "    return matGR[alpha,beta]\n",
    "\n",
    "def GF(alpha,beta):\n",
    "    return matGF[alpha,beta]"
   ]
  },
  {
   "cell_type": "markdown",
   "id": "3def19b9-0462-4d4b-bd17-7a7a66c39a81",
   "metadata": {},
   "source": [
    "### Calculus auxiliary functions"
   ]
  },
  {
   "cell_type": "code",
   "execution_count": 10,
   "id": "7887a3ef-424d-4df4-9ff4-bae35f7c84a5",
   "metadata": {},
   "outputs": [],
   "source": [
    "def Laplacian(G):\n",
    "    return diff(G, rij[0], rij[0]) + diff(G, rij[1], rij[1]) + diff(G, rij[2], rij[2])\n",
    "\n",
    "def Curl(G, alpha, beta): ## the function to take the curl of and the two remaining indices \n",
    "    result=0\n",
    "    for i in range(3):\n",
    "        for j in range(3):\n",
    "            result += eps(alpha,i,j)*diff(G(j,beta),rij[i])\n",
    "    return result\n",
    "\n",
    "def tilde_Curl(G, alpha, beta): ##introduce for convenience, minus sign already taken into account in matrix elements\n",
    "    result=0\n",
    "    for i in range(3):\n",
    "        for j in range(3):\n",
    "            result += eps(beta,i,j)*diff(G(alpha, j),rij[i])\n",
    "    return result\n",
    "\n",
    "def CurlCurl(G, alpha, beta): ## the function to take the curl of and the two remaining indices \n",
    "    result=0\n",
    "    for i in range(3):\n",
    "        for j in range(3):\n",
    "            for k in range(3):\n",
    "                for l in range(3):\n",
    "                    result += eps(alpha,i,j)*eps(beta,k,l)*diff(G(j,l), rij[i], rij[k])\n",
    "    return result\n",
    "\n",
    "\n",
    "def SumG(G, sigma, eta2, mu):\n",
    "    result=0\n",
    "    for i in range(3):\n",
    "        result += eps(sigma, eta2, i)*Laplacian( G(mu, i) )\n",
    "    return result\n",
    "\n",
    "\n",
    "def SumG3s1Sym(G, mu, nu2, alpha, gamma1, gamma2):\n",
    "    result=0\n",
    "    for i in range(3):\n",
    "        result += eps(mu,nu2,i)*g3s1Sym(G, alpha,gamma1,gamma2,i) ##add argument G\n",
    "    return result"
   ]
  },
  {
   "cell_type": "code",
   "execution_count": 11,
   "id": "454cb5fd-1a54-4bb5-89a9-11683d36b977",
   "metadata": {},
   "outputs": [],
   "source": [
    "##auxiliary functions\n",
    "def delG(G, alpha, beta, gamma):\n",
    "    return diff( G(alpha,beta), rij[gamma])\n",
    "\n",
    "def lapG(G, alpha,beta):\n",
    "    return Laplacian( G(alpha,beta) )\n",
    "\n",
    "def dellapG(G, alpha, beta, kappa1):\n",
    "    return diff(lapG(G, alpha, beta), rij[kappa1])\n",
    "\n",
    "def deldelG(G, zeta, beta, kappa1, nu):\n",
    "    return diff(delG(G, zeta, beta, kappa1), rij[nu])\n",
    "\n",
    "def deldellapG(G, alpha, beta, gamma1, kappa1):\n",
    "    return diff(dellapG(G, alpha,beta, gamma1), rij[kappa1])\n",
    "\n",
    "def deldeldelG(G, alpha, beta, gamma1, gamma2, gamma3):\n",
    "    return diff(deldelG(G, alpha, beta, gamma1, gamma2), rij[gamma3])\n",
    "\n",
    "def deldeldeldelG(G, alpha, beta, gamma1, gamma2, gamma3, gamma4):\n",
    "    return diff(deldeldelG(G, alpha, beta, gamma1, gamma2, gamma3), rij[gamma4])"
   ]
  },
  {
   "cell_type": "code",
   "execution_count": 12,
   "id": "a911d7aa-3226-4194-a6d1-316eebfa79d4",
   "metadata": {},
   "outputs": [],
   "source": [
    "# GLL  ##simplify later, when filling matrix elements, after subsituting for xij -- much faster\n",
    "def G1s1s(G, alpha, beta):\n",
    "    return G(alpha, beta) + b**2/3*lapG(G, alpha, beta)\n",
    "\n",
    "def G1s2a(G, alpha, beta):\n",
    "    return -1/2*b*tilde_Curl(G, alpha,beta)\n",
    "\n",
    "def G2a1s(G, alpha, beta):\n",
    "    return b*Curl(G, alpha,beta)\n",
    "\n",
    "def G2a2a(G, alpha, beta):\n",
    "    return -1/2*b*b*CurlCurl(G, alpha,beta)"
   ]
  },
  {
   "cell_type": "code",
   "execution_count": 13,
   "id": "ed09db8e-f404-4d12-a0cd-3e27e71c0973",
   "metadata": {},
   "outputs": [],
   "source": [
    "## GL2s and G2sL\n",
    "def G1s2s(G, alpha, kappa1, beta):\n",
    "    return -1/2*b*((delG(G, alpha, beta, kappa1) + delG(G, alpha, kappa1, beta)) + 4*b**2/15*(dellapG(G, alpha, beta, kappa1) + dellapG(G, alpha, kappa1, beta)))\n",
    "\n",
    "def G2a2s(G, alpha, kappa1, beta):\n",
    "    return -1/2*b*b*(diff(Curl(G, alpha, beta),rij[kappa1]) + diff(Curl(G, alpha, kappa1),rij[beta]))\n",
    "\n",
    "def G2s1s(G, alpha, gamma1, beta):\n",
    "    return 1/2*b*((delG(G, alpha, beta, gamma1) + delG(G, gamma1, beta, alpha)) + 4*b**2/15*(dellapG(G, alpha,beta,gamma1) + dellapG(G, gamma1, beta, alpha)))\n",
    "\n",
    "def G2s2a(G, alpha, gamma1, mu):\n",
    "    return -1/4*b*b*(diff(tilde_Curl(G, gamma1,mu), rij[alpha]) + diff(tilde_Curl(G, alpha,mu), rij[gamma1])) #sign change from -> eps(mu, kappa1, beta)\n",
    "\n",
    "\n",
    "## G2s2s\n",
    "def G2s2s(G, alpha, gamma1, kappa1, beta):\n",
    "    return -1/4*b*b*((deldelG(G, alpha, beta, gamma1, kappa1) + deldelG(G, gamma1, beta, alpha, kappa1)) + \n",
    "                      (deldelG(G, alpha,kappa1, gamma1, beta) + deldelG(G, gamma1, kappa1, alpha, beta)) +\n",
    "                      b**2/5*(deldellapG(G, alpha,beta,gamma1,kappa1) + deldellapG(G, gamma1,beta,alpha,kappa1)) + \n",
    "                      b**2/5*(deldellapG(G, alpha, kappa1, gamma1, beta) + deldellapG(G, gamma1,kappa1,alpha,beta)))\n",
    "\n",
    "\n",
    "## higher matrix elements\n",
    "def G1s3t(G, alpha, beta):\n",
    "    return -1/5*b**2*lapG(G, alpha,beta)\n",
    "\n",
    "\n",
    "# symmetry for matrix elements of form l sigma, 3s\n",
    "def g13sSym(G, alpha,kappa2,kappa1,beta):\n",
    "    return 1/3*(deldelG(G, alpha,beta,kappa1,kappa2) + deldelG(G, alpha,kappa2,kappa1,beta) + deldelG(G, alpha,kappa1,beta,kappa2)) - 1/15*(\n",
    "        KroneckerDelta[kappa1,kappa2]*lapG(G, alpha,beta) + KroneckerDelta[kappa1,beta]*lapG(G, alpha,kappa2) + KroneckerDelta[beta,kappa2]*lapG(G, alpha,kappa1))\n",
    "\n",
    "def G1s3s(G, alpha,kappa2, kappa1, beta):\n",
    "    return b**2*(g13sSym(G, alpha,kappa2,kappa1,beta) + 5*b**2/21*Laplacian(g13sSym(G, alpha,kappa2,kappa1,beta)))\n",
    "\n",
    "\n",
    "# symmetry of matrix elements of form 3s, l sigma\n",
    "def g3s1Sym(G, alpha,gamma1,gamma2,beta):\n",
    "    return 1/3*(deldelG(G, alpha,beta,gamma1,gamma2) + deldelG(G, gamma1,beta,gamma2,alpha) + deldelG(G, gamma2,beta,alpha,gamma1)) - 1/15*(\n",
    "        KroneckerDelta[gamma1, gamma2]*lapG(G, alpha,beta) + KroneckerDelta[gamma2,alpha]*lapG(G, gamma1,beta) + KroneckerDelta[alpha,gamma1]*lapG(G, gamma2,beta))\n",
    "\n",
    "def G3s1s(G, alpha,gamma1,gamma2,beta):\n",
    "    return b**2*(g3s1Sym(G, alpha,gamma1,gamma2,beta) + 5*b**2/21*Laplacian(g3s1Sym(G, alpha,gamma1,gamma2,beta)))\n",
    "\n",
    "def G3a1s(G, Lambda, kappa2, beta):\n",
    "    return 1/2*b**2*(diff(Curl(G, Lambda, beta), rij[kappa2]) + diff(Curl(G, kappa2,beta), rij[Lambda]))\n",
    "\n",
    "def G1s3a(G, alpha, nu2, sigma):\n",
    "    return 2/3*b**2*(diff(tilde_Curl(G, alpha,nu2),rij[sigma]) - 1/3*SumG(G, nu2,sigma,alpha)) # sign change due to --> eps(sigma,nu1,beta)\n",
    "\n",
    "def g3sCurlSym(G, alpha,gamma1,gamma2,mu):\n",
    "    return 1/3*(diff(tilde_Curl(G, alpha,mu), rij[gamma1],rij[gamma2]) + diff(tilde_Curl(G, gamma1,mu), rij[gamma2],rij[alpha]) + diff(tilde_Curl(G, gamma2,mu), rij[alpha],rij[gamma1])) \n",
    "        \n",
    "\n",
    "def G3s2a(G, alpha,gamma1,gamma2,mu):\n",
    "    return -1/2*b**3*g3sCurlSym(G, alpha, gamma1, gamma2, mu)## sign change due to -> eps(mu, kappa1, beta)\n",
    "\n",
    "def G3a2a(G, Lambda, kappa2, mu):\n",
    "    return -1/4*b**3*(diff(CurlCurl(G, Lambda,mu), rij[kappa2]) + diff(CurlCurl(G, kappa2,mu), rij[Lambda])) #sign change -> eps(mu,kappa1,beta)\n",
    "\n",
    "def G2s3t(G, alpha,gamma1,nu2):\n",
    "    return -b**3/10*(dellapG(G, alpha,nu2,gamma1) + dellapG(G, gamma1,nu2,alpha))\n",
    "\n",
    "def G3s3t(G, alpha,gamma1,gamma2,nu2):\n",
    "    return -b**4/5*Laplacian(g3s1Sym(G, alpha,gamma1,gamma2,nu2))\n",
    "\n",
    "\n",
    "def G2s3a(G, alpha,gamma1,mu,nu2): #sign change -> eps(mu,nu1,beta)\n",
    "    return b**3/3*( diff(tilde_Curl(G, alpha,mu), rij[gamma1], rij[nu2]) - 1/3*diff(SumG(G, mu,nu2,alpha), rij[gamma1])\n",
    "                   + diff(tilde_Curl(G, gamma1,mu), rij[alpha], rij[nu2]) - 1/3*diff(SumG(G, mu,nu2,gamma1), rij[alpha]))\n",
    "\n",
    "def G3a3a(G, Lambda, kappa2, mu, nu2): #sign change -> eps(mu,nu1,beta)\n",
    "    return b**4/3*(diff(CurlCurl(G, Lambda,mu), rij[nu2], rij[kappa2]) + diff(CurlCurl(G, kappa2,mu), rij[nu2], rij[Lambda]))\n",
    "\n",
    "\n",
    "def G3s3a(G, alpha,gamma1,gamma2,mu,nu2): #sign change -> eps(mu,nu1,beta)\n",
    "    return 2*b**4/3*(diff(g3sCurlSym(G, alpha,gamma1,gamma2,mu), rij[nu2]) - 1/3*Laplacian(SumG3s1Sym(G, mu,nu2,alpha,gamma1,gamma2)))\n",
    "\n",
    "\n",
    "def g2s3sSym(G, alpha,gamma1,kappa2, kappa1, beta):\n",
    "    return diff(g13sSym(G, alpha,kappa2,kappa1,beta), rij[gamma1]) + diff(g13sSym(G, gamma1, kappa2, kappa1, beta), rij[alpha])\n",
    "\n",
    "def G2s3s(G, alpha,gamma1,kappa2, kappa1, beta):\n",
    "    return 1/2*b**3*(g2s3sSym(G, alpha,gamma1,kappa2, kappa1, beta) + 6*b**2/35*Laplacian(g2s3sSym(G, alpha,gamma1,kappa2, kappa1, beta)))\n",
    "\n",
    "\n",
    "def gCurl3sSym(G, tau, kappa2, kappa1, beta):\n",
    "    return 1/3*(diff(Curl(G, tau, beta), rij[kappa1],rij[kappa2]) + diff(Curl(G, tau,kappa1), rij[kappa2],rij[beta]) + diff(Curl(G, tau,kappa2), rij[beta],rij[kappa1])) \n",
    "\n",
    "\n",
    "def G3a3s(G, Lambda, eta2, kappa2, kappa1, beta):\n",
    "    return 1/2*b**4*(diff(gCurl3sSym(G, Lambda, kappa1, kappa2, beta), rij[eta2]) + diff(gCurl3sSym(G, eta2, kappa1, kappa2, beta), rij[Lambda]))\n",
    "\n",
    "\n",
    "def deldelg13sSym(G, alpha,gamma1,gamma2,kappa2,kappa1,beta):\n",
    "    return diff(g13sSym(G, alpha,kappa2,kappa1,beta), rij[gamma1], rij[gamma2])\n",
    "\n",
    "def lapg13sSym(G, alpha,kappa2,kappa1,beta):\n",
    "    return Laplacian(g13sSym(G, alpha,kappa2,kappa1,beta))\n",
    "\n",
    "def g3s3sSym(G, alpha,gamma1,gamma2,kappa2,kappa1,beta):\n",
    "    return 1/3*(deldelg13sSym(G, alpha,gamma1,gamma2,kappa2,kappa1,beta) + deldelg13sSym(G, gamma1,gamma2,alpha,kappa2,kappa1,beta) + \n",
    "                deldelg13sSym(G, gamma2,alpha,gamma1,kappa2,kappa1,beta)) - 1/15*(\n",
    "                KroneckerDelta[gamma1,gamma2]*lapg13sSym(G, alpha, kappa2, kappa1, beta) + \n",
    "                KroneckerDelta[gamma2,alpha]*lapg13sSym(G, gamma1, kappa2, kappa1, beta) + \n",
    "                KroneckerDelta[alpha,gamma1]*lapg13sSym(G, gamma2, kappa2, kappa1, beta))\n",
    "\n",
    "def G3s3s(G, alpha,gamma1,gamma2,kappa2,kappa1,beta):\n",
    "    return b**4*(g3s3sSym(G, alpha,gamma1,gamma2,kappa2,kappa1,beta) + b**2/7*Laplacian(g3s3sSym(G, alpha,gamma1,gamma2,kappa2,kappa1,beta)))\n",
    "\n",
    "\n",
    "def G3a2s(G, Lambda, kappa2, kappa1, beta):\n",
    "    return -1/4*b**3*(diff(Curl(G, Lambda,beta), rij[kappa1], rij[kappa2]) + diff(Curl(G, Lambda,kappa1), rij[beta], rij[kappa2])\n",
    "                       + diff(Curl(G, kappa2,beta), rij[kappa1], rij[Lambda]) + diff(Curl(G, kappa2,kappa1), rij[beta], rij[Lambda]))\n",
    "\n",
    "\n",
    "def g3s2sSym(G, alpha,gamma1,gamma2, kappa1, beta):\n",
    "    return diff(g3s1Sym(G, alpha,gamma1,gamma2,beta), rij[kappa1]) + diff(g3s1Sym(G, alpha,gamma1,gamma2,kappa1), rij[beta])\n",
    "\n",
    "def G3s2s(G, alpha,gamma1,gamma2,kappa1,beta):\n",
    "    return -1/2*b**3*(g3s2sSym(G, alpha,gamma1,gamma2, kappa1, beta) + 6*b**2/35*Laplacian(g3s2sSym(G, alpha,gamma1,gamma2, kappa1, beta)))\n",
    "\n",
    "\n",
    "def G2a3a(G, Lambda, mu, nu2): # sign change -> eps(mu,nu1,beta)\n",
    "    return 2*b**3/3*diff(CurlCurl(G, Lambda, mu), rij[nu2])\n",
    "\n",
    "\n",
    "def G2a3s(G, Lambda,kappa2,kappa1,beta):\n",
    "    return b**3*gCurl3sSym(G, Lambda, kappa1, kappa2, beta)"
   ]
  },
  {
   "cell_type": "code",
   "execution_count": 14,
   "id": "18a79c3e-d7f6-456c-b9e6-21db3243a7a1",
   "metadata": {},
   "outputs": [],
   "source": [
    "## zero elements\n",
    "\n",
    "def G3t1s(G, alpha,beta):\n",
    "    return 0\n",
    "\n",
    "def G3t2a(G, alpha,beta):\n",
    "    return 0\n",
    "\n",
    "def G3t2s(G, alpha, beta, kappa1):\n",
    "    return 0\n",
    "\n",
    "def G3t3t(G, alpha,beta):\n",
    "    return 0\n",
    "\n",
    "def G3t3a(G, alpha, beta, kappa1):\n",
    "    return 0\n",
    "\n",
    "def G3t3s(G, alpha, beta, kappa1, kappa2):\n",
    "    return 0\n",
    "\n",
    "def G2a3t(G, alpha,beta):\n",
    "    return 0\n",
    "\n",
    "def G3a3t(G, alpha, gamma1, beta):\n",
    "    return 0"
   ]
  },
  {
   "cell_type": "markdown",
   "id": "0d56d59c-321b-406d-9f8b-07c23e86f658",
   "metadata": {},
   "source": [
    "## Matrix assembly"
   ]
  },
  {
   "cell_type": "code",
   "execution_count": 15,
   "id": "b9001f88-892b-4e60-aecd-8698a60aed9b",
   "metadata": {},
   "outputs": [],
   "source": [
    "n_jobs = 1  ## symEngine does not parallelise properly"
   ]
  },
  {
   "cell_type": "code",
   "execution_count": 16,
   "id": "baa1f218-ffcc-483a-af39-d298d1f527b7",
   "metadata": {},
   "outputs": [],
   "source": [
    "modes = ['1s', '2a', '2s', '3t', '3a', '3s']\n",
    "modesV = ['2s', '3t'] ##possible slip modes, for double-layer matrix elements\n",
    "SLDL  = ['G']#, 'K']\n",
    "dim   = {'1s':3, '2a':3, '2s':5, '3t':3, '3a':5, '3s':7}"
   ]
  },
  {
   "cell_type": "markdown",
   "id": "60883437-81ef-471e-9703-055bcb1642a8",
   "metadata": {},
   "source": [
    "### 1) Fourier part of Green's function"
   ]
  },
  {
   "cell_type": "code",
   "execution_count": 17,
   "id": "14d49df3-e164-4686-b397-bb32253cd112",
   "metadata": {},
   "outputs": [
    {
     "name": "stdout",
     "output_type": "stream",
     "text": [
      "G1s1s done\n",
      "G1s2a done\n",
      "G1s2s done\n",
      "G1s3t done\n",
      "G1s3a done\n",
      "G1s3s done\n",
      "G2a1s done\n",
      "G2a2a done\n",
      "G2a2s done\n",
      "G2a3t done\n",
      "G2a3a done\n",
      "G2a3s done\n",
      "G2s1s done\n",
      "G2s2a done\n",
      "G2s2s done\n",
      "G2s3t done\n",
      "G2s3a done\n",
      "G2s3s done\n",
      "G3t1s done\n",
      "G3t2a done\n",
      "G3t2s done\n",
      "G3t3t done\n",
      "G3t3a done\n",
      "G3t3s done\n",
      "G3a1s done\n",
      "G3a2a done\n",
      "G3a2s done\n",
      "G3a3t done\n",
      "G3a3a done\n",
      "G3a3s done\n",
      "G3s1s done\n",
      "G3s2a done\n",
      "G3s2s done\n",
      "G3s3t done\n",
      "G3s3a done\n",
      "G3s3s done\n",
      "CPU times: user 20.3 s, sys: 32.9 ms, total: 20.4 s\n",
      "Wall time: 20.3 s\n"
     ]
    }
   ],
   "source": [
    "%%time\n",
    "sldl = 'G' # single-layer\n",
    "GRF = 'GF' # Fourier space part of Green's function\n",
    "rpl = 0    # what are xij, yij, zij replaced with? rpl = replacement\n",
    "for mode1 in modes:\n",
    "    for mode2 in modes:\n",
    "        if mode1 in ['1s', '2a']:\n",
    "            if mode2 in ['1s', '2a', '3t']:\n",
    "                globals()['list'+GRF+mode1+mode2] = Parallel(n_jobs=n_jobs)(\n",
    "                    delayed(globals()[sldl+mode1+mode2])(globals()[GRF], ki, kj) for ki in range(3) \n",
    "                                                                                    for kj in range(3))\n",
    "                globals()['mat'+GRF+mode1+mode2] = Matrix(globals()['list'+GRF+mode1+mode2]).subs({xij:rpl, yij:rpl, zij:rpl}).reshape(dim[mode1],dim[mode2])\n",
    "                print(sldl+mode1+mode2+' done')\n",
    "\n",
    "            elif mode2 in ['2s', '3a']:                ## GLH needs symmetry factors\n",
    "                globals()['list'+GRF+mode1+mode2] = Parallel(n_jobs=n_jobs)(\n",
    "                    delayed(globals()[sldl+mode1+mode2])(globals()[GRF], ki, kj, lj) for ki in range(3)\n",
    "                                                                                        for kj in range(2)\n",
    "                                                                                            for lj in range(kj,3))\n",
    "                globals()['mat'+GRF+mode1+mode2] = Matrix(globals()['list'+GRF+mode1+mode2]).subs({xij:rpl, yij:rpl, zij:rpl}).reshape(dim[mode1],dim[mode2])\n",
    "                print(sldl+mode1+mode2+' done')\n",
    "\n",
    "            elif mode2 =='3s':\n",
    "                globals()['list'+GRF+mode1+mode2] = Parallel(n_jobs=n_jobs)(\n",
    "                    delayed(globals()[sldl+mode1+mode2])(globals()[GRF], ki, kj, lj, mj) for ki in range(3)\n",
    "                                                                                            for kj in range(2)\n",
    "                                                                                                for lj in range(kj,2)\n",
    "                                                                                                    for mj in range(lj,3))\n",
    "                globals()['mat'+GRF+mode1+mode2] = Matrix(globals()['list'+GRF+mode1+mode2]).subs({xij:rpl, yij:rpl, zij:rpl}).reshape(dim[mode1],dim[mode2])\n",
    "                print(sldl+mode1+mode2+' done')\n",
    "\n",
    "\n",
    "\n",
    "        elif mode1 == '3t':\n",
    "            if mode2 in ['1s', '2a', '3t']:\n",
    "                globals()['list'+GRF+mode1+mode2] = Parallel(n_jobs=n_jobs)(\n",
    "                    delayed(globals()[sldl+mode1+mode2])(globals()[GRF], ki, kj) for ki in range(3) \n",
    "                                                                                    for kj in range(3))\n",
    "                globals()['mat'+GRF+mode1+mode2] = Matrix(globals()['list'+GRF+mode1+mode2]).subs({xij:rpl, yij:rpl, zij:rpl}).reshape(dim[mode1],dim[mode2])\n",
    "                print(sldl+mode1+mode2+' done')\n",
    "\n",
    "            elif mode2 in ['2s', '3a']:\n",
    "                globals()['list'+GRF+mode1+mode2] = Parallel(n_jobs=n_jobs)(\n",
    "                    delayed(globals()[sldl+mode1+mode2])(globals()[GRF], ki, kj, lj) for ki in range(3)\n",
    "                                                                                        for kj in range(2)\n",
    "                                                                                            for lj in range(kj,3))\n",
    "                globals()['mat'+GRF+mode1+mode2] = Matrix(globals()['list'+GRF+mode1+mode2]).subs({xij:rpl, yij:rpl, zij:rpl}).reshape(dim[mode1],dim[mode2])\n",
    "                print(sldl+mode1+mode2+' done')\n",
    "\n",
    "            elif mode2 =='3s':\n",
    "                globals()['list'+GRF+mode1+mode2] = Parallel(n_jobs=n_jobs)(\n",
    "                    delayed(globals()[sldl+mode1+mode2])(globals()[GRF], ki, kj, lj, mj) for ki in range(3)\n",
    "                                                                                            for kj in range(2)\n",
    "                                                                                                for lj in range(kj,2)\n",
    "                                                                                                    for mj in range(lj,3))\n",
    "                globals()['mat'+GRF+mode1+mode2] = Matrix(globals()['list'+GRF+mode1+mode2]).subs({xij:rpl, yij:rpl, zij:rpl}).reshape(dim[mode1],dim[mode2])\n",
    "                print(sldl+mode1+mode2+' done')\n",
    "\n",
    "\n",
    "\n",
    "        elif mode1 in ['2s', '3a']:\n",
    "            if mode2 in ['1s', '2a', '3t']:\n",
    "                globals()['list'+GRF+mode1+mode2] = Parallel(n_jobs=n_jobs)(\n",
    "                    delayed(globals()[sldl+mode1+mode2])(globals()[GRF], ki, li, kj) for ki in range(2) \n",
    "                                                                                        for li in range(ki,3)\n",
    "                                                                                            for kj in range(3))\n",
    "                globals()['mat'+GRF+mode1+mode2] = Matrix(globals()['list'+GRF+mode1+mode2]).subs({xij:rpl, yij:rpl, zij:rpl}).reshape(dim[mode1],dim[mode2])\n",
    "                print(sldl+mode1+mode2+' done')\n",
    "\n",
    "            elif mode2 in ['2s', '3a']:\n",
    "                globals()['list'+GRF+mode1+mode2] = Parallel(n_jobs=n_jobs)(\n",
    "                    delayed(globals()[sldl+mode1+mode2])(globals()[GRF], ki, li, kj, lj) for ki in range(2)\n",
    "                                                                                            for li in range(ki,3)\n",
    "                                                                                                for kj in range(2)\n",
    "                                                                                                    for lj in range(kj,3))\n",
    "                globals()['mat'+GRF+mode1+mode2] = Matrix(globals()['list'+GRF+mode1+mode2]).subs({xij:rpl, yij:rpl, zij:rpl}).reshape(dim[mode1],dim[mode2])\n",
    "                print(sldl+mode1+mode2+' done')\n",
    "\n",
    "            elif mode2 =='3s':\n",
    "                globals()['list'+GRF+mode1+mode2] = Parallel(n_jobs=n_jobs)(\n",
    "                    delayed(globals()[sldl+mode1+mode2])(globals()[GRF], ki, li, kj, lj, mj) for ki in range(2)\n",
    "                                                                                                for li in range(ki,3)\n",
    "                                                                                                    for kj in range(2)\n",
    "                                                                                                        for lj in range(kj,2)\n",
    "                                                                                                            for mj in range(lj,3))\n",
    "                globals()['mat'+GRF+mode1+mode2] = Matrix(globals()['list'+GRF+mode1+mode2]).subs({xij:rpl, yij:rpl, zij:rpl}).reshape(dim[mode1],dim[mode2])\n",
    "                print(sldl+mode1+mode2+' done')\n",
    "\n",
    "\n",
    "\n",
    "        elif mode1 == '3s':\n",
    "            if mode2 in ['1s', '2a', '3t']:\n",
    "                globals()['list'+GRF+mode1+mode2] = Parallel(n_jobs=n_jobs)(\n",
    "                    delayed(globals()[sldl+mode1+mode2])(globals()[GRF], ki, li, mi, kj) for ki in range(2) \n",
    "                                                                                            for li in range(ki,2)\n",
    "                                                                                                for mi in range(li,3)\n",
    "                                                                                                    for kj in range(3))\n",
    "                globals()['mat'+GRF+mode1+mode2] = Matrix(globals()['list'+GRF+mode1+mode2]).subs({xij:rpl, yij:rpl, zij:rpl}).reshape(dim[mode1],dim[mode2])\n",
    "                print(sldl+mode1+mode2+' done')\n",
    "\n",
    "            elif mode2 in ['2s', '3a']:\n",
    "                globals()['list'+GRF+mode1+mode2] = Parallel(n_jobs=n_jobs)(\n",
    "                    delayed(globals()[sldl+mode1+mode2])(globals()[GRF], ki, li, mi, kj, lj) for ki in range(2)\n",
    "                                                                                                for li in range(ki,2)\n",
    "                                                                                                    for mi in range(li,3)\n",
    "                                                                                                        for kj in range(2)\n",
    "                                                                                                            for lj in range(kj,3))\n",
    "                globals()['mat'+GRF+mode1+mode2] = Matrix(globals()['list'+GRF+mode1+mode2]).subs({xij:rpl, yij:rpl, zij:rpl}).reshape(dim[mode1],dim[mode2])\n",
    "                print(sldl+mode1+mode2+' done')\n",
    "\n",
    "            elif mode2 =='3s':\n",
    "                globals()['list'+GRF+mode1+mode2] = Parallel(n_jobs=n_jobs)(\n",
    "                    delayed(globals()[sldl+mode1+mode2])(globals()[GRF], ki, li, mi, kj, lj, mj) for ki in range(2)\n",
    "                                                                                                    for li in range(ki,2)\n",
    "                                                                                                        for mi in range(li,3)\n",
    "                                                                                                            for kj in range(2)\n",
    "                                                                                                                for lj in range(kj,2)\n",
    "                                                                                                                    for mj in range(lj,3))\n",
    "                globals()['mat'+GRF+mode1+mode2] = Matrix(globals()['list'+GRF+mode1+mode2]).subs({xij:rpl, yij:rpl, zij:rpl}).reshape(dim[mode1],dim[mode2])\n",
    "                print(sldl+mode1+mode2+' done')"
   ]
  },
  {
   "cell_type": "markdown",
   "id": "3666d841-f193-4245-ad92-3e1021ad8a0f",
   "metadata": {},
   "source": [
    "### 2) real Green's function (takes longer)"
   ]
  },
  {
   "cell_type": "code",
   "execution_count": 18,
   "id": "a3aaea6f-6dd6-45cb-b9d6-073f3c5380aa",
   "metadata": {},
   "outputs": [
    {
     "name": "stdout",
     "output_type": "stream",
     "text": [
      "G1s1s done\n",
      "G1s2a done\n",
      "G1s2s done\n",
      "G1s3t done\n",
      "G1s3a done\n",
      "G1s3s done\n",
      "G2a1s done\n",
      "G2a2a done\n",
      "G2a2s done\n",
      "G2a3t done\n",
      "G2a3a done\n",
      "G2a3s done\n",
      "G2s1s done\n",
      "G2s2a done\n",
      "G2s2s done\n",
      "G2s3t done\n",
      "G2s3a done\n",
      "G2s3s done\n",
      "G3t1s done\n",
      "G3t2a done\n",
      "G3t2s done\n",
      "G3t3t done\n",
      "G3t3a done\n",
      "G3t3s done\n",
      "G3a1s done\n",
      "G3a2a done\n",
      "G3a2s done\n",
      "G3a3t done\n",
      "G3a3a done\n",
      "G3a3s done\n",
      "G3s1s done\n",
      "G3s2a done\n",
      "G3s2s done\n",
      "G3s3t done\n",
      "G3s3a done\n",
      "G3s3s done\n",
      "CPU times: user 2min, sys: 1.33 s, total: 2min 1s\n",
      "Wall time: 2min 1s\n"
     ]
    }
   ],
   "source": [
    "%%time\n",
    "sldl = 'G' # single-layer\n",
    "GRF = 'GR' # real part of Green's function\n",
    "rpl = L    # what are xij, yij, zij replaced with? rpl = replacement\n",
    "for mode1 in modes:\n",
    "    for mode2 in modes:\n",
    "        if mode1 in ['1s', '2a']:\n",
    "            if mode2 in ['1s', '2a', '3t']:\n",
    "                globals()['list'+GRF+mode1+mode2] = Parallel(n_jobs=n_jobs)(\n",
    "                    delayed(globals()[sldl+mode1+mode2])(globals()[GRF], ki, kj) for ki in range(3) \n",
    "                                                                                    for kj in range(3))\n",
    "                globals()['mat'+GRF+mode1+mode2] = Matrix(globals()['list'+GRF+mode1+mode2]).subs({xij:rpl, yij:rpl, zij:rpl}).reshape(dim[mode1],dim[mode2])\n",
    "                print(sldl+mode1+mode2+' done')\n",
    "\n",
    "            elif mode2 in ['2s', '3a']:                ## GLH needs symmetry factors\n",
    "                globals()['list'+GRF+mode1+mode2] = Parallel(n_jobs=n_jobs)(\n",
    "                    delayed(globals()[sldl+mode1+mode2])(globals()[GRF], ki, kj, lj) for ki in range(3)\n",
    "                                                                                        for kj in range(2)\n",
    "                                                                                            for lj in range(kj,3))\n",
    "                globals()['mat'+GRF+mode1+mode2] = Matrix(globals()['list'+GRF+mode1+mode2]).subs({xij:rpl, yij:rpl, zij:rpl}).reshape(dim[mode1],dim[mode2])\n",
    "                print(sldl+mode1+mode2+' done')\n",
    "\n",
    "            elif mode2 =='3s':\n",
    "                globals()['list'+GRF+mode1+mode2] = Parallel(n_jobs=n_jobs)(\n",
    "                    delayed(globals()[sldl+mode1+mode2])(globals()[GRF], ki, kj, lj, mj) for ki in range(3)\n",
    "                                                                                            for kj in range(2)\n",
    "                                                                                                for lj in range(kj,2)\n",
    "                                                                                                    for mj in range(lj,3))\n",
    "                globals()['mat'+GRF+mode1+mode2] = Matrix(globals()['list'+GRF+mode1+mode2]).subs({xij:rpl, yij:rpl, zij:rpl}).reshape(dim[mode1],dim[mode2])\n",
    "                print(sldl+mode1+mode2+' done')\n",
    "\n",
    "\n",
    "\n",
    "        elif mode1 == '3t':\n",
    "            if mode2 in ['1s', '2a', '3t']:\n",
    "                globals()['list'+GRF+mode1+mode2] = Parallel(n_jobs=n_jobs)(\n",
    "                    delayed(globals()[sldl+mode1+mode2])(globals()[GRF], ki, kj) for ki in range(3) \n",
    "                                                                                    for kj in range(3))\n",
    "                globals()['mat'+GRF+mode1+mode2] = Matrix(globals()['list'+GRF+mode1+mode2]).subs({xij:rpl, yij:rpl, zij:rpl}).reshape(dim[mode1],dim[mode2])\n",
    "                print(sldl+mode1+mode2+' done')\n",
    "\n",
    "            elif mode2 in ['2s', '3a']:\n",
    "                globals()['list'+GRF+mode1+mode2] = Parallel(n_jobs=n_jobs)(\n",
    "                    delayed(globals()[sldl+mode1+mode2])(globals()[GRF], ki, kj, lj) for ki in range(3)\n",
    "                                                                                        for kj in range(2)\n",
    "                                                                                            for lj in range(kj,3))\n",
    "                globals()['mat'+GRF+mode1+mode2] = Matrix(globals()['list'+GRF+mode1+mode2]).subs({xij:rpl, yij:rpl, zij:rpl}).reshape(dim[mode1],dim[mode2])\n",
    "                print(sldl+mode1+mode2+' done')\n",
    "\n",
    "            elif mode2 =='3s':\n",
    "                globals()['list'+GRF+mode1+mode2] = Parallel(n_jobs=n_jobs)(\n",
    "                    delayed(globals()[sldl+mode1+mode2])(globals()[GRF], ki, kj, lj, mj) for ki in range(3)\n",
    "                                                                                            for kj in range(2)\n",
    "                                                                                                for lj in range(kj,2)\n",
    "                                                                                                    for mj in range(lj,3))\n",
    "                globals()['mat'+GRF+mode1+mode2] = Matrix(globals()['list'+GRF+mode1+mode2]).subs({xij:rpl, yij:rpl, zij:rpl}).reshape(dim[mode1],dim[mode2])\n",
    "                print(sldl+mode1+mode2+' done')\n",
    "\n",
    "\n",
    "\n",
    "        elif mode1 in ['2s', '3a']:\n",
    "            if mode2 in ['1s', '2a', '3t']:\n",
    "                globals()['list'+GRF+mode1+mode2] = Parallel(n_jobs=n_jobs)(\n",
    "                    delayed(globals()[sldl+mode1+mode2])(globals()[GRF], ki, li, kj) for ki in range(2) \n",
    "                                                                                        for li in range(ki,3)\n",
    "                                                                                            for kj in range(3))\n",
    "                globals()['mat'+GRF+mode1+mode2] = Matrix(globals()['list'+GRF+mode1+mode2]).subs({xij:rpl, yij:rpl, zij:rpl}).reshape(dim[mode1],dim[mode2])\n",
    "                print(sldl+mode1+mode2+' done')\n",
    "\n",
    "            elif mode2 in ['2s', '3a']:\n",
    "                globals()['list'+GRF+mode1+mode2] = Parallel(n_jobs=n_jobs)(\n",
    "                    delayed(globals()[sldl+mode1+mode2])(globals()[GRF], ki, li, kj, lj) for ki in range(2)\n",
    "                                                                                            for li in range(ki,3)\n",
    "                                                                                                for kj in range(2)\n",
    "                                                                                                    for lj in range(kj,3))\n",
    "                globals()['mat'+GRF+mode1+mode2] = Matrix(globals()['list'+GRF+mode1+mode2]).subs({xij:rpl, yij:rpl, zij:rpl}).reshape(dim[mode1],dim[mode2])\n",
    "                print(sldl+mode1+mode2+' done')\n",
    "\n",
    "            elif mode2 =='3s':\n",
    "                globals()['list'+GRF+mode1+mode2] = Parallel(n_jobs=n_jobs)(\n",
    "                    delayed(globals()[sldl+mode1+mode2])(globals()[GRF], ki, li, kj, lj, mj) for ki in range(2)\n",
    "                                                                                                for li in range(ki,3)\n",
    "                                                                                                    for kj in range(2)\n",
    "                                                                                                        for lj in range(kj,2)\n",
    "                                                                                                            for mj in range(lj,3))\n",
    "                globals()['mat'+GRF+mode1+mode2] = Matrix(globals()['list'+GRF+mode1+mode2]).subs({xij:rpl, yij:rpl, zij:rpl}).reshape(dim[mode1],dim[mode2])\n",
    "                print(sldl+mode1+mode2+' done')\n",
    "\n",
    "\n",
    "\n",
    "        elif mode1 == '3s':\n",
    "            if mode2 in ['1s', '2a', '3t']:\n",
    "                globals()['list'+GRF+mode1+mode2] = Parallel(n_jobs=n_jobs)(\n",
    "                    delayed(globals()[sldl+mode1+mode2])(globals()[GRF], ki, li, mi, kj) for ki in range(2) \n",
    "                                                                                            for li in range(ki,2)\n",
    "                                                                                                for mi in range(li,3)\n",
    "                                                                                                    for kj in range(3))\n",
    "                globals()['mat'+GRF+mode1+mode2] = Matrix(globals()['list'+GRF+mode1+mode2]).subs({xij:rpl, yij:rpl, zij:rpl}).reshape(dim[mode1],dim[mode2])\n",
    "                print(sldl+mode1+mode2+' done')\n",
    "\n",
    "            elif mode2 in ['2s', '3a']:\n",
    "                globals()['list'+GRF+mode1+mode2] = Parallel(n_jobs=n_jobs)(\n",
    "                    delayed(globals()[sldl+mode1+mode2])(globals()[GRF], ki, li, mi, kj, lj) for ki in range(2)\n",
    "                                                                                                for li in range(ki,2)\n",
    "                                                                                                    for mi in range(li,3)\n",
    "                                                                                                        for kj in range(2)\n",
    "                                                                                                            for lj in range(kj,3))\n",
    "                globals()['mat'+GRF+mode1+mode2] = Matrix(globals()['list'+GRF+mode1+mode2]).subs({xij:rpl, yij:rpl, zij:rpl}).reshape(dim[mode1],dim[mode2])\n",
    "                print(sldl+mode1+mode2+' done')\n",
    "\n",
    "            elif mode2 =='3s':\n",
    "                globals()['list'+GRF+mode1+mode2] = Parallel(n_jobs=n_jobs)(\n",
    "                    delayed(globals()[sldl+mode1+mode2])(globals()[GRF], ki, li, mi, kj, lj, mj) for ki in range(2)\n",
    "                                                                                                    for li in range(ki,2)\n",
    "                                                                                                        for mi in range(li,3)\n",
    "                                                                                                            for kj in range(2)\n",
    "                                                                                                                for lj in range(kj,2)\n",
    "                                                                                                                    for mj in range(lj,3))\n",
    "                globals()['mat'+GRF+mode1+mode2] = Matrix(globals()['list'+GRF+mode1+mode2]).subs({xij:rpl, yij:rpl, zij:rpl}).reshape(dim[mode1],dim[mode2])\n",
    "                print(sldl+mode1+mode2+' done')"
   ]
  },
  {
   "cell_type": "markdown",
   "id": "042f39cf-689e-4a64-b28d-400aff284e34",
   "metadata": {},
   "source": [
    "### 3) add Green's functions"
   ]
  },
  {
   "cell_type": "code",
   "execution_count": 19,
   "id": "d0e399d2-9cea-4cf2-aa6e-a671c0cf9fef",
   "metadata": {},
   "outputs": [
    {
     "name": "stdout",
     "output_type": "stream",
     "text": [
      "G1s1s done\n",
      "G1s2a done\n",
      "G1s2s done\n",
      "G1s3t done\n",
      "G1s3a done\n",
      "G1s3s done\n",
      "G2a1s done\n",
      "G2a2a done\n",
      "G2a2s done\n",
      "G2a3t done\n",
      "G2a3a done\n",
      "G2a3s done\n",
      "G2s1s done\n",
      "G2s2a done\n",
      "G2s2s done\n",
      "G2s3t done\n",
      "G2s3a done\n",
      "G2s3s done\n",
      "G3t1s done\n",
      "G3t2a done\n",
      "G3t2s done\n",
      "G3t3t done\n",
      "G3t3a done\n",
      "G3t3s done\n",
      "G3a1s done\n",
      "G3a2a done\n",
      "G3a2s done\n",
      "G3a3t done\n",
      "G3a3a done\n",
      "G3a3s done\n",
      "G3s1s done\n",
      "G3s2a done\n",
      "G3s2s done\n",
      "G3s3t done\n",
      "G3s3a done\n",
      "G3s3s done\n"
     ]
    }
   ],
   "source": [
    "for mode1 in modes:\n",
    "    for mode2 in modes:\n",
    "        globals()['mat'+sldl+mode1+mode2] = 1/(8*pi*eta) * globals()['matGR'+mode1+mode2] + 1/L**3 * globals()['matGF'+mode1+mode2]\n",
    "        print(sldl+mode1+mode2+' done')"
   ]
  },
  {
   "cell_type": "markdown",
   "id": "c9e1cdc0-c47d-4eba-a13c-11fda5299d61",
   "metadata": {},
   "source": [
    "### Create double-layer matrices"
   ]
  },
  {
   "cell_type": "code",
   "execution_count": 20,
   "id": "c620b035-d8d7-4e9b-a543-024c2e388afa",
   "metadata": {},
   "outputs": [
    {
     "name": "stdout",
     "output_type": "stream",
     "text": [
      "K1s2s done\n",
      "K1s3t done\n",
      "K2a2s done\n",
      "K2a3t done\n",
      "K2s2s done\n",
      "K2s3t done\n",
      "K3t2s done\n",
      "K3t3t done\n",
      "K3a2s done\n",
      "K3a3t done\n",
      "K3s2s done\n",
      "K3s3t done\n"
     ]
    }
   ],
   "source": [
    "for mode1 in modes:\n",
    "    for mode2 in modesV:\n",
    "        if mode2 == '2s':\n",
    "            globals()['matK'+mode1+mode2] = 8*pi*eta*b/3 * globals()['matG'+mode1+mode2]\n",
    "            print('K'+mode1+mode2+' done')\n",
    "            \n",
    "        elif mode2 == '3t':\n",
    "            globals()['matK'+mode1+mode2] = 6*pi*eta*b/5 * globals()['matG'+mode1+mode2]\n",
    "            print('K'+mode1+mode2+' done')"
   ]
  },
  {
   "cell_type": "code",
   "execution_count": 23,
   "id": "0c4a84e5-e8c5-4f4a-af04-8c224db44b2c",
   "metadata": {},
   "outputs": [],
   "source": [
    "## save all G's and K's to files, and re-load into a different sympy file for simplification over parallel modes ? Nope"
   ]
  },
  {
   "cell_type": "code",
   "execution_count": null,
   "id": "3cccb178-a3ae-42da-b651-d356b6c0a798",
   "metadata": {},
   "outputs": [],
   "source": []
  },
  {
   "cell_type": "code",
   "execution_count": 22,
   "id": "b52e3737-3f9a-4825-b630-acf08fbc7371",
   "metadata": {},
   "outputs": [],
   "source": [
    "#text_file = open(\"matrixElements/G3s3s.txt\", \"w\")\n",
    "#nn = text_file.write(str(matG3s3s))\n",
    "#text_file.close()\n",
    "#nn ##that's a 70MB file lol"
   ]
  },
  {
   "cell_type": "code",
   "execution_count": 24,
   "id": "acd1d8b9-d5bc-4fc5-b1a3-5c00011ca79b",
   "metadata": {},
   "outputs": [
    {
     "data": {
      "text/plain": [
       "(1/3)*b**2*((-1/3)*exp(pi**4*-576.0/(L**4*xi**4))*(1 + 288.0*pi**4/(L**4*xi**4) + 12.0*pi**2/(L**2*xi**2))/eta + (-8/9)*exp(pi**4*-324.0/(L**4*xi**4))*(1 + 162.0*pi**4/(L**4*xi**4) + 9.0*pi**2/(L**2*xi**2))/eta + (-1/2)*exp(pi**4*-256.0/(L**4*xi**4))*(1 + 128.0*pi**4/(L**4*xi**4) + 8.0*pi**2/(L**2*xi**2))/eta) + (1/144)*L**2*exp(pi**4*-576.0/(L**4*xi**4))*(1 + 288.0*pi**4/(L**4*xi**4) + 12.0*pi**2/(L**2*xi**2))/(pi**2*eta) + (2/81)*L**2*exp(pi**4*-324.0/(L**4*xi**4))*(1 + 162.0*pi**4/(L**4*xi**4) + 9.0*pi**2/(L**2*xi**2))/(pi**2*eta) + (1/64)*L**2*exp(pi**4*-256.0/(L**4*xi**4))*(1 + 128.0*pi**4/(L**4*xi**4) + 8.0*pi**2/(L**2*xi**2))/(pi**2*eta)"
      ]
     },
     "execution_count": 24,
     "metadata": {},
     "output_type": "execute_result"
    }
   ],
   "source": [
    "matGF1s1s[0,1]"
   ]
  },
  {
   "cell_type": "code",
   "execution_count": null,
   "id": "4060fda5-a502-400d-a947-c46e22bfbb76",
   "metadata": {},
   "outputs": [],
   "source": []
  },
  {
   "cell_type": "code",
   "execution_count": 47,
   "id": "d54b5361-3336-4c46-bd1c-7f935354fa62",
   "metadata": {},
   "outputs": [],
   "source": [
    "arguments = [b, eta, L, xi]\n",
    "f = lambdify(arguments, [matGF1s1s[0,0]])"
   ]
  },
  {
   "cell_type": "code",
   "execution_count": 48,
   "id": "447a0b0c-136a-4980-8df3-d6b377d72cf6",
   "metadata": {},
   "outputs": [
    {
     "data": {
      "text/plain": [
       "array(-3.07560528e-166)"
      ]
     },
     "execution_count": 48,
     "metadata": {},
     "output_type": "execute_result"
    }
   ],
   "source": [
    "f(1., 0.1, 1, 1)"
   ]
  },
  {
   "cell_type": "code",
   "execution_count": null,
   "id": "5bfbb651-b532-40b1-a29c-94218b945864",
   "metadata": {},
   "outputs": [],
   "source": []
  },
  {
   "cell_type": "code",
   "execution_count": null,
   "id": "7faf5658-7d64-4f9c-8a81-5ccd1d5d88cb",
   "metadata": {},
   "outputs": [],
   "source": []
  },
  {
   "cell_type": "code",
   "execution_count": null,
   "id": "7d6810a6-b52f-46a4-a847-298d1cc9f2ba",
   "metadata": {},
   "outputs": [],
   "source": []
  },
  {
   "cell_type": "code",
   "execution_count": null,
   "id": "4463d7ad-488b-4fb4-a2fd-26b40adea80b",
   "metadata": {},
   "outputs": [],
   "source": []
  },
  {
   "cell_type": "code",
   "execution_count": null,
   "id": "fb424ab9-5900-4a51-9f4e-22575d533bae",
   "metadata": {},
   "outputs": [],
   "source": []
  },
  {
   "cell_type": "code",
   "execution_count": null,
   "id": "0d2e9269-17cb-4325-a2f0-2923a58ef1a5",
   "metadata": {},
   "outputs": [],
   "source": []
  },
  {
   "cell_type": "code",
   "execution_count": null,
   "id": "106859c5-8f7d-4c0e-a142-e6897d0dbe15",
   "metadata": {},
   "outputs": [],
   "source": []
  },
  {
   "cell_type": "code",
   "execution_count": 21,
   "id": "b6216b61-21dc-4a54-add0-10ce8b04bb0d",
   "metadata": {},
   "outputs": [
    {
     "data": {
      "text/latex": [
       "$\\displaystyle \\frac{L^{2} \\cdot \\left(1 + \\frac{8.0 \\pi^{2}}{L^{2} \\xi^{2}} + \\frac{128.0 \\pi^{4}}{L^{4} \\xi^{4}}\\right) e^{- \\frac{256.0 \\pi^{4}}{L^{4} \\xi^{4}}}}{64 \\pi^{2} \\eta} + \\frac{2 L^{2} \\cdot \\left(1 + \\frac{9.0 \\pi^{2}}{L^{2} \\xi^{2}} + \\frac{162.0 \\pi^{4}}{L^{4} \\xi^{4}}\\right) e^{- \\frac{324.0 \\pi^{4}}{L^{4} \\xi^{4}}}}{81 \\pi^{2} \\eta} + \\frac{L^{2} \\cdot \\left(1 + \\frac{12.0 \\pi^{2}}{L^{2} \\xi^{2}} + \\frac{288.0 \\pi^{4}}{L^{4} \\xi^{4}}\\right) e^{- \\frac{576.0 \\pi^{4}}{L^{4} \\xi^{4}}}}{144 \\pi^{2} \\eta} + \\frac{b^{2} \\left(- \\frac{\\left(1 + \\frac{8.0 \\pi^{2}}{L^{2} \\xi^{2}} + \\frac{128.0 \\pi^{4}}{L^{4} \\xi^{4}}\\right) e^{- \\frac{256.0 \\pi^{4}}{L^{4} \\xi^{4}}}}{2 \\eta} - \\frac{8 \\cdot \\left(1 + \\frac{9.0 \\pi^{2}}{L^{2} \\xi^{2}} + \\frac{162.0 \\pi^{4}}{L^{4} \\xi^{4}}\\right) e^{- \\frac{324.0 \\pi^{4}}{L^{4} \\xi^{4}}}}{9 \\eta} - \\frac{\\left(1 + \\frac{12.0 \\pi^{2}}{L^{2} \\xi^{2}} + \\frac{288.0 \\pi^{4}}{L^{4} \\xi^{4}}\\right) e^{- \\frac{576.0 \\pi^{4}}{L^{4} \\xi^{4}}}}{3 \\eta}\\right)}{3}$"
      ],
      "text/plain": [
       "L**2*(1 + 8.0*pi**2/(L**2*xi**2) + 128.0*pi**4/(L**4*xi**4))*exp(-256.0*pi**4/(L**4*xi**4))/(64*pi**2*eta) + 2*L**2*(1 + 9.0*pi**2/(L**2*xi**2) + 162.0*pi**4/(L**4*xi**4))*exp(-324.0*pi**4/(L**4*xi**4))/(81*pi**2*eta) + L**2*(1 + 12.0*pi**2/(L**2*xi**2) + 288.0*pi**4/(L**4*xi**4))*exp(-576.0*pi**4/(L**4*xi**4))/(144*pi**2*eta) + b**2*(-(1 + 8.0*pi**2/(L**2*xi**2) + 128.0*pi**4/(L**4*xi**4))*exp(-256.0*pi**4/(L**4*xi**4))/(2*eta) - 8*(1 + 9.0*pi**2/(L**2*xi**2) + 162.0*pi**4/(L**4*xi**4))*exp(-324.0*pi**4/(L**4*xi**4))/(9*eta) - (1 + 12.0*pi**2/(L**2*xi**2) + 288.0*pi**4/(L**4*xi**4))*exp(-576.0*pi**4/(L**4*xi**4))/(3*eta))/3"
      ]
     },
     "execution_count": 21,
     "metadata": {},
     "output_type": "execute_result"
    }
   ],
   "source": [
    "matGF1s1s[0,1]"
   ]
  },
  {
   "cell_type": "code",
   "execution_count": 32,
   "id": "526cdaa9-3eed-418d-9a25-a697bbe68f8b",
   "metadata": {},
   "outputs": [
    {
     "name": "stdout",
     "output_type": "stream",
     "text": [
      "CPU times: user 14.7 s, sys: 12.1 ms, total: 14.7 s\n",
      "Wall time: 14.8 s\n"
     ]
    },
    {
     "data": {
      "text/latex": [
       "$\\displaystyle \\frac{8 L^{206} \\operatorname{erfc}{\\left(\\xi \\sqrt{L^{2}} \\right)}}{\\left(L^{2}\\right)^{\\frac{207}{2}}} + \\frac{4 L^{206} \\operatorname{erfc}{\\left(2 \\xi \\sqrt{L^{2}} \\right)}}{\\left(L^{2}\\right)^{\\frac{207}{2}}} + \\frac{32 L^{206} \\operatorname{erfc}{\\left(3 \\xi \\sqrt{L^{2}} \\right)}}{3 \\left(L^{2}\\right)^{\\frac{207}{2}}} + \\frac{8 \\sqrt{2} L^{206} \\operatorname{erfc}{\\left(\\sqrt{2} \\xi \\sqrt{L^{2}} \\right)}}{\\left(L^{2}\\right)^{\\frac{207}{2}}} + \\frac{4 \\sqrt{2} L^{206} \\operatorname{erfc}{\\left(2 \\sqrt{2} \\xi \\sqrt{L^{2}} \\right)}}{\\left(L^{2}\\right)^{\\frac{207}{2}}} + \\frac{8 \\sqrt{3} L^{206} \\operatorname{erfc}{\\left(\\sqrt{3} \\xi \\sqrt{L^{2}} \\right)}}{3 \\left(L^{2}\\right)^{\\frac{207}{2}}} + \\frac{4 \\sqrt{3} L^{206} \\operatorname{erfc}{\\left(2 \\sqrt{3} \\xi \\sqrt{L^{2}} \\right)}}{3 \\left(L^{2}\\right)^{\\frac{207}{2}}} + \\frac{32 \\sqrt{5} L^{206} \\operatorname{erfc}{\\left(\\sqrt{5} \\xi \\sqrt{L^{2}} \\right)}}{5 \\left(L^{2}\\right)^{\\frac{207}{2}}} + \\frac{16 \\sqrt{6} L^{206} \\operatorname{erfc}{\\left(\\sqrt{6} \\xi \\sqrt{L^{2}} \\right)}}{3 \\left(L^{2}\\right)^{\\frac{207}{2}}} + \\frac{16 L^{204} b^{2} \\operatorname{erfc}{\\left(\\xi \\sqrt{L^{2}} \\right)}}{3 \\left(L^{2}\\right)^{\\frac{207}{2}}} + \\frac{8 L^{204} b^{2} \\operatorname{erfc}{\\left(2 \\xi \\sqrt{L^{2}} \\right)}}{3 \\left(L^{2}\\right)^{\\frac{207}{2}}} + \\frac{64 L^{204} b^{2} \\operatorname{erfc}{\\left(3 \\xi \\sqrt{L^{2}} \\right)}}{81 \\left(L^{2}\\right)^{\\frac{207}{2}}} + \\frac{4 \\sqrt{2} L^{204} b^{2} \\operatorname{erfc}{\\left(\\sqrt{2} \\xi \\sqrt{L^{2}} \\right)}}{3 \\left(L^{2}\\right)^{\\frac{207}{2}}} + \\frac{2 \\sqrt{2} L^{204} b^{2} \\operatorname{erfc}{\\left(2 \\sqrt{2} \\xi \\sqrt{L^{2}} \\right)}}{3 \\left(L^{2}\\right)^{\\frac{207}{2}}} + \\frac{832 \\sqrt{5} L^{204} b^{2} \\operatorname{erfc}{\\left(\\sqrt{5} \\xi \\sqrt{L^{2}} \\right)}}{375 \\left(L^{2}\\right)^{\\frac{207}{2}}} + \\frac{8 \\sqrt{6} L^{204} b^{2} \\operatorname{erfc}{\\left(\\sqrt{6} \\xi \\sqrt{L^{2}} \\right)}}{9 \\left(L^{2}\\right)^{\\frac{207}{2}}} + \\frac{64 L^{4} b^{2} \\xi^{7} e^{- L^{2} \\xi^{2}}}{3 \\sqrt{\\pi}} + \\frac{512 L^{4} b^{2} \\xi^{7} e^{- 2 L^{2} \\xi^{2}}}{3 \\sqrt{\\pi}} + \\frac{192 L^{4} b^{2} \\xi^{7} e^{- 3 L^{2} \\xi^{2}}}{\\sqrt{\\pi}} + \\frac{4096 L^{4} b^{2} \\xi^{7} e^{- 4 L^{2} \\xi^{2}}}{3 \\sqrt{\\pi}} + \\frac{21760 L^{4} b^{2} \\xi^{7} e^{- 5 L^{2} \\xi^{2}}}{3 \\sqrt{\\pi}} + \\frac{9216 L^{4} b^{2} \\xi^{7} e^{- 6 L^{2} \\xi^{2}}}{\\sqrt{\\pi}} + \\frac{32768 L^{4} b^{2} \\xi^{7} e^{- 8 L^{2} \\xi^{2}}}{3 \\sqrt{\\pi}} + \\frac{25344 L^{4} b^{2} \\xi^{7} e^{- 9 L^{2} \\xi^{2}}}{\\sqrt{\\pi}} + \\frac{12288 L^{4} b^{2} \\xi^{7} e^{- 12 L^{2} \\xi^{2}}}{\\sqrt{\\pi}} - \\frac{96 L^{2} b^{2} \\xi^{5} e^{- L^{2} \\xi^{2}}}{\\sqrt{\\pi}} - \\frac{1280 L^{2} b^{2} \\xi^{5} e^{- 2 L^{2} \\xi^{2}}}{3 \\sqrt{\\pi}} - \\frac{352 L^{2} b^{2} \\xi^{5} e^{- 3 L^{2} \\xi^{2}}}{\\sqrt{\\pi}} - \\frac{1536 L^{2} b^{2} \\xi^{5} e^{- 4 L^{2} \\xi^{2}}}{\\sqrt{\\pi}} - \\frac{20608 L^{2} b^{2} \\xi^{5} e^{- 5 L^{2} \\xi^{2}}}{3 \\sqrt{\\pi}} - \\frac{7680 L^{2} b^{2} \\xi^{5} e^{- 6 L^{2} \\xi^{2}}}{\\sqrt{\\pi}} - \\frac{20480 L^{2} b^{2} \\xi^{5} e^{- 8 L^{2} \\xi^{2}}}{3 \\sqrt{\\pi}} - \\frac{14720 L^{2} b^{2} \\xi^{5} e^{- 9 L^{2} \\xi^{2}}}{\\sqrt{\\pi}} - \\frac{5632 L^{2} b^{2} \\xi^{5} e^{- 12 L^{2} \\xi^{2}}}{\\sqrt{\\pi}} + \\frac{16 L^{2} \\xi^{3} e^{- L^{2} \\xi^{2}}}{\\sqrt{\\pi}} + \\frac{64 L^{2} \\xi^{3} e^{- 2 L^{2} \\xi^{2}}}{\\sqrt{\\pi}} + \\frac{48 L^{2} \\xi^{3} e^{- 3 L^{2} \\xi^{2}}}{\\sqrt{\\pi}} + \\frac{64 L^{2} \\xi^{3} e^{- 4 L^{2} \\xi^{2}}}{\\sqrt{\\pi}} + \\frac{320 L^{2} \\xi^{3} e^{- 5 L^{2} \\xi^{2}}}{\\sqrt{\\pi}} + \\frac{384 L^{2} \\xi^{3} e^{- 6 L^{2} \\xi^{2}}}{\\sqrt{\\pi}} + \\frac{256 L^{2} \\xi^{3} e^{- 8 L^{2} \\xi^{2}}}{\\sqrt{\\pi}} + \\frac{576 L^{2} \\xi^{3} e^{- 9 L^{2} \\xi^{2}}}{\\sqrt{\\pi}} + \\frac{192 L^{2} \\xi^{3} e^{- 12 L^{2} \\xi^{2}}}{\\sqrt{\\pi}} + \\frac{128 b^{2} \\xi^{3} e^{- L^{2} \\xi^{2}}}{3 \\sqrt{\\pi}} + \\frac{448 b^{2} \\xi^{3} e^{- 2 L^{2} \\xi^{2}}}{3 \\sqrt{\\pi}} + \\frac{320 b^{2} \\xi^{3} e^{- 3 L^{2} \\xi^{2}}}{3 \\sqrt{\\pi}} + \\frac{512 b^{2} \\xi^{3} e^{- 4 L^{2} \\xi^{2}}}{3 \\sqrt{\\pi}} + \\frac{11776 b^{2} \\xi^{3} e^{- 5 L^{2} \\xi^{2}}}{15 \\sqrt{\\pi}} + \\frac{896 b^{2} \\xi^{3} e^{- 6 L^{2} \\xi^{2}}}{\\sqrt{\\pi}} + \\frac{1792 b^{2} \\xi^{3} e^{- 8 L^{2} \\xi^{2}}}{3 \\sqrt{\\pi}} + \\frac{11776 b^{2} \\xi^{3} e^{- 9 L^{2} \\xi^{2}}}{9 \\sqrt{\\pi}} + \\frac{1280 b^{2} \\xi^{3} e^{- 12 L^{2} \\xi^{2}}}{3 \\sqrt{\\pi}} - \\frac{32 \\xi e^{- L^{2} \\xi^{2}}}{\\sqrt{\\pi}} - \\frac{64 \\xi e^{- 2 L^{2} \\xi^{2}}}{\\sqrt{\\pi}} - \\frac{32 \\xi e^{- 3 L^{2} \\xi^{2}}}{\\sqrt{\\pi}} - \\frac{32 \\xi e^{- 4 L^{2} \\xi^{2}}}{\\sqrt{\\pi}} - \\frac{128 \\xi e^{- 5 L^{2} \\xi^{2}}}{\\sqrt{\\pi}} - \\frac{128 \\xi e^{- 6 L^{2} \\xi^{2}}}{\\sqrt{\\pi}} - \\frac{64 \\xi e^{- 8 L^{2} \\xi^{2}}}{\\sqrt{\\pi}} - \\frac{128 \\xi e^{- 9 L^{2} \\xi^{2}}}{\\sqrt{\\pi}} - \\frac{32 \\xi e^{- 12 L^{2} \\xi^{2}}}{\\sqrt{\\pi}} + \\frac{32 b^{2} \\xi e^{- L^{2} \\xi^{2}}}{3 \\sqrt{\\pi} L^{2}} + \\frac{16 b^{2} \\xi e^{- 2 L^{2} \\xi^{2}}}{3 \\sqrt{\\pi} L^{2}} + \\frac{32 b^{2} \\xi e^{- 4 L^{2} \\xi^{2}}}{3 \\sqrt{\\pi} L^{2}} + \\frac{1664 b^{2} \\xi e^{- 5 L^{2} \\xi^{2}}}{75 \\sqrt{\\pi} L^{2}} + \\frac{32 b^{2} \\xi e^{- 6 L^{2} \\xi^{2}}}{3 \\sqrt{\\pi} L^{2}} + \\frac{16 b^{2} \\xi e^{- 8 L^{2} \\xi^{2}}}{3 \\sqrt{\\pi} L^{2}} + \\frac{128 b^{2} \\xi e^{- 9 L^{2} \\xi^{2}}}{27 \\sqrt{\\pi} L^{2}}$"
      ],
      "text/plain": [
       "8*L**206*erfc(xi*sqrt(L**2))/(L**2)**(207/2) + 4*L**206*erfc(2*xi*sqrt(L**2))/(L**2)**(207/2) + 32*L**206*erfc(3*xi*sqrt(L**2))/(3*(L**2)**(207/2)) + 8*sqrt(2)*L**206*erfc(sqrt(2)*xi*sqrt(L**2))/(L**2)**(207/2) + 4*sqrt(2)*L**206*erfc(2*sqrt(2)*xi*sqrt(L**2))/(L**2)**(207/2) + 8*sqrt(3)*L**206*erfc(sqrt(3)*xi*sqrt(L**2))/(3*(L**2)**(207/2)) + 4*sqrt(3)*L**206*erfc(2*sqrt(3)*xi*sqrt(L**2))/(3*(L**2)**(207/2)) + 32*sqrt(5)*L**206*erfc(sqrt(5)*xi*sqrt(L**2))/(5*(L**2)**(207/2)) + 16*sqrt(6)*L**206*erfc(sqrt(6)*xi*sqrt(L**2))/(3*(L**2)**(207/2)) + 16*L**204*b**2*erfc(xi*sqrt(L**2))/(3*(L**2)**(207/2)) + 8*L**204*b**2*erfc(2*xi*sqrt(L**2))/(3*(L**2)**(207/2)) + 64*L**204*b**2*erfc(3*xi*sqrt(L**2))/(81*(L**2)**(207/2)) + 4*sqrt(2)*L**204*b**2*erfc(sqrt(2)*xi*sqrt(L**2))/(3*(L**2)**(207/2)) + 2*sqrt(2)*L**204*b**2*erfc(2*sqrt(2)*xi*sqrt(L**2))/(3*(L**2)**(207/2)) + 832*sqrt(5)*L**204*b**2*erfc(sqrt(5)*xi*sqrt(L**2))/(375*(L**2)**(207/2)) + 8*sqrt(6)*L**204*b**2*erfc(sqrt(6)*xi*sqrt(L**2))/(9*(L**2)**(207/2)) + 64*L**4*b**2*xi**7*exp(-L**2*xi**2)/(3*sqrt(pi)) + 512*L**4*b**2*xi**7*exp(-2*L**2*xi**2)/(3*sqrt(pi)) + 192*L**4*b**2*xi**7*exp(-3*L**2*xi**2)/sqrt(pi) + 4096*L**4*b**2*xi**7*exp(-4*L**2*xi**2)/(3*sqrt(pi)) + 21760*L**4*b**2*xi**7*exp(-5*L**2*xi**2)/(3*sqrt(pi)) + 9216*L**4*b**2*xi**7*exp(-6*L**2*xi**2)/sqrt(pi) + 32768*L**4*b**2*xi**7*exp(-8*L**2*xi**2)/(3*sqrt(pi)) + 25344*L**4*b**2*xi**7*exp(-9*L**2*xi**2)/sqrt(pi) + 12288*L**4*b**2*xi**7*exp(-12*L**2*xi**2)/sqrt(pi) - 96*L**2*b**2*xi**5*exp(-L**2*xi**2)/sqrt(pi) - 1280*L**2*b**2*xi**5*exp(-2*L**2*xi**2)/(3*sqrt(pi)) - 352*L**2*b**2*xi**5*exp(-3*L**2*xi**2)/sqrt(pi) - 1536*L**2*b**2*xi**5*exp(-4*L**2*xi**2)/sqrt(pi) - 20608*L**2*b**2*xi**5*exp(-5*L**2*xi**2)/(3*sqrt(pi)) - 7680*L**2*b**2*xi**5*exp(-6*L**2*xi**2)/sqrt(pi) - 20480*L**2*b**2*xi**5*exp(-8*L**2*xi**2)/(3*sqrt(pi)) - 14720*L**2*b**2*xi**5*exp(-9*L**2*xi**2)/sqrt(pi) - 5632*L**2*b**2*xi**5*exp(-12*L**2*xi**2)/sqrt(pi) + 16*L**2*xi**3*exp(-L**2*xi**2)/sqrt(pi) + 64*L**2*xi**3*exp(-2*L**2*xi**2)/sqrt(pi) + 48*L**2*xi**3*exp(-3*L**2*xi**2)/sqrt(pi) + 64*L**2*xi**3*exp(-4*L**2*xi**2)/sqrt(pi) + 320*L**2*xi**3*exp(-5*L**2*xi**2)/sqrt(pi) + 384*L**2*xi**3*exp(-6*L**2*xi**2)/sqrt(pi) + 256*L**2*xi**3*exp(-8*L**2*xi**2)/sqrt(pi) + 576*L**2*xi**3*exp(-9*L**2*xi**2)/sqrt(pi) + 192*L**2*xi**3*exp(-12*L**2*xi**2)/sqrt(pi) + 128*b**2*xi**3*exp(-L**2*xi**2)/(3*sqrt(pi)) + 448*b**2*xi**3*exp(-2*L**2*xi**2)/(3*sqrt(pi)) + 320*b**2*xi**3*exp(-3*L**2*xi**2)/(3*sqrt(pi)) + 512*b**2*xi**3*exp(-4*L**2*xi**2)/(3*sqrt(pi)) + 11776*b**2*xi**3*exp(-5*L**2*xi**2)/(15*sqrt(pi)) + 896*b**2*xi**3*exp(-6*L**2*xi**2)/sqrt(pi) + 1792*b**2*xi**3*exp(-8*L**2*xi**2)/(3*sqrt(pi)) + 11776*b**2*xi**3*exp(-9*L**2*xi**2)/(9*sqrt(pi)) + 1280*b**2*xi**3*exp(-12*L**2*xi**2)/(3*sqrt(pi)) - 32*xi*exp(-L**2*xi**2)/sqrt(pi) - 64*xi*exp(-2*L**2*xi**2)/sqrt(pi) - 32*xi*exp(-3*L**2*xi**2)/sqrt(pi) - 32*xi*exp(-4*L**2*xi**2)/sqrt(pi) - 128*xi*exp(-5*L**2*xi**2)/sqrt(pi) - 128*xi*exp(-6*L**2*xi**2)/sqrt(pi) - 64*xi*exp(-8*L**2*xi**2)/sqrt(pi) - 128*xi*exp(-9*L**2*xi**2)/sqrt(pi) - 32*xi*exp(-12*L**2*xi**2)/sqrt(pi) + 32*b**2*xi*exp(-L**2*xi**2)/(3*sqrt(pi)*L**2) + 16*b**2*xi*exp(-2*L**2*xi**2)/(3*sqrt(pi)*L**2) + 32*b**2*xi*exp(-4*L**2*xi**2)/(3*sqrt(pi)*L**2) + 1664*b**2*xi*exp(-5*L**2*xi**2)/(75*sqrt(pi)*L**2) + 32*b**2*xi*exp(-6*L**2*xi**2)/(3*sqrt(pi)*L**2) + 16*b**2*xi*exp(-8*L**2*xi**2)/(3*sqrt(pi)*L**2) + 128*b**2*xi*exp(-9*L**2*xi**2)/(27*sqrt(pi)*L**2)"
      ]
     },
     "execution_count": 32,
     "metadata": {},
     "output_type": "execute_result"
    }
   ],
   "source": [
    "%%time\n",
    "sympy.simplify(matGR1s1s[0,0])"
   ]
  },
  {
   "cell_type": "code",
   "execution_count": 25,
   "id": "d9c02852-6c0c-4566-ad60-203910f5f34c",
   "metadata": {},
   "outputs": [
    {
     "data": {
      "text/latex": [
       "$\\displaystyle \\frac{0.00694444444444444 L^{2} e^{- \\frac{576.0 \\pi^{4}}{L^{4} \\xi^{4}}}}{\\pi^{2} \\eta} + \\frac{0.0246913580246914 L^{2} e^{- \\frac{324.0 \\pi^{4}}{L^{4} \\xi^{4}}}}{\\pi^{2} \\eta} + \\frac{0.015625 L^{2} e^{- \\frac{256.0 \\pi^{4}}{L^{4} \\xi^{4}}}}{\\pi^{2} \\eta} - \\frac{0.111111111111111 b^{2} e^{- \\frac{576.0 \\pi^{4}}{L^{4} \\xi^{4}}}}{\\eta} - \\frac{0.296296296296296 b^{2} e^{- \\frac{324.0 \\pi^{4}}{L^{4} \\xi^{4}}}}{\\eta} - \\frac{0.166666666666667 b^{2} e^{- \\frac{256.0 \\pi^{4}}{L^{4} \\xi^{4}}}}{\\eta} + \\frac{0.0833333333333333 e^{- \\frac{576.0 \\pi^{4}}{L^{4} \\xi^{4}}}}{\\eta \\xi^{2}} + \\frac{0.222222222222222 e^{- \\frac{324.0 \\pi^{4}}{L^{4} \\xi^{4}}}}{\\eta \\xi^{2}} + \\frac{0.125 e^{- \\frac{256.0 \\pi^{4}}{L^{4} \\xi^{4}}}}{\\eta \\xi^{2}} - \\frac{1.33333333333333 \\pi^{2} b^{2} e^{- \\frac{576.0 \\pi^{4}}{L^{4} \\xi^{4}}}}{L^{2} \\eta \\xi^{2}} - \\frac{2.66666666666667 \\pi^{2} b^{2} e^{- \\frac{324.0 \\pi^{4}}{L^{4} \\xi^{4}}}}{L^{2} \\eta \\xi^{2}} - \\frac{1.33333333333333 \\pi^{2} b^{2} e^{- \\frac{256.0 \\pi^{4}}{L^{4} \\xi^{4}}}}{L^{2} \\eta \\xi^{2}} + \\frac{2.0 \\pi^{2} e^{- \\frac{576.0 \\pi^{4}}{L^{4} \\xi^{4}}}}{L^{2} \\eta \\xi^{4}} + \\frac{4.0 \\pi^{2} e^{- \\frac{324.0 \\pi^{4}}{L^{4} \\xi^{4}}}}{L^{2} \\eta \\xi^{4}} + \\frac{2.0 \\pi^{2} e^{- \\frac{256.0 \\pi^{4}}{L^{4} \\xi^{4}}}}{L^{2} \\eta \\xi^{4}} - \\frac{32.0 \\pi^{4} b^{2} e^{- \\frac{576.0 \\pi^{4}}{L^{4} \\xi^{4}}}}{L^{4} \\eta \\xi^{4}} - \\frac{48.0 \\pi^{4} b^{2} e^{- \\frac{324.0 \\pi^{4}}{L^{4} \\xi^{4}}}}{L^{4} \\eta \\xi^{4}} - \\frac{21.3333333333333 \\pi^{4} b^{2} e^{- \\frac{256.0 \\pi^{4}}{L^{4} \\xi^{4}}}}{L^{4} \\eta \\xi^{4}}$"
      ],
      "text/plain": [
       "0.00694444444444444*L**2*exp(-576.0*pi**4/(L**4*xi**4))/(pi**2*eta) + 0.0246913580246914*L**2*exp(-324.0*pi**4/(L**4*xi**4))/(pi**2*eta) + 0.015625*L**2*exp(-256.0*pi**4/(L**4*xi**4))/(pi**2*eta) - 0.111111111111111*b**2*exp(-576.0*pi**4/(L**4*xi**4))/eta - 0.296296296296296*b**2*exp(-324.0*pi**4/(L**4*xi**4))/eta - 0.166666666666667*b**2*exp(-256.0*pi**4/(L**4*xi**4))/eta + 0.0833333333333333*exp(-576.0*pi**4/(L**4*xi**4))/(eta*xi**2) + 0.222222222222222*exp(-324.0*pi**4/(L**4*xi**4))/(eta*xi**2) + 0.125*exp(-256.0*pi**4/(L**4*xi**4))/(eta*xi**2) - 1.33333333333333*pi**2*b**2*exp(-576.0*pi**4/(L**4*xi**4))/(L**2*eta*xi**2) - 2.66666666666667*pi**2*b**2*exp(-324.0*pi**4/(L**4*xi**4))/(L**2*eta*xi**2) - 1.33333333333333*pi**2*b**2*exp(-256.0*pi**4/(L**4*xi**4))/(L**2*eta*xi**2) + 2.0*pi**2*exp(-576.0*pi**4/(L**4*xi**4))/(L**2*eta*xi**4) + 4.0*pi**2*exp(-324.0*pi**4/(L**4*xi**4))/(L**2*eta*xi**4) + 2.0*pi**2*exp(-256.0*pi**4/(L**4*xi**4))/(L**2*eta*xi**4) - 32.0*pi**4*b**2*exp(-576.0*pi**4/(L**4*xi**4))/(L**4*eta*xi**4) - 48.0*pi**4*b**2*exp(-324.0*pi**4/(L**4*xi**4))/(L**4*eta*xi**4) - 21.3333333333333*pi**4*b**2*exp(-256.0*pi**4/(L**4*xi**4))/(L**4*eta*xi**4)"
      ]
     },
     "execution_count": 25,
     "metadata": {},
     "output_type": "execute_result"
    }
   ],
   "source": [
    "sympy.simplify(expand(matGF1s1s[0,1]))"
   ]
  },
  {
   "cell_type": "code",
   "execution_count": null,
   "id": "4f35f107-b83d-4ad7-a42f-7a3d0af69f39",
   "metadata": {},
   "outputs": [],
   "source": []
  },
  {
   "cell_type": "code",
   "execution_count": null,
   "id": "a1a9fd9c-5c7f-4c27-a825-844b15f68cce",
   "metadata": {},
   "outputs": [],
   "source": []
  },
  {
   "cell_type": "code",
   "execution_count": null,
   "id": "418744bf-46f5-434b-b956-532bb6cea1ac",
   "metadata": {},
   "outputs": [],
   "source": []
  },
  {
   "cell_type": "code",
   "execution_count": null,
   "id": "07fd7f91-94b4-44d9-a71b-8086fd3ed985",
   "metadata": {},
   "outputs": [],
   "source": []
  },
  {
   "cell_type": "code",
   "execution_count": null,
   "id": "9220b198-44e3-4a93-896a-7557fde40e85",
   "metadata": {},
   "outputs": [],
   "source": []
  },
  {
   "cell_type": "code",
   "execution_count": null,
   "id": "9985b839-32c4-4ab9-8e00-4e3e2054cdef",
   "metadata": {},
   "outputs": [],
   "source": []
  },
  {
   "cell_type": "code",
   "execution_count": null,
   "id": "10ce310b-cf2a-46a1-90cd-803a7a075377",
   "metadata": {},
   "outputs": [],
   "source": []
  },
  {
   "cell_type": "code",
   "execution_count": null,
   "id": "364c0f32-5e68-4603-ab81-f290724a3f1c",
   "metadata": {},
   "outputs": [],
   "source": []
  },
  {
   "cell_type": "code",
   "execution_count": null,
   "id": "45d3307b-b5d4-4081-9ac3-afb02e5fd2f8",
   "metadata": {},
   "outputs": [],
   "source": []
  },
  {
   "cell_type": "code",
   "execution_count": null,
   "id": "bbb38b2b-8562-472d-b838-7581e1f3a992",
   "metadata": {},
   "outputs": [],
   "source": []
  },
  {
   "cell_type": "code",
   "execution_count": null,
   "id": "a28d9095-3c4d-46e8-8875-47faf20e837a",
   "metadata": {},
   "outputs": [],
   "source": []
  },
  {
   "cell_type": "code",
   "execution_count": null,
   "id": "9f0d4abb-ebb8-47e9-a7bc-29d35252685f",
   "metadata": {},
   "outputs": [],
   "source": []
  },
  {
   "cell_type": "code",
   "execution_count": null,
   "id": "03052496-4c6e-4f5b-99d4-24560b776c72",
   "metadata": {},
   "outputs": [],
   "source": []
  },
  {
   "cell_type": "code",
   "execution_count": null,
   "id": "3f5f6309-ad70-41cf-8876-25498e1e7519",
   "metadata": {},
   "outputs": [],
   "source": []
  },
  {
   "cell_type": "code",
   "execution_count": null,
   "id": "86537c34-8a92-486b-9a88-2a5a00b97364",
   "metadata": {},
   "outputs": [],
   "source": []
  },
  {
   "cell_type": "code",
   "execution_count": null,
   "id": "b2ecd5aa-cd9f-45ae-a384-cf0f01a44e9d",
   "metadata": {},
   "outputs": [],
   "source": []
  },
  {
   "cell_type": "code",
   "execution_count": null,
   "id": "59e3d640-b6a2-40bd-892d-4d90e4bcc5c9",
   "metadata": {},
   "outputs": [],
   "source": []
  },
  {
   "cell_type": "markdown",
   "id": "6a8043bc-18b9-49a4-bcd2-6746e63026ac",
   "metadata": {},
   "source": [
    "_________\n",
    "__________\n",
    "\n",
    "\n",
    "### Does not work:"
   ]
  },
  {
   "cell_type": "code",
   "execution_count": 27,
   "id": "181cdcf6-68a6-4d51-a533-eca9e61a502d",
   "metadata": {},
   "outputs": [],
   "source": [
    "def SimplifyG(matG, alpha,beta):\n",
    "    return sympy.simplify( matG(alpha,beta) )"
   ]
  },
  {
   "cell_type": "code",
   "execution_count": null,
   "id": "cdf487e0-0f7c-48bd-808c-13e1bc09d565",
   "metadata": {},
   "outputs": [],
   "source": [
    "n_jobs = -1 ## does not work with symengine, and cannot seem to convert to sympy - try without simplifying for now - how large will file be? \n",
    "listGF1s1s = Parallel(n_jobs=n_jobs)(delayed(SimplifyG)(matGF1s1s, i, j ) for i in range(3) for j in range(3))"
   ]
  },
  {
   "cell_type": "code",
   "execution_count": null,
   "id": "c17ae87e-7b57-441c-ace2-c4d24da39be4",
   "metadata": {},
   "outputs": [],
   "source": [
    "%%time\n",
    "sldl = 'G'\n",
    "for mode1 in modes:\n",
    "    for mode2 in modes:\n",
    "        if mode1 in ['1s', '2a']:\n",
    "            if mode2 in ['1s', '2a', '3t']:\n",
    "                globals()['list'+sldl+mode1+mode2] = Parallel(n_jobs=n_jobs)(\n",
    "                    delayed(SimplifyG)(globals()['mat'+sldl+mode1+mode2], ki, kj) for ki in range(3) \n",
    "                                                                                        for kj in range(3))\n",
    "                globals()['array'+sldl+mode1+mode2] = np.asarray(globals()['list'+sldl+mode1+mode2]).reshape(dim[mode1],dim[mode2])\n",
    "                globals()['mat'+sldl+mode1+mode2] = sympy.Matrix(globals()['array'+sldl+mode1+mode2])\n",
    "                print(sldl+mode1+mode2+' done')"
   ]
  },
  {
   "cell_type": "code",
   "execution_count": 24,
   "id": "085d1c45-6a3c-4666-a701-1e17cffd1a52",
   "metadata": {},
   "outputs": [
    {
     "data": {
      "text/plain": [
       "'G'"
      ]
     },
     "execution_count": 24,
     "metadata": {},
     "output_type": "execute_result"
    }
   ],
   "source": [
    "Simplif"
   ]
  },
  {
   "cell_type": "code",
   "execution_count": null,
   "id": "f37b4c6a-6e71-4d24-a412-201df0230fa5",
   "metadata": {},
   "outputs": [],
   "source": []
  },
  {
   "cell_type": "code",
   "execution_count": null,
   "id": "6e38f011-9067-4b72-a927-f0986b6baa0f",
   "metadata": {},
   "outputs": [],
   "source": []
  },
  {
   "cell_type": "code",
   "execution_count": null,
   "id": "5b420c05-3322-4070-baa3-d09a94051a73",
   "metadata": {},
   "outputs": [],
   "source": []
  },
  {
   "cell_type": "code",
   "execution_count": null,
   "id": "1d90b07a-23a0-4833-9932-526fd90c401e",
   "metadata": {},
   "outputs": [],
   "source": []
  },
  {
   "cell_type": "code",
   "execution_count": null,
   "id": "9be56b6f-7ce0-4dc8-9931-8834ee95e626",
   "metadata": {},
   "outputs": [],
   "source": []
  },
  {
   "cell_type": "code",
   "execution_count": null,
   "id": "baac9f2a-6336-4e96-a796-c2657553b10f",
   "metadata": {},
   "outputs": [],
   "source": []
  },
  {
   "cell_type": "code",
   "execution_count": null,
   "id": "7dc300ea-655d-4b7f-a2bc-295f56689cac",
   "metadata": {},
   "outputs": [],
   "source": []
  },
  {
   "cell_type": "code",
   "execution_count": null,
   "id": "968f6bf8-d0f3-45ec-92a7-e89a12c0c1fb",
   "metadata": {},
   "outputs": [],
   "source": []
  },
  {
   "cell_type": "code",
   "execution_count": 19,
   "id": "2bb72295-d313-4fcf-be1e-6d3b6ebafd23",
   "metadata": {},
   "outputs": [
    {
     "name": "stdout",
     "output_type": "stream",
     "text": [
      "CPU times: user 26.4 s, sys: 27.7 ms, total: 26.4 s\n",
      "Wall time: 26.5 s\n"
     ]
    },
    {
     "data": {
      "text/latex": [
       "$\\displaystyle \\frac{8 L^{4} b^{2} \\xi^{7} e^{- L^{2} \\xi^{2}}}{3 \\pi^{\\frac{3}{2}} \\eta} + \\frac{64 L^{4} b^{2} \\xi^{7} e^{- 2 L^{2} \\xi^{2}}}{3 \\pi^{\\frac{3}{2}} \\eta} + \\frac{24 L^{4} b^{2} \\xi^{7} e^{- 3 L^{2} \\xi^{2}}}{\\pi^{\\frac{3}{2}} \\eta} + \\frac{512 L^{4} b^{2} \\xi^{7} e^{- 4 L^{2} \\xi^{2}}}{3 \\pi^{\\frac{3}{2}} \\eta} + \\frac{2720 L^{4} b^{2} \\xi^{7} e^{- 5 L^{2} \\xi^{2}}}{3 \\pi^{\\frac{3}{2}} \\eta} + \\frac{1152 L^{4} b^{2} \\xi^{7} e^{- 6 L^{2} \\xi^{2}}}{\\pi^{\\frac{3}{2}} \\eta} + \\frac{4096 L^{4} b^{2} \\xi^{7} e^{- 8 L^{2} \\xi^{2}}}{3 \\pi^{\\frac{3}{2}} \\eta} + \\frac{3168 L^{4} b^{2} \\xi^{7} e^{- 9 L^{2} \\xi^{2}}}{\\pi^{\\frac{3}{2}} \\eta} + \\frac{1536 L^{4} b^{2} \\xi^{7} e^{- 12 L^{2} \\xi^{2}}}{\\pi^{\\frac{3}{2}} \\eta} + \\frac{L^{4} \\operatorname{erfc}{\\left(\\xi \\sqrt{L^{2}} \\right)}}{\\pi \\eta \\left(L^{2}\\right)^{\\frac{5}{2}}} + \\frac{L^{4} \\operatorname{erfc}{\\left(2 \\xi \\sqrt{L^{2}} \\right)}}{2 \\pi \\eta \\left(L^{2}\\right)^{\\frac{5}{2}}} + \\frac{4 L^{4} \\operatorname{erfc}{\\left(3 \\xi \\sqrt{L^{2}} \\right)}}{3 \\pi \\eta \\left(L^{2}\\right)^{\\frac{5}{2}}} + \\frac{\\sqrt{2} L^{4} \\operatorname{erfc}{\\left(\\sqrt{2} \\xi \\sqrt{L^{2}} \\right)}}{\\pi \\eta \\left(L^{2}\\right)^{\\frac{5}{2}}} + \\frac{\\sqrt{2} L^{4} \\operatorname{erfc}{\\left(2 \\sqrt{2} \\xi \\sqrt{L^{2}} \\right)}}{2 \\pi \\eta \\left(L^{2}\\right)^{\\frac{5}{2}}} + \\frac{\\sqrt{3} L^{4} \\operatorname{erfc}{\\left(\\sqrt{3} \\xi \\sqrt{L^{2}} \\right)}}{3 \\pi \\eta \\left(L^{2}\\right)^{\\frac{5}{2}}} + \\frac{\\sqrt{3} L^{4} \\operatorname{erfc}{\\left(2 \\sqrt{3} \\xi \\sqrt{L^{2}} \\right)}}{6 \\pi \\eta \\left(L^{2}\\right)^{\\frac{5}{2}}} + \\frac{4 \\sqrt{5} L^{4} \\operatorname{erfc}{\\left(\\sqrt{5} \\xi \\sqrt{L^{2}} \\right)}}{5 \\pi \\eta \\left(L^{2}\\right)^{\\frac{5}{2}}} + \\frac{2 \\sqrt{6} L^{4} \\operatorname{erfc}{\\left(\\sqrt{6} \\xi \\sqrt{L^{2}} \\right)}}{3 \\pi \\eta \\left(L^{2}\\right)^{\\frac{5}{2}}} - \\frac{12 L^{2} b^{2} \\xi^{5} e^{- L^{2} \\xi^{2}}}{\\pi^{\\frac{3}{2}} \\eta} - \\frac{160 L^{2} b^{2} \\xi^{5} e^{- 2 L^{2} \\xi^{2}}}{3 \\pi^{\\frac{3}{2}} \\eta} - \\frac{44 L^{2} b^{2} \\xi^{5} e^{- 3 L^{2} \\xi^{2}}}{\\pi^{\\frac{3}{2}} \\eta} - \\frac{192 L^{2} b^{2} \\xi^{5} e^{- 4 L^{2} \\xi^{2}}}{\\pi^{\\frac{3}{2}} \\eta} - \\frac{2576 L^{2} b^{2} \\xi^{5} e^{- 5 L^{2} \\xi^{2}}}{3 \\pi^{\\frac{3}{2}} \\eta} - \\frac{960 L^{2} b^{2} \\xi^{5} e^{- 6 L^{2} \\xi^{2}}}{\\pi^{\\frac{3}{2}} \\eta} - \\frac{2560 L^{2} b^{2} \\xi^{5} e^{- 8 L^{2} \\xi^{2}}}{3 \\pi^{\\frac{3}{2}} \\eta} - \\frac{1840 L^{2} b^{2} \\xi^{5} e^{- 9 L^{2} \\xi^{2}}}{\\pi^{\\frac{3}{2}} \\eta} - \\frac{704 L^{2} b^{2} \\xi^{5} e^{- 12 L^{2} \\xi^{2}}}{\\pi^{\\frac{3}{2}} \\eta} + \\frac{2 L^{2} b^{2} \\operatorname{erfc}{\\left(\\xi \\sqrt{L^{2}} \\right)}}{3 \\pi \\eta \\left(L^{2}\\right)^{\\frac{5}{2}}} + \\frac{L^{2} b^{2} \\operatorname{erfc}{\\left(2 \\xi \\sqrt{L^{2}} \\right)}}{3 \\pi \\eta \\left(L^{2}\\right)^{\\frac{5}{2}}} + \\frac{8 L^{2} b^{2} \\operatorname{erfc}{\\left(3 \\xi \\sqrt{L^{2}} \\right)}}{81 \\pi \\eta \\left(L^{2}\\right)^{\\frac{5}{2}}} + \\frac{\\sqrt{2} L^{2} b^{2} \\operatorname{erfc}{\\left(\\sqrt{2} \\xi \\sqrt{L^{2}} \\right)}}{6 \\pi \\eta \\left(L^{2}\\right)^{\\frac{5}{2}}} + \\frac{\\sqrt{2} L^{2} b^{2} \\operatorname{erfc}{\\left(2 \\sqrt{2} \\xi \\sqrt{L^{2}} \\right)}}{12 \\pi \\eta \\left(L^{2}\\right)^{\\frac{5}{2}}} + \\frac{104 \\sqrt{5} L^{2} b^{2} \\operatorname{erfc}{\\left(\\sqrt{5} \\xi \\sqrt{L^{2}} \\right)}}{375 \\pi \\eta \\left(L^{2}\\right)^{\\frac{5}{2}}} + \\frac{\\sqrt{6} L^{2} b^{2} \\operatorname{erfc}{\\left(\\sqrt{6} \\xi \\sqrt{L^{2}} \\right)}}{9 \\pi \\eta \\left(L^{2}\\right)^{\\frac{5}{2}}} + \\frac{2 L^{2} \\xi^{3} e^{- L^{2} \\xi^{2}}}{\\pi^{\\frac{3}{2}} \\eta} + \\frac{8 L^{2} \\xi^{3} e^{- 2 L^{2} \\xi^{2}}}{\\pi^{\\frac{3}{2}} \\eta} + \\frac{6 L^{2} \\xi^{3} e^{- 3 L^{2} \\xi^{2}}}{\\pi^{\\frac{3}{2}} \\eta} + \\frac{8 L^{2} \\xi^{3} e^{- 4 L^{2} \\xi^{2}}}{\\pi^{\\frac{3}{2}} \\eta} + \\frac{40 L^{2} \\xi^{3} e^{- 5 L^{2} \\xi^{2}}}{\\pi^{\\frac{3}{2}} \\eta} + \\frac{48 L^{2} \\xi^{3} e^{- 6 L^{2} \\xi^{2}}}{\\pi^{\\frac{3}{2}} \\eta} + \\frac{32 L^{2} \\xi^{3} e^{- 8 L^{2} \\xi^{2}}}{\\pi^{\\frac{3}{2}} \\eta} + \\frac{72 L^{2} \\xi^{3} e^{- 9 L^{2} \\xi^{2}}}{\\pi^{\\frac{3}{2}} \\eta} + \\frac{24 L^{2} \\xi^{3} e^{- 12 L^{2} \\xi^{2}}}{\\pi^{\\frac{3}{2}} \\eta} + \\frac{16 b^{2} \\xi^{3} e^{- L^{2} \\xi^{2}}}{3 \\pi^{\\frac{3}{2}} \\eta} + \\frac{56 b^{2} \\xi^{3} e^{- 2 L^{2} \\xi^{2}}}{3 \\pi^{\\frac{3}{2}} \\eta} + \\frac{40 b^{2} \\xi^{3} e^{- 3 L^{2} \\xi^{2}}}{3 \\pi^{\\frac{3}{2}} \\eta} + \\frac{64 b^{2} \\xi^{3} e^{- 4 L^{2} \\xi^{2}}}{3 \\pi^{\\frac{3}{2}} \\eta} + \\frac{1472 b^{2} \\xi^{3} e^{- 5 L^{2} \\xi^{2}}}{15 \\pi^{\\frac{3}{2}} \\eta} + \\frac{112 b^{2} \\xi^{3} e^{- 6 L^{2} \\xi^{2}}}{\\pi^{\\frac{3}{2}} \\eta} + \\frac{224 b^{2} \\xi^{3} e^{- 8 L^{2} \\xi^{2}}}{3 \\pi^{\\frac{3}{2}} \\eta} + \\frac{1472 b^{2} \\xi^{3} e^{- 9 L^{2} \\xi^{2}}}{9 \\pi^{\\frac{3}{2}} \\eta} + \\frac{160 b^{2} \\xi^{3} e^{- 12 L^{2} \\xi^{2}}}{3 \\pi^{\\frac{3}{2}} \\eta} - \\frac{4 \\xi e^{- L^{2} \\xi^{2}}}{\\pi^{\\frac{3}{2}} \\eta} - \\frac{8 \\xi e^{- 2 L^{2} \\xi^{2}}}{\\pi^{\\frac{3}{2}} \\eta} - \\frac{4 \\xi e^{- 3 L^{2} \\xi^{2}}}{\\pi^{\\frac{3}{2}} \\eta} - \\frac{4 \\xi e^{- 4 L^{2} \\xi^{2}}}{\\pi^{\\frac{3}{2}} \\eta} - \\frac{16 \\xi e^{- 5 L^{2} \\xi^{2}}}{\\pi^{\\frac{3}{2}} \\eta} - \\frac{16 \\xi e^{- 6 L^{2} \\xi^{2}}}{\\pi^{\\frac{3}{2}} \\eta} - \\frac{8 \\xi e^{- 8 L^{2} \\xi^{2}}}{\\pi^{\\frac{3}{2}} \\eta} - \\frac{16 \\xi e^{- 9 L^{2} \\xi^{2}}}{\\pi^{\\frac{3}{2}} \\eta} - \\frac{4 \\xi e^{- 12 L^{2} \\xi^{2}}}{\\pi^{\\frac{3}{2}} \\eta} + \\frac{4 b^{2} \\xi e^{- L^{2} \\xi^{2}}}{3 \\pi^{\\frac{3}{2}} L^{2} \\eta} + \\frac{2 b^{2} \\xi e^{- 2 L^{2} \\xi^{2}}}{3 \\pi^{\\frac{3}{2}} L^{2} \\eta} + \\frac{4 b^{2} \\xi e^{- 4 L^{2} \\xi^{2}}}{3 \\pi^{\\frac{3}{2}} L^{2} \\eta} + \\frac{208 b^{2} \\xi e^{- 5 L^{2} \\xi^{2}}}{75 \\pi^{\\frac{3}{2}} L^{2} \\eta} + \\frac{4 b^{2} \\xi e^{- 6 L^{2} \\xi^{2}}}{3 \\pi^{\\frac{3}{2}} L^{2} \\eta} + \\frac{2 b^{2} \\xi e^{- 8 L^{2} \\xi^{2}}}{3 \\pi^{\\frac{3}{2}} L^{2} \\eta} + \\frac{16 b^{2} \\xi e^{- 9 L^{2} \\xi^{2}}}{27 \\pi^{\\frac{3}{2}} L^{2} \\eta}$"
      ],
      "text/plain": [
       "8*L**4*b**2*xi**7*exp(-L**2*xi**2)/(3*pi**(3/2)*eta) + 64*L**4*b**2*xi**7*exp(-2*L**2*xi**2)/(3*pi**(3/2)*eta) + 24*L**4*b**2*xi**7*exp(-3*L**2*xi**2)/(pi**(3/2)*eta) + 512*L**4*b**2*xi**7*exp(-4*L**2*xi**2)/(3*pi**(3/2)*eta) + 2720*L**4*b**2*xi**7*exp(-5*L**2*xi**2)/(3*pi**(3/2)*eta) + 1152*L**4*b**2*xi**7*exp(-6*L**2*xi**2)/(pi**(3/2)*eta) + 4096*L**4*b**2*xi**7*exp(-8*L**2*xi**2)/(3*pi**(3/2)*eta) + 3168*L**4*b**2*xi**7*exp(-9*L**2*xi**2)/(pi**(3/2)*eta) + 1536*L**4*b**2*xi**7*exp(-12*L**2*xi**2)/(pi**(3/2)*eta) + L**4*erfc(xi*sqrt(L**2))/(pi*eta*(L**2)**(5/2)) + L**4*erfc(2*xi*sqrt(L**2))/(2*pi*eta*(L**2)**(5/2)) + 4*L**4*erfc(3*xi*sqrt(L**2))/(3*pi*eta*(L**2)**(5/2)) + sqrt(2)*L**4*erfc(sqrt(2)*xi*sqrt(L**2))/(pi*eta*(L**2)**(5/2)) + sqrt(2)*L**4*erfc(2*sqrt(2)*xi*sqrt(L**2))/(2*pi*eta*(L**2)**(5/2)) + sqrt(3)*L**4*erfc(sqrt(3)*xi*sqrt(L**2))/(3*pi*eta*(L**2)**(5/2)) + sqrt(3)*L**4*erfc(2*sqrt(3)*xi*sqrt(L**2))/(6*pi*eta*(L**2)**(5/2)) + 4*sqrt(5)*L**4*erfc(sqrt(5)*xi*sqrt(L**2))/(5*pi*eta*(L**2)**(5/2)) + 2*sqrt(6)*L**4*erfc(sqrt(6)*xi*sqrt(L**2))/(3*pi*eta*(L**2)**(5/2)) - 12*L**2*b**2*xi**5*exp(-L**2*xi**2)/(pi**(3/2)*eta) - 160*L**2*b**2*xi**5*exp(-2*L**2*xi**2)/(3*pi**(3/2)*eta) - 44*L**2*b**2*xi**5*exp(-3*L**2*xi**2)/(pi**(3/2)*eta) - 192*L**2*b**2*xi**5*exp(-4*L**2*xi**2)/(pi**(3/2)*eta) - 2576*L**2*b**2*xi**5*exp(-5*L**2*xi**2)/(3*pi**(3/2)*eta) - 960*L**2*b**2*xi**5*exp(-6*L**2*xi**2)/(pi**(3/2)*eta) - 2560*L**2*b**2*xi**5*exp(-8*L**2*xi**2)/(3*pi**(3/2)*eta) - 1840*L**2*b**2*xi**5*exp(-9*L**2*xi**2)/(pi**(3/2)*eta) - 704*L**2*b**2*xi**5*exp(-12*L**2*xi**2)/(pi**(3/2)*eta) + 2*L**2*b**2*erfc(xi*sqrt(L**2))/(3*pi*eta*(L**2)**(5/2)) + L**2*b**2*erfc(2*xi*sqrt(L**2))/(3*pi*eta*(L**2)**(5/2)) + 8*L**2*b**2*erfc(3*xi*sqrt(L**2))/(81*pi*eta*(L**2)**(5/2)) + sqrt(2)*L**2*b**2*erfc(sqrt(2)*xi*sqrt(L**2))/(6*pi*eta*(L**2)**(5/2)) + sqrt(2)*L**2*b**2*erfc(2*sqrt(2)*xi*sqrt(L**2))/(12*pi*eta*(L**2)**(5/2)) + 104*sqrt(5)*L**2*b**2*erfc(sqrt(5)*xi*sqrt(L**2))/(375*pi*eta*(L**2)**(5/2)) + sqrt(6)*L**2*b**2*erfc(sqrt(6)*xi*sqrt(L**2))/(9*pi*eta*(L**2)**(5/2)) + 2*L**2*xi**3*exp(-L**2*xi**2)/(pi**(3/2)*eta) + 8*L**2*xi**3*exp(-2*L**2*xi**2)/(pi**(3/2)*eta) + 6*L**2*xi**3*exp(-3*L**2*xi**2)/(pi**(3/2)*eta) + 8*L**2*xi**3*exp(-4*L**2*xi**2)/(pi**(3/2)*eta) + 40*L**2*xi**3*exp(-5*L**2*xi**2)/(pi**(3/2)*eta) + 48*L**2*xi**3*exp(-6*L**2*xi**2)/(pi**(3/2)*eta) + 32*L**2*xi**3*exp(-8*L**2*xi**2)/(pi**(3/2)*eta) + 72*L**2*xi**3*exp(-9*L**2*xi**2)/(pi**(3/2)*eta) + 24*L**2*xi**3*exp(-12*L**2*xi**2)/(pi**(3/2)*eta) + 16*b**2*xi**3*exp(-L**2*xi**2)/(3*pi**(3/2)*eta) + 56*b**2*xi**3*exp(-2*L**2*xi**2)/(3*pi**(3/2)*eta) + 40*b**2*xi**3*exp(-3*L**2*xi**2)/(3*pi**(3/2)*eta) + 64*b**2*xi**3*exp(-4*L**2*xi**2)/(3*pi**(3/2)*eta) + 1472*b**2*xi**3*exp(-5*L**2*xi**2)/(15*pi**(3/2)*eta) + 112*b**2*xi**3*exp(-6*L**2*xi**2)/(pi**(3/2)*eta) + 224*b**2*xi**3*exp(-8*L**2*xi**2)/(3*pi**(3/2)*eta) + 1472*b**2*xi**3*exp(-9*L**2*xi**2)/(9*pi**(3/2)*eta) + 160*b**2*xi**3*exp(-12*L**2*xi**2)/(3*pi**(3/2)*eta) - 4*xi*exp(-L**2*xi**2)/(pi**(3/2)*eta) - 8*xi*exp(-2*L**2*xi**2)/(pi**(3/2)*eta) - 4*xi*exp(-3*L**2*xi**2)/(pi**(3/2)*eta) - 4*xi*exp(-4*L**2*xi**2)/(pi**(3/2)*eta) - 16*xi*exp(-5*L**2*xi**2)/(pi**(3/2)*eta) - 16*xi*exp(-6*L**2*xi**2)/(pi**(3/2)*eta) - 8*xi*exp(-8*L**2*xi**2)/(pi**(3/2)*eta) - 16*xi*exp(-9*L**2*xi**2)/(pi**(3/2)*eta) - 4*xi*exp(-12*L**2*xi**2)/(pi**(3/2)*eta) + 4*b**2*xi*exp(-L**2*xi**2)/(3*pi**(3/2)*L**2*eta) + 2*b**2*xi*exp(-2*L**2*xi**2)/(3*pi**(3/2)*L**2*eta) + 4*b**2*xi*exp(-4*L**2*xi**2)/(3*pi**(3/2)*L**2*eta) + 208*b**2*xi*exp(-5*L**2*xi**2)/(75*pi**(3/2)*L**2*eta) + 4*b**2*xi*exp(-6*L**2*xi**2)/(3*pi**(3/2)*L**2*eta) + 2*b**2*xi*exp(-8*L**2*xi**2)/(3*pi**(3/2)*L**2*eta) + 16*b**2*xi*exp(-9*L**2*xi**2)/(27*pi**(3/2)*L**2*eta)"
      ]
     },
     "execution_count": 19,
     "metadata": {},
     "output_type": "execute_result"
    }
   ],
   "source": [
    "%%time\n",
    "sympy.simplify(matG1s1s[0,0]) ##simplify in parallel?"
   ]
  },
  {
   "cell_type": "code",
   "execution_count": null,
   "id": "01907993-e1d2-4dbd-9593-1b46a9d43d43",
   "metadata": {},
   "outputs": [],
   "source": []
  },
  {
   "cell_type": "code",
   "execution_count": null,
   "id": "20733950-5a06-4520-a245-c1c5f73ac8ea",
   "metadata": {},
   "outputs": [],
   "source": []
  },
  {
   "cell_type": "code",
   "execution_count": null,
   "id": "420b164d-b6b8-4bf7-b9bc-be03c8ebc0ff",
   "metadata": {},
   "outputs": [],
   "source": []
  },
  {
   "cell_type": "code",
   "execution_count": null,
   "id": "475c8a14-4342-48a8-b4b9-dc99af0e6146",
   "metadata": {},
   "outputs": [],
   "source": []
  }
 ],
 "metadata": {
  "kernelspec": {
   "display_name": "Python 3 (ipykernel)",
   "language": "python",
   "name": "python3"
  },
  "language_info": {
   "codemirror_mode": {
    "name": "ipython",
    "version": 3
   },
   "file_extension": ".py",
   "mimetype": "text/x-python",
   "name": "python",
   "nbconvert_exporter": "python",
   "pygments_lexer": "ipython3",
   "version": "3.10.2"
  }
 },
 "nbformat": 4,
 "nbformat_minor": 5
}
