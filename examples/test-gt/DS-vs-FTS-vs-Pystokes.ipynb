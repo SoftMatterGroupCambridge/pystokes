{
 "cells": [
  {
   "cell_type": "code",
   "execution_count": 1,
   "id": "2cedcc98-df09-4ab7-8dbb-b96100d3281f",
   "metadata": {},
   "outputs": [],
   "source": [
    "%matplotlib inline\n",
    "from directSolve import DS\n",
    "import numpy as np, matplotlib.pyplot as plt\n",
    "import pystokes\n",
    "import matelms as me"
   ]
  },
  {
   "cell_type": "code",
   "execution_count": 25,
   "id": "d7e1a59d-e905-4b5a-a247-69674829e378",
   "metadata": {},
   "outputs": [],
   "source": [
    "# particle radius, self-propulsion speed, number and fluid viscosity\n",
    "b, Np, eta = 0.3, 2, 0.1\n",
    "ds = DS(b, Np, eta)\n",
    "\n",
    "S0, D0  = 0.0, 0.1      # strength of the stresslet (V2s) and potDipole (V3t)\n",
    "forces  = pystokes.forceFields.Forces(particles=Np)"
   ]
  },
  {
   "cell_type": "code",
   "execution_count": 26,
   "id": "ce59e9e3-6675-4033-9de5-4b7044132642",
   "metadata": {},
   "outputs": [],
   "source": [
    "def rotation(vector,alpha, beta, gamma): ## wrong matrix?\n",
    "    rotmat = np.array([[np.cos(beta)*np.cos(gamma), np.sin(alpha)*np.sin(beta)*np.cos(gamma) \n",
    "                        - np.cos(alpha)*np.sin(gamma), np.cos(alpha)*np.sin(beta)*np.cos(gamma)\n",
    "                        + np.sin(alpha)*np.sin(gamma)],\n",
    "                       [np.cos(beta)*np.sin(gamma),\n",
    "                        np.sin(alpha)*np.sin(beta)*np.sin(gamma) + np.cos(alpha)*np.cos(gamma),\n",
    "                        np.cos(alpha)*np.sin(beta)*np.sin(gamma) - np.sin(alpha)*np.cos(gamma)],\n",
    "                       [-np.sin(beta),\n",
    "                        np.sin(alpha)*np.cos(beta),\n",
    "                        np.cos(alpha)*np.cos(beta)]])\n",
    "    return np.dot(rotmat, vector)"
   ]
  },
  {
   "cell_type": "code",
   "execution_count": 27,
   "id": "15d7b326-54d7-4007-a4ba-1b2698be8747",
   "metadata": {},
   "outputs": [
    {
     "data": {
      "text/plain": [
       "array([ 0.        , -0.70710678,  0.70710678])"
      ]
     },
     "execution_count": 27,
     "metadata": {},
     "output_type": "execute_result"
    }
   ],
   "source": [
    "## test rotation matrix\n",
    "vector = np.array([0,0,1])\n",
    "rotation(vector, np.pi/4, 0, 0)"
   ]
  },
  {
   "cell_type": "code",
   "execution_count": 28,
   "id": "a4c8ccce-0661-4b1f-a99b-a826e35d87af",
   "metadata": {},
   "outputs": [
    {
     "name": "stdout",
     "output_type": "stream",
     "text": [
      "force on particle 1:  [0. 0. 0.]\n",
      "force on particle 1:  [0. 0. 0.]\n",
      "force on particle 1:  [0. 0. 0.]\n",
      "force on particle 1:  [0. 0. 0.]\n",
      "force on particle 1:  [0. 0. 0.]\n",
      "force on particle 1:  [0. 0. 0.]\n",
      "force on particle 1:  [0. 0. 0.]\n",
      "force on particle 1:  [0. 0. 0.]\n",
      "force on particle 1:  [0. 0. 0.]\n",
      "finish\n",
      "CPU times: user 878 ms, sys: 0 ns, total: 878 ms\n",
      "Wall time: 127 ms\n"
     ]
    }
   ],
   "source": [
    "%%time\n",
    "## Two active particles with orientations in positive z-direction, \n",
    "## falling next to each other under gravity: direct solver\n",
    "\n",
    "#initial position\n",
    "r = np.array([0.,1., 0.,0., 100.,100.])\n",
    "\n",
    "#initial orientation\n",
    "p = np.array([-1.,1., 0.,0., 0.,0.])\n",
    "\n",
    "# external force and torque\n",
    "F = np.array([0.,0., 0.,0., -0.,-0.])\n",
    "T = np.array([0.,0., 0.,0.,  0., 0.]) \n",
    "\n",
    "# integration parameters\n",
    "Nt=10; \n",
    "r1=np.zeros([3,Nt]); r2=np.zeros([3,Nt])\n",
    "p1=np.zeros([3,Nt]); p2=np.zeros([3,Nt])\n",
    "\n",
    "r1[:,0] = r[::Np]; r2[:,0] = r[1::Np]\n",
    "p1[:,0] = p[::Np]; p2[:,0] = p[1::Np]\n",
    "\n",
    "dt=3.;\n",
    "\n",
    "v = np.zeros(3*Np);\n",
    "o = np.zeros(3*Np)\n",
    "\n",
    "theta1=np.zeros([3,Nt]); theta2=np.zeros([3,Nt])\n",
    "\n",
    "v1 = np.zeros([3,Nt-1]); v2 = np.zeros([3,Nt-1])\n",
    "o1 = np.zeros([3,Nt-1]); o2 = np.zeros([3,Nt-1])\n",
    "\n",
    "# initial slip modes\n",
    "S = np.zeros(5*Np)\n",
    "D = np.zeros(3*Np)\n",
    "for i in range(Np):\n",
    "    ## S in order: xx, xy, xz, yy, yz\n",
    "    S[i]       = S0*(3*p[i]*p[i] -1)\n",
    "    S[i + Np]  = S0*(3*p[i]*p[i+Np])\n",
    "    S[i + 2*Np]= S0*(3*p[i]*p[i+2*Np])\n",
    "    S[i + 3*Np]= S0*(3*p[i+Np]*p[i+Np]-1)\n",
    "    S[i + 4*Np]= S0*(3*p[i+Np]*p[i+2*Np])\n",
    "    \n",
    "    D[i]       = D0*p[i]\n",
    "    D[i+Np]    = D0*p[i+Np]\n",
    "    D[i+2*Np]  = D0*p[i+2*Np]\n",
    "\n",
    "for i in range(Nt-1):\n",
    "    forces.lennardJones(F,r,lje=.6,ljr=0.3); ## good parameters?\n",
    "    print('force on particle 1: ',F[::Np])\n",
    "    ds.directSolve(v, o, r, F, T, S, D)\n",
    "    \n",
    "    #position\n",
    "    r1[:,i+1] = r1[:,i] + dt*v[::Np]\n",
    "    r2[:,i+1] = r2[:,i] + dt*v[1::Np]\n",
    "    \n",
    "    #angle (needed?)\n",
    "    theta1[:,i+1] = theta1[:,i] + dt*o[::Np]\n",
    "    theta2[:,i+1] = theta2[:,i] + dt*o[1::Np]\n",
    "    \n",
    "    #orientation\n",
    "    p1[:,i+1] = rotation(p1[:,i], theta1[0,i+1], theta1[1,i+1], theta1[2,i+1])\n",
    "    p2[:,i+1] = rotation(p2[:,i], theta2[0,i+1], theta2[1,i+1], theta2[2,i+1])\n",
    "    \n",
    "    #get velocity (constant for this case)\n",
    "    v1[:,i] = v[::Np]\n",
    "    v2[:,i] = v[1::Np]\n",
    "    \n",
    "    #get angular velocity (constant for this case)\n",
    "    o1[:,i] = o[::Np]\n",
    "    o2[:,i] = o[1::Np]\n",
    "    \n",
    "    # reset variables for next time step\n",
    "    r[::Np] = r1[:,i+1]\n",
    "    r[1::Np] = r2[:,i+1]\n",
    "    v = v*0\n",
    "    o = o*0\n",
    "    \n",
    "    # update slip for new orientation of particles\n",
    "    S[0]       = S0*(3*p1[0,i+1]*p1[0,i+1] -1)\n",
    "    S[0 + Np]  = S0*(3*p1[0,i+1]*p1[1,i+1])\n",
    "    S[0 + 2*Np]= S0*(3*p1[0,i+1]*p1[2,i+1])\n",
    "    S[0 + 3*Np]= S0*(3*p1[1,i+1]*p1[1,i+1]-1)\n",
    "    S[0 + 4*Np]= S0*(3*p1[1,i+1]*p1[2,i+1])\n",
    "    \n",
    "    S[1]       = S0*(3*p2[0,i+1]*p2[0,i+1] -1)\n",
    "    S[1 + Np]  = S0*(3*p2[0,i+1]*p2[1,i+1])\n",
    "    S[1 + 2*Np]= S0*(3*p2[0,i+1]*p2[2,i+1])\n",
    "    S[1 + 3*Np]= S0*(3*p2[1,i+1]*p2[1,i+1]-1)\n",
    "    S[1 + 4*Np]= S0*(3*p2[1,i+1]*p2[2,i+1])\n",
    "    \n",
    "    D[0]       = D0*p1[0,i+1]\n",
    "    D[0+Np]    = D0*p1[1,i+1]\n",
    "    D[0+2*Np]  = D0*p1[2,i+1]\n",
    "    \n",
    "    D[1]       = D0*p2[0,i+1]\n",
    "    D[1+Np]    = D0*p2[1,i+1]\n",
    "    D[1+2*Np]  = D0*p2[2,i+1]\n",
    "\n",
    "print('finish')"
   ]
  },
  {
   "cell_type": "code",
   "execution_count": 29,
   "id": "674e2e3e-c52f-45dd-8b4b-138338f5cff0",
   "metadata": {},
   "outputs": [
    {
     "data": {
      "text/plain": [
       "array([[-1.00000000e+00, -1.00000000e+00, -1.00000000e+00,\n",
       "        -1.00000000e+00, -1.00000000e+00, -1.00000000e+00,\n",
       "        -1.00000000e+00, -1.00000000e+00, -1.00000000e+00,\n",
       "        -1.00000000e+00],\n",
       "       [ 0.00000000e+00,  1.24505349e-15, -3.45597369e-15,\n",
       "        -1.60550860e-14, -2.79156216e-14, -4.56898837e-14,\n",
       "        -6.05326613e-14, -7.45753039e-14, -7.84702518e-14,\n",
       "        -7.75397803e-14],\n",
       "       [ 0.00000000e+00,  2.62599232e-17,  6.79245371e-17,\n",
       "         1.12558539e-16,  1.53457868e-16,  1.81902804e-16,\n",
       "         2.20207755e-16,  1.88722263e-16,  1.24949648e-16,\n",
       "         1.80743752e-16]])"
      ]
     },
     "execution_count": 29,
     "metadata": {},
     "output_type": "execute_result"
    }
   ],
   "source": [
    "p1"
   ]
  },
  {
   "cell_type": "code",
   "execution_count": 30,
   "id": "1c6dc4bb-d6bf-44ef-9eda-dd66fa2a8520",
   "metadata": {},
   "outputs": [
    {
     "data": {
      "text/plain": [
       "(array([-1.99906327e-02,  3.96744140e-17,  2.63026193e-18]),\n",
       " array([-1.28760586e-18,  8.75330774e-18, -4.15017829e-16]))"
      ]
     },
     "execution_count": 30,
     "metadata": {},
     "output_type": "execute_result"
    }
   ],
   "source": [
    "## velocity and angular velocity of particle 1\n",
    "v1[:,0], o1[:,0]"
   ]
  },
  {
   "cell_type": "code",
   "execution_count": 31,
   "id": "6ab3ae72-5604-48a5-a430-42656f9f5980",
   "metadata": {},
   "outputs": [
    {
     "data": {
      "text/plain": [
       "(array([ 1.99906327e-02,  3.96744140e-17, -2.63026193e-18]),\n",
       " array([-1.28760586e-18,  8.75330774e-18,  4.15017829e-16]))"
      ]
     },
     "execution_count": 31,
     "metadata": {},
     "output_type": "execute_result"
    }
   ],
   "source": [
    "## velocity and angular velocity of particle 2\n",
    "v2[:,0], o2[:,0]"
   ]
  },
  {
   "cell_type": "code",
   "execution_count": 32,
   "id": "65a554b9-4000-49c9-852c-52a343c503b5",
   "metadata": {},
   "outputs": [
    {
     "data": {
      "text/plain": [
       "[<matplotlib.lines.Line2D at 0x7f0423e8d7b0>,\n",
       " <matplotlib.lines.Line2D at 0x7f0423e8d810>]"
      ]
     },
     "execution_count": 32,
     "metadata": {},
     "output_type": "execute_result"
    },
    {
     "data": {
      "image/png": "[encoded data removed]",
      "text/plain": [
       "<Figure size 432x288 with 1 Axes>"
      ]
     },
     "metadata": {
      "needs_background": "light"
     },
     "output_type": "display_data"
    }
   ],
   "source": [
    "times = np.arange(0,Nt)\n",
    "plt.plot(times, r1[0,:], times, r2[0,:])"
   ]
  },
  {
   "cell_type": "code",
   "execution_count": null,
   "id": "600fad8e-211a-4cde-958b-4771480a14d5",
   "metadata": {},
   "outputs": [],
   "source": [
    "##model real squirmer \n",
    "## 3t mode behaves somewhat correctly, swims in direction of orientation\n",
    "## 2s mode is attractive when orientations opposite here"
   ]
  },
  {
   "cell_type": "code",
   "execution_count": null,
   "id": "aa873dcd-9ec9-4bc9-8fc3-17412b1418cd",
   "metadata": {},
   "outputs": [],
   "source": []
  },
  {
   "cell_type": "code",
   "execution_count": null,
   "id": "f9a18147-79c1-483e-b621-e1a2cccd1fd2",
   "metadata": {},
   "outputs": [],
   "source": []
  },
  {
   "cell_type": "code",
   "execution_count": null,
   "id": "594a472b-1169-4171-aef2-75eae2ef8fd8",
   "metadata": {},
   "outputs": [],
   "source": []
  },
  {
   "cell_type": "code",
   "execution_count": 9,
   "id": "09c84007-e0c1-4d2f-a7eb-d12175a06b93",
   "metadata": {},
   "outputs": [],
   "source": [
    "## Test whether VH and K1sH give sensible things"
   ]
  },
  {
   "cell_type": "code",
   "execution_count": 18,
   "id": "c78c2398-306c-4cdf-a5f8-11ee20dc5d9e",
   "metadata": {},
   "outputs": [
    {
     "data": {
      "text/plain": [
       "array([ 0., -0., -0.,  0.,  0.,  0.])"
      ]
     },
     "execution_count": 18,
     "metadata": {},
     "output_type": "execute_result"
    }
   ],
   "source": [
    "D"
   ]
  },
  {
   "cell_type": "code",
   "execution_count": 19,
   "id": "2712faaf-5610-465c-b930-11e98c5d3386",
   "metadata": {},
   "outputs": [
    {
     "data": {
      "text/plain": [
       "(-1.0, 1.182368943331709e-16, 0.0)"
      ]
     },
     "execution_count": 19,
     "metadata": {},
     "output_type": "execute_result"
    }
   ],
   "source": [
    "i=0; j=1\n",
    "xij = r[i]    - r[j]\n",
    "yij = r[i+Np]  - r[j+Np]\n",
    "zij = r[i+2*Np]  - r[j+2*Np]\n",
    "\n",
    "xij, yij, zij"
   ]
  },
  {
   "cell_type": "code",
   "execution_count": 23,
   "id": "93d1fe2f-54a9-4f48-91fc-1b5a437a67c1",
   "metadata": {},
   "outputs": [
    {
     "data": {
      "text/plain": [
       "array([0., 0., 0.])"
      ]
     },
     "execution_count": 23,
     "metadata": {},
     "output_type": "execute_result"
    }
   ],
   "source": [
    "## effect of particle 2 on particle one: attraction? is K1sH correct?\n",
    "VH = np.concatenate([S[::Np],D[::Np],np.zeros(14)]) \n",
    "np.dot(me.K1sH(xij,yij,zij, b,eta), VH)"
   ]
  },
  {
   "cell_type": "code",
   "execution_count": 21,
   "id": "e6ee4b74-09bc-4e9c-8140-b0c260a06b04",
   "metadata": {},
   "outputs": [
    {
     "data": {
      "text/plain": [
       "array([-0.,  0., -0., -0.,  0.,  0.,  0.,  0.,  0.,  0.,  0.])"
      ]
     },
     "execution_count": 21,
     "metadata": {},
     "output_type": "execute_result"
    }
   ],
   "source": [
    "VH[::Np]"
   ]
  },
  {
   "cell_type": "code",
   "execution_count": 97,
   "id": "3469837d-b4fa-4193-8603-294bb23f96f2",
   "metadata": {},
   "outputs": [
    {
     "data": {
      "text/plain": [
       "array([[-1.],\n",
       "       [ 0.],\n",
       "       [ 0.]])"
      ]
     },
     "execution_count": 97,
     "metadata": {},
     "output_type": "execute_result"
    }
   ],
   "source": [
    "p1 ##initial orientation vector of particle one"
   ]
  },
  {
   "cell_type": "code",
   "execution_count": 98,
   "id": "64ad8ebf-182c-4b9d-abd9-1cc59963a3e8",
   "metadata": {},
   "outputs": [
    {
     "data": {
      "text/plain": [
       "array([-0.002,  0.   ,  0.   ])"
      ]
     },
     "execution_count": 98,
     "metadata": {},
     "output_type": "execute_result"
    }
   ],
   "source": [
    "0.2*D[::Np] ## self-propulsion to the left from p1"
   ]
  },
  {
   "cell_type": "code",
   "execution_count": null,
   "id": "8d15d9ce-bf83-4655-81e9-02372ad68dd1",
   "metadata": {},
   "outputs": [],
   "source": [
    "## first check whether passive case is doing right thing..."
   ]
  },
  {
   "cell_type": "code",
   "execution_count": null,
   "id": "b03e3088-180c-487a-81c1-06c08ace4cc4",
   "metadata": {},
   "outputs": [],
   "source": []
  },
  {
   "cell_type": "code",
   "execution_count": null,
   "id": "98e0295a-8970-4b20-b10e-83613c9b16cc",
   "metadata": {},
   "outputs": [],
   "source": []
  },
  {
   "cell_type": "code",
   "execution_count": null,
   "id": "7ea8897e-5713-46ac-971e-5cd45b4e3408",
   "metadata": {},
   "outputs": [],
   "source": []
  },
  {
   "cell_type": "code",
   "execution_count": null,
   "id": "b88da378-1f45-44c0-ac37-95864743e0ee",
   "metadata": {},
   "outputs": [],
   "source": []
  }
 ],
 "metadata": {
  "kernelspec": {
   "display_name": "Python 3 (ipykernel)",
   "language": "python",
   "name": "python3"
  },
  "language_info": {
   "codemirror_mode": {
    "name": "ipython",
    "version": 3
   },
   "file_extension": ".py",
   "mimetype": "text/x-python",
   "name": "python",
   "nbconvert_exporter": "python",
   "pygments_lexer": "ipython3",
   "version": "3.10.2"
  }
 },
 "nbformat": 4,
 "nbformat_minor": 5
}
