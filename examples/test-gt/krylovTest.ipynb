{
 "cells": [
  {
   "cell_type": "code",
   "execution_count": 1,
   "id": "9b7c698b-aabe-4afd-a2b9-07efa8519614",
   "metadata": {},
   "outputs": [],
   "source": [
    "import numpy as np, matplotlib.pyplot as plt\n",
    "import matelms as me\n",
    "from krypy.linsys import LinearSystem, Gmres\n",
    "from scipy.sparse.linalg import gmres, bicgstab, LinearOperator"
   ]
  },
  {
   "cell_type": "code",
   "execution_count": 2,
   "id": "8d5bbb64-9485-4338-8e7b-b0eee407fd21",
   "metadata": {},
   "outputs": [],
   "source": [
    "PI = 3.14159265359\n",
    "b, eta = 1.0, 0.1\n",
    "xij,yij,zij = np.array([-2.0040735703833774, 0., 0.])"
   ]
  },
  {
   "cell_type": "markdown",
   "id": "708da06e-9da2-44ad-b24d-3e9a4e217fb9",
   "metadata": {},
   "source": [
    "Assemble two-body GHH and test it on a system Ax=b with b=Ae, where e is a vector of ones"
   ]
  },
  {
   "cell_type": "code",
   "execution_count": 3,
   "id": "46a58b19-89fe-48b6-86a9-04942cb84963",
   "metadata": {},
   "outputs": [],
   "source": [
    "##diagonal matrix elements\n",
    "g2s = np.full(5, 3./(20*PI*eta*b))\n",
    "g3t = np.full(3, 1./(2*PI*eta*b))\n",
    "g3a = np.full(5, 3./(2*PI*eta*b))\n",
    "g3s = np.full(7, 6./(7*PI*eta*b))\n",
    "\n",
    "GoHH = np.diag(np.block([g2s,g3t,g3a,g3s]))\n",
    "\n",
    "##construct two-body GHH, dimension 40x40\n",
    "def GHH(xij,yij,zij):\n",
    "    return np.block([[GoHH, me.GHH(xij,yij,zij, b,eta)],\n",
    "                    [me.GHH(-xij,-yij,-zij, b,eta), GoHH]])"
   ]
  },
  {
   "cell_type": "markdown",
   "id": "978474bb-9cf6-4a9b-9bc3-3ca37b25590c",
   "metadata": {},
   "source": [
    "First, test how normal solution of linear system behaves: can solve it, apart from at zero"
   ]
  },
  {
   "cell_type": "code",
   "execution_count": 4,
   "id": "a9c1cb80-2d59-487d-9c2e-cae82764051d",
   "metadata": {},
   "outputs": [
    {
     "name": "stdout",
     "output_type": "stream",
     "text": [
      "CPU times: user 46.4 s, sys: 40.5 s, total: 1min 26s\n",
      "Wall time: 11 s\n"
     ]
    }
   ],
   "source": [
    "%%time\n",
    "interval = np.arange(-2.5,6.5,0.01)\n",
    "soln  = np.zeros(interval.shape[0])\n",
    "j=0\n",
    "for i in interval:\n",
    "    rhs = np.dot(GHH(xij+i,yij,zij),np.ones(40)) \n",
    "    soln[j] = np.linalg.norm(np.linalg.solve(GHH(xij+i,yij,zij), rhs))\n",
    "    j+=1\n",
    "    \n",
    "exact_soln = np.full(interval.shape[0], np.linalg.norm(np.ones(40)))"
   ]
  },
  {
   "cell_type": "code",
   "execution_count": 5,
   "id": "1c1d464c-bc28-476f-892f-a32c5559fe94",
   "metadata": {},
   "outputs": [
    {
     "data": {
      "image/png": "[encoded data removed]",
      "text/plain": [
       "<Figure size 432x288 with 1 Axes>"
      ]
     },
     "metadata": {
      "needs_background": "light"
     },
     "output_type": "display_data"
    }
   ],
   "source": [
    "plt.plot(xij+interval, soln, label='np.linalg.solve')\n",
    "plt.plot(xij+interval, exact_soln, label='exact solution') \n",
    "plt.xlabel('xij')\n",
    "plt.ylabel('norm solution')\n",
    "plt.legend()\n",
    "plt.show()"
   ]
  },
  {
   "cell_type": "markdown",
   "id": "6c4b5e7d-406a-4ba7-bc08-5d418c303d2c",
   "metadata": {},
   "source": [
    "Test krypy - how many iterations do we need with an uninformed initial guess? 12 iterations"
   ]
  },
  {
   "cell_type": "code",
   "execution_count": 6,
   "id": "361b13ff-25d8-4d1a-8827-53655bebf5ac",
   "metadata": {},
   "outputs": [
    {
     "data": {
      "text/plain": [
       "krypy GMRES object\n",
       "    MMlr0 = [[0.51524559], ..., [2.79317807]]\n",
       "    MMlr0_norm = 18.737216881738213\n",
       "    MlAMr: 40 x 40 matrix\n",
       "    Mlr0: [[0.51524559], ..., [2.79317807]]\n",
       "    R: 41 x 40 matrix\n",
       "    V: 40 x 41 matrix\n",
       "    flat_vecs: True\n",
       "    store_arnoldi: False\n",
       "    ortho: mgs\n",
       "    tol: 1e-05\n",
       "    maxiter: 40\n",
       "    iter: 11\n",
       "    explicit residual: False\n",
       "    resnorms: [1.0, ..., 8.87369759586257e-06]\n",
       "    x0: [[0.], ..., [0.]]\n",
       "    xk: [[1.00003162], ..., [1.00000246]]"
      ]
     },
     "execution_count": 6,
     "metadata": {},
     "output_type": "execute_result"
    }
   ],
   "source": [
    "A = GHH(xij,yij,zij)\n",
    "rhs = np.dot(GHH(xij,yij,zij),np.ones(40)) \n",
    "\n",
    "\n",
    "linear_system = LinearSystem(A, rhs)\n",
    "solver = Gmres(linear_system, maxiter=None, tol=1e-5)\n",
    "solver"
   ]
  },
  {
   "cell_type": "markdown",
   "id": "ee213aa4-200d-421c-84a0-c83d21f885d3",
   "metadata": {},
   "source": [
    "With no max iter and restarts (gmres) given, which is quicker: GMRES or BiCGSTAB? (scipy, because easier to use and A(x) can be a linear operator)"
   ]
  },
  {
   "cell_type": "code",
   "execution_count": 7,
   "id": "7502ea38-c593-4963-bfa2-a9ccad263e88",
   "metadata": {},
   "outputs": [],
   "source": [
    "sol = np.linalg.norm(bicgstab(GHH(xij+i,yij,zij), rhs, x0=None, maxiter=None)[0])"
   ]
  },
  {
   "cell_type": "code",
   "execution_count": 8,
   "id": "a41fc2e7-2cfa-4a5c-9aba-d59e8884d592",
   "metadata": {},
   "outputs": [
    {
     "name": "stdout",
     "output_type": "stream",
     "text": [
      "CPU times: user 5.57 s, sys: 2.4 ms, total: 5.57 s\n",
      "Wall time: 5.57 s\n"
     ]
    }
   ],
   "source": [
    "%%time\n",
    "interval = np.arange(-2.5,6.5,0.01)\n",
    "soln  = np.zeros(interval.shape[0])\n",
    "j=0\n",
    "for i in interval:\n",
    "    rhs = np.dot(GHH(xij+i,yij,zij),np.ones(40)) \n",
    "    soln[j] = np.linalg.norm(bicgstab(GHH(xij+i,yij,zij), rhs, x0=None, maxiter=None)[0])\n",
    "    j+=1"
   ]
  },
  {
   "cell_type": "code",
   "execution_count": 9,
   "id": "40aeda55-6ce7-4770-8e5e-5ccec957ee1d",
   "metadata": {},
   "outputs": [
    {
     "name": "stdout",
     "output_type": "stream",
     "text": [
      "CPU times: user 10.7 s, sys: 9.71 ms, total: 10.7 s\n",
      "Wall time: 10.7 s\n"
     ]
    }
   ],
   "source": [
    "%%time\n",
    "interval = np.arange(-2.5,6.5,0.01)\n",
    "soln_gmres  = np.zeros(interval.shape[0])\n",
    "j=0\n",
    "for i in interval:\n",
    "    rhs = np.dot(GHH(xij+i,yij,zij),np.ones(40)) \n",
    "    soln_gmres[j] = np.linalg.norm(gmres(GHH(xij+i,yij,zij), rhs, x0=None, maxiter=None)[0])\n",
    "    j+=1"
   ]
  },
  {
   "cell_type": "code",
   "execution_count": 10,
   "id": "757416e7-bf23-486f-98f6-3e0eaccbfeec",
   "metadata": {},
   "outputs": [
    {
     "data": {
      "image/png": "[encoded data removed]",
      "text/plain": [
       "<Figure size 432x288 with 1 Axes>"
      ]
     },
     "metadata": {
      "needs_background": "light"
     },
     "output_type": "display_data"
    }
   ],
   "source": [
    "plt.plot(xij+interval, soln, label='bicstab')\n",
    "plt.plot(xij+interval, soln_gmres, label='gmres')\n",
    "plt.plot(xij+interval, exact_soln, label='exact solution') \n",
    "plt.xlabel('xij')\n",
    "plt.ylabel('norm solution')\n",
    "plt.legend()\n",
    "plt.show()"
   ]
  },
  {
   "cell_type": "markdown",
   "id": "54e67cfe-48d6-4e3f-b74d-37833eea3903",
   "metadata": {},
   "source": [
    "For speed, use BiCSTAB. Check its convergence with number of iterations"
   ]
  },
  {
   "cell_type": "code",
   "execution_count": 11,
   "id": "0159174b-3737-40ff-9003-85baeb3bb3ac",
   "metadata": {},
   "outputs": [],
   "source": [
    "iterations = np.arange(0,20)\n",
    "rres = np.zeros(iterations.shape[0]) ##relative residuals\n",
    "\n",
    "rhs = np.dot(GHH(xij,yij,zij),np.ones(40)) \n",
    "\n",
    "for i in iterations:\n",
    "    sol = bicgstab(GHH(xij,yij,zij), rhs, maxiter=i+1)[0]\n",
    "    rres[i] = np.linalg.norm((rhs-np.dot(GHH(xij,yij,zij), sol)))/np.linalg.norm(rhs)"
   ]
  },
  {
   "cell_type": "code",
   "execution_count": 12,
   "id": "c8c8b3e8-4545-4593-8c79-5d36c7d01b48",
   "metadata": {},
   "outputs": [
    {
     "data": {
      "image/png": "[encoded data removed]",
      "text/plain": [
       "<Figure size 432x288 with 1 Axes>"
      ]
     },
     "metadata": {
      "needs_background": "light"
     },
     "output_type": "display_data"
    }
   ],
   "source": [
    "plt.plot(iterations+1, rres, 'o') #plot relative residual\n",
    "plt.ylabel('norm relative residual')\n",
    "plt.xlabel('iterations')\n",
    "plt.xticks((1, 5, 10, 15, 20))\n",
    "plt.show()"
   ]
  },
  {
   "cell_type": "markdown",
   "id": "6467f908-0edd-484b-af66-7d06ded0d984",
   "metadata": {},
   "source": [
    "Use Ax as linear operator for krylov solver"
   ]
  },
  {
   "cell_type": "code",
   "execution_count": 13,
   "id": "a1d7335d-31ed-486e-bd51-77da4a448773",
   "metadata": {},
   "outputs": [],
   "source": [
    "def GHHFH(FH):\n",
    "    return np.dot(GHH(xij,yij,zij), FH)"
   ]
  },
  {
   "cell_type": "code",
   "execution_count": 14,
   "id": "cf264249-fa3f-470e-b20c-2fe2fbb8d9d5",
   "metadata": {},
   "outputs": [],
   "source": [
    "rhs = np.dot(GHH(xij,yij,zij),np.ones(40)) \n",
    "Ax = LinearOperator((40,40),matvec=GHHFH) ##Ax as linear operator\n",
    "\n",
    "soln, exitCode = bicgstab(Ax, rhs)"
   ]
  },
  {
   "cell_type": "code",
   "execution_count": 15,
   "id": "73dd40e0-5ae8-4646-bdba-0cdb90bb9319",
   "metadata": {},
   "outputs": [
    {
     "data": {
      "text/plain": [
       "0.0001236704324422268"
      ]
     },
     "execution_count": 15,
     "metadata": {},
     "output_type": "execute_result"
    }
   ],
   "source": [
    "np.linalg.norm(soln - np.ones(40))"
   ]
  },
  {
   "cell_type": "markdown",
   "id": "f4a47f1b-4db4-41ea-8ac0-cb1ac69c15ab",
   "metadata": {},
   "source": [
    "With informed starting point: How does the number of needed iterations and the result behave?"
   ]
  },
  {
   "cell_type": "code",
   "execution_count": 16,
   "id": "cea610ed-d454-4cb3-8ab1-1b8336e030c0",
   "metadata": {},
   "outputs": [],
   "source": [
    "sol0 = np.diag(GHH(xij,yij,zij)) ##element-wise"
   ]
  },
  {
   "cell_type": "code",
   "execution_count": 17,
   "id": "37006aae-5c49-4851-9d99-609994bb4e44",
   "metadata": {},
   "outputs": [],
   "source": [
    "iterations = np.arange(0,10)\n",
    "rres_init = np.zeros(iterations.shape[0]) ##relative residuals of informed iteration\n",
    "\n",
    "rhs = np.dot(GHH(xij,yij,zij),np.ones(40)) \n",
    "\n",
    "for i in iterations:\n",
    "    sol = bicgstab(GHH(xij,yij,zij), rhs, maxiter=i+1, x0=sol0)[0]\n",
    "    rres_init[i] = np.linalg.norm((rhs-np.dot(GHH(xij,yij,zij), sol)))/np.linalg.norm(rhs)"
   ]
  },
  {
   "cell_type": "code",
   "execution_count": 18,
   "id": "247b228d-eece-44b8-a3c6-37393e21f784",
   "metadata": {},
   "outputs": [
    {
     "data": {
      "image/png": "[encoded data removed]",
      "text/plain": [
       "<Figure size 432x288 with 1 Axes>"
      ]
     },
     "metadata": {
      "needs_background": "light"
     },
     "output_type": "display_data"
    }
   ],
   "source": [
    "plt.plot(iterations+1, rres[:10], 'o', label='not informed') #plot relative residual\n",
    "plt.plot(iterations+1, rres_init, 'o', label='informed')\n",
    "plt.ylabel('norm relative residual')\n",
    "plt.xlabel('iterations')\n",
    "plt.xticks((1, 3, 7, 10))\n",
    "plt.legend()\n",
    "plt.show()"
   ]
  },
  {
   "cell_type": "markdown",
   "id": "5f302838-6944-41c2-8f9f-82944539b32e",
   "metadata": {},
   "source": [
    "Time and quality of solutions with and without informed starting point: equally fast and does not seem to change behaviour much."
   ]
  },
  {
   "cell_type": "code",
   "execution_count": 19,
   "id": "c2559273-ec9c-4179-aa52-9000e459955d",
   "metadata": {},
   "outputs": [
    {
     "name": "stdout",
     "output_type": "stream",
     "text": [
      "CPU times: user 5.72 s, sys: 9.23 ms, total: 5.73 s\n",
      "Wall time: 5.73 s\n"
     ]
    }
   ],
   "source": [
    "%%time\n",
    "interval = np.arange(-2.5,6.5,0.01)\n",
    "soln  = np.zeros(interval.shape[0])\n",
    "j=0\n",
    "for i in interval:\n",
    "    rhs = np.dot(GHH(xij+i,yij,zij),np.ones(40)) \n",
    "    soln[j] = np.linalg.norm(bicgstab(GHH(xij+i,yij,zij), rhs, x0=None, maxiter=None)[0])\n",
    "    j+=1"
   ]
  },
  {
   "cell_type": "code",
   "execution_count": 20,
   "id": "f6ae7895-9cac-447c-a6d1-3be330861c82",
   "metadata": {},
   "outputs": [
    {
     "name": "stdout",
     "output_type": "stream",
     "text": [
      "CPU times: user 5.59 s, sys: 16.9 ms, total: 5.61 s\n",
      "Wall time: 5.6 s\n"
     ]
    }
   ],
   "source": [
    "%%time\n",
    "interval = np.arange(-2.5,6.5,0.01)\n",
    "soln_init  = np.zeros(interval.shape[0])\n",
    "j=0\n",
    "for i in interval:\n",
    "    rhs = np.dot(GHH(xij+i,yij,zij),np.ones(40)) \n",
    "    soln_init[j] = np.linalg.norm(bicgstab(GHH(xij+i,yij,zij), rhs, x0=sol0, maxiter=None)[0])\n",
    "    j+=1"
   ]
  },
  {
   "cell_type": "code",
   "execution_count": 21,
   "id": "d359b77f-928b-4a26-ac32-c331be774dbb",
   "metadata": {},
   "outputs": [
    {
     "data": {
      "image/png": "[encoded data removed]",
      "text/plain": [
       "<Figure size 432x288 with 1 Axes>"
      ]
     },
     "metadata": {
      "needs_background": "light"
     },
     "output_type": "display_data"
    }
   ],
   "source": [
    "plt.plot(xij+interval, soln, label='uninformed')\n",
    "plt.plot(xij+interval, soln_init, label='informed')\n",
    "plt.plot(xij+interval, exact_soln, label='exact solution') \n",
    "plt.xlabel('xij')\n",
    "plt.ylabel('norm solution')\n",
    "plt.legend()\n",
    "plt.show()"
   ]
  },
  {
   "cell_type": "markdown",
   "id": "9aee3eaa-09ba-491c-87b8-48818f76f09b",
   "metadata": {},
   "source": [
    "To Do:\n",
    "    \n",
    "    - Make sure to understand implementation\n",
    "    - Re-implement the Mathematica code in a functional form\n",
    "    - Implement the linear solver"
   ]
  },
  {
   "cell_type": "code",
   "execution_count": null,
   "id": "463094b6-fcf2-4a26-8862-fd1b0d5217b7",
   "metadata": {},
   "outputs": [],
   "source": []
  },
  {
   "cell_type": "code",
   "execution_count": null,
   "id": "77449269-43a0-4605-b7d6-4f5d15870a83",
   "metadata": {},
   "outputs": [],
   "source": []
  },
  {
   "cell_type": "code",
   "execution_count": null,
   "id": "cc1e5c36-89c3-4a71-8220-d6147efce429",
   "metadata": {},
   "outputs": [],
   "source": []
  },
  {
   "cell_type": "code",
   "execution_count": null,
   "id": "9703af8f-b484-491f-afb2-ee063a93e5bf",
   "metadata": {},
   "outputs": [],
   "source": []
  },
  {
   "cell_type": "code",
   "execution_count": null,
   "id": "998be6ce-4aa3-4f60-ba96-efff129939e4",
   "metadata": {},
   "outputs": [],
   "source": []
  },
  {
   "cell_type": "code",
   "execution_count": null,
   "id": "1282fdeb-8835-488f-9cac-75e6c4543bd6",
   "metadata": {},
   "outputs": [],
   "source": []
  }
 ],
 "metadata": {
  "kernelspec": {
   "display_name": "Python 3 (ipykernel)",
   "language": "python",
   "name": "python3"
  },
  "language_info": {
   "codemirror_mode": {
    "name": "ipython",
    "version": 3
   },
   "file_extension": ".py",
   "mimetype": "text/x-python",
   "name": "python",
   "nbconvert_exporter": "python",
   "pygments_lexer": "ipython3",
   "version": "3.10.2"
  }
 },
 "nbformat": 4,
 "nbformat_minor": 5
}
