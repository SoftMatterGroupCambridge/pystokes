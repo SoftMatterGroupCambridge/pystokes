{
 "cells": [
  {
   "cell_type": "code",
   "execution_count": 1,
   "id": "9b7c698b-aabe-4afd-a2b9-07efa8519614",
   "metadata": {},
   "outputs": [],
   "source": [
    "import numpy as np, matplotlib.pyplot as plt\n",
    "import matelms as me\n",
    "from krypy.linsys import LinearSystem, Gmres"
   ]
  },
  {
   "cell_type": "code",
   "execution_count": 2,
   "id": "8d5bbb64-9485-4338-8e7b-b0eee407fd21",
   "metadata": {},
   "outputs": [],
   "source": [
    "b, eta = 1.0, 0.1\n",
    "xij,yij,zij = np.array([-2.0040735703833774, 0., 0.])"
   ]
  },
  {
   "cell_type": "code",
   "execution_count": 3,
   "id": "1fe43f86-f6df-4b33-aaf3-8993e8afa41f",
   "metadata": {},
   "outputs": [],
   "source": [
    "bla = np.arange(-2.5,6.5,0.01)\n",
    "G   = np.zeros(bla.shape[0])\n",
    "j=0\n",
    "for i in bla:\n",
    "    G[j]=np.linalg.norm(me.hatGHH(xij+i,yij,zij, b,eta))\n",
    "    j+=1"
   ]
  },
  {
   "cell_type": "code",
   "execution_count": 4,
   "id": "19fd951a-e9ec-40e3-a6fc-91f6e0eb6f1a",
   "metadata": {},
   "outputs": [
    {
     "data": {
      "image/png": "[encoded data removed]",
      "text/plain": [
       "<Figure size 432x288 with 1 Axes>"
      ]
     },
     "metadata": {
      "needs_background": "light"
     },
     "output_type": "display_data"
    }
   ],
   "source": [
    "plt.semilogy(xij+bla, G)\n",
    "plt.xlabel('xij')\n",
    "plt.ylabel('norm hatGHH')\n",
    "plt.show()"
   ]
  },
  {
   "cell_type": "code",
   "execution_count": 5,
   "id": "dd809646-41a6-4aba-b174-0a6bb53e7f5c",
   "metadata": {},
   "outputs": [],
   "source": [
    "A = me.hatGHH(xij,yij,zij, b,eta)\n",
    "rhs = np.array([-3.61793170e-02,  2.59142196e-02,  1.77068227e-11,  6.54652400e-02,\n",
    "        4.70402394e-11, -3.23106866e-12,  3.83713453e-12, -6.67357620e-03,\n",
    "        3.47068296e-12, -6.33144584e-03, -2.04419091e-02, -1.23737976e-02,\n",
    "        5.45695828e-12,  7.06117263e-03,  3.50955094e-12,  1.03926109e-02,\n",
    "       -5.40151097e-13])"
   ]
  },
  {
   "cell_type": "code",
   "execution_count": 6,
   "id": "e13d222e-af4a-44b4-bbe7-b72fb0f93fb6",
   "metadata": {},
   "outputs": [],
   "source": [
    "bla = np.arange(-2.5,6.5,0.01)\n",
    "FH  = np.zeros(bla.shape[0])\n",
    "j=0\n",
    "for i in bla:\n",
    "    invGHH = np.linalg.pinv(me.hatGHH(xij+i,yij,zij, b,eta), rcond=1e-5)\n",
    "    FH[j]=np.linalg.norm(np.dot(invGHH, rhs))\n",
    "    j+=1"
   ]
  },
  {
   "cell_type": "code",
   "execution_count": 7,
   "id": "f3e1a156-bb53-4c38-8b56-a17363d6d243",
   "metadata": {},
   "outputs": [
    {
     "data": {
      "image/png": "[encoded data removed]",
      "text/plain": [
       "<Figure size 432x288 with 1 Axes>"
      ]
     },
     "metadata": {
      "needs_background": "light"
     },
     "output_type": "display_data"
    }
   ],
   "source": [
    "plt.semilogy(xij+bla, FH)\n",
    "plt.xlabel('xij')\n",
    "plt.ylabel('norm FH')\n",
    "plt.show()"
   ]
  },
  {
   "cell_type": "code",
   "execution_count": 8,
   "id": "f62cbef9-ac33-4d6e-9b54-7fe67d8e209b",
   "metadata": {},
   "outputs": [
    {
     "data": {
      "text/plain": [
       "array([ 2.74603905e+00,  1.19484324e+00,  5.65198015e-10,  4.34042793e+00,\n",
       "        6.56526274e-09, -2.33534737e-10, -3.11904800e-10,  8.18389505e-01,\n",
       "       -4.83476670e-10, -3.60643522e-02,  7.77534082e-01,  1.79976617e+00,\n",
       "        4.88528694e-10,  2.67542801e+00,  3.76886275e-09,  2.35096280e+00,\n",
       "        1.65532330e-09])"
      ]
     },
     "execution_count": 8,
     "metadata": {},
     "output_type": "execute_result"
    }
   ],
   "source": [
    "np.linalg.solve(me.hatGHH(xij,yij,zij, b,eta), rhs)"
   ]
  },
  {
   "cell_type": "code",
   "execution_count": 9,
   "id": "b5de9d51-5f88-470a-a805-04cf0c365311",
   "metadata": {},
   "outputs": [],
   "source": [
    "VH = np.array([ 4.21309891e-02,  5.38249051e-02,  2.29117550e-11, -1.02130989e-01,\n",
    "       -6.90146223e-11,  0.00000000e+00,  0.00000000e+00,  0.00000000e+00,\n",
    "        0.00000000e+00,  0.00000000e+00,  0.00000000e+00,  0.00000000e+00,\n",
    "        0.00000000e+00,  0.00000000e+00,  0.00000000e+00,  0.00000000e+00,\n",
    "        0.00000000e+00])"
   ]
  },
  {
   "cell_type": "code",
   "execution_count": 10,
   "id": "0c019745-6520-4df7-9d70-776d6423a32f",
   "metadata": {},
   "outputs": [],
   "source": [
    "## zeroth order guess for FH from VH on same particle\n",
    "PI = 3.14159265359\n",
    "\n",
    "g2s = np.full(5, 4*PI*eta*b)\n",
    "#g3t = np.full(3, 0.8*PI*eta*b)\n",
    "gH  = np.diag(np.block([g2s,np.zeros(12)]))\n",
    "\n",
    "FH0 = np.dot(-gH,VH)\n",
    "\n"
   ]
  },
  {
   "cell_type": "code",
   "execution_count": 11,
   "id": "648604db-5ed8-4e3d-bce4-a7328513758a",
   "metadata": {},
   "outputs": [
    {
     "data": {
      "text/plain": [
       "array([-5.29433623e-02, -6.76383706e-02, -2.87917605e-11,  1.28341586e-01,\n",
       "        8.67263322e-11,  0.00000000e+00,  0.00000000e+00,  0.00000000e+00,\n",
       "        0.00000000e+00,  0.00000000e+00,  0.00000000e+00,  0.00000000e+00,\n",
       "        0.00000000e+00,  0.00000000e+00,  0.00000000e+00,  0.00000000e+00,\n",
       "        0.00000000e+00])"
      ]
     },
     "execution_count": 11,
     "metadata": {},
     "output_type": "execute_result"
    }
   ],
   "source": [
    "FH0"
   ]
  },
  {
   "cell_type": "code",
   "execution_count": 12,
   "id": "33314336-7d05-4be3-b9e6-bc9be8686132",
   "metadata": {},
   "outputs": [],
   "source": [
    "linear_system = LinearSystem(A, rhs)\n",
    "solver = Gmres(linear_system, maxiter=None, tol=1e-5, x0=FH0)"
   ]
  },
  {
   "cell_type": "code",
   "execution_count": 13,
   "id": "3d94c9ba-19f6-480b-a87b-01f4870bff2d",
   "metadata": {},
   "outputs": [
    {
     "data": {
      "text/plain": [
       "krypy GMRES object\n",
       "    MMlr0 = [[-0.04549868], ..., [-5.40151097e-13]]\n",
       "    MMlr0_norm = 0.09331955688083769\n",
       "    MlAMr: 17 x 17 matrix\n",
       "    Mlr0: [[-0.04549868], ..., [-5.40151097e-13]]\n",
       "    R: 18 x 17 matrix\n",
       "    V: 17 x 18 matrix\n",
       "    flat_vecs: True\n",
       "    store_arnoldi: False\n",
       "    ortho: mgs\n",
       "    tol: 1e-05\n",
       "    maxiter: 17\n",
       "    iter: 9\n",
       "    explicit residual: False\n",
       "    resnorms: [1.1090891563249858, ..., 5.702010103535793e-06]\n",
       "    x0: [[-0.05294336], ..., [0.]]\n",
       "    xk: [[2.74603905], ..., [-2.06057921e-07]]"
      ]
     },
     "execution_count": 13,
     "metadata": {},
     "output_type": "execute_result"
    }
   ],
   "source": [
    "solver"
   ]
  },
  {
   "cell_type": "code",
   "execution_count": 14,
   "id": "b047952b-7a54-4f63-a577-344f258fa752",
   "metadata": {},
   "outputs": [
    {
     "data": {
      "text/plain": [
       "[1.1090891563249858,\n",
       " 1.1051260142588044,\n",
       " 0.8991212712933273,\n",
       " 0.8480614081740967,\n",
       " 0.8130339600130604,\n",
       " 0.8128315286895992,\n",
       " 0.7743668516673894,\n",
       " 0.3292321507191613,\n",
       " 0.030270751815754286,\n",
       " 0.008446996586743378,\n",
       " 5.702010103535793e-06]"
      ]
     },
     "execution_count": 14,
     "metadata": {},
     "output_type": "execute_result"
    }
   ],
   "source": [
    "solver.resnorms ##with FH0 guess"
   ]
  },
  {
   "cell_type": "code",
   "execution_count": null,
   "id": "bd0fa884-d195-4957-a00f-c61ee285381a",
   "metadata": {},
   "outputs": [],
   "source": []
  },
  {
   "cell_type": "code",
   "execution_count": 15,
   "id": "1bd8113d-2a84-479a-b092-0d8d37d88fc2",
   "metadata": {},
   "outputs": [],
   "source": [
    "bla = np.arange(-2.5,6.5,0.01)\n",
    "FH  = np.zeros(bla.shape[0])\n",
    "solverList=[]\n",
    "linearList=[]\n",
    "\n",
    "j=0\n",
    "for i in bla:\n",
    "    linearList.append(LinearSystem(me.hatGHH(xij+i,yij,zij, b,eta), rhs))\n",
    "    solverList.append(Gmres(linearList[j], tol=1e-5,maxiter=None))\n",
    "    FH[j] = np.linalg.norm(solverList[j].xk)\n",
    "    j+=1"
   ]
  },
  {
   "cell_type": "code",
   "execution_count": 16,
   "id": "4fc2624a-a796-45db-a58a-9c6f6466fd21",
   "metadata": {},
   "outputs": [
    {
     "data": {
      "image/png": "[encoded data removed]",
      "text/plain": [
       "<Figure size 432x288 with 1 Axes>"
      ]
     },
     "metadata": {
      "needs_background": "light"
     },
     "output_type": "display_data"
    }
   ],
   "source": [
    "plt.semilogy(xij+bla, FH)\n",
    "plt.xlabel('xij')\n",
    "plt.ylabel('norm FH')\n",
    "plt.show()"
   ]
  },
  {
   "cell_type": "code",
   "execution_count": 17,
   "id": "865355b7-423f-49df-8d0e-cd05103739cf",
   "metadata": {},
   "outputs": [],
   "source": [
    "from scipy.sparse.linalg import gmres, bicgstab"
   ]
  },
  {
   "cell_type": "code",
   "execution_count": 18,
   "id": "63f277f3-f114-4705-a4f9-f119fd7730d5",
   "metadata": {},
   "outputs": [],
   "source": [
    "bla = np.arange(-2.5,6.5,0.01)\n",
    "FH  = np.zeros(bla.shape[0])\n",
    "solverList=[]\n",
    "linearList=[]\n",
    "\n",
    "j=0\n",
    "for i in bla:\n",
    "    sol = gmres(me.hatGHH(xij+i,yij,zij, b,eta), rhs, x0=None,\n",
    "                restart=10, maxiter=10)\n",
    "    FH[j] = np.linalg.norm(sol[0])\n",
    "    j+=1"
   ]
  },
  {
   "cell_type": "code",
   "execution_count": 19,
   "id": "7114a94d-438c-4e76-ae78-aa73864f1cba",
   "metadata": {},
   "outputs": [
    {
     "data": {
      "image/png": "[encoded data removed]",
      "text/plain": [
       "<Figure size 432x288 with 1 Axes>"
      ]
     },
     "metadata": {
      "needs_background": "light"
     },
     "output_type": "display_data"
    }
   ],
   "source": [
    "plt.semilogy(xij+bla, FH)\n",
    "plt.xlabel('xij')\n",
    "plt.ylabel('norm FH')\n",
    "plt.show()"
   ]
  },
  {
   "cell_type": "code",
   "execution_count": 20,
   "id": "6c16adfa-15b7-430f-b384-12385522d87e",
   "metadata": {},
   "outputs": [
    {
     "data": {
      "text/plain": [
       "array([-5.81626410e+00, -9.74568164e+00, -6.13475107e-09, -1.28772832e+01,\n",
       "       -5.76214038e-09,  1.63836981e-07,  1.01740295e-09, -5.73298269e+00,\n",
       "       -8.68601434e-08, -9.27997235e+00, -1.72212856e+00,  3.14694861e+00,\n",
       "       -1.93927728e-09, -1.36981595e+00,  1.19455084e-08, -3.73341754e-02,\n",
       "        5.69574950e-10])"
      ]
     },
     "execution_count": 20,
     "metadata": {},
     "output_type": "execute_result"
    }
   ],
   "source": [
    "sol = bicgstab(A, rhs, x0=None,  maxiter=3)\n",
    "sol[0]"
   ]
  },
  {
   "cell_type": "code",
   "execution_count": 29,
   "id": "07955d6b-eaa8-4939-ae00-639eeebb8cf2",
   "metadata": {},
   "outputs": [],
   "source": [
    "bla = np.arange(-2.5,6.5,0.01)\n",
    "FH  = np.zeros(bla.shape[0])\n",
    "solverList=[]\n",
    "linearList=[]\n",
    "\n",
    "j=0\n",
    "for i in bla:\n",
    "    sol = bicgstab(me.hatGHH(xij+i,yij,zij, b,eta), rhs, maxiter=12)\n",
    "    FH[j] = np.linalg.norm(sol[0])\n",
    "    j+=1"
   ]
  },
  {
   "cell_type": "code",
   "execution_count": 30,
   "id": "8faae007-12f0-417a-9e04-fd2993e5e77d",
   "metadata": {},
   "outputs": [
    {
     "data": {
      "image/png": "[encoded data removed]",
      "text/plain": [
       "<Figure size 432x288 with 1 Axes>"
      ]
     },
     "metadata": {
      "needs_background": "light"
     },
     "output_type": "display_data"
    }
   ],
   "source": [
    "plt.semilogy(xij+bla, FH)\n",
    "plt.xlabel('xij')\n",
    "plt.ylabel('norm FH')\n",
    "plt.show()"
   ]
  },
  {
   "cell_type": "code",
   "execution_count": 31,
   "id": "8d45d4ab-626e-407e-b9fd-816e23d6c0d3",
   "metadata": {},
   "outputs": [
    {
     "data": {
      "text/plain": [
       "array([-2.51407357])"
      ]
     },
     "execution_count": 31,
     "metadata": {},
     "output_type": "execute_result"
    }
   ],
   "source": [
    "minIndex = np.where(FH[:]==np.amax(FH[:]))\n",
    "xij+bla[minIndex]"
   ]
  },
  {
   "cell_type": "code",
   "execution_count": null,
   "id": "8edf0d9a-8a85-4bae-b26d-8aa1cf689f6b",
   "metadata": {},
   "outputs": [],
   "source": []
  },
  {
   "cell_type": "code",
   "execution_count": null,
   "id": "889bfeef-c645-44ed-9da8-f2c364132ef2",
   "metadata": {},
   "outputs": [],
   "source": []
  },
  {
   "cell_type": "code",
   "execution_count": null,
   "id": "cadd1224-e223-413e-b0b4-0bf0ae3802a7",
   "metadata": {},
   "outputs": [],
   "source": []
  },
  {
   "cell_type": "code",
   "execution_count": 24,
   "id": "767cb2bd-23f9-4184-a084-f41e5f437d6f",
   "metadata": {},
   "outputs": [],
   "source": [
    "FH_real = np.linalg.solve(me.hatGHH(xij,yij,zij, b,eta), rhs)\n",
    "normFH = np.linalg.norm(FH_real)"
   ]
  },
  {
   "cell_type": "code",
   "execution_count": 27,
   "id": "ce2714ef-1c39-443c-859a-8660db14cf02",
   "metadata": {},
   "outputs": [],
   "source": [
    "iterations = np.arange(0,20)\n",
    "normList = []\n",
    "resList = []\n",
    "\n",
    "j=0\n",
    "for i in iterations:\n",
    "    sol = bicgstab(me.hatGHH(xij,yij,zij, b,eta), rhs, maxiter=i+1)\n",
    "    normList.append(np.linalg.norm(sol[0]))\n",
    "    resList.append(np.linalg.norm((rhs-np.dot(me.hatGHH(xij,yij,zij, b,eta), sol[0]))))\n",
    "    j+=1"
   ]
  },
  {
   "cell_type": "code",
   "execution_count": 28,
   "id": "91178294-01df-4216-beb4-6679894169f7",
   "metadata": {},
   "outputs": [
    {
     "data": {
      "image/png": "[encoded data removed]",
      "text/plain": [
       "<Figure size 432x288 with 1 Axes>"
      ]
     },
     "metadata": {
      "needs_background": "light"
     },
     "output_type": "display_data"
    }
   ],
   "source": [
    "plt.semilogy(iterations+1, resList/np.linalg.norm(rhs), 'o')\n",
    "plt.ylabel('norm relative residual')\n",
    "plt.xlabel('iterations')\n",
    "plt.xticks((1, 5, 10, 15, 20))\n",
    "plt.show()"
   ]
  },
  {
   "cell_type": "code",
   "execution_count": null,
   "id": "1c5b8fac-b4c4-43e7-b900-f955daa15a3c",
   "metadata": {},
   "outputs": [],
   "source": []
  },
  {
   "cell_type": "code",
   "execution_count": 37,
   "id": "73c4c3d5-5acd-4f4b-a0a4-ea1f0033c71e",
   "metadata": {},
   "outputs": [],
   "source": [
    "def dd(X):\n",
    "    D = np.diag(np.abs(X)) # Find diagonal coefficients\n",
    "    S = np.sum(np.abs(X), axis=1) - D # Find row sum without diagonal\n",
    "    if np.all(D > S):\n",
    "        print('matrix is diagonally dominant')\n",
    "    else:\n",
    "        print('NOT diagonally dominant')\n",
    "    return\n"
   ]
  },
  {
   "cell_type": "code",
   "execution_count": 39,
   "id": "31a186ee-677b-4705-94d6-fe0a2b186079",
   "metadata": {},
   "outputs": [
    {
     "data": {
      "text/plain": [
       "array([0.07957501, 0.01507088, 0.01507088, 0.00512401, 0.01476975,\n",
       "       0.39385994, 0.19692997, 0.19692997, 0.14769748, 0.04923249,\n",
       "       0.35423133, 0.11147234, 0.11147234, 0.03437176, 0.01145725,\n",
       "       0.01238394, 0.00247679])"
      ]
     },
     "execution_count": 39,
     "metadata": {},
     "output_type": "execute_result"
    }
   ],
   "source": [
    "np.diag(np.abs(A))"
   ]
  },
  {
   "cell_type": "code",
   "execution_count": 41,
   "id": "b767cd1e-f411-436a-9bc6-bc69377d4f3e",
   "metadata": {},
   "outputs": [
    {
     "data": {
      "text/plain": [
       "array([0.2527592 , 0.12423349, 0.12162672, 0.15579887, 0.05625151,\n",
       "       0.19692997, 0.45570139, 0.57878262, 0.39401036, 0.19708039,\n",
       "       0.17711567, 0.16565841, 0.1427439 , 0.16070484, 0.08205416,\n",
       "       0.13283675, 0.04427892])"
      ]
     },
     "execution_count": 41,
     "metadata": {},
     "output_type": "execute_result"
    }
   ],
   "source": [
    "np.sum(np.abs(A),axis=1) - np.diag(np.abs(A))"
   ]
  },
  {
   "cell_type": "code",
   "execution_count": 43,
   "id": "24be838f-2671-4246-a24f-cab44719dc91",
   "metadata": {},
   "outputs": [
    {
     "data": {
      "text/plain": [
       "array([0.79577472, 0.79577472, 0.79577472, 0.79577472, 0.79577472])"
      ]
     },
     "execution_count": 43,
     "metadata": {},
     "output_type": "execute_result"
    }
   ],
   "source": [
    "1/g2s"
   ]
  },
  {
   "cell_type": "code",
   "execution_count": null,
   "id": "998be6ce-4aa3-4f60-ba96-efff129939e4",
   "metadata": {},
   "outputs": [],
   "source": []
  },
  {
   "cell_type": "code",
   "execution_count": null,
   "id": "1282fdeb-8835-488f-9cac-75e6c4543bd6",
   "metadata": {},
   "outputs": [],
   "source": []
  }
 ],
 "metadata": {
  "kernelspec": {
   "display_name": "Python 3 (ipykernel)",
   "language": "python",
   "name": "python3"
  },
  "language_info": {
   "codemirror_mode": {
    "name": "ipython",
    "version": 3
   },
   "file_extension": ".py",
   "mimetype": "text/x-python",
   "name": "python",
   "nbconvert_exporter": "python",
   "pygments_lexer": "ipython3",
   "version": "3.10.2"
  }
 },
 "nbformat": 4,
 "nbformat_minor": 5
}
