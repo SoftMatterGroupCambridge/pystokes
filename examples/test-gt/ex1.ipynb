{
 "cells": [
  {
   "cell_type": "code",
   "execution_count": 1,
   "id": "366c1da5-6f4c-471a-8435-778f7bcba56a",
   "metadata": {},
   "outputs": [],
   "source": [
    "%matplotlib inline\n",
    "import pystokes, numpy as np, matplotlib.pyplot as plt"
   ]
  },
  {
   "cell_type": "code",
   "execution_count": 6,
   "id": "60537276-f1f9-4e1a-9f5f-65516f574010",
   "metadata": {},
   "outputs": [],
   "source": [
    "# particle radius, self-propulsion speed, number and fluid viscosity\n",
    "b, vs, Np, eta = 1.0, 0.4, 1, 0.1\n",
    "\n",
    "rbm     = pystokes.interface.Rbm(radius=b, particles=Np, viscosity=eta)\n",
    "forces  = pystokes.forceFields.Forces(particles=Np)"
   ]
  },
  {
   "cell_type": "code",
   "execution_count": 7,
   "id": "3c9ede7f-9c64-4417-ba1f-2c4512890496",
   "metadata": {},
   "outputs": [
    {
     "data": {
      "text/plain": [
       "1024"
      ]
     },
     "execution_count": 7,
     "metadata": {},
     "output_type": "execute_result"
    }
   ],
   "source": [
    "2**10"
   ]
  },
  {
   "cell_type": "code",
   "execution_count": 99,
   "id": "f9dc96e7-2f83-40d4-8354-885ea59561ac",
   "metadata": {},
   "outputs": [],
   "source": [
    "def oneBodySim(T=1):\n",
    "    \"\"\"simulation of two active colloid near a wall in a fluid at temperature T\"\"\"\n",
    "    \n",
    "    #initial position and orientation\n",
    "    r0, p0 = np.array([0, 0, 2.5]), np.array([1.0, 0, 0])\n",
    "    \n",
    "    # integration parameters and arrays\n",
    "    Nt=2**10; r=np.zeros(3*Nt); p=np.zeros(3*Nt)\n",
    "    r[0:3] = r0; p[0:3] = p0;  dt=0.01;  sqdt=np.sqrt(T*dt)\n",
    "    F = np.zeros(3*Np);  v = np.zeros(3*Np); vv = np.zeros(3*Np)\n",
    "    F0 = 6*np.pi*eta*b*vs*(1+9*b/(8*r[2])); #active stall force\n",
    "\n",
    "    # integration loop\n",
    "    for i in range(Nt-1):\n",
    "        forces.lennardJones(F,r0, lje=.6,ljr=2.1); F[2]=F0\n",
    "        rbm.mobilityTT(v, r0, F, ll=10)  \n",
    "                \n",
    "        # Euler-Maryuama integration\n",
    "        rbm.noiseTT(vv, r)\n",
    "        r[3*(i+1)] = r[3*i] + dt*v[0] + sqdt*vv[0]\n",
    "        r[3*(i+1)+Np] = r[3*i+Np] + dt*v[Np] + sqdt*vv[Np]\n",
    "        r[3*(i+1)+2*Np] = r[3*i+2*Np] + dt*v[2*Np] + sqdt*vv[2*Np] #not working yet, indexing wrong\n",
    "\n",
    "        #reset the variables for next time step\n",
    "        r0[0]=r[3*(i+1)]\n",
    "        r0[Np]=r[3*(i+1)+Np]\n",
    "        r0[2*Np]=r[3*(i+1)+2*Np]\n",
    "        v,vv,F[0:3] = v*0,vv*0,F[0:3]*0        \n",
    "    return r"
   ]
  },
  {
   "cell_type": "code",
   "execution_count": 100,
   "id": "38488beb-d329-4bf1-8a17-ce0dbd07fac4",
   "metadata": {},
   "outputs": [],
   "source": [
    "r = oneBodySim(T=1)"
   ]
  },
  {
   "cell_type": "code",
   "execution_count": 101,
   "id": "597f1ec6-8aa0-4555-9daf-544b217ff851",
   "metadata": {},
   "outputs": [
    {
     "data": {
      "text/plain": [
       "[<matplotlib.lines.Line2D at 0x7f008e9cd540>]"
      ]
     },
     "execution_count": 101,
     "metadata": {},
     "output_type": "execute_result"
    },
    {
     "data": {
      "image/png": "[encoded data removed]",
      "text/plain": [
       "<Figure size 432x288 with 1 Axes>"
      ]
     },
     "metadata": {
      "needs_background": "light"
     },
     "output_type": "display_data"
    }
   ],
   "source": [
    "plt.plot(r[2::3])"
   ]
  },
  {
   "cell_type": "code",
   "execution_count": 102,
   "id": "3a9f73fd-3732-4508-90ea-cff4314739ac",
   "metadata": {},
   "outputs": [
    {
     "data": {
      "text/plain": [
       "array([0. , 0. , 2.5])"
      ]
     },
     "execution_count": 102,
     "metadata": {},
     "output_type": "execute_result"
    }
   ],
   "source": [
    "r[0:3]"
   ]
  },
  {
   "cell_type": "code",
   "execution_count": 103,
   "id": "33b749a5-1bbc-418a-8afb-c1803d808ab3",
   "metadata": {},
   "outputs": [
    {
     "data": {
      "text/plain": [
       "(3072,)"
      ]
     },
     "execution_count": 103,
     "metadata": {},
     "output_type": "execute_result"
    }
   ],
   "source": [
    "r.shape"
   ]
  },
  {
   "cell_type": "code",
   "execution_count": 104,
   "id": "aa47df58-0bf4-4464-b293-8180bced47d2",
   "metadata": {},
   "outputs": [
    {
     "data": {
      "text/plain": [
       "1024"
      ]
     },
     "execution_count": 104,
     "metadata": {},
     "output_type": "execute_result"
    }
   ],
   "source": [
    "2**10"
   ]
  },
  {
   "cell_type": "code",
   "execution_count": null,
   "id": "ddf782b5-f3f4-4cf7-98d2-cb0e4ea26215",
   "metadata": {},
   "outputs": [],
   "source": []
  }
 ],
 "metadata": {
  "kernelspec": {
   "display_name": "Python 3 (ipykernel)",
   "language": "python",
   "name": "python3"
  },
  "language_info": {
   "codemirror_mode": {
    "name": "ipython",
    "version": 3
   },
   "file_extension": ".py",
   "mimetype": "text/x-python",
   "name": "python",
   "nbconvert_exporter": "python",
   "pygments_lexer": "ipython3",
   "version": "3.10.2"
  }
 },
 "nbformat": 4,
 "nbformat_minor": 5
}
