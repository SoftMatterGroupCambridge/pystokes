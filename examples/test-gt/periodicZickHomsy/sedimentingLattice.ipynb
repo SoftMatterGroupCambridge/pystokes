{
 "cells": [
  {
   "cell_type": "markdown",
   "id": "84e68a7e-7a92-4944-8fe8-b4ae34674ec9",
   "metadata": {},
   "source": [
    "## Mobility of a sedimenting lattice as a function of volume fraction"
   ]
  },
  {
   "cell_type": "code",
   "execution_count": 1,
   "id": "820221fe-ad2c-4b9e-abfe-8c4d0207e862",
   "metadata": {},
   "outputs": [],
   "source": [
    "import matplotlib.pyplot as plt \n",
    "import numpy as np\n",
    "import solvePeriodic\n",
    "#import testG3s3s as test\n",
    "from math import *\n",
    "PI = 3.14159265359"
   ]
  },
  {
   "cell_type": "code",
   "execution_count": 2,
   "id": "f63f3819-363f-444e-a929-ce715a6b1da3",
   "metadata": {},
   "outputs": [],
   "source": [
    "#Parameters\n",
    "Np=1\n",
    "b, eta, dim = 1.0, 1.0, 3\n",
    "ta =(4*np.pi/3)**(1.0/3) \n",
    "L = ta/np.asarray([0.1, 0.3, 0.4, 0.5, 0.6, 0.7, 0.7663094323935531, 0.8059966052641452])\n",
    "\n",
    "# Memory allocation\n",
    "v = np.zeros(dim*Np)      \n",
    "o = np.zeros(dim*Np)  \n",
    "r = np.zeros(dim*Np)        \n",
    "F = np.zeros(dim*Np)\n",
    "T = np.zeros(dim*Np)  \n",
    "vv  = np.zeros(np.size(L))\n",
    "phi = np.zeros(np.size(L) )\n",
    "\n",
    "S = np.zeros(Np*5)\n",
    "D = np.zeros(Np*3)\n",
    "\n",
    "mu=1.0/(6*np.pi*eta*b)"
   ]
  },
  {
   "cell_type": "code",
   "execution_count": 3,
   "id": "3064c641-9eb9-46c1-99dc-f868d0669121",
   "metadata": {},
   "outputs": [
    {
     "data": {
      "image/png": "[encoded data removed]",
      "text/plain": [
       "<Figure size 432x288 with 1 Axes>"
      ]
     },
     "metadata": {
      "needs_background": "light"
     },
     "output_type": "display_data"
    },
    {
     "name": "stdout",
     "output_type": "stream",
     "text": [
      "volume fraction   simulation\t Zick & Homsy (1982)\n",
      "0.001\t\t  1.464\t\t 0.825\t\n",
      "0.027\t\t  -13.885\t\t 0.498\t\n",
      "0.064\t\t  -38.081\t\t 0.356\t\n",
      "0.125\t\t  -78.734\t\t 0.233\t\n",
      "0.216\t\t  -139.967\t\t 0.134\t\n",
      "0.343\t\t  -225.898\t\t 0.065\t\n",
      "0.450\t\t  -298.512\t\t 0.036\t\n",
      "0.524\t\t  -348.530\t\t 0.024\t\n"
     ]
    }
   ],
   "source": [
    "phi = (4*np.pi*b**3)/(3*L**3)\n",
    "\n",
    "\n",
    "for i in range(np.size(L)):\n",
    "    v = v*0\n",
    "    F = F*0\n",
    "\n",
    "    F[2] = -1  ## gravity                           \n",
    "    \n",
    "    Rbm = solvePeriodic.Rbm(b, eta, L[i])   \n",
    "    Rbm.krylovSolve(v, o, F, T, S, D)\n",
    "\n",
    "    mu00 = mu*F[2]\n",
    "    vv[i] = v[2]/mu00\n",
    "    \n",
    "\n",
    "exR = [.825, .498, .356, .233, .134, .065, 0.036, 0.024]\n",
    "plt.title('Zick & Homsy, Hasimoto\\'s Green\\'s function')\n",
    "plt.plot(phi, exR, 'd', color=\"#348ABD\", label='Zick and Homsy')\n",
    "plt.plot(phi, vv, 'o', color=\"#A60628\", label='Simulation')\n",
    "\n",
    "plt.xlabel(r'$\\phi$', fontsize=20); plt.ylabel(r'$\\mu/\\mu_0$', fontsize=20)\n",
    "plt.legend(loc='upper right', shadow=True)\n",
    "plt.show()\n",
    "\n",
    "print ('volume fraction   simulation\\t Zick & Homsy (1982)')\n",
    "for i in range(np.size(L)):\n",
    "    print ('%1.3f\\t\\t  %1.3f\\t\\t %1.3f\\t'%(phi[i], vv[i], exR[i] ))"
   ]
  },
  {
   "cell_type": "code",
   "execution_count": 4,
   "id": "0cc2cdb5-b84f-4d3a-882c-ded963856b07",
   "metadata": {},
   "outputs": [
    {
     "data": {
      "text/plain": [
       "array([0.        , 0.        , 2.89706769])"
      ]
     },
     "execution_count": 4,
     "metadata": {},
     "output_type": "execute_result"
    }
   ],
   "source": [
    "v ## why are there x and y components of velocity? Fourier modes by definition asymmetric?"
   ]
  },
  {
   "cell_type": "code",
   "execution_count": null,
   "id": "11fc2515-1664-472d-b355-16da7e4da199",
   "metadata": {},
   "outputs": [],
   "source": [
    "## More Fourier modes just seem to make the result worse tbh - gets more and more negative at high volume fractions. Is there some kind of 1/(volume fraction) term or so? \n",
    "## 33 Fourier modes makes result even worse: first volume fraction now very small 0.212 (against Zick & Homsy's 0.825).  Seems like it just gets more negative the more\n",
    "## modes are added\n",
    "## Compare 12 modes symmetric and asymmetric result.  \n",
    "\n",
    "## FH makes results better, but still the more modes the worse the result - just becomes more negative\n",
    "##Problem with that many modes -- ints are too large to convert to float -- sympy problem? \n",
    "## find a way for sympy to compute things in a way - just don't bother with that many modes."
   ]
  },
  {
   "cell_type": "markdown",
   "id": "59a3cc35-cae1-4dce-b118-ffa7866f8b70",
   "metadata": {},
   "source": [
    "Can reproduce Hasimoto Green's function with Beenakkers by setting $\\xi\\rightarrow\\infty$ and not subtracting $M^2(r=0)$. How do Zick & Homsy obtain anything sensible without these steps? They don't use Ewald summation? They only use Fourier space Green's function - what about the factor of $1/(4\\pi^2)$ that seems to be different between Zick & Homsy and Beenakkker? \n",
    "\n",
    "What about any extra terms that arise. Brady, Russel and Glendinning vs. O'Brien vs. Zick & Homsy - all work with boundary integral. Others (eg Felderhof, Smith & Van Megen, Acrivos) work with different methods. Pozrikidis is also not a great help.\n",
    "\n",
    "O'Brien: Just says quadrupole terms cancel\n",
    "\n",
    "Glendinning & Russel: Dodgy calculation\n",
    "\n",
    "Brady: Dodgy calculation \n",
    "\n",
    "\n",
    "\n",
    "Are our factors of $1/(8\\pi\\eta)$ and $1/L^3$ in summing the Green's function correct? \n",
    "\n",
    "\n",
    "Need theory first, before using Ewald summation, which is all we have done so far. What about\n",
    "\n",
    "    *backflow integral\n",
    "    *extra terms such as average quadrupole"
   ]
  },
  {
   "cell_type": "code",
   "execution_count": null,
   "id": "cc034870-aeea-4d66-8f2d-1860d5cbb212",
   "metadata": {},
   "outputs": [],
   "source": []
  },
  {
   "cell_type": "code",
   "execution_count": null,
   "id": "3d89bd0b-3146-475d-b27f-877b5bd73952",
   "metadata": {},
   "outputs": [],
   "source": []
  },
  {
   "cell_type": "code",
   "execution_count": null,
   "id": "3be9079a-893c-417d-893a-f57d09102033",
   "metadata": {},
   "outputs": [],
   "source": []
  },
  {
   "cell_type": "code",
   "execution_count": null,
   "id": "3b595d20-3bfb-4aba-98c5-0ffa4a922138",
   "metadata": {},
   "outputs": [],
   "source": []
  },
  {
   "cell_type": "code",
   "execution_count": null,
   "id": "9cb65dbc-888c-4922-b5f7-54f83b35f01b",
   "metadata": {},
   "outputs": [],
   "source": []
  },
  {
   "cell_type": "code",
   "execution_count": null,
   "id": "ae8903ff-aa7f-4f1a-adbb-e5ee5fa664da",
   "metadata": {},
   "outputs": [],
   "source": []
  },
  {
   "cell_type": "code",
   "execution_count": null,
   "id": "89e4e9fc-c895-4077-bc4d-a3d17f200fbb",
   "metadata": {},
   "outputs": [],
   "source": []
  },
  {
   "cell_type": "code",
   "execution_count": null,
   "id": "4b7f6019-d5f0-41a1-bd6f-e9153d39f11c",
   "metadata": {},
   "outputs": [],
   "source": []
  },
  {
   "cell_type": "code",
   "execution_count": null,
   "id": "9f73ee81-fa07-4e80-b84f-cb04e48948dc",
   "metadata": {},
   "outputs": [],
   "source": []
  },
  {
   "cell_type": "code",
   "execution_count": null,
   "id": "65137e96-6d16-40c4-984d-6dc8df95801f",
   "metadata": {},
   "outputs": [],
   "source": []
  },
  {
   "cell_type": "code",
   "execution_count": null,
   "id": "1602522f-4ef2-41c8-b48a-8e2794f08738",
   "metadata": {},
   "outputs": [],
   "source": []
  },
  {
   "cell_type": "code",
   "execution_count": null,
   "id": "d1c68d9f-16d4-4802-9232-5ef92ad4770a",
   "metadata": {},
   "outputs": [],
   "source": []
  },
  {
   "cell_type": "code",
   "execution_count": null,
   "id": "97ee553b-30db-4fde-ab22-98e4f06ab058",
   "metadata": {},
   "outputs": [],
   "source": [
    "volume fraction   simulation\t Zick & Homsy (1982) ## for Nm=6\n",
    "0.001\t\t  0.825\t\t 0.825\t\n",
    "0.027\t\t  0.498\t\t 0.498\t\n",
    "0.064\t\t  0.356\t\t 0.356\t\n",
    "0.125\t\t  0.236\t\t 0.233\t\n",
    "0.216\t\t  0.144\t\t 0.134\t\n",
    "0.343\t\t  0.096\t\t 0.065\t\n",
    "0.450\t\t  0.092\t\t 0.036\t\n",
    "0.524\t\t  0.100\t\t 0.024\t"
   ]
  },
  {
   "cell_type": "code",
   "execution_count": null,
   "id": "d5ac6211-8f94-4f14-8a43-d7c00beb79d3",
   "metadata": {},
   "outputs": [],
   "source": [
    "volume fraction   simulation\t Zick & Homsy (1982)  ## for Nm=4\n",
    "0.001\t\t  0.825\t\t 0.825\t\n",
    "0.027\t\t  0.498\t\t 0.498\t\n",
    "0.064\t\t  0.356\t\t 0.356\t\n",
    "0.125\t\t  0.236\t\t 0.233\t\n",
    "0.216\t\t  0.145\t\t 0.134\t\n",
    "0.343\t\t  0.097\t\t 0.065\t\n",
    "0.450\t\t  0.094\t\t 0.036\t\n",
    "0.524\t\t  0.102\t\t 0.024\t"
   ]
  },
  {
   "cell_type": "code",
   "execution_count": null,
   "id": "700a8d9b-89b9-40ae-8f0c-fc45ed247c9c",
   "metadata": {},
   "outputs": [],
   "source": [
    "volume fraction   simulation\t Zick & Homsy (1982) ## superposition Nm=4 \n",
    "0.001\t\t  0.825\t\t 0.825\t\n",
    "0.027\t\t  0.499\t\t 0.498\t\n",
    "0.064\t\t  0.360\t\t 0.356\t\n",
    "0.125\t\t  0.245\t\t 0.233\t\n",
    "0.216\t\t  0.159\t\t 0.134\t\n",
    "0.343\t\t  0.110\t\t 0.065\t\n",
    "0.450\t\t  0.100\t\t 0.036\t\n",
    "0.524\t\t  0.104\t\t 0.024\t"
   ]
  },
  {
   "cell_type": "code",
   "execution_count": null,
   "id": "aee47198-bb3d-43c0-a935-d18e3480d99b",
   "metadata": {},
   "outputs": [],
   "source": []
  },
  {
   "cell_type": "code",
   "execution_count": null,
   "id": "13f5c753-0331-4dd3-a7c9-737dc7202e00",
   "metadata": {},
   "outputs": [],
   "source": []
  },
  {
   "cell_type": "code",
   "execution_count": null,
   "id": "a9dc87a2-0275-4f70-999f-6804d72283fd",
   "metadata": {},
   "outputs": [],
   "source": []
  },
  {
   "cell_type": "code",
   "execution_count": null,
   "id": "c77594b9-40f8-42d2-9bc4-8cbe6dbe085b",
   "metadata": {},
   "outputs": [],
   "source": []
  }
 ],
 "metadata": {
  "kernelspec": {
   "display_name": "Python 3 (ipykernel)",
   "language": "python",
   "name": "python3"
  },
  "language_info": {
   "codemirror_mode": {
    "name": "ipython",
    "version": 3
   },
   "file_extension": ".py",
   "mimetype": "text/x-python",
   "name": "python",
   "nbconvert_exporter": "python",
   "pygments_lexer": "ipython3",
   "version": "3.10.2"
  }
 },
 "nbformat": 4,
 "nbformat_minor": 5
}
