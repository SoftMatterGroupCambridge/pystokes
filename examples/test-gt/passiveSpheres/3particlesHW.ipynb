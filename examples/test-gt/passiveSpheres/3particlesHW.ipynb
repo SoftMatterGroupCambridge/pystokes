{
 "cells": [
  {
   "cell_type": "markdown",
   "id": "1d604b47-21fb-4a94-89f7-f7bf408c0a42",
   "metadata": {},
   "source": [
    "In this notebook we compare the muTT and muRT for three spheres sedimenting in a triangle, perpendicular to the plane of the triangle\n",
    "\n",
    "    - Superposition/Pystokes\n",
    "    - 2s (2s - similar to FTS Stokesian dynamics, but without adhoc lubrication effects)\n",
    "    - 2s, 3t (3t)\n",
    "    - 2s, 3t, 3a (3a)\n",
    "    - 2s, 3t, 3a, 3s (long-ranged)\n",
    "\n",
    "Comparison to **Helen J Wilson (2013)** of three (freely rotating) spheres in a triangle, method based on Lamb's solution and method of reflections (MR) - convergence, so in principle exact. Good benchmark"
   ]
  },
  {
   "cell_type": "code",
   "execution_count": 1,
   "id": "124825a9-00f7-4014-9383-6a49788e521d",
   "metadata": {},
   "outputs": [],
   "source": [
    "%matplotlib inline\n",
    "import numpy as np, matplotlib.pyplot as plt\n",
    "\n",
    "import pystokes\n",
    "from solveSuperPos import linearSolve_krylov as SP\n",
    "from solve2s import linearSolve_krylov as _2S\n",
    "from solve3t import linearSolve_krylov as _3T\n",
    "from solve3a import linearSolve_krylov as _3A\n",
    "from solveLongRanged import linearSolve_krylov as LR"
   ]
  },
  {
   "cell_type": "code",
   "execution_count": 2,
   "id": "7d9a91c4-163f-4cc5-b2a5-10654e96586f",
   "metadata": {},
   "outputs": [],
   "source": [
    "PI = 3.14159265359\n",
    "\n",
    "# particle radius, self-propulsion speed, number and fluid viscosity\n",
    "b, Np, eta = 1.0, 3, 0.1\n",
    "\n",
    "## passive particle\n",
    "D0  = 0.      \n",
    "S0  = 0.\n",
    "\n",
    "## normalising factor: one-particle mobility\n",
    "mu0 = 1./(6*PI*eta*b)"
   ]
  },
  {
   "cell_type": "code",
   "execution_count": 3,
   "id": "970f9095-e7da-406b-b597-e2063b31c28f",
   "metadata": {},
   "outputs": [],
   "source": [
    "rHW = np.array([2.01, 2.05, 2.10, 2.15, 2.20, 2.25, 2.30, 2.40, 2.50, 2.60, 2.70, 2.80, 2.90, 3.00])\n",
    "\n",
    "muTT_HW = np.array([1.79223228, 1.79070892, 1.77826951, 1.76311004, 1.74703222, 1.73072508, 1.71452988, 1.68314045, 1.65356957, 1.62599574, 1.60039150,\n",
    "                    1.57664602, 1.55461831, 1.53416156])\n",
    "muRT_HW = np.array([0.159607490, 0.195478184, 0.209731929, 0.214756269, 0.215412007, 0.213577673, 0.210224103, 0.201041187, 0.190411103, 0.179481457, 0.168801210,\n",
    "                    0.158630515, 0.149081378, 0.140187608])"
   ]
  },
  {
   "cell_type": "code",
   "execution_count": 4,
   "id": "c673c0d2-a914-424b-89a8-2947cfaa633e",
   "metadata": {},
   "outputs": [],
   "source": [
    "## Force = 6*pi*eta*b in HW"
   ]
  },
  {
   "cell_type": "markdown",
   "id": "8d1d80f7-833c-4c8c-93bb-1c2356c6610f",
   "metadata": {
    "tags": []
   },
   "source": [
    "### Pystokes"
   ]
  },
  {
   "cell_type": "code",
   "execution_count": 5,
   "id": "c1da6baa-840e-4bc2-95ea-f385cf6edd6a",
   "metadata": {},
   "outputs": [],
   "source": [
    "pstk = pystokes.unbounded.Rbm(b, Np, eta)\n",
    "\n",
    "muTT_pstk = np.zeros(rHW.shape[0])\n",
    "muRT_pstk = np.zeros(rHW.shape[0])\n",
    "\n",
    "r, F, T, v, o = np.zeros(3*Np), np.zeros(3*Np), np.zeros(3*Np), np.zeros(3*Np), np.zeros(3*Np)\n",
    " \n",
    "## perpendicular\n",
    "k=0\n",
    "for rHW_ in rHW:\n",
    "    # triangle\n",
    "    # x components\n",
    "    r[0] = -rHW_/2.\n",
    "    r[1] =  rHW_/2.\n",
    "    r[2] =  0.\n",
    "    \n",
    "    # z components\n",
    "    r[0+2*Np] =  np.sqrt(3)*rHW_/6.\n",
    "    r[1+2*Np] =  np.sqrt(3)*rHW_/6.\n",
    "    r[2+2*Np] = -np.sqrt(3)*rHW_/3.\n",
    "    \n",
    "    for i in range(Np):\n",
    "        #force perpendicular to triangle - along y axis\n",
    "        F[i]      = 0.0\n",
    "        F[i+Np]   = 1.0 \n",
    "        F[i+2*Np] = 0.0\n",
    "        \n",
    "        v[i]      = 0.0\n",
    "        v[i+Np]   = 0.0\n",
    "        v[i+2*Np] = 0.0\n",
    "        \n",
    "        o[i]      = 0.0\n",
    "        o[i+Np]   = 0.0\n",
    "        o[i+2*Np] = 0.0\n",
    "        \n",
    "    pstk.mobilityTT(v,r,F)\n",
    "    pstk.mobilityTR(v,r,T)\n",
    "    pstk.mobilityRT(o,r,F)\n",
    "    pstk.mobilityRR(o,r,T)\n",
    "        \n",
    "    muTT_pstk[k] = v[0+Np]/mu0 ## force is unity, so raw mobility is just velocity. Normalised by one-particle mobility, v[Np=3] is vy of particle one\n",
    "    muRT_pstk[k] = np.abs(o[2]/mu0) ## due to symmetry, use angular velocity of particle 3, which is purely in x direction\n",
    "    k += 1"
   ]
  },
  {
   "cell_type": "code",
   "execution_count": 6,
   "id": "b817cc88-2f54-45ae-87c7-b96f78e6b8ef",
   "metadata": {},
   "outputs": [
    {
     "data": {
      "text/plain": [
       "array([1.0430636 , 1.03187192, 1.02474085, 1.0199559 , 1.01642804,\n",
       "       1.0137128 , 1.01156793, 1.00843513, 1.00630783, 1.00481127,\n",
       "       1.00372991, 1.00293167, 1.00233187, 1.0018743 ])"
      ]
     },
     "execution_count": 6,
     "metadata": {},
     "output_type": "execute_result"
    }
   ],
   "source": [
    "muTT_pstk/muTT_HW"
   ]
  },
  {
   "cell_type": "code",
   "execution_count": 7,
   "id": "42d69d19-f142-493e-8528-45c30ee9eaaf",
   "metadata": {},
   "outputs": [
    {
     "data": {
      "text/plain": [
       "array([2.01454284, 1.58130583, 1.40449032, 1.30857651, 1.24596724,\n",
       "       1.201437  , 1.16810992, 1.12179724, 1.09156501, 1.07066994,\n",
       "       1.05564722, 1.04452561, 1.03610196, 1.0296029 ])"
      ]
     },
     "execution_count": 7,
     "metadata": {},
     "output_type": "execute_result"
    }
   ],
   "source": [
    "muRT_pstk/muRT_HW"
   ]
  },
  {
   "cell_type": "markdown",
   "id": "28f06525-7de5-450d-9f44-611bde8bb5d0",
   "metadata": {},
   "source": [
    "___________\n",
    "\n",
    "### Superposition (should be equivalent to PyStokes)"
   ]
  },
  {
   "cell_type": "code",
   "execution_count": 8,
   "id": "73d07f3d-e7a9-4453-a37f-9880efa6c05b",
   "metadata": {},
   "outputs": [],
   "source": [
    "sp = SP(b, Np, eta) \n",
    "\n",
    "muTT_sp = np.zeros(rHW.shape[0])\n",
    "muRT_sp = np.zeros(rHW.shape[0])\n",
    "\n",
    "r, F, T, v, o = np.zeros(3*Np), np.zeros(3*Np), np.zeros(3*Np), np.zeros(3*Np), np.zeros(3*Np)\n",
    "\n",
    "## perpendicular\n",
    "k=0\n",
    "for rHW_ in rHW:\n",
    "    # triangle\n",
    "    # x components\n",
    "    r[0] = -rHW_/2.\n",
    "    r[1] =  rHW_/2.\n",
    "    r[2] =  0.\n",
    "    \n",
    "    # z components\n",
    "    r[0+2*Np] =  np.sqrt(3)*rHW_/6.\n",
    "    r[1+2*Np] =  np.sqrt(3)*rHW_/6.\n",
    "    r[2+2*Np] = -np.sqrt(3)*rHW_/3.\n",
    "    \n",
    "    for i in range(Np):\n",
    "        #force perpendicular to separation - along z axis\n",
    "        F[i]      = 0.0\n",
    "        F[i+Np]   = 1.0 \n",
    "        F[i+2*Np] = 0.0\n",
    "        \n",
    "        v[i]      = 0.0\n",
    "        v[i+Np]   = 0.0\n",
    "        v[i+2*Np] = 0.0\n",
    "        \n",
    "        o[i]      = 0.0\n",
    "        o[i+Np]   = 0.0\n",
    "        o[i+2*Np] = 0.0\n",
    "        \n",
    "    sp.RBM(v, o, r, F, T)\n",
    "        \n",
    "    muTT_sp[k] = v[0+Np]/mu0 ## force is unity, so raw mobility is just velocity. Normalised by one-particle mobility, v[Np=3] is vy of particle one\n",
    "    muRT_sp[k] = np.abs(o[2]/mu0) ## due to symmetry, use angular velocity of particle 3, which is purely in x direction\n",
    "    k += 1"
   ]
  },
  {
   "cell_type": "code",
   "execution_count": 9,
   "id": "d940e9a8-9047-43ff-9818-a68ce0e5be68",
   "metadata": {},
   "outputs": [
    {
     "data": {
      "text/plain": [
       "array([1.0430636 , 1.03187192, 1.02474085, 1.0199559 , 1.01642804,\n",
       "       1.0137128 , 1.01156793, 1.00843513, 1.00630783, 1.00481127,\n",
       "       1.00372991, 1.00293167, 1.00233187, 1.0018743 ])"
      ]
     },
     "execution_count": 9,
     "metadata": {},
     "output_type": "execute_result"
    }
   ],
   "source": [
    "muTT_sp/muTT_HW"
   ]
  },
  {
   "cell_type": "code",
   "execution_count": 10,
   "id": "025165cb-1d7f-4868-a366-2738bf4ea4e3",
   "metadata": {},
   "outputs": [
    {
     "data": {
      "text/plain": [
       "array([2.01454284, 1.58130583, 1.40449032, 1.30857651, 1.24596724,\n",
       "       1.201437  , 1.16810992, 1.12179724, 1.09156501, 1.07066994,\n",
       "       1.05564722, 1.04452561, 1.03610196, 1.0296029 ])"
      ]
     },
     "execution_count": 10,
     "metadata": {},
     "output_type": "execute_result"
    }
   ],
   "source": [
    "muRT_sp/muRT_HW"
   ]
  },
  {
   "cell_type": "markdown",
   "id": "8475db19-412f-4d41-83cb-0ab727ef80d7",
   "metadata": {},
   "source": [
    "___________\n",
    "\n",
    "### 2s mode (similar to FTS Stokesian dynamics, but without lubrication corrections)"
   ]
  },
  {
   "cell_type": "code",
   "execution_count": 11,
   "id": "e3a9dc39-2377-4d90-a829-6ceb5e242eea",
   "metadata": {},
   "outputs": [],
   "source": [
    "_2s = _2S(b, Np, eta) \n",
    "\n",
    "muTT_2s = np.zeros(rHW.shape[0])\n",
    "muRT_2s = np.zeros(rHW.shape[0])\n",
    "\n",
    "r, F, T, v, o = np.zeros(3*Np), np.zeros(3*Np), np.zeros(3*Np), np.zeros(3*Np), np.zeros(3*Np)\n",
    "\n",
    "S = np.zeros(6*Np)\n",
    "\n",
    "## perpendicular\n",
    "k=0\n",
    "for rHW_ in rHW:\n",
    "    # triangle\n",
    "    # x components\n",
    "    r[0] = -rHW_/2.\n",
    "    r[1] =  rHW_/2.\n",
    "    r[2] =  0.\n",
    "    \n",
    "    # z components\n",
    "    r[0+2*Np] =  np.sqrt(3)*rHW_/6.\n",
    "    r[1+2*Np] =  np.sqrt(3)*rHW_/6.\n",
    "    r[2+2*Np] = -np.sqrt(3)*rHW_/3.\n",
    "    \n",
    "    for i in range(Np):\n",
    "        #force perpendicular to separation - along z axis\n",
    "        F[i]      = 0.0\n",
    "        F[i+Np]   = 1.0 \n",
    "        F[i+2*Np] = 0.0\n",
    "        \n",
    "        v[i]      = 0.0\n",
    "        v[i+Np]   = 0.0\n",
    "        v[i+2*Np] = 0.0\n",
    "        \n",
    "        o[i]      = 0.0\n",
    "        o[i+Np]   = 0.0\n",
    "        o[i+2*Np] = 0.0\n",
    "        \n",
    "    _2s.RBM(v, o, r, F, T, S)\n",
    "        \n",
    "    muTT_2s[k] = v[0+Np]/mu0 ## force is unity, so raw mobility is just velocity. Normalised by one-particle mobility, v[Np=3] is vy of particle one\n",
    "    muRT_2s[k] = np.abs(o[2]/mu0) ## due to symmetry, use angular velocity of particle 3, which is purely in x direction\n",
    "    k += 1"
   ]
  },
  {
   "cell_type": "code",
   "execution_count": 12,
   "id": "b38e5409-05dc-407c-abcc-dc4a1fa391fd",
   "metadata": {},
   "outputs": [
    {
     "data": {
      "text/plain": [
       "array([1.02154819, 1.01326628, 1.0091142 , 1.00678781, 1.00530272,\n",
       "       1.00429027, 1.00356813, 1.00262617, 1.00204774, 1.00165605,\n",
       "       1.00137023, 1.00115026, 1.00097479, 1.00083151])"
      ]
     },
     "execution_count": 12,
     "metadata": {},
     "output_type": "execute_result"
    }
   ],
   "source": [
    "muTT_2s/muTT_HW"
   ]
  },
  {
   "cell_type": "code",
   "execution_count": 13,
   "id": "aaa3ba50-303e-490a-bf78-e2865502186c",
   "metadata": {},
   "outputs": [
    {
     "data": {
      "text/plain": [
       "array([1.62027743, 1.29762696, 1.1785882 , 1.11986566, 1.08480327,\n",
       "       1.06195308, 1.04627513, 1.0270325 , 1.01647347, 1.01032997,\n",
       "       1.00660497, 1.0042751 , 1.00278214, 1.00180709])"
      ]
     },
     "execution_count": 13,
     "metadata": {},
     "output_type": "execute_result"
    }
   ],
   "source": [
    "muRT_2s/muRT_HW"
   ]
  },
  {
   "cell_type": "markdown",
   "id": "e317fe49-9316-492a-8585-8c4c67aacafe",
   "metadata": {},
   "source": [
    "___________\n",
    "\n",
    "### 3t mode"
   ]
  },
  {
   "cell_type": "code",
   "execution_count": 14,
   "id": "b05e1ce2-41c6-42cb-b756-21a6f013ed20",
   "metadata": {},
   "outputs": [],
   "source": [
    "_3t = _3T(b, Np, eta) \n",
    "\n",
    "muTT_3t = np.zeros(rHW.shape[0])\n",
    "muRT_3t = np.zeros(rHW.shape[0])\n",
    "\n",
    "r, F, T, v, o = np.zeros(3*Np), np.zeros(3*Np), np.zeros(3*Np), np.zeros(3*Np), np.zeros(3*Np)\n",
    "\n",
    "S = np.zeros(6*Np)\n",
    "D = np.zeros(3*Np)\n",
    "\n",
    "## perpendicular\n",
    "k=0\n",
    "for rHW_ in rHW:\n",
    "    # triangle\n",
    "    # x components\n",
    "    r[0] = -rHW_/2.\n",
    "    r[1] =  rHW_/2.\n",
    "    r[2] =  0.\n",
    "    \n",
    "    # z components\n",
    "    r[0+2*Np] =  np.sqrt(3)*rHW_/6.\n",
    "    r[1+2*Np] =  np.sqrt(3)*rHW_/6.\n",
    "    r[2+2*Np] = -np.sqrt(3)*rHW_/3.\n",
    "    \n",
    "    for i in range(Np):\n",
    "        #force perpendicular to separation - along z axis\n",
    "        F[i]      = 0.0\n",
    "        F[i+Np]   = 1.0 \n",
    "        F[i+2*Np] = 0.0\n",
    "        \n",
    "        v[i]      = 0.0\n",
    "        v[i+Np]   = 0.0\n",
    "        v[i+2*Np] = 0.0\n",
    "        \n",
    "        o[i]      = 0.0\n",
    "        o[i+Np]   = 0.0\n",
    "        o[i+2*Np] = 0.0\n",
    "        \n",
    "    _3t.RBM(v, o, r, F, T, S, D)\n",
    "        \n",
    "    muTT_3t[k] = v[0+Np]/mu0 ## force is unity, so raw mobility is just velocity. Normalised by one-particle mobility, v[Np=3] is vy of particle one\n",
    "    muRT_3t[k] = np.abs(o[2]/mu0) ## due to symmetry, use angular velocity of particle 3, which is purely in x direction\n",
    "    k += 1"
   ]
  },
  {
   "cell_type": "code",
   "execution_count": 15,
   "id": "c5aae5e5-64f2-47a8-bef5-a240bd4b4579",
   "metadata": {},
   "outputs": [
    {
     "data": {
      "text/plain": [
       "array([1.02154819, 1.01326628, 1.0091142 , 1.00678781, 1.00530272,\n",
       "       1.00429027, 1.00356813, 1.00262617, 1.00204774, 1.00165605,\n",
       "       1.00137023, 1.00115026, 1.00097479, 1.00083151])"
      ]
     },
     "execution_count": 15,
     "metadata": {},
     "output_type": "execute_result"
    }
   ],
   "source": [
    "muTT_3t/muTT_HW"
   ]
  },
  {
   "cell_type": "code",
   "execution_count": 16,
   "id": "037f1fc2-f8e2-4343-a59a-24e0dc6f83d6",
   "metadata": {},
   "outputs": [
    {
     "data": {
      "text/plain": [
       "array([1.62027743, 1.29762696, 1.1785882 , 1.11986566, 1.08480327,\n",
       "       1.06195308, 1.04627513, 1.0270325 , 1.01647347, 1.01032997,\n",
       "       1.00660497, 1.0042751 , 1.00278214, 1.00180709])"
      ]
     },
     "execution_count": 16,
     "metadata": {},
     "output_type": "execute_result"
    }
   ],
   "source": [
    "muRT_3t/muRT_HW"
   ]
  },
  {
   "cell_type": "markdown",
   "id": "227ac00e-c84b-405f-bdc4-71a7fe1fd27e",
   "metadata": {},
   "source": [
    "___________\n",
    "\n",
    "### 3a mode"
   ]
  },
  {
   "cell_type": "code",
   "execution_count": 17,
   "id": "bb4e9b49-f5f1-4166-bab7-c148da8a4fbe",
   "metadata": {},
   "outputs": [],
   "source": [
    "_3a = _3A(b, Np, eta) \n",
    "\n",
    "muTT_3a = np.zeros(rHW.shape[0])\n",
    "muRT_3a = np.zeros(rHW.shape[0])\n",
    "\n",
    "r, F, T, v, o = np.zeros(3*Np), np.zeros(3*Np), np.zeros(3*Np), np.zeros(3*Np), np.zeros(3*Np)\n",
    "\n",
    "S = np.zeros(6*Np)\n",
    "D = np.zeros(3*Np)\n",
    "\n",
    "## perpendicular\n",
    "k=0\n",
    "for rHW_ in rHW:\n",
    "    # triangle\n",
    "    # x components\n",
    "    r[0] = -rHW_/2.\n",
    "    r[1] =  rHW_/2.\n",
    "    r[2] =  0.\n",
    "    \n",
    "    # z components\n",
    "    r[0+2*Np] =  np.sqrt(3)*rHW_/6.\n",
    "    r[1+2*Np] =  np.sqrt(3)*rHW_/6.\n",
    "    r[2+2*Np] = -np.sqrt(3)*rHW_/3.\n",
    "    \n",
    "    for i in range(Np):\n",
    "        #force perpendicular to separation - along z axis\n",
    "        F[i]      = 0.0\n",
    "        F[i+Np]   = 1.0 \n",
    "        F[i+2*Np] = 0.0\n",
    "        \n",
    "        v[i]      = 0.0\n",
    "        v[i+Np]   = 0.0\n",
    "        v[i+2*Np] = 0.0\n",
    "        \n",
    "        o[i]      = 0.0\n",
    "        o[i+Np]   = 0.0\n",
    "        o[i+2*Np] = 0.0\n",
    "        \n",
    "    _3a.RBM(v, o, r, F, T, S, D)\n",
    "        \n",
    "    muTT_3a[k] = v[0+Np]/mu0 ## force is unity, so raw mobility is just velocity. Normalised by one-particle mobility, v[Np=3] is vy of particle one\n",
    "    muRT_3a[k] = np.abs(o[2]/mu0) ## due to symmetry, use angular velocity of particle 3, which is purely in x direction\n",
    "    k += 1"
   ]
  },
  {
   "cell_type": "code",
   "execution_count": 18,
   "id": "b66be630-e0a8-42c6-beeb-a6cc7c712da5",
   "metadata": {},
   "outputs": [
    {
     "data": {
      "text/plain": [
       "array([1.01918254, 1.01096558, 1.00690168, 1.00467775, 1.00330505,\n",
       "       1.00241082, 1.00180919, 1.00110421, 1.00074578, 1.00055011,\n",
       "       1.00043448, 1.00035985, 1.00030724, 1.00026718])"
      ]
     },
     "execution_count": 18,
     "metadata": {},
     "output_type": "execute_result"
    }
   ],
   "source": [
    "muTT_3a/muTT_HW"
   ]
  },
  {
   "cell_type": "code",
   "execution_count": 19,
   "id": "4659391d-b7e6-47e7-8532-e65ad8fa34c2",
   "metadata": {},
   "outputs": [
    {
     "data": {
      "text/plain": [
       "array([1.60014689, 1.28167407, 1.16441443, 1.10681114, 1.07263299,\n",
       "       1.05055688, 1.03558993, 1.01764651, 1.00825611, 1.00315934,\n",
       "       1.00036222, 0.99884639, 0.9980629 , 0.99770259])"
      ]
     },
     "execution_count": 19,
     "metadata": {},
     "output_type": "execute_result"
    }
   ],
   "source": [
    "muRT_3a/muRT_HW"
   ]
  },
  {
   "cell_type": "markdown",
   "id": "50b0d299-bab8-4d1d-9fe5-7b80e540bc29",
   "metadata": {},
   "source": [
    "______________\n",
    "\n",
    "## Long-ranged modes (2s, 3t, 3a, 3s)"
   ]
  },
  {
   "cell_type": "code",
   "execution_count": 20,
   "id": "e31047b4-2379-4f37-aeb3-988d2449ae65",
   "metadata": {},
   "outputs": [],
   "source": [
    "lr = LR(b, Np, eta)\n",
    "## define distances that iterate through rb/2 and forces parallel and perpendicular to these distances \n",
    "\n",
    "muTT_lr = np.zeros(rHW.shape[0])\n",
    "muRT_lr = np.zeros(rHW.shape[0])\n",
    "\n",
    "r, F, T, v, o = np.zeros(3*Np), np.zeros(3*Np), np.zeros(3*Np), np.zeros(3*Np), np.zeros(3*Np)\n",
    "\n",
    "S = np.zeros(6*Np)\n",
    "D = np.zeros(3*Np)\n",
    "\n",
    "## perpendicular\n",
    "k=0\n",
    "for rHW_ in rHW:\n",
    "    # triangle\n",
    "    # x components\n",
    "    r[0] = -rHW_/2.\n",
    "    r[1] =  rHW_/2.\n",
    "    r[2] =  0.\n",
    "    \n",
    "    # z components\n",
    "    r[0+2*Np] =  np.sqrt(3)*rHW_/6.\n",
    "    r[1+2*Np] =  np.sqrt(3)*rHW_/6.\n",
    "    r[2+2*Np] = -np.sqrt(3)*rHW_/3.\n",
    "    \n",
    "    for i in range(Np):\n",
    "        #force perpendicular to separation - along z axis\n",
    "        F[i]      = 0.0\n",
    "        F[i+Np]   = 1.0 \n",
    "        F[i+2*Np] = 0.0\n",
    "        \n",
    "        v[i]      = 0.0\n",
    "        v[i+Np]   = 0.0\n",
    "        v[i+2*Np] = 0.0\n",
    "        \n",
    "        o[i]      = 0.0\n",
    "        o[i+Np]   = 0.0\n",
    "        o[i+2*Np] = 0.0\n",
    "        \n",
    "    lr.RBM(v, o, r, F, T, S, D)\n",
    "        \n",
    "    muTT_lr[k] = v[0+Np]/mu0 ## force is unity, so raw mobility is just velocity. Normalised by one-particle mobility, v[Np=3] is vy of particle one\n",
    "    muRT_lr[k] = np.abs(o[2]/mu0) ## due to symmetry, use angular velocity of particle 3, which is purely in x direction\n",
    "    k += 1"
   ]
  },
  {
   "cell_type": "code",
   "execution_count": 21,
   "id": "8efd10e2-2984-435d-bed6-8d6c07e44c7d",
   "metadata": {},
   "outputs": [
    {
     "data": {
      "text/plain": [
       "array([1.01502967, 1.00765923, 1.00444309, 1.00287797, 1.00200864,\n",
       "       1.00149231, 1.00116996, 1.00081393, 1.00062916, 1.00051264,\n",
       "       1.00042763, 1.00036022, 1.00030465, 1.00025812])"
      ]
     },
     "execution_count": 21,
     "metadata": {},
     "output_type": "execute_result"
    }
   ],
   "source": [
    "muTT_lr/muTT_HW"
   ]
  },
  {
   "cell_type": "code",
   "execution_count": 22,
   "id": "ddf989ff-8dc4-44ac-94a0-23550880a52b",
   "metadata": {},
   "outputs": [
    {
     "data": {
      "text/plain": [
       "array([1.47315556, 1.19448524, 1.09986325, 1.05736882, 1.03440512,\n",
       "       1.0209625 , 1.01274351, 1.0043081 , 1.00086155, 0.99947651,\n",
       "       0.99898134, 0.99887291, 0.99892624, 0.99903989])"
      ]
     },
     "execution_count": 22,
     "metadata": {},
     "output_type": "execute_result"
    }
   ],
   "source": [
    "muRT_lr/muRT_HW"
   ]
  },
  {
   "cell_type": "markdown",
   "id": "6af11f1a-ee95-45bd-9383-16241e3141f9",
   "metadata": {},
   "source": [
    "________\n",
    "\n",
    "### Plotting versus Helen Wilson"
   ]
  },
  {
   "cell_type": "code",
   "execution_count": 23,
   "id": "f398d14c-e803-4467-be86-406996b332f0",
   "metadata": {},
   "outputs": [
    {
     "data": {
      "image/png": "[encoded data removed]",
      "text/plain": [
       "<Figure size 432x288 with 1 Axes>"
      ]
     },
     "metadata": {
      "needs_background": "light"
     },
     "output_type": "display_data"
    }
   ],
   "source": [
    "plt.plot(rHW, muTT_pstk/muTT_HW, label='pystokes', marker='o', linestyle=\"None\")\n",
    "plt.plot(rHW, muTT_sp/muTT_HW, label='superposition', marker='^', linestyle=\"None\")\n",
    "plt.plot(rHW, muTT_2s/muTT_HW, label='2s', marker='s', linestyle=\"None\")\n",
    "plt.plot(rHW, muTT_3t/muTT_HW, label='3t', marker='d', linestyle=\"None\")\n",
    "plt.plot(rHW, muTT_3a/muTT_HW, label='3a', marker='+', linestyle=\"None\")\n",
    "plt.plot(rHW, muTT_lr/muTT_HW, label='long-ranged', marker='*', linestyle=\"None\")\n",
    "plt.axhline(y=1., color='grey', linestyle='--', linewidth=1)\n",
    "plt.xlabel('$r/b$')\n",
    "plt.ylabel('$\\mu^{TT}/\\mu^{TT}(HW)$')\n",
    "plt.legend()\n",
    "plt.show()"
   ]
  },
  {
   "cell_type": "code",
   "execution_count": 24,
   "id": "929c35e5-d439-453e-8e9c-862e01b37544",
   "metadata": {},
   "outputs": [
    {
     "data": {
      "image/png": "[encoded data removed]",
      "text/plain": [
       "<Figure size 432x288 with 1 Axes>"
      ]
     },
     "metadata": {
      "needs_background": "light"
     },
     "output_type": "display_data"
    }
   ],
   "source": [
    "plt.plot(rHW, muRT_pstk/muRT_HW, label='pystokes', marker='o', linestyle=\"None\")\n",
    "plt.plot(rHW, muRT_sp/muRT_HW, label='superposition', marker='^', linestyle=\"None\")\n",
    "plt.plot(rHW, muRT_2s/muRT_HW, label='2s', marker='s', linestyle=\"None\")\n",
    "plt.plot(rHW, muRT_3t/muRT_HW, label='3t', marker='d', linestyle=\"None\")\n",
    "plt.plot(rHW, muRT_3a/muRT_HW, label='3a', marker='+', linestyle=\"None\")\n",
    "plt.plot(rHW, muRT_lr/muRT_HW, label='long-ranged', marker='*', linestyle=\"None\")\n",
    "plt.axhline(y=1., color='grey', linestyle='--', linewidth=1)\n",
    "plt.xlabel('$r/b$')\n",
    "plt.ylabel('$\\mu^{RT}/\\mu^{RT}(HW)$')\n",
    "plt.legend()\n",
    "plt.show()"
   ]
  },
  {
   "cell_type": "code",
   "execution_count": 25,
   "id": "5b3ca07f-1079-4822-9d33-f47e8004b5a7",
   "metadata": {},
   "outputs": [
    {
     "data": {
      "text/plain": [
       "array([1., 1., 1., 1., 1., 1., 1., 1., 1., 1., 1., 1., 1., 1.])"
      ]
     },
     "execution_count": 25,
     "metadata": {},
     "output_type": "execute_result"
    }
   ],
   "source": [
    "muTT_2s/muTT_3t"
   ]
  },
  {
   "cell_type": "code",
   "execution_count": 26,
   "id": "a46562db-5907-4f85-9f36-e97bd7b77a20",
   "metadata": {},
   "outputs": [
    {
     "data": {
      "text/plain": [
       "array([1., 1., 1., 1., 1., 1., 1., 1., 1., 1., 1., 1., 1., 1.])"
      ]
     },
     "execution_count": 26,
     "metadata": {},
     "output_type": "execute_result"
    }
   ],
   "source": [
    "muRT_2s/muRT_3t"
   ]
  },
  {
   "cell_type": "code",
   "execution_count": null,
   "id": "18f2effe-e7e3-47b5-8c47-639a3b1d1188",
   "metadata": {},
   "outputs": [],
   "source": []
  },
  {
   "cell_type": "code",
   "execution_count": null,
   "id": "282097d9-75c9-4296-81b6-d4bed155b4e4",
   "metadata": {},
   "outputs": [],
   "source": []
  },
  {
   "cell_type": "code",
   "execution_count": null,
   "id": "ed414dd7-9d24-4ca7-a164-91ecf06027b3",
   "metadata": {},
   "outputs": [],
   "source": []
  },
  {
   "cell_type": "code",
   "execution_count": null,
   "id": "19d67cf4-38f8-411a-b322-ec1b9e5a53c5",
   "metadata": {},
   "outputs": [],
   "source": []
  },
  {
   "cell_type": "code",
   "execution_count": null,
   "id": "7e323bc4-b5ac-4946-bf88-ba10f741a169",
   "metadata": {},
   "outputs": [],
   "source": []
  },
  {
   "cell_type": "code",
   "execution_count": null,
   "id": "c2b2e074-579a-4946-be4b-fbda9c411b42",
   "metadata": {},
   "outputs": [],
   "source": []
  },
  {
   "cell_type": "code",
   "execution_count": null,
   "id": "2e6d91fc-9be0-4644-b199-de6f7f856019",
   "metadata": {},
   "outputs": [],
   "source": []
  },
  {
   "cell_type": "code",
   "execution_count": null,
   "id": "e01943c5-76f9-4e20-a9c6-2a755a39fe9c",
   "metadata": {},
   "outputs": [],
   "source": []
  },
  {
   "cell_type": "code",
   "execution_count": null,
   "id": "3d6a4e47-ae4d-43a8-8ee4-b89264a1fe97",
   "metadata": {},
   "outputs": [],
   "source": []
  },
  {
   "cell_type": "code",
   "execution_count": null,
   "id": "ef82b0fe-a629-4e2f-9562-79931033af78",
   "metadata": {},
   "outputs": [],
   "source": []
  },
  {
   "cell_type": "code",
   "execution_count": null,
   "id": "7225694a-4f89-4c3c-9d09-f35e24240869",
   "metadata": {},
   "outputs": [],
   "source": []
  },
  {
   "cell_type": "code",
   "execution_count": null,
   "id": "9f466bc1-aede-402b-bab7-80294fc6c24e",
   "metadata": {},
   "outputs": [],
   "source": []
  },
  {
   "cell_type": "code",
   "execution_count": null,
   "id": "a5ea4299-0aff-4015-b774-185a2ff5bc4a",
   "metadata": {},
   "outputs": [],
   "source": []
  },
  {
   "cell_type": "code",
   "execution_count": null,
   "id": "8d9069a0-b249-4c34-a8ea-519ccd6d369f",
   "metadata": {},
   "outputs": [],
   "source": []
  },
  {
   "cell_type": "code",
   "execution_count": null,
   "id": "72929726-4a53-43be-8934-56a2bc083923",
   "metadata": {},
   "outputs": [],
   "source": []
  },
  {
   "cell_type": "code",
   "execution_count": null,
   "id": "e2ecaf3a-9c0c-4474-a28f-32d31deec75c",
   "metadata": {},
   "outputs": [],
   "source": []
  },
  {
   "cell_type": "code",
   "execution_count": null,
   "id": "a342d5d1-81cb-4da6-b923-9839b3950c6d",
   "metadata": {},
   "outputs": [],
   "source": []
  },
  {
   "cell_type": "code",
   "execution_count": null,
   "id": "fa876e72-d633-408b-b79b-5069a33e77c5",
   "metadata": {},
   "outputs": [],
   "source": []
  },
  {
   "cell_type": "code",
   "execution_count": null,
   "id": "d157767e-3ae2-427e-93ad-ac56204eb22a",
   "metadata": {},
   "outputs": [],
   "source": []
  }
 ],
 "metadata": {
  "kernelspec": {
   "display_name": "Python 3 (ipykernel)",
   "language": "python",
   "name": "python3"
  },
  "language_info": {
   "codemirror_mode": {
    "name": "ipython",
    "version": 3
   },
   "file_extension": ".py",
   "mimetype": "text/x-python",
   "name": "python",
   "nbconvert_exporter": "python",
   "pygments_lexer": "ipython3",
   "version": "3.10.2"
  }
 },
 "nbformat": 4,
 "nbformat_minor": 5
}
