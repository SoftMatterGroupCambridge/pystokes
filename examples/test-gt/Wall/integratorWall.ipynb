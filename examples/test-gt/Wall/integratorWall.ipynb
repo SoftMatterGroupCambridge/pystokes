{
 "cells": [
  {
   "cell_type": "markdown",
   "id": "4def17ad-fa80-474b-a68c-e079d963ed1e",
   "metadata": {},
   "source": [
    "### Particle near a wall\n",
    "\n",
    "Simulation of a squirmer near an infinite and plane wall at $z=0$."
   ]
  },
  {
   "cell_type": "code",
   "execution_count": 2,
   "id": "a90be86b-a16f-411e-a4f4-db2d5478a91d",
   "metadata": {},
   "outputs": [],
   "source": [
    "%matplotlib inline\n",
    "from solveWall import Rbm\n",
    "import numpy as np, matplotlib.pyplot as plt\n",
    "import pystokes"
   ]
  },
  {
   "cell_type": "code",
   "execution_count": 3,
   "id": "0aefd64f-89d3-450b-8a3b-8660ebdc61dc",
   "metadata": {},
   "outputs": [],
   "source": [
    "def rotation(vector,alpha, beta, gamma):\n",
    "    rotmat = np.array([[np.cos(beta)*np.cos(gamma), np.sin(alpha)*np.sin(beta)*np.cos(gamma) \n",
    "                        - np.cos(alpha)*np.sin(gamma), np.cos(alpha)*np.sin(beta)*np.cos(gamma)\n",
    "                        + np.sin(alpha)*np.sin(gamma)],\n",
    "                       [np.cos(beta)*np.sin(gamma),\n",
    "                        np.sin(alpha)*np.sin(beta)*np.sin(gamma) + np.cos(alpha)*np.cos(gamma),\n",
    "                        np.cos(alpha)*np.sin(beta)*np.sin(gamma) - np.sin(alpha)*np.cos(gamma)],\n",
    "                       [-np.sin(beta),\n",
    "                        np.sin(alpha)*np.cos(beta),\n",
    "                        np.cos(alpha)*np.cos(beta)]])\n",
    "    return np.dot(rotmat, vector)"
   ]
  },
  {
   "cell_type": "code",
   "execution_count": 66,
   "id": "41f59cde-57cf-4b28-816e-e143ad2c5afb",
   "metadata": {},
   "outputs": [],
   "source": [
    "# particle radius, and fluid viscosity\n",
    "b, eta = 1.0, 1.\n",
    "\n",
    "## squirmer\n",
    "D0  = 1.0      \n",
    "S0  = -3/50*D0    # beta = 1 (positive beta is a puller (negative V2s)) - not sure which sign!"
   ]
  },
  {
   "cell_type": "code",
   "execution_count": 67,
   "id": "a969276c-bfbb-4b01-953c-70ea399822a2",
   "metadata": {},
   "outputs": [],
   "source": [
    "## initialise \n",
    "#initial position\n",
    "r = np.array([0.,0.,3.])\n",
    "\n",
    "#initial orientation\n",
    "p = np.array([1., 0., 0])\n",
    "\n",
    "## rotate -50deg to x axis around y axis\n",
    "p = rotation(p, 0., -50 * 2*np.pi/360, 0.)\n",
    "\n",
    "\n",
    "# initial slip modes\n",
    "S = np.zeros(9)\n",
    "D = np.zeros(3)\n",
    "\n",
    "## S in order: xx, xy, xz, yx, yy, yz, zx, zy, zz\n",
    "S[0] = S0*(3*p[0]*p[0] - 1.)\n",
    "S[1] = S0*(3*p[0]*p[1])\n",
    "S[2] = S0*(3*p[0]*p[2])\n",
    "S[3] = S0*(3*p[1]*p[0])\n",
    "S[4] = S0*(3*p[1]*p[1] - 1.)\n",
    "S[5] = S0*(3*p[1]*p[2]) \n",
    "S[6] = S0*(3*p[2]*p[1])\n",
    "S[7] = S0*(3*p[2]*p[1])\n",
    "S[8] = S0*(3*p[2]*p[2] - 1.)\n",
    "\n",
    "D[0] = D0*p[0]\n",
    "D[1] = D0*p[1]\n",
    "D[2] = D0*p[2]"
   ]
  },
  {
   "cell_type": "code",
   "execution_count": 94,
   "id": "78781de8-c91f-42fa-9e67-36d2b0009df0",
   "metadata": {},
   "outputs": [],
   "source": [
    "def rhs(rp): ##change this to give polarisation directly\n",
    "    \"\"\"\n",
    "    Function that gives rhs for equations dr/dt=v and dp/dt= o x p\n",
    "    \"\"\"\n",
    "    \n",
    "    #position and angle theta (relative to initial angle)\n",
    "    r = rp[0:3]; p = rp[3:6]\n",
    "    \n",
    "    ## make sure orientation remains unit length\n",
    "    #norm_p = np.dot(p,p)\n",
    "    #p = p/np.sqrt(norm_p)\n",
    "    \n",
    "    \n",
    "    F, T, v, o = np.zeros(3), np.zeros(3), np.zeros(3), np.zeros(3)\n",
    "             \n",
    "    F[0] = 0.0\n",
    "    F[1] = 0.0 \n",
    "    F[2] = -1e-3  ## weak gravity \n",
    "\n",
    "    T[0] = 0.0\n",
    "    T[1] = 0.0\n",
    "    T[2] = 0.0\n",
    "\n",
    "    v[0] = 0.0\n",
    "    v[1] = 0.0\n",
    "    v[2] = 0.0\n",
    "\n",
    "    o[0] = 0.0\n",
    "    o[1] = 0.0\n",
    "    o[2] = 0.0\n",
    "\n",
    "\n",
    "    S[0] = S0*(3*p[0]*p[0] - 1.)\n",
    "    S[1] = S0*(3*p[0]*p[1])\n",
    "    S[2] = S0*(3*p[0]*p[2])\n",
    "    S[3] = S0*(3*p[1]*p[0])\n",
    "    S[4] = S0*(3*p[1]*p[1] - 1.)\n",
    "    S[5] = S0*(3*p[1]*p[2]) \n",
    "    S[6] = S0*(3*p[2]*p[1])\n",
    "    S[7] = S0*(3*p[2]*p[1])\n",
    "    S[8] = S0*(3*p[2]*p[2] - 1.)\n",
    "\n",
    "    D[0] = D0*p[0]\n",
    "    D[1] = D0*p[1]\n",
    "    D[2] = D0*p[2]\n",
    "\n",
    "    \n",
    "    #update repulsive force at position r\n",
    "    #forces.lennardJones(F, r, lje=5.0, ljr=2.1*b)\n",
    "    \n",
    "    #update velocity and angular velocity at r, acted on by F and T, and with slip modes S an D\n",
    "    particle.krylovSolve(v, o, r, F, T, S, D)\n",
    "    \n",
    "    dpdt = np.zeros(3)\n",
    "    \n",
    "    dpdt[0] = o[1]*p[2] - o[2]*p[1]    \n",
    "    dpdt[1] = o[2]*p[0] - o[0]*p[2]  \n",
    "    dpdt[2] = o[0]*p[1] - o[1]*p[0]\n",
    "        \n",
    "\n",
    "    \n",
    "    #return velocity and angular velocity cross orientation as right-hand side\n",
    "    return np.concatenate( (v,dpdt) )"
   ]
  },
  {
   "cell_type": "code",
   "execution_count": 95,
   "id": "fa798084-e162-4f8b-9a40-80b320b43f55",
   "metadata": {},
   "outputs": [],
   "source": [
    "def simulate(rth0, Tf, Npts, rhs, integrator='solve_ivp', Ti=0, maxNumSteps=100000, **kwargs):\n",
    "    \n",
    "    def dxdtEval(rth,t):\n",
    "        return rhs(rth)\n",
    "    \n",
    "    if integrator=='BDF': ## weird handling for this method\n",
    "        from scipy.integrate import BDF\n",
    "        X = BDF(lambda t, xt: dxdtEval(xt,t), Ti, rth0, Tf)\n",
    "        \n",
    "    if integrator=='odeint':\n",
    "        from scipy.integrate import odeint\n",
    "        time_points=np.linspace(Ti, Tf, Npts+1);\n",
    "        X = odeint(dxdtEval, rth0, time_points, mxstep=maxNumSteps, **kwargs)\n",
    "        \n",
    "    if integrator=='solve_ivp':\n",
    "        from scipy.integrate import solve_ivp\n",
    "        time_points=np.linspace(Ti, Tf, Npts+1)                                                          \n",
    "        X = solve_ivp(lambda t, xt: dxdtEval(xt,t), [0,Tf], rth0, \n",
    "                         t_eval=time_points, **kwargs)\n",
    "        \n",
    "    return X"
   ]
  },
  {
   "cell_type": "code",
   "execution_count": 96,
   "id": "d2fecdf9-db9d-4db5-8d24-30b777ac98c8",
   "metadata": {},
   "outputs": [
    {
     "name": "stdout",
     "output_type": "stream",
     "text": [
      "CPU times: user 11.2 s, sys: 12.1 ms, total: 11.2 s\n",
      "Wall time: 11.2 s\n"
     ]
    },
    {
     "data": {
      "text/plain": [
       "'Required step size is less than spacing between numbers.'"
      ]
     },
     "execution_count": 96,
     "metadata": {},
     "output_type": "execute_result"
    }
   ],
   "source": [
    "%%time\n",
    "#initiallize system and forces\n",
    "particle = Rbm(b, eta)\n",
    "forces  = pystokes.forceFields.Forces(particles=1)\n",
    "\n",
    "#simulate the resulting system\n",
    "rp0 = np.concatenate((r,p))\n",
    "Tf = 200\n",
    "Npts = 200\n",
    "\n",
    "X = simulate(rp0, Tf, Npts, rhs, integrator='solve_ivp', Ti=0, maxNumSteps=1,  ##have subtracted active velocity V^A = 0.2*D\n",
    "             method='RK45')\n",
    "X.message"
   ]
  },
  {
   "cell_type": "code",
   "execution_count": 97,
   "id": "9f84656e-d8ee-4714-bee9-9053353b538b",
   "metadata": {},
   "outputs": [],
   "source": [
    "pos = X.y.T[:,0:3]\n",
    "times = X.t"
   ]
  },
  {
   "cell_type": "code",
   "execution_count": 98,
   "id": "c66610f9-037f-4ec4-b663-cd82c9606856",
   "metadata": {},
   "outputs": [
    {
     "data": {
      "image/png": "[encoded data removed]",
      "text/plain": [
       "<Figure size 432x288 with 1 Axes>"
      ]
     },
     "metadata": {
      "needs_background": "light"
     },
     "output_type": "display_data"
    }
   ],
   "source": [
    "plt.rcParams.update({'font.size': 12})\n",
    "plt.plot(pos[:,0], pos[:,2], label='particle', lw=2)\n",
    "plt.xlabel('x')\n",
    "plt.ylabel('z')\n",
    "plt.legend()\n",
    "plt.show()"
   ]
  },
  {
   "cell_type": "code",
   "execution_count": 99,
   "id": "617131bb-ec2a-4aab-a342-846d9242666c",
   "metadata": {},
   "outputs": [],
   "source": [
    "orientation = X.y.T[:,3:]"
   ]
  },
  {
   "cell_type": "code",
   "execution_count": 100,
   "id": "de47de22-9faf-4da8-a7db-56a786a29c52",
   "metadata": {},
   "outputs": [
    {
     "data": {
      "text/plain": [
       "array([[0.64278761, 0.        , 0.76604444],\n",
       "       [0.64218236, 0.        , 0.7665519 ],\n",
       "       [0.64157207, 0.        , 0.76706276],\n",
       "       [0.64095663, 0.        , 0.7675771 ],\n",
       "       [0.64033595, 0.        , 0.76809496],\n",
       "       [0.63970993, 0.        , 0.76861642],\n",
       "       [0.63907848, 0.        , 0.76914153],\n",
       "       [0.63844148, 0.        , 0.76967037],\n",
       "       [0.63779883, 0.        , 0.770203  ],\n",
       "       [0.63715042, 0.        , 0.77073948],\n",
       "       [0.63649613, 0.        , 0.7712799 ],\n",
       "       [0.63583574, 0.        , 0.77182438],\n",
       "       [0.63516881, 0.        , 0.77237318],\n",
       "       [0.63449528, 0.        , 0.77292634],\n",
       "       [0.63381514, 0.        , 0.77348388],\n",
       "       [0.63312833, 0.        , 0.77404583],\n",
       "       [0.63243479, 0.        , 0.77461224],\n",
       "       [0.63173445, 0.        , 0.77518315],\n",
       "       [0.63102723, 0.        , 0.77575863],\n",
       "       [0.63031303, 0.        , 0.77633873],\n",
       "       [0.62959174, 0.        , 0.77692353],\n",
       "       [0.62886323, 0.        , 0.77751311],\n",
       "       [0.62812736, 0.        , 0.77810755],\n",
       "       [0.62738399, 0.        , 0.77870695],\n",
       "       [0.62663295, 0.        , 0.77931141],\n",
       "       [0.62587407, 0.        , 0.77992103],\n",
       "       [0.62510714, 0.        , 0.78053595],\n",
       "       [0.62433197, 0.        , 0.78115628],\n",
       "       [0.62354835, 0.        , 0.78178215],\n",
       "       [0.62275603, 0.        , 0.78241371],\n",
       "       [0.62195478, 0.        , 0.78305111],\n",
       "       [0.62114433, 0.        , 0.78369449],\n",
       "       [0.62032443, 0.        , 0.78434402],\n",
       "       [0.61949477, 0.        , 0.78499988],\n",
       "       [0.61865508, 0.        , 0.78566224],\n",
       "       [0.61780503, 0.        , 0.78633129],\n",
       "       [0.6169443 , 0.        , 0.78700722],\n",
       "       [0.61607256, 0.        , 0.78769023],\n",
       "       [0.61518946, 0.        , 0.78838053],\n",
       "       [0.61429463, 0.        , 0.78907835],\n",
       "       [0.6133877 , 0.        , 0.78978389],\n",
       "       [0.61246827, 0.        , 0.7904974 ],\n",
       "       [0.61153594, 0.        , 0.79121912],\n",
       "       [0.61059031, 0.        , 0.79194928],\n",
       "       [0.60963093, 0.        , 0.79268816],\n",
       "       [0.60865736, 0.        , 0.793436  ],\n",
       "       [0.60766915, 0.        , 0.79419308],\n",
       "       [0.60666583, 0.        , 0.79495967],\n",
       "       [0.60564692, 0.        , 0.79573607],\n",
       "       [0.60461192, 0.        , 0.79652256],\n",
       "       [0.60356031, 0.        , 0.79731945],\n",
       "       [0.60249159, 0.        , 0.79812704],\n",
       "       [0.6014052 , 0.        , 0.79894565],\n",
       "       [0.60030061, 0.        , 0.7997756 ],\n",
       "       [0.59917725, 0.        , 0.80061723],\n",
       "       [0.59803455, 0.        , 0.80147086],\n",
       "       [0.59687191, 0.        , 0.80233686],\n",
       "       [0.59568874, 0.        , 0.80321557],\n",
       "       [0.5944836 , 0.        , 0.80410778],\n",
       "       [0.59325295, 0.        , 0.80501538],\n",
       "       [0.59199672, 0.        , 0.80593846],\n",
       "       [0.59071499, 0.        , 0.80687707],\n",
       "       [0.58940755, 0.        , 0.80783135],\n",
       "       [0.58807399, 0.        , 0.80880159],\n",
       "       [0.58671358, 0.        , 0.80978824],\n",
       "       [0.5853254 , 0.        , 0.81079184],\n",
       "       [0.58390821, 0.        , 0.8118131 ],\n",
       "       [0.58246056, 0.        , 0.81285285],\n",
       "       [0.58098073, 0.        , 0.81391206],\n",
       "       [0.57946674, 0.        , 0.81499183],\n",
       "       [0.57791635, 0.        , 0.8160934 ],\n",
       "       [0.57632707, 0.        , 0.81721814],\n",
       "       [0.57469616, 0.        , 0.81836755],\n",
       "       [0.57302061, 0.        , 0.81954327],\n",
       "       [0.57129717, 0.        , 0.82074709],\n",
       "       [0.56952232, 0.        , 0.8219809 ],\n",
       "       [0.56769229, 0.        , 0.82324677],\n",
       "       [0.56580306, 0.        , 0.82454685],\n",
       "       [0.56385033, 0.        , 0.82588348],\n",
       "       [0.56182957, 0.        , 0.8272591 ],\n",
       "       [0.55973599, 0.        , 0.82867628],\n",
       "       [0.55756453, 0.        , 0.83013776],\n",
       "       [0.55530988, 0.        , 0.83164638],\n",
       "       [0.55296649, 0.        , 0.83320513],\n",
       "       [0.55052853, 0.        , 0.83481714],\n",
       "       [0.547989  , 0.        , 0.83648611],\n",
       "       [0.54533332, 0.        , 0.8382196 ],\n",
       "       [0.54255037, 0.        , 0.84002347],\n",
       "       [0.53962706, 0.        , 0.84190453],\n",
       "       [0.53654649, 0.        , 0.84387144],\n",
       "       [0.53328788, 0.        , 0.84593477],\n",
       "       [0.52982664, 0.        , 0.84810693],\n",
       "       [0.52613433, 0.        , 0.85040221],\n",
       "       [0.52217425, 0.        , 0.85283862],\n",
       "       [0.51787548, 0.        , 0.85544877],\n",
       "       [0.51322687, 0.        , 0.85824158],\n",
       "       [0.50818342, 0.        , 0.86124104],\n",
       "       [0.50264062, 0.        , 0.86449679],\n",
       "       [0.4964344 , 0.        , 0.86808417],\n",
       "       [0.48934116, 0.        , 0.8721042 ],\n",
       "       [0.48107777, 0.        , 0.87668356],\n",
       "       [0.47129677, 0.        , 0.88197615],\n",
       "       [0.45936046, 0.        , 0.88825123],\n",
       "       [0.44425448, 0.        , 0.89590288],\n",
       "       [0.4251885 , 0.        , 0.90516932],\n",
       "       [0.39772832, 0.        , 0.91747338],\n",
       "       [0.3555024 , 0.        , 0.93436622],\n",
       "       [0.310168  , 0.        , 0.95037575],\n",
       "       [0.24240508, 0.        , 0.96987465]])"
      ]
     },
     "execution_count": 100,
     "metadata": {},
     "output_type": "execute_result"
    }
   ],
   "source": [
    "orientation"
   ]
  },
  {
   "cell_type": "code",
   "execution_count": 104,
   "id": "652b8707-606a-4ba4-a50a-d793b3be6423",
   "metadata": {},
   "outputs": [
    {
     "data": {
      "text/plain": [
       "1.0"
      ]
     },
     "execution_count": 104,
     "metadata": {},
     "output_type": "execute_result"
    }
   ],
   "source": [
    "np.linalg.norm(p)"
   ]
  },
  {
   "cell_type": "code",
   "execution_count": null,
   "id": "b49244d0-689f-445b-84a2-2125592e526b",
   "metadata": {},
   "outputs": [],
   "source": []
  },
  {
   "cell_type": "code",
   "execution_count": null,
   "id": "99fabd05-566f-44f5-9cc7-d8c7082d169e",
   "metadata": {},
   "outputs": [],
   "source": []
  },
  {
   "cell_type": "code",
   "execution_count": null,
   "id": "1285f693-8b82-4d4e-bc4c-f74187cdec97",
   "metadata": {},
   "outputs": [],
   "source": []
  },
  {
   "cell_type": "code",
   "execution_count": null,
   "id": "f4539c94-e4a5-4f8b-b5d6-14502f3e6fd8",
   "metadata": {},
   "outputs": [],
   "source": []
  },
  {
   "cell_type": "code",
   "execution_count": null,
   "id": "b2918e7e-64ac-4fc1-8451-e82bb595b3a9",
   "metadata": {},
   "outputs": [],
   "source": []
  }
 ],
 "metadata": {
  "kernelspec": {
   "display_name": "Python 3 (ipykernel)",
   "language": "python",
   "name": "python3"
  },
  "language_info": {
   "codemirror_mode": {
    "name": "ipython",
    "version": 3
   },
   "file_extension": ".py",
   "mimetype": "text/x-python",
   "name": "python",
   "nbconvert_exporter": "python",
   "pygments_lexer": "ipython3",
   "version": "3.10.2"
  }
 },
 "nbformat": 4,
 "nbformat_minor": 5
}
