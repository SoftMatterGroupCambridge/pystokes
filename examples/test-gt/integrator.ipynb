{
 "cells": [
  {
   "cell_type": "code",
   "execution_count": 1,
   "id": "5ea0c3ca-ea9b-48e6-b764-e9c35a71f626",
   "metadata": {},
   "outputs": [],
   "source": [
    "%matplotlib inline\n",
    "from linearSolve import linearSolve_direct\n",
    "import numpy as np, matplotlib.pyplot as plt\n",
    "import pystokes\n",
    "import matelms as me"
   ]
  },
  {
   "cell_type": "code",
   "execution_count": 2,
   "id": "ecbf7872-d544-4d59-b3fe-cd1ab4237802",
   "metadata": {},
   "outputs": [],
   "source": [
    "def rotation(vector,alpha, beta, gamma):\n",
    "    rotmat = np.array([[np.cos(beta)*np.cos(gamma), np.sin(alpha)*np.sin(beta)*np.cos(gamma) \n",
    "                        - np.cos(alpha)*np.sin(gamma), np.cos(alpha)*np.sin(beta)*np.cos(gamma)\n",
    "                        + np.sin(alpha)*np.sin(gamma)],\n",
    "                       [np.cos(beta)*np.sin(gamma),\n",
    "                        np.sin(alpha)*np.sin(beta)*np.sin(gamma) + np.cos(alpha)*np.cos(gamma),\n",
    "                        np.cos(alpha)*np.sin(beta)*np.sin(gamma) - np.sin(alpha)*np.cos(gamma)],\n",
    "                       [-np.sin(beta),\n",
    "                        np.sin(alpha)*np.cos(beta),\n",
    "                        np.cos(alpha)*np.cos(beta)]])\n",
    "    return np.dot(rotmat, vector)"
   ]
  },
  {
   "cell_type": "code",
   "execution_count": 3,
   "id": "1b6243c6-c5e2-4038-adeb-ece207c276e8",
   "metadata": {},
   "outputs": [],
   "source": [
    "# particle radius, self-propulsion speed, number and fluid viscosity\n",
    "b, Np, eta = 1.0, 2, 0.1\n",
    "\n",
    "## squirmer\n",
    "D0  = 1.      \n",
    "S0  = 3/50*D0    # beta = 1 (positive beta is a puller (negative V2s)) - not sure which sign!"
   ]
  },
  {
   "cell_type": "code",
   "execution_count": 4,
   "id": "36559b20-ed76-4701-a56f-16d30a3ee2dd",
   "metadata": {},
   "outputs": [],
   "source": [
    "## initialise \n",
    "#initial position\n",
    "r = np.array([-1.5,1.5, 0.,0. , 0., 0.])\n",
    "\n",
    "#initial orientation\n",
    "p = np.array([0., 0., 0.,0., 1.,1.])\n",
    "\n",
    "##rotate particles 50deg towards each other\n",
    "p[::Np] = rotation(p[::Np], 0., 25*2*np.pi/360, 0.)\n",
    "p[1::Np] = rotation(p[1::Np], 0., -25*2*np.pi/360, 0.)\n",
    "\n",
    "\n",
    "# initial slip modes\n",
    "S = np.zeros(5*Np)\n",
    "D = np.zeros(3*Np)\n",
    "for i in range(Np):\n",
    "    ## S in order: xx, xy, xz, yy, yz\n",
    "    S[i]       = S0*(3*p[i]*p[i] -1.)\n",
    "    S[i + Np]  = S0*(3*p[i]*p[i+Np])\n",
    "    S[i + 2*Np]= S0*(3*p[i]*p[i+2*Np])\n",
    "    S[i + 3*Np]= S0*(3*p[i+Np]*p[i+Np]-1.)\n",
    "    S[i + 4*Np]= S0*(3*p[i+Np]*p[i+2*Np])\n",
    "    \n",
    "    D[i]       = D0*p[i]\n",
    "    D[i+Np]    = D0*p[i+Np]\n",
    "    D[i+2*Np]  = D0*p[i+2*Np]"
   ]
  },
  {
   "cell_type": "code",
   "execution_count": 5,
   "id": "a743ca23-ca83-41f2-b9d7-fd206cc1deeb",
   "metadata": {},
   "outputs": [],
   "source": [
    "def rhs(rp): ##change this to give polarisation directly\n",
    "    \"\"\"\n",
    "    Function that gives rhs for equations dr/dt=v and dp/dt= o x p\n",
    "    \"\"\"\n",
    "    \n",
    "    #position and angle theta (relative to initial angle)\n",
    "    r = rp[0:3*Np]; p = rp[3*Np:6*Np]\n",
    "    \n",
    "    F, T, v, o = np.zeros(3*Np), np.zeros(3*Np), np.zeros(3*Np), np.zeros(3*Np)\n",
    "    \n",
    "    for i in range(Np):          \n",
    "        F[i]      = 0.0\n",
    "        F[i+Np]   = 0.0 \n",
    "        F[i+2*Np] = 0.0 ##gravity in negative z-direction\n",
    "        \n",
    "        T[i]      = 0.0\n",
    "        T[i+Np]   = 0.0\n",
    "        T[i+2*Np] = 0.0\n",
    "        \n",
    "        v[i]      = 0.0\n",
    "        v[i+Np]   = 0.0\n",
    "        v[i+2*Np] = 0.0\n",
    "        \n",
    "        o[i]      = 0.0\n",
    "        o[i+Np]   = 0.0\n",
    "        o[i+2*Np] = 0.0\n",
    "        \n",
    "        \n",
    "        S[i]       = S0*(3*p[i]*p[i] - 1.)\n",
    "        S[i + Np]  = S0*(3*p[i]*p[i+Np])\n",
    "        S[i + 2*Np]= S0*(3*p[i]*p[i+2*Np])\n",
    "        S[i + 3*Np]= S0*(3*p[i+Np]*p[i+Np] - 1.)\n",
    "        S[i + 4*Np]= S0*(3*p[i+Np]*p[i+2*Np])\n",
    "        \n",
    "        D[i]       = D0*p[i]\n",
    "        D[i+Np]    = D0*p[i+Np]\n",
    "        D[i+2*Np]  = D0*p[i+2*Np]\n",
    "\n",
    "    \n",
    "    #update repulsive force at position r\n",
    "    forces.lennardJones(F, r, lje=5.0, ljr=2.1*b)\n",
    "    \n",
    "    #update velocity and angular velocity at r, acted on by F and T, and with slip modes S an D\n",
    "    #ds.directSolve_new(v, o, r, F, T, S, D, rcond=1e-2)\n",
    "    ls.RBM(v, o, r, F, T, S, D)\n",
    "    \n",
    "    dpdt = np.zeros(3*Np)\n",
    "    \n",
    "    for i in range(Np):\n",
    "        dpdt[i]      = o[i+Np]*p[i+2*Np] - o[i+2*Np]*p[i+Np]    \n",
    "        dpdt[i+Np]   = o[i+2*Np]*p[i   ] - o[i     ]*p[i+2*Np]  \n",
    "        dpdt[i+2*Np] = o[i     ]*p[i+Np] - o[i+Np  ]*p[i]\n",
    "        \n",
    "\n",
    "    \n",
    "    #return velocity and angular velocity cross orientation as right-hand side\n",
    "    return np.concatenate( (v,dpdt) )"
   ]
  },
  {
   "cell_type": "code",
   "execution_count": 6,
   "id": "7b7c0a9b-b5c9-462c-a19e-5fe8f9789fcc",
   "metadata": {},
   "outputs": [],
   "source": [
    "def simulate(rth0, Tf, Npts, rhs, integrator='solve_ivp', Ti=0, maxNumSteps=100000, **kwargs):\n",
    "    \n",
    "    def dxdtEval(rth,t):\n",
    "        return rhs(rth)\n",
    "    \n",
    "    if integrator=='BDF': ## weird handling for this method\n",
    "        from scipy.integrate import BDF\n",
    "        X = BDF(lambda t, xt: dxdtEval(xt,t), Ti, rth0, Tf)\n",
    "        \n",
    "    if integrator=='odeint':\n",
    "        from scipy.integrate import odeint\n",
    "        time_points=np.linspace(Ti, Tf, Npts+1);\n",
    "        X = odeint(dxdtEval, rth0, time_points, mxstep=maxNumSteps, **kwargs)\n",
    "        \n",
    "    if integrator=='solve_ivp':\n",
    "        from scipy.integrate import solve_ivp\n",
    "        time_points=np.linspace(Ti, Tf, Npts+1)                                                          \n",
    "        X = solve_ivp(lambda t, xt: dxdtEval(xt,t), [0,Tf], rth0, \n",
    "                         t_eval=None, **kwargs)\n",
    "        \n",
    "    return X"
   ]
  },
  {
   "cell_type": "code",
   "execution_count": 7,
   "id": "b5a11523-3b97-4e06-921b-050f7da5c504",
   "metadata": {},
   "outputs": [
    {
     "data": {
      "text/plain": [
       "'The solver successfully reached the end of the integration interval.'"
      ]
     },
     "execution_count": 7,
     "metadata": {},
     "output_type": "execute_result"
    }
   ],
   "source": [
    "#initiallize system and forces\n",
    "ls = linearSolve_direct(b, Np, eta)\n",
    "forces  = pystokes.forceFields.Forces(particles=Np)\n",
    "\n",
    "#simulate the resulting system\n",
    "rp0 = np.concatenate((r,p))\n",
    "Tf = 200.\n",
    "Npts = 10\n",
    "\n",
    "X = simulate(rp0, Tf, Npts, rhs, integrator='solve_ivp', Ti=0, maxNumSteps=1000,\n",
    "             method='BDF')\n",
    "X.message"
   ]
  },
  {
   "cell_type": "code",
   "execution_count": 8,
   "id": "33c96680-c924-4494-b208-85cbca872c42",
   "metadata": {},
   "outputs": [],
   "source": [
    "pos = X.y.T[:,0:3*Np]\n",
    "times = X.t"
   ]
  },
  {
   "cell_type": "code",
   "execution_count": 9,
   "id": "194e9686-4e5c-4ace-872a-406ba07a8895",
   "metadata": {},
   "outputs": [],
   "source": [
    "pos1 = pos[:,::Np]\n",
    "pos2 = pos[:,1::Np]"
   ]
  },
  {
   "cell_type": "code",
   "execution_count": 10,
   "id": "e4b57072-f7c2-47bc-910d-a26c3a407c40",
   "metadata": {},
   "outputs": [
    {
     "data": {
      "image/png": "[encoded data removed]",
      "text/plain": [
       "<Figure size 432x288 with 1 Axes>"
      ]
     },
     "metadata": {
      "needs_background": "light"
     },
     "output_type": "display_data"
    }
   ],
   "source": [
    "##x-y plot like in Ishikawa\n",
    "plt.plot(pos1[:,0], pos1[:,2], label='particle 1')\n",
    "plt.plot(pos2[:,0], pos2[:,2], label='particle 2')\n",
    "plt.xlabel('x')\n",
    "plt.ylabel('z')\n",
    "plt.xlim(-10,10)\n",
    "plt.legend()\n",
    "plt.show()"
   ]
  },
  {
   "cell_type": "code",
   "execution_count": 11,
   "id": "5a3a740c-7969-4e41-83c1-89b0d2dc5f05",
   "metadata": {},
   "outputs": [
    {
     "data": {
      "text/plain": [
       "(2.0539647349707937, 3.6734154895381783)"
      ]
     },
     "execution_count": 11,
     "metadata": {},
     "output_type": "execute_result"
    }
   ],
   "source": [
    "## minimum distance between the two particles\n",
    "rmin = np.amin(np.sqrt((pos1[:,0]-pos2[:,0])**2 + (pos1[:,1]-pos2[:,1])**2 + (pos1[:,2]-pos2[:,2])**2))\n",
    "rmax = np.amax(np.sqrt((pos1[:,0]-pos2[:,0])**2 + (pos1[:,1]-pos2[:,1])**2 + (pos1[:,2]-pos2[:,2])**2))\n",
    "rmin, rmax"
   ]
  },
  {
   "cell_type": "code",
   "execution_count": 12,
   "id": "b6c65c53-5a97-4676-9733-7f7ef9f361e4",
   "metadata": {},
   "outputs": [
    {
     "data": {
      "text/plain": [
       "(array([18]),)"
      ]
     },
     "execution_count": 12,
     "metadata": {},
     "output_type": "execute_result"
    }
   ],
   "source": [
    "minIndex = np.where(np.sqrt((pos1[:,0]-pos2[:,0])**2 + (pos1[:,1]-pos2[:,1])**2 + (pos1[:,2]-pos2[:,2])**2)==rmin)\n",
    "#minIndex[0][0] -= 18\n",
    "xik,yik,zik = (pos1[minIndex,:]-pos2[minIndex,:])[0][0]\n",
    "minIndex"
   ]
  },
  {
   "cell_type": "code",
   "execution_count": 13,
   "id": "f8f5010c-d0e3-4a83-a4da-b79d25a63b20",
   "metadata": {},
   "outputs": [
    {
     "data": {
      "text/plain": [
       "(-2.0539647349707937, 0.0, 6.217248937900877e-14)"
      ]
     },
     "execution_count": 13,
     "metadata": {},
     "output_type": "execute_result"
    }
   ],
   "source": [
    "xik,yik,zik ##they go out of plane? not anymore! "
   ]
  },
  {
   "cell_type": "code",
   "execution_count": null,
   "id": "d0e29cec-6a99-498e-a73c-c24352ec46b2",
   "metadata": {},
   "outputs": [],
   "source": []
  },
  {
   "cell_type": "code",
   "execution_count": null,
   "id": "079ee3f8-84a4-4cf3-8f93-02a2b2855cc1",
   "metadata": {},
   "outputs": [],
   "source": []
  },
  {
   "cell_type": "code",
   "execution_count": null,
   "id": "7e7d1681-dfca-4582-ba47-454f70569186",
   "metadata": {},
   "outputs": [],
   "source": []
  },
  {
   "cell_type": "code",
   "execution_count": null,
   "id": "d52bcb2d-c48f-4bfa-b743-dd6f5fbe81e6",
   "metadata": {},
   "outputs": [],
   "source": []
  }
 ],
 "metadata": {
  "kernelspec": {
   "display_name": "Python 3 (ipykernel)",
   "language": "python",
   "name": "python3"
  },
  "language_info": {
   "codemirror_mode": {
    "name": "ipython",
    "version": 3
   },
   "file_extension": ".py",
   "mimetype": "text/x-python",
   "name": "python",
   "nbconvert_exporter": "python",
   "pygments_lexer": "ipython3",
   "version": "3.10.2"
  }
 },
 "nbformat": 4,
 "nbformat_minor": 5
}
