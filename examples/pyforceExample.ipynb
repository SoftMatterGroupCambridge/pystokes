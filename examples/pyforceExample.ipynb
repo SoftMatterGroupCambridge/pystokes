{
 "cells": [
  {
   "cell_type": "code",
   "execution_count": 1,
   "metadata": {},
   "outputs": [],
   "source": [
    "%matplotlib inline\n",
    "import pystokes, pyforces\n",
    "import numpy as np, matplotlib.pyplot as plt"
   ]
  },
  {
   "cell_type": "code",
   "execution_count": 2,
   "metadata": {},
   "outputs": [],
   "source": [
    "# particle radius, self-propulsion speed, fluid viscosity\n",
    "b, vs, eta = 1.0, 0.4, 0.1\n",
    "\n",
    "Nf, nm  = 2, 3                            # Nf: number of polymers and nm is number of monomer\n",
    "kSpring, kBond = 1, 4                     # kSpring: stiffness of the spring and kBond: is natural length \n",
    "Np = Nf*nm\n",
    "\n",
    "\n",
    "rbm    = pystokes.unbounded.Rbm(radius=b, particles=Np, viscosity=eta)\n",
    "forces = pyforces.forceFields.Forces(particles=Np)"
   ]
  },
  {
   "cell_type": "code",
   "execution_count": 3,
   "metadata": {},
   "outputs": [],
   "source": [
    "## initialize\n",
    "r0 = np.zeros(3*Np)\n",
    "r  = np.zeros(3*Np)\n",
    "p  = np.zeros(3*Np)\n",
    "\n",
    "\n",
    "# initialize the positions\n",
    "k=0\n",
    "for i in range(Nf):\n",
    "    for j in range(nm):\n",
    "        r0[k]    = -5 + i*10\n",
    "        r0[k+Np] = -5+kBond*j\n",
    "        k = k+1\n",
    "\n",
    "\n",
    "def filamentOrientation(p, r):\n",
    "    \"update the orientation of filaments given their position\"\n",
    "    for i in range(Np):\n",
    "        if i == Np-1:\n",
    "            #p[i]    = r[i]        - r[i-1]  \n",
    "            p[i+Np] = r[i+Np]     - r[i+Np-1] \n",
    "            #p[i+2*Np] = r[i+2*Np] - r[i+2*Np-1] \n",
    "        else:\n",
    "            #p[i]      = r[i+1]      - r[i]\n",
    "            p[i+Np]   = r[i+Np+1]   - r[i+Np]\n",
    "            #p[i+2*Np] = r[i+2*Np+1] - r[i+2*Np]\n",
    "\n",
    "        modp = np.sqrt( p[i]*p[i] + p[i+Np]*p[i+Np] + p[i+2*Np]*p[i+2*Np] )\n",
    "        p[i]      = p[i]   /modp\n",
    "        p[i+Np]   = p[i+Np]/modp\n",
    "        p[i+2*Np] = p[i+2*Np]/modp\n",
    "    return p\n",
    "\n",
    "\n",
    "def configPlot(r):\n",
    "    \"plot the position of the particles\"\n",
    "    x, y = r[0:Np], r[Np:2*Np]\n",
    "    plt.plot(x, y, 'o', ms=20)\n",
    "    plt.xlim(-np.max(x)-20, 20+np.max(x));    plt.ylim(-np.max(y)-20, 20+-np.max(x))"
   ]
  },
  {
   "cell_type": "code",
   "execution_count": 4,
   "metadata": {},
   "outputs": [],
   "source": [
    "ljeps=.01; ljrmin=4\n",
    "\n",
    "def simulate(Nt, dt, V2s0, r, p):\n",
    "    F  = np.zeros(3*Np)\n",
    "    v  = np.zeros(3*Np)\n",
    "\n",
    "    for i in range(Nt):\n",
    "        v, F = v*0, F*0\n",
    "        p   = filamentOrientation(p, r)\n",
    "        V2s = V2s0*pystokes.utils.irreducibleTensors(2, p)\n",
    "\n",
    "        forces.lennardJones (F, r, ljeps, ljrmin )\n",
    "        forces.spring(F, r, kBond, kSpring)\n",
    "        rbm.mobilityTT(v, r, F)\n",
    "\n",
    "        rbm.propulsionT2s(v, r, V2s)\n",
    "        r = r + v*dt\n",
    "        #print (np.max(F), np.max(v), i)\n",
    "\n",
    "        if i%200==0:\n",
    "            configPlot(r)\n",
    "            plt.show()\n"
   ]
  },
  {
   "cell_type": "code",
   "execution_count": 5,
   "metadata": {},
   "outputs": [
    {
     "data": {
      "image/png": "[encoded data removed]",
      "text/plain": [
       "<Figure size 432x288 with 1 Axes>"
      ]
     },
     "metadata": {
      "needs_background": "light"
     },
     "output_type": "display_data"
    },
    {
     "data": {
      "image/png": "[encoded data removed]",
      "text/plain": [
       "<Figure size 432x288 with 1 Axes>"
      ]
     },
     "metadata": {
      "needs_background": "light"
     },
     "output_type": "display_data"
    },
    {
     "data": {
      "image/png": "[encoded data removed]",
      "text/plain": [
       "<Figure size 432x288 with 1 Axes>"
      ]
     },
     "metadata": {
      "needs_background": "light"
     },
     "output_type": "display_data"
    }
   ],
   "source": [
    "Nt, dt = 300, 0.01\n",
    "V2s0 = 1. # strength of V2s mode the slip\n",
    "r = r0\n",
    "configPlot(r)\n",
    "\n",
    "plt.figure()\n",
    "simulate(Nt, dt, V2s0, r, p)"
   ]
  }
 ],
 "metadata": {
  "kernelspec": {
   "display_name": "Python 3",
   "language": "python",
   "name": "python3"
  },
  "language_info": {
   "codemirror_mode": {
    "name": "ipython",
    "version": 3
   },
   "file_extension": ".py",
   "mimetype": "text/x-python",
   "name": "python",
   "nbconvert_exporter": "python",
   "pygments_lexer": "ipython3",
   "version": "3.7.3"
  }
 },
 "nbformat": 4,
 "nbformat_minor": 2
}
