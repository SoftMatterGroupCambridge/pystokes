{
 "cells": [
  {
   "cell_type": "markdown",
   "metadata": {},
   "source": [
    "## Mobility of a sedimenting lattice as a function of volume fraction\n"
   ]
  },
  {
   "cell_type": "code",
   "execution_count": 1,
   "metadata": {},
   "outputs": [],
   "source": [
    "%matplotlib inline\n",
    "import matplotlib.pyplot as plt \n",
    "import numpy as np\n",
    "import pystokes, os, sys\n"
   ]
  },
  {
   "cell_type": "code",
   "execution_count": 5,
   "metadata": {},
   "outputs": [],
   "source": [
    "#Parameters\n",
    "Np=1\n",
    "a, eta, dim = 1.0, 1.0/6, 3\n",
    "ta =(4*np.pi/3)**(1.0/3) \n",
    "L = ta/np.asarray([0.1, 0.3, 0.4, 0.5, 0.6, 0.7, 0.7663094323935531, 0.8059966052641452])\n",
    "\n",
    "# Memory allocation\n",
    "v = np.zeros(dim*Np)         \n",
    "r = np.zeros(dim*Np)        \n",
    "F = np.zeros(dim*Np)  \n",
    "vv  = np.zeros(np.size(L))\n",
    "phi = np.zeros(np.size(L) )\n",
    "\n",
    "mu=1.0/(6*np.pi*eta*a)"
   ]
  },
  {
   "cell_type": "code",
   "execution_count": 6,
   "metadata": {},
   "outputs": [
    {
     "data": {
      "text/plain": [
       "array([16.11991954,  5.37330651,  4.02997989,  3.22398391,  2.68665326,\n",
       "        2.30284565,  2.10357838,  1.99999844])"
      ]
     },
     "execution_count": 6,
     "metadata": {},
     "output_type": "execute_result"
    }
   ],
   "source": [
    "L"
   ]
  },
  {
   "cell_type": "code",
   "execution_count": 15,
   "metadata": {},
   "outputs": [
    {
     "name": "stdout",
     "output_type": "stream",
     "text": [
      "[-3.78825005e-20 -1.23616926e-20 -2.62589386e-01]\n",
      "[ 5.06901980e-21  2.23302946e-21 -1.58748085e-01]\n",
      "[ 8.54741786e-20 -1.90037731e-20 -1.14427133e-01]\n",
      "[-7.80203882e-20 -2.24405883e-19 -7.77058804e-02]\n",
      "[-1.03674112e-19 -8.45414639e-20 -5.04842512e-02]\n",
      "[ 6.25730137e-19 -7.89225476e-19 -3.46621702e-02]\n",
      "[-1.02985216e-20 -8.15620753e-19 -3.13862422e-02]\n",
      "[-4.84397577e-19  1.09272084e-18 -3.24524231e-02]\n"
     ]
    },
    {
     "data": {
      "image/png": "[encoded data removed]",
      "text/plain": [
       "<Figure size 432x288 with 1 Axes>"
      ]
     },
     "metadata": {
      "needs_background": "light"
     },
     "output_type": "display_data"
    },
    {
     "name": "stdout",
     "output_type": "stream",
     "text": [
      "volume fraction   simulation\t Zick & Homsy (1982)\n",
      "0.001\t\t  0.825\t\t 0.825\t\n",
      "0.027\t\t  0.499\t\t 0.498\t\n",
      "0.064\t\t  0.359\t\t 0.356\t\n",
      "0.125\t\t  0.244\t\t 0.233\t\n",
      "0.216\t\t  0.159\t\t 0.134\t\n",
      "0.343\t\t  0.109\t\t 0.065\t\n",
      "0.450\t\t  0.099\t\t 0.036\t\n",
      "0.524\t\t  0.102\t\t 0.024\t\n"
     ]
    }
   ],
   "source": [
    "# Deafult value of xi = sqrt (pi/L)\n",
    "\n",
    "Nb, Nm = 1, 4   \n",
    "# 2Nb+1 periodic boxes and Nm modes\n",
    "\n",
    "\n",
    "for i in range(np.size(L)):\n",
    "    v = v*0\n",
    "    F = F*0\n",
    "\n",
    "    r[0], r[1], r[2] = 0.0, 0.0, 0.0\n",
    "\n",
    "    ff = pystokes.forceFields.Forces(Np)\n",
    "    ff.sedimentation(F, g=-1)                          \n",
    "    \n",
    "    pRbm = pystokes.periodic.Rbm(a, Np, eta, L[i], xi=1.0*np.sqrt(np.pi)/L[i])   \n",
    "    pRbm.mobilityTT(v, r, F, Nb, Nm)      \n",
    "    print(v)\n",
    "    \n",
    "    phi[i] = (4*np.pi*a**3)/(3*L[i]**3)\n",
    "    mu00 = mu*F[2]\n",
    "    vv[i] = v[2]/mu00   \n",
    "    \n",
    "\n",
    "exR = [.825, .498, .356, .233, .134, .065, 0.036, 0.024]\n",
    "plt.plot(phi, exR, 'd', color=\"#348ABD\", label='Zick and Homsy')\n",
    "plt.plot(phi, vv, 'o', color=\"#A60628\", label='Simulation')\n",
    "\n",
    "plt.xlabel(r'$\\phi$', fontsize=20); plt.ylabel(r'$\\mu/\\mu_0$', fontsize=20)\n",
    "#plt.legend(loc='upper right', shadow=True)\n",
    "plt.show()\n",
    "\n",
    "print ('volume fraction   simulation\\t Zick & Homsy (1982)')\n",
    "for i in range(np.size(L)):\n",
    "    print ('%1.3f\\t\\t  %1.3f\\t\\t %1.3f\\t'%(phi[i], vv[i], exR[i] ))"
   ]
  },
  {
   "cell_type": "code",
   "execution_count": 8,
   "metadata": {},
   "outputs": [
    {
     "ename": "ValueError",
     "evalue": "x and y must have same first dimension, but have shapes (8,) and (6,)",
     "output_type": "error",
     "traceback": [
      "\u001b[0;31m---------------------------------------------------------------------------\u001b[0m",
      "\u001b[0;31mValueError\u001b[0m                                Traceback (most recent call last)",
      "Input \u001b[0;32mIn [8]\u001b[0m, in \u001b[0;36m<module>\u001b[0;34m\u001b[0m\n\u001b[1;32m     23\u001b[0m     vv[i] \u001b[38;5;241m=\u001b[39m v[\u001b[38;5;241m2\u001b[39m]\u001b[38;5;241m/\u001b[39mmu00   \n\u001b[1;32m     26\u001b[0m exR \u001b[38;5;241m=\u001b[39m [\u001b[38;5;241m.825\u001b[39m, \u001b[38;5;241m.498\u001b[39m, \u001b[38;5;241m.356\u001b[39m, \u001b[38;5;241m.233\u001b[39m, \u001b[38;5;241m.134\u001b[39m, \u001b[38;5;241m.065\u001b[39m]\n\u001b[0;32m---> 27\u001b[0m \u001b[43mplt\u001b[49m\u001b[38;5;241;43m.\u001b[39;49m\u001b[43mplot\u001b[49m\u001b[43m(\u001b[49m\u001b[43mphi\u001b[49m\u001b[43m,\u001b[49m\u001b[43m \u001b[49m\u001b[43mexR\u001b[49m\u001b[43m,\u001b[49m\u001b[43m \u001b[49m\u001b[38;5;124;43m'\u001b[39;49m\u001b[38;5;124;43md\u001b[39;49m\u001b[38;5;124;43m'\u001b[39;49m\u001b[43m,\u001b[49m\u001b[43m \u001b[49m\u001b[43mcolor\u001b[49m\u001b[38;5;241;43m=\u001b[39;49m\u001b[38;5;124;43m\"\u001b[39;49m\u001b[38;5;124;43m#348ABD\u001b[39;49m\u001b[38;5;124;43m\"\u001b[39;49m\u001b[43m,\u001b[49m\u001b[43m \u001b[49m\u001b[43mlabel\u001b[49m\u001b[38;5;241;43m=\u001b[39;49m\u001b[38;5;124;43m'\u001b[39;49m\u001b[38;5;124;43mZick and Homsy\u001b[39;49m\u001b[38;5;124;43m'\u001b[39;49m\u001b[43m)\u001b[49m\n\u001b[1;32m     28\u001b[0m plt\u001b[38;5;241m.\u001b[39mplot(phi, vv, \u001b[38;5;124m'\u001b[39m\u001b[38;5;124mo\u001b[39m\u001b[38;5;124m'\u001b[39m, color\u001b[38;5;241m=\u001b[39m\u001b[38;5;124m\"\u001b[39m\u001b[38;5;124m#A60628\u001b[39m\u001b[38;5;124m\"\u001b[39m, label\u001b[38;5;241m=\u001b[39m\u001b[38;5;124m'\u001b[39m\u001b[38;5;124mSimulation\u001b[39m\u001b[38;5;124m'\u001b[39m)\n\u001b[1;32m     30\u001b[0m plt\u001b[38;5;241m.\u001b[39mxlabel(\u001b[38;5;124mr\u001b[39m\u001b[38;5;124m'\u001b[39m\u001b[38;5;124m$\u001b[39m\u001b[38;5;124m\\\u001b[39m\u001b[38;5;124mphi$\u001b[39m\u001b[38;5;124m'\u001b[39m, fontsize\u001b[38;5;241m=\u001b[39m\u001b[38;5;241m20\u001b[39m); plt\u001b[38;5;241m.\u001b[39mylabel(\u001b[38;5;124mr\u001b[39m\u001b[38;5;124m'\u001b[39m\u001b[38;5;124m$\u001b[39m\u001b[38;5;124m\\\u001b[39m\u001b[38;5;124mmu/\u001b[39m\u001b[38;5;124m\\\u001b[39m\u001b[38;5;124mmu_0$\u001b[39m\u001b[38;5;124m'\u001b[39m, fontsize\u001b[38;5;241m=\u001b[39m\u001b[38;5;241m20\u001b[39m)\n",
      "File \u001b[0;32m/store/SOFT/gt369/Software/anaconda3/envs/pystokes/lib/python3.10/site-packages/matplotlib/pyplot.py:2757\u001b[0m, in \u001b[0;36mplot\u001b[0;34m(scalex, scaley, data, *args, **kwargs)\u001b[0m\n\u001b[1;32m   2755\u001b[0m \u001b[38;5;129m@_copy_docstring_and_deprecators\u001b[39m(Axes\u001b[38;5;241m.\u001b[39mplot)\n\u001b[1;32m   2756\u001b[0m \u001b[38;5;28;01mdef\u001b[39;00m \u001b[38;5;21mplot\u001b[39m(\u001b[38;5;241m*\u001b[39margs, scalex\u001b[38;5;241m=\u001b[39m\u001b[38;5;28;01mTrue\u001b[39;00m, scaley\u001b[38;5;241m=\u001b[39m\u001b[38;5;28;01mTrue\u001b[39;00m, data\u001b[38;5;241m=\u001b[39m\u001b[38;5;28;01mNone\u001b[39;00m, \u001b[38;5;241m*\u001b[39m\u001b[38;5;241m*\u001b[39mkwargs):\n\u001b[0;32m-> 2757\u001b[0m     \u001b[38;5;28;01mreturn\u001b[39;00m \u001b[43mgca\u001b[49m\u001b[43m(\u001b[49m\u001b[43m)\u001b[49m\u001b[38;5;241;43m.\u001b[39;49m\u001b[43mplot\u001b[49m\u001b[43m(\u001b[49m\n\u001b[1;32m   2758\u001b[0m \u001b[43m        \u001b[49m\u001b[38;5;241;43m*\u001b[39;49m\u001b[43margs\u001b[49m\u001b[43m,\u001b[49m\u001b[43m \u001b[49m\u001b[43mscalex\u001b[49m\u001b[38;5;241;43m=\u001b[39;49m\u001b[43mscalex\u001b[49m\u001b[43m,\u001b[49m\u001b[43m \u001b[49m\u001b[43mscaley\u001b[49m\u001b[38;5;241;43m=\u001b[39;49m\u001b[43mscaley\u001b[49m\u001b[43m,\u001b[49m\n\u001b[1;32m   2759\u001b[0m \u001b[43m        \u001b[49m\u001b[38;5;241;43m*\u001b[39;49m\u001b[38;5;241;43m*\u001b[39;49m\u001b[43m(\u001b[49m\u001b[43m{\u001b[49m\u001b[38;5;124;43m\"\u001b[39;49m\u001b[38;5;124;43mdata\u001b[39;49m\u001b[38;5;124;43m\"\u001b[39;49m\u001b[43m:\u001b[49m\u001b[43m \u001b[49m\u001b[43mdata\u001b[49m\u001b[43m}\u001b[49m\u001b[43m \u001b[49m\u001b[38;5;28;43;01mif\u001b[39;49;00m\u001b[43m \u001b[49m\u001b[43mdata\u001b[49m\u001b[43m \u001b[49m\u001b[38;5;129;43;01mis\u001b[39;49;00m\u001b[43m \u001b[49m\u001b[38;5;129;43;01mnot\u001b[39;49;00m\u001b[43m \u001b[49m\u001b[38;5;28;43;01mNone\u001b[39;49;00m\u001b[43m \u001b[49m\u001b[38;5;28;43;01melse\u001b[39;49;00m\u001b[43m \u001b[49m\u001b[43m{\u001b[49m\u001b[43m}\u001b[49m\u001b[43m)\u001b[49m\u001b[43m,\u001b[49m\u001b[43m \u001b[49m\u001b[38;5;241;43m*\u001b[39;49m\u001b[38;5;241;43m*\u001b[39;49m\u001b[43mkwargs\u001b[49m\u001b[43m)\u001b[49m\n",
      "File \u001b[0;32m/store/SOFT/gt369/Software/anaconda3/envs/pystokes/lib/python3.10/site-packages/matplotlib/axes/_axes.py:1632\u001b[0m, in \u001b[0;36mAxes.plot\u001b[0;34m(self, scalex, scaley, data, *args, **kwargs)\u001b[0m\n\u001b[1;32m   1390\u001b[0m \u001b[38;5;124;03m\"\"\"\u001b[39;00m\n\u001b[1;32m   1391\u001b[0m \u001b[38;5;124;03mPlot y versus x as lines and/or markers.\u001b[39;00m\n\u001b[1;32m   1392\u001b[0m \n\u001b[0;32m   (...)\u001b[0m\n\u001b[1;32m   1629\u001b[0m \u001b[38;5;124;03m(``'green'``) or hex strings (``'#008000'``).\u001b[39;00m\n\u001b[1;32m   1630\u001b[0m \u001b[38;5;124;03m\"\"\"\u001b[39;00m\n\u001b[1;32m   1631\u001b[0m kwargs \u001b[38;5;241m=\u001b[39m cbook\u001b[38;5;241m.\u001b[39mnormalize_kwargs(kwargs, mlines\u001b[38;5;241m.\u001b[39mLine2D)\n\u001b[0;32m-> 1632\u001b[0m lines \u001b[38;5;241m=\u001b[39m [\u001b[38;5;241m*\u001b[39m\u001b[38;5;28mself\u001b[39m\u001b[38;5;241m.\u001b[39m_get_lines(\u001b[38;5;241m*\u001b[39margs, data\u001b[38;5;241m=\u001b[39mdata, \u001b[38;5;241m*\u001b[39m\u001b[38;5;241m*\u001b[39mkwargs)]\n\u001b[1;32m   1633\u001b[0m \u001b[38;5;28;01mfor\u001b[39;00m line \u001b[38;5;129;01min\u001b[39;00m lines:\n\u001b[1;32m   1634\u001b[0m     \u001b[38;5;28mself\u001b[39m\u001b[38;5;241m.\u001b[39madd_line(line)\n",
      "File \u001b[0;32m/store/SOFT/gt369/Software/anaconda3/envs/pystokes/lib/python3.10/site-packages/matplotlib/axes/_base.py:312\u001b[0m, in \u001b[0;36m_process_plot_var_args.__call__\u001b[0;34m(self, data, *args, **kwargs)\u001b[0m\n\u001b[1;32m    310\u001b[0m     this \u001b[38;5;241m+\u001b[39m\u001b[38;5;241m=\u001b[39m args[\u001b[38;5;241m0\u001b[39m],\n\u001b[1;32m    311\u001b[0m     args \u001b[38;5;241m=\u001b[39m args[\u001b[38;5;241m1\u001b[39m:]\n\u001b[0;32m--> 312\u001b[0m \u001b[38;5;28;01myield from\u001b[39;00m \u001b[38;5;28;43mself\u001b[39;49m\u001b[38;5;241;43m.\u001b[39;49m\u001b[43m_plot_args\u001b[49m\u001b[43m(\u001b[49m\u001b[43mthis\u001b[49m\u001b[43m,\u001b[49m\u001b[43m \u001b[49m\u001b[43mkwargs\u001b[49m\u001b[43m)\u001b[49m\n",
      "File \u001b[0;32m/store/SOFT/gt369/Software/anaconda3/envs/pystokes/lib/python3.10/site-packages/matplotlib/axes/_base.py:498\u001b[0m, in \u001b[0;36m_process_plot_var_args._plot_args\u001b[0;34m(self, tup, kwargs, return_kwargs)\u001b[0m\n\u001b[1;32m    495\u001b[0m     \u001b[38;5;28mself\u001b[39m\u001b[38;5;241m.\u001b[39maxes\u001b[38;5;241m.\u001b[39myaxis\u001b[38;5;241m.\u001b[39mupdate_units(y)\n\u001b[1;32m    497\u001b[0m \u001b[38;5;28;01mif\u001b[39;00m x\u001b[38;5;241m.\u001b[39mshape[\u001b[38;5;241m0\u001b[39m] \u001b[38;5;241m!=\u001b[39m y\u001b[38;5;241m.\u001b[39mshape[\u001b[38;5;241m0\u001b[39m]:\n\u001b[0;32m--> 498\u001b[0m     \u001b[38;5;28;01mraise\u001b[39;00m \u001b[38;5;167;01mValueError\u001b[39;00m(\u001b[38;5;124mf\u001b[39m\u001b[38;5;124m\"\u001b[39m\u001b[38;5;124mx and y must have same first dimension, but \u001b[39m\u001b[38;5;124m\"\u001b[39m\n\u001b[1;32m    499\u001b[0m                      \u001b[38;5;124mf\u001b[39m\u001b[38;5;124m\"\u001b[39m\u001b[38;5;124mhave shapes \u001b[39m\u001b[38;5;132;01m{\u001b[39;00mx\u001b[38;5;241m.\u001b[39mshape\u001b[38;5;132;01m}\u001b[39;00m\u001b[38;5;124m and \u001b[39m\u001b[38;5;132;01m{\u001b[39;00my\u001b[38;5;241m.\u001b[39mshape\u001b[38;5;132;01m}\u001b[39;00m\u001b[38;5;124m\"\u001b[39m)\n\u001b[1;32m    500\u001b[0m \u001b[38;5;28;01mif\u001b[39;00m x\u001b[38;5;241m.\u001b[39mndim \u001b[38;5;241m>\u001b[39m \u001b[38;5;241m2\u001b[39m \u001b[38;5;129;01mor\u001b[39;00m y\u001b[38;5;241m.\u001b[39mndim \u001b[38;5;241m>\u001b[39m \u001b[38;5;241m2\u001b[39m:\n\u001b[1;32m    501\u001b[0m     \u001b[38;5;28;01mraise\u001b[39;00m \u001b[38;5;167;01mValueError\u001b[39;00m(\u001b[38;5;124mf\u001b[39m\u001b[38;5;124m\"\u001b[39m\u001b[38;5;124mx and y can be no greater than 2D, but have \u001b[39m\u001b[38;5;124m\"\u001b[39m\n\u001b[1;32m    502\u001b[0m                      \u001b[38;5;124mf\u001b[39m\u001b[38;5;124m\"\u001b[39m\u001b[38;5;124mshapes \u001b[39m\u001b[38;5;132;01m{\u001b[39;00mx\u001b[38;5;241m.\u001b[39mshape\u001b[38;5;132;01m}\u001b[39;00m\u001b[38;5;124m and \u001b[39m\u001b[38;5;132;01m{\u001b[39;00my\u001b[38;5;241m.\u001b[39mshape\u001b[38;5;132;01m}\u001b[39;00m\u001b[38;5;124m\"\u001b[39m)\n",
      "\u001b[0;31mValueError\u001b[0m: x and y must have same first dimension, but have shapes (8,) and (6,)"
     ]
    },
    {
     "data": {
      "image/png": "[encoded data removed]",
      "text/plain": [
       "<Figure size 432x288 with 1 Axes>"
      ]
     },
     "metadata": {
      "needs_background": "light"
     },
     "output_type": "display_data"
    }
   ],
   "source": [
    "# Choose xi = 0.5*sqrt (pi/L)\n",
    "\n",
    "\n",
    "Nb, Nm = 1, 4   \n",
    "# 2Nb+1 periodic boxes and Nm modes\n",
    "\n",
    "\n",
    "for i in range(np.size(L)):\n",
    "    v = v*0\n",
    "    F = F*0\n",
    "\n",
    "    r[0], r[1], r[2] = 0.0, 0.0, 0.0\n",
    "\n",
    "    ff = pystokes.forceFields.Forces(Np)\n",
    "    ff.sedimentation(F, g=-1)                          \n",
    "    \n",
    "    xi = 0.5*np.sqrt(np.pi)/L[i]\n",
    "    pRbm = pystokes.periodic.Rbm(a, Np, eta, L[i], xi)   \n",
    "    pRbm.mobilityTT(v, r, F, Nb, Nm)                  \n",
    "    \n",
    "    phi[i] = (4*np.pi*a**3)/(3*L[i]**3)\n",
    "    mu00 = mu*F[2]\n",
    "    vv[i] = v[2]/mu00   \n",
    "    \n",
    "\n",
    "exR = [.825, .498, .356, .233, .134, .065]\n",
    "plt.plot(phi, exR, 'd', color=\"#348ABD\", label='Zick and Homsy')\n",
    "plt.plot(phi, vv, 'o', color=\"#A60628\", label='Simulation')\n",
    "\n",
    "plt.xlabel(r'$\\phi$', fontsize=20); plt.ylabel(r'$\\mu/\\mu_0$', fontsize=20)\n",
    "plt.legend(loc='upper right', shadow=True); plt.show()\n",
    "\n",
    "print ('volume fraction   simulation\\t Zick & Homsy (1982)')\n",
    "for i in range(np.size(L)):\n",
    "    print ('%1.3f\\t\\t  %1.3f\\t\\t %1.3f\\t'%(phi[i], vv[i], exR[i] ))"
   ]
  },
  {
   "cell_type": "code",
   "execution_count": null,
   "metadata": {},
   "outputs": [],
   "source": [
    "# Choose xi = 2*sqrt (pi/L)\n",
    "\n",
    "\n",
    "Nb, Nm = 1, 4   \n",
    "# 2Nb+1 periodic boxes and Nm modes\n",
    "\n",
    "\n",
    "for i in range(np.size(L)):\n",
    "    v = v*0\n",
    "    F = F*0\n",
    "\n",
    "    r[0], r[1], r[2] = 0.0, 0.0, 0.0\n",
    "\n",
    "    ff = pystokes.forceFields.Forces(Np)\n",
    "    ff.sedimentation(F, g=-1)                          \n",
    "    \n",
    "    xi = 2*np.sqrt(np.pi)/L[i]\n",
    "    pRbm = pystokes.periodic.Rbm(a, Np, eta, L[i])   \n",
    "    pRbm.mobilityTT(v, r, F, Nb, Nm, xi)                  \n",
    "    \n",
    "    phi[i] = (4*np.pi*a**3)/(3*L[i]**3)\n",
    "    mu00 = mu*F[2]\n",
    "    vv[i] = v[2]/mu00   \n",
    "    \n",
    "\n",
    "exR = [.825, .498, .356, .233, .134, .065]\n",
    "plt.plot(phi, exR, 'd', color=\"#348ABD\", label='Zick and Homsy')\n",
    "plt.plot(phi, vv, 'o', color=\"#A60628\", label='Simulation')\n",
    "\n",
    "plt.xlabel(r'$\\phi$', fontsize=20); plt.ylabel(r'$\\mu/\\mu_0$', fontsize=20)\n",
    "plt.legend(loc='upper right', shadow=True); plt.show()\n",
    "\n",
    "print ('volume fraction   simulation\\t Zick & Homsy (1982)')\n",
    "for i in range(np.size(L)):\n",
    "    print ('%1.3f\\t\\t  %1.3f\\t\\t %1.3f\\t'%(phi[i], vv[i], exR[i] ))"
   ]
  },
  {
   "cell_type": "markdown",
   "metadata": {},
   "source": [
    "Thus it can be seen that the optimal choice of $\\xi$ is crucial. Nijboer and De Wette have shown that $\\xi=\\pi^{1/2}/V^{1/3}$ is a good choice for a cubic lattice. This is also the default value in PyStokes. "
   ]
  }
 ],
 "metadata": {
  "kernelspec": {
   "display_name": "Python 3 (ipykernel)",
   "language": "python",
   "name": "python3"
  },
  "language_info": {
   "codemirror_mode": {
    "name": "ipython",
    "version": 3
   },
   "file_extension": ".py",
   "mimetype": "text/x-python",
   "name": "python",
   "nbconvert_exporter": "python",
   "pygments_lexer": "ipython3",
   "version": "3.10.2"
  }
 },
 "nbformat": 4,
 "nbformat_minor": 4
}
