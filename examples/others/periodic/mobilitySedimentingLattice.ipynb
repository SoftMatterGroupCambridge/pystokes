{
 "cells": [
  {
   "cell_type": "markdown",
   "metadata": {},
   "source": [
    "## Mobility of a sedimenting lattice as a function of volume fraction\n"
   ]
  },
  {
   "cell_type": "code",
   "execution_count": 1,
   "metadata": {},
   "outputs": [],
   "source": [
    "%matplotlib inline\n",
    "import matplotlib.pyplot as plt \n",
    "import numpy as np\n",
    "import pystokes, os, sys\n"
   ]
  },
  {
   "cell_type": "code",
   "execution_count": 2,
   "metadata": {},
   "outputs": [
    {
     "data": {
      "image/png": "[encoded data removed]",
      "text/plain": [
       "<Figure size 432x288 with 1 Axes>"
      ]
     },
     "metadata": {
      "needs_background": "light"
     },
     "output_type": "display_data"
    }
   ],
   "source": [
    "#Parameters\n",
    "a, eta, dim = 1.0, 1.0/6, 3\n",
    "Np, Nb, Nm = 1, 1, 6\n",
    "ta =(4*np.pi/3)**(1.0/3) \n",
    "L = ta/np.asarray([0.1, 0.3, 0.4, 0.5, 0.6, 0.7])\n",
    "\n",
    "#Memory allocation\n",
    "v = np.zeros(dim*Np)         \n",
    "r = np.zeros(dim*Np)        \n",
    "F = np.zeros(dim*Np)  \n",
    "vv  = np.zeros(np.size(L))\n",
    "phi = np.zeros(np.size(L) )\n",
    "\n",
    "mu=1.0/(6*np.pi*eta*a)\n",
    "\n",
    "for i in range(np.size(L)):\n",
    "    v = v*0\n",
    "    F = F*0\n",
    "\n",
    "    r[0], r[1], r[2] = 0.0, 0.0, 0.0\n",
    "\n",
    "    ff = pystokes.forceFields.Forces(Np)\n",
    "    ff.sedimentation(F, g=-1)                          \n",
    "    \n",
    "    pRbm = pystokes.periodic.Rbm(a, Np, eta, L[i])   \n",
    "    pRbm.mobilityTT(v, r, F, Nb, Nm)                  \n",
    "    \n",
    "    phi[i] = (4*np.pi*a**3)/(3*L[i]**3)\n",
    "    mu00 = mu*F[2]\n",
    "    vv[i] = v[2]/mu00     \n",
    "\n",
    "exR = [.825, .498, .356, .233, .134, .065]\n",
    "plt.plot(phi, exR, 'd', color=\"#348ABD\", label='Zick and Homsy')\n",
    "plt.plot(phi, vv, 'o', color=\"#A60628\", label='Simulation')\n",
    "\n",
    "plt.xlabel(r'$\\phi$', fontsize=20); plt.ylabel(r'$\\mu/\\mu_0$', fontsize=20)\n",
    "plt.legend(loc='upper right', shadow=True); plt.show()"
   ]
  },
  {
   "cell_type": "code",
   "execution_count": 3,
   "metadata": {},
   "outputs": [
    {
     "name": "stdout",
     "output_type": "stream",
     "text": [
      "volume fraction   simulation\t Zick & Homsy (1982)\n",
      "0.001\t\t  0.825\t\t 0.825\t\n",
      "0.027\t\t  0.499\t\t 0.498\t\n",
      "0.064\t\t  0.360\t\t 0.356\t\n",
      "0.125\t\t  0.246\t\t 0.233\t\n",
      "0.216\t\t  0.162\t\t 0.134\t\n",
      "0.343\t\t  0.114\t\t 0.065\t\n"
     ]
    }
   ],
   "source": [
    "print ('volume fraction   simulation\\t Zick & Homsy (1982)')\n",
    "for i in range(np.size(L)):\n",
    "    print ('%1.3f\\t\\t  %1.3f\\t\\t %1.3f\\t'%(phi[i], vv[i], exR[i] ))"
   ]
  }
 ],
 "metadata": {
  "kernelspec": {
   "display_name": "Python 3",
   "language": "python",
   "name": "python3"
  },
  "language_info": {
   "codemirror_mode": {
    "name": "ipython",
    "version": 3
   },
   "file_extension": ".py",
   "mimetype": "text/x-python",
   "name": "python",
   "nbconvert_exporter": "python",
   "pygments_lexer": "ipython3",
   "version": "3.7.3"
  }
 },
 "nbformat": 4,
 "nbformat_minor": 1
}
