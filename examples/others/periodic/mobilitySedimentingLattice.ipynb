{
 "cells": [
  {
   "cell_type": "markdown",
   "metadata": {},
   "source": [
    "## Mobility of a sedimenting lattice as a function of volume fraction\n"
   ]
  },
  {
   "cell_type": "code",
   "execution_count": 1,
   "metadata": {},
   "outputs": [],
   "source": [
    "%matplotlib inline\n",
    "import matplotlib.pyplot as plt \n",
    "import numpy as np\n",
    "import pystokes, os, sys\n"
   ]
  },
  {
   "cell_type": "code",
   "execution_count": 2,
   "metadata": {},
   "outputs": [],
   "source": [
    "#Parameters\n",
    "Np=1\n",
    "a, eta, dim = 1.0, 1.0/6, 3\n",
    "ta =(4*np.pi/3)**(1.0/3) \n",
    "L = ta/np.asarray([0.1, 0.3, 0.4, 0.5, 0.6, 0.7])\n",
    "\n",
    "# Memory allocation\n",
    "v = np.zeros(dim*Np)         \n",
    "r = np.zeros(dim*Np)        \n",
    "F = np.zeros(dim*Np)  \n",
    "vv  = np.zeros(np.size(L))\n",
    "phi = np.zeros(np.size(L) )\n",
    "\n",
    "mu=1.0/(6*np.pi*eta*a)"
   ]
  },
  {
   "cell_type": "code",
   "execution_count": 3,
   "metadata": {},
   "outputs": [
    {
     "data": {
      "text/plain": [
       "array([16.11991954,  5.37330651,  4.02997989,  3.22398391,  2.68665326,\n",
       "        2.30284565])"
      ]
     },
     "execution_count": 3,
     "metadata": {},
     "output_type": "execute_result"
    }
   ],
   "source": [
    "L"
   ]
  },
  {
   "cell_type": "code",
   "execution_count": 4,
   "metadata": {},
   "outputs": [
    {
     "name": "stdout",
     "output_type": "stream",
     "text": [
      "[ 0.          0.         -0.22019563]\n",
      "[ 0.          0.         -0.10036148]\n",
      "[ 0.          0.         -0.11683878]\n",
      "[ 0.          0.         -0.20971045]\n",
      "[ 0.          0.         -0.39807509]\n",
      "[ 0.          0.         -0.70103129]\n"
     ]
    },
    {
     "data": {
      "image/png": "[encoded data removed]",
      "text/plain": [
       "<Figure size 432x288 with 1 Axes>"
      ]
     },
     "metadata": {
      "needs_background": "light"
     },
     "output_type": "display_data"
    },
    {
     "name": "stdout",
     "output_type": "stream",
     "text": [
      "volume fraction   simulation\t Zick & Homsy (1982)\n",
      "0.001\t\t  0.692\t\t 0.825\t\n",
      "0.027\t\t  0.315\t\t 0.498\t\n",
      "0.064\t\t  0.367\t\t 0.356\t\n",
      "0.125\t\t  0.659\t\t 0.233\t\n",
      "0.216\t\t  1.251\t\t 0.134\t\n",
      "0.343\t\t  2.202\t\t 0.065\t\n"
     ]
    }
   ],
   "source": [
    "# Deafult value of xi = sqrt (pi/L)\n",
    "\n",
    "Nb, Nm = 1, 4   \n",
    "# 2Nb+1 periodic boxes and Nm modes\n",
    "\n",
    "\n",
    "for i in range(np.size(L)):\n",
    "    v = v*0\n",
    "    F = F*0\n",
    "\n",
    "    r[0], r[1], r[2] = 0.0, 0.0, 0.0\n",
    "\n",
    "    ff = pystokes.forceFields.Forces(Np)\n",
    "    ff.sedimentation(F, g=-1)                          \n",
    "    \n",
    "    pRbm = pystokes.periodic.Rbm(a, Np, eta, L[i])#, xi=0.88*np.sqrt(np.pi)/L[i])   \n",
    "    pRbm.mobilityTT(v, r, F, Nb, Nm)      \n",
    "    print(v)\n",
    "    \n",
    "    phi[i] = (4*np.pi*a**3)/(3*L[i]**3)\n",
    "    mu00 = mu*F[2]\n",
    "    vv[i] = v[2]/mu00   \n",
    "    \n",
    "\n",
    "exR = [.825, .498, .356, .233, .134, .065]\n",
    "plt.plot(phi, exR, 'd', color=\"#348ABD\", label='Zick and Homsy')\n",
    "plt.plot(phi, vv, 'o', color=\"#A60628\", label='Simulation')\n",
    "\n",
    "plt.xlabel(r'$\\phi$', fontsize=20); plt.ylabel(r'$\\mu/\\mu_0$', fontsize=20)\n",
    "plt.legend(loc='upper right', shadow=True); plt.show()\n",
    "\n",
    "print ('volume fraction   simulation\\t Zick & Homsy (1982)')\n",
    "for i in range(np.size(L)):\n",
    "    print ('%1.3f\\t\\t  %1.3f\\t\\t %1.3f\\t'%(phi[i], vv[i], exR[i] ))"
   ]
  },
  {
   "cell_type": "code",
   "execution_count": 5,
   "metadata": {},
   "outputs": [
    {
     "data": {
      "image/png": "[encoded data removed]",
      "text/plain": [
       "<Figure size 432x288 with 1 Axes>"
      ]
     },
     "metadata": {
      "needs_background": "light"
     },
     "output_type": "display_data"
    },
    {
     "name": "stdout",
     "output_type": "stream",
     "text": [
      "volume fraction   simulation\t Zick & Homsy (1982)\n",
      "0.001\t\t  0.815\t\t 0.825\t\n",
      "0.027\t\t  0.476\t\t 0.498\t\n",
      "0.064\t\t  0.336\t\t 0.356\t\n",
      "0.125\t\t  0.226\t\t 0.233\t\n",
      "0.216\t\t  0.153\t\t 0.134\t\n",
      "0.343\t\t  0.125\t\t 0.065\t\n"
     ]
    }
   ],
   "source": [
    "# Choose xi = 0.5*sqrt (pi/L)\n",
    "\n",
    "\n",
    "Nb, Nm = 1, 4   \n",
    "# 2Nb+1 periodic boxes and Nm modes\n",
    "\n",
    "\n",
    "for i in range(np.size(L)):\n",
    "    v = v*0\n",
    "    F = F*0\n",
    "\n",
    "    r[0], r[1], r[2] = 0.0, 0.0, 0.0\n",
    "\n",
    "    ff = pystokes.forceFields.Forces(Np)\n",
    "    ff.sedimentation(F, g=-1)                          \n",
    "    \n",
    "    xi = 0.5*np.sqrt(np.pi)/L[i]\n",
    "    pRbm = pystokes.periodic.Rbm(a, Np, eta, L[i], xi)   \n",
    "    pRbm.mobilityTT(v, r, F, Nb, Nm)                  \n",
    "    \n",
    "    phi[i] = (4*np.pi*a**3)/(3*L[i]**3)\n",
    "    mu00 = mu*F[2]\n",
    "    vv[i] = v[2]/mu00   \n",
    "    \n",
    "\n",
    "exR = [.825, .498, .356, .233, .134, .065]\n",
    "plt.plot(phi, exR, 'd', color=\"#348ABD\", label='Zick and Homsy')\n",
    "plt.plot(phi, vv, 'o', color=\"#A60628\", label='Simulation')\n",
    "\n",
    "plt.xlabel(r'$\\phi$', fontsize=20); plt.ylabel(r'$\\mu/\\mu_0$', fontsize=20)\n",
    "plt.legend(loc='upper right', shadow=True); plt.show()\n",
    "\n",
    "print ('volume fraction   simulation\\t Zick & Homsy (1982)')\n",
    "for i in range(np.size(L)):\n",
    "    print ('%1.3f\\t\\t  %1.3f\\t\\t %1.3f\\t'%(phi[i], vv[i], exR[i] ))"
   ]
  },
  {
   "cell_type": "code",
   "execution_count": 6,
   "metadata": {},
   "outputs": [
    {
     "data": {
      "image/png": "[encoded data removed]",
      "text/plain": [
       "<Figure size 432x288 with 1 Axes>"
      ]
     },
     "metadata": {
      "needs_background": "light"
     },
     "output_type": "display_data"
    },
    {
     "name": "stdout",
     "output_type": "stream",
     "text": [
      "volume fraction   simulation\t Zick & Homsy (1982)\n",
      "0.001\t\t  0.769\t\t 0.825\t\n",
      "0.027\t\t  0.883\t\t 0.498\t\n",
      "0.064\t\t  1.517\t\t 0.356\t\n",
      "0.125\t\t  2.729\t\t 0.233\t\n",
      "0.216\t\t  4.662\t\t 0.134\t\n",
      "0.343\t\t  7.460\t\t 0.065\t\n"
     ]
    }
   ],
   "source": [
    "# Choose xi = 2*sqrt (pi/L)\n",
    "\n",
    "\n",
    "Nb, Nm = 1, 4   \n",
    "# 2Nb+1 periodic boxes and Nm modes\n",
    "\n",
    "\n",
    "for i in range(np.size(L)):\n",
    "    v = v*0\n",
    "    F = F*0\n",
    "\n",
    "    r[0], r[1], r[2] = 0.0, 0.0, 0.0\n",
    "\n",
    "    ff = pystokes.forceFields.Forces(Np)\n",
    "    ff.sedimentation(F, g=-1)                          \n",
    "    \n",
    "    xi = 2*np.sqrt(np.pi)/L[i]\n",
    "    pRbm = pystokes.periodic.Rbm(a, Np, eta, L[i])   \n",
    "    pRbm.mobilityTT(v, r, F, Nb, Nm, xi)                  \n",
    "    \n",
    "    phi[i] = (4*np.pi*a**3)/(3*L[i]**3)\n",
    "    mu00 = mu*F[2]\n",
    "    vv[i] = v[2]/mu00   \n",
    "    \n",
    "\n",
    "exR = [.825, .498, .356, .233, .134, .065]\n",
    "plt.plot(phi, exR, 'd', color=\"#348ABD\", label='Zick and Homsy')\n",
    "plt.plot(phi, vv, 'o', color=\"#A60628\", label='Simulation')\n",
    "\n",
    "plt.xlabel(r'$\\phi$', fontsize=20); plt.ylabel(r'$\\mu/\\mu_0$', fontsize=20)\n",
    "plt.legend(loc='upper right', shadow=True); plt.show()\n",
    "\n",
    "print ('volume fraction   simulation\\t Zick & Homsy (1982)')\n",
    "for i in range(np.size(L)):\n",
    "    print ('%1.3f\\t\\t  %1.3f\\t\\t %1.3f\\t'%(phi[i], vv[i], exR[i] ))"
   ]
  },
  {
   "cell_type": "markdown",
   "metadata": {},
   "source": [
    "Thus it can be seen that the optimal choice of $\\xi$ is crucial. Nijboer and De Wette have shown that $\\xi=\\pi^{1/2}/V^{1/3}$ is a good choice for a cubic lattice. This is also the default value in PyStokes. "
   ]
  }
 ],
 "metadata": {
  "kernelspec": {
   "display_name": "Python 3 (ipykernel)",
   "language": "python",
   "name": "python3"
  },
  "language_info": {
   "codemirror_mode": {
    "name": "ipython",
    "version": 3
   },
   "file_extension": ".py",
   "mimetype": "text/x-python",
   "name": "python",
   "nbconvert_exporter": "python",
   "pygments_lexer": "ipython3",
   "version": "3.10.2"
  }
 },
 "nbformat": 4,
 "nbformat_minor": 4
}
