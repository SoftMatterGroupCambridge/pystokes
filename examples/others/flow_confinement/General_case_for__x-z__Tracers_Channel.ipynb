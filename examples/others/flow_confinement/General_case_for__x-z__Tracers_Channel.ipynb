{
 "cells": [
  {
   "cell_type": "markdown",
   "metadata": {},
   "source": [
    "## General case for (x-z) Tracers Channel "
   ]
  },
  {
   "cell_type": "code",
   "execution_count": 1,
   "metadata": {},
   "outputs": [],
   "source": [
    "#e.g. Np = 6 (source, wall, wall, tracer)"
   ]
  },
  {
   "cell_type": "code",
   "execution_count": 2,
   "metadata": {},
   "outputs": [],
   "source": [
    "import numpy as np\n",
    "import matplotlib.pyplot as plt\n",
    "import matplotlib as mpl\n",
    "import pystokes"
   ]
  },
  {
   "cell_type": "code",
   "execution_count": 3,
   "metadata": {},
   "outputs": [],
   "source": [
    "b = 1    # radius\n",
    "Np = 4    # # particles: source, (Np-2)*wall, tracer \n",
    "eta = 1\n",
    "wRbm = pystokes.wallBounded.Rbm(b, Np, eta)\n",
    "ff = pystokes.forceFields.Forces(Np)"
   ]
  },
  {
   "cell_type": "code",
   "execution_count": 4,
   "metadata": {},
   "outputs": [],
   "source": [
    "def tracerTraj(r, F, dt, Nt):\n",
    "    'code to compute tracer velocity'\n",
    "    v = np.zeros(3*Np)\n",
    "    xt = np.zeros(Nt)\n",
    "    yt = np.zeros(Nt)\n",
    "    zt = np.zeros(Nt)\n",
    "    xt[0] = r[Np   - 1] #tracer x component\n",
    "    yt[0] = r[2*Np - 1] #tracer y component\n",
    "    zt[0] = r[3*Np - 1] #tracer z component \n",
    "\n",
    "    lje, ljr, wlje, wljr = 1, 2.2, 1, .5 #lennardJones parameters \n",
    "    for i in range(Nt-1):\n",
    "        ff.lennardJonesWall(F, r, lje, ljr, wlje, wljr)\n",
    "        wRbm.mobilityTT(v, r, F)\n",
    "        xt[i+1] = xt[i] + dt*v[Np   - 1]  #x old pos + speed*time at position \n",
    "        yt[i+1] = yt[i] + dt*v[2*Np - 1]  \n",
    "        zt[i+1] = zt[i] + dt*v[3*Np - 1]  \n",
    "        ## force at each time step\n",
    "        r[Np  -1] = xt[i+1]\n",
    "        r[2*Np  -1] = yt[i+1]\n",
    "        r[3*Np -1] = zt[i+1]\n",
    "\n",
    "        # resettting\n",
    "        v = v*0\n",
    "        F = F*0\n",
    "        F[(2*Np):((3*Np)-1)] = f0  #z component of source and walls  \n",
    "        \n",
    "    return xt, yt, zt\n"
   ]
  },
  {
   "cell_type": "markdown",
   "metadata": {},
   "source": [
    "## Tracers x-z"
   ]
  },
  {
   "cell_type": "code",
   "execution_count": 5,
   "metadata": {},
   "outputs": [
    {
     "data": {
      "image/png": "[encoded data removed]",
      "text/plain": [
       "<Figure size 432x288 with 1 Axes>"
      ]
     },
     "metadata": {
      "needs_background": "light"
     },
     "output_type": "display_data"
    }
   ],
   "source": [
    "dt, Nt = 1, 10000\n",
    "r = np.zeros(3*Np)\n",
    "F = np.zeros(3*Np)\n",
    "wl, h, f0 = 10, 1.2, 10\n",
    "\n",
    "# first tracer\n",
    "for i in range (1, ((Np//2))): #1,2,3\n",
    "    r[i]= i*wl\n",
    "    r[i+((Np-2)//2)]=-i*wl   #1+2\n",
    "    \n",
    "r[0]= 0 #source x \n",
    "r[Np:2*Np] = 0 #all y components zero \n",
    "r[2*Np:(3*Np)-1] = h\n",
    " \n",
    "r[Np-1], r[(2*Np)-1], r[(3*Np)-1] = 2, 0, h   #modify starting position of tracer 1 \n",
    "\n",
    "F[2*Np:((3*Np)-1)] = f0 #trap force in z \n",
    "xt1, yt1, zt1 = tracerTraj(r, F, dt, Nt)\n",
    "\n",
    "\n",
    "#second tracer\n",
    "for i in range (1, ((Np//2))): #1,2,3\n",
    "    r[i]= i*wl\n",
    "    r[i+((Np-2)//2)]=-i*wl   #1+2\n",
    "\n",
    "r[0]= 0\n",
    "r[Np:2*Np] = 0\n",
    "r[2*Np:(3*Np)-1] = h\n",
    "\n",
    "r[Np-1], r[(2*Np)-1], r[(3*Np)-1] = -2, 0, h   #modify starting position of tracer 2 \n",
    "\n",
    "F[2*Np:((3*Np)-1)] = f0 #trap force in z\n",
    "xt2, yt2, zt2 = tracerTraj(r, F, dt, Nt)\n",
    "\n",
    "##plot\n",
    "L = (((Np-2)/2)*wl)   #Np =4\n",
    "yll = np.linspace(0, 10, 16)\n",
    "for i in range(-((Np//2)+1),((Np//2)+2),2):  \n",
    "    if i == 0:\n",
    "        continue\n",
    "    plt.plot(i*wl*0.5+(yll*0), yll, 'k--', lw=2)\n",
    "    \n",
    "plt.plot(xt1[0], zt1[0], 'ro', ms=10, label='tracer 1, t=0') \n",
    "plt.plot(xt1, zt1, 'r-', label='tracer 1')\n",
    "plt.plot(xt2[0], zt2[0], 'go', ms=10, label='tracer 2, t=0')\n",
    "plt.plot(xt2, zt2, 'g-', label='tracer 2')\n",
    "plt.plot(r[0], r[2*Np], 'o', ms=12, label='source')\n",
    "for i in range(1, (Np-1)):  \n",
    "    plt.plot(r[i], r[(2*Np)+1], 'o', ms=12, label ='wall')\n",
    "\n",
    "plt.legend(prop={'size': 8}); plt.ylim([0, 10]); plt.xlim([-L,L])\n",
    "plt.legend(bbox_to_anchor=(1.04,1), loc=\"upper left\")\n",
    "plt.xlabel(r'$x/a$', fontsize=20); plt.ylabel(r'$z/a$', fontsize=20);"
   ]
  }
 ],
 "metadata": {
  "kernelspec": {
   "display_name": "Python 3",
   "language": "python",
   "name": "python3"
  },
  "language_info": {
   "codemirror_mode": {
    "name": "ipython",
    "version": 3
   },
   "file_extension": ".py",
   "mimetype": "text/x-python",
   "name": "python",
   "nbconvert_exporter": "python",
   "pygments_lexer": "ipython3",
   "version": "3.7.3"
  }
 },
 "nbformat": 4,
 "nbformat_minor": 2
}
