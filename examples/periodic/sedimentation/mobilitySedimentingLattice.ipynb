{
 "cells": [
  {
   "cell_type": "markdown",
   "metadata": {},
   "source": [
    "## Mobility of a sedimenting lattice as a function of volume fraction\n"
   ]
  },
  {
   "cell_type": "code",
   "execution_count": 16,
   "metadata": {
    "collapsed": false
   },
   "outputs": [],
   "source": [
    "%matplotlib inline\n",
    "from __future__ import division\n",
    "import matplotlib.pyplot as plt \n",
    "import numpy as np\n",
    "import pystokes, os, sys\n",
    "import pyforces"
   ]
  },
  {
   "cell_type": "code",
   "execution_count": 19,
   "metadata": {
    "collapsed": false
   },
   "outputs": [
    {
     "data": {
      "image/png": "[encoded data removed]",
      "text/plain": [
       "<matplotlib.figure.Figure at 0x7f341088fbd0>"
      ]
     },
     "metadata": {},
     "output_type": "display_data"
    }
   ],
   "source": [
    "#Parameters\n",
    "a, eta, dim = 1.0, 1.0/6, 3\n",
    "Np, Nb, Nm = 1, 1, 6\n",
    "ta =(4*np.pi/3)**(1.0/3) \n",
    "L = ta/np.asarray([0.1, 0.3, 0.4, 0.5, 0.6, 0.7])\n",
    "\n",
    "#Memory allocation\n",
    "v = np.zeros(dim*Np)         \n",
    "r = np.zeros(dim*Np)        \n",
    "F = np.zeros(dim*Np)  \n",
    "vv  = np.zeros(np.size(L))\n",
    "phi = np.zeros(np.size(L) )\n",
    "\n",
    "mu=1.0/(6*np.pi*eta*a)\n",
    "\n",
    "for i in range(np.size(L)):\n",
    "    v = v*0\n",
    "    F = F*0\n",
    "\n",
    "    r[0], r[1], r[2] = 0.0, 0.0, 0.0\n",
    "\n",
    "    ff = pyforces.forceFields.Forces(Np)\n",
    "    ff.sedimentation(F, g=-1)                          \n",
    "    \n",
    "    pRbm = pystokes.periodic.Rbm(a, Np, eta, L[i])   \n",
    "    pRbm.stokesletV(v, r, F, Nb, Nm)                  \n",
    "    \n",
    "    phi[i] = (4*np.pi*a**3)/(3*L[i]**3)\n",
    "    mu00 = mu*F[2]\n",
    "    vv[i] = v[2]/mu00     \n",
    "\n",
    "\n",
    "exR = [.8251, .4980, .3559, .2330, .1344, .06494]\n",
    "plt.plot(phi, exR, 'd', color=\"#348ABD\", label='Zick and Homsy')\n",
    "plt.plot(phi, vv, 'o', color=\"#A60628\", label='Simulation')\n",
    "plt.xlabel(r'$\\phi$', fontsize=20)\n",
    "#plt.xlim(0.01, np.max(phi**(1.0/3)))\n",
    "plt.ylabel(r'$\\mu/\\mu_0$', fontsize=20)\n",
    "plt.legend(loc='upper right', shadow=True)\n",
    "plt.show()"
   ]
  },
  {
   "cell_type": "code",
   "execution_count": 20,
   "metadata": {
    "collapsed": false
   },
   "outputs": [
    {
     "name": "stdout",
     "output_type": "stream",
     "text": [
      "volume fraction   simulation\t Zick & Homsy (1982)\n",
      "1.0000e-03\t  8.2498e-01\t 8.2510e-01\t\n",
      "2.7000e-02\t  4.9915e-01\t 4.9800e-01\t\n",
      "6.4000e-02\t  3.6046e-01\t 3.5590e-01\t\n",
      "1.2500e-01\t  2.4598e-01\t 2.3300e-01\t\n",
      "2.1600e-01\t  1.6178e-01\t 1.3440e-01\t\n",
      "3.4300e-01\t  1.1390e-01\t 6.4940e-02\t\n"
     ]
    }
   ],
   "source": [
    "print 'volume fraction   simulation\\t Zick & Homsy (1982)'\n",
    "for i in range(np.size(L)):\n",
    "    print ('%2.4e\\t  %2.4e\\t %2.4e\\t'%(phi[i], vv[i], exR[i] ))"
   ]
  }
 ],
 "metadata": {
  "kernelspec": {
   "display_name": "Python [Root]",
   "language": "python",
   "name": "Python [Root]"
  },
  "language_info": {
   "codemirror_mode": {
    "name": "ipython",
    "version": 2
   },
   "file_extension": ".py",
   "mimetype": "text/x-python",
   "name": "python",
   "nbconvert_exporter": "python",
   "pygments_lexer": "ipython2",
   "version": "2.7.12"
  }
 },
 "nbformat": 4,
 "nbformat_minor": 0
}
